{
 "cells": [
  {
   "cell_type": "markdown",
   "metadata": {
    "id": "XXnAWfa-X0Dt",
    "toc": true
   },
   "source": [
    "<h1>Содержание<span class=\"tocSkip\"></span></h1>\n",
    "<div class=\"toc\"><ul class=\"toc-item\"><li><span><a href=\"#Подготовка\" data-toc-modified-id=\"Подготовка-1\"><span class=\"toc-item-num\">1&nbsp;&nbsp;</span>Подготовка</a></span><ul class=\"toc-item\"><li><span><a href=\"#Предобработка-данных\" data-toc-modified-id=\"Предобработка-данных-1.1\"><span class=\"toc-item-num\">1.1&nbsp;&nbsp;</span>Предобработка данных</a></span></li><li><span><a href=\"#Разделение-данных-на-выборки\" data-toc-modified-id=\"Разделение-данных-на-выборки-1.2\"><span class=\"toc-item-num\">1.2&nbsp;&nbsp;</span>Разделение данных на выборки</a></span></li><li><span><a href=\"#Ресемплирование\" data-toc-modified-id=\"Ресемплирование-1.3\"><span class=\"toc-item-num\">1.3&nbsp;&nbsp;</span>Ресемплирование</a></span></li></ul></li><li><span><a href=\"#Обучение\" data-toc-modified-id=\"Обучение-2\"><span class=\"toc-item-num\">2&nbsp;&nbsp;</span>Обучение</a></span><ul class=\"toc-item\"><li><span><a href=\"#LogisticRegression\" data-toc-modified-id=\"LogisticRegression-2.1\"><span class=\"toc-item-num\">2.1&nbsp;&nbsp;</span>LogisticRegression</a></span><ul class=\"toc-item\"><li><span><a href=\"#Дисбаланс-целевого-признака\" data-toc-modified-id=\"Дисбаланс-целевого-признака-2.1.1\"><span class=\"toc-item-num\">2.1.1&nbsp;&nbsp;</span>Дисбаланс целевого признака</a></span></li><li><span><a href=\"#Сбалансированный-целевой-признак\" data-toc-modified-id=\"Сбалансированный-целевой-признак-2.1.2\"><span class=\"toc-item-num\">2.1.2&nbsp;&nbsp;</span>Сбалансированный целевой признак</a></span></li><li><span><a href=\"#Уменьшение-класса-0\" data-toc-modified-id=\"Уменьшение-класса-0-2.1.3\"><span class=\"toc-item-num\">2.1.3&nbsp;&nbsp;</span>Уменьшение класса 0</a></span></li></ul></li><li><span><a href=\"#DecisionTreeClassifier\" data-toc-modified-id=\"DecisionTreeClassifier-2.2\"><span class=\"toc-item-num\">2.2&nbsp;&nbsp;</span>DecisionTreeClassifier</a></span><ul class=\"toc-item\"><li><span><a href=\"#Дисбаланс-целевого-признака\" data-toc-modified-id=\"Дисбаланс-целевого-признака-2.2.1\"><span class=\"toc-item-num\">2.2.1&nbsp;&nbsp;</span>Дисбаланс целевого признака</a></span></li><li><span><a href=\"#Сбалансированный-целевой-признак\" data-toc-modified-id=\"Сбалансированный-целевой-признак-2.2.2\"><span class=\"toc-item-num\">2.2.2&nbsp;&nbsp;</span>Сбалансированный целевой признак</a></span></li><li><span><a href=\"#Уменьшение-класса-0\" data-toc-modified-id=\"Уменьшение-класса-0-2.2.3\"><span class=\"toc-item-num\">2.2.3&nbsp;&nbsp;</span>Уменьшение класса 0</a></span></li></ul></li><li><span><a href=\"#CatBoostClassifier\" data-toc-modified-id=\"CatBoostClassifier-2.3\"><span class=\"toc-item-num\">2.3&nbsp;&nbsp;</span>CatBoostClassifier</a></span><ul class=\"toc-item\"><li><span><a href=\"#Дисбаланс-целевого-признака\" data-toc-modified-id=\"Дисбаланс-целевого-признака-2.3.1\"><span class=\"toc-item-num\">2.3.1&nbsp;&nbsp;</span>Дисбаланс целевого признака</a></span></li><li><span><a href=\"#Сбалансированный-целевой-признак\" data-toc-modified-id=\"Сбалансированный-целевой-признак-2.3.2\"><span class=\"toc-item-num\">2.3.2&nbsp;&nbsp;</span>Сбалансированный целевой признак</a></span></li><li><span><a href=\"#Уменьшение-класса-0\" data-toc-modified-id=\"Уменьшение-класса-0-2.3.3\"><span class=\"toc-item-num\">2.3.3&nbsp;&nbsp;</span>Уменьшение класса 0</a></span></li><li><span><a href=\"#Обобщение-результатов\" data-toc-modified-id=\"Обобщение-результатов-2.3.4\"><span class=\"toc-item-num\">2.3.4&nbsp;&nbsp;</span>Обобщение результатов</a></span></li><li><span><a href=\"#Проверка-на-тестовых-данных\" data-toc-modified-id=\"Проверка-на-тестовых-данных-2.3.5\"><span class=\"toc-item-num\">2.3.5&nbsp;&nbsp;</span>Проверка на тестовых данных</a></span></li></ul></li></ul></li><li><span><a href=\"#Выводы\" data-toc-modified-id=\"Выводы-3\"><span class=\"toc-item-num\">3&nbsp;&nbsp;</span>Выводы</a></span></li></ul></div>"
   ]
  },
  {
   "cell_type": "markdown",
   "metadata": {
    "id": "-ZHXNY3IX0Du"
   },
   "source": [
    "# Проект для «Викишоп»"
   ]
  },
  {
   "cell_type": "markdown",
   "metadata": {
    "id": "Gv6TI8nrX0Du"
   },
   "source": [
    "Интернет-магазин «Викишоп» запускает новый сервис. Теперь пользователи могут редактировать и дополнять описания товаров, как в вики-сообществах. То есть клиенты предлагают свои правки и комментируют изменения других. Магазину нужен инструмент, который будет искать токсичные комментарии и отправлять их на модерацию.\n",
    "\n",
    "Обучите модель классифицировать комментарии на позитивные и негативные. В вашем распоряжении набор данных с разметкой о токсичности правок.\n",
    "\n",
    "Постройте модель со значением метрики качества *F1* не меньше 0.75.\n",
    "\n",
    "**Инструкция по выполнению проекта**\n",
    "\n",
    "1. Загрузите и подготовьте данные.\n",
    "2. Обучите разные модели.\n",
    "3. Сделайте выводы.\n",
    "\n",
    "Для выполнения проекта применять *BERT* необязательно, но вы можете попробовать.\n",
    "\n",
    "**Описание данных**\n",
    "\n",
    "Данные находятся в файле `toxic_comments.csv`. Столбец *text* в нём содержит текст комментария, а *toxic* — целевой признак."
   ]
  },
  {
   "cell_type": "code",
   "execution_count": 3,
   "metadata": {
    "colab": {
     "base_uri": "https://localhost:8080/"
    },
    "id": "76d3ndaLX0Dw",
    "outputId": "e51b3c21-55e3-4ae3-cc37-18aa0de54160"
   },
   "outputs": [
    {
     "name": "stderr",
     "output_type": "stream",
     "text": [
      "[nltk_data] Downloading package stopwords to /root/nltk_data...\n",
      "[nltk_data]   Unzipping corpora/stopwords.zip.\n",
      "[nltk_data] Downloading package wordnet to /root/nltk_data...\n",
      "[nltk_data] Downloading package omw-1.4 to /root/nltk_data...\n"
     ]
    }
   ],
   "source": [
    "import nltk\n",
    "import re\n",
    "import spacy\n",
    "import time\n",
    "import warnings\n",
    "\n",
    "import matplotlib.pyplot as plt\n",
    "import numpy as np\n",
    "import pandas as pd\n",
    "import seaborn as sns\n",
    "\n",
    "from catboost import CatBoostClassifier\n",
    "\n",
    "from nltk.corpus import stopwords as nltk_stopwords\n",
    "\n",
    "from prettytable import PrettyTable\n",
    "\n",
    "from sklearn.feature_extraction.text import TfidfVectorizer\n",
    "from sklearn.linear_model import LogisticRegression\n",
    "from sklearn.metrics import f1_score, roc_auc_score, roc_curve\n",
    "from sklearn.model_selection import train_test_split, GridSearchCV\n",
    "from sklearn.tree import DecisionTreeClassifier\n",
    "\n",
    "from tqdm import tqdm\n",
    "\n",
    "warnings.filterwarnings('ignore')\n",
    "nltk.download('stopwords')\n",
    "nltk.download('wordnet')\n",
    "nltk.download('omw-1.4')\n",
    "\n",
    "\n",
    "from imblearn.pipeline import Pipeline\n",
    "from imblearn.over_sampling import SMOTE"
   ]
  },
  {
   "cell_type": "markdown",
   "metadata": {
    "id": "OXmu3AQQX0Dw"
   },
   "source": [
    "## Подготовка"
   ]
  },
  {
   "cell_type": "code",
   "execution_count": 4,
   "metadata": {
    "id": "N4VMF2DlX0Dx"
   },
   "outputs": [],
   "source": [
    "try:\n",
    "    df = pd.read_csv('/datasets/toxic_comments.csv')\n",
    "except:\n",
    "    df = pd.read_csv('https://code.s3.yandex.net/datasets/toxic_comments.csv')"
   ]
  },
  {
   "cell_type": "code",
   "execution_count": 5,
   "metadata": {
    "colab": {
     "base_uri": "https://localhost:8080/"
    },
    "id": "790Rp3exX0Dx",
    "outputId": "1fd2cd5d-82f7-4c1a-b42d-84b703ed5b71"
   },
   "outputs": [
    {
     "name": "stdout",
     "output_type": "stream",
     "text": [
      "<class 'pandas.core.frame.DataFrame'>\n",
      "RangeIndex: 159292 entries, 0 to 159291\n",
      "Data columns (total 3 columns):\n",
      " #   Column      Non-Null Count   Dtype \n",
      "---  ------      --------------   ----- \n",
      " 0   Unnamed: 0  159292 non-null  int64 \n",
      " 1   text        159292 non-null  object\n",
      " 2   toxic       159292 non-null  int64 \n",
      "dtypes: int64(2), object(1)\n",
      "memory usage: 3.6+ MB\n"
     ]
    }
   ],
   "source": [
    "df.info()"
   ]
  },
  {
   "cell_type": "code",
   "execution_count": 6,
   "metadata": {
    "colab": {
     "base_uri": "https://localhost:8080/",
     "height": 206
    },
    "id": "ISSnSlfvX0Dx",
    "outputId": "42dbc79d-ca90-48b7-87ea-f2387ccbb95d"
   },
   "outputs": [
    {
     "data": {
      "text/html": [
       "\n",
       "  <div id=\"df-b3a8d8c3-b01f-49f6-8818-9817223fa3f0\" class=\"colab-df-container\">\n",
       "    <div>\n",
       "<style scoped>\n",
       "    .dataframe tbody tr th:only-of-type {\n",
       "        vertical-align: middle;\n",
       "    }\n",
       "\n",
       "    .dataframe tbody tr th {\n",
       "        vertical-align: top;\n",
       "    }\n",
       "\n",
       "    .dataframe thead th {\n",
       "        text-align: right;\n",
       "    }\n",
       "</style>\n",
       "<table border=\"1\" class=\"dataframe\">\n",
       "  <thead>\n",
       "    <tr style=\"text-align: right;\">\n",
       "      <th></th>\n",
       "      <th>Unnamed: 0</th>\n",
       "      <th>text</th>\n",
       "      <th>toxic</th>\n",
       "    </tr>\n",
       "  </thead>\n",
       "  <tbody>\n",
       "    <tr>\n",
       "      <th>47595</th>\n",
       "      <td>47650</td>\n",
       "      <td>\"\\n\\n Thanks! \\n\\nI have apologized to Dr. Dec...</td>\n",
       "      <td>0</td>\n",
       "    </tr>\n",
       "    <tr>\n",
       "      <th>352</th>\n",
       "      <td>352</td>\n",
       "      <td>\"\\nIn general, the outside sourcing should exc...</td>\n",
       "      <td>0</td>\n",
       "    </tr>\n",
       "    <tr>\n",
       "      <th>15660</th>\n",
       "      <td>15677</td>\n",
       "      <td>-\\nMuch of the information here is nonsense wh...</td>\n",
       "      <td>0</td>\n",
       "    </tr>\n",
       "    <tr>\n",
       "      <th>91486</th>\n",
       "      <td>91577</td>\n",
       "      <td>Last time someone already told you. Vietnamese...</td>\n",
       "      <td>0</td>\n",
       "    </tr>\n",
       "    <tr>\n",
       "      <th>97917</th>\n",
       "      <td>98011</td>\n",
       "      <td>Filmography &amp; Jessica Lange Page (In General)\\...</td>\n",
       "      <td>0</td>\n",
       "    </tr>\n",
       "  </tbody>\n",
       "</table>\n",
       "</div>\n",
       "    <div class=\"colab-df-buttons\">\n",
       "\n",
       "  <div class=\"colab-df-container\">\n",
       "    <button class=\"colab-df-convert\" onclick=\"convertToInteractive('df-b3a8d8c3-b01f-49f6-8818-9817223fa3f0')\"\n",
       "            title=\"Convert this dataframe to an interactive table.\"\n",
       "            style=\"display:none;\">\n",
       "\n",
       "  <svg xmlns=\"http://www.w3.org/2000/svg\" height=\"24px\" viewBox=\"0 -960 960 960\">\n",
       "    <path d=\"M120-120v-720h720v720H120Zm60-500h600v-160H180v160Zm220 220h160v-160H400v160Zm0 220h160v-160H400v160ZM180-400h160v-160H180v160Zm440 0h160v-160H620v160ZM180-180h160v-160H180v160Zm440 0h160v-160H620v160Z\"/>\n",
       "  </svg>\n",
       "    </button>\n",
       "\n",
       "  <style>\n",
       "    .colab-df-container {\n",
       "      display:flex;\n",
       "      gap: 12px;\n",
       "    }\n",
       "\n",
       "    .colab-df-convert {\n",
       "      background-color: #E8F0FE;\n",
       "      border: none;\n",
       "      border-radius: 50%;\n",
       "      cursor: pointer;\n",
       "      display: none;\n",
       "      fill: #1967D2;\n",
       "      height: 32px;\n",
       "      padding: 0 0 0 0;\n",
       "      width: 32px;\n",
       "    }\n",
       "\n",
       "    .colab-df-convert:hover {\n",
       "      background-color: #E2EBFA;\n",
       "      box-shadow: 0px 1px 2px rgba(60, 64, 67, 0.3), 0px 1px 3px 1px rgba(60, 64, 67, 0.15);\n",
       "      fill: #174EA6;\n",
       "    }\n",
       "\n",
       "    .colab-df-buttons div {\n",
       "      margin-bottom: 4px;\n",
       "    }\n",
       "\n",
       "    [theme=dark] .colab-df-convert {\n",
       "      background-color: #3B4455;\n",
       "      fill: #D2E3FC;\n",
       "    }\n",
       "\n",
       "    [theme=dark] .colab-df-convert:hover {\n",
       "      background-color: #434B5C;\n",
       "      box-shadow: 0px 1px 3px 1px rgba(0, 0, 0, 0.15);\n",
       "      filter: drop-shadow(0px 1px 2px rgba(0, 0, 0, 0.3));\n",
       "      fill: #FFFFFF;\n",
       "    }\n",
       "  </style>\n",
       "\n",
       "    <script>\n",
       "      const buttonEl =\n",
       "        document.querySelector('#df-b3a8d8c3-b01f-49f6-8818-9817223fa3f0 button.colab-df-convert');\n",
       "      buttonEl.style.display =\n",
       "        google.colab.kernel.accessAllowed ? 'block' : 'none';\n",
       "\n",
       "      async function convertToInteractive(key) {\n",
       "        const element = document.querySelector('#df-b3a8d8c3-b01f-49f6-8818-9817223fa3f0');\n",
       "        const dataTable =\n",
       "          await google.colab.kernel.invokeFunction('convertToInteractive',\n",
       "                                                    [key], {});\n",
       "        if (!dataTable) return;\n",
       "\n",
       "        const docLinkHtml = 'Like what you see? Visit the ' +\n",
       "          '<a target=\"_blank\" href=https://colab.research.google.com/notebooks/data_table.ipynb>data table notebook</a>'\n",
       "          + ' to learn more about interactive tables.';\n",
       "        element.innerHTML = '';\n",
       "        dataTable['output_type'] = 'display_data';\n",
       "        await google.colab.output.renderOutput(dataTable, element);\n",
       "        const docLink = document.createElement('div');\n",
       "        docLink.innerHTML = docLinkHtml;\n",
       "        element.appendChild(docLink);\n",
       "      }\n",
       "    </script>\n",
       "  </div>\n",
       "\n",
       "\n",
       "<div id=\"df-296c6ff8-bcc4-4a3d-b0e1-5f5d3576e8af\">\n",
       "  <button class=\"colab-df-quickchart\" onclick=\"quickchart('df-296c6ff8-bcc4-4a3d-b0e1-5f5d3576e8af')\"\n",
       "            title=\"Suggest charts\"\n",
       "            style=\"display:none;\">\n",
       "\n",
       "<svg xmlns=\"http://www.w3.org/2000/svg\" height=\"24px\"viewBox=\"0 0 24 24\"\n",
       "     width=\"24px\">\n",
       "    <g>\n",
       "        <path d=\"M19 3H5c-1.1 0-2 .9-2 2v14c0 1.1.9 2 2 2h14c1.1 0 2-.9 2-2V5c0-1.1-.9-2-2-2zM9 17H7v-7h2v7zm4 0h-2V7h2v10zm4 0h-2v-4h2v4z\"/>\n",
       "    </g>\n",
       "</svg>\n",
       "  </button>\n",
       "\n",
       "<style>\n",
       "  .colab-df-quickchart {\n",
       "      --bg-color: #E8F0FE;\n",
       "      --fill-color: #1967D2;\n",
       "      --hover-bg-color: #E2EBFA;\n",
       "      --hover-fill-color: #174EA6;\n",
       "      --disabled-fill-color: #AAA;\n",
       "      --disabled-bg-color: #DDD;\n",
       "  }\n",
       "\n",
       "  [theme=dark] .colab-df-quickchart {\n",
       "      --bg-color: #3B4455;\n",
       "      --fill-color: #D2E3FC;\n",
       "      --hover-bg-color: #434B5C;\n",
       "      --hover-fill-color: #FFFFFF;\n",
       "      --disabled-bg-color: #3B4455;\n",
       "      --disabled-fill-color: #666;\n",
       "  }\n",
       "\n",
       "  .colab-df-quickchart {\n",
       "    background-color: var(--bg-color);\n",
       "    border: none;\n",
       "    border-radius: 50%;\n",
       "    cursor: pointer;\n",
       "    display: none;\n",
       "    fill: var(--fill-color);\n",
       "    height: 32px;\n",
       "    padding: 0;\n",
       "    width: 32px;\n",
       "  }\n",
       "\n",
       "  .colab-df-quickchart:hover {\n",
       "    background-color: var(--hover-bg-color);\n",
       "    box-shadow: 0 1px 2px rgba(60, 64, 67, 0.3), 0 1px 3px 1px rgba(60, 64, 67, 0.15);\n",
       "    fill: var(--button-hover-fill-color);\n",
       "  }\n",
       "\n",
       "  .colab-df-quickchart-complete:disabled,\n",
       "  .colab-df-quickchart-complete:disabled:hover {\n",
       "    background-color: var(--disabled-bg-color);\n",
       "    fill: var(--disabled-fill-color);\n",
       "    box-shadow: none;\n",
       "  }\n",
       "\n",
       "  .colab-df-spinner {\n",
       "    border: 2px solid var(--fill-color);\n",
       "    border-color: transparent;\n",
       "    border-bottom-color: var(--fill-color);\n",
       "    animation:\n",
       "      spin 1s steps(1) infinite;\n",
       "  }\n",
       "\n",
       "  @keyframes spin {\n",
       "    0% {\n",
       "      border-color: transparent;\n",
       "      border-bottom-color: var(--fill-color);\n",
       "      border-left-color: var(--fill-color);\n",
       "    }\n",
       "    20% {\n",
       "      border-color: transparent;\n",
       "      border-left-color: var(--fill-color);\n",
       "      border-top-color: var(--fill-color);\n",
       "    }\n",
       "    30% {\n",
       "      border-color: transparent;\n",
       "      border-left-color: var(--fill-color);\n",
       "      border-top-color: var(--fill-color);\n",
       "      border-right-color: var(--fill-color);\n",
       "    }\n",
       "    40% {\n",
       "      border-color: transparent;\n",
       "      border-right-color: var(--fill-color);\n",
       "      border-top-color: var(--fill-color);\n",
       "    }\n",
       "    60% {\n",
       "      border-color: transparent;\n",
       "      border-right-color: var(--fill-color);\n",
       "    }\n",
       "    80% {\n",
       "      border-color: transparent;\n",
       "      border-right-color: var(--fill-color);\n",
       "      border-bottom-color: var(--fill-color);\n",
       "    }\n",
       "    90% {\n",
       "      border-color: transparent;\n",
       "      border-bottom-color: var(--fill-color);\n",
       "    }\n",
       "  }\n",
       "</style>\n",
       "\n",
       "  <script>\n",
       "    async function quickchart(key) {\n",
       "      const quickchartButtonEl =\n",
       "        document.querySelector('#' + key + ' button');\n",
       "      quickchartButtonEl.disabled = true;  // To prevent multiple clicks.\n",
       "      quickchartButtonEl.classList.add('colab-df-spinner');\n",
       "      try {\n",
       "        const charts = await google.colab.kernel.invokeFunction(\n",
       "            'suggestCharts', [key], {});\n",
       "      } catch (error) {\n",
       "        console.error('Error during call to suggestCharts:', error);\n",
       "      }\n",
       "      quickchartButtonEl.classList.remove('colab-df-spinner');\n",
       "      quickchartButtonEl.classList.add('colab-df-quickchart-complete');\n",
       "    }\n",
       "    (() => {\n",
       "      let quickchartButtonEl =\n",
       "        document.querySelector('#df-296c6ff8-bcc4-4a3d-b0e1-5f5d3576e8af button');\n",
       "      quickchartButtonEl.style.display =\n",
       "        google.colab.kernel.accessAllowed ? 'block' : 'none';\n",
       "    })();\n",
       "  </script>\n",
       "</div>\n",
       "    </div>\n",
       "  </div>\n"
      ],
      "text/plain": [
       "       Unnamed: 0                                               text  toxic\n",
       "47595       47650  \"\\n\\n Thanks! \\n\\nI have apologized to Dr. Dec...      0\n",
       "352           352  \"\\nIn general, the outside sourcing should exc...      0\n",
       "15660       15677  -\\nMuch of the information here is nonsense wh...      0\n",
       "91486       91577  Last time someone already told you. Vietnamese...      0\n",
       "97917       98011  Filmography & Jessica Lange Page (In General)\\...      0"
      ]
     },
     "execution_count": 6,
     "metadata": {},
     "output_type": "execute_result"
    }
   ],
   "source": [
    "df.sample(5)"
   ]
  },
  {
   "cell_type": "code",
   "execution_count": 7,
   "metadata": {
    "colab": {
     "base_uri": "https://localhost:8080/"
    },
    "id": "4azcalgpX0Dy",
    "outputId": "06ca8fc9-88c4-4079-e807-7eefad381c2c"
   },
   "outputs": [
    {
     "data": {
      "text/plain": [
       "Unnamed: 0    0\n",
       "text          0\n",
       "toxic         0\n",
       "dtype: int64"
      ]
     },
     "execution_count": 7,
     "metadata": {},
     "output_type": "execute_result"
    }
   ],
   "source": [
    "df.isnull().sum()"
   ]
  },
  {
   "cell_type": "code",
   "execution_count": 8,
   "metadata": {
    "colab": {
     "base_uri": "https://localhost:8080/"
    },
    "id": "vfrPK-foX0Dz",
    "outputId": "932a4077-e10a-43f7-863f-99fcb2b4dca9"
   },
   "outputs": [
    {
     "data": {
      "text/plain": [
       "Unnamed: 0    0\n",
       "text          0\n",
       "toxic         0\n",
       "dtype: int64"
      ]
     },
     "execution_count": 8,
     "metadata": {},
     "output_type": "execute_result"
    }
   ],
   "source": [
    "df.isna().sum()"
   ]
  },
  {
   "cell_type": "code",
   "execution_count": 9,
   "metadata": {
    "colab": {
     "base_uri": "https://localhost:8080/"
    },
    "id": "k3dw5m6-X0Dz",
    "outputId": "a8f5cfe6-1940-4200-c182-56818b77268f"
   },
   "outputs": [
    {
     "data": {
      "text/plain": [
       "0"
      ]
     },
     "execution_count": 9,
     "metadata": {},
     "output_type": "execute_result"
    }
   ],
   "source": [
    "df.duplicated().sum()"
   ]
  },
  {
   "cell_type": "markdown",
   "metadata": {
    "id": "0ThdivhqX0Dz"
   },
   "source": [
    "Визуализируем баланс классов целевого признака:"
   ]
  },
  {
   "cell_type": "code",
   "execution_count": 10,
   "metadata": {
    "colab": {
     "base_uri": "https://localhost:8080/",
     "height": 710
    },
    "id": "AlT_H0k_X0Dz",
    "outputId": "303a643c-817a-439e-d99f-d5c1db541401"
   },
   "outputs": [
    {
     "data": {
      "text/plain": [
       "0    143106\n",
       "1     16186\n",
       "Name: toxic, dtype: int64"
      ]
     },
     "metadata": {},
     "output_type": "display_data"
    },
    {
     "data": {
      "text/plain": [
       "8.841344371679229"
      ]
     },
     "metadata": {},
     "output_type": "display_data"
    },
    {
     "data": {
      "image/png": "[encoded data removed]",
      "text/plain": [
       "<Figure size 700x700 with 1 Axes>"
      ]
     },
     "metadata": {},
     "output_type": "display_data"
    }
   ],
   "source": [
    "display(df['toxic'].value_counts())\n",
    "display(df['toxic'].value_counts()[0] / df['toxic'].value_counts()[1])\n",
    "\n",
    "plt.figure(figsize=(7, 7))\n",
    "sns.countplot(x='toxic', data=df)\n",
    "\n",
    "plt.title('Баланс классов целевого признака')\n",
    "plt.xlabel('Токсичность')\n",
    "plt.ylabel('Количество комментариев')\n",
    "\n",
    "plt.show()"
   ]
  },
  {
   "cell_type": "markdown",
   "metadata": {
    "id": "UzUXHfwIX0D0"
   },
   "source": [
    "- датасет содержит 159292 строки и 3 столбца, 1 из которых дублирует индексы;\n",
    "- в данных отсутствуют пропущенные значения и дубликаты;\n",
    "- язык текстов - английский;\n",
    "- в текстах содержаться разные регистры букв, символы пунктуации и '/n' и т.д.;\n",
    "- в данных содержиться дисбаланс целевого признака в соотношении 1 к 8,84."
   ]
  },
  {
   "cell_type": "markdown",
   "metadata": {
    "id": "w78-oxRiX0D1"
   },
   "source": [
    "### Предобработка данных"
   ]
  },
  {
   "cell_type": "markdown",
   "metadata": {
    "id": "QKCXeGl7X0D1"
   },
   "source": [
    "В данных присутствует столбец, дублирующий номер строки, удалим его:"
   ]
  },
  {
   "cell_type": "code",
   "execution_count": 11,
   "metadata": {
    "colab": {
     "base_uri": "https://localhost:8080/",
     "height": 206
    },
    "id": "K5RF-OjbX0D1",
    "outputId": "3033c51c-f7d6-4d35-c76a-c98e9556d7d6"
   },
   "outputs": [
    {
     "data": {
      "text/html": [
       "\n",
       "  <div id=\"df-8b212832-c50c-4b96-a2f7-44ddebb1a967\" class=\"colab-df-container\">\n",
       "    <div>\n",
       "<style scoped>\n",
       "    .dataframe tbody tr th:only-of-type {\n",
       "        vertical-align: middle;\n",
       "    }\n",
       "\n",
       "    .dataframe tbody tr th {\n",
       "        vertical-align: top;\n",
       "    }\n",
       "\n",
       "    .dataframe thead th {\n",
       "        text-align: right;\n",
       "    }\n",
       "</style>\n",
       "<table border=\"1\" class=\"dataframe\">\n",
       "  <thead>\n",
       "    <tr style=\"text-align: right;\">\n",
       "      <th></th>\n",
       "      <th>text</th>\n",
       "      <th>toxic</th>\n",
       "    </tr>\n",
       "  </thead>\n",
       "  <tbody>\n",
       "    <tr>\n",
       "      <th>96008</th>\n",
       "      <td>regarding the user GoodDay\\n\\nthe user GoodDay...</td>\n",
       "      <td>1</td>\n",
       "    </tr>\n",
       "    <tr>\n",
       "      <th>13007</th>\n",
       "      <td>—The preceding unsigned comment was added by  ...</td>\n",
       "      <td>0</td>\n",
       "    </tr>\n",
       "    <tr>\n",
       "      <th>130360</th>\n",
       "      <td>also where are the gymini on this page? whiche...</td>\n",
       "      <td>0</td>\n",
       "    </tr>\n",
       "    <tr>\n",
       "      <th>139640</th>\n",
       "      <td>Could I please be unblocked?</td>\n",
       "      <td>0</td>\n",
       "    </tr>\n",
       "    <tr>\n",
       "      <th>45542</th>\n",
       "      <td>Henley-on-Thames \\n\\nHi. I'm not too bothered ...</td>\n",
       "      <td>0</td>\n",
       "    </tr>\n",
       "  </tbody>\n",
       "</table>\n",
       "</div>\n",
       "    <div class=\"colab-df-buttons\">\n",
       "\n",
       "  <div class=\"colab-df-container\">\n",
       "    <button class=\"colab-df-convert\" onclick=\"convertToInteractive('df-8b212832-c50c-4b96-a2f7-44ddebb1a967')\"\n",
       "            title=\"Convert this dataframe to an interactive table.\"\n",
       "            style=\"display:none;\">\n",
       "\n",
       "  <svg xmlns=\"http://www.w3.org/2000/svg\" height=\"24px\" viewBox=\"0 -960 960 960\">\n",
       "    <path d=\"M120-120v-720h720v720H120Zm60-500h600v-160H180v160Zm220 220h160v-160H400v160Zm0 220h160v-160H400v160ZM180-400h160v-160H180v160Zm440 0h160v-160H620v160ZM180-180h160v-160H180v160Zm440 0h160v-160H620v160Z\"/>\n",
       "  </svg>\n",
       "    </button>\n",
       "\n",
       "  <style>\n",
       "    .colab-df-container {\n",
       "      display:flex;\n",
       "      gap: 12px;\n",
       "    }\n",
       "\n",
       "    .colab-df-convert {\n",
       "      background-color: #E8F0FE;\n",
       "      border: none;\n",
       "      border-radius: 50%;\n",
       "      cursor: pointer;\n",
       "      display: none;\n",
       "      fill: #1967D2;\n",
       "      height: 32px;\n",
       "      padding: 0 0 0 0;\n",
       "      width: 32px;\n",
       "    }\n",
       "\n",
       "    .colab-df-convert:hover {\n",
       "      background-color: #E2EBFA;\n",
       "      box-shadow: 0px 1px 2px rgba(60, 64, 67, 0.3), 0px 1px 3px 1px rgba(60, 64, 67, 0.15);\n",
       "      fill: #174EA6;\n",
       "    }\n",
       "\n",
       "    .colab-df-buttons div {\n",
       "      margin-bottom: 4px;\n",
       "    }\n",
       "\n",
       "    [theme=dark] .colab-df-convert {\n",
       "      background-color: #3B4455;\n",
       "      fill: #D2E3FC;\n",
       "    }\n",
       "\n",
       "    [theme=dark] .colab-df-convert:hover {\n",
       "      background-color: #434B5C;\n",
       "      box-shadow: 0px 1px 3px 1px rgba(0, 0, 0, 0.15);\n",
       "      filter: drop-shadow(0px 1px 2px rgba(0, 0, 0, 0.3));\n",
       "      fill: #FFFFFF;\n",
       "    }\n",
       "  </style>\n",
       "\n",
       "    <script>\n",
       "      const buttonEl =\n",
       "        document.querySelector('#df-8b212832-c50c-4b96-a2f7-44ddebb1a967 button.colab-df-convert');\n",
       "      buttonEl.style.display =\n",
       "        google.colab.kernel.accessAllowed ? 'block' : 'none';\n",
       "\n",
       "      async function convertToInteractive(key) {\n",
       "        const element = document.querySelector('#df-8b212832-c50c-4b96-a2f7-44ddebb1a967');\n",
       "        const dataTable =\n",
       "          await google.colab.kernel.invokeFunction('convertToInteractive',\n",
       "                                                    [key], {});\n",
       "        if (!dataTable) return;\n",
       "\n",
       "        const docLinkHtml = 'Like what you see? Visit the ' +\n",
       "          '<a target=\"_blank\" href=https://colab.research.google.com/notebooks/data_table.ipynb>data table notebook</a>'\n",
       "          + ' to learn more about interactive tables.';\n",
       "        element.innerHTML = '';\n",
       "        dataTable['output_type'] = 'display_data';\n",
       "        await google.colab.output.renderOutput(dataTable, element);\n",
       "        const docLink = document.createElement('div');\n",
       "        docLink.innerHTML = docLinkHtml;\n",
       "        element.appendChild(docLink);\n",
       "      }\n",
       "    </script>\n",
       "  </div>\n",
       "\n",
       "\n",
       "<div id=\"df-e43015e2-30c8-487c-bca1-7b1d329e3258\">\n",
       "  <button class=\"colab-df-quickchart\" onclick=\"quickchart('df-e43015e2-30c8-487c-bca1-7b1d329e3258')\"\n",
       "            title=\"Suggest charts\"\n",
       "            style=\"display:none;\">\n",
       "\n",
       "<svg xmlns=\"http://www.w3.org/2000/svg\" height=\"24px\"viewBox=\"0 0 24 24\"\n",
       "     width=\"24px\">\n",
       "    <g>\n",
       "        <path d=\"M19 3H5c-1.1 0-2 .9-2 2v14c0 1.1.9 2 2 2h14c1.1 0 2-.9 2-2V5c0-1.1-.9-2-2-2zM9 17H7v-7h2v7zm4 0h-2V7h2v10zm4 0h-2v-4h2v4z\"/>\n",
       "    </g>\n",
       "</svg>\n",
       "  </button>\n",
       "\n",
       "<style>\n",
       "  .colab-df-quickchart {\n",
       "      --bg-color: #E8F0FE;\n",
       "      --fill-color: #1967D2;\n",
       "      --hover-bg-color: #E2EBFA;\n",
       "      --hover-fill-color: #174EA6;\n",
       "      --disabled-fill-color: #AAA;\n",
       "      --disabled-bg-color: #DDD;\n",
       "  }\n",
       "\n",
       "  [theme=dark] .colab-df-quickchart {\n",
       "      --bg-color: #3B4455;\n",
       "      --fill-color: #D2E3FC;\n",
       "      --hover-bg-color: #434B5C;\n",
       "      --hover-fill-color: #FFFFFF;\n",
       "      --disabled-bg-color: #3B4455;\n",
       "      --disabled-fill-color: #666;\n",
       "  }\n",
       "\n",
       "  .colab-df-quickchart {\n",
       "    background-color: var(--bg-color);\n",
       "    border: none;\n",
       "    border-radius: 50%;\n",
       "    cursor: pointer;\n",
       "    display: none;\n",
       "    fill: var(--fill-color);\n",
       "    height: 32px;\n",
       "    padding: 0;\n",
       "    width: 32px;\n",
       "  }\n",
       "\n",
       "  .colab-df-quickchart:hover {\n",
       "    background-color: var(--hover-bg-color);\n",
       "    box-shadow: 0 1px 2px rgba(60, 64, 67, 0.3), 0 1px 3px 1px rgba(60, 64, 67, 0.15);\n",
       "    fill: var(--button-hover-fill-color);\n",
       "  }\n",
       "\n",
       "  .colab-df-quickchart-complete:disabled,\n",
       "  .colab-df-quickchart-complete:disabled:hover {\n",
       "    background-color: var(--disabled-bg-color);\n",
       "    fill: var(--disabled-fill-color);\n",
       "    box-shadow: none;\n",
       "  }\n",
       "\n",
       "  .colab-df-spinner {\n",
       "    border: 2px solid var(--fill-color);\n",
       "    border-color: transparent;\n",
       "    border-bottom-color: var(--fill-color);\n",
       "    animation:\n",
       "      spin 1s steps(1) infinite;\n",
       "  }\n",
       "\n",
       "  @keyframes spin {\n",
       "    0% {\n",
       "      border-color: transparent;\n",
       "      border-bottom-color: var(--fill-color);\n",
       "      border-left-color: var(--fill-color);\n",
       "    }\n",
       "    20% {\n",
       "      border-color: transparent;\n",
       "      border-left-color: var(--fill-color);\n",
       "      border-top-color: var(--fill-color);\n",
       "    }\n",
       "    30% {\n",
       "      border-color: transparent;\n",
       "      border-left-color: var(--fill-color);\n",
       "      border-top-color: var(--fill-color);\n",
       "      border-right-color: var(--fill-color);\n",
       "    }\n",
       "    40% {\n",
       "      border-color: transparent;\n",
       "      border-right-color: var(--fill-color);\n",
       "      border-top-color: var(--fill-color);\n",
       "    }\n",
       "    60% {\n",
       "      border-color: transparent;\n",
       "      border-right-color: var(--fill-color);\n",
       "    }\n",
       "    80% {\n",
       "      border-color: transparent;\n",
       "      border-right-color: var(--fill-color);\n",
       "      border-bottom-color: var(--fill-color);\n",
       "    }\n",
       "    90% {\n",
       "      border-color: transparent;\n",
       "      border-bottom-color: var(--fill-color);\n",
       "    }\n",
       "  }\n",
       "</style>\n",
       "\n",
       "  <script>\n",
       "    async function quickchart(key) {\n",
       "      const quickchartButtonEl =\n",
       "        document.querySelector('#' + key + ' button');\n",
       "      quickchartButtonEl.disabled = true;  // To prevent multiple clicks.\n",
       "      quickchartButtonEl.classList.add('colab-df-spinner');\n",
       "      try {\n",
       "        const charts = await google.colab.kernel.invokeFunction(\n",
       "            'suggestCharts', [key], {});\n",
       "      } catch (error) {\n",
       "        console.error('Error during call to suggestCharts:', error);\n",
       "      }\n",
       "      quickchartButtonEl.classList.remove('colab-df-spinner');\n",
       "      quickchartButtonEl.classList.add('colab-df-quickchart-complete');\n",
       "    }\n",
       "    (() => {\n",
       "      let quickchartButtonEl =\n",
       "        document.querySelector('#df-e43015e2-30c8-487c-bca1-7b1d329e3258 button');\n",
       "      quickchartButtonEl.style.display =\n",
       "        google.colab.kernel.accessAllowed ? 'block' : 'none';\n",
       "    })();\n",
       "  </script>\n",
       "</div>\n",
       "    </div>\n",
       "  </div>\n"
      ],
      "text/plain": [
       "                                                     text  toxic\n",
       "96008   regarding the user GoodDay\\n\\nthe user GoodDay...      1\n",
       "13007   —The preceding unsigned comment was added by  ...      0\n",
       "130360  also where are the gymini on this page? whiche...      0\n",
       "139640                       Could I please be unblocked?      0\n",
       "45542   Henley-on-Thames \\n\\nHi. I'm not too bothered ...      0"
      ]
     },
     "execution_count": 11,
     "metadata": {},
     "output_type": "execute_result"
    }
   ],
   "source": [
    "df = df.drop('Unnamed: 0', axis=1)\n",
    "df.sample(5)"
   ]
  },
  {
   "cell_type": "markdown",
   "metadata": {
    "id": "Q_iBvuCaX0D1"
   },
   "source": [
    "У столбца `'toxic` тип `int64`. Изменим тип на `uint8` для уменьшения \"веса\" датафрейма:"
   ]
  },
  {
   "cell_type": "code",
   "execution_count": 12,
   "metadata": {
    "id": "P0oYD57dX0D2"
   },
   "outputs": [],
   "source": [
    "df['toxic'] = df['toxic'].astype('uint8')"
   ]
  },
  {
   "cell_type": "code",
   "execution_count": 13,
   "metadata": {
    "colab": {
     "base_uri": "https://localhost:8080/"
    },
    "id": "jB2kPBZ6X0D2",
    "outputId": "12df41d7-6049-43ee-a8d9-46f8613664ff"
   },
   "outputs": [
    {
     "name": "stdout",
     "output_type": "stream",
     "text": [
      "<class 'pandas.core.frame.DataFrame'>\n",
      "RangeIndex: 159292 entries, 0 to 159291\n",
      "Data columns (total 2 columns):\n",
      " #   Column  Non-Null Count   Dtype \n",
      "---  ------  --------------   ----- \n",
      " 0   text    159292 non-null  object\n",
      " 1   toxic   159292 non-null  uint8 \n",
      "dtypes: object(1), uint8(1)\n",
      "memory usage: 1.4+ MB\n"
     ]
    }
   ],
   "source": [
    "df.info()"
   ]
  },
  {
   "cell_type": "markdown",
   "metadata": {
    "id": "e6U5V84yX0D3"
   },
   "source": [
    "Очистим текст с помощью регулярных выражений:"
   ]
  },
  {
   "cell_type": "code",
   "execution_count": 14,
   "metadata": {
    "id": "dE3EzwmoX0D3"
   },
   "outputs": [],
   "source": [
    "def cleaning(text):\n",
    "    text = re.sub(r\"(?:\\n|\\r)\", \" \", text)\n",
    "    text = re.sub(r\"[^a-zA-Z ]+\", \"\", text).strip()\n",
    "    text = text.lower()\n",
    "    return text\n",
    "\n",
    "df['text'] = df['text'].apply(cleaning)"
   ]
  },
  {
   "cell_type": "markdown",
   "metadata": {
    "id": "mHj-JrDgX0D3"
   },
   "source": [
    "Для лемматизации будем использовать пакет `SpaCy`:"
   ]
  },
  {
   "cell_type": "code",
   "execution_count": 15,
   "metadata": {
    "id": "_lH9qBbeX0D3"
   },
   "outputs": [],
   "source": [
    "nlp = spacy.load('en_core_web_sm')\n",
    "\n",
    "def lemmatize(text):\n",
    "    doc = nlp(text)\n",
    "    lemm_text = \" \".join([token.lemma_ for token in doc])\n",
    "    return lemm_text"
   ]
  },
  {
   "cell_type": "code",
   "execution_count": 16,
   "metadata": {
    "colab": {
     "base_uri": "https://localhost:8080/"
    },
    "id": "ZikiA83vX0D4",
    "outputId": "bbbad0cf-d168-4880-a586-4b8b1775b48a"
   },
   "outputs": [
    {
     "name": "stderr",
     "output_type": "stream",
     "text": [
      "100%|██████████| 159292/159292 [42:09<00:00, 62.99it/s]\n"
     ]
    }
   ],
   "source": [
    "tqdm.pandas()\n",
    "\n",
    "df['lemm_text'] = df['text'].progress_apply(lemmatize)"
   ]
  },
  {
   "cell_type": "markdown",
   "metadata": {
    "id": "X_JS6hwbX0D4"
   },
   "source": [
    "Проверим на дубликаты после лемматизации:"
   ]
  },
  {
   "cell_type": "code",
   "execution_count": 17,
   "metadata": {
    "colab": {
     "base_uri": "https://localhost:8080/"
    },
    "id": "hNsJvEGzX0D4",
    "outputId": "341a25a5-50b2-4a3a-e3cc-891f3046b5d7"
   },
   "outputs": [
    {
     "data": {
      "text/plain": [
       "1007"
      ]
     },
     "execution_count": 17,
     "metadata": {},
     "output_type": "execute_result"
    }
   ],
   "source": [
    "df.duplicated().sum()"
   ]
  },
  {
   "cell_type": "markdown",
   "metadata": {
    "id": "4ELirXuiNQJR"
   },
   "source": [
    "Удалим дубликаты и определим соотношение классов целевого признака после удаления дубликатов:"
   ]
  },
  {
   "cell_type": "code",
   "execution_count": 18,
   "metadata": {
    "id": "sl8M11slX0D5"
   },
   "outputs": [],
   "source": [
    "df = df.drop_duplicates().reset_index(drop=True)"
   ]
  },
  {
   "cell_type": "markdown",
   "metadata": {
    "id": "twsXhsK3X0EE"
   },
   "source": [
    "Данные подготовлены для разделения на выборки:\n",
    "- проведена очистка с помощью регулярных выражений;\n",
    "- проведена лемматизация;\n",
    "- удалены дубликаты."
   ]
  },
  {
   "cell_type": "markdown",
   "metadata": {
    "id": "e6EEklTdX0EE"
   },
   "source": [
    "### Разделение данных на выборки"
   ]
  },
  {
   "cell_type": "markdown",
   "metadata": {
    "id": "lyOR5E0dX0EE"
   },
   "source": [
    "Подготовим признаки (features и target), разобьем их на train, valid и test выборки:"
   ]
  },
  {
   "cell_type": "code",
   "execution_count": 19,
   "metadata": {
    "id": "4wDoubrtX0EF"
   },
   "outputs": [],
   "source": [
    "features = df['lemm_text']\n",
    "target = df['toxic']\n",
    "\n",
    "f_train, f_test, t_train, t_test = train_test_split(features,\n",
    "                                                    target,\n",
    "                                                    test_size=.25,\n",
    "                                                    stratify=target,\n",
    "                                                    random_state=15243)"
   ]
  },
  {
   "cell_type": "code",
   "execution_count": 20,
   "metadata": {
    "colab": {
     "base_uri": "https://localhost:8080/"
    },
    "id": "Y1jMpOzoX0EF",
    "outputId": "2b21d154-d3a0-48e5-f28f-49ef5b807249"
   },
   "outputs": [
    {
     "data": {
      "text/plain": [
       "((118713,), (118713,))"
      ]
     },
     "execution_count": 20,
     "metadata": {},
     "output_type": "execute_result"
    }
   ],
   "source": [
    "f_train.shape, t_train.shape"
   ]
  },
  {
   "cell_type": "code",
   "execution_count": 21,
   "metadata": {
    "id": "ZD4xpqjcX0EG"
   },
   "outputs": [],
   "source": [
    "stop_words = list(nltk_stopwords.words('english'))"
   ]
  },
  {
   "cell_type": "markdown",
   "metadata": {
    "id": "uqXJKqqbX0EI"
   },
   "source": [
    "**Вывод:**\n",
    "\n",
    "Данные подготовлены для обучения модели:\n",
    "- удалены дубликаты;\n",
    "- проведена очистка с помощью регулярных выражений;\n",
    "- заменен регистр символов;\n",
    "- проведена лемматизация;\n",
    "- данные разделены на выборки."
   ]
  },
  {
   "cell_type": "markdown",
   "metadata": {
    "id": "4Jqxf2_IX0EI"
   },
   "source": [
    "## Обучение"
   ]
  },
  {
   "cell_type": "markdown",
   "metadata": {
    "id": "-4Ioho4IX0EI"
   },
   "source": [
    "Для обучения выберем следующие модели:\n",
    "\n",
    "- LogisticRegression\n",
    "- DecisionTreeClassifier\n",
    "- CatBoostClassifier\n",
    "\n",
    "Для упрощения построим функции подбора наилучших гиперпараметров `GridSearchCV` и вывода дополнительной информации:"
   ]
  },
  {
   "cell_type": "code",
   "execution_count": 22,
   "metadata": {
    "id": "345gongsX0EJ"
   },
   "outputs": [],
   "source": [
    "def pipeline_gridsearch(f_train, t_train, model, params):\n",
    "\n",
    "    start_time = time.time()\n",
    "\n",
    "    pipeline = Pipeline([\n",
    "        ('tfidf', TfidfVectorizer(stop_words=stop_words)),\n",
    "        ('sampl', SMOTE(random_state=15243)),\n",
    "        ('clf', model)\n",
    "    ])\n",
    "\n",
    "    grid = GridSearchCV(pipeline, params, cv=4, n_jobs=-1, scoring='f1', error_score='raise')\n",
    "\n",
    "    grid.fit(f_train, t_train)\n",
    "\n",
    "    finish_time = time.time()\n",
    "    funtion_time = finish_time - start_time\n",
    "\n",
    "    table = PrettyTable()\n",
    "    table.field_names = ['Данные', 'Значение']\n",
    "    table.add_row(['Обучение модели', f'{funtion_time // 60} мин \\n{(funtion_time % 60):.2f} сек'])\n",
    "    table.add_row([' ', ' '])\n",
    "    table.add_row(['F1', f'{grid.best_score_}'])\n",
    "    table.add_row([' ', ' '])\n",
    "    table.add_row(['Лучшие параметры:', ' '])\n",
    "    for k, v in grid.best_params_.items():\n",
    "        table.add_row([f'{k}:', v])\n",
    "    print(table)\n",
    "\n",
    "\n",
    "    return grid, funtion_time"
   ]
  },
  {
   "cell_type": "markdown",
   "metadata": {
    "id": "RAS8adthX0EK"
   },
   "source": [
    "### LogisticRegression"
   ]
  },
  {
   "cell_type": "code",
   "execution_count": 23,
   "metadata": {
    "colab": {
     "base_uri": "https://localhost:8080/"
    },
    "id": "2C4RmqQkgqLg",
    "outputId": "7d9838c2-8bd6-4592-ecbc-c0200f9be8bf"
   },
   "outputs": [
    {
     "name": "stdout",
     "output_type": "stream",
     "text": [
      "+-------------------+--------------------+\n",
      "|       Данные      |      Значение      |\n",
      "+-------------------+--------------------+\n",
      "|  Обучение модели  |      9.0 мин       |\n",
      "|                   |     45.05 сек      |\n",
      "|                   |                    |\n",
      "|         F1        | 0.7160660680255697 |\n",
      "|                   |                    |\n",
      "| Лучшие параметры: |                    |\n",
      "|      clf__C:      |         5          |\n",
      "+-------------------+--------------------+\n"
     ]
    }
   ],
   "source": [
    "params = {\n",
    "    #'tfidf__max_df': (0.2, 0.6, 1.0),\n",
    "    #'tfidf__min_df': (1, 5, 9),\n",
    "    #'tfidf__ngram_range': ((1, 1), (1, 2)),\n",
    "    #'tfidf__norm': ('l1' , 'l2'),\n",
    "    #'clf__penalty': (None, 'l2'),\n",
    "    #'clf__solver': ('newton-cg', 'lbfgs', 'liblinear'),\n",
    "    'clf__C': (5, 10, 15)\n",
    "}\n",
    "\n",
    "logr_grid, logr_times = pipeline_gridsearch(f_train, t_train, LogisticRegression(random_state=15243), params)"
   ]
  },
  {
   "cell_type": "markdown",
   "metadata": {
    "id": "ntDkzFicX0EM"
   },
   "source": [
    "### DecisionTreeClassifier"
   ]
  },
  {
   "cell_type": "code",
   "execution_count": 24,
   "metadata": {
    "colab": {
     "base_uri": "https://localhost:8080/"
    },
    "id": "4r9SA-bqX0EM",
    "outputId": "0e66bbbe-23c5-4c17-b9eb-008191555505"
   },
   "outputs": [
    {
     "name": "stdout",
     "output_type": "stream",
     "text": [
      "+-------------------+--------------------+\n",
      "|       Данные      |      Значение      |\n",
      "+-------------------+--------------------+\n",
      "|  Обучение модели  |     66.0 мин       |\n",
      "|                   |     34.85 сек      |\n",
      "|                   |                    |\n",
      "|         F1        | 0.6692979295741996 |\n",
      "|                   |                    |\n",
      "| Лучшие параметры: |                    |\n",
      "|  clf__max_depth:  |         50         |\n",
      "+-------------------+--------------------+\n"
     ]
    }
   ],
   "source": [
    "params = {\n",
    "    #'tfidf__max_df': (0.2, 0.6, 1.0),\n",
    "    #'tfidf__min_df': (1, 5, 9),\n",
    "    #'tfidf__ngram_range': ((1, 1), (1, 2)),\n",
    "    #'tfidf__norm': ('l1' , 'l2'),\n",
    "    'clf__max_depth':[x for x in range(20,51,2)]\n",
    "}\n",
    "\n",
    "dtc_grid, dtc_times = pipeline_gridsearch(f_train, t_train, DecisionTreeClassifier(random_state=15243), params)"
   ]
  },
  {
   "cell_type": "markdown",
   "metadata": {
    "id": "Q4C3GtK6X0EN"
   },
   "source": [
    "### CatBoostClassifier"
   ]
  },
  {
   "cell_type": "code",
   "execution_count": 25,
   "metadata": {
    "colab": {
     "base_uri": "https://localhost:8080/"
    },
    "id": "ob4oGalpX0EN",
    "outputId": "831832fd-a647-4678-bf82-e96991e20c63"
   },
   "outputs": [
    {
     "name": "stdout",
     "output_type": "stream",
     "text": [
      "+-------------------+--------------------+\n",
      "|       Данные      |      Значение      |\n",
      "+-------------------+--------------------+\n",
      "|  Обучение модели  |     201.0 мин      |\n",
      "|                   |     27.09 сек      |\n",
      "|                   |                    |\n",
      "|         F1        | 0.7621598231734713 |\n",
      "|                   |                    |\n",
      "| Лучшие параметры: |                    |\n",
      "+-------------------+--------------------+\n"
     ]
    }
   ],
   "source": [
    "params = {\n",
    "    #'tfidf__max_df': (0.2, 0.6, 1.0),\n",
    "    #'tfidf__min_df': (1, 5, 9),\n",
    "    #'tfidf__ngram_range': ((1, 1), (1, 2)),\n",
    "    #'tfidf__norm': ('l1' , 'l2'),\n",
    "    #'clf__leaf_estimation_method':['Gradient']\n",
    "}\n",
    "\n",
    "cbc_grid, cbc_times = pipeline_gridsearch(f_train, t_train, CatBoostClassifier(random_state=15243, verbose=False), params)"
   ]
  },
  {
   "cell_type": "markdown",
   "metadata": {
    "id": "6H2y4zavX0EO"
   },
   "source": [
    "#### Обобщение результатов"
   ]
  },
  {
   "cell_type": "code",
   "execution_count": 26,
   "metadata": {
    "colab": {
     "base_uri": "https://localhost:8080/",
     "height": 143
    },
    "id": "HSzGoYc0X0EO",
    "outputId": "9161d2a1-7ebc-43f6-f4e5-ae5ef81d3f83"
   },
   "outputs": [
    {
     "data": {
      "text/html": [
       "\n",
       "  <div id=\"df-1d766059-5eff-4954-99f7-6f9a64e03c28\" class=\"colab-df-container\">\n",
       "    <div>\n",
       "<style scoped>\n",
       "    .dataframe tbody tr th:only-of-type {\n",
       "        vertical-align: middle;\n",
       "    }\n",
       "\n",
       "    .dataframe tbody tr th {\n",
       "        vertical-align: top;\n",
       "    }\n",
       "\n",
       "    .dataframe thead th {\n",
       "        text-align: right;\n",
       "    }\n",
       "</style>\n",
       "<table border=\"1\" class=\"dataframe\">\n",
       "  <thead>\n",
       "    <tr style=\"text-align: right;\">\n",
       "      <th></th>\n",
       "      <th>F1 на валидационных данных</th>\n",
       "      <th>Время обучения модели, сек.</th>\n",
       "      <th>Выполнение задачи</th>\n",
       "    </tr>\n",
       "  </thead>\n",
       "  <tbody>\n",
       "    <tr>\n",
       "      <th>LogisticRegression</th>\n",
       "      <td>0.716066</td>\n",
       "      <td>585.047422</td>\n",
       "      <td>False</td>\n",
       "    </tr>\n",
       "    <tr>\n",
       "      <th>DecisionTreeClassifier</th>\n",
       "      <td>0.669298</td>\n",
       "      <td>3994.849733</td>\n",
       "      <td>False</td>\n",
       "    </tr>\n",
       "    <tr>\n",
       "      <th>CatBoostClassifier</th>\n",
       "      <td>0.762160</td>\n",
       "      <td>12087.093082</td>\n",
       "      <td>True</td>\n",
       "    </tr>\n",
       "  </tbody>\n",
       "</table>\n",
       "</div>\n",
       "    <div class=\"colab-df-buttons\">\n",
       "\n",
       "  <div class=\"colab-df-container\">\n",
       "    <button class=\"colab-df-convert\" onclick=\"convertToInteractive('df-1d766059-5eff-4954-99f7-6f9a64e03c28')\"\n",
       "            title=\"Convert this dataframe to an interactive table.\"\n",
       "            style=\"display:none;\">\n",
       "\n",
       "  <svg xmlns=\"http://www.w3.org/2000/svg\" height=\"24px\" viewBox=\"0 -960 960 960\">\n",
       "    <path d=\"M120-120v-720h720v720H120Zm60-500h600v-160H180v160Zm220 220h160v-160H400v160Zm0 220h160v-160H400v160ZM180-400h160v-160H180v160Zm440 0h160v-160H620v160ZM180-180h160v-160H180v160Zm440 0h160v-160H620v160Z\"/>\n",
       "  </svg>\n",
       "    </button>\n",
       "\n",
       "  <style>\n",
       "    .colab-df-container {\n",
       "      display:flex;\n",
       "      gap: 12px;\n",
       "    }\n",
       "\n",
       "    .colab-df-convert {\n",
       "      background-color: #E8F0FE;\n",
       "      border: none;\n",
       "      border-radius: 50%;\n",
       "      cursor: pointer;\n",
       "      display: none;\n",
       "      fill: #1967D2;\n",
       "      height: 32px;\n",
       "      padding: 0 0 0 0;\n",
       "      width: 32px;\n",
       "    }\n",
       "\n",
       "    .colab-df-convert:hover {\n",
       "      background-color: #E2EBFA;\n",
       "      box-shadow: 0px 1px 2px rgba(60, 64, 67, 0.3), 0px 1px 3px 1px rgba(60, 64, 67, 0.15);\n",
       "      fill: #174EA6;\n",
       "    }\n",
       "\n",
       "    .colab-df-buttons div {\n",
       "      margin-bottom: 4px;\n",
       "    }\n",
       "\n",
       "    [theme=dark] .colab-df-convert {\n",
       "      background-color: #3B4455;\n",
       "      fill: #D2E3FC;\n",
       "    }\n",
       "\n",
       "    [theme=dark] .colab-df-convert:hover {\n",
       "      background-color: #434B5C;\n",
       "      box-shadow: 0px 1px 3px 1px rgba(0, 0, 0, 0.15);\n",
       "      filter: drop-shadow(0px 1px 2px rgba(0, 0, 0, 0.3));\n",
       "      fill: #FFFFFF;\n",
       "    }\n",
       "  </style>\n",
       "\n",
       "    <script>\n",
       "      const buttonEl =\n",
       "        document.querySelector('#df-1d766059-5eff-4954-99f7-6f9a64e03c28 button.colab-df-convert');\n",
       "      buttonEl.style.display =\n",
       "        google.colab.kernel.accessAllowed ? 'block' : 'none';\n",
       "\n",
       "      async function convertToInteractive(key) {\n",
       "        const element = document.querySelector('#df-1d766059-5eff-4954-99f7-6f9a64e03c28');\n",
       "        const dataTable =\n",
       "          await google.colab.kernel.invokeFunction('convertToInteractive',\n",
       "                                                    [key], {});\n",
       "        if (!dataTable) return;\n",
       "\n",
       "        const docLinkHtml = 'Like what you see? Visit the ' +\n",
       "          '<a target=\"_blank\" href=https://colab.research.google.com/notebooks/data_table.ipynb>data table notebook</a>'\n",
       "          + ' to learn more about interactive tables.';\n",
       "        element.innerHTML = '';\n",
       "        dataTable['output_type'] = 'display_data';\n",
       "        await google.colab.output.renderOutput(dataTable, element);\n",
       "        const docLink = document.createElement('div');\n",
       "        docLink.innerHTML = docLinkHtml;\n",
       "        element.appendChild(docLink);\n",
       "      }\n",
       "    </script>\n",
       "  </div>\n",
       "\n",
       "\n",
       "<div id=\"df-603951ee-9088-4450-abba-e1ff6ea3494c\">\n",
       "  <button class=\"colab-df-quickchart\" onclick=\"quickchart('df-603951ee-9088-4450-abba-e1ff6ea3494c')\"\n",
       "            title=\"Suggest charts\"\n",
       "            style=\"display:none;\">\n",
       "\n",
       "<svg xmlns=\"http://www.w3.org/2000/svg\" height=\"24px\"viewBox=\"0 0 24 24\"\n",
       "     width=\"24px\">\n",
       "    <g>\n",
       "        <path d=\"M19 3H5c-1.1 0-2 .9-2 2v14c0 1.1.9 2 2 2h14c1.1 0 2-.9 2-2V5c0-1.1-.9-2-2-2zM9 17H7v-7h2v7zm4 0h-2V7h2v10zm4 0h-2v-4h2v4z\"/>\n",
       "    </g>\n",
       "</svg>\n",
       "  </button>\n",
       "\n",
       "<style>\n",
       "  .colab-df-quickchart {\n",
       "      --bg-color: #E8F0FE;\n",
       "      --fill-color: #1967D2;\n",
       "      --hover-bg-color: #E2EBFA;\n",
       "      --hover-fill-color: #174EA6;\n",
       "      --disabled-fill-color: #AAA;\n",
       "      --disabled-bg-color: #DDD;\n",
       "  }\n",
       "\n",
       "  [theme=dark] .colab-df-quickchart {\n",
       "      --bg-color: #3B4455;\n",
       "      --fill-color: #D2E3FC;\n",
       "      --hover-bg-color: #434B5C;\n",
       "      --hover-fill-color: #FFFFFF;\n",
       "      --disabled-bg-color: #3B4455;\n",
       "      --disabled-fill-color: #666;\n",
       "  }\n",
       "\n",
       "  .colab-df-quickchart {\n",
       "    background-color: var(--bg-color);\n",
       "    border: none;\n",
       "    border-radius: 50%;\n",
       "    cursor: pointer;\n",
       "    display: none;\n",
       "    fill: var(--fill-color);\n",
       "    height: 32px;\n",
       "    padding: 0;\n",
       "    width: 32px;\n",
       "  }\n",
       "\n",
       "  .colab-df-quickchart:hover {\n",
       "    background-color: var(--hover-bg-color);\n",
       "    box-shadow: 0 1px 2px rgba(60, 64, 67, 0.3), 0 1px 3px 1px rgba(60, 64, 67, 0.15);\n",
       "    fill: var(--button-hover-fill-color);\n",
       "  }\n",
       "\n",
       "  .colab-df-quickchart-complete:disabled,\n",
       "  .colab-df-quickchart-complete:disabled:hover {\n",
       "    background-color: var(--disabled-bg-color);\n",
       "    fill: var(--disabled-fill-color);\n",
       "    box-shadow: none;\n",
       "  }\n",
       "\n",
       "  .colab-df-spinner {\n",
       "    border: 2px solid var(--fill-color);\n",
       "    border-color: transparent;\n",
       "    border-bottom-color: var(--fill-color);\n",
       "    animation:\n",
       "      spin 1s steps(1) infinite;\n",
       "  }\n",
       "\n",
       "  @keyframes spin {\n",
       "    0% {\n",
       "      border-color: transparent;\n",
       "      border-bottom-color: var(--fill-color);\n",
       "      border-left-color: var(--fill-color);\n",
       "    }\n",
       "    20% {\n",
       "      border-color: transparent;\n",
       "      border-left-color: var(--fill-color);\n",
       "      border-top-color: var(--fill-color);\n",
       "    }\n",
       "    30% {\n",
       "      border-color: transparent;\n",
       "      border-left-color: var(--fill-color);\n",
       "      border-top-color: var(--fill-color);\n",
       "      border-right-color: var(--fill-color);\n",
       "    }\n",
       "    40% {\n",
       "      border-color: transparent;\n",
       "      border-right-color: var(--fill-color);\n",
       "      border-top-color: var(--fill-color);\n",
       "    }\n",
       "    60% {\n",
       "      border-color: transparent;\n",
       "      border-right-color: var(--fill-color);\n",
       "    }\n",
       "    80% {\n",
       "      border-color: transparent;\n",
       "      border-right-color: var(--fill-color);\n",
       "      border-bottom-color: var(--fill-color);\n",
       "    }\n",
       "    90% {\n",
       "      border-color: transparent;\n",
       "      border-bottom-color: var(--fill-color);\n",
       "    }\n",
       "  }\n",
       "</style>\n",
       "\n",
       "  <script>\n",
       "    async function quickchart(key) {\n",
       "      const quickchartButtonEl =\n",
       "        document.querySelector('#' + key + ' button');\n",
       "      quickchartButtonEl.disabled = true;  // To prevent multiple clicks.\n",
       "      quickchartButtonEl.classList.add('colab-df-spinner');\n",
       "      try {\n",
       "        const charts = await google.colab.kernel.invokeFunction(\n",
       "            'suggestCharts', [key], {});\n",
       "      } catch (error) {\n",
       "        console.error('Error during call to suggestCharts:', error);\n",
       "      }\n",
       "      quickchartButtonEl.classList.remove('colab-df-spinner');\n",
       "      quickchartButtonEl.classList.add('colab-df-quickchart-complete');\n",
       "    }\n",
       "    (() => {\n",
       "      let quickchartButtonEl =\n",
       "        document.querySelector('#df-603951ee-9088-4450-abba-e1ff6ea3494c button');\n",
       "      quickchartButtonEl.style.display =\n",
       "        google.colab.kernel.accessAllowed ? 'block' : 'none';\n",
       "    })();\n",
       "  </script>\n",
       "</div>\n",
       "    </div>\n",
       "  </div>\n"
      ],
      "text/plain": [
       "                        F1 на валидационных данных  \\\n",
       "LogisticRegression                        0.716066   \n",
       "DecisionTreeClassifier                    0.669298   \n",
       "CatBoostClassifier                        0.762160   \n",
       "\n",
       "                        Время обучения модели, сек.  Выполнение задачи  \n",
       "LogisticRegression                       585.047422              False  \n",
       "DecisionTreeClassifier                  3994.849733              False  \n",
       "CatBoostClassifier                     12087.093082               True  "
      ]
     },
     "execution_count": 26,
     "metadata": {},
     "output_type": "execute_result"
    }
   ],
   "source": [
    "data = {'F1 на валидационных данных':[logr_grid.best_score_,\n",
    "                                      dtc_grid.best_score_,\n",
    "                                      cbc_grid.best_score_],\n",
    "\n",
    "        'Время обучения модели, сек.':[logr_times,\n",
    "                                       dtc_times,\n",
    "                                       cbc_times]}\n",
    "\n",
    "index = ['LogisticRegression',\n",
    "         'DecisionTreeClassifier',\n",
    "         'CatBoostClassifier']\n",
    "\n",
    "scores_data = pd.DataFrame(data=data, index=index)\n",
    "scores_data['Выполнение задачи'] = scores_data['F1 на валидационных данных'] > 0.75\n",
    "scores_data"
   ]
  },
  {
   "cell_type": "markdown",
   "metadata": {
    "id": "Mk_Dm3KwX0EP"
   },
   "source": [
    "Из 3 моделей только 1 выполнила условие по метрике F1. Для поверки на тестовых данных выберем модель `CatBoostClassifier`."
   ]
  },
  {
   "cell_type": "markdown",
   "metadata": {
    "id": "7rZgGTMNX0EP"
   },
   "source": [
    "#### Проверка на тестовых данных"
   ]
  },
  {
   "cell_type": "code",
   "execution_count": 27,
   "metadata": {
    "colab": {
     "base_uri": "https://localhost:8080/",
     "height": 864
    },
    "id": "NandQ8hIX0EP",
    "outputId": "0d58e6a3-ff2f-4e35-f0c7-855ec1629113"
   },
   "outputs": [
    {
     "name": "stdout",
     "output_type": "stream",
     "text": [
      "ROC AUC: 0.9542702808313503\n",
      "F1: 0.7665615141955835\n"
     ]
    },
    {
     "data": {
      "image/png": "[encoded data removed]",
      "text/plain": [
       "<Figure size 1200x900 with 1 Axes>"
      ]
     },
     "metadata": {},
     "output_type": "display_data"
    },
    {
     "name": "stdout",
     "output_type": "stream",
     "text": [
      "CPU times: user 6.9 s, sys: 219 ms, total: 7.12 s\n",
      "Wall time: 5.56 s\n"
     ]
    }
   ],
   "source": [
    "%%time\n",
    "\n",
    "plt.figure(figsize=[12,9])\n",
    "plt.plot([0, 1], [0, 1], linestyle='--', label='Случайная модель')\n",
    "\n",
    "prob_test = cbc_grid.best_estimator_.predict_proba(f_test)\n",
    "prob_one_test = prob_test[:, 1]\n",
    "fpr, tpr, thresholds = roc_curve(t_test, prob_one_test)\n",
    "plt.plot(fpr, tpr, label='CatBoostClassifier')\n",
    "print('ROC AUC:', roc_auc_score(t_test, prob_one_test))\n",
    "print('F1:', f1_score(t_test, cbc_grid.best_estimator_.predict(f_test)))\n",
    "\n",
    "plt.xlim([0,1])\n",
    "plt.ylim([0,1])\n",
    "\n",
    "plt.xlabel(\"False Positive Rate\")\n",
    "plt.ylabel(\"True Positive Rate\")\n",
    "\n",
    "plt.legend(loc='lower right')\n",
    "\n",
    "plt.title(\"ROC-кривая\")\n",
    "plt.show()"
   ]
  },
  {
   "cell_type": "markdown",
   "metadata": {
    "id": "vPf1o75vX0EP"
   },
   "source": [
    "## Выводы"
   ]
  },
  {
   "cell_type": "markdown",
   "metadata": {
    "id": "QJ7_9e3gX0EQ"
   },
   "source": [
    "В ходе работы над проектом:\n",
    "- подготовили данные:\n",
    "    - обработали регилярные выражения;\n",
    "    - лемматизировали текст;\n",
    "    - удалили дубликаты;\n",
    "    - выяснили дисбаланс целевого признака;\n",
    "    - разделили данные на выборки (обучающая и тестовая);\n",
    "- выбрали модели для обучения:\n",
    "    - LogisticRegression;\n",
    "    - DecisionTreeClassifier;\n",
    "    - CatBoostClassifier;\n",
    "- обучили все 3 модели на обучающих данных и сравнили результаты;\n",
    "- требуемый порог в f1 0,75 прошла только `CatBoostClassifier`;\n",
    "- на тестовых данных `CatBoostClassifier` показал следующие результаты:\n",
    "    - F1: 0.767;\n",
    "    - ROC AUC: 0.954.\n",
    "\n",
    "    \n",
    "Подобрали и построили модель для сортировки токсичных комментариев. `CatBoostClassifier` - модель с наилучшим значением F1, равным 0.77 на тестовой выборке."
   ]
  }
 ],
 "metadata": {
  "ExecuteTimeLog": [
   {
    "duration": 3561,
    "start_time": "2023-11-28T08:46:35.950Z"
   },
   {
    "duration": 3145,
    "start_time": "2023-11-28T08:47:56.038Z"
   },
   {
    "duration": 31,
    "start_time": "2023-11-28T08:48:02.822Z"
   },
   {
    "duration": 12,
    "start_time": "2023-11-28T08:48:11.229Z"
   },
   {
    "duration": 8,
    "start_time": "2023-11-28T08:48:38.099Z"
   },
   {
    "duration": 32,
    "start_time": "2023-11-28T08:49:00.829Z"
   },
   {
    "duration": 37,
    "start_time": "2023-11-28T08:50:24.948Z"
   },
   {
    "duration": 14,
    "start_time": "2023-11-28T08:51:55.647Z"
   },
   {
    "duration": 31,
    "start_time": "2023-11-28T08:52:14.095Z"
   },
   {
    "duration": 10,
    "start_time": "2023-11-28T08:52:14.919Z"
   },
   {
    "duration": 20,
    "start_time": "2023-11-28T08:52:28.852Z"
   },
   {
    "duration": 858,
    "start_time": "2023-11-28T08:52:32.028Z"
   },
   {
    "duration": 30,
    "start_time": "2023-11-28T08:52:33.428Z"
   },
   {
    "duration": 10,
    "start_time": "2023-11-28T08:52:35.541Z"
   },
   {
    "duration": 22,
    "start_time": "2023-11-28T08:52:41.693Z"
   },
   {
    "duration": 27,
    "start_time": "2023-11-28T08:53:21.347Z"
   },
   {
    "duration": 234,
    "start_time": "2023-11-28T08:53:32.980Z"
   },
   {
    "duration": 26,
    "start_time": "2023-11-28T08:53:38.172Z"
   },
   {
    "duration": 184,
    "start_time": "2023-11-28T08:53:41.348Z"
   },
   {
    "duration": 2481,
    "start_time": "2023-11-28T08:55:31.068Z"
   },
   {
    "duration": 9,
    "start_time": "2023-11-28T08:56:49.533Z"
   },
   {
    "duration": 116,
    "start_time": "2023-11-28T08:58:10.017Z"
   },
   {
    "duration": 104,
    "start_time": "2023-11-28T08:58:15.612Z"
   },
   {
    "duration": 110,
    "start_time": "2023-11-28T08:59:32.139Z"
   },
   {
    "duration": 113,
    "start_time": "2023-11-28T08:59:53.579Z"
   },
   {
    "duration": 120,
    "start_time": "2023-11-28T09:00:39.821Z"
   },
   {
    "duration": 132,
    "start_time": "2023-11-28T09:01:26.211Z"
   },
   {
    "duration": 58,
    "start_time": "2023-11-28T09:02:58.784Z"
   },
   {
    "duration": 4,
    "start_time": "2023-11-28T09:03:29.938Z"
   },
   {
    "duration": 126,
    "start_time": "2023-11-28T09:03:43.834Z"
   },
   {
    "duration": 3,
    "start_time": "2023-11-28T10:20:21.936Z"
   },
   {
    "duration": 3,
    "start_time": "2023-11-28T10:20:36.816Z"
   },
   {
    "duration": 5,
    "start_time": "2023-11-28T10:20:43.040Z"
   },
   {
    "duration": 2777,
    "start_time": "2023-11-28T10:22:43.999Z"
   },
   {
    "duration": 6,
    "start_time": "2023-11-28T10:23:06.416Z"
   },
   {
    "duration": 149,
    "start_time": "2023-11-28T10:53:07.814Z"
   },
   {
    "duration": 4,
    "start_time": "2023-11-28T11:00:00.548Z"
   },
   {
    "duration": 39,
    "start_time": "2023-11-28T11:01:53.839Z"
   },
   {
    "duration": 3,
    "start_time": "2023-11-28T11:02:29.692Z"
   },
   {
    "duration": 70,
    "start_time": "2023-11-28T11:03:04.860Z"
   },
   {
    "duration": 344,
    "start_time": "2023-11-28T11:03:14.051Z"
   },
   {
    "duration": 1931,
    "start_time": "2023-11-28T11:03:51.227Z"
   },
   {
    "duration": 872,
    "start_time": "2023-11-28T11:03:58.076Z"
   },
   {
    "duration": 27,
    "start_time": "2023-11-28T11:03:58.949Z"
   },
   {
    "duration": 13,
    "start_time": "2023-11-28T11:03:59.155Z"
   },
   {
    "duration": 18,
    "start_time": "2023-11-28T11:04:02.883Z"
   },
   {
    "duration": 24,
    "start_time": "2023-11-28T11:04:05.483Z"
   },
   {
    "duration": 216,
    "start_time": "2023-11-28T11:04:06.154Z"
   },
   {
    "duration": 2522,
    "start_time": "2023-11-28T11:04:08.027Z"
   },
   {
    "duration": 139,
    "start_time": "2023-11-28T11:04:13.019Z"
   },
   {
    "duration": 3,
    "start_time": "2023-11-28T11:04:16.227Z"
   },
   {
    "duration": 3,
    "start_time": "2023-11-28T11:04:17.410Z"
   },
   {
    "duration": 2763,
    "start_time": "2023-11-28T11:04:19.403Z"
   },
   {
    "duration": 353,
    "start_time": "2023-11-28T11:04:23.362Z"
   },
   {
    "duration": 392,
    "start_time": "2023-11-28T11:04:24.578Z"
   },
   {
    "duration": 36,
    "start_time": "2023-11-28T11:04:26.068Z"
   },
   {
    "duration": 5,
    "start_time": "2023-11-28T11:04:27.066Z"
   },
   {
    "duration": 3,
    "start_time": "2023-11-28T11:04:29.035Z"
   },
   {
    "duration": 7,
    "start_time": "2023-11-28T11:06:41.490Z"
   },
   {
    "duration": 1612,
    "start_time": "2023-11-28T11:07:36.714Z"
   },
   {
    "duration": 5,
    "start_time": "2023-11-28T11:08:04.644Z"
   },
   {
    "duration": 11633,
    "start_time": "2023-11-28T11:08:27.970Z"
   },
   {
    "duration": 36,
    "start_time": "2023-11-28T11:17:37.561Z"
   },
   {
    "duration": 4,
    "start_time": "2023-11-28T11:20:13.193Z"
   },
   {
    "duration": 28,
    "start_time": "2023-11-28T11:20:14.937Z"
   },
   {
    "duration": 10,
    "start_time": "2023-11-28T11:20:31.248Z"
   },
   {
    "duration": 3,
    "start_time": "2023-11-28T11:20:51.392Z"
   },
   {
    "duration": 1807,
    "start_time": "2023-11-28T11:24:00.656Z"
   },
   {
    "duration": 866,
    "start_time": "2023-11-28T11:24:02.960Z"
   },
   {
    "duration": 33,
    "start_time": "2023-11-28T11:24:04.065Z"
   },
   {
    "duration": 13,
    "start_time": "2023-11-28T11:24:04.313Z"
   },
   {
    "duration": 19,
    "start_time": "2023-11-28T11:24:04.752Z"
   },
   {
    "duration": 27,
    "start_time": "2023-11-28T11:24:05.704Z"
   },
   {
    "duration": 226,
    "start_time": "2023-11-28T11:24:05.952Z"
   },
   {
    "duration": 2580,
    "start_time": "2023-11-28T11:24:06.376Z"
   },
   {
    "duration": 147,
    "start_time": "2023-11-28T11:24:08.958Z"
   },
   {
    "duration": 3,
    "start_time": "2023-11-28T11:24:11.544Z"
   },
   {
    "duration": 3,
    "start_time": "2023-11-28T11:24:12.136Z"
   },
   {
    "duration": 2799,
    "start_time": "2023-11-28T11:24:12.880Z"
   },
   {
    "duration": 355,
    "start_time": "2023-11-28T11:24:15.680Z"
   },
   {
    "duration": 384,
    "start_time": "2023-11-28T11:24:17.168Z"
   },
   {
    "duration": 35,
    "start_time": "2023-11-28T11:24:20.439Z"
   },
   {
    "duration": 4,
    "start_time": "2023-11-28T11:24:21.128Z"
   },
   {
    "duration": 5,
    "start_time": "2023-11-28T11:24:22.528Z"
   },
   {
    "duration": 22,
    "start_time": "2023-11-28T11:24:23.736Z"
   },
   {
    "duration": 4,
    "start_time": "2023-11-28T11:24:29.152Z"
   },
   {
    "duration": 12762,
    "start_time": "2023-11-28T11:24:32.353Z"
   },
   {
    "duration": 3228,
    "start_time": "2023-11-28T11:28:05.416Z"
   },
   {
    "duration": 39,
    "start_time": "2023-11-28T11:28:12.024Z"
   },
   {
    "duration": 4,
    "start_time": "2023-11-28T11:33:00.520Z"
   },
   {
    "duration": 9,
    "start_time": "2023-11-28T11:33:01.231Z"
   },
   {
    "duration": 6,
    "start_time": "2023-11-28T11:33:42.320Z"
   },
   {
    "duration": 261,
    "start_time": "2023-11-28T11:34:42.647Z"
   },
   {
    "duration": 7,
    "start_time": "2023-11-28T11:35:24.375Z"
   },
   {
    "duration": 88,
    "start_time": "2023-11-28T11:35:25.735Z"
   },
   {
    "duration": 7,
    "start_time": "2023-11-28T11:35:46.503Z"
   },
   {
    "duration": 97,
    "start_time": "2023-11-28T11:35:47.487Z"
   },
   {
    "duration": 4,
    "start_time": "2023-11-28T11:35:56.870Z"
   },
   {
    "duration": 6,
    "start_time": "2023-11-28T11:35:57.751Z"
   },
   {
    "duration": 1054071,
    "start_time": "2023-11-28T11:35:58.592Z"
   },
   {
    "duration": 6,
    "start_time": "2023-11-28T11:58:14.187Z"
   },
   {
    "duration": 1709755,
    "start_time": "2023-11-28T11:59:30.834Z"
   },
   {
    "duration": 930232,
    "start_time": "2023-11-28T12:28:00.591Z"
   },
   {
    "duration": 388994,
    "start_time": "2023-11-28T12:43:30.825Z"
   },
   {
    "duration": 10,
    "start_time": "2023-11-28T12:51:09.093Z"
   },
   {
    "duration": 4,
    "start_time": "2023-11-28T12:51:23.721Z"
   },
   {
    "duration": 5,
    "start_time": "2023-11-28T12:51:30.697Z"
   },
   {
    "duration": 8,
    "start_time": "2023-11-28T12:52:44.824Z"
   },
   {
    "duration": 132,
    "start_time": "2023-11-28T12:53:57.857Z"
   },
   {
    "duration": 4,
    "start_time": "2023-11-28T13:03:59.760Z"
   },
   {
    "duration": 1931,
    "start_time": "2023-11-28T13:16:43.254Z"
   },
   {
    "duration": 858,
    "start_time": "2023-11-28T13:16:45.186Z"
   },
   {
    "duration": 28,
    "start_time": "2023-11-28T13:16:46.046Z"
   },
   {
    "duration": 22,
    "start_time": "2023-11-28T13:16:46.075Z"
   },
   {
    "duration": 44,
    "start_time": "2023-11-28T13:16:46.099Z"
   },
   {
    "duration": 27,
    "start_time": "2023-11-28T13:16:46.285Z"
   },
   {
    "duration": 215,
    "start_time": "2023-11-28T13:16:46.541Z"
   },
   {
    "duration": 2540,
    "start_time": "2023-11-28T13:16:46.805Z"
   },
   {
    "duration": 143,
    "start_time": "2023-11-28T13:16:49.347Z"
   },
   {
    "duration": 3,
    "start_time": "2023-11-28T13:16:49.492Z"
   },
   {
    "duration": 18,
    "start_time": "2023-11-28T13:16:49.497Z"
   },
   {
    "duration": 2770,
    "start_time": "2023-11-28T13:16:49.516Z"
   },
   {
    "duration": 342,
    "start_time": "2023-11-28T13:16:52.287Z"
   },
   {
    "duration": 385,
    "start_time": "2023-11-28T13:16:52.630Z"
   },
   {
    "duration": 36,
    "start_time": "2023-11-28T13:16:53.016Z"
   },
   {
    "duration": 4,
    "start_time": "2023-11-28T13:16:53.053Z"
   },
   {
    "duration": 13,
    "start_time": "2023-11-28T13:16:53.060Z"
   },
   {
    "duration": 28,
    "start_time": "2023-11-28T13:16:53.075Z"
   },
   {
    "duration": 4,
    "start_time": "2023-11-28T13:16:53.114Z"
   },
   {
    "duration": 12610,
    "start_time": "2023-11-28T13:16:53.119Z"
   },
   {
    "duration": 4,
    "start_time": "2023-11-28T13:17:05.730Z"
   },
   {
    "duration": 16,
    "start_time": "2023-11-28T13:17:05.735Z"
   },
   {
    "duration": 560464,
    "start_time": "2023-11-28T13:17:18.853Z"
   },
   {
    "duration": 680304,
    "start_time": "2023-11-28T13:26:39.319Z"
   },
   {
    "duration": 154499,
    "start_time": "2023-11-28T13:37:59.624Z"
   },
   {
    "duration": 780063,
    "start_time": "2023-11-28T13:40:34.125Z"
   },
   {
    "duration": 994671,
    "start_time": "2023-11-28T13:53:34.189Z"
   },
   {
    "duration": 126771,
    "start_time": "2023-11-28T14:10:08.862Z"
   },
   {
    "duration": 222,
    "start_time": "2023-11-28T14:12:15.634Z"
   },
   {
    "duration": 99,
    "start_time": "2023-11-28T14:12:15.858Z"
   },
   {
    "duration": 102,
    "start_time": "2023-11-28T14:12:15.958Z"
   },
   {
    "duration": 3186,
    "start_time": "2023-11-28T16:15:19.476Z"
   },
   {
    "duration": 3948,
    "start_time": "2023-11-28T16:15:28.797Z"
   },
   {
    "duration": 3173,
    "start_time": "2023-11-28T16:15:32.747Z"
   },
   {
    "duration": 36,
    "start_time": "2023-11-28T16:15:35.922Z"
   },
   {
    "duration": 17,
    "start_time": "2023-11-28T16:15:35.960Z"
   },
   {
    "duration": 19,
    "start_time": "2023-11-28T16:15:37.074Z"
   },
   {
    "duration": 25,
    "start_time": "2023-11-28T16:15:39.221Z"
   },
   {
    "duration": 217,
    "start_time": "2023-11-28T16:15:39.779Z"
   },
   {
    "duration": 2496,
    "start_time": "2023-11-28T16:15:40.675Z"
   },
   {
    "duration": 136,
    "start_time": "2023-11-28T16:15:45.293Z"
   },
   {
    "duration": 2,
    "start_time": "2023-11-28T16:15:58.602Z"
   },
   {
    "duration": 3,
    "start_time": "2023-11-28T16:15:59.713Z"
   },
   {
    "duration": 2766,
    "start_time": "2023-11-28T16:16:00.364Z"
   },
   {
    "duration": 343,
    "start_time": "2023-11-28T16:16:04.691Z"
   },
   {
    "duration": 367,
    "start_time": "2023-11-28T16:16:20.580Z"
   },
   {
    "duration": 6,
    "start_time": "2023-11-28T16:16:21.773Z"
   },
   {
    "duration": 36,
    "start_time": "2023-11-28T16:16:24.014Z"
   },
   {
    "duration": 4,
    "start_time": "2023-11-28T16:16:25.782Z"
   },
   {
    "duration": 4,
    "start_time": "2023-11-28T16:16:33.023Z"
   },
   {
    "duration": 46,
    "start_time": "2023-11-28T16:16:34.574Z"
   },
   {
    "duration": 3,
    "start_time": "2023-11-28T16:16:36.496Z"
   },
   {
    "duration": 12697,
    "start_time": "2023-11-28T16:16:37.579Z"
   },
   {
    "duration": 4,
    "start_time": "2023-11-28T16:16:59.296Z"
   },
   {
    "duration": 7,
    "start_time": "2023-11-28T16:17:01.697Z"
   },
   {
    "duration": 557689,
    "start_time": "2023-11-28T16:17:04.627Z"
   },
   {
    "duration": 637757,
    "start_time": "2023-11-28T16:26:22.318Z"
   },
   {
    "duration": 154152,
    "start_time": "2023-11-28T16:37:00.077Z"
   },
   {
    "duration": 786671,
    "start_time": "2023-11-28T16:39:34.231Z"
   },
   {
    "duration": 1013455,
    "start_time": "2023-11-28T16:52:40.904Z"
   },
   {
    "duration": 127412,
    "start_time": "2023-11-28T17:09:34.361Z"
   },
   {
    "duration": 7876403,
    "start_time": "2023-11-28T17:11:41.774Z"
   },
   {
    "duration": 7995778,
    "start_time": "2023-11-28T19:22:58.179Z"
   },
   {
    "duration": 2044213,
    "start_time": "2023-11-28T21:36:13.959Z"
   },
   {
    "duration": 140,
    "start_time": "2023-11-28T22:12:25.258Z"
   },
   {
    "duration": 11,
    "start_time": "2023-11-28T22:13:15.757Z"
   },
   {
    "duration": 12,
    "start_time": "2023-11-28T22:14:07.958Z"
   },
   {
    "duration": 4,
    "start_time": "2023-11-28T22:14:23.132Z"
   },
   {
    "duration": 3,
    "start_time": "2023-11-28T22:14:53.771Z"
   },
   {
    "duration": 14,
    "start_time": "2023-11-28T22:15:01.265Z"
   },
   {
    "duration": 50,
    "start_time": "2023-11-29T06:32:43.606Z"
   },
   {
    "duration": 3081,
    "start_time": "2023-11-29T06:34:40.629Z"
   },
   {
    "duration": 2651,
    "start_time": "2023-11-29T06:34:46.908Z"
   },
   {
    "duration": 3292,
    "start_time": "2023-11-29T06:34:51.853Z"
   },
   {
    "duration": 27,
    "start_time": "2023-11-29T06:34:55.147Z"
   },
   {
    "duration": 22,
    "start_time": "2023-11-29T06:34:55.175Z"
   },
   {
    "duration": 29,
    "start_time": "2023-11-29T06:34:55.198Z"
   },
   {
    "duration": 39,
    "start_time": "2023-11-29T06:34:55.228Z"
   },
   {
    "duration": 32,
    "start_time": "2023-11-29T06:34:55.268Z"
   },
   {
    "duration": 224,
    "start_time": "2023-11-29T06:34:55.302Z"
   },
   {
    "duration": 132,
    "start_time": "2023-11-29T06:36:53.133Z"
   },
   {
    "duration": 1767,
    "start_time": "2023-11-29T06:42:37.427Z"
   },
   {
    "duration": 814,
    "start_time": "2023-11-29T06:42:39.196Z"
   },
   {
    "duration": 25,
    "start_time": "2023-11-29T06:42:40.012Z"
   },
   {
    "duration": 34,
    "start_time": "2023-11-29T06:42:40.039Z"
   },
   {
    "duration": 48,
    "start_time": "2023-11-29T06:42:40.075Z"
   },
   {
    "duration": 45,
    "start_time": "2023-11-29T06:42:40.125Z"
   },
   {
    "duration": 211,
    "start_time": "2023-11-29T06:42:43.619Z"
   },
   {
    "duration": 128,
    "start_time": "2023-11-29T06:42:45.131Z"
   },
   {
    "duration": 27,
    "start_time": "2023-11-29T06:42:50.844Z"
   },
   {
    "duration": 2368,
    "start_time": "2023-11-29T06:43:09.699Z"
   },
   {
    "duration": 1922,
    "start_time": "2023-11-29T08:05:56.300Z"
   },
   {
    "duration": 868,
    "start_time": "2023-11-29T08:06:00.131Z"
   },
   {
    "duration": 29,
    "start_time": "2023-11-29T08:06:01.000Z"
   },
   {
    "duration": 25,
    "start_time": "2023-11-29T08:06:01.031Z"
   },
   {
    "duration": 46,
    "start_time": "2023-11-29T08:06:01.058Z"
   },
   {
    "duration": 25,
    "start_time": "2023-11-29T08:06:01.211Z"
   },
   {
    "duration": 218,
    "start_time": "2023-11-29T08:06:02.308Z"
   },
   {
    "duration": 129,
    "start_time": "2023-11-29T08:06:05.411Z"
   },
   {
    "duration": 19,
    "start_time": "2023-11-29T08:06:08.036Z"
   },
   {
    "duration": 2408,
    "start_time": "2023-11-29T08:06:09.236Z"
   },
   {
    "duration": 3,
    "start_time": "2023-11-29T08:06:11.646Z"
   },
   {
    "duration": 15,
    "start_time": "2023-11-29T08:06:11.650Z"
   },
   {
    "duration": 2770,
    "start_time": "2023-11-29T08:06:11.667Z"
   },
   {
    "duration": 348,
    "start_time": "2023-11-29T08:06:14.439Z"
   },
   {
    "duration": 410,
    "start_time": "2023-11-29T08:06:14.789Z"
   },
   {
    "duration": 7,
    "start_time": "2023-11-29T08:06:15.201Z"
   },
   {
    "duration": 6,
    "start_time": "2023-11-29T08:06:48.582Z"
   },
   {
    "duration": 33,
    "start_time": "2023-11-29T08:06:56.236Z"
   },
   {
    "duration": 3,
    "start_time": "2023-11-29T08:06:57.508Z"
   },
   {
    "duration": 4,
    "start_time": "2023-11-29T08:06:59.307Z"
   },
   {
    "duration": 23,
    "start_time": "2023-11-29T08:07:00.300Z"
   },
   {
    "duration": 4,
    "start_time": "2023-11-29T08:07:01.635Z"
   },
   {
    "duration": 12586,
    "start_time": "2023-11-29T08:07:02.931Z"
   },
   {
    "duration": 4,
    "start_time": "2023-11-29T08:07:25.131Z"
   },
   {
    "duration": 6,
    "start_time": "2023-11-29T08:07:25.877Z"
   },
   {
    "duration": 668797,
    "start_time": "2023-11-29T08:07:32.859Z"
   },
   {
    "duration": 4,
    "start_time": "2023-11-29T08:18:41.658Z"
   },
   {
    "duration": 301,
    "start_time": "2023-11-29T08:18:41.664Z"
   },
   {
    "duration": 7,
    "start_time": "2023-11-29T08:22:00.769Z"
   },
   {
    "duration": 198,
    "start_time": "2023-11-29T08:22:06.408Z"
   },
   {
    "duration": 8,
    "start_time": "2023-11-29T08:22:19.729Z"
   },
   {
    "duration": 216,
    "start_time": "2023-11-29T08:22:24.104Z"
   },
   {
    "duration": 4,
    "start_time": "2023-11-29T08:23:03.844Z"
   },
   {
    "duration": 216,
    "start_time": "2023-11-29T08:23:05.024Z"
   },
   {
    "duration": 553430,
    "start_time": "2023-11-29T08:24:19.576Z"
   },
   {
    "duration": 311,
    "start_time": "2023-11-29T08:33:33.008Z"
   },
   {
    "duration": 215,
    "start_time": "2023-11-29T09:07:36.018Z"
   },
   {
    "duration": 71,
    "start_time": "2023-11-29T09:33:54.356Z"
   },
   {
    "duration": 4,
    "start_time": "2023-11-29T09:48:38.794Z"
   },
   {
    "duration": 50,
    "start_time": "2023-11-29T09:48:40.881Z"
   },
   {
    "duration": 1312,
    "start_time": "2023-11-29T10:16:48.184Z"
   },
   {
    "duration": 6,
    "start_time": "2023-11-29T10:17:11.188Z"
   },
   {
    "duration": 4,
    "start_time": "2023-11-29T10:20:55.843Z"
   },
   {
    "duration": 1963,
    "start_time": "2023-11-29T10:20:57.876Z"
   },
   {
    "duration": 913,
    "start_time": "2023-11-29T10:20:59.841Z"
   },
   {
    "duration": 34,
    "start_time": "2023-11-29T10:21:00.756Z"
   },
   {
    "duration": 31,
    "start_time": "2023-11-29T10:21:00.800Z"
   },
   {
    "duration": 57,
    "start_time": "2023-11-29T10:21:00.833Z"
   },
   {
    "duration": 54,
    "start_time": "2023-11-29T10:21:00.892Z"
   },
   {
    "duration": 286,
    "start_time": "2023-11-29T10:21:00.948Z"
   },
   {
    "duration": 141,
    "start_time": "2023-11-29T10:21:01.451Z"
   },
   {
    "duration": 22,
    "start_time": "2023-11-29T10:21:03.939Z"
   },
   {
    "duration": 3,
    "start_time": "2023-11-29T10:21:06.380Z"
   },
   {
    "duration": 32,
    "start_time": "2023-11-29T10:21:07.179Z"
   },
   {
    "duration": 2450,
    "start_time": "2023-11-29T10:21:11.923Z"
   },
   {
    "duration": 6,
    "start_time": "2023-11-29T10:21:15.363Z"
   },
   {
    "duration": 1182,
    "start_time": "2023-11-29T10:21:21.763Z"
   },
   {
    "duration": 5,
    "start_time": "2023-11-29T10:21:30.965Z"
   },
   {
    "duration": 31,
    "start_time": "2023-11-29T10:21:39.509Z"
   },
   {
    "duration": 31,
    "start_time": "2023-11-29T10:25:15.763Z"
   },
   {
    "duration": 7,
    "start_time": "2023-11-29T10:26:33.195Z"
   },
   {
    "duration": 15,
    "start_time": "2023-11-29T10:26:38.786Z"
   },
   {
    "duration": 14,
    "start_time": "2023-11-29T11:01:35.069Z"
   },
   {
    "duration": 7,
    "start_time": "2023-11-29T11:01:54.126Z"
   },
   {
    "duration": 5,
    "start_time": "2023-11-29T11:02:09.932Z"
   },
   {
    "duration": 8,
    "start_time": "2023-11-29T11:02:19.364Z"
   },
   {
    "duration": 6,
    "start_time": "2023-11-29T11:02:20.147Z"
   },
   {
    "duration": 13,
    "start_time": "2023-11-29T11:02:25.068Z"
   },
   {
    "duration": 6,
    "start_time": "2023-11-29T11:02:25.644Z"
   },
   {
    "duration": 1630,
    "start_time": "2023-11-29T11:03:06.772Z"
   },
   {
    "duration": 11088,
    "start_time": "2023-11-29T11:03:25.620Z"
   },
   {
    "duration": 7,
    "start_time": "2023-11-29T11:04:29.300Z"
   },
   {
    "duration": 6240,
    "start_time": "2023-11-29T11:05:41.244Z"
   },
   {
    "duration": 8,
    "start_time": "2023-11-29T11:06:14.092Z"
   },
   {
    "duration": 6,
    "start_time": "2023-11-29T11:06:15.124Z"
   },
   {
    "duration": 611,
    "start_time": "2023-11-29T11:06:22.316Z"
   },
   {
    "duration": 4,
    "start_time": "2023-11-29T11:06:56.947Z"
   },
   {
    "duration": 59,
    "start_time": "2023-11-29T11:08:55.188Z"
   },
   {
    "duration": 3,
    "start_time": "2023-11-29T11:09:02.850Z"
   },
   {
    "duration": 319,
    "start_time": "2023-11-29T11:10:14.349Z"
   },
   {
    "duration": 38,
    "start_time": "2023-11-29T11:12:36.163Z"
   },
   {
    "duration": 463265,
    "start_time": "2023-11-29T11:12:46.043Z"
   },
   {
    "duration": 3,
    "start_time": "2023-11-29T11:21:53.208Z"
   },
   {
    "duration": 4,
    "start_time": "2023-11-29T11:21:54.096Z"
   },
   {
    "duration": 400,
    "start_time": "2023-11-29T11:21:55.407Z"
   },
   {
    "duration": 6,
    "start_time": "2023-11-29T11:21:57.127Z"
   },
   {
    "duration": 20,
    "start_time": "2023-11-29T11:24:14.161Z"
   },
   {
    "duration": 6,
    "start_time": "2023-11-29T11:24:14.392Z"
   },
   {
    "duration": 19,
    "start_time": "2023-11-29T11:24:26.040Z"
   },
   {
    "duration": 26,
    "start_time": "2023-11-29T11:25:47.903Z"
   },
   {
    "duration": 45344,
    "start_time": "2023-11-29T11:26:18.264Z"
   },
   {
    "duration": 0,
    "start_time": "2023-11-29T11:27:03.610Z"
   },
   {
    "duration": 0,
    "start_time": "2023-11-29T11:27:03.611Z"
   },
   {
    "duration": 1974,
    "start_time": "2023-11-29T11:27:09.760Z"
   },
   {
    "duration": 860,
    "start_time": "2023-11-29T11:27:11.736Z"
   },
   {
    "duration": 30,
    "start_time": "2023-11-29T11:27:12.599Z"
   },
   {
    "duration": 20,
    "start_time": "2023-11-29T11:27:12.631Z"
   },
   {
    "duration": 42,
    "start_time": "2023-11-29T11:27:12.652Z"
   },
   {
    "duration": 34,
    "start_time": "2023-11-29T11:27:12.695Z"
   },
   {
    "duration": 234,
    "start_time": "2023-11-29T11:27:12.731Z"
   },
   {
    "duration": 144,
    "start_time": "2023-11-29T11:27:12.966Z"
   },
   {
    "duration": 22,
    "start_time": "2023-11-29T11:27:14.855Z"
   },
   {
    "duration": 4,
    "start_time": "2023-11-29T11:27:15.775Z"
   },
   {
    "duration": 31,
    "start_time": "2023-11-29T11:27:16.087Z"
   },
   {
    "duration": 2416,
    "start_time": "2023-11-29T11:27:17.647Z"
   },
   {
    "duration": 5,
    "start_time": "2023-11-29T11:27:20.064Z"
   },
   {
    "duration": 1163,
    "start_time": "2023-11-29T11:27:26.896Z"
   },
   {
    "duration": 5,
    "start_time": "2023-11-29T11:27:28.061Z"
   },
   {
    "duration": 38,
    "start_time": "2023-11-29T11:27:28.067Z"
   },
   {
    "duration": 8,
    "start_time": "2023-11-29T11:27:36.360Z"
   },
   {
    "duration": 5,
    "start_time": "2023-11-29T11:27:36.847Z"
   },
   {
    "duration": 10,
    "start_time": "2023-11-29T11:27:38.640Z"
   },
   {
    "duration": 1606,
    "start_time": "2023-11-29T11:27:40.327Z"
   },
   {
    "duration": 3977,
    "start_time": "2023-11-29T11:27:41.935Z"
   },
   {
    "duration": 682,
    "start_time": "2023-11-29T11:27:45.914Z"
   },
   {
    "duration": 4,
    "start_time": "2023-11-29T11:27:46.598Z"
   },
   {
    "duration": 70,
    "start_time": "2023-11-29T11:27:46.603Z"
   },
   {
    "duration": 18,
    "start_time": "2023-11-29T11:27:46.675Z"
   },
   {
    "duration": 48,
    "start_time": "2023-11-29T11:28:01.824Z"
   },
   {
    "duration": 0,
    "start_time": "2023-11-29T11:28:01.873Z"
   },
   {
    "duration": 2408,
    "start_time": "2023-11-29T11:28:15.159Z"
   },
   {
    "duration": 3298,
    "start_time": "2023-11-29T11:28:17.569Z"
   },
   {
    "duration": 32,
    "start_time": "2023-11-29T11:28:20.868Z"
   },
   {
    "duration": 12,
    "start_time": "2023-11-29T11:28:20.902Z"
   },
   {
    "duration": 39,
    "start_time": "2023-11-29T11:28:20.915Z"
   },
   {
    "duration": 27,
    "start_time": "2023-11-29T11:28:20.955Z"
   },
   {
    "duration": 228,
    "start_time": "2023-11-29T11:28:20.983Z"
   },
   {
    "duration": 140,
    "start_time": "2023-11-29T11:28:21.213Z"
   },
   {
    "duration": 19,
    "start_time": "2023-11-29T11:28:21.975Z"
   },
   {
    "duration": 4,
    "start_time": "2023-11-29T11:28:22.803Z"
   },
   {
    "duration": 30,
    "start_time": "2023-11-29T11:28:26.071Z"
   },
   {
    "duration": 2395,
    "start_time": "2023-11-29T11:28:27.264Z"
   },
   {
    "duration": 5,
    "start_time": "2023-11-29T11:28:29.661Z"
   },
   {
    "duration": 1173,
    "start_time": "2023-11-29T11:28:33.439Z"
   },
   {
    "duration": 5,
    "start_time": "2023-11-29T11:28:34.614Z"
   },
   {
    "duration": 31,
    "start_time": "2023-11-29T11:28:34.703Z"
   },
   {
    "duration": 6,
    "start_time": "2023-11-29T11:28:35.439Z"
   },
   {
    "duration": 6,
    "start_time": "2023-11-29T11:28:35.918Z"
   },
   {
    "duration": 10,
    "start_time": "2023-11-29T11:28:36.494Z"
   },
   {
    "duration": 7,
    "start_time": "2023-11-29T11:28:42.743Z"
   },
   {
    "duration": 5,
    "start_time": "2023-11-29T11:28:43.143Z"
   },
   {
    "duration": 10,
    "start_time": "2023-11-29T11:28:48.671Z"
   },
   {
    "duration": 1704,
    "start_time": "2023-11-29T11:28:49.735Z"
   },
   {
    "duration": 7250,
    "start_time": "2023-11-29T11:28:52.575Z"
   },
   {
    "duration": 643,
    "start_time": "2023-11-29T11:29:01.248Z"
   },
   {
    "duration": 3,
    "start_time": "2023-11-29T11:29:08.359Z"
   },
   {
    "duration": 41,
    "start_time": "2023-11-29T11:29:22.503Z"
   },
   {
    "duration": 3,
    "start_time": "2023-11-29T11:29:23.975Z"
   },
   {
    "duration": 2219,
    "start_time": "2023-11-29T11:29:43.759Z"
   },
   {
    "duration": 3298,
    "start_time": "2023-11-29T11:29:45.979Z"
   },
   {
    "duration": 33,
    "start_time": "2023-11-29T11:29:49.278Z"
   },
   {
    "duration": 16,
    "start_time": "2023-11-29T11:29:49.314Z"
   },
   {
    "duration": 28,
    "start_time": "2023-11-29T11:29:49.331Z"
   },
   {
    "duration": 48,
    "start_time": "2023-11-29T11:29:49.361Z"
   },
   {
    "duration": 224,
    "start_time": "2023-11-29T11:29:49.411Z"
   },
   {
    "duration": 170,
    "start_time": "2023-11-29T11:29:49.637Z"
   },
   {
    "duration": 23,
    "start_time": "2023-11-29T11:29:49.809Z"
   },
   {
    "duration": 20,
    "start_time": "2023-11-29T11:29:49.835Z"
   },
   {
    "duration": 45,
    "start_time": "2023-11-29T11:29:49.857Z"
   },
   {
    "duration": 2416,
    "start_time": "2023-11-29T11:29:49.903Z"
   },
   {
    "duration": 5,
    "start_time": "2023-11-29T11:29:52.322Z"
   },
   {
    "duration": 1197,
    "start_time": "2023-11-29T11:29:57.406Z"
   },
   {
    "duration": 7,
    "start_time": "2023-11-29T11:29:58.606Z"
   },
   {
    "duration": 50,
    "start_time": "2023-11-29T11:29:58.615Z"
   },
   {
    "duration": 7,
    "start_time": "2023-11-29T11:29:58.667Z"
   },
   {
    "duration": 13,
    "start_time": "2023-11-29T11:29:58.675Z"
   },
   {
    "duration": 10,
    "start_time": "2023-11-29T11:29:58.831Z"
   },
   {
    "duration": 1568,
    "start_time": "2023-11-29T11:29:59.014Z"
   },
   {
    "duration": 7117,
    "start_time": "2023-11-29T11:30:00.584Z"
   },
   {
    "duration": 602,
    "start_time": "2023-11-29T11:30:07.703Z"
   },
   {
    "duration": 3,
    "start_time": "2023-11-29T11:30:08.307Z"
   },
   {
    "duration": 63,
    "start_time": "2023-11-29T11:30:08.312Z"
   },
   {
    "duration": 9,
    "start_time": "2023-11-29T11:30:08.377Z"
   },
   {
    "duration": 2043,
    "start_time": "2023-11-29T11:41:52.662Z"
   },
   {
    "duration": 3228,
    "start_time": "2023-11-29T11:41:56.428Z"
   },
   {
    "duration": 30,
    "start_time": "2023-11-29T11:41:59.658Z"
   },
   {
    "duration": 13,
    "start_time": "2023-11-29T11:41:59.689Z"
   },
   {
    "duration": 25,
    "start_time": "2023-11-29T11:41:59.704Z"
   },
   {
    "duration": 25,
    "start_time": "2023-11-29T11:41:59.730Z"
   },
   {
    "duration": 232,
    "start_time": "2023-11-29T11:41:59.756Z"
   },
   {
    "duration": 155,
    "start_time": "2023-11-29T11:41:59.990Z"
   },
   {
    "duration": 19,
    "start_time": "2023-11-29T11:42:00.147Z"
   },
   {
    "duration": 26,
    "start_time": "2023-11-29T11:42:00.168Z"
   },
   {
    "duration": 96,
    "start_time": "2023-11-29T11:42:00.197Z"
   },
   {
    "duration": 2481,
    "start_time": "2023-11-29T11:42:03.388Z"
   },
   {
    "duration": 4,
    "start_time": "2023-11-29T11:42:05.871Z"
   },
   {
    "duration": 1241,
    "start_time": "2023-11-29T11:42:09.924Z"
   },
   {
    "duration": 6,
    "start_time": "2023-11-29T11:42:11.302Z"
   },
   {
    "duration": 30,
    "start_time": "2023-11-29T11:42:11.580Z"
   },
   {
    "duration": 6,
    "start_time": "2023-11-29T11:42:12.860Z"
   },
   {
    "duration": 5,
    "start_time": "2023-11-29T11:42:13.244Z"
   },
   {
    "duration": 10,
    "start_time": "2023-11-29T11:42:13.948Z"
   },
   {
    "duration": 1563,
    "start_time": "2023-11-29T11:42:15.836Z"
   },
   {
    "duration": 7105,
    "start_time": "2023-11-29T11:42:17.401Z"
   },
   {
    "duration": 645,
    "start_time": "2023-11-29T11:42:24.507Z"
   },
   {
    "duration": 5,
    "start_time": "2023-11-29T11:42:25.153Z"
   },
   {
    "duration": 56,
    "start_time": "2023-11-29T11:42:25.160Z"
   },
   {
    "duration": 22,
    "start_time": "2023-11-29T11:42:25.218Z"
   },
   {
    "duration": 470784,
    "start_time": "2023-11-29T11:42:25.241Z"
   },
   {
    "duration": 4,
    "start_time": "2023-11-29T11:52:02.179Z"
   },
   {
    "duration": 5,
    "start_time": "2023-11-29T11:52:02.579Z"
   },
   {
    "duration": 1890,
    "start_time": "2023-11-29T11:52:05.115Z"
   },
   {
    "duration": 4,
    "start_time": "2023-11-29T11:52:12.203Z"
   },
   {
    "duration": 3,
    "start_time": "2023-11-29T11:53:10.221Z"
   },
   {
    "duration": 1696,
    "start_time": "2023-11-29T11:54:12.203Z"
   },
   {
    "duration": 2304,
    "start_time": "2023-11-29T11:54:44.483Z"
   },
   {
    "duration": 4006,
    "start_time": "2023-11-29T11:56:54.500Z"
   },
   {
    "duration": 26,
    "start_time": "2023-11-29T11:57:08.258Z"
   },
   {
    "duration": 5,
    "start_time": "2023-11-29T11:57:09.882Z"
   },
   {
    "duration": 90447,
    "start_time": "2023-11-29T11:57:12.842Z"
   },
   {
    "duration": 5,
    "start_time": "2023-11-29T11:58:46.586Z"
   },
   {
    "duration": 4,
    "start_time": "2023-11-29T11:58:59.458Z"
   },
   {
    "duration": 5,
    "start_time": "2023-11-29T11:59:15.474Z"
   },
   {
    "duration": 645,
    "start_time": "2023-11-29T12:02:11.355Z"
   },
   {
    "duration": 345,
    "start_time": "2023-11-29T12:02:25.658Z"
   },
   {
    "duration": 3495,
    "start_time": "2023-11-29T12:02:43.305Z"
   },
   {
    "duration": 1971,
    "start_time": "2023-11-29T12:03:23.321Z"
   },
   {
    "duration": 105,
    "start_time": "2023-11-29T12:04:06.331Z"
   },
   {
    "duration": 84,
    "start_time": "2023-11-29T12:05:05.050Z"
   },
   {
    "duration": 59,
    "start_time": "2023-11-29T12:05:38.362Z"
   },
   {
    "duration": 19,
    "start_time": "2023-11-29T12:05:45.825Z"
   },
   {
    "duration": 5231,
    "start_time": "2023-11-29T12:06:38.705Z"
   },
   {
    "duration": 147,
    "start_time": "2023-11-29T12:06:46.401Z"
   },
   {
    "duration": 1228,
    "start_time": "2023-11-29T12:09:06.441Z"
   },
   {
    "duration": 1244,
    "start_time": "2023-11-29T12:09:18.467Z"
   },
   {
    "duration": 100258,
    "start_time": "2023-11-29T12:13:07.344Z"
   },
   {
    "duration": 18,
    "start_time": "2023-11-29T12:15:04.639Z"
   },
   {
    "duration": 9,
    "start_time": "2023-11-29T12:15:05.503Z"
   },
   {
    "duration": 18,
    "start_time": "2023-11-29T12:15:12.176Z"
   },
   {
    "duration": 6,
    "start_time": "2023-11-29T12:15:13.144Z"
   },
   {
    "duration": 14,
    "start_time": "2023-11-29T12:15:14.735Z"
   },
   {
    "duration": 3,
    "start_time": "2023-11-29T12:15:15.680Z"
   },
   {
    "duration": 4291,
    "start_time": "2023-11-29T12:15:16.623Z"
   },
   {
    "duration": 6502,
    "start_time": "2023-11-29T12:15:24.639Z"
   },
   {
    "duration": 4,
    "start_time": "2023-11-29T12:15:38.416Z"
   },
   {
    "duration": 650,
    "start_time": "2023-11-29T12:15:40.647Z"
   },
   {
    "duration": 10,
    "start_time": "2023-11-29T12:15:42.007Z"
   },
   {
    "duration": 2358,
    "start_time": "2023-11-29T12:32:23.315Z"
   },
   {
    "duration": 3354,
    "start_time": "2023-11-29T12:32:26.763Z"
   },
   {
    "duration": 34,
    "start_time": "2023-11-29T12:32:30.119Z"
   },
   {
    "duration": 72,
    "start_time": "2023-11-29T12:32:30.154Z"
   },
   {
    "duration": 131,
    "start_time": "2023-11-29T12:32:30.228Z"
   },
   {
    "duration": 131,
    "start_time": "2023-11-29T12:32:30.360Z"
   },
   {
    "duration": 324,
    "start_time": "2023-11-29T12:32:30.492Z"
   },
   {
    "duration": 153,
    "start_time": "2023-11-29T12:32:30.818Z"
   },
   {
    "duration": 27,
    "start_time": "2023-11-29T12:32:30.973Z"
   },
   {
    "duration": 55,
    "start_time": "2023-11-29T12:32:31.001Z"
   },
   {
    "duration": 69,
    "start_time": "2023-11-29T12:32:31.059Z"
   },
   {
    "duration": 2509,
    "start_time": "2023-11-29T12:32:31.235Z"
   },
   {
    "duration": 6,
    "start_time": "2023-11-29T12:32:33.746Z"
   },
   {
    "duration": 1266,
    "start_time": "2023-11-29T12:32:38.227Z"
   },
   {
    "duration": 6,
    "start_time": "2023-11-29T12:32:39.494Z"
   },
   {
    "duration": 101,
    "start_time": "2023-11-29T12:32:39.501Z"
   },
   {
    "duration": 28,
    "start_time": "2023-11-29T12:32:39.604Z"
   },
   {
    "duration": 6,
    "start_time": "2023-11-29T12:32:39.828Z"
   },
   {
    "duration": 11,
    "start_time": "2023-11-29T12:32:40.299Z"
   },
   {
    "duration": 8,
    "start_time": "2023-11-29T12:32:46.356Z"
   },
   {
    "duration": 6,
    "start_time": "2023-11-29T12:32:46.563Z"
   },
   {
    "duration": 10,
    "start_time": "2023-11-29T12:32:47.891Z"
   },
   {
    "duration": 1712,
    "start_time": "2023-11-29T12:32:48.804Z"
   },
   {
    "duration": 7699,
    "start_time": "2023-11-29T12:32:50.518Z"
   },
   {
    "duration": 2035,
    "start_time": "2023-11-29T12:32:58.219Z"
   },
   {
    "duration": 4,
    "start_time": "2023-11-29T12:33:03.147Z"
   },
   {
    "duration": 142,
    "start_time": "2023-11-29T12:33:05.539Z"
   },
   {
    "duration": 4,
    "start_time": "2023-11-29T12:33:05.931Z"
   },
   {
    "duration": 2413,
    "start_time": "2023-11-29T12:59:32.678Z"
   },
   {
    "duration": 3277,
    "start_time": "2023-11-29T12:59:35.093Z"
   },
   {
    "duration": 33,
    "start_time": "2023-11-29T12:59:38.372Z"
   },
   {
    "duration": 12,
    "start_time": "2023-11-29T12:59:38.407Z"
   },
   {
    "duration": 26,
    "start_time": "2023-11-29T12:59:38.421Z"
   },
   {
    "duration": 55,
    "start_time": "2023-11-29T12:59:38.448Z"
   },
   {
    "duration": 238,
    "start_time": "2023-11-29T12:59:38.504Z"
   },
   {
    "duration": 160,
    "start_time": "2023-11-29T12:59:38.744Z"
   },
   {
    "duration": 20,
    "start_time": "2023-11-29T12:59:38.905Z"
   },
   {
    "duration": 11,
    "start_time": "2023-11-29T12:59:38.927Z"
   },
   {
    "duration": 32,
    "start_time": "2023-11-29T12:59:38.939Z"
   },
   {
    "duration": 2522,
    "start_time": "2023-11-29T12:59:38.973Z"
   },
   {
    "duration": 5,
    "start_time": "2023-11-29T12:59:41.499Z"
   },
   {
    "duration": 1170,
    "start_time": "2023-11-29T12:59:47.896Z"
   },
   {
    "duration": 5,
    "start_time": "2023-11-29T12:59:49.068Z"
   },
   {
    "duration": 28,
    "start_time": "2023-11-29T12:59:49.286Z"
   },
   {
    "duration": 7,
    "start_time": "2023-11-29T12:59:50.373Z"
   },
   {
    "duration": 6,
    "start_time": "2023-11-29T12:59:51.037Z"
   },
   {
    "duration": 9,
    "start_time": "2023-11-29T12:59:51.486Z"
   },
   {
    "duration": 1606,
    "start_time": "2023-11-29T12:59:52.158Z"
   },
   {
    "duration": 7252,
    "start_time": "2023-11-29T12:59:53.766Z"
   },
   {
    "duration": 8,
    "start_time": "2023-11-29T13:00:06.759Z"
   },
   {
    "duration": 8,
    "start_time": "2023-11-29T13:00:07.182Z"
   },
   {
    "duration": 8,
    "start_time": "2023-11-29T13:00:13.823Z"
   },
   {
    "duration": 6,
    "start_time": "2023-11-29T13:00:14.542Z"
   },
   {
    "duration": 8,
    "start_time": "2023-11-29T13:00:18.207Z"
   },
   {
    "duration": 7,
    "start_time": "2023-11-29T13:00:18.654Z"
   },
   {
    "duration": 12,
    "start_time": "2023-11-29T13:00:20.206Z"
   },
   {
    "duration": 3,
    "start_time": "2023-11-29T13:00:21.838Z"
   },
   {
    "duration": 4342,
    "start_time": "2023-11-29T13:00:22.182Z"
   },
   {
    "duration": 1258,
    "start_time": "2023-11-29T13:00:26.526Z"
   },
   {
    "duration": 4,
    "start_time": "2023-11-29T13:00:27.785Z"
   },
   {
    "duration": 92,
    "start_time": "2023-11-29T13:00:27.792Z"
   },
   {
    "duration": 4,
    "start_time": "2023-11-29T13:00:30.126Z"
   },
   {
    "duration": 2398,
    "start_time": "2023-11-29T13:15:33.885Z"
   },
   {
    "duration": 3360,
    "start_time": "2023-11-29T13:15:36.286Z"
   },
   {
    "duration": 36,
    "start_time": "2023-11-29T13:15:39.648Z"
   },
   {
    "duration": 27,
    "start_time": "2023-11-29T13:15:39.686Z"
   },
   {
    "duration": 37,
    "start_time": "2023-11-29T13:15:39.714Z"
   },
   {
    "duration": 54,
    "start_time": "2023-11-29T13:15:39.752Z"
   },
   {
    "duration": 260,
    "start_time": "2023-11-29T13:15:39.808Z"
   },
   {
    "duration": 151,
    "start_time": "2023-11-29T13:15:40.070Z"
   },
   {
    "duration": 19,
    "start_time": "2023-11-29T13:15:40.223Z"
   },
   {
    "duration": 26,
    "start_time": "2023-11-29T13:15:40.244Z"
   },
   {
    "duration": 36,
    "start_time": "2023-11-29T13:15:40.271Z"
   },
   {
    "duration": 2544,
    "start_time": "2023-11-29T13:15:40.309Z"
   },
   {
    "duration": 6,
    "start_time": "2023-11-29T13:15:42.855Z"
   },
   {
    "duration": 1415,
    "start_time": "2023-11-29T13:15:50.080Z"
   },
   {
    "duration": 6,
    "start_time": "2023-11-29T13:15:51.496Z"
   },
   {
    "duration": 31,
    "start_time": "2023-11-29T13:15:51.503Z"
   },
   {
    "duration": 8,
    "start_time": "2023-11-29T13:15:59.756Z"
   },
   {
    "duration": 6,
    "start_time": "2023-11-29T13:16:00.621Z"
   },
   {
    "duration": 12,
    "start_time": "2023-11-29T13:16:02.220Z"
   },
   {
    "duration": 1639,
    "start_time": "2023-11-29T13:16:03.236Z"
   },
   {
    "duration": 7740,
    "start_time": "2023-11-29T13:16:04.878Z"
   },
   {
    "duration": 1014,
    "start_time": "2023-11-29T13:16:12.620Z"
   },
   {
    "duration": 3,
    "start_time": "2023-11-29T13:16:13.636Z"
   },
   {
    "duration": 80,
    "start_time": "2023-11-29T13:16:13.641Z"
   },
   {
    "duration": 15,
    "start_time": "2023-11-29T13:16:13.722Z"
   },
   {
    "duration": 857300,
    "start_time": "2023-11-29T13:16:13.739Z"
   },
   {
    "duration": 5,
    "start_time": "2023-11-29T13:32:14.403Z"
   },
   {
    "duration": 8,
    "start_time": "2023-11-29T13:32:15.746Z"
   },
   {
    "duration": 5869,
    "start_time": "2023-11-29T13:32:16.337Z"
   },
   {
    "duration": 2282,
    "start_time": "2023-11-29T13:32:41.265Z"
   },
   {
    "duration": 147456,
    "start_time": "2023-11-29T13:32:43.549Z"
   },
   {
    "duration": 7,
    "start_time": "2023-11-29T13:37:16.505Z"
   },
   {
    "duration": 12,
    "start_time": "2023-11-29T13:39:16.936Z"
   },
   {
    "duration": 20,
    "start_time": "2023-11-29T13:39:31.999Z"
   },
   {
    "duration": 3633,
    "start_time": "2023-11-30T12:29:30.158Z"
   },
   {
    "duration": 3039,
    "start_time": "2023-11-30T12:29:42.392Z"
   },
   {
    "duration": 3404,
    "start_time": "2023-11-30T12:29:45.433Z"
   },
   {
    "duration": 31,
    "start_time": "2023-11-30T12:29:48.838Z"
   },
   {
    "duration": 18,
    "start_time": "2023-11-30T12:29:48.871Z"
   },
   {
    "duration": 35,
    "start_time": "2023-11-30T12:29:48.890Z"
   },
   {
    "duration": 40,
    "start_time": "2023-11-30T12:29:48.926Z"
   },
   {
    "duration": 240,
    "start_time": "2023-11-30T12:29:48.967Z"
   },
   {
    "duration": 167,
    "start_time": "2023-11-30T12:29:49.214Z"
   },
   {
    "duration": 20,
    "start_time": "2023-11-30T12:29:49.382Z"
   },
   {
    "duration": 23,
    "start_time": "2023-11-30T12:29:49.414Z"
   },
   {
    "duration": 40,
    "start_time": "2023-11-30T12:29:49.439Z"
   },
   {
    "duration": 2762,
    "start_time": "2023-11-30T12:29:49.481Z"
   },
   {
    "duration": 6,
    "start_time": "2023-11-30T12:29:52.246Z"
   },
   {
    "duration": 23,
    "start_time": "2023-11-30T12:29:52.254Z"
   },
   {
    "duration": 32,
    "start_time": "2023-11-30T12:29:52.279Z"
   },
   {
    "duration": 3004,
    "start_time": "2023-11-30T12:29:52.313Z"
   },
   {
    "duration": 380,
    "start_time": "2023-11-30T12:29:55.319Z"
   },
   {
    "duration": 416,
    "start_time": "2023-11-30T12:29:55.701Z"
   },
   {
    "duration": 9,
    "start_time": "2023-11-30T12:29:56.119Z"
   },
   {
    "duration": 47,
    "start_time": "2023-11-30T12:29:56.130Z"
   },
   {
    "duration": 5,
    "start_time": "2023-11-30T12:29:56.179Z"
   },
   {
    "duration": 31,
    "start_time": "2023-11-30T12:29:56.186Z"
   },
   {
    "duration": 34,
    "start_time": "2023-11-30T12:29:56.219Z"
   },
   {
    "duration": 6,
    "start_time": "2023-11-30T12:29:56.254Z"
   },
   {
    "duration": 13772,
    "start_time": "2023-11-30T12:29:56.262Z"
   },
   {
    "duration": 4,
    "start_time": "2023-11-30T12:30:16.029Z"
   },
   {
    "duration": 8,
    "start_time": "2023-11-30T12:30:16.559Z"
   },
   {
    "duration": 4,
    "start_time": "2023-11-30T12:36:23.188Z"
   },
   {
    "duration": 9,
    "start_time": "2023-11-30T12:36:29.091Z"
   },
   {
    "duration": 1002221,
    "start_time": "2023-11-30T12:36:38.027Z"
   },
   {
    "duration": 3387,
    "start_time": "2023-12-01T06:52:27.400Z"
   },
   {
    "duration": 2864,
    "start_time": "2023-12-01T06:52:32.735Z"
   },
   {
    "duration": 3133,
    "start_time": "2023-12-01T06:52:35.601Z"
   },
   {
    "duration": 26,
    "start_time": "2023-12-01T06:52:38.736Z"
   },
   {
    "duration": 13,
    "start_time": "2023-12-01T06:52:38.764Z"
   },
   {
    "duration": 27,
    "start_time": "2023-12-01T06:52:38.778Z"
   },
   {
    "duration": 27,
    "start_time": "2023-12-01T06:52:38.815Z"
   },
   {
    "duration": 232,
    "start_time": "2023-12-01T06:52:38.844Z"
   },
   {
    "duration": 141,
    "start_time": "2023-12-01T06:52:39.078Z"
   },
   {
    "duration": 19,
    "start_time": "2023-12-01T06:52:39.220Z"
   },
   {
    "duration": 47,
    "start_time": "2023-12-01T06:52:39.241Z"
   },
   {
    "duration": 29,
    "start_time": "2023-12-01T06:52:39.290Z"
   },
   {
    "duration": 2531,
    "start_time": "2023-12-01T06:52:39.320Z"
   },
   {
    "duration": 5,
    "start_time": "2023-12-01T06:52:43.206Z"
   },
   {
    "duration": 2662,
    "start_time": "2023-12-01T06:52:48.462Z"
   },
   {
    "duration": 2,
    "start_time": "2023-12-01T06:52:51.758Z"
   },
   {
    "duration": 38,
    "start_time": "2023-12-01T06:52:52.046Z"
   },
   {
    "duration": 7,
    "start_time": "2023-12-01T06:52:52.550Z"
   },
   {
    "duration": 5,
    "start_time": "2023-12-01T06:52:52.790Z"
   },
   {
    "duration": 10,
    "start_time": "2023-12-01T06:52:53.045Z"
   },
   {
    "duration": 10469,
    "start_time": "2023-12-01T06:52:53.261Z"
   },
   {
    "duration": 1007,
    "start_time": "2023-12-01T06:53:03.733Z"
   },
   {
    "duration": 4,
    "start_time": "2023-12-01T06:53:04.741Z"
   },
   {
    "duration": 61,
    "start_time": "2023-12-01T06:53:09.502Z"
   },
   {
    "duration": 4,
    "start_time": "2023-12-01T06:53:10.854Z"
   },
   {
    "duration": 708538,
    "start_time": "2023-12-01T06:53:14.710Z"
   },
   {
    "duration": 4,
    "start_time": "2023-12-01T07:18:30.040Z"
   },
   {
    "duration": 6,
    "start_time": "2023-12-01T07:18:30.463Z"
   },
   {
    "duration": 3841,
    "start_time": "2023-12-01T07:18:31.576Z"
   },
   {
    "duration": 407,
    "start_time": "2023-12-01T07:18:35.420Z"
   },
   {
    "duration": 0,
    "start_time": "2023-12-01T07:18:35.829Z"
   },
   {
    "duration": 4089,
    "start_time": "2023-12-01T07:18:56.710Z"
   },
   {
    "duration": 693701,
    "start_time": "2023-12-01T07:19:00.801Z"
   },
   {
    "duration": 1871,
    "start_time": "2023-12-01T08:06:52.544Z"
   },
   {
    "duration": 883,
    "start_time": "2023-12-01T08:06:54.416Z"
   },
   {
    "duration": 34,
    "start_time": "2023-12-01T08:06:55.300Z"
   },
   {
    "duration": 43,
    "start_time": "2023-12-01T08:06:55.338Z"
   },
   {
    "duration": 28,
    "start_time": "2023-12-01T08:06:55.382Z"
   },
   {
    "duration": 44,
    "start_time": "2023-12-01T08:06:55.412Z"
   },
   {
    "duration": 245,
    "start_time": "2023-12-01T08:06:55.458Z"
   },
   {
    "duration": 139,
    "start_time": "2023-12-01T08:06:55.705Z"
   },
   {
    "duration": 21,
    "start_time": "2023-12-01T08:06:55.846Z"
   },
   {
    "duration": 4,
    "start_time": "2023-12-01T08:06:55.869Z"
   },
   {
    "duration": 51,
    "start_time": "2023-12-01T08:06:55.874Z"
   },
   {
    "duration": 2527,
    "start_time": "2023-12-01T08:06:55.928Z"
   },
   {
    "duration": 5,
    "start_time": "2023-12-01T08:06:58.457Z"
   },
   {
    "duration": 20,
    "start_time": "2023-12-01T08:06:58.463Z"
   },
   {
    "duration": 19,
    "start_time": "2023-12-01T08:06:58.485Z"
   },
   {
    "duration": 2833,
    "start_time": "2023-12-01T08:06:58.505Z"
   },
   {
    "duration": 359,
    "start_time": "2023-12-01T08:07:01.339Z"
   },
   {
    "duration": 398,
    "start_time": "2023-12-01T08:07:01.700Z"
   },
   {
    "duration": 15,
    "start_time": "2023-12-01T08:07:02.100Z"
   },
   {
    "duration": 50,
    "start_time": "2023-12-01T08:07:02.118Z"
   },
   {
    "duration": 5,
    "start_time": "2023-12-01T08:07:02.170Z"
   },
   {
    "duration": 15,
    "start_time": "2023-12-01T08:07:02.177Z"
   },
   {
    "duration": 41,
    "start_time": "2023-12-01T08:07:02.194Z"
   },
   {
    "duration": 15,
    "start_time": "2023-12-01T08:07:02.237Z"
   },
   {
    "duration": 12919,
    "start_time": "2023-12-01T08:07:02.254Z"
   },
   {
    "duration": 4,
    "start_time": "2023-12-01T08:07:15.174Z"
   },
   {
    "duration": 19,
    "start_time": "2023-12-01T08:07:15.179Z"
   },
   {
    "duration": 1116094,
    "start_time": "2023-12-01T08:07:15.199Z"
   },
   {
    "duration": 351,
    "start_time": "2023-12-01T08:31:59.477Z"
   },
   {
    "duration": 27267,
    "start_time": "2023-12-01T08:32:38.406Z"
   },
   {
    "duration": 27864,
    "start_time": "2023-12-01T08:34:34.997Z"
   },
   {
    "duration": 31893,
    "start_time": "2023-12-01T08:36:54.780Z"
   },
   {
    "duration": 4,
    "start_time": "2023-12-01T08:38:16.244Z"
   },
   {
    "duration": 27692,
    "start_time": "2023-12-01T08:38:18.507Z"
   },
   {
    "duration": 919853,
    "start_time": "2023-12-01T08:55:51.064Z"
   },
   {
    "duration": 27633,
    "start_time": "2023-12-01T09:13:43.261Z"
   },
   {
    "duration": 26590,
    "start_time": "2023-12-01T09:14:10.896Z"
   },
   {
    "duration": 31607,
    "start_time": "2023-12-01T09:14:37.488Z"
   },
   {
    "duration": 36828,
    "start_time": "2023-12-01T09:15:31.971Z"
   },
   {
    "duration": 37480,
    "start_time": "2023-12-01T09:17:01.284Z"
   },
   {
    "duration": 37162,
    "start_time": "2023-12-01T09:19:59.308Z"
   },
   {
    "duration": 3,
    "start_time": "2023-12-01T09:20:48.002Z"
   },
   {
    "duration": 1951,
    "start_time": "2023-12-02T11:21:44.173Z"
   },
   {
    "duration": 4806,
    "start_time": "2023-12-04T07:19:50.497Z"
   },
   {
    "duration": 3311,
    "start_time": "2023-12-04T07:19:58.997Z"
   },
   {
    "duration": 1095,
    "start_time": "2023-12-04T07:20:02.311Z"
   },
   {
    "duration": 2238,
    "start_time": "2023-12-04T07:22:56.645Z"
   },
   {
    "duration": 30,
    "start_time": "2023-12-04T07:22:58.885Z"
   },
   {
    "duration": 15,
    "start_time": "2023-12-04T07:22:58.917Z"
   },
   {
    "duration": 34,
    "start_time": "2023-12-04T07:22:58.935Z"
   },
   {
    "duration": 29,
    "start_time": "2023-12-04T07:22:58.970Z"
   },
   {
    "duration": 233,
    "start_time": "2023-12-04T07:22:59.001Z"
   },
   {
    "duration": 145,
    "start_time": "2023-12-04T07:22:59.236Z"
   },
   {
    "duration": 18,
    "start_time": "2023-12-04T07:22:59.715Z"
   },
   {
    "duration": 4,
    "start_time": "2023-12-04T07:23:00.154Z"
   },
   {
    "duration": 29,
    "start_time": "2023-12-04T07:23:00.371Z"
   },
   {
    "duration": 2485,
    "start_time": "2023-12-04T07:23:00.796Z"
   },
   {
    "duration": 4,
    "start_time": "2023-12-04T07:23:03.283Z"
   },
   {
    "duration": 486,
    "start_time": "2023-12-04T07:25:09.380Z"
   },
   {
    "duration": 3,
    "start_time": "2023-12-04T07:25:11.507Z"
   },
   {
    "duration": 3,
    "start_time": "2023-12-04T07:25:14.082Z"
   },
   {
    "duration": 285467,
    "start_time": "2023-12-04T07:25:14.419Z"
   },
   {
    "duration": 0,
    "start_time": "2023-12-04T07:29:59.888Z"
   },
   {
    "duration": 62,
    "start_time": "2023-12-04T07:30:06.410Z"
   },
   {
    "duration": 883,
    "start_time": "2023-12-04T07:30:06.875Z"
   },
   {
    "duration": 27,
    "start_time": "2023-12-04T07:30:07.760Z"
   },
   {
    "duration": 11,
    "start_time": "2023-12-04T07:30:07.789Z"
   },
   {
    "duration": 51,
    "start_time": "2023-12-04T07:30:07.802Z"
   },
   {
    "duration": 25,
    "start_time": "2023-12-04T07:30:07.855Z"
   },
   {
    "duration": 208,
    "start_time": "2023-12-04T07:30:07.931Z"
   },
   {
    "duration": 132,
    "start_time": "2023-12-04T07:30:08.418Z"
   },
   {
    "duration": 18,
    "start_time": "2023-12-04T07:30:09.572Z"
   },
   {
    "duration": 4,
    "start_time": "2023-12-04T07:30:10.035Z"
   },
   {
    "duration": 28,
    "start_time": "2023-12-04T07:30:10.314Z"
   },
   {
    "duration": 2542,
    "start_time": "2023-12-04T07:30:10.802Z"
   },
   {
    "duration": 12,
    "start_time": "2023-12-04T07:30:13.347Z"
   },
   {
    "duration": 418,
    "start_time": "2023-12-04T07:30:14.042Z"
   },
   {
    "duration": 5,
    "start_time": "2023-12-04T07:30:23.178Z"
   },
   {
    "duration": 30,
    "start_time": "2023-12-04T07:30:35.523Z"
   },
   {
    "duration": 9,
    "start_time": "2023-12-04T07:32:11.234Z"
   },
   {
    "duration": 4120,
    "start_time": "2023-12-04T07:32:16.987Z"
   },
   {
    "duration": 815,
    "start_time": "2023-12-04T07:32:23.154Z"
   },
   {
    "duration": 24,
    "start_time": "2023-12-04T07:32:23.971Z"
   },
   {
    "duration": 19,
    "start_time": "2023-12-04T07:32:23.996Z"
   },
   {
    "duration": 35,
    "start_time": "2023-12-04T07:32:24.017Z"
   },
   {
    "duration": 25,
    "start_time": "2023-12-04T07:32:24.249Z"
   },
   {
    "duration": 212,
    "start_time": "2023-12-04T07:32:24.505Z"
   },
   {
    "duration": 140,
    "start_time": "2023-12-04T07:32:24.986Z"
   },
   {
    "duration": 18,
    "start_time": "2023-12-04T07:32:26.249Z"
   },
   {
    "duration": 4,
    "start_time": "2023-12-04T07:32:26.713Z"
   },
   {
    "duration": 29,
    "start_time": "2023-12-04T07:32:26.977Z"
   },
   {
    "duration": 2439,
    "start_time": "2023-12-04T07:32:27.473Z"
   },
   {
    "duration": 4,
    "start_time": "2023-12-04T07:32:29.914Z"
   },
   {
    "duration": 498,
    "start_time": "2023-12-04T07:32:30.321Z"
   },
   {
    "duration": 3,
    "start_time": "2023-12-04T07:32:34.080Z"
   },
   {
    "duration": 3,
    "start_time": "2023-12-04T07:32:48.249Z"
   },
   {
    "duration": 304,
    "start_time": "2023-12-04T07:32:55.561Z"
   },
   {
    "duration": 2144768,
    "start_time": "2023-12-04T07:33:02.730Z"
   },
   {
    "duration": 380,
    "start_time": "2023-12-04T08:50:53.780Z"
   },
   {
    "duration": 389,
    "start_time": "2023-12-04T08:50:55.203Z"
   },
   {
    "duration": 6,
    "start_time": "2023-12-04T08:50:57.828Z"
   },
   {
    "duration": 42,
    "start_time": "2023-12-04T08:51:47.547Z"
   },
   {
    "duration": 3,
    "start_time": "2023-12-04T08:51:47.915Z"
   },
   {
    "duration": 4,
    "start_time": "2023-12-04T08:51:48.875Z"
   },
   {
    "duration": 40,
    "start_time": "2023-12-04T08:51:49.667Z"
   },
   {
    "duration": 3198,
    "start_time": "2023-12-05T06:32:58.518Z"
   },
   {
    "duration": 5703,
    "start_time": "2023-12-05T06:33:20.628Z"
   },
   {
    "duration": 3265,
    "start_time": "2023-12-05T06:33:26.333Z"
   },
   {
    "duration": 35,
    "start_time": "2023-12-05T06:33:29.600Z"
   },
   {
    "duration": 38,
    "start_time": "2023-12-05T06:33:29.637Z"
   },
   {
    "duration": 36,
    "start_time": "2023-12-05T06:33:29.676Z"
   },
   {
    "duration": 29,
    "start_time": "2023-12-05T06:33:29.714Z"
   },
   {
    "duration": 259,
    "start_time": "2023-12-05T06:33:29.744Z"
   },
   {
    "duration": 152,
    "start_time": "2023-12-05T06:33:30.005Z"
   },
   {
    "duration": 23,
    "start_time": "2023-12-05T06:33:30.159Z"
   },
   {
    "duration": 22,
    "start_time": "2023-12-05T06:33:30.184Z"
   },
   {
    "duration": 70,
    "start_time": "2023-12-05T06:33:30.208Z"
   },
   {
    "duration": 2480,
    "start_time": "2023-12-05T06:33:30.279Z"
   },
   {
    "duration": 6,
    "start_time": "2023-12-05T06:33:32.761Z"
   },
   {
    "duration": 511,
    "start_time": "2023-12-05T06:33:32.769Z"
   },
   {
    "duration": 2,
    "start_time": "2023-12-05T06:33:33.282Z"
   },
   {
    "duration": 250119,
    "start_time": "2023-12-05T06:33:33.286Z"
   },
   {
    "duration": 0,
    "start_time": "2023-12-05T06:37:43.407Z"
   },
   {
    "duration": 0,
    "start_time": "2023-12-05T06:37:43.409Z"
   },
   {
    "duration": 0,
    "start_time": "2023-12-05T06:37:43.410Z"
   },
   {
    "duration": 0,
    "start_time": "2023-12-05T06:37:43.412Z"
   },
   {
    "duration": 0,
    "start_time": "2023-12-05T06:37:43.413Z"
   },
   {
    "duration": 5,
    "start_time": "2023-12-05T06:37:50.491Z"
   },
   {
    "duration": 4531,
    "start_time": "2023-12-05T06:37:50.750Z"
   },
   {
    "duration": 883,
    "start_time": "2023-12-05T06:37:55.282Z"
   },
   {
    "duration": 33,
    "start_time": "2023-12-05T06:37:56.166Z"
   },
   {
    "duration": 30,
    "start_time": "2023-12-05T06:37:56.201Z"
   },
   {
    "duration": 34,
    "start_time": "2023-12-05T06:37:56.233Z"
   },
   {
    "duration": 27,
    "start_time": "2023-12-05T06:37:56.269Z"
   },
   {
    "duration": 245,
    "start_time": "2023-12-05T06:37:56.298Z"
   },
   {
    "duration": 160,
    "start_time": "2023-12-05T06:37:56.544Z"
   },
   {
    "duration": 29,
    "start_time": "2023-12-05T06:37:56.706Z"
   },
   {
    "duration": 10,
    "start_time": "2023-12-05T06:37:56.737Z"
   },
   {
    "duration": 36,
    "start_time": "2023-12-05T06:37:56.749Z"
   },
   {
    "duration": 2537,
    "start_time": "2023-12-05T06:37:56.787Z"
   },
   {
    "duration": 8,
    "start_time": "2023-12-05T06:37:59.326Z"
   },
   {
    "duration": 507,
    "start_time": "2023-12-05T06:37:59.337Z"
   },
   {
    "duration": 3,
    "start_time": "2023-12-05T06:38:00.492Z"
   },
   {
    "duration": 2345921,
    "start_time": "2023-12-05T06:38:01.860Z"
   },
   {
    "duration": 6189,
    "start_time": "2023-12-05T07:17:58.950Z"
   },
   {
    "duration": 5902,
    "start_time": "2023-12-05T07:19:32.902Z"
   },
   {
    "duration": 62,
    "start_time": "2023-12-05T07:19:53.197Z"
   },
   {
    "duration": 410,
    "start_time": "2023-12-05T07:20:11.581Z"
   },
   {
    "duration": 51,
    "start_time": "2023-12-05T07:20:26.870Z"
   },
   {
    "duration": 69,
    "start_time": "2023-12-05T07:23:25.501Z"
   },
   {
    "duration": 5948,
    "start_time": "2023-12-05T07:23:33.717Z"
   },
   {
    "duration": 370,
    "start_time": "2023-12-05T07:24:01.980Z"
   },
   {
    "duration": 413,
    "start_time": "2023-12-05T07:24:02.352Z"
   },
   {
    "duration": 6,
    "start_time": "2023-12-05T07:24:02.767Z"
   },
   {
    "duration": 41,
    "start_time": "2023-12-05T07:24:03.941Z"
   },
   {
    "duration": 4,
    "start_time": "2023-12-05T07:24:04.164Z"
   },
   {
    "duration": 4,
    "start_time": "2023-12-05T07:24:04.621Z"
   },
   {
    "duration": 5,
    "start_time": "2023-12-05T11:32:46.015Z"
   },
   {
    "duration": 78,
    "start_time": "2023-12-05T12:30:40.301Z"
   },
   {
    "duration": 4,
    "start_time": "2023-12-05T12:30:42.284Z"
   },
   {
    "duration": 6,
    "start_time": "2023-12-05T12:30:45.020Z"
   },
   {
    "duration": 25,
    "start_time": "2023-12-05T12:30:46.013Z"
   },
   {
    "duration": 7096,
    "start_time": "2023-12-05T12:31:17.014Z"
   },
   {
    "duration": 41,
    "start_time": "2023-12-05T12:31:29.550Z"
   },
   {
    "duration": 30,
    "start_time": "2023-12-05T12:33:44.028Z"
   },
   {
    "duration": 3,
    "start_time": "2023-12-05T12:35:13.356Z"
   },
   {
    "duration": 4799,
    "start_time": "2023-12-05T12:35:13.362Z"
   },
   {
    "duration": 880,
    "start_time": "2023-12-05T12:35:18.164Z"
   },
   {
    "duration": 35,
    "start_time": "2023-12-05T12:35:19.947Z"
   },
   {
    "duration": 15,
    "start_time": "2023-12-05T12:35:20.395Z"
   },
   {
    "duration": 31,
    "start_time": "2023-12-05T12:35:21.891Z"
   },
   {
    "duration": 28,
    "start_time": "2023-12-05T12:35:22.171Z"
   },
   {
    "duration": 239,
    "start_time": "2023-12-05T12:35:22.459Z"
   },
   {
    "duration": 144,
    "start_time": "2023-12-05T12:35:23.420Z"
   },
   {
    "duration": 23,
    "start_time": "2023-12-05T12:35:24.659Z"
   },
   {
    "duration": 4,
    "start_time": "2023-12-05T12:35:25.123Z"
   },
   {
    "duration": 32,
    "start_time": "2023-12-05T12:35:25.331Z"
   },
   {
    "duration": 2480,
    "start_time": "2023-12-05T12:35:25.828Z"
   },
   {
    "duration": 6,
    "start_time": "2023-12-05T12:35:28.310Z"
   },
   {
    "duration": 510,
    "start_time": "2023-12-05T12:35:28.318Z"
   },
   {
    "duration": 2373745,
    "start_time": "2023-12-05T12:35:31.051Z"
   },
   {
    "duration": 390,
    "start_time": "2023-12-05T13:15:58.925Z"
   },
   {
    "duration": 436,
    "start_time": "2023-12-05T13:16:07.260Z"
   },
   {
    "duration": 3,
    "start_time": "2023-12-05T13:16:08.884Z"
   },
   {
    "duration": 4,
    "start_time": "2023-12-05T13:16:11.372Z"
   },
   {
    "duration": 72,
    "start_time": "2023-12-05T13:16:12.284Z"
   },
   {
    "duration": 4,
    "start_time": "2023-12-05T13:16:13.084Z"
   },
   {
    "duration": 4,
    "start_time": "2023-12-05T13:16:14.228Z"
   },
   {
    "duration": 11,
    "start_time": "2023-12-05T13:16:15.149Z"
   },
   {
    "duration": 107,
    "start_time": "2023-12-05T13:16:17.963Z"
   },
   {
    "duration": 343,
    "start_time": "2023-12-05T13:16:29.892Z"
   },
   {
    "duration": 36,
    "start_time": "2023-12-05T13:16:39.580Z"
   },
   {
    "duration": 64,
    "start_time": "2023-12-05T13:17:19.806Z"
   },
   {
    "duration": 6,
    "start_time": "2023-12-05T13:17:23.492Z"
   },
   {
    "duration": 38,
    "start_time": "2023-12-05T13:17:24.932Z"
   },
   {
    "duration": 7,
    "start_time": "2023-12-05T13:17:51.356Z"
   },
   {
    "duration": 42,
    "start_time": "2023-12-05T13:17:53.085Z"
   },
   {
    "duration": 4,
    "start_time": "2023-12-05T13:18:07.115Z"
   },
   {
    "duration": 92,
    "start_time": "2023-12-05T13:18:09.259Z"
   },
   {
    "duration": 450,
    "start_time": "2023-12-05T13:23:24.052Z"
   },
   {
    "duration": 77,
    "start_time": "2023-12-05T13:24:38.316Z"
   },
   {
    "duration": 5,
    "start_time": "2023-12-05T13:25:23.298Z"
   },
   {
    "duration": 8,
    "start_time": "2023-12-05T13:26:07.337Z"
   },
   {
    "duration": 500,
    "start_time": "2023-12-05T13:26:08.739Z"
   },
   {
    "duration": 11,
    "start_time": "2023-12-05T13:26:46.531Z"
   },
   {
    "duration": 477,
    "start_time": "2023-12-05T13:26:47.963Z"
   },
   {
    "duration": 5,
    "start_time": "2023-12-05T13:29:35.811Z"
   },
   {
    "duration": 525,
    "start_time": "2023-12-05T13:30:15.762Z"
   },
   {
    "duration": 84,
    "start_time": "2023-12-05T13:31:26.787Z"
   },
   {
    "duration": 6,
    "start_time": "2023-12-05T13:32:27.161Z"
   },
   {
    "duration": 205,
    "start_time": "2023-12-05T13:32:28.777Z"
   },
   {
    "duration": 6,
    "start_time": "2023-12-05T13:32:42.705Z"
   },
   {
    "duration": 5901693,
    "start_time": "2023-12-05T13:32:44.178Z"
   }
  ],
  "accelerator": "GPU",
  "colab": {
   "gpuType": "T4",
   "provenance": []
  },
  "kernelspec": {
   "display_name": "Python 3 (ipykernel)",
   "language": "python",
   "name": "python3"
  },
  "language_info": {
   "codemirror_mode": {
    "name": "ipython",
    "version": 3
   },
   "file_extension": ".py",
   "mimetype": "text/x-python",
   "name": "python",
   "nbconvert_exporter": "python",
   "pygments_lexer": "ipython3",
   "version": "3.10.5"
  },
  "toc": {
   "base_numbering": 1,
   "nav_menu": {},
   "number_sections": true,
   "sideBar": true,
   "skip_h1_title": true,
   "title_cell": "Содержание",
   "title_sidebar": "Contents",
   "toc_cell": true,
   "toc_position": {
    "height": "calc(100% - 180px)",
    "left": "10px",
    "top": "150px",
    "width": "225.391px"
   },
   "toc_section_display": true,
   "toc_window_display": false
  }
 },
 "nbformat": 4,
 "nbformat_minor": 4
}
