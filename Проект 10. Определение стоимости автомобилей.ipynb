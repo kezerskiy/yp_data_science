{
 "cells": [
  {
   "cell_type": "markdown",
   "metadata": {},
   "source": [
    "# Определение стоимости автомобилей"
   ]
  },
  {
   "cell_type": "markdown",
   "metadata": {},
   "source": [
    "**Описание проекта**"
   ]
  },
  {
   "cell_type": "markdown",
   "metadata": {},
   "source": [
    "Сервис по продаже автомобилей с пробегом «Не бит, не крашен» разрабатывает приложение для привлечения новых клиентов. В нём можно быстро узнать рыночную стоимость своего автомобиля. В вашем распоряжении исторические данные: технические характеристики, комплектации и цены автомобилей. Вам нужно построить модель для определения стоимости. \n",
    "\n",
    "Заказчику важны:\n",
    "\n",
    "- качество предсказания;\n",
    "- скорость предсказания;\n",
    "- время обучения."
   ]
  },
  {
   "cell_type": "markdown",
   "metadata": {},
   "source": [
    "**Примечания:**"
   ]
  },
  {
   "cell_type": "markdown",
   "metadata": {},
   "source": [
    "- Для оценки качества моделей применяйте метрику RMSE;\n",
    "- Самостоятельно освойте библиотеку LightGBM и её средствами постройте модели градиентного бустинга;\n",
    "- Время выполнения ячейки кода Jupyter Notebook можно получить специальной командой. Найдите её;\n",
    "- Поскольку модель градиентного бустинга может обучаться долго, измените у неё только два-три параметра;\n",
    "- Если перестанет работать Jupyter Notebook, удалите лишние переменные оператором del: del features_train."
   ]
  },
  {
   "cell_type": "markdown",
   "metadata": {},
   "source": [
    "**Описание данных**"
   ]
  },
  {
   "cell_type": "markdown",
   "metadata": {},
   "source": [
    "Данные находятся в файле /datasets/autos.csv."
   ]
  },
  {
   "cell_type": "markdown",
   "metadata": {},
   "source": [
    "**Признаки:**"
   ]
  },
  {
   "cell_type": "markdown",
   "metadata": {},
   "source": [
    "- DateCrawled — дата скачивания анкеты из базы\n",
    "- VehicleType — тип автомобильного кузова\n",
    "- RegistrationYear — год регистрации автомобиля\n",
    "- Gearbox — тип коробки передач\n",
    "- Power — мощность (л. с.)\n",
    "- Model — модель автомобиля\n",
    "- Kilometer — пробег (км)\n",
    "- RegistrationMonth — месяц регистрации автомобиля\n",
    "- FuelType — тип топлива\n",
    "- Brand — марка автомобиля\n",
    "- NotRepaired — была машина в ремонте или нет\n",
    "- DateCreated — дата создания анкеты\n",
    "- NumberOfPictures — количество фотографий автомобиля\n",
    "- PostalCode — почтовый индекс владельца анкеты (пользователя)\n",
    "- LastSeen — дата последней активности пользователя"
   ]
  },
  {
   "cell_type": "markdown",
   "metadata": {},
   "source": [
    "**Целевой признак:**"
   ]
  },
  {
   "cell_type": "markdown",
   "metadata": {},
   "source": [
    "- Price — цена (евро)"
   ]
  },
  {
   "cell_type": "markdown",
   "metadata": {},
   "source": [
    "**План работы.**"
   ]
  },
  {
   "cell_type": "markdown",
   "metadata": {},
   "source": [
    "1. Загрузить данные и провести предобработку.\n",
    "1. Выполнить сравнение моделей с использованием различных наборов гиперпараметров.\n",
    "1. Выбрать лучшую модель по результатам метрики RMSE и времени обучения.\n",
    "1. Оформить проект и написать выводы."
   ]
  },
  {
   "cell_type": "code",
   "execution_count": 1,
   "metadata": {},
   "outputs": [],
   "source": [
    "#!pip3 install prettytable\n",
    "#!pip install phik==0.10.0"
   ]
  },
  {
   "cell_type": "code",
   "execution_count": 2,
   "metadata": {},
   "outputs": [],
   "source": [
    "import time\n",
    "import warnings\n",
    "\n",
    "import matplotlib.pyplot as plt\n",
    "import numpy as np\n",
    "import pandas as pd\n",
    "import phik\n",
    "import seaborn as sns\n",
    "\n",
    "from catboost import Pool, CatBoostRegressor, cv\n",
    "from lightgbm import LGBMRegressor\n",
    "from prettytable import PrettyTable\n",
    "from sklearn.linear_model import LinearRegression\n",
    "from sklearn.metrics import mean_squared_error\n",
    "from sklearn.model_selection import train_test_split, GridSearchCV\n",
    "from sklearn.pipeline import Pipeline\n",
    "from sklearn.preprocessing import StandardScaler, OrdinalEncoder, OneHotEncoder\n",
    "from sklearn.tree import DecisionTreeRegressor\n",
    "\n",
    "warnings.filterwarnings('ignore')"
   ]
  },
  {
   "cell_type": "markdown",
   "metadata": {},
   "source": [
    "## Подготовка данных"
   ]
  },
  {
   "cell_type": "markdown",
   "metadata": {},
   "source": [
    "Выгрузим данные и изучим их:"
   ]
  },
  {
   "cell_type": "code",
   "execution_count": 3,
   "metadata": {},
   "outputs": [],
   "source": [
    "try:\n",
    "    df = pd.read_csv('/datasets/autos.csv')\n",
    "except:\n",
    "    df = pd.read_csv('/autos.csv')"
   ]
  },
  {
   "cell_type": "code",
   "execution_count": 4,
   "metadata": {},
   "outputs": [
    {
     "name": "stdout",
     "output_type": "stream",
     "text": [
      "<class 'pandas.core.frame.DataFrame'>\n",
      "RangeIndex: 354369 entries, 0 to 354368\n",
      "Data columns (total 16 columns):\n",
      " #   Column             Non-Null Count   Dtype \n",
      "---  ------             --------------   ----- \n",
      " 0   DateCrawled        354369 non-null  object\n",
      " 1   Price              354369 non-null  int64 \n",
      " 2   VehicleType        316879 non-null  object\n",
      " 3   RegistrationYear   354369 non-null  int64 \n",
      " 4   Gearbox            334536 non-null  object\n",
      " 5   Power              354369 non-null  int64 \n",
      " 6   Model              334664 non-null  object\n",
      " 7   Kilometer          354369 non-null  int64 \n",
      " 8   RegistrationMonth  354369 non-null  int64 \n",
      " 9   FuelType           321474 non-null  object\n",
      " 10  Brand              354369 non-null  object\n",
      " 11  Repaired           283215 non-null  object\n",
      " 12  DateCreated        354369 non-null  object\n",
      " 13  NumberOfPictures   354369 non-null  int64 \n",
      " 14  PostalCode         354369 non-null  int64 \n",
      " 15  LastSeen           354369 non-null  object\n",
      "dtypes: int64(7), object(9)\n",
      "memory usage: 43.3+ MB\n"
     ]
    }
   ],
   "source": [
    "df.info()"
   ]
  },
  {
   "cell_type": "code",
   "execution_count": 5,
   "metadata": {},
   "outputs": [
    {
     "data": {
      "text/html": [
       "<div>\n",
       "<style scoped>\n",
       "    .dataframe tbody tr th:only-of-type {\n",
       "        vertical-align: middle;\n",
       "    }\n",
       "\n",
       "    .dataframe tbody tr th {\n",
       "        vertical-align: top;\n",
       "    }\n",
       "\n",
       "    .dataframe thead th {\n",
       "        text-align: right;\n",
       "    }\n",
       "</style>\n",
       "<table border=\"1\" class=\"dataframe\">\n",
       "  <thead>\n",
       "    <tr style=\"text-align: right;\">\n",
       "      <th></th>\n",
       "      <th>DateCrawled</th>\n",
       "      <th>Price</th>\n",
       "      <th>VehicleType</th>\n",
       "      <th>RegistrationYear</th>\n",
       "      <th>Gearbox</th>\n",
       "      <th>Power</th>\n",
       "      <th>Model</th>\n",
       "      <th>Kilometer</th>\n",
       "      <th>RegistrationMonth</th>\n",
       "      <th>FuelType</th>\n",
       "      <th>Brand</th>\n",
       "      <th>Repaired</th>\n",
       "      <th>DateCreated</th>\n",
       "      <th>NumberOfPictures</th>\n",
       "      <th>PostalCode</th>\n",
       "      <th>LastSeen</th>\n",
       "    </tr>\n",
       "  </thead>\n",
       "  <tbody>\n",
       "    <tr>\n",
       "      <th>185203</th>\n",
       "      <td>2016-03-18 15:06:20</td>\n",
       "      <td>1000</td>\n",
       "      <td>sedan</td>\n",
       "      <td>1999</td>\n",
       "      <td>manual</td>\n",
       "      <td>101</td>\n",
       "      <td>golf</td>\n",
       "      <td>150000</td>\n",
       "      <td>1</td>\n",
       "      <td>petrol</td>\n",
       "      <td>volkswagen</td>\n",
       "      <td>no</td>\n",
       "      <td>2016-03-18 00:00:00</td>\n",
       "      <td>0</td>\n",
       "      <td>65428</td>\n",
       "      <td>2016-03-29 15:46:57</td>\n",
       "    </tr>\n",
       "    <tr>\n",
       "      <th>102961</th>\n",
       "      <td>2016-03-22 14:36:23</td>\n",
       "      <td>3750</td>\n",
       "      <td>sedan</td>\n",
       "      <td>2004</td>\n",
       "      <td>manual</td>\n",
       "      <td>90</td>\n",
       "      <td>civic</td>\n",
       "      <td>150000</td>\n",
       "      <td>2</td>\n",
       "      <td>petrol</td>\n",
       "      <td>honda</td>\n",
       "      <td>no</td>\n",
       "      <td>2016-03-22 00:00:00</td>\n",
       "      <td>0</td>\n",
       "      <td>74348</td>\n",
       "      <td>2016-04-06 05:15:39</td>\n",
       "    </tr>\n",
       "    <tr>\n",
       "      <th>112652</th>\n",
       "      <td>2016-04-05 16:06:22</td>\n",
       "      <td>9500</td>\n",
       "      <td>small</td>\n",
       "      <td>2009</td>\n",
       "      <td>auto</td>\n",
       "      <td>115</td>\n",
       "      <td>b_klasse</td>\n",
       "      <td>80000</td>\n",
       "      <td>8</td>\n",
       "      <td>petrol</td>\n",
       "      <td>mercedes_benz</td>\n",
       "      <td>no</td>\n",
       "      <td>2016-04-05 00:00:00</td>\n",
       "      <td>0</td>\n",
       "      <td>65934</td>\n",
       "      <td>2016-04-05 16:06:22</td>\n",
       "    </tr>\n",
       "    <tr>\n",
       "      <th>49196</th>\n",
       "      <td>2016-03-16 16:54:37</td>\n",
       "      <td>1800</td>\n",
       "      <td>sedan</td>\n",
       "      <td>1995</td>\n",
       "      <td>manual</td>\n",
       "      <td>190</td>\n",
       "      <td>golf</td>\n",
       "      <td>150000</td>\n",
       "      <td>1</td>\n",
       "      <td>petrol</td>\n",
       "      <td>volkswagen</td>\n",
       "      <td>no</td>\n",
       "      <td>2016-03-16 00:00:00</td>\n",
       "      <td>0</td>\n",
       "      <td>27637</td>\n",
       "      <td>2016-03-24 09:15:19</td>\n",
       "    </tr>\n",
       "    <tr>\n",
       "      <th>260913</th>\n",
       "      <td>2016-03-29 16:57:46</td>\n",
       "      <td>13000</td>\n",
       "      <td>bus</td>\n",
       "      <td>2010</td>\n",
       "      <td>manual</td>\n",
       "      <td>84</td>\n",
       "      <td>transporter</td>\n",
       "      <td>150000</td>\n",
       "      <td>12</td>\n",
       "      <td>gasoline</td>\n",
       "      <td>volkswagen</td>\n",
       "      <td>no</td>\n",
       "      <td>2016-03-29 00:00:00</td>\n",
       "      <td>0</td>\n",
       "      <td>73770</td>\n",
       "      <td>2016-03-31 10:15:30</td>\n",
       "    </tr>\n",
       "  </tbody>\n",
       "</table>\n",
       "</div>"
      ],
      "text/plain": [
       "                DateCrawled  Price VehicleType  RegistrationYear Gearbox  \\\n",
       "185203  2016-03-18 15:06:20   1000       sedan              1999  manual   \n",
       "102961  2016-03-22 14:36:23   3750       sedan              2004  manual   \n",
       "112652  2016-04-05 16:06:22   9500       small              2009    auto   \n",
       "49196   2016-03-16 16:54:37   1800       sedan              1995  manual   \n",
       "260913  2016-03-29 16:57:46  13000         bus              2010  manual   \n",
       "\n",
       "        Power        Model  Kilometer  RegistrationMonth  FuelType  \\\n",
       "185203    101         golf     150000                  1    petrol   \n",
       "102961     90        civic     150000                  2    petrol   \n",
       "112652    115     b_klasse      80000                  8    petrol   \n",
       "49196     190         golf     150000                  1    petrol   \n",
       "260913     84  transporter     150000                 12  gasoline   \n",
       "\n",
       "                Brand Repaired          DateCreated  NumberOfPictures  \\\n",
       "185203     volkswagen       no  2016-03-18 00:00:00                 0   \n",
       "102961          honda       no  2016-03-22 00:00:00                 0   \n",
       "112652  mercedes_benz       no  2016-04-05 00:00:00                 0   \n",
       "49196      volkswagen       no  2016-03-16 00:00:00                 0   \n",
       "260913     volkswagen       no  2016-03-29 00:00:00                 0   \n",
       "\n",
       "        PostalCode             LastSeen  \n",
       "185203       65428  2016-03-29 15:46:57  \n",
       "102961       74348  2016-04-06 05:15:39  \n",
       "112652       65934  2016-04-05 16:06:22  \n",
       "49196        27637  2016-03-24 09:15:19  \n",
       "260913       73770  2016-03-31 10:15:30  "
      ]
     },
     "execution_count": 5,
     "metadata": {},
     "output_type": "execute_result"
    }
   ],
   "source": [
    "df.sample(5)"
   ]
  },
  {
   "cell_type": "code",
   "execution_count": 6,
   "metadata": {},
   "outputs": [
    {
     "data": {
      "text/plain": [
       "4"
      ]
     },
     "execution_count": 6,
     "metadata": {},
     "output_type": "execute_result"
    }
   ],
   "source": [
    "df.duplicated().sum()"
   ]
  },
  {
   "cell_type": "markdown",
   "metadata": {},
   "source": [
    "Имеются дубликаты, удалим их:"
   ]
  },
  {
   "cell_type": "code",
   "execution_count": 7,
   "metadata": {},
   "outputs": [],
   "source": [
    "df.drop_duplicates(inplace=True)  "
   ]
  },
  {
   "cell_type": "code",
   "execution_count": 8,
   "metadata": {},
   "outputs": [
    {
     "data": {
      "text/plain": [
       "DateCrawled          0.000000\n",
       "Price                0.000000\n",
       "VehicleType          0.105795\n",
       "RegistrationYear     0.000000\n",
       "Gearbox              0.055968\n",
       "Power                0.000000\n",
       "Model                0.055607\n",
       "Kilometer            0.000000\n",
       "RegistrationMonth    0.000000\n",
       "FuelType             0.092828\n",
       "Brand                0.000000\n",
       "Repaired             0.200793\n",
       "DateCreated          0.000000\n",
       "NumberOfPictures     0.000000\n",
       "PostalCode           0.000000\n",
       "LastSeen             0.000000\n",
       "dtype: float64"
      ]
     },
     "execution_count": 8,
     "metadata": {},
     "output_type": "execute_result"
    }
   ],
   "source": [
    "(df.isna() | df.isnull()).mean()"
   ]
  },
  {
   "cell_type": "markdown",
   "metadata": {},
   "source": [
    "В столбцах `VehicleType`, `Gearbox`, `Model`, `FuelType` и `Repaired`имеются отсутствующие и/или нулевые значения. Рассмотрим подробнее значения в каждом столбце:"
   ]
  },
  {
   "cell_type": "code",
   "execution_count": 9,
   "metadata": {},
   "outputs": [],
   "source": [
    "def show_col(df):\n",
    "    for column in df.columns:\n",
    "        print('Уникальные значения столбца \"{}\"'.format(column))\n",
    "        print(df[column].sort_values().unique())\n",
    "        print()"
   ]
  },
  {
   "cell_type": "code",
   "execution_count": 10,
   "metadata": {},
   "outputs": [
    {
     "name": "stdout",
     "output_type": "stream",
     "text": [
      "Уникальные значения столбца \"DateCrawled\"\n",
      "['2016-03-05 14:06:22' '2016-03-05 14:06:23' '2016-03-05 14:06:24' ...\n",
      " '2016-04-07 14:36:55' '2016-04-07 14:36:56' '2016-04-07 14:36:58']\n",
      "\n",
      "Уникальные значения столбца \"Price\"\n",
      "[    0     1     2 ... 19998 19999 20000]\n",
      "\n",
      "Уникальные значения столбца \"VehicleType\"\n",
      "['bus' 'convertible' 'coupe' 'other' 'sedan' 'small' 'suv' 'wagon' nan]\n",
      "\n",
      "Уникальные значения столбца \"RegistrationYear\"\n",
      "[1000 1001 1039 1111 1200 1234 1253 1255 1300 1400 1500 1600 1602 1688\n",
      " 1800 1910 1915 1919 1920 1923 1925 1927 1928 1929 1930 1931 1932 1933\n",
      " 1934 1935 1936 1937 1938 1940 1941 1942 1943 1944 1945 1946 1947 1948\n",
      " 1949 1950 1951 1952 1953 1954 1955 1956 1957 1958 1959 1960 1961 1962\n",
      " 1963 1964 1965 1966 1967 1968 1969 1970 1971 1972 1973 1974 1975 1976\n",
      " 1977 1978 1979 1980 1981 1982 1983 1984 1985 1986 1987 1988 1989 1990\n",
      " 1991 1992 1993 1994 1995 1996 1997 1998 1999 2000 2001 2002 2003 2004\n",
      " 2005 2006 2007 2008 2009 2010 2011 2012 2013 2014 2015 2016 2017 2018\n",
      " 2019 2066 2200 2222 2290 2500 2800 2900 3000 3200 3500 3700 3800 4000\n",
      " 4100 4500 4800 5000 5300 5555 5600 5900 5911 6000 6500 7000 7100 7500\n",
      " 7800 8000 8200 8455 8500 8888 9000 9229 9450 9996 9999]\n",
      "\n",
      "Уникальные значения столбца \"Gearbox\"\n",
      "['auto' 'manual' nan]\n",
      "\n",
      "Уникальные значения столбца \"Power\"\n",
      "[    0     1     2     3     4     5     6     7     8     9    10    11\n",
      "    12    13    14    15    16    17    18    19    20    21    22    23\n",
      "    24    25    26    27    28    29    30    31    32    33    34    35\n",
      "    36    37    38    39    40    41    42    43    44    45    46    47\n",
      "    48    49    50    51    52    53    54    55    56    57    58    59\n",
      "    60    61    62    63    64    65    66    67    68    69    70    71\n",
      "    72    73    74    75    76    77    78    79    80    81    82    83\n",
      "    84    85    86    87    88    89    90    91    92    93    94    95\n",
      "    96    97    98    99   100   101   102   103   104   105   106   107\n",
      "   108   109   110   111   112   113   114   115   116   117   118   119\n",
      "   120   121   122   123   124   125   126   127   128   129   130   131\n",
      "   132   133   134   135   136   137   138   139   140   141   142   143\n",
      "   144   145   146   147   148   149   150   151   152   153   154   155\n",
      "   156   157   158   159   160   161   162   163   164   165   166   167\n",
      "   168   169   170   171   172   173   174   175   176   177   178   179\n",
      "   180   181   182   183   184   185   186   187   188   189   190   191\n",
      "   192   193   194   195   196   197   198   199   200   201   202   203\n",
      "   204   205   206   207   208   209   210   211   212   213   214   215\n",
      "   216   217   218   219   220   221   222   223   224   225   226   227\n",
      "   228   229   230   231   232   233   234   235   236   237   238   239\n",
      "   240   241   242   243   244   245   246   247   248   249   250   251\n",
      "   252   253   254   255   256   257   258   259   260   261   262   264\n",
      "   265   266   267   268   269   270   271   272   273   274   275   276\n",
      "   277   278   279   280   281   282   283   284   285   286   287   288\n",
      "   289   290   292   293   294   295   296   297   298   299   300   301\n",
      "   303   304   305   306   307   308   309   310   311   313   314   315\n",
      "   316   317   318   320   321   322   323   324   325   326   327   328\n",
      "   329   330   331   332   333   334   335   336   337   338   339   340\n",
      "   341   343   344   345   346   347   348   349   350   351   352   353\n",
      "   354   355   356   357   358   360   361   362   363   364   365   367\n",
      "   368   370   371   374   375   376   377   379   380   381   382   385\n",
      "   386   387   388   390   392   394   396   398   399   400   401   402\n",
      "   405   408   409   411   416   420   421   425   426   428   430   431\n",
      "   435   440   442   445   449   450   454   457   459   460   475   476\n",
      "   485   487   489   490   500   504   505   507   508   510   514   515\n",
      "   517   519   520   521   525   530   540   541   544   550   551   553\n",
      "   560   572   574   579   580   584   585   599   600   601   602   603\n",
      "   604   606   607   610   612   620   640   645   650   651   671   678\n",
      "   682   685   696   700   702   703   732   743   750   751   754   771\n",
      "   776   800   805   808   850   851   871   900   901   902   903   907\n",
      "   909   923   950   952   953   960   998   999  1000  1001  1002  1003\n",
      "  1004  1005  1011  1012  1016  1017  1021  1024  1054  1055  1056  1062\n",
      "  1079  1082  1090  1100  1102  1103  1105  1111  1115  1120  1149  1151\n",
      "  1158  1160  1162  1164  1199  1200  1202  1221  1223  1230  1239  1240\n",
      "  1241  1250  1252  1256  1275  1288  1299  1300  1312  1317  1324  1339\n",
      "  1351  1360  1362  1363  1367  1390  1394  1398  1399  1400  1401  1403\n",
      "  1405  1416  1432  1433  1436  1500  1501  1502  1503  1506  1521  1548\n",
      "  1595  1596  1597  1598  1600  1625  1631  1653  1659  1689  1700  1701\n",
      "  1703  1704  1707  1753  1771  1779  1780  1781  1783  1793  1796  1799\n",
      "  1800  1801  1870  1895  1896  1900  1910  1920  1922  1933  1937  1968\n",
      "  1986  1988  1992  1993  1995  1998  1999  2000  2004  2005  2007  2009\n",
      "  2016  2017  2018  2172  2200  2201  2331  2340  2389  2402  2461  2598\n",
      "  2729  2789  2792  2799  3000  3199  3454  3500  3750  4400  4507  4700\n",
      "  5000  5411  5420  5575  5809  5815  5867  6006  6010  6011  6012  6018\n",
      "  6045  6062  6226  6512  6920  7508  7511  7512  7515  7518  7529  7544\n",
      "  8011  8259  8404  8500  9000  9007  9010  9011  9012  9013  9710 10000\n",
      " 10110 10218 10311 10317 10520 10522 10710 10910 10912 11011 11025 11111\n",
      " 11509 11530 11635 12012 12510 12512 12684 13616 13636 14009 15001 15016\n",
      " 15017 15020 15033 16011 16051 16311 16312 17011 17019 17410 17700 17932\n",
      " 19208 19211 19312 20000]\n",
      "\n",
      "Уникальные значения столбца \"Model\"\n",
      "['100' '145' '147' '156' '159' '1_reihe' '1er' '200' '2_reihe' '300c'\n",
      " '3_reihe' '3er' '4_reihe' '500' '5_reihe' '5er' '601' '6_reihe' '6er'\n",
      " '7er' '80' '850' '90' '900' '9000' '911' 'a1' 'a2' 'a3' 'a4' 'a5' 'a6'\n",
      " 'a8' 'a_klasse' 'accord' 'agila' 'alhambra' 'almera' 'altea' 'amarok'\n",
      " 'antara' 'arosa' 'astra' 'auris' 'avensis' 'aveo' 'aygo' 'b_klasse'\n",
      " 'b_max' 'beetle' 'berlingo' 'bora' 'boxster' 'bravo' 'c1' 'c2' 'c3' 'c4'\n",
      " 'c5' 'c_klasse' 'c_max' 'c_reihe' 'caddy' 'calibra' 'captiva' 'carisma'\n",
      " 'carnival' 'cayenne' 'cc' 'ceed' 'charade' 'cherokee' 'citigo' 'civic'\n",
      " 'cl' 'clio' 'clk' 'clubman' 'colt' 'combo' 'cooper' 'cordoba' 'corolla'\n",
      " 'corsa' 'cr_reihe' 'croma' 'crossfire' 'cuore' 'cx_reihe' 'defender'\n",
      " 'delta' 'discovery' 'doblo' 'ducato' 'duster' 'e_klasse' 'elefantino'\n",
      " 'eos' 'escort' 'espace' 'exeo' 'fabia' 'fiesta' 'focus' 'forester'\n",
      " 'forfour' 'fortwo' 'fox' 'freelander' 'fusion' 'g_klasse' 'galant'\n",
      " 'galaxy' 'getz' 'gl' 'glk' 'golf' 'grand' 'i3' 'i_reihe' 'ibiza'\n",
      " 'impreza' 'insignia' 'jazz' 'jetta' 'jimny' 'juke' 'justy' 'ka' 'kadett'\n",
      " 'kaefer' 'kalina' 'kalos' 'kangoo' 'kappa' 'kuga' 'laguna' 'lancer'\n",
      " 'lanos' 'legacy' 'leon' 'lodgy' 'logan' 'lupo' 'lybra' 'm_klasse'\n",
      " 'm_reihe' 'materia' 'matiz' 'megane' 'meriva' 'micra' 'mii' 'modus'\n",
      " 'mondeo' 'move' 'musa' 'mustang' 'mx_reihe' 'navara' 'niva' 'note'\n",
      " 'nubira' 'octavia' 'omega' 'one' 'other' 'outlander' 'pajero' 'panda'\n",
      " 'passat' 'phaeton' 'picanto' 'polo' 'primera' 'ptcruiser' 'punto' 'q3'\n",
      " 'q5' 'q7' 'qashqai' 'r19' 'range_rover' 'range_rover_evoque'\n",
      " 'range_rover_sport' 'rangerover' 'rav' 'rio' 'roadster' 'roomster'\n",
      " 'rx_reihe' 's60' 's_klasse' 's_max' 's_type' 'samara' 'sandero' 'santa'\n",
      " 'scenic' 'scirocco' 'seicento' 'serie_1' 'serie_2' 'serie_3' 'sharan'\n",
      " 'signum' 'sirion' 'sl' 'slk' 'sorento' 'spark' 'spider' 'sportage'\n",
      " 'sprinter' 'stilo' 'superb' 'swift' 'terios' 'tigra' 'tiguan' 'toledo'\n",
      " 'touareg' 'touran' 'transit' 'transporter' 'tt' 'tucson' 'twingo' 'up'\n",
      " 'v40' 'v50' 'v60' 'v70' 'v_klasse' 'vectra' 'verso' 'viano' 'vito'\n",
      " 'vivaro' 'voyager' 'wrangler' 'x_reihe' 'x_trail' 'x_type' 'xc_reihe'\n",
      " 'yaris' 'yeti' 'ypsilon' 'z_reihe' 'zafira' nan]\n",
      "\n",
      "Уникальные значения столбца \"Kilometer\"\n",
      "[  5000  10000  20000  30000  40000  50000  60000  70000  80000  90000\n",
      " 100000 125000 150000]\n",
      "\n",
      "Уникальные значения столбца \"RegistrationMonth\"\n",
      "[ 0  1  2  3  4  5  6  7  8  9 10 11 12]\n",
      "\n",
      "Уникальные значения столбца \"FuelType\"\n",
      "['cng' 'electric' 'gasoline' 'hybrid' 'lpg' 'other' 'petrol' nan]\n",
      "\n",
      "Уникальные значения столбца \"Brand\"\n",
      "['alfa_romeo' 'audi' 'bmw' 'chevrolet' 'chrysler' 'citroen' 'dacia'\n",
      " 'daewoo' 'daihatsu' 'fiat' 'ford' 'honda' 'hyundai' 'jaguar' 'jeep' 'kia'\n",
      " 'lada' 'lancia' 'land_rover' 'mazda' 'mercedes_benz' 'mini' 'mitsubishi'\n",
      " 'nissan' 'opel' 'peugeot' 'porsche' 'renault' 'rover' 'saab' 'seat'\n",
      " 'skoda' 'smart' 'sonstige_autos' 'subaru' 'suzuki' 'toyota' 'trabant'\n",
      " 'volkswagen' 'volvo']\n",
      "\n",
      "Уникальные значения столбца \"Repaired\"\n",
      "['no' 'yes' nan]\n",
      "\n",
      "Уникальные значения столбца \"DateCreated\"\n",
      "['2014-03-10 00:00:00' '2015-03-20 00:00:00' '2015-06-18 00:00:00'\n",
      " '2015-08-07 00:00:00' '2015-08-10 00:00:00' '2015-09-04 00:00:00'\n",
      " '2015-09-09 00:00:00' '2015-11-02 00:00:00' '2015-11-08 00:00:00'\n",
      " '2015-11-10 00:00:00' '2015-11-12 00:00:00' '2015-11-17 00:00:00'\n",
      " '2015-11-23 00:00:00' '2015-11-24 00:00:00' '2015-12-05 00:00:00'\n",
      " '2015-12-06 00:00:00' '2015-12-17 00:00:00' '2015-12-27 00:00:00'\n",
      " '2015-12-30 00:00:00' '2016-01-02 00:00:00' '2016-01-03 00:00:00'\n",
      " '2016-01-06 00:00:00' '2016-01-07 00:00:00' '2016-01-08 00:00:00'\n",
      " '2016-01-10 00:00:00' '2016-01-13 00:00:00' '2016-01-15 00:00:00'\n",
      " '2016-01-16 00:00:00' '2016-01-17 00:00:00' '2016-01-18 00:00:00'\n",
      " '2016-01-19 00:00:00' '2016-01-20 00:00:00' '2016-01-22 00:00:00'\n",
      " '2016-01-23 00:00:00' '2016-01-24 00:00:00' '2016-01-25 00:00:00'\n",
      " '2016-01-26 00:00:00' '2016-01-27 00:00:00' '2016-01-28 00:00:00'\n",
      " '2016-01-29 00:00:00' '2016-01-30 00:00:00' '2016-01-31 00:00:00'\n",
      " '2016-02-01 00:00:00' '2016-02-02 00:00:00' '2016-02-03 00:00:00'\n",
      " '2016-02-04 00:00:00' '2016-02-05 00:00:00' '2016-02-06 00:00:00'\n",
      " '2016-02-07 00:00:00' '2016-02-08 00:00:00' '2016-02-09 00:00:00'\n",
      " '2016-02-10 00:00:00' '2016-02-11 00:00:00' '2016-02-12 00:00:00'\n",
      " '2016-02-13 00:00:00' '2016-02-14 00:00:00' '2016-02-15 00:00:00'\n",
      " '2016-02-16 00:00:00' '2016-02-17 00:00:00' '2016-02-18 00:00:00'\n",
      " '2016-02-19 00:00:00' '2016-02-20 00:00:00' '2016-02-21 00:00:00'\n",
      " '2016-02-22 00:00:00' '2016-02-23 00:00:00' '2016-02-24 00:00:00'\n",
      " '2016-02-25 00:00:00' '2016-02-26 00:00:00' '2016-02-27 00:00:00'\n",
      " '2016-02-28 00:00:00' '2016-02-29 00:00:00' '2016-03-01 00:00:00'\n",
      " '2016-03-02 00:00:00' '2016-03-03 00:00:00' '2016-03-04 00:00:00'\n",
      " '2016-03-05 00:00:00' '2016-03-06 00:00:00' '2016-03-07 00:00:00'\n",
      " '2016-03-08 00:00:00' '2016-03-09 00:00:00' '2016-03-10 00:00:00'\n",
      " '2016-03-11 00:00:00' '2016-03-12 00:00:00' '2016-03-13 00:00:00'\n",
      " '2016-03-14 00:00:00' '2016-03-15 00:00:00' '2016-03-16 00:00:00'\n",
      " '2016-03-17 00:00:00' '2016-03-18 00:00:00' '2016-03-19 00:00:00'\n",
      " '2016-03-20 00:00:00' '2016-03-21 00:00:00' '2016-03-22 00:00:00'\n",
      " '2016-03-23 00:00:00' '2016-03-24 00:00:00' '2016-03-25 00:00:00'\n",
      " '2016-03-26 00:00:00' '2016-03-27 00:00:00' '2016-03-28 00:00:00'\n",
      " '2016-03-29 00:00:00' '2016-03-30 00:00:00' '2016-03-31 00:00:00'\n",
      " '2016-04-01 00:00:00' '2016-04-02 00:00:00' '2016-04-03 00:00:00'\n",
      " '2016-04-04 00:00:00' '2016-04-05 00:00:00' '2016-04-06 00:00:00'\n",
      " '2016-04-07 00:00:00']\n",
      "\n",
      "Уникальные значения столбца \"NumberOfPictures\"\n",
      "[0]\n",
      "\n",
      "Уникальные значения столбца \"PostalCode\"\n",
      "[ 1067  1068  1069 ... 99994 99996 99998]\n",
      "\n",
      "Уникальные значения столбца \"LastSeen\"\n",
      "['2016-03-05 14:15:08' '2016-03-05 14:15:16' '2016-03-05 14:15:39' ...\n",
      " '2016-04-07 14:58:49' '2016-04-07 14:58:50' '2016-04-07 14:58:51']\n",
      "\n"
     ]
    }
   ],
   "source": [
    "show_col(df)"
   ]
  },
  {
   "cell_type": "markdown",
   "metadata": {},
   "source": [
    "Для дальнейшего анализа поменяем стиль заголовков:"
   ]
  },
  {
   "cell_type": "code",
   "execution_count": 11,
   "metadata": {},
   "outputs": [
    {
     "data": {
      "text/plain": [
       "Index(['date_crawled', 'price', 'vehicle_type', 'registration_year', 'gearbox',\n",
       "       'power', 'model', 'kilometer', 'registration_month', 'fuel_type',\n",
       "       'brand', 'repaired', 'date_created', 'number_of_pictures',\n",
       "       'postal_code', 'last_seen'],\n",
       "      dtype='object')"
      ]
     },
     "execution_count": 11,
     "metadata": {},
     "output_type": "execute_result"
    }
   ],
   "source": [
    "df.columns = df.columns.str.replace(r\"([A-Z])\", r\" \\1\").str.lower().str.replace(' ', '_').str[1:]\n",
    "df.columns"
   ]
  },
  {
   "cell_type": "markdown",
   "metadata": {},
   "source": [
    "Пройдемся по столбцам с отсутствующими значениями и постараемся исправить их:"
   ]
  },
  {
   "cell_type": "code",
   "execution_count": 12,
   "metadata": {},
   "outputs": [],
   "source": [
    "def show_info(col, label):\n",
    "    display(df[col].describe())\n",
    "    fig, ax = plt.subplots(1, 2, figsize=(15,5))\n",
    "    ax[0].boxplot(df[col])\n",
    "    ax[1].hist(df[col], bins=100)\n",
    "\n",
    "    ax[0].set_ylabel(label) \n",
    "    ax[0].set_title(f'Столбец \"{col}\"')\n",
    "\n",
    "    ax[1].set_xlabel(label) \n",
    "    ax[1].set_ylabel('Количество') \n",
    "    ax[1].set_title(f'Столбец \"{col}\"')\n",
    "\n",
    "    plt.show() "
   ]
  },
  {
   "cell_type": "markdown",
   "metadata": {},
   "source": [
    "### price"
   ]
  },
  {
   "cell_type": "markdown",
   "metadata": {},
   "source": [
    "Начнем с целевого признака:"
   ]
  },
  {
   "cell_type": "code",
   "execution_count": 13,
   "metadata": {},
   "outputs": [
    {
     "data": {
      "text/plain": [
       "0        10772\n",
       "500       5670\n",
       "1500      5394\n",
       "1000      4648\n",
       "1200      4594\n",
       "         ...  \n",
       "13180        1\n",
       "10879        1\n",
       "2683         1\n",
       "634          1\n",
       "8188         1\n",
       "Name: price, Length: 3731, dtype: int64"
      ]
     },
     "execution_count": 13,
     "metadata": {},
     "output_type": "execute_result"
    }
   ],
   "source": [
    "df['price'].value_counts()"
   ]
  },
  {
   "cell_type": "markdown",
   "metadata": {},
   "source": [
    "Удалим значения со стоимостью 0 и построим графики:"
   ]
  },
  {
   "cell_type": "code",
   "execution_count": 14,
   "metadata": {},
   "outputs": [
    {
     "data": {
      "text/plain": [
       "count    343593.000000\n",
       "mean       4555.147363\n",
       "std        4515.076200\n",
       "min           1.000000\n",
       "25%        1200.000000\n",
       "50%        2890.000000\n",
       "75%        6500.000000\n",
       "max       20000.000000\n",
       "Name: price, dtype: float64"
      ]
     },
     "metadata": {},
     "output_type": "display_data"
    },
    {
     "data": {
      "image/png": "[encoded data removed]",
      "text/plain": [
       "<Figure size 1080x360 with 2 Axes>"
      ]
     },
     "metadata": {
      "needs_background": "light"
     },
     "output_type": "display_data"
    }
   ],
   "source": [
    "df = df.query('price > 0')\n",
    "show_info('price', 'Стоимость')"
   ]
  },
  {
   "cell_type": "markdown",
   "metadata": {},
   "source": [
    "Несмотря на то, что боксплот не показывает выбросы со стороны \"левого\" уса, но будем честны, за 1 доллар автомобиль на ходу не купить. Для адекватности будем использовать данные от 5% квантиля и до конца \"правого\" уса."
   ]
  },
  {
   "cell_type": "code",
   "execution_count": 15,
   "metadata": {},
   "outputs": [
    {
     "data": {
      "text/plain": [
       "(350.0, 14450.0)"
      ]
     },
     "execution_count": 15,
     "metadata": {},
     "output_type": "execute_result"
    }
   ],
   "source": [
    "IQR = df['price'].quantile(.75) - df['price'].quantile(.25)\n",
    "df['price'].quantile(.05), df['price'].quantile(.75) + IQR * 1.5"
   ]
  },
  {
   "cell_type": "code",
   "execution_count": 16,
   "metadata": {},
   "outputs": [
    {
     "name": "stdout",
     "output_type": "stream",
     "text": [
      "<class 'pandas.core.frame.DataFrame'>\n",
      "Int64Index: 309117 entries, 0 to 354368\n",
      "Data columns (total 16 columns):\n",
      " #   Column              Non-Null Count   Dtype \n",
      "---  ------              --------------   ----- \n",
      " 0   date_crawled        309117 non-null  object\n",
      " 1   price               309117 non-null  int64 \n",
      " 2   vehicle_type        280512 non-null  object\n",
      " 3   registration_year   309117 non-null  int64 \n",
      " 4   gearbox             295026 non-null  object\n",
      " 5   power               309117 non-null  int64 \n",
      " 6   model               294097 non-null  object\n",
      " 7   kilometer           309117 non-null  int64 \n",
      " 8   registration_month  309117 non-null  int64 \n",
      " 9   fuel_type           284468 non-null  object\n",
      " 10  brand               309117 non-null  object\n",
      " 11  repaired            251817 non-null  object\n",
      " 12  date_created        309117 non-null  object\n",
      " 13  number_of_pictures  309117 non-null  int64 \n",
      " 14  postal_code         309117 non-null  int64 \n",
      " 15  last_seen           309117 non-null  object\n",
      "dtypes: int64(7), object(9)\n",
      "memory usage: 40.1+ MB\n"
     ]
    }
   ],
   "source": [
    "df = df.query('350 <= price <= 14450')\n",
    "df.info()"
   ]
  },
  {
   "cell_type": "code",
   "execution_count": 17,
   "metadata": {},
   "outputs": [
    {
     "data": {
      "text/plain": [
       "count    309117.000000\n",
       "mean       4020.199818\n",
       "std        3453.493016\n",
       "min         350.000000\n",
       "25%        1299.000000\n",
       "50%        2800.000000\n",
       "75%        5900.000000\n",
       "max       14450.000000\n",
       "Name: price, dtype: float64"
      ]
     },
     "metadata": {},
     "output_type": "display_data"
    },
    {
     "data": {
      "image/png": "[encoded data removed]",
      "text/plain": [
       "<Figure size 1080x360 with 2 Axes>"
      ]
     },
     "metadata": {
      "needs_background": "light"
     },
     "output_type": "display_data"
    }
   ],
   "source": [
    "show_info('price', 'Стоимость')"
   ]
  },
  {
   "cell_type": "markdown",
   "metadata": {},
   "source": [
    "### registration_year"
   ]
  },
  {
   "cell_type": "code",
   "execution_count": 18,
   "metadata": {},
   "outputs": [
    {
     "data": {
      "text/plain": [
       "2000    20898\n",
       "2005    20755\n",
       "1999    20617\n",
       "2003    19200\n",
       "2001    19083\n",
       "        ...  \n",
       "1948        1\n",
       "1949        1\n",
       "5300        1\n",
       "8888        1\n",
       "2290        1\n",
       "Name: registration_year, Length: 130, dtype: int64"
      ]
     },
     "execution_count": 18,
     "metadata": {},
     "output_type": "execute_result"
    }
   ],
   "source": [
    "df['registration_year'].value_counts()"
   ]
  },
  {
   "cell_type": "code",
   "execution_count": 19,
   "metadata": {},
   "outputs": [
    {
     "data": {
      "text/plain": [
       "count    309117.000000\n",
       "mean       2003.703792\n",
       "std          65.648827\n",
       "min        1000.000000\n",
       "25%        1999.000000\n",
       "50%        2003.000000\n",
       "75%        2007.000000\n",
       "max        9999.000000\n",
       "Name: registration_year, dtype: float64"
      ]
     },
     "metadata": {},
     "output_type": "display_data"
    },
    {
     "data": {
      "image/png": "[encoded data removed]",
      "text/plain": [
       "<Figure size 1080x360 with 2 Axes>"
      ]
     },
     "metadata": {
      "needs_background": "light"
     },
     "output_type": "display_data"
    }
   ],
   "source": [
    "show_info('registration_year', 'Год выпуска')"
   ]
  },
  {
   "cell_type": "markdown",
   "metadata": {},
   "source": [
    "В данном столбце так же наблюдаются выбросы. Для уточнения левой границы предварительно ограничимся 20м веком, т.е. 1900 годом. Для правой границы будем использовать данные о самом позднем скачивании анкеты автомобиля из столбца `DateCrawled`:"
   ]
  },
  {
   "cell_type": "code",
   "execution_count": 20,
   "metadata": {},
   "outputs": [
    {
     "data": {
      "text/plain": [
       "Timestamp('2016-04-07 14:36:58')"
      ]
     },
     "execution_count": 20,
     "metadata": {},
     "output_type": "execute_result"
    }
   ],
   "source": [
    "date_max = pd.to_datetime(df['date_crawled'])\n",
    "date_max.max()"
   ]
  },
  {
   "cell_type": "code",
   "execution_count": 21,
   "metadata": {},
   "outputs": [
    {
     "data": {
      "text/plain": [
       "count    305372.000000\n",
       "mean       2002.881505\n",
       "std           6.919483\n",
       "min        1910.000000\n",
       "25%        1999.000000\n",
       "50%        2003.000000\n",
       "75%        2007.000000\n",
       "max        2017.000000\n",
       "Name: registration_year, dtype: float64"
      ]
     },
     "metadata": {},
     "output_type": "display_data"
    },
    {
     "data": {
      "image/png": "[encoded data removed]",
      "text/plain": [
       "<Figure size 1080x360 with 2 Axes>"
      ]
     },
     "metadata": {
      "needs_background": "light"
     },
     "output_type": "display_data"
    }
   ],
   "source": [
    "df = df.query('1900 <= registration_year <= 2017')\n",
    "show_info('registration_year', 'Год выпуска')"
   ]
  },
  {
   "cell_type": "markdown",
   "metadata": {},
   "source": [
    "Автомобиль считается раритетным, если с момента производства прошло 30 лет или больше. В нашем исследовании не будем столь категоричны и поднимем эту планку до 35 лет, т.о. левая граница наших данных будет проходить на 1982 году. Раритетные автомобили, даже если они и есть, необходимо исключить, т.к. у них иное ценообразование:"
   ]
  },
  {
   "cell_type": "code",
   "execution_count": 22,
   "metadata": {},
   "outputs": [
    {
     "data": {
      "text/plain": [
       "count    302254.000000\n",
       "mean       2003.197708\n",
       "std           6.135470\n",
       "min        1982.000000\n",
       "25%        1999.000000\n",
       "50%        2003.000000\n",
       "75%        2007.000000\n",
       "max        2017.000000\n",
       "Name: registration_year, dtype: float64"
      ]
     },
     "metadata": {},
     "output_type": "display_data"
    },
    {
     "data": {
      "image/png": "[encoded data removed]",
      "text/plain": [
       "<Figure size 1080x360 with 2 Axes>"
      ]
     },
     "metadata": {
      "needs_background": "light"
     },
     "output_type": "display_data"
    }
   ],
   "source": [
    "df = df.query('1982 <= registration_year')\n",
    "show_info('registration_year', 'Год выпуска')"
   ]
  },
  {
   "cell_type": "markdown",
   "metadata": {},
   "source": [
    "### gearbox"
   ]
  },
  {
   "cell_type": "markdown",
   "metadata": {},
   "source": [
    "Выясним количество отсуствующих значений в процентах:"
   ]
  },
  {
   "cell_type": "code",
   "execution_count": 23,
   "metadata": {},
   "outputs": [
    {
     "data": {
      "text/plain": [
       "4.317229879505317"
      ]
     },
     "execution_count": 23,
     "metadata": {},
     "output_type": "execute_result"
    }
   ],
   "source": [
    "(df['gearbox'].isna().sum() / df.shape[0]) * 100"
   ]
  },
  {
   "cell_type": "markdown",
   "metadata": {},
   "source": [
    "Отсутствует информация по типу коробки передач у 4,3% данных, удалим их, т.к. данная информация может сильно повлиять на нашу модель."
   ]
  },
  {
   "cell_type": "code",
   "execution_count": 24,
   "metadata": {},
   "outputs": [],
   "source": [
    "df.dropna(subset=['gearbox'], inplace=True)"
   ]
  },
  {
   "cell_type": "markdown",
   "metadata": {},
   "source": [
    "Для упрощения категоризируем значения в столбце: механическая коробка - 1, автоматическая - 0:"
   ]
  },
  {
   "cell_type": "code",
   "execution_count": 25,
   "metadata": {},
   "outputs": [],
   "source": [
    "df.loc[(df.gearbox == 'manual'), 'gearbox'] = 1\n",
    "df.loc[(df.gearbox  == 'auto'), 'gearbox'] = 0"
   ]
  },
  {
   "cell_type": "markdown",
   "metadata": {},
   "source": [
    "### repaired"
   ]
  },
  {
   "cell_type": "code",
   "execution_count": 26,
   "metadata": {},
   "outputs": [
    {
     "data": {
      "text/plain": [
       "array([nan, 'no', 'yes'], dtype=object)"
      ]
     },
     "execution_count": 26,
     "metadata": {},
     "output_type": "execute_result"
    }
   ],
   "source": [
    "df['repaired'].unique()"
   ]
  },
  {
   "cell_type": "code",
   "execution_count": 27,
   "metadata": {},
   "outputs": [
    {
     "data": {
      "text/plain": [
       "16.409467332860775"
      ]
     },
     "execution_count": 27,
     "metadata": {},
     "output_type": "execute_result"
    }
   ],
   "source": [
    "(df['repaired'].isna().sum() / df.shape[0]) * 100"
   ]
  },
  {
   "cell_type": "markdown",
   "metadata": {},
   "source": [
    "Т.к. количество отсутствующих значений в данном столбце велико, то заменим отсутствующие значения на заглушку *unknown*:"
   ]
  },
  {
   "cell_type": "code",
   "execution_count": 28,
   "metadata": {},
   "outputs": [],
   "source": [
    "df['repaired'].fillna('unknown', inplace=True)"
   ]
  },
  {
   "cell_type": "markdown",
   "metadata": {},
   "source": [
    "Также категоризируем данные в столбце:"
   ]
  },
  {
   "cell_type": "code",
   "execution_count": 29,
   "metadata": {},
   "outputs": [],
   "source": [
    "df.loc[(df.repaired == 'yes'), 'repaired'] = 1\n",
    "df.loc[(df.repaired == 'no'), 'repaired'] = 0\n",
    "df.loc[(df.repaired == 'unknown'), 'repaired'] = 2"
   ]
  },
  {
   "cell_type": "markdown",
   "metadata": {},
   "source": [
    "### model"
   ]
  },
  {
   "cell_type": "code",
   "execution_count": 30,
   "metadata": {},
   "outputs": [
    {
     "data": {
      "text/plain": [
       "4.082225411040611"
      ]
     },
     "execution_count": 30,
     "metadata": {},
     "output_type": "execute_result"
    }
   ],
   "source": [
    "(df['model'].isna().sum() / df.shape[0]) * 100"
   ]
  },
  {
   "cell_type": "markdown",
   "metadata": {},
   "source": [
    "Модель автомобиля оказывает существенное влияние на цену, поэтому отсутвующие значения удалим:"
   ]
  },
  {
   "cell_type": "code",
   "execution_count": 31,
   "metadata": {},
   "outputs": [],
   "source": [
    "df.dropna(subset=['model'], inplace=True)"
   ]
  },
  {
   "cell_type": "markdown",
   "metadata": {},
   "source": [
    "### vehicle_type"
   ]
  },
  {
   "cell_type": "code",
   "execution_count": 32,
   "metadata": {},
   "outputs": [
    {
     "data": {
      "text/plain": [
       "6.0613051957649455"
      ]
     },
     "execution_count": 32,
     "metadata": {},
     "output_type": "execute_result"
    }
   ],
   "source": [
    "(df['vehicle_type'].isna().sum() / df.shape[0]) * 100"
   ]
  },
  {
   "cell_type": "markdown",
   "metadata": {},
   "source": [
    "Заменим отсутствующие значение заглушкой *unknown*:"
   ]
  },
  {
   "cell_type": "code",
   "execution_count": 33,
   "metadata": {},
   "outputs": [
    {
     "data": {
      "text/plain": [
       "sedan          76570\n",
       "small          65987\n",
       "wagon          55132\n",
       "bus            24748\n",
       "unknown        16814\n",
       "convertible    15882\n",
       "coupe          11778\n",
       "suv             8285\n",
       "other           2203\n",
       "Name: vehicle_type, dtype: int64"
      ]
     },
     "execution_count": 33,
     "metadata": {},
     "output_type": "execute_result"
    }
   ],
   "source": [
    "df['vehicle_type'].fillna('unknown', inplace=True)\n",
    "df['vehicle_type'].value_counts()"
   ]
  },
  {
   "cell_type": "markdown",
   "metadata": {},
   "source": [
    "### power"
   ]
  },
  {
   "cell_type": "code",
   "execution_count": 34,
   "metadata": {},
   "outputs": [
    {
     "data": {
      "text/plain": [
       "count    277399.000000\n",
       "mean        113.553643\n",
       "std         183.525764\n",
       "min           0.000000\n",
       "25%          75.000000\n",
       "50%         105.000000\n",
       "75%         141.000000\n",
       "max       20000.000000\n",
       "Name: power, dtype: float64"
      ]
     },
     "metadata": {},
     "output_type": "display_data"
    },
    {
     "data": {
      "image/png": "[encoded data removed]",
      "text/plain": [
       "<Figure size 1080x360 with 2 Axes>"
      ]
     },
     "metadata": {
      "needs_background": "light"
     },
     "output_type": "display_data"
    }
   ],
   "source": [
    "show_info('power', 'Количество лошадиных сил')"
   ]
  },
  {
   "cell_type": "markdown",
   "metadata": {},
   "source": [
    "Левой границей мощности двигателя обозначим 9 л.с. (данной мощностью обладал автомобиль Citroën 2CV, который производился до 1990 года). Правой границей обозначим мощность в 400 л.с. (все автомобиле мощностью более 400 л.с. уже относятся к супер- или гиперкарам, а у них иное ценообразование):"
   ]
  },
  {
   "cell_type": "code",
   "execution_count": 35,
   "metadata": {},
   "outputs": [
    {
     "data": {
      "text/plain": [
       "count    258359.000000\n",
       "mean        117.996764\n",
       "std          49.120798\n",
       "min           9.000000\n",
       "25%          77.000000\n",
       "50%         110.000000\n",
       "75%         143.000000\n",
       "max         400.000000\n",
       "Name: power, dtype: float64"
      ]
     },
     "metadata": {},
     "output_type": "display_data"
    },
    {
     "data": {
      "image/png": "[encoded data removed]",
      "text/plain": [
       "<Figure size 1080x360 with 2 Axes>"
      ]
     },
     "metadata": {
      "needs_background": "light"
     },
     "output_type": "display_data"
    }
   ],
   "source": [
    "df = df.query('9 <= power <= 400')\n",
    "show_info('power', 'Количество лошадиных сил')"
   ]
  },
  {
   "cell_type": "markdown",
   "metadata": {},
   "source": [
    "### kilometer"
   ]
  },
  {
   "cell_type": "code",
   "execution_count": 36,
   "metadata": {},
   "outputs": [
    {
     "data": {
      "text/plain": [
       "150000    177252\n",
       "125000     28095\n",
       "100000     10822\n",
       "90000       8645\n",
       "80000       7384\n",
       "70000       6168\n",
       "60000       5266\n",
       "50000       4230\n",
       "40000       3219\n",
       "30000       2715\n",
       "20000       2125\n",
       "5000        1913\n",
       "10000        525\n",
       "Name: kilometer, dtype: int64"
      ]
     },
     "execution_count": 36,
     "metadata": {},
     "output_type": "execute_result"
    }
   ],
   "source": [
    "df['kilometer'].value_counts()"
   ]
  },
  {
   "cell_type": "markdown",
   "metadata": {},
   "source": [
    "Аномалии не выявлены, оставим без изменений."
   ]
  },
  {
   "cell_type": "markdown",
   "metadata": {},
   "source": [
    "### fuel_type"
   ]
  },
  {
   "cell_type": "code",
   "execution_count": 37,
   "metadata": {},
   "outputs": [
    {
     "data": {
      "text/plain": [
       "petrol      164793\n",
       "gasoline     76097\n",
       "lpg           4277\n",
       "cng            460\n",
       "hybrid         141\n",
       "other           55\n",
       "electric        42\n",
       "Name: fuel_type, dtype: int64"
      ]
     },
     "execution_count": 37,
     "metadata": {},
     "output_type": "execute_result"
    }
   ],
   "source": [
    "df['fuel_type'].value_counts()"
   ]
  },
  {
   "cell_type": "code",
   "execution_count": 38,
   "metadata": {},
   "outputs": [
    {
     "data": {
      "text/plain": [
       "12494"
      ]
     },
     "execution_count": 38,
     "metadata": {},
     "output_type": "execute_result"
    }
   ],
   "source": [
    "df['fuel_type'].isna().sum()"
   ]
  },
  {
   "cell_type": "markdown",
   "metadata": {},
   "source": [
    "Пропуски заполним значением *other*:"
   ]
  },
  {
   "cell_type": "code",
   "execution_count": 39,
   "metadata": {
    "scrolled": true
   },
   "outputs": [
    {
     "data": {
      "text/plain": [
       "petrol      164793\n",
       "gasoline     76097\n",
       "other        12549\n",
       "lpg           4277\n",
       "cng            460\n",
       "hybrid         141\n",
       "electric        42\n",
       "Name: fuel_type, dtype: int64"
      ]
     },
     "execution_count": 39,
     "metadata": {},
     "output_type": "execute_result"
    }
   ],
   "source": [
    "df['fuel_type'].fillna('other', inplace=True)\n",
    "df['fuel_type'].value_counts()"
   ]
  },
  {
   "cell_type": "markdown",
   "metadata": {},
   "source": [
    "### brand"
   ]
  },
  {
   "cell_type": "code",
   "execution_count": 40,
   "metadata": {},
   "outputs": [
    {
     "data": {
      "text/plain": [
       "volkswagen       56728\n",
       "opel             29021\n",
       "bmw              27612\n",
       "mercedes_benz    23476\n",
       "audi             21769\n",
       "ford             18038\n",
       "renault          12693\n",
       "peugeot           8439\n",
       "fiat              6790\n",
       "seat              5393\n",
       "skoda             4502\n",
       "mazda             4303\n",
       "citroen           3895\n",
       "toyota            3748\n",
       "smart             3702\n",
       "nissan            3500\n",
       "hyundai           2758\n",
       "volvo             2480\n",
       "mini              2422\n",
       "mitsubishi        2211\n",
       "honda             2193\n",
       "kia               1844\n",
       "suzuki            1774\n",
       "alfa_romeo        1762\n",
       "chevrolet         1244\n",
       "chrysler          1046\n",
       "dacia              774\n",
       "subaru             548\n",
       "daihatsu           538\n",
       "jeep               470\n",
       "saab               427\n",
       "jaguar             354\n",
       "daewoo             352\n",
       "land_rover         336\n",
       "lancia             325\n",
       "porsche            309\n",
       "rover              291\n",
       "trabant            157\n",
       "lada               135\n",
       "Name: brand, dtype: int64"
      ]
     },
     "execution_count": 40,
     "metadata": {},
     "output_type": "execute_result"
    }
   ],
   "source": [
    "df['brand'].value_counts()"
   ]
  },
  {
   "cell_type": "code",
   "execution_count": 41,
   "metadata": {},
   "outputs": [
    {
     "data": {
      "text/plain": [
       "0"
      ]
     },
     "execution_count": 41,
     "metadata": {},
     "output_type": "execute_result"
    }
   ],
   "source": [
    "df['fuel_type'].isna().sum()"
   ]
  },
  {
   "cell_type": "markdown",
   "metadata": {},
   "source": [
    "Отсутствующих значений нет."
   ]
  },
  {
   "cell_type": "markdown",
   "metadata": {},
   "source": [
    "### Общая подготовка данных"
   ]
  },
  {
   "cell_type": "markdown",
   "metadata": {},
   "source": [
    "Изменим тип столбцов *gearbox* и *repaired*:"
   ]
  },
  {
   "cell_type": "code",
   "execution_count": 42,
   "metadata": {},
   "outputs": [],
   "source": [
    "df[['gearbox', 'repaired']] = df[['gearbox', 'repaired']].astype(int)"
   ]
  },
  {
   "cell_type": "markdown",
   "metadata": {},
   "source": [
    "Выделим признаки, необходимые для построения модели и создадим соответствующий датафрейм:"
   ]
  },
  {
   "cell_type": "code",
   "execution_count": 43,
   "metadata": {},
   "outputs": [
    {
     "name": "stdout",
     "output_type": "stream",
     "text": [
      "<class 'pandas.core.frame.DataFrame'>\n",
      "Int64Index: 258359 entries, 2 to 354368\n",
      "Data columns (total 10 columns):\n",
      " #   Column             Non-Null Count   Dtype \n",
      "---  ------             --------------   ----- \n",
      " 0   vehicle_type       258359 non-null  object\n",
      " 1   gearbox            258359 non-null  int64 \n",
      " 2   power              258359 non-null  int64 \n",
      " 3   kilometer          258359 non-null  int64 \n",
      " 4   fuel_type          258359 non-null  object\n",
      " 5   brand              258359 non-null  object\n",
      " 6   repaired           258359 non-null  int64 \n",
      " 7   registration_year  258359 non-null  int64 \n",
      " 8   model              258359 non-null  object\n",
      " 9   price              258359 non-null  int64 \n",
      "dtypes: int64(6), object(4)\n",
      "memory usage: 21.7+ MB\n"
     ]
    }
   ],
   "source": [
    "filtred_df = df[['vehicle_type',\n",
    "                 'gearbox',\n",
    "                 'power',\n",
    "                 'kilometer',\n",
    "                 'fuel_type',\n",
    "                 'brand',\n",
    "                 'repaired',\n",
    "                 'registration_year',\n",
    "                 'model',\n",
    "                 'price']]\n",
    "filtred_df.info()"
   ]
  },
  {
   "cell_type": "markdown",
   "metadata": {},
   "source": [
    "Проверим на дубликаты:"
   ]
  },
  {
   "cell_type": "code",
   "execution_count": 44,
   "metadata": {},
   "outputs": [
    {
     "data": {
      "text/plain": [
       "36360"
      ]
     },
     "execution_count": 44,
     "metadata": {},
     "output_type": "execute_result"
    }
   ],
   "source": [
    "filtred_df.duplicated().sum()"
   ]
  },
  {
   "cell_type": "markdown",
   "metadata": {},
   "source": [
    "Удалим дубликаты:"
   ]
  },
  {
   "cell_type": "code",
   "execution_count": 45,
   "metadata": {},
   "outputs": [
    {
     "data": {
      "text/plain": [
       "0"
      ]
     },
     "execution_count": 45,
     "metadata": {},
     "output_type": "execute_result"
    }
   ],
   "source": [
    "filtred_df = filtred_df.drop_duplicates().reset_index(drop=True)\n",
    "filtred_df.duplicated().sum()"
   ]
  },
  {
   "cell_type": "code",
   "execution_count": 46,
   "metadata": {},
   "outputs": [
    {
     "data": {
      "text/html": [
       "<div>\n",
       "<style scoped>\n",
       "    .dataframe tbody tr th:only-of-type {\n",
       "        vertical-align: middle;\n",
       "    }\n",
       "\n",
       "    .dataframe tbody tr th {\n",
       "        vertical-align: top;\n",
       "    }\n",
       "\n",
       "    .dataframe thead th {\n",
       "        text-align: right;\n",
       "    }\n",
       "</style>\n",
       "<table border=\"1\" class=\"dataframe\">\n",
       "  <thead>\n",
       "    <tr style=\"text-align: right;\">\n",
       "      <th></th>\n",
       "      <th>vehicle_type</th>\n",
       "      <th>gearbox</th>\n",
       "      <th>power</th>\n",
       "      <th>kilometer</th>\n",
       "      <th>fuel_type</th>\n",
       "      <th>brand</th>\n",
       "      <th>repaired</th>\n",
       "      <th>registration_year</th>\n",
       "      <th>model</th>\n",
       "      <th>price</th>\n",
       "    </tr>\n",
       "  </thead>\n",
       "  <tbody>\n",
       "    <tr>\n",
       "      <th>17898</th>\n",
       "      <td>unknown</td>\n",
       "      <td>1</td>\n",
       "      <td>101</td>\n",
       "      <td>60000</td>\n",
       "      <td>petrol</td>\n",
       "      <td>opel</td>\n",
       "      <td>0</td>\n",
       "      <td>1995</td>\n",
       "      <td>astra</td>\n",
       "      <td>4000</td>\n",
       "    </tr>\n",
       "    <tr>\n",
       "      <th>143855</th>\n",
       "      <td>small</td>\n",
       "      <td>1</td>\n",
       "      <td>75</td>\n",
       "      <td>150000</td>\n",
       "      <td>petrol</td>\n",
       "      <td>volkswagen</td>\n",
       "      <td>0</td>\n",
       "      <td>1995</td>\n",
       "      <td>polo</td>\n",
       "      <td>550</td>\n",
       "    </tr>\n",
       "    <tr>\n",
       "      <th>218487</th>\n",
       "      <td>small</td>\n",
       "      <td>1</td>\n",
       "      <td>95</td>\n",
       "      <td>150000</td>\n",
       "      <td>petrol</td>\n",
       "      <td>smart</td>\n",
       "      <td>0</td>\n",
       "      <td>2004</td>\n",
       "      <td>forfour</td>\n",
       "      <td>1999</td>\n",
       "    </tr>\n",
       "    <tr>\n",
       "      <th>62293</th>\n",
       "      <td>small</td>\n",
       "      <td>1</td>\n",
       "      <td>60</td>\n",
       "      <td>125000</td>\n",
       "      <td>petrol</td>\n",
       "      <td>fiat</td>\n",
       "      <td>0</td>\n",
       "      <td>2009</td>\n",
       "      <td>panda</td>\n",
       "      <td>2490</td>\n",
       "    </tr>\n",
       "    <tr>\n",
       "      <th>136828</th>\n",
       "      <td>convertible</td>\n",
       "      <td>1</td>\n",
       "      <td>101</td>\n",
       "      <td>150000</td>\n",
       "      <td>petrol</td>\n",
       "      <td>volkswagen</td>\n",
       "      <td>1</td>\n",
       "      <td>1994</td>\n",
       "      <td>golf</td>\n",
       "      <td>999</td>\n",
       "    </tr>\n",
       "  </tbody>\n",
       "</table>\n",
       "</div>"
      ],
      "text/plain": [
       "       vehicle_type  gearbox  power  kilometer fuel_type       brand  \\\n",
       "17898       unknown        1    101      60000    petrol        opel   \n",
       "143855        small        1     75     150000    petrol  volkswagen   \n",
       "218487        small        1     95     150000    petrol       smart   \n",
       "62293         small        1     60     125000    petrol        fiat   \n",
       "136828  convertible        1    101     150000    petrol  volkswagen   \n",
       "\n",
       "        repaired  registration_year    model  price  \n",
       "17898          0               1995    astra   4000  \n",
       "143855         0               1995     polo    550  \n",
       "218487         0               2004  forfour   1999  \n",
       "62293          0               2009    panda   2490  \n",
       "136828         1               1994     golf    999  "
      ]
     },
     "execution_count": 46,
     "metadata": {},
     "output_type": "execute_result"
    }
   ],
   "source": [
    "filtred_df.sample(5)"
   ]
  },
  {
   "cell_type": "code",
   "execution_count": 47,
   "metadata": {},
   "outputs": [
    {
     "data": {
      "text/html": [
       "<div>\n",
       "<style scoped>\n",
       "    .dataframe tbody tr th:only-of-type {\n",
       "        vertical-align: middle;\n",
       "    }\n",
       "\n",
       "    .dataframe tbody tr th {\n",
       "        vertical-align: top;\n",
       "    }\n",
       "\n",
       "    .dataframe thead th {\n",
       "        text-align: right;\n",
       "    }\n",
       "</style>\n",
       "<table border=\"1\" class=\"dataframe\">\n",
       "  <thead>\n",
       "    <tr style=\"text-align: right;\">\n",
       "      <th></th>\n",
       "      <th>gearbox</th>\n",
       "      <th>power</th>\n",
       "      <th>kilometer</th>\n",
       "      <th>repaired</th>\n",
       "      <th>registration_year</th>\n",
       "      <th>price</th>\n",
       "    </tr>\n",
       "  </thead>\n",
       "  <tbody>\n",
       "    <tr>\n",
       "      <th>gearbox</th>\n",
       "      <td>1.000000</td>\n",
       "      <td>-0.397769</td>\n",
       "      <td>-0.051203</td>\n",
       "      <td>0.021011</td>\n",
       "      <td>0.011274</td>\n",
       "      <td>-0.186202</td>\n",
       "    </tr>\n",
       "    <tr>\n",
       "      <th>power</th>\n",
       "      <td>-0.397769</td>\n",
       "      <td>1.000000</td>\n",
       "      <td>0.190222</td>\n",
       "      <td>-0.050551</td>\n",
       "      <td>0.032531</td>\n",
       "      <td>0.435721</td>\n",
       "    </tr>\n",
       "    <tr>\n",
       "      <th>kilometer</th>\n",
       "      <td>-0.051203</td>\n",
       "      <td>0.190222</td>\n",
       "      <td>1.000000</td>\n",
       "      <td>0.093887</td>\n",
       "      <td>-0.302297</td>\n",
       "      <td>-0.330832</td>\n",
       "    </tr>\n",
       "    <tr>\n",
       "      <th>repaired</th>\n",
       "      <td>0.021011</td>\n",
       "      <td>-0.050551</td>\n",
       "      <td>0.093887</td>\n",
       "      <td>1.000000</td>\n",
       "      <td>-0.065117</td>\n",
       "      <td>-0.211032</td>\n",
       "    </tr>\n",
       "    <tr>\n",
       "      <th>registration_year</th>\n",
       "      <td>0.011274</td>\n",
       "      <td>0.032531</td>\n",
       "      <td>-0.302297</td>\n",
       "      <td>-0.065117</td>\n",
       "      <td>1.000000</td>\n",
       "      <td>0.499886</td>\n",
       "    </tr>\n",
       "    <tr>\n",
       "      <th>price</th>\n",
       "      <td>-0.186202</td>\n",
       "      <td>0.435721</td>\n",
       "      <td>-0.330832</td>\n",
       "      <td>-0.211032</td>\n",
       "      <td>0.499886</td>\n",
       "      <td>1.000000</td>\n",
       "    </tr>\n",
       "  </tbody>\n",
       "</table>\n",
       "</div>"
      ],
      "text/plain": [
       "                    gearbox     power  kilometer  repaired  registration_year  \\\n",
       "gearbox            1.000000 -0.397769  -0.051203  0.021011           0.011274   \n",
       "power             -0.397769  1.000000   0.190222 -0.050551           0.032531   \n",
       "kilometer         -0.051203  0.190222   1.000000  0.093887          -0.302297   \n",
       "repaired           0.021011 -0.050551   0.093887  1.000000          -0.065117   \n",
       "registration_year  0.011274  0.032531  -0.302297 -0.065117           1.000000   \n",
       "price             -0.186202  0.435721  -0.330832 -0.211032           0.499886   \n",
       "\n",
       "                      price  \n",
       "gearbox           -0.186202  \n",
       "power              0.435721  \n",
       "kilometer         -0.330832  \n",
       "repaired          -0.211032  \n",
       "registration_year  0.499886  \n",
       "price              1.000000  "
      ]
     },
     "execution_count": 47,
     "metadata": {},
     "output_type": "execute_result"
    }
   ],
   "source": [
    "filtred_df.corr()"
   ]
  },
  {
   "cell_type": "code",
   "execution_count": 48,
   "metadata": {},
   "outputs": [
    {
     "data": {
      "text/html": [
       "<div>\n",
       "<style scoped>\n",
       "    .dataframe tbody tr th:only-of-type {\n",
       "        vertical-align: middle;\n",
       "    }\n",
       "\n",
       "    .dataframe tbody tr th {\n",
       "        vertical-align: top;\n",
       "    }\n",
       "\n",
       "    .dataframe thead th {\n",
       "        text-align: right;\n",
       "    }\n",
       "</style>\n",
       "<table border=\"1\" class=\"dataframe\">\n",
       "  <thead>\n",
       "    <tr style=\"text-align: right;\">\n",
       "      <th></th>\n",
       "      <th>vehicle_type</th>\n",
       "      <th>gearbox</th>\n",
       "      <th>power</th>\n",
       "      <th>kilometer</th>\n",
       "      <th>fuel_type</th>\n",
       "      <th>brand</th>\n",
       "      <th>repaired</th>\n",
       "      <th>registration_year</th>\n",
       "      <th>model</th>\n",
       "      <th>price</th>\n",
       "    </tr>\n",
       "  </thead>\n",
       "  <tbody>\n",
       "    <tr>\n",
       "      <th>vehicle_type</th>\n",
       "      <td>1.000000</td>\n",
       "      <td>0.192100</td>\n",
       "      <td>0.477475</td>\n",
       "      <td>0.302136</td>\n",
       "      <td>0.404704</td>\n",
       "      <td>0.599097</td>\n",
       "      <td>0.309322</td>\n",
       "      <td>0.564244</td>\n",
       "      <td>0.899795</td>\n",
       "      <td>0.218112</td>\n",
       "    </tr>\n",
       "    <tr>\n",
       "      <th>gearbox</th>\n",
       "      <td>0.192100</td>\n",
       "      <td>1.000000</td>\n",
       "      <td>0.546956</td>\n",
       "      <td>0.060941</td>\n",
       "      <td>0.122760</td>\n",
       "      <td>0.489931</td>\n",
       "      <td>0.012802</td>\n",
       "      <td>0.101298</td>\n",
       "      <td>0.631044</td>\n",
       "      <td>0.240709</td>\n",
       "    </tr>\n",
       "    <tr>\n",
       "      <th>power</th>\n",
       "      <td>0.477475</td>\n",
       "      <td>0.546956</td>\n",
       "      <td>1.000000</td>\n",
       "      <td>0.184828</td>\n",
       "      <td>0.249763</td>\n",
       "      <td>0.568381</td>\n",
       "      <td>0.065696</td>\n",
       "      <td>0.259045</td>\n",
       "      <td>0.803098</td>\n",
       "      <td>0.436047</td>\n",
       "    </tr>\n",
       "    <tr>\n",
       "      <th>kilometer</th>\n",
       "      <td>0.302136</td>\n",
       "      <td>0.060941</td>\n",
       "      <td>0.184828</td>\n",
       "      <td>1.000000</td>\n",
       "      <td>0.195371</td>\n",
       "      <td>0.299529</td>\n",
       "      <td>0.207583</td>\n",
       "      <td>0.400021</td>\n",
       "      <td>0.470687</td>\n",
       "      <td>0.275215</td>\n",
       "    </tr>\n",
       "    <tr>\n",
       "      <th>fuel_type</th>\n",
       "      <td>0.404704</td>\n",
       "      <td>0.122760</td>\n",
       "      <td>0.249763</td>\n",
       "      <td>0.195371</td>\n",
       "      <td>1.000000</td>\n",
       "      <td>0.264267</td>\n",
       "      <td>0.156415</td>\n",
       "      <td>0.331016</td>\n",
       "      <td>0.499497</td>\n",
       "      <td>0.234624</td>\n",
       "    </tr>\n",
       "    <tr>\n",
       "      <th>brand</th>\n",
       "      <td>0.599097</td>\n",
       "      <td>0.489931</td>\n",
       "      <td>0.568381</td>\n",
       "      <td>0.299529</td>\n",
       "      <td>0.264267</td>\n",
       "      <td>1.000000</td>\n",
       "      <td>0.117896</td>\n",
       "      <td>0.343568</td>\n",
       "      <td>0.998545</td>\n",
       "      <td>0.303850</td>\n",
       "    </tr>\n",
       "    <tr>\n",
       "      <th>repaired</th>\n",
       "      <td>0.309322</td>\n",
       "      <td>0.012802</td>\n",
       "      <td>0.065696</td>\n",
       "      <td>0.207583</td>\n",
       "      <td>0.156415</td>\n",
       "      <td>0.117896</td>\n",
       "      <td>1.000000</td>\n",
       "      <td>0.242647</td>\n",
       "      <td>0.194297</td>\n",
       "      <td>0.310133</td>\n",
       "    </tr>\n",
       "    <tr>\n",
       "      <th>registration_year</th>\n",
       "      <td>0.564244</td>\n",
       "      <td>0.101298</td>\n",
       "      <td>0.259045</td>\n",
       "      <td>0.400021</td>\n",
       "      <td>0.331016</td>\n",
       "      <td>0.343568</td>\n",
       "      <td>0.242647</td>\n",
       "      <td>1.000000</td>\n",
       "      <td>0.632134</td>\n",
       "      <td>0.665199</td>\n",
       "    </tr>\n",
       "    <tr>\n",
       "      <th>model</th>\n",
       "      <td>0.899795</td>\n",
       "      <td>0.631044</td>\n",
       "      <td>0.803098</td>\n",
       "      <td>0.470687</td>\n",
       "      <td>0.499497</td>\n",
       "      <td>0.998545</td>\n",
       "      <td>0.194297</td>\n",
       "      <td>0.632134</td>\n",
       "      <td>1.000000</td>\n",
       "      <td>0.539551</td>\n",
       "    </tr>\n",
       "    <tr>\n",
       "      <th>price</th>\n",
       "      <td>0.218112</td>\n",
       "      <td>0.240709</td>\n",
       "      <td>0.436047</td>\n",
       "      <td>0.275215</td>\n",
       "      <td>0.234624</td>\n",
       "      <td>0.303850</td>\n",
       "      <td>0.310133</td>\n",
       "      <td>0.665199</td>\n",
       "      <td>0.539551</td>\n",
       "      <td>1.000000</td>\n",
       "    </tr>\n",
       "  </tbody>\n",
       "</table>\n",
       "</div>"
      ],
      "text/plain": [
       "                   vehicle_type   gearbox     power  kilometer  fuel_type  \\\n",
       "vehicle_type           1.000000  0.192100  0.477475   0.302136   0.404704   \n",
       "gearbox                0.192100  1.000000  0.546956   0.060941   0.122760   \n",
       "power                  0.477475  0.546956  1.000000   0.184828   0.249763   \n",
       "kilometer              0.302136  0.060941  0.184828   1.000000   0.195371   \n",
       "fuel_type              0.404704  0.122760  0.249763   0.195371   1.000000   \n",
       "brand                  0.599097  0.489931  0.568381   0.299529   0.264267   \n",
       "repaired               0.309322  0.012802  0.065696   0.207583   0.156415   \n",
       "registration_year      0.564244  0.101298  0.259045   0.400021   0.331016   \n",
       "model                  0.899795  0.631044  0.803098   0.470687   0.499497   \n",
       "price                  0.218112  0.240709  0.436047   0.275215   0.234624   \n",
       "\n",
       "                      brand  repaired  registration_year     model     price  \n",
       "vehicle_type       0.599097  0.309322           0.564244  0.899795  0.218112  \n",
       "gearbox            0.489931  0.012802           0.101298  0.631044  0.240709  \n",
       "power              0.568381  0.065696           0.259045  0.803098  0.436047  \n",
       "kilometer          0.299529  0.207583           0.400021  0.470687  0.275215  \n",
       "fuel_type          0.264267  0.156415           0.331016  0.499497  0.234624  \n",
       "brand              1.000000  0.117896           0.343568  0.998545  0.303850  \n",
       "repaired           0.117896  1.000000           0.242647  0.194297  0.310133  \n",
       "registration_year  0.343568  0.242647           1.000000  0.632134  0.665199  \n",
       "model              0.998545  0.194297           0.632134  1.000000  0.539551  \n",
       "price              0.303850  0.310133           0.665199  0.539551  1.000000  "
      ]
     },
     "execution_count": 48,
     "metadata": {},
     "output_type": "execute_result"
    }
   ],
   "source": [
    "phik_m = filtred_df.phik_matrix(interval_cols=['gearbox', 'power', 'kilometer', 'repaired', 'registration_year', 'price'])\n",
    "phik_m"
   ]
  },
  {
   "cell_type": "code",
   "execution_count": 49,
   "metadata": {},
   "outputs": [
    {
     "data": {
      "image/png": "[encoded data removed]",
      "text/plain": [
       "<Figure size 720x504 with 2 Axes>"
      ]
     },
     "metadata": {},
     "output_type": "display_data"
    }
   ],
   "source": [
    "sns.set(font_scale=1.2)\n",
    "fig, ax = plt.subplots(figsize=(10, 7))\n",
    "sns.heatmap(phik_m, annot= True, vmin=-1, vmax=1, center= 0, fmt='.1g')\n",
    "\n",
    "plt.show()"
   ]
  },
  {
   "cell_type": "markdown",
   "metadata": {},
   "source": [
    "Цена на автомобиль коррелирует с годом регистрации и мощностью двигателя и обратно коррелирует пройденому километражу."
   ]
  },
  {
   "cell_type": "markdown",
   "metadata": {},
   "source": [
    "**Вывод:**\n",
    "\n",
    "- изучили данные;\n",
    "- отобрали необходимые признаки для построения модели;\n",
    "- удалили аномальные значения и значения, которые не представляется возможность восстановить и могут оказать влияние на построение модели;\n",
    "- где представлялось возможным заменили отсутствующие значения;\n",
    "- заменили два категориальных признака на численные;\n",
    "- удалили дубликаты;\n",
    "- выяснили возможные корреляции признаков."
   ]
  },
  {
   "cell_type": "markdown",
   "metadata": {},
   "source": [
    "## Обучение моделей"
   ]
  },
  {
   "cell_type": "markdown",
   "metadata": {},
   "source": [
    "Выберем следующие модели для обучения:\n",
    "\n",
    "- LinearRegression;\n",
    "- DecisionTreeRegressor;\n",
    "- CatBoostRegressor;\n",
    "- LGBMRegressor.\n",
    "\n",
    "В качестве метрики для всех моделей будем использовать RMSE. При подборе гиперпараметров будем использовать кроссвалидацию.\n",
    "\n",
    "Для построения моделей будем использовать 3 типа признаков:\n",
    "\n",
    "- неизмененные: features;\n",
    "- закодированные методом OHE: ohe_features;\n",
    "- закодированные методом OE: ordinal_features."
   ]
  },
  {
   "cell_type": "markdown",
   "metadata": {},
   "source": [
    "Разделим данные на обучающую, валидационную и тестовую выборки:"
   ]
  },
  {
   "cell_type": "code",
   "execution_count": 50,
   "metadata": {},
   "outputs": [],
   "source": [
    "features = filtred_df.drop('price', axis=1)\n",
    "target = filtred_df['price']"
   ]
  },
  {
   "cell_type": "code",
   "execution_count": 51,
   "metadata": {},
   "outputs": [],
   "source": [
    "features_train, features_v, target_train, target_v = train_test_split(\n",
    "    features, target, test_size=0.4, random_state=15243)\n",
    "\n",
    "features_valid, features_test, target_valid, target_test = train_test_split(\n",
    "    features_v, target_v, test_size=0.5, random_state=15243)"
   ]
  },
  {
   "cell_type": "markdown",
   "metadata": {},
   "source": [
    "Кодирование:"
   ]
  },
  {
   "cell_type": "code",
   "execution_count": 52,
   "metadata": {},
   "outputs": [
    {
     "data": {
      "text/html": [
       "<style>#sk-container-id-1 {color: black;}#sk-container-id-1 pre{padding: 0;}#sk-container-id-1 div.sk-toggleable {background-color: white;}#sk-container-id-1 label.sk-toggleable__label {cursor: pointer;display: block;width: 100%;margin-bottom: 0;padding: 0.3em;box-sizing: border-box;text-align: center;}#sk-container-id-1 label.sk-toggleable__label-arrow:before {content: \"▸\";float: left;margin-right: 0.25em;color: #696969;}#sk-container-id-1 label.sk-toggleable__label-arrow:hover:before {color: black;}#sk-container-id-1 div.sk-estimator:hover label.sk-toggleable__label-arrow:before {color: black;}#sk-container-id-1 div.sk-toggleable__content {max-height: 0;max-width: 0;overflow: hidden;text-align: left;background-color: #f0f8ff;}#sk-container-id-1 div.sk-toggleable__content pre {margin: 0.2em;color: black;border-radius: 0.25em;background-color: #f0f8ff;}#sk-container-id-1 input.sk-toggleable__control:checked~div.sk-toggleable__content {max-height: 200px;max-width: 100%;overflow: auto;}#sk-container-id-1 input.sk-toggleable__control:checked~label.sk-toggleable__label-arrow:before {content: \"▾\";}#sk-container-id-1 div.sk-estimator input.sk-toggleable__control:checked~label.sk-toggleable__label {background-color: #d4ebff;}#sk-container-id-1 div.sk-label input.sk-toggleable__control:checked~label.sk-toggleable__label {background-color: #d4ebff;}#sk-container-id-1 input.sk-hidden--visually {border: 0;clip: rect(1px 1px 1px 1px);clip: rect(1px, 1px, 1px, 1px);height: 1px;margin: -1px;overflow: hidden;padding: 0;position: absolute;width: 1px;}#sk-container-id-1 div.sk-estimator {font-family: monospace;background-color: #f0f8ff;border: 1px dotted black;border-radius: 0.25em;box-sizing: border-box;margin-bottom: 0.5em;}#sk-container-id-1 div.sk-estimator:hover {background-color: #d4ebff;}#sk-container-id-1 div.sk-parallel-item::after {content: \"\";width: 100%;border-bottom: 1px solid gray;flex-grow: 1;}#sk-container-id-1 div.sk-label:hover label.sk-toggleable__label {background-color: #d4ebff;}#sk-container-id-1 div.sk-serial::before {content: \"\";position: absolute;border-left: 1px solid gray;box-sizing: border-box;top: 0;bottom: 0;left: 50%;z-index: 0;}#sk-container-id-1 div.sk-serial {display: flex;flex-direction: column;align-items: center;background-color: white;padding-right: 0.2em;padding-left: 0.2em;position: relative;}#sk-container-id-1 div.sk-item {position: relative;z-index: 1;}#sk-container-id-1 div.sk-parallel {display: flex;align-items: stretch;justify-content: center;background-color: white;position: relative;}#sk-container-id-1 div.sk-item::before, #sk-container-id-1 div.sk-parallel-item::before {content: \"\";position: absolute;border-left: 1px solid gray;box-sizing: border-box;top: 0;bottom: 0;left: 50%;z-index: -1;}#sk-container-id-1 div.sk-parallel-item {display: flex;flex-direction: column;z-index: 1;position: relative;background-color: white;}#sk-container-id-1 div.sk-parallel-item:first-child::after {align-self: flex-end;width: 50%;}#sk-container-id-1 div.sk-parallel-item:last-child::after {align-self: flex-start;width: 50%;}#sk-container-id-1 div.sk-parallel-item:only-child::after {width: 0;}#sk-container-id-1 div.sk-dashed-wrapped {border: 1px dashed gray;margin: 0 0.4em 0.5em 0.4em;box-sizing: border-box;padding-bottom: 0.4em;background-color: white;}#sk-container-id-1 div.sk-label label {font-family: monospace;font-weight: bold;display: inline-block;line-height: 1.2em;}#sk-container-id-1 div.sk-label-container {text-align: center;}#sk-container-id-1 div.sk-container {/* jupyter's `normalize.less` sets `[hidden] { display: none; }` but bootstrap.min.css set `[hidden] { display: none !important; }` so we also need the `!important` here to be able to override the default hidden behavior on the sphinx rendered scikit-learn.org. See: https://github.com/scikit-learn/scikit-learn/issues/21755 */display: inline-block !important;position: relative;}#sk-container-id-1 div.sk-text-repr-fallback {display: none;}</style><div id=\"sk-container-id-1\" class=\"sk-top-container\"><div class=\"sk-text-repr-fallback\"><pre>OneHotEncoder(handle_unknown=&#x27;ignore&#x27;, sparse=False, sparse_output=False)</pre><b>In a Jupyter environment, please rerun this cell to show the HTML representation or trust the notebook. <br />On GitHub, the HTML representation is unable to render, please try loading this page with nbviewer.org.</b></div><div class=\"sk-container\" hidden><div class=\"sk-item\"><div class=\"sk-estimator sk-toggleable\"><input class=\"sk-toggleable__control sk-hidden--visually\" id=\"sk-estimator-id-1\" type=\"checkbox\" checked><label for=\"sk-estimator-id-1\" class=\"sk-toggleable__label sk-toggleable__label-arrow\">OneHotEncoder</label><div class=\"sk-toggleable__content\"><pre>OneHotEncoder(handle_unknown=&#x27;ignore&#x27;, sparse=False, sparse_output=False)</pre></div></div></div></div></div>"
      ],
      "text/plain": [
       "OneHotEncoder(handle_unknown='ignore', sparse=False, sparse_output=False)"
      ]
     },
     "execution_count": 52,
     "metadata": {},
     "output_type": "execute_result"
    }
   ],
   "source": [
    "cat_columns = features_train.select_dtypes(include='object').columns.to_list()\n",
    "\n",
    "encoder_OE = OrdinalEncoder(handle_unknown='use_encoded_value', unknown_value=-1)\n",
    "encoder_OE.fit(features_train[cat_columns])\n",
    "\n",
    "encoder_OHE = OneHotEncoder(handle_unknown='ignore', sparse=False)\n",
    "encoder_OHE.fit(features_train[cat_columns])"
   ]
  },
  {
   "cell_type": "code",
   "execution_count": 53,
   "metadata": {},
   "outputs": [],
   "source": [
    "def encod_OE(encod, df):\n",
    "    cat_features = pd.DataFrame(encod.transform(df[cat_columns]),\n",
    "                                columns=df[cat_columns].columns,\n",
    "                                index=df[cat_columns].index)\n",
    "    encod_df = df.copy()\n",
    "    \n",
    "    for column in cat_columns:\n",
    "        encod_df[column] = cat_features[column]\n",
    "        \n",
    "    return encod_df"
   ]
  },
  {
   "cell_type": "code",
   "execution_count": 54,
   "metadata": {},
   "outputs": [],
   "source": [
    "def encod_OHE(encod, df):\n",
    "    encod_df = df.copy()\n",
    "    try:\n",
    "        encod_df[encod.get_feature_names_out()] = encod.transform(df[cat_columns])\n",
    "    except:\n",
    "        encod_df[encod.get_feature_names()] = encod.transform(df[cat_columns])\n",
    "    encod_df = encod_df.drop(cat_columns, axis=1)\n",
    "    \n",
    "    return encod_df"
   ]
  },
  {
   "cell_type": "code",
   "execution_count": 55,
   "metadata": {},
   "outputs": [],
   "source": [
    "ordinal_features_train = encod_OE(encoder_OE, features_train)\n",
    "ordinal_features_valid = encod_OE(encoder_OE, features_valid)\n",
    "ordinal_features_test = encod_OE(encoder_OE, features_test)"
   ]
  },
  {
   "cell_type": "code",
   "execution_count": 56,
   "metadata": {},
   "outputs": [],
   "source": [
    "ohe_features_train = encod_OHE(encoder_OHE, features_train)\n",
    "ohe_features_valid = encod_OHE(encoder_OHE, features_valid)\n",
    "ohe_features_test = encod_OHE(encoder_OHE, features_test)"
   ]
  },
  {
   "cell_type": "markdown",
   "metadata": {},
   "source": [
    "Для подбора гиперпараметров и построения моделей напишем соответствующие функции:"
   ]
  },
  {
   "cell_type": "code",
   "execution_count": 57,
   "metadata": {},
   "outputs": [],
   "source": [
    "def best_param(model, f_train, t_train, params):\n",
    "    start = time.time()\n",
    "\n",
    "    grid = GridSearchCV(model, params, cv=5, scoring='neg_root_mean_squared_error', n_jobs=-1)\n",
    "    grid.fit(f_train, t_train)\n",
    "    end = time.time()\n",
    "\n",
    "    b_time = end - start\n",
    "\n",
    "    return grid.best_params_, b_time"
   ]
  },
  {
   "cell_type": "code",
   "execution_count": 73,
   "metadata": {},
   "outputs": [],
   "source": [
    "def calculation(model, f_train, t_train, f_val, t_val, params, flag=False):\n",
    "    model_type = {\n",
    "        'lr': LinearRegression,\n",
    "        'dtr': DecisionTreeRegressor,\n",
    "        'cbr': CatBoostRegressor,\n",
    "        'lgbrm': LGBMRegressor\n",
    "    }\n",
    "    \n",
    "    if flag:\n",
    "        best_par = params\n",
    "        par_time = 0\n",
    "    else:\n",
    "        best_par, par_time = best_param(model_type[model](), f_train, t_train, params)\n",
    "    start = time.time()\n",
    "    best_model = model_type[model](**best_par)\n",
    "    best_model.fit(f_train, t_train)\n",
    "    end = time.time()\n",
    "    model_time = end - start\n",
    "    \n",
    "    start = time.time()\n",
    "    pred_target = best_model.predict(f_val)\n",
    "    end = time.time()\n",
    "    pred_time = end - start\n",
    "    \n",
    "    rmse = mean_squared_error(t_val, pred_target) ** .5\n",
    "    \n",
    "    table = PrettyTable()\n",
    "    table.field_names = ['Данные', 'Значение']\n",
    "    table.add_row(['Подбор параметров', f'{par_time // 60} мин {(par_time % 60):.2f} сек'])\n",
    "    table.add_row(['Обучение модели', f'{model_time:.2f} сек'])\n",
    "    table.add_row(['Предсказание модели', f'{pred_time:.2f} сек'])\n",
    "    table.add_row(['RMSE', f'{rmse}'])\n",
    "    table.add_row([' ', ' '])\n",
    "    table.add_row(['Лучшие параметры:', ' '])\n",
    "    for k, v in best_par.items():\n",
    "        table.add_row([f'{k}:', v])\n",
    "    print(table)\n",
    "    \n",
    "    \n",
    "    return best_model, rmse, model_time, pred_time"
   ]
  },
  {
   "cell_type": "code",
   "execution_count": 59,
   "metadata": {},
   "outputs": [],
   "source": [
    "STATE = np.random.RandomState(15243)"
   ]
  },
  {
   "cell_type": "markdown",
   "metadata": {},
   "source": [
    "### LinearRegression"
   ]
  },
  {
   "cell_type": "code",
   "execution_count": 60,
   "metadata": {},
   "outputs": [
    {
     "name": "stdout",
     "output_type": "stream",
     "text": [
      "+---------------------+--------------------+\n",
      "|      Показатель     |      Значение      |\n",
      "+---------------------+--------------------+\n",
      "|  Подбор параметров  | 4.0 мин 55.08 сек  |\n",
      "|   Обучение модели   |     15.80 сек      |\n",
      "| Предсказание модели |      0.20 сек      |\n",
      "|         RMSE        | 1956.2969900580738 |\n",
      "|                     |                    |\n",
      "|  Лучшие параметры:  |                    |\n",
      "|    fit_intercept:   |        True        |\n",
      "|      positive:      |       False        |\n",
      "+---------------------+--------------------+\n",
      "CPU times: user 4min 26s, sys: 43.4 s, total: 5min 9s\n",
      "Wall time: 5min 11s\n"
     ]
    }
   ],
   "source": [
    "%%time\n",
    "\n",
    "params = {'fit_intercept': [True, False], 'positive': [True, False]}\n",
    "lr_model, lr_model_rmse, lr_model_time, lr_pred_time = calculation('lr',\n",
    "                                                                   ohe_features_train,\n",
    "                                                                   target_train,\n",
    "                                                                   ohe_features_valid,\n",
    "                                                                   target_valid,\n",
    "                                                                   params)"
   ]
  },
  {
   "cell_type": "markdown",
   "metadata": {},
   "source": [
    "### DecisionTreeRegressor"
   ]
  },
  {
   "cell_type": "markdown",
   "metadata": {},
   "source": [
    "#### кодировка OHE"
   ]
  },
  {
   "cell_type": "code",
   "execution_count": 61,
   "metadata": {},
   "outputs": [
    {
     "name": "stdout",
     "output_type": "stream",
     "text": [
      "+---------------------+----------------------+\n",
      "|      Показатель     |       Значение       |\n",
      "+---------------------+----------------------+\n",
      "|  Подбор параметров  |  5.0 мин 28.16 сек   |\n",
      "|   Обучение модели   |       2.92 сек       |\n",
      "| Предсказание модели |       0.08 сек       |\n",
      "|         RMSE        |  1548.901033155775   |\n",
      "|                     |                      |\n",
      "|  Лучшие параметры:  |                      |\n",
      "|      max_depth:     |          15          |\n",
      "|    random_state:    | RandomState(MT19937) |\n",
      "+---------------------+----------------------+\n",
      "CPU times: user 5min, sys: 30.1 s, total: 5min 30s\n",
      "Wall time: 5min 31s\n"
     ]
    }
   ],
   "source": [
    "%%time\n",
    "\n",
    "params = {'max_depth':[x for x in range(2, 31)],\n",
    "          'random_state':[STATE]}\n",
    "dtr_model_OHE, dtr_model_rmse_OHE, dtr_model_time_OHE, dtr_pred_time_OHE = calculation('dtr',\n",
    "                                                                                       ohe_features_train,\n",
    "                                                                                       target_train,\n",
    "                                                                                       ohe_features_valid,\n",
    "                                                                                       target_valid,\n",
    "                                                                                       params)"
   ]
  },
  {
   "cell_type": "markdown",
   "metadata": {},
   "source": [
    "#### кодировка OE"
   ]
  },
  {
   "cell_type": "code",
   "execution_count": 62,
   "metadata": {},
   "outputs": [
    {
     "name": "stdout",
     "output_type": "stream",
     "text": [
      "+---------------------+----------------------+\n",
      "|      Показатель     |       Значение       |\n",
      "+---------------------+----------------------+\n",
      "|  Подбор параметров  |  0.0 мин 43.53 сек   |\n",
      "|   Обучение модели   |       0.32 сек       |\n",
      "| Предсказание модели |       0.01 сек       |\n",
      "|         RMSE        |  1556.1896929816853  |\n",
      "|                     |                      |\n",
      "|  Лучшие параметры:  |                      |\n",
      "|      max_depth:     |          13          |\n",
      "|    random_state:    | RandomState(MT19937) |\n",
      "+---------------------+----------------------+\n",
      "CPU times: user 43.6 s, sys: 253 ms, total: 43.8 s\n",
      "Wall time: 43.9 s\n"
     ]
    }
   ],
   "source": [
    "%%time\n",
    "\n",
    "params = {'max_depth':[x for x in range(2, 31)],\n",
    "          'random_state':[STATE]}\n",
    "dtr_model_OE, dtr_model_rmse_OE, dtr_model_time_OE, dtr_pred_time_OE = calculation('dtr',\n",
    "                                                                                   ordinal_features_train,\n",
    "                                                                                   target_train,\n",
    "                                                                                   ordinal_features_valid,\n",
    "                                                                                   target_valid,\n",
    "                                                                                   params)"
   ]
  },
  {
   "cell_type": "markdown",
   "metadata": {},
   "source": [
    "### CatBoostRegressor"
   ]
  },
  {
   "cell_type": "markdown",
   "metadata": {},
   "source": [
    "Для CatBoostRegressor будем использовать только кодировку ОЕ:"
   ]
  },
  {
   "cell_type": "code",
   "execution_count": 68,
   "metadata": {},
   "outputs": [
    {
     "name": "stdout",
     "output_type": "stream",
     "text": [
      "+---------------------+--------------------+\n",
      "|      Показатель     |      Значение      |\n",
      "+---------------------+--------------------+\n",
      "|  Подбор параметров  |  4.0 мин 6.02 сек  |\n",
      "|   Обучение модели   |     19.14 сек      |\n",
      "| Предсказание модели |      0.04 сек      |\n",
      "|         RMSE        | 1294.3057053038358 |\n",
      "|                     |                    |\n",
      "|  Лучшие параметры:  |                    |\n",
      "|    learning_rate:   |        0.5         |\n",
      "|    random_state:    |       15243        |\n",
      "|       verbose:      |       False        |\n",
      "+---------------------+--------------------+\n",
      "CPU times: user 4min 5s, sys: 0 ns, total: 4min 5s\n",
      "Wall time: 4min 25s\n"
     ]
    }
   ],
   "source": [
    "%%time\n",
    "\n",
    "params = {'learning_rate':[0.1, 0.5, 0.8],\n",
    "          'verbose':[False],\n",
    "          'random_state':[15243]}\n",
    "cbr_model_OE, cbr_model_rmse_OE, cbr_model_time_OE, cbr_pred_time_OE = calculation('cbr',\n",
    "                                                                                   ordinal_features_train,\n",
    "                                                                                   target_train,\n",
    "                                                                                   ordinal_features_valid,\n",
    "                                                                                   target_valid,\n",
    "                                                                                   params)"
   ]
  },
  {
   "cell_type": "code",
   "execution_count": 69,
   "metadata": {
    "scrolled": true
   },
   "outputs": [
    {
     "name": "stdout",
     "output_type": "stream",
     "text": [
      "0:\tlearn: 3304.3270409\ttotal: 131ms\tremaining: 2m 10s\n",
      "1:\tlearn: 3113.4733688\ttotal: 271ms\tremaining: 2m 15s\n",
      "2:\tlearn: 2938.2940372\ttotal: 387ms\tremaining: 2m 8s\n",
      "3:\tlearn: 2785.3425456\ttotal: 463ms\tremaining: 1m 55s\n",
      "4:\tlearn: 2651.5441894\ttotal: 604ms\tremaining: 2m\n",
      "5:\tlearn: 2535.5664821\ttotal: 708ms\tremaining: 1m 57s\n",
      "6:\tlearn: 2430.4572455\ttotal: 833ms\tremaining: 1m 58s\n",
      "7:\tlearn: 2339.7250155\ttotal: 927ms\tremaining: 1m 55s\n",
      "8:\tlearn: 2255.5653046\ttotal: 1.07s\tremaining: 1m 57s\n",
      "9:\tlearn: 2180.8571573\ttotal: 1.19s\tremaining: 1m 57s\n",
      "10:\tlearn: 2120.5339820\ttotal: 1.27s\tremaining: 1m 54s\n",
      "11:\tlearn: 2063.6970491\ttotal: 1.41s\tremaining: 1m 55s\n",
      "12:\tlearn: 2004.2690526\ttotal: 1.54s\tremaining: 1m 57s\n",
      "13:\tlearn: 1954.9863665\ttotal: 1.66s\tremaining: 1m 56s\n",
      "14:\tlearn: 1913.1620199\ttotal: 1.78s\tremaining: 1m 56s\n",
      "15:\tlearn: 1876.8929168\ttotal: 1.91s\tremaining: 1m 57s\n",
      "16:\tlearn: 1845.6317076\ttotal: 2.02s\tremaining: 1m 56s\n",
      "17:\tlearn: 1812.1803430\ttotal: 2.15s\tremaining: 1m 57s\n",
      "18:\tlearn: 1780.4528338\ttotal: 2.24s\tremaining: 1m 55s\n",
      "19:\tlearn: 1753.8223573\ttotal: 2.33s\tremaining: 1m 53s\n",
      "20:\tlearn: 1730.1083917\ttotal: 2.43s\tremaining: 1m 53s\n",
      "21:\tlearn: 1710.7857549\ttotal: 2.54s\tremaining: 1m 52s\n",
      "22:\tlearn: 1693.4626823\ttotal: 2.63s\tremaining: 1m 51s\n",
      "23:\tlearn: 1677.2267929\ttotal: 2.74s\tremaining: 1m 51s\n",
      "24:\tlearn: 1663.4415020\ttotal: 2.85s\tremaining: 1m 51s\n",
      "25:\tlearn: 1651.6586464\ttotal: 2.94s\tremaining: 1m 50s\n",
      "26:\tlearn: 1640.5133659\ttotal: 3.06s\tremaining: 1m 50s\n",
      "27:\tlearn: 1629.9941049\ttotal: 3.16s\tremaining: 1m 49s\n",
      "28:\tlearn: 1620.4069843\ttotal: 3.28s\tremaining: 1m 49s\n",
      "29:\tlearn: 1612.7752324\ttotal: 3.39s\tremaining: 1m 49s\n",
      "30:\tlearn: 1604.3047312\ttotal: 3.48s\tremaining: 1m 48s\n",
      "31:\tlearn: 1595.9831593\ttotal: 3.56s\tremaining: 1m 47s\n",
      "32:\tlearn: 1589.7337427\ttotal: 3.65s\tremaining: 1m 46s\n",
      "33:\tlearn: 1582.9332909\ttotal: 3.77s\tremaining: 1m 47s\n",
      "34:\tlearn: 1576.0439992\ttotal: 3.87s\tremaining: 1m 46s\n",
      "35:\tlearn: 1570.4541749\ttotal: 3.96s\tremaining: 1m 46s\n",
      "36:\tlearn: 1565.3141281\ttotal: 4.05s\tremaining: 1m 45s\n",
      "37:\tlearn: 1560.7019794\ttotal: 4.13s\tremaining: 1m 44s\n",
      "38:\tlearn: 1555.8622085\ttotal: 4.23s\tremaining: 1m 44s\n",
      "39:\tlearn: 1551.4462816\ttotal: 4.34s\tremaining: 1m 44s\n",
      "40:\tlearn: 1547.1553569\ttotal: 4.46s\tremaining: 1m 44s\n",
      "41:\tlearn: 1542.9691122\ttotal: 4.53s\tremaining: 1m 43s\n",
      "42:\tlearn: 1538.7947745\ttotal: 4.65s\tremaining: 1m 43s\n",
      "43:\tlearn: 1536.3397456\ttotal: 4.76s\tremaining: 1m 43s\n",
      "44:\tlearn: 1533.0675270\ttotal: 4.83s\tremaining: 1m 42s\n",
      "45:\tlearn: 1529.9084707\ttotal: 4.91s\tremaining: 1m 41s\n",
      "46:\tlearn: 1526.4409884\ttotal: 4.99s\tremaining: 1m 41s\n",
      "47:\tlearn: 1524.5081132\ttotal: 5.1s\tremaining: 1m 41s\n",
      "48:\tlearn: 1520.1930275\ttotal: 5.22s\tremaining: 1m 41s\n",
      "49:\tlearn: 1517.8956250\ttotal: 5.29s\tremaining: 1m 40s\n",
      "50:\tlearn: 1514.2182625\ttotal: 5.41s\tremaining: 1m 40s\n",
      "51:\tlearn: 1511.9457805\ttotal: 5.51s\tremaining: 1m 40s\n",
      "52:\tlearn: 1510.0735635\ttotal: 5.62s\tremaining: 1m 40s\n",
      "53:\tlearn: 1507.9211614\ttotal: 5.73s\tremaining: 1m 40s\n",
      "54:\tlearn: 1505.1289457\ttotal: 5.83s\tremaining: 1m 40s\n",
      "55:\tlearn: 1501.6210614\ttotal: 5.9s\tremaining: 1m 39s\n",
      "56:\tlearn: 1498.5634374\ttotal: 6s\tremaining: 1m 39s\n",
      "57:\tlearn: 1496.1003542\ttotal: 6.08s\tremaining: 1m 38s\n",
      "58:\tlearn: 1494.3080729\ttotal: 6.17s\tremaining: 1m 38s\n",
      "59:\tlearn: 1492.4065893\ttotal: 6.25s\tremaining: 1m 37s\n",
      "60:\tlearn: 1490.8243960\ttotal: 6.33s\tremaining: 1m 37s\n",
      "61:\tlearn: 1488.7061404\ttotal: 6.49s\tremaining: 1m 38s\n",
      "62:\tlearn: 1485.8072873\ttotal: 6.56s\tremaining: 1m 37s\n",
      "63:\tlearn: 1482.9684721\ttotal: 6.67s\tremaining: 1m 37s\n",
      "64:\tlearn: 1481.4521644\ttotal: 6.79s\tremaining: 1m 37s\n",
      "65:\tlearn: 1478.9130860\ttotal: 6.88s\tremaining: 1m 37s\n",
      "66:\tlearn: 1476.9624632\ttotal: 6.99s\tremaining: 1m 37s\n",
      "67:\tlearn: 1475.3518017\ttotal: 7.07s\tremaining: 1m 36s\n",
      "68:\tlearn: 1473.8279781\ttotal: 7.16s\tremaining: 1m 36s\n",
      "69:\tlearn: 1471.4030617\ttotal: 7.36s\tremaining: 1m 37s\n",
      "70:\tlearn: 1469.6061216\ttotal: 7.43s\tremaining: 1m 37s\n",
      "71:\tlearn: 1467.7730006\ttotal: 7.56s\tremaining: 1m 37s\n",
      "72:\tlearn: 1466.0931675\ttotal: 7.7s\tremaining: 1m 37s\n",
      "73:\tlearn: 1464.5301357\ttotal: 7.82s\tremaining: 1m 37s\n",
      "74:\tlearn: 1462.9776353\ttotal: 7.93s\tremaining: 1m 37s\n",
      "75:\tlearn: 1461.5572232\ttotal: 8.03s\tremaining: 1m 37s\n",
      "76:\tlearn: 1460.3132948\ttotal: 8.13s\tremaining: 1m 37s\n",
      "77:\tlearn: 1458.9433195\ttotal: 8.24s\tremaining: 1m 37s\n",
      "78:\tlearn: 1457.5886652\ttotal: 8.32s\tremaining: 1m 36s\n",
      "79:\tlearn: 1456.3976264\ttotal: 8.41s\tremaining: 1m 36s\n",
      "80:\tlearn: 1454.8781656\ttotal: 8.52s\tremaining: 1m 36s\n",
      "81:\tlearn: 1453.5406634\ttotal: 8.61s\tremaining: 1m 36s\n",
      "82:\tlearn: 1451.2201031\ttotal: 8.69s\tremaining: 1m 36s\n",
      "83:\tlearn: 1449.8521214\ttotal: 8.83s\tremaining: 1m 36s\n",
      "84:\tlearn: 1448.2764610\ttotal: 8.96s\tremaining: 1m 36s\n",
      "85:\tlearn: 1447.0156413\ttotal: 9.05s\tremaining: 1m 36s\n",
      "86:\tlearn: 1445.2676099\ttotal: 9.15s\tremaining: 1m 36s\n",
      "87:\tlearn: 1443.9141251\ttotal: 9.3s\tremaining: 1m 36s\n",
      "88:\tlearn: 1442.4219054\ttotal: 9.46s\tremaining: 1m 36s\n",
      "89:\tlearn: 1441.4818098\ttotal: 9.55s\tremaining: 1m 36s\n",
      "90:\tlearn: 1440.6422479\ttotal: 9.63s\tremaining: 1m 36s\n",
      "91:\tlearn: 1439.3595328\ttotal: 9.71s\tremaining: 1m 35s\n",
      "92:\tlearn: 1438.4833298\ttotal: 9.81s\tremaining: 1m 35s\n",
      "93:\tlearn: 1437.4365986\ttotal: 9.95s\tremaining: 1m 35s\n",
      "94:\tlearn: 1436.3136544\ttotal: 10s\tremaining: 1m 35s\n",
      "95:\tlearn: 1434.9099212\ttotal: 10.1s\tremaining: 1m 35s\n",
      "96:\tlearn: 1434.2595020\ttotal: 10.2s\tremaining: 1m 35s\n",
      "97:\tlearn: 1433.0486577\ttotal: 10.3s\tremaining: 1m 34s\n",
      "98:\tlearn: 1432.1156853\ttotal: 10.3s\tremaining: 1m 34s\n",
      "99:\tlearn: 1431.0351573\ttotal: 10.4s\tremaining: 1m 34s\n",
      "100:\tlearn: 1429.8918635\ttotal: 10.5s\tremaining: 1m 33s\n",
      "101:\tlearn: 1428.8919930\ttotal: 10.6s\tremaining: 1m 33s\n",
      "102:\tlearn: 1428.0290989\ttotal: 10.7s\tremaining: 1m 33s\n",
      "103:\tlearn: 1427.3178741\ttotal: 10.8s\tremaining: 1m 33s\n",
      "104:\tlearn: 1426.6583353\ttotal: 10.9s\tremaining: 1m 32s\n",
      "105:\tlearn: 1425.7652638\ttotal: 11s\tremaining: 1m 32s\n",
      "106:\tlearn: 1424.9034159\ttotal: 11.1s\tremaining: 1m 32s\n",
      "107:\tlearn: 1423.8598239\ttotal: 11.2s\tremaining: 1m 32s\n",
      "108:\tlearn: 1423.5322512\ttotal: 11.3s\tremaining: 1m 32s\n",
      "109:\tlearn: 1422.4842184\ttotal: 11.4s\tremaining: 1m 32s\n",
      "110:\tlearn: 1421.5703408\ttotal: 11.5s\tremaining: 1m 32s\n",
      "111:\tlearn: 1420.7493818\ttotal: 11.6s\tremaining: 1m 32s\n",
      "112:\tlearn: 1420.0732835\ttotal: 11.7s\tremaining: 1m 31s\n",
      "113:\tlearn: 1418.8853784\ttotal: 11.8s\tremaining: 1m 31s\n",
      "114:\tlearn: 1417.8298150\ttotal: 11.9s\tremaining: 1m 31s\n",
      "115:\tlearn: 1417.1218307\ttotal: 12s\tremaining: 1m 31s\n",
      "116:\tlearn: 1416.6986302\ttotal: 12.1s\tremaining: 1m 31s\n",
      "117:\tlearn: 1415.7367735\ttotal: 12.2s\tremaining: 1m 31s\n",
      "118:\tlearn: 1414.9563439\ttotal: 12.3s\tremaining: 1m 30s\n",
      "119:\tlearn: 1414.1502150\ttotal: 12.3s\tremaining: 1m 30s\n",
      "120:\tlearn: 1413.6522160\ttotal: 12.4s\tremaining: 1m 30s\n",
      "121:\tlearn: 1412.5406312\ttotal: 12.5s\tremaining: 1m 30s\n",
      "122:\tlearn: 1411.9411569\ttotal: 12.6s\tremaining: 1m 30s\n",
      "123:\tlearn: 1411.3544702\ttotal: 12.7s\tremaining: 1m 29s\n",
      "124:\tlearn: 1410.5845845\ttotal: 12.8s\tremaining: 1m 29s\n",
      "125:\tlearn: 1409.9253102\ttotal: 12.9s\tremaining: 1m 29s\n",
      "126:\tlearn: 1409.3743132\ttotal: 13s\tremaining: 1m 29s\n",
      "127:\tlearn: 1408.9372040\ttotal: 13.1s\tremaining: 1m 29s\n",
      "128:\tlearn: 1408.2418813\ttotal: 13.2s\tremaining: 1m 29s\n",
      "129:\tlearn: 1407.6810553\ttotal: 13.3s\tremaining: 1m 29s\n",
      "130:\tlearn: 1407.3465450\ttotal: 13.4s\tremaining: 1m 29s\n",
      "131:\tlearn: 1406.5225688\ttotal: 13.5s\tremaining: 1m 28s\n",
      "132:\tlearn: 1406.0269024\ttotal: 13.6s\tremaining: 1m 28s\n",
      "133:\tlearn: 1405.1911663\ttotal: 13.7s\tremaining: 1m 28s\n",
      "134:\tlearn: 1404.4158758\ttotal: 13.8s\tremaining: 1m 28s\n",
      "135:\tlearn: 1403.6558079\ttotal: 13.9s\tremaining: 1m 28s\n",
      "136:\tlearn: 1403.0501738\ttotal: 14s\tremaining: 1m 28s\n",
      "137:\tlearn: 1402.3587482\ttotal: 14.1s\tremaining: 1m 28s\n",
      "138:\tlearn: 1401.9063611\ttotal: 14.2s\tremaining: 1m 27s\n",
      "139:\tlearn: 1401.2633075\ttotal: 14.3s\tremaining: 1m 27s\n",
      "140:\tlearn: 1400.2252919\ttotal: 14.4s\tremaining: 1m 27s\n",
      "141:\tlearn: 1399.5395239\ttotal: 14.5s\tremaining: 1m 27s\n",
      "142:\tlearn: 1399.1312088\ttotal: 14.5s\tremaining: 1m 27s\n",
      "143:\tlearn: 1398.7194194\ttotal: 14.6s\tremaining: 1m 27s\n",
      "144:\tlearn: 1398.0009874\ttotal: 14.7s\tremaining: 1m 26s\n",
      "145:\tlearn: 1397.3320391\ttotal: 14.8s\tremaining: 1m 26s\n",
      "146:\tlearn: 1396.4449863\ttotal: 14.9s\tremaining: 1m 26s\n",
      "147:\tlearn: 1395.8321527\ttotal: 15s\tremaining: 1m 26s\n",
      "148:\tlearn: 1395.3947955\ttotal: 15.1s\tremaining: 1m 26s\n",
      "149:\tlearn: 1394.9441956\ttotal: 15.2s\tremaining: 1m 26s\n",
      "150:\tlearn: 1394.3066770\ttotal: 15.3s\tremaining: 1m 26s\n",
      "151:\tlearn: 1393.6490985\ttotal: 15.4s\tremaining: 1m 26s\n",
      "152:\tlearn: 1393.0972996\ttotal: 15.5s\tremaining: 1m 25s\n",
      "153:\tlearn: 1392.6353714\ttotal: 15.6s\tremaining: 1m 25s\n",
      "154:\tlearn: 1392.0171554\ttotal: 15.7s\tremaining: 1m 25s\n",
      "155:\tlearn: 1391.5134282\ttotal: 15.8s\tremaining: 1m 25s\n",
      "156:\tlearn: 1391.0715967\ttotal: 15.8s\tremaining: 1m 25s\n",
      "157:\tlearn: 1390.6195456\ttotal: 15.9s\tremaining: 1m 24s\n",
      "158:\tlearn: 1390.2579072\ttotal: 16s\tremaining: 1m 24s\n",
      "159:\tlearn: 1389.5811437\ttotal: 16.1s\tremaining: 1m 24s\n",
      "160:\tlearn: 1388.9728742\ttotal: 16.2s\tremaining: 1m 24s\n",
      "161:\tlearn: 1388.4476801\ttotal: 16.4s\tremaining: 1m 24s\n",
      "162:\tlearn: 1387.8738687\ttotal: 16.5s\tremaining: 1m 24s\n",
      "163:\tlearn: 1387.3667665\ttotal: 16.5s\tremaining: 1m 24s\n",
      "164:\tlearn: 1386.8594111\ttotal: 16.6s\tremaining: 1m 24s\n",
      "165:\tlearn: 1386.2070899\ttotal: 16.8s\tremaining: 1m 24s\n",
      "166:\tlearn: 1385.7342597\ttotal: 16.8s\tremaining: 1m 23s\n",
      "167:\tlearn: 1385.1848904\ttotal: 16.9s\tremaining: 1m 23s\n",
      "168:\tlearn: 1384.6990981\ttotal: 17s\tremaining: 1m 23s\n",
      "169:\tlearn: 1384.3573437\ttotal: 17.1s\tremaining: 1m 23s\n",
      "170:\tlearn: 1383.9253700\ttotal: 17.2s\tremaining: 1m 23s\n",
      "171:\tlearn: 1383.1688258\ttotal: 17.3s\tremaining: 1m 23s\n",
      "172:\tlearn: 1382.8030361\ttotal: 17.4s\tremaining: 1m 23s\n",
      "173:\tlearn: 1382.0816986\ttotal: 17.5s\tremaining: 1m 23s\n",
      "174:\tlearn: 1381.4472260\ttotal: 17.6s\tremaining: 1m 23s\n",
      "175:\tlearn: 1381.2403161\ttotal: 17.7s\tremaining: 1m 22s\n",
      "176:\tlearn: 1380.8139248\ttotal: 17.8s\tremaining: 1m 22s\n",
      "177:\tlearn: 1380.1855893\ttotal: 17.9s\tremaining: 1m 22s\n",
      "178:\tlearn: 1379.8234627\ttotal: 18s\tremaining: 1m 22s\n",
      "179:\tlearn: 1379.3289716\ttotal: 18.1s\tremaining: 1m 22s\n",
      "180:\tlearn: 1378.9791474\ttotal: 18.2s\tremaining: 1m 22s\n",
      "181:\tlearn: 1378.5010661\ttotal: 18.3s\tremaining: 1m 22s\n",
      "182:\tlearn: 1377.8379420\ttotal: 18.4s\tremaining: 1m 22s\n",
      "183:\tlearn: 1377.5624227\ttotal: 18.5s\tremaining: 1m 22s\n",
      "184:\tlearn: 1377.2349205\ttotal: 18.6s\tremaining: 1m 21s\n",
      "185:\tlearn: 1376.7736110\ttotal: 18.7s\tremaining: 1m 21s\n",
      "186:\tlearn: 1376.4908042\ttotal: 18.8s\tremaining: 1m 21s\n",
      "187:\tlearn: 1375.9668990\ttotal: 18.9s\tremaining: 1m 21s\n",
      "188:\tlearn: 1375.4939619\ttotal: 19s\tremaining: 1m 21s\n",
      "189:\tlearn: 1374.9621320\ttotal: 19.1s\tremaining: 1m 21s\n",
      "190:\tlearn: 1374.4348743\ttotal: 19.2s\tremaining: 1m 21s\n",
      "191:\tlearn: 1373.7012696\ttotal: 19.3s\tremaining: 1m 21s\n",
      "192:\tlearn: 1373.1677183\ttotal: 19.4s\tremaining: 1m 21s\n",
      "193:\tlearn: 1372.8856820\ttotal: 19.5s\tremaining: 1m 20s\n",
      "194:\tlearn: 1372.4164658\ttotal: 19.6s\tremaining: 1m 20s\n",
      "195:\tlearn: 1371.8124959\ttotal: 19.7s\tremaining: 1m 20s\n",
      "196:\tlearn: 1371.5709264\ttotal: 19.7s\tremaining: 1m 20s\n",
      "197:\tlearn: 1371.1549938\ttotal: 19.8s\tremaining: 1m 20s\n",
      "198:\tlearn: 1370.7288020\ttotal: 19.9s\tremaining: 1m 20s\n",
      "199:\tlearn: 1370.5562574\ttotal: 20s\tremaining: 1m 19s\n",
      "200:\tlearn: 1370.1451881\ttotal: 20.1s\tremaining: 1m 19s\n",
      "201:\tlearn: 1369.9351871\ttotal: 20.2s\tremaining: 1m 19s\n",
      "202:\tlearn: 1369.3812776\ttotal: 20.3s\tremaining: 1m 19s\n",
      "203:\tlearn: 1369.0125888\ttotal: 20.4s\tremaining: 1m 19s\n",
      "204:\tlearn: 1368.6438196\ttotal: 20.5s\tremaining: 1m 19s\n",
      "205:\tlearn: 1368.3252496\ttotal: 20.6s\tremaining: 1m 19s\n",
      "206:\tlearn: 1368.1064435\ttotal: 20.7s\tremaining: 1m 19s\n",
      "207:\tlearn: 1367.9093939\ttotal: 20.8s\tremaining: 1m 19s\n",
      "208:\tlearn: 1367.4510923\ttotal: 20.9s\tremaining: 1m 19s\n",
      "209:\tlearn: 1367.1868290\ttotal: 21s\tremaining: 1m 19s\n",
      "210:\tlearn: 1366.8459963\ttotal: 21.1s\tremaining: 1m 19s\n",
      "211:\tlearn: 1366.5260791\ttotal: 21.3s\tremaining: 1m 19s\n",
      "212:\tlearn: 1366.0419909\ttotal: 21.4s\tremaining: 1m 19s\n",
      "213:\tlearn: 1365.5095888\ttotal: 21.5s\tremaining: 1m 19s\n",
      "214:\tlearn: 1365.3050615\ttotal: 21.6s\tremaining: 1m 18s\n",
      "215:\tlearn: 1365.0583317\ttotal: 21.7s\tremaining: 1m 18s\n",
      "216:\tlearn: 1364.5729070\ttotal: 21.8s\tremaining: 1m 18s\n",
      "217:\tlearn: 1364.1785686\ttotal: 22s\tremaining: 1m 18s\n",
      "218:\tlearn: 1363.8059981\ttotal: 22.1s\tremaining: 1m 18s\n",
      "219:\tlearn: 1363.5041210\ttotal: 22.2s\tremaining: 1m 18s\n",
      "220:\tlearn: 1363.0153109\ttotal: 22.3s\tremaining: 1m 18s\n",
      "221:\tlearn: 1362.7346754\ttotal: 22.4s\tremaining: 1m 18s\n",
      "222:\tlearn: 1362.5193253\ttotal: 22.5s\tremaining: 1m 18s\n",
      "223:\tlearn: 1362.1791250\ttotal: 22.5s\tremaining: 1m 18s\n",
      "224:\tlearn: 1361.7262585\ttotal: 22.6s\tremaining: 1m 17s\n",
      "225:\tlearn: 1361.2918339\ttotal: 22.7s\tremaining: 1m 17s\n",
      "226:\tlearn: 1361.1068893\ttotal: 22.8s\tremaining: 1m 17s\n",
      "227:\tlearn: 1360.7986178\ttotal: 22.9s\tremaining: 1m 17s\n",
      "228:\tlearn: 1360.4287819\ttotal: 23s\tremaining: 1m 17s\n",
      "229:\tlearn: 1360.0589659\ttotal: 23.1s\tremaining: 1m 17s\n",
      "230:\tlearn: 1359.6868862\ttotal: 23.2s\tremaining: 1m 17s\n",
      "231:\tlearn: 1359.4127062\ttotal: 23.3s\tremaining: 1m 17s\n",
      "232:\tlearn: 1359.0044913\ttotal: 23.4s\tremaining: 1m 16s\n",
      "233:\tlearn: 1358.5930596\ttotal: 23.5s\tremaining: 1m 16s\n",
      "234:\tlearn: 1358.0986328\ttotal: 23.5s\tremaining: 1m 16s\n",
      "235:\tlearn: 1357.7905717\ttotal: 23.6s\tremaining: 1m 16s\n",
      "236:\tlearn: 1357.3852655\ttotal: 23.7s\tremaining: 1m 16s\n",
      "237:\tlearn: 1356.9546673\ttotal: 23.8s\tremaining: 1m 16s\n",
      "238:\tlearn: 1356.6043383\ttotal: 24s\tremaining: 1m 16s\n",
      "239:\tlearn: 1356.3635786\ttotal: 24s\tremaining: 1m 16s\n",
      "240:\tlearn: 1355.9544738\ttotal: 24.1s\tremaining: 1m 16s\n",
      "241:\tlearn: 1355.4997564\ttotal: 24.2s\tremaining: 1m 15s\n",
      "242:\tlearn: 1355.1024676\ttotal: 24.3s\tremaining: 1m 15s\n",
      "243:\tlearn: 1354.7685465\ttotal: 24.4s\tremaining: 1m 15s\n",
      "244:\tlearn: 1354.6541545\ttotal: 24.5s\tremaining: 1m 15s\n",
      "245:\tlearn: 1354.2751791\ttotal: 24.6s\tremaining: 1m 15s\n",
      "246:\tlearn: 1353.9163521\ttotal: 24.7s\tremaining: 1m 15s\n",
      "247:\tlearn: 1353.7511008\ttotal: 24.8s\tremaining: 1m 15s\n",
      "248:\tlearn: 1353.4116765\ttotal: 24.9s\tremaining: 1m 15s\n",
      "249:\tlearn: 1352.9075606\ttotal: 25s\tremaining: 1m 14s\n",
      "250:\tlearn: 1352.5310985\ttotal: 25.1s\tremaining: 1m 14s\n",
      "251:\tlearn: 1352.1762871\ttotal: 25.1s\tremaining: 1m 14s\n",
      "252:\tlearn: 1351.8305090\ttotal: 25.3s\tremaining: 1m 14s\n",
      "253:\tlearn: 1351.5868709\ttotal: 25.4s\tremaining: 1m 14s\n",
      "254:\tlearn: 1351.2249206\ttotal: 25.5s\tremaining: 1m 14s\n",
      "255:\tlearn: 1350.9837400\ttotal: 25.6s\tremaining: 1m 14s\n",
      "256:\tlearn: 1350.7006834\ttotal: 25.7s\tremaining: 1m 14s\n",
      "257:\tlearn: 1350.4625216\ttotal: 25.7s\tremaining: 1m 14s\n",
      "258:\tlearn: 1350.2901306\ttotal: 25.8s\tremaining: 1m 13s\n",
      "259:\tlearn: 1349.8552535\ttotal: 25.9s\tremaining: 1m 13s\n",
      "260:\tlearn: 1349.4731163\ttotal: 26s\tremaining: 1m 13s\n",
      "261:\tlearn: 1349.2560953\ttotal: 26.2s\tremaining: 1m 13s\n",
      "262:\tlearn: 1348.9448674\ttotal: 26.3s\tremaining: 1m 13s\n",
      "263:\tlearn: 1348.7045694\ttotal: 26.4s\tremaining: 1m 13s\n",
      "264:\tlearn: 1348.3991600\ttotal: 26.4s\tremaining: 1m 13s\n",
      "265:\tlearn: 1347.8736238\ttotal: 26.6s\tremaining: 1m 13s\n",
      "266:\tlearn: 1347.5378772\ttotal: 26.6s\tremaining: 1m 13s\n",
      "267:\tlearn: 1347.1897928\ttotal: 26.7s\tremaining: 1m 12s\n",
      "268:\tlearn: 1346.8125022\ttotal: 26.8s\tremaining: 1m 12s\n",
      "269:\tlearn: 1346.5543678\ttotal: 26.9s\tremaining: 1m 12s\n",
      "270:\tlearn: 1346.0840325\ttotal: 27s\tremaining: 1m 12s\n",
      "271:\tlearn: 1345.9024883\ttotal: 27.1s\tremaining: 1m 12s\n",
      "272:\tlearn: 1345.6394262\ttotal: 27.2s\tremaining: 1m 12s\n",
      "273:\tlearn: 1345.3140959\ttotal: 27.3s\tremaining: 1m 12s\n",
      "274:\tlearn: 1345.1152723\ttotal: 27.4s\tremaining: 1m 12s\n",
      "275:\tlearn: 1344.7253454\ttotal: 27.5s\tremaining: 1m 12s\n",
      "276:\tlearn: 1344.5307907\ttotal: 27.5s\tremaining: 1m 11s\n",
      "277:\tlearn: 1344.0283280\ttotal: 27.6s\tremaining: 1m 11s\n",
      "278:\tlearn: 1343.8200907\ttotal: 27.7s\tremaining: 1m 11s\n",
      "279:\tlearn: 1343.5797818\ttotal: 27.8s\tremaining: 1m 11s\n",
      "280:\tlearn: 1343.3752976\ttotal: 27.9s\tremaining: 1m 11s\n",
      "281:\tlearn: 1343.0860663\ttotal: 28s\tremaining: 1m 11s\n",
      "282:\tlearn: 1342.6626424\ttotal: 28.1s\tremaining: 1m 11s\n",
      "283:\tlearn: 1342.4911692\ttotal: 28.2s\tremaining: 1m 10s\n",
      "284:\tlearn: 1342.1726011\ttotal: 28.3s\tremaining: 1m 10s\n",
      "285:\tlearn: 1341.7922075\ttotal: 28.4s\tremaining: 1m 10s\n",
      "286:\tlearn: 1341.5061070\ttotal: 28.5s\tremaining: 1m 10s\n",
      "287:\tlearn: 1341.2019876\ttotal: 28.6s\tremaining: 1m 10s\n",
      "288:\tlearn: 1340.9111993\ttotal: 28.7s\tremaining: 1m 10s\n",
      "289:\tlearn: 1340.6034258\ttotal: 28.8s\tremaining: 1m 10s\n",
      "290:\tlearn: 1340.3076456\ttotal: 28.9s\tremaining: 1m 10s\n",
      "291:\tlearn: 1340.0208238\ttotal: 29s\tremaining: 1m 10s\n",
      "292:\tlearn: 1339.8343986\ttotal: 29.1s\tremaining: 1m 10s\n",
      "293:\tlearn: 1339.5305638\ttotal: 29.1s\tremaining: 1m 10s\n",
      "294:\tlearn: 1339.1738377\ttotal: 29.2s\tremaining: 1m 9s\n",
      "295:\tlearn: 1338.9004275\ttotal: 29.3s\tremaining: 1m 9s\n",
      "296:\tlearn: 1338.5482922\ttotal: 29.4s\tremaining: 1m 9s\n",
      "297:\tlearn: 1338.3479569\ttotal: 29.5s\tremaining: 1m 9s\n",
      "298:\tlearn: 1338.0935062\ttotal: 29.6s\tremaining: 1m 9s\n",
      "299:\tlearn: 1337.9402682\ttotal: 29.7s\tremaining: 1m 9s\n",
      "300:\tlearn: 1337.6722211\ttotal: 29.8s\tremaining: 1m 9s\n",
      "301:\tlearn: 1337.4924971\ttotal: 29.9s\tremaining: 1m 8s\n",
      "302:\tlearn: 1337.2171974\ttotal: 29.9s\tremaining: 1m 8s\n",
      "303:\tlearn: 1337.0310007\ttotal: 30s\tremaining: 1m 8s\n",
      "304:\tlearn: 1336.8000075\ttotal: 30.1s\tremaining: 1m 8s\n",
      "305:\tlearn: 1336.5171505\ttotal: 30.2s\tremaining: 1m 8s\n",
      "306:\tlearn: 1336.3165384\ttotal: 30.3s\tremaining: 1m 8s\n",
      "307:\tlearn: 1335.9766002\ttotal: 30.4s\tremaining: 1m 8s\n",
      "308:\tlearn: 1335.7560398\ttotal: 30.5s\tremaining: 1m 8s\n",
      "309:\tlearn: 1335.4866856\ttotal: 30.6s\tremaining: 1m 8s\n",
      "310:\tlearn: 1335.1503989\ttotal: 30.7s\tremaining: 1m 7s\n",
      "311:\tlearn: 1334.9158183\ttotal: 30.7s\tremaining: 1m 7s\n",
      "312:\tlearn: 1334.7694176\ttotal: 30.8s\tremaining: 1m 7s\n",
      "313:\tlearn: 1334.5570717\ttotal: 30.9s\tremaining: 1m 7s\n",
      "314:\tlearn: 1334.3898877\ttotal: 31s\tremaining: 1m 7s\n",
      "315:\tlearn: 1334.1732490\ttotal: 31.1s\tremaining: 1m 7s\n",
      "316:\tlearn: 1333.9226669\ttotal: 31.2s\tremaining: 1m 7s\n",
      "317:\tlearn: 1333.7418752\ttotal: 31.3s\tremaining: 1m 7s\n",
      "318:\tlearn: 1333.5979543\ttotal: 31.4s\tremaining: 1m 7s\n",
      "319:\tlearn: 1333.3486915\ttotal: 31.6s\tremaining: 1m 7s\n",
      "320:\tlearn: 1332.9883166\ttotal: 31.7s\tremaining: 1m 7s\n",
      "321:\tlearn: 1332.6055055\ttotal: 31.8s\tremaining: 1m 6s\n",
      "322:\tlearn: 1332.3953356\ttotal: 31.9s\tremaining: 1m 6s\n",
      "323:\tlearn: 1332.0873559\ttotal: 32s\tremaining: 1m 6s\n",
      "324:\tlearn: 1331.9033618\ttotal: 32.1s\tremaining: 1m 6s\n",
      "325:\tlearn: 1331.6545289\ttotal: 32.2s\tremaining: 1m 6s\n",
      "326:\tlearn: 1331.3664753\ttotal: 32.3s\tremaining: 1m 6s\n",
      "327:\tlearn: 1330.9645979\ttotal: 32.4s\tremaining: 1m 6s\n",
      "328:\tlearn: 1330.7893954\ttotal: 32.5s\tremaining: 1m 6s\n",
      "329:\tlearn: 1330.7050552\ttotal: 32.6s\tremaining: 1m 6s\n",
      "330:\tlearn: 1330.5018956\ttotal: 32.7s\tremaining: 1m 6s\n",
      "331:\tlearn: 1330.1478223\ttotal: 32.8s\tremaining: 1m 5s\n",
      "332:\tlearn: 1329.9699945\ttotal: 32.9s\tremaining: 1m 5s\n",
      "333:\tlearn: 1329.8145951\ttotal: 33s\tremaining: 1m 5s\n",
      "334:\tlearn: 1329.5477055\ttotal: 33.1s\tremaining: 1m 5s\n",
      "335:\tlearn: 1329.1677157\ttotal: 33.2s\tremaining: 1m 5s\n",
      "336:\tlearn: 1329.0121337\ttotal: 33.3s\tremaining: 1m 5s\n",
      "337:\tlearn: 1328.8475897\ttotal: 33.4s\tremaining: 1m 5s\n",
      "338:\tlearn: 1328.5406285\ttotal: 33.5s\tremaining: 1m 5s\n",
      "339:\tlearn: 1328.4465821\ttotal: 33.6s\tremaining: 1m 5s\n",
      "340:\tlearn: 1328.3369608\ttotal: 33.6s\tremaining: 1m 4s\n",
      "341:\tlearn: 1328.0263452\ttotal: 33.7s\tremaining: 1m 4s\n",
      "342:\tlearn: 1327.7232089\ttotal: 33.8s\tremaining: 1m 4s\n",
      "343:\tlearn: 1327.5411648\ttotal: 33.9s\tremaining: 1m 4s\n",
      "344:\tlearn: 1327.3740049\ttotal: 34s\tremaining: 1m 4s\n",
      "345:\tlearn: 1327.1674327\ttotal: 34.1s\tremaining: 1m 4s\n",
      "346:\tlearn: 1326.9275264\ttotal: 34.2s\tremaining: 1m 4s\n",
      "347:\tlearn: 1326.7704308\ttotal: 34.3s\tremaining: 1m 4s\n",
      "348:\tlearn: 1326.4650674\ttotal: 34.4s\tremaining: 1m 4s\n",
      "349:\tlearn: 1326.1198114\ttotal: 34.5s\tremaining: 1m 4s\n",
      "350:\tlearn: 1326.0567638\ttotal: 34.6s\tremaining: 1m 3s\n",
      "351:\tlearn: 1325.9500507\ttotal: 34.7s\tremaining: 1m 3s\n",
      "352:\tlearn: 1325.5706941\ttotal: 34.8s\tremaining: 1m 3s\n",
      "353:\tlearn: 1325.4048444\ttotal: 34.9s\tremaining: 1m 3s\n",
      "354:\tlearn: 1325.2021399\ttotal: 35s\tremaining: 1m 3s\n",
      "355:\tlearn: 1324.9814028\ttotal: 35s\tremaining: 1m 3s\n",
      "356:\tlearn: 1324.7491872\ttotal: 35.1s\tremaining: 1m 3s\n",
      "357:\tlearn: 1324.5072115\ttotal: 35.2s\tremaining: 1m 3s\n",
      "358:\tlearn: 1324.3594458\ttotal: 35.3s\tremaining: 1m 2s\n",
      "359:\tlearn: 1324.0980123\ttotal: 35.4s\tremaining: 1m 2s\n",
      "360:\tlearn: 1323.9545090\ttotal: 35.4s\tremaining: 1m 2s\n",
      "361:\tlearn: 1323.7213180\ttotal: 35.5s\tremaining: 1m 2s\n",
      "362:\tlearn: 1323.4582268\ttotal: 35.6s\tremaining: 1m 2s\n",
      "363:\tlearn: 1323.3880680\ttotal: 35.7s\tremaining: 1m 2s\n",
      "364:\tlearn: 1323.2233041\ttotal: 35.8s\tremaining: 1m 2s\n",
      "365:\tlearn: 1323.0528124\ttotal: 35.9s\tremaining: 1m 2s\n",
      "366:\tlearn: 1322.7536310\ttotal: 36.1s\tremaining: 1m 2s\n",
      "367:\tlearn: 1322.5935732\ttotal: 36.2s\tremaining: 1m 2s\n",
      "368:\tlearn: 1322.4417773\ttotal: 36.3s\tremaining: 1m 2s\n",
      "369:\tlearn: 1322.3817288\ttotal: 36.3s\tremaining: 1m 1s\n",
      "370:\tlearn: 1322.2446272\ttotal: 36.4s\tremaining: 1m 1s\n",
      "371:\tlearn: 1322.0757619\ttotal: 36.5s\tremaining: 1m 1s\n",
      "372:\tlearn: 1321.9065295\ttotal: 36.6s\tremaining: 1m 1s\n",
      "373:\tlearn: 1321.7508149\ttotal: 36.7s\tremaining: 1m 1s\n",
      "374:\tlearn: 1321.5304042\ttotal: 36.8s\tremaining: 1m 1s\n",
      "375:\tlearn: 1321.4007655\ttotal: 36.9s\tremaining: 1m 1s\n",
      "376:\tlearn: 1321.0623656\ttotal: 37s\tremaining: 1m 1s\n",
      "377:\tlearn: 1320.7282231\ttotal: 37.1s\tremaining: 1m 1s\n",
      "378:\tlearn: 1320.4817807\ttotal: 37.3s\tremaining: 1m 1s\n",
      "379:\tlearn: 1320.3148904\ttotal: 37.4s\tremaining: 1m\n",
      "380:\tlearn: 1320.0706134\ttotal: 37.5s\tremaining: 1m\n",
      "381:\tlearn: 1319.7799744\ttotal: 37.6s\tremaining: 1m\n",
      "382:\tlearn: 1319.6424502\ttotal: 37.7s\tremaining: 1m\n",
      "383:\tlearn: 1319.5116730\ttotal: 37.8s\tremaining: 1m\n",
      "384:\tlearn: 1319.4290433\ttotal: 37.9s\tremaining: 1m\n",
      "385:\tlearn: 1319.1402572\ttotal: 38s\tremaining: 1m\n",
      "386:\tlearn: 1318.9311479\ttotal: 38s\tremaining: 1m\n",
      "387:\tlearn: 1318.7284454\ttotal: 38.1s\tremaining: 1m\n",
      "388:\tlearn: 1318.5989492\ttotal: 38.2s\tremaining: 1m\n",
      "389:\tlearn: 1318.4090981\ttotal: 38.3s\tremaining: 59.9s\n",
      "390:\tlearn: 1318.2894447\ttotal: 38.4s\tremaining: 59.8s\n",
      "391:\tlearn: 1318.1534806\ttotal: 38.5s\tremaining: 59.7s\n",
      "392:\tlearn: 1317.9332690\ttotal: 38.6s\tremaining: 59.6s\n",
      "393:\tlearn: 1317.8062062\ttotal: 38.7s\tremaining: 59.5s\n",
      "394:\tlearn: 1317.4432507\ttotal: 38.7s\tremaining: 59.3s\n",
      "395:\tlearn: 1317.2713910\ttotal: 38.8s\tremaining: 59.2s\n",
      "396:\tlearn: 1317.0615787\ttotal: 38.9s\tremaining: 59.1s\n",
      "397:\tlearn: 1316.7418626\ttotal: 39s\tremaining: 59s\n",
      "398:\tlearn: 1316.6697398\ttotal: 39.1s\tremaining: 58.9s\n",
      "399:\tlearn: 1316.5383206\ttotal: 39.2s\tremaining: 58.8s\n",
      "400:\tlearn: 1316.2358764\ttotal: 39.3s\tremaining: 58.7s\n",
      "401:\tlearn: 1316.1703082\ttotal: 39.4s\tremaining: 58.6s\n",
      "402:\tlearn: 1316.0866316\ttotal: 39.5s\tremaining: 58.5s\n",
      "403:\tlearn: 1315.8841799\ttotal: 39.6s\tremaining: 58.4s\n",
      "404:\tlearn: 1315.8122998\ttotal: 39.7s\tremaining: 58.3s\n",
      "405:\tlearn: 1315.5653466\ttotal: 39.7s\tremaining: 58.2s\n",
      "406:\tlearn: 1315.4577667\ttotal: 39.8s\tremaining: 58s\n",
      "407:\tlearn: 1315.3071501\ttotal: 39.9s\tremaining: 57.9s\n",
      "408:\tlearn: 1315.1836375\ttotal: 40s\tremaining: 57.8s\n",
      "409:\tlearn: 1315.0226602\ttotal: 40.1s\tremaining: 57.7s\n",
      "410:\tlearn: 1314.8372048\ttotal: 40.2s\tremaining: 57.6s\n",
      "411:\tlearn: 1314.7024699\ttotal: 40.3s\tremaining: 57.5s\n",
      "412:\tlearn: 1314.5723440\ttotal: 40.4s\tremaining: 57.4s\n",
      "413:\tlearn: 1314.4209201\ttotal: 40.4s\tremaining: 57.3s\n",
      "414:\tlearn: 1314.1638921\ttotal: 40.5s\tremaining: 57.2s\n",
      "415:\tlearn: 1314.0830028\ttotal: 40.6s\tremaining: 57s\n",
      "416:\tlearn: 1313.9174644\ttotal: 40.7s\tremaining: 56.9s\n",
      "417:\tlearn: 1313.7254792\ttotal: 40.8s\tremaining: 56.8s\n",
      "418:\tlearn: 1313.5714604\ttotal: 40.9s\tremaining: 56.7s\n",
      "419:\tlearn: 1313.3236918\ttotal: 41s\tremaining: 56.6s\n",
      "420:\tlearn: 1313.2353722\ttotal: 41.1s\tremaining: 56.5s\n",
      "421:\tlearn: 1313.1116774\ttotal: 41.2s\tremaining: 56.4s\n",
      "422:\tlearn: 1313.0550050\ttotal: 41.3s\tremaining: 56.3s\n",
      "423:\tlearn: 1313.0389848\ttotal: 41.4s\tremaining: 56.2s\n",
      "424:\tlearn: 1312.8882533\ttotal: 41.5s\tremaining: 56.1s\n",
      "425:\tlearn: 1312.8105954\ttotal: 41.5s\tremaining: 55.9s\n",
      "426:\tlearn: 1312.6775035\ttotal: 41.6s\tremaining: 55.8s\n",
      "427:\tlearn: 1312.4431361\ttotal: 41.7s\tremaining: 55.8s\n",
      "428:\tlearn: 1312.2451106\ttotal: 41.8s\tremaining: 55.6s\n",
      "429:\tlearn: 1312.1797713\ttotal: 41.9s\tremaining: 55.5s\n",
      "430:\tlearn: 1312.0537692\ttotal: 42s\tremaining: 55.4s\n",
      "431:\tlearn: 1311.8702929\ttotal: 42.1s\tremaining: 55.3s\n",
      "432:\tlearn: 1311.6937278\ttotal: 42.2s\tremaining: 55.2s\n",
      "433:\tlearn: 1311.6008480\ttotal: 42.2s\tremaining: 55.1s\n",
      "434:\tlearn: 1311.4091702\ttotal: 42.3s\tremaining: 55s\n",
      "435:\tlearn: 1311.1328986\ttotal: 42.5s\tremaining: 54.9s\n",
      "436:\tlearn: 1310.9366899\ttotal: 42.5s\tremaining: 54.8s\n",
      "437:\tlearn: 1310.8064112\ttotal: 42.6s\tremaining: 54.7s\n",
      "438:\tlearn: 1310.6954560\ttotal: 42.7s\tremaining: 54.6s\n",
      "439:\tlearn: 1310.5976412\ttotal: 42.8s\tremaining: 54.5s\n",
      "440:\tlearn: 1310.4123516\ttotal: 42.9s\tremaining: 54.4s\n",
      "441:\tlearn: 1310.1811097\ttotal: 43s\tremaining: 54.2s\n",
      "442:\tlearn: 1310.1197925\ttotal: 43s\tremaining: 54.1s\n",
      "443:\tlearn: 1309.9895749\ttotal: 43.2s\tremaining: 54s\n",
      "444:\tlearn: 1309.7810998\ttotal: 43.3s\tremaining: 54s\n",
      "445:\tlearn: 1309.6297358\ttotal: 43.3s\tremaining: 53.8s\n",
      "446:\tlearn: 1309.5244111\ttotal: 43.5s\tremaining: 53.8s\n",
      "447:\tlearn: 1309.3390522\ttotal: 43.6s\tremaining: 53.7s\n",
      "448:\tlearn: 1309.1334074\ttotal: 43.7s\tremaining: 53.6s\n",
      "449:\tlearn: 1308.9834491\ttotal: 43.8s\tremaining: 53.5s\n",
      "450:\tlearn: 1308.9006593\ttotal: 43.9s\tremaining: 53.4s\n",
      "451:\tlearn: 1308.6564360\ttotal: 44s\tremaining: 53.3s\n",
      "452:\tlearn: 1308.5497709\ttotal: 44.1s\tremaining: 53.2s\n",
      "453:\tlearn: 1308.4117759\ttotal: 44.2s\tremaining: 53.1s\n",
      "454:\tlearn: 1308.1576127\ttotal: 44.3s\tremaining: 53s\n",
      "455:\tlearn: 1308.0033820\ttotal: 44.4s\tremaining: 52.9s\n",
      "456:\tlearn: 1307.9193107\ttotal: 44.4s\tremaining: 52.8s\n",
      "457:\tlearn: 1307.6801612\ttotal: 44.5s\tremaining: 52.7s\n",
      "458:\tlearn: 1307.4746812\ttotal: 44.6s\tremaining: 52.6s\n",
      "459:\tlearn: 1307.3549430\ttotal: 44.7s\tremaining: 52.5s\n",
      "460:\tlearn: 1307.2297194\ttotal: 44.8s\tremaining: 52.4s\n",
      "461:\tlearn: 1307.0425807\ttotal: 44.9s\tremaining: 52.3s\n",
      "462:\tlearn: 1306.8588774\ttotal: 45s\tremaining: 52.2s\n",
      "463:\tlearn: 1306.6809600\ttotal: 45.1s\tremaining: 52.1s\n",
      "464:\tlearn: 1306.5005094\ttotal: 45.2s\tremaining: 52s\n",
      "465:\tlearn: 1306.3065222\ttotal: 45.3s\tremaining: 51.9s\n",
      "466:\tlearn: 1306.0867420\ttotal: 45.4s\tremaining: 51.8s\n",
      "467:\tlearn: 1305.9659437\ttotal: 45.5s\tremaining: 51.7s\n",
      "468:\tlearn: 1305.8030360\ttotal: 45.6s\tremaining: 51.6s\n",
      "469:\tlearn: 1305.7375156\ttotal: 45.7s\tremaining: 51.5s\n",
      "470:\tlearn: 1305.6210733\ttotal: 45.8s\tremaining: 51.4s\n",
      "471:\tlearn: 1305.5495976\ttotal: 45.9s\tremaining: 51.3s\n",
      "472:\tlearn: 1305.3244263\ttotal: 46s\tremaining: 51.2s\n",
      "473:\tlearn: 1305.1892335\ttotal: 46.1s\tremaining: 51.1s\n",
      "474:\tlearn: 1305.0876880\ttotal: 46.2s\tremaining: 51.1s\n",
      "475:\tlearn: 1304.9578316\ttotal: 46.4s\tremaining: 51s\n",
      "476:\tlearn: 1304.8965028\ttotal: 46.4s\tremaining: 50.9s\n",
      "477:\tlearn: 1304.8242449\ttotal: 46.5s\tremaining: 50.8s\n",
      "478:\tlearn: 1304.7271862\ttotal: 46.6s\tremaining: 50.7s\n",
      "479:\tlearn: 1304.5664317\ttotal: 46.6s\tremaining: 50.5s\n",
      "480:\tlearn: 1304.3534609\ttotal: 46.7s\tremaining: 50.4s\n",
      "481:\tlearn: 1304.0955551\ttotal: 46.9s\tremaining: 50.4s\n",
      "482:\tlearn: 1303.8840137\ttotal: 47s\tremaining: 50.3s\n",
      "483:\tlearn: 1303.7541884\ttotal: 47.1s\tremaining: 50.2s\n",
      "484:\tlearn: 1303.7431945\ttotal: 47.1s\tremaining: 50.1s\n",
      "485:\tlearn: 1303.7038615\ttotal: 47.2s\tremaining: 50s\n",
      "486:\tlearn: 1303.6657677\ttotal: 47.3s\tremaining: 49.9s\n",
      "487:\tlearn: 1303.5498483\ttotal: 47.4s\tremaining: 49.8s\n",
      "488:\tlearn: 1303.4292829\ttotal: 47.5s\tremaining: 49.7s\n",
      "489:\tlearn: 1303.2019910\ttotal: 47.6s\tremaining: 49.6s\n",
      "490:\tlearn: 1303.1335927\ttotal: 47.7s\tremaining: 49.4s\n",
      "491:\tlearn: 1302.9732180\ttotal: 47.7s\tremaining: 49.3s\n",
      "492:\tlearn: 1302.7961836\ttotal: 47.9s\tremaining: 49.2s\n",
      "493:\tlearn: 1302.4675826\ttotal: 47.9s\tremaining: 49.1s\n",
      "494:\tlearn: 1302.4175704\ttotal: 48s\tremaining: 49s\n",
      "495:\tlearn: 1302.3064992\ttotal: 48.1s\tremaining: 48.8s\n",
      "496:\tlearn: 1302.2185576\ttotal: 48.1s\tremaining: 48.7s\n",
      "497:\tlearn: 1302.1491625\ttotal: 48.2s\tremaining: 48.6s\n",
      "498:\tlearn: 1301.9682590\ttotal: 48.3s\tremaining: 48.5s\n",
      "499:\tlearn: 1301.8210868\ttotal: 48.4s\tremaining: 48.4s\n",
      "500:\tlearn: 1301.7439425\ttotal: 48.5s\tremaining: 48.3s\n",
      "501:\tlearn: 1301.5558116\ttotal: 48.6s\tremaining: 48.2s\n",
      "502:\tlearn: 1301.3776505\ttotal: 48.7s\tremaining: 48.1s\n",
      "503:\tlearn: 1301.1903648\ttotal: 48.8s\tremaining: 48s\n",
      "504:\tlearn: 1301.0580711\ttotal: 49s\tremaining: 48s\n",
      "505:\tlearn: 1300.9536799\ttotal: 49s\tremaining: 47.9s\n",
      "506:\tlearn: 1300.8804696\ttotal: 49.1s\tremaining: 47.8s\n",
      "507:\tlearn: 1300.7625839\ttotal: 49.2s\tremaining: 47.7s\n",
      "508:\tlearn: 1300.6366624\ttotal: 49.3s\tremaining: 47.6s\n",
      "509:\tlearn: 1300.4681676\ttotal: 49.4s\tremaining: 47.5s\n",
      "510:\tlearn: 1300.3333802\ttotal: 49.5s\tremaining: 47.4s\n",
      "511:\tlearn: 1300.1958051\ttotal: 49.6s\tremaining: 47.3s\n",
      "512:\tlearn: 1300.1056797\ttotal: 49.7s\tremaining: 47.2s\n",
      "513:\tlearn: 1299.9288590\ttotal: 49.8s\tremaining: 47.1s\n",
      "514:\tlearn: 1299.7410303\ttotal: 49.9s\tremaining: 47s\n",
      "515:\tlearn: 1299.5942492\ttotal: 50s\tremaining: 46.9s\n",
      "516:\tlearn: 1299.5121379\ttotal: 50.1s\tremaining: 46.8s\n",
      "517:\tlearn: 1299.3779096\ttotal: 50.2s\tremaining: 46.7s\n",
      "518:\tlearn: 1299.2709780\ttotal: 50.3s\tremaining: 46.6s\n",
      "519:\tlearn: 1299.0949416\ttotal: 50.4s\tremaining: 46.5s\n",
      "520:\tlearn: 1298.9118159\ttotal: 50.5s\tremaining: 46.4s\n",
      "521:\tlearn: 1298.7587702\ttotal: 50.6s\tremaining: 46.4s\n",
      "522:\tlearn: 1298.6464133\ttotal: 50.7s\tremaining: 46.3s\n",
      "523:\tlearn: 1298.6011933\ttotal: 50.9s\tremaining: 46.2s\n",
      "524:\tlearn: 1298.4060508\ttotal: 51s\tremaining: 46.1s\n",
      "525:\tlearn: 1298.3435936\ttotal: 51.1s\tremaining: 46s\n",
      "526:\tlearn: 1298.2378990\ttotal: 51.2s\tremaining: 45.9s\n",
      "527:\tlearn: 1298.1604324\ttotal: 51.3s\tremaining: 45.8s\n",
      "528:\tlearn: 1298.0260374\ttotal: 51.4s\tremaining: 45.7s\n",
      "529:\tlearn: 1297.9283596\ttotal: 51.5s\tremaining: 45.6s\n",
      "530:\tlearn: 1297.8940341\ttotal: 51.6s\tremaining: 45.5s\n",
      "531:\tlearn: 1297.7233397\ttotal: 51.7s\tremaining: 45.4s\n",
      "532:\tlearn: 1297.5881703\ttotal: 51.7s\tremaining: 45.3s\n",
      "533:\tlearn: 1297.4446795\ttotal: 51.8s\tremaining: 45.2s\n",
      "534:\tlearn: 1297.3832941\ttotal: 51.9s\tremaining: 45.1s\n",
      "535:\tlearn: 1297.2229253\ttotal: 52s\tremaining: 45s\n",
      "536:\tlearn: 1297.1001180\ttotal: 52.1s\tremaining: 44.9s\n",
      "537:\tlearn: 1296.9941400\ttotal: 52.2s\tremaining: 44.8s\n",
      "538:\tlearn: 1296.9701779\ttotal: 52.3s\tremaining: 44.7s\n",
      "539:\tlearn: 1296.9184561\ttotal: 52.3s\tremaining: 44.6s\n",
      "540:\tlearn: 1296.7947053\ttotal: 52.4s\tremaining: 44.5s\n",
      "541:\tlearn: 1296.6234626\ttotal: 52.5s\tremaining: 44.4s\n",
      "542:\tlearn: 1296.5294992\ttotal: 52.6s\tremaining: 44.3s\n",
      "543:\tlearn: 1296.4930254\ttotal: 52.6s\tremaining: 44.1s\n",
      "544:\tlearn: 1296.3498369\ttotal: 52.7s\tremaining: 44s\n",
      "545:\tlearn: 1296.1976520\ttotal: 52.8s\tremaining: 43.9s\n",
      "546:\tlearn: 1296.0383777\ttotal: 52.9s\tremaining: 43.8s\n",
      "547:\tlearn: 1295.9180112\ttotal: 53.1s\tremaining: 43.8s\n",
      "548:\tlearn: 1295.8674077\ttotal: 53.1s\tremaining: 43.6s\n",
      "549:\tlearn: 1295.6979939\ttotal: 53.2s\tremaining: 43.6s\n",
      "550:\tlearn: 1295.6049819\ttotal: 53.4s\tremaining: 43.5s\n",
      "551:\tlearn: 1295.5168417\ttotal: 53.4s\tremaining: 43.4s\n",
      "552:\tlearn: 1295.2746566\ttotal: 53.6s\tremaining: 43.3s\n",
      "553:\tlearn: 1295.2067435\ttotal: 53.7s\tremaining: 43.2s\n",
      "554:\tlearn: 1294.9477870\ttotal: 53.8s\tremaining: 43.1s\n",
      "555:\tlearn: 1294.8023902\ttotal: 53.9s\tremaining: 43s\n",
      "556:\tlearn: 1294.6435362\ttotal: 53.9s\tremaining: 42.9s\n",
      "557:\tlearn: 1294.5422489\ttotal: 54s\tremaining: 42.8s\n",
      "558:\tlearn: 1294.5105288\ttotal: 54.1s\tremaining: 42.7s\n",
      "559:\tlearn: 1294.3822187\ttotal: 54.2s\tremaining: 42.6s\n",
      "560:\tlearn: 1294.2690607\ttotal: 54.3s\tremaining: 42.5s\n",
      "561:\tlearn: 1294.2372887\ttotal: 54.4s\tremaining: 42.4s\n",
      "562:\tlearn: 1293.9938393\ttotal: 54.5s\tremaining: 42.3s\n",
      "563:\tlearn: 1293.9002375\ttotal: 54.6s\tremaining: 42.2s\n",
      "564:\tlearn: 1293.8349699\ttotal: 54.7s\tremaining: 42.1s\n",
      "565:\tlearn: 1293.7749301\ttotal: 54.7s\tremaining: 42s\n",
      "566:\tlearn: 1293.6342354\ttotal: 54.9s\tremaining: 41.9s\n",
      "567:\tlearn: 1293.4670988\ttotal: 54.9s\tremaining: 41.8s\n",
      "568:\tlearn: 1293.4377516\ttotal: 55s\tremaining: 41.7s\n",
      "569:\tlearn: 1293.3287221\ttotal: 55.1s\tremaining: 41.6s\n",
      "570:\tlearn: 1293.2410797\ttotal: 55.2s\tremaining: 41.5s\n",
      "571:\tlearn: 1293.1039586\ttotal: 55.3s\tremaining: 41.4s\n",
      "572:\tlearn: 1293.0137233\ttotal: 55.5s\tremaining: 41.3s\n",
      "573:\tlearn: 1292.9820803\ttotal: 55.6s\tremaining: 41.2s\n",
      "574:\tlearn: 1292.8195724\ttotal: 55.7s\tremaining: 41.2s\n",
      "575:\tlearn: 1292.7705875\ttotal: 55.8s\tremaining: 41.1s\n",
      "576:\tlearn: 1292.6937260\ttotal: 56s\tremaining: 41s\n",
      "577:\tlearn: 1292.6130161\ttotal: 56.1s\tremaining: 41s\n",
      "578:\tlearn: 1292.5836147\ttotal: 56.2s\tremaining: 40.9s\n",
      "579:\tlearn: 1292.5186244\ttotal: 56.3s\tremaining: 40.8s\n",
      "580:\tlearn: 1292.4420334\ttotal: 56.4s\tremaining: 40.7s\n",
      "581:\tlearn: 1292.3758340\ttotal: 56.5s\tremaining: 40.6s\n",
      "582:\tlearn: 1292.2111224\ttotal: 56.6s\tremaining: 40.5s\n",
      "583:\tlearn: 1292.1373904\ttotal: 56.7s\tremaining: 40.4s\n",
      "584:\tlearn: 1292.0271125\ttotal: 56.8s\tremaining: 40.3s\n",
      "585:\tlearn: 1292.0017056\ttotal: 56.9s\tremaining: 40.2s\n",
      "586:\tlearn: 1291.9419406\ttotal: 57s\tremaining: 40.1s\n",
      "587:\tlearn: 1291.7940028\ttotal: 57.1s\tremaining: 40s\n",
      "588:\tlearn: 1291.7473718\ttotal: 57.2s\tremaining: 39.9s\n",
      "589:\tlearn: 1291.6866958\ttotal: 57.3s\tremaining: 39.8s\n",
      "590:\tlearn: 1291.6256402\ttotal: 57.4s\tremaining: 39.7s\n",
      "591:\tlearn: 1291.4955079\ttotal: 57.4s\tremaining: 39.6s\n",
      "592:\tlearn: 1291.4207342\ttotal: 57.5s\tremaining: 39.5s\n",
      "593:\tlearn: 1291.3452100\ttotal: 57.6s\tremaining: 39.4s\n",
      "594:\tlearn: 1291.2061263\ttotal: 57.7s\tremaining: 39.3s\n",
      "595:\tlearn: 1291.1361356\ttotal: 57.8s\tremaining: 39.2s\n",
      "596:\tlearn: 1291.0551543\ttotal: 57.9s\tremaining: 39.1s\n",
      "597:\tlearn: 1290.9953352\ttotal: 57.9s\tremaining: 38.9s\n",
      "598:\tlearn: 1290.8498034\ttotal: 58s\tremaining: 38.8s\n",
      "599:\tlearn: 1290.7353885\ttotal: 58.1s\tremaining: 38.7s\n",
      "600:\tlearn: 1290.6607317\ttotal: 58.1s\tremaining: 38.6s\n",
      "601:\tlearn: 1290.5786299\ttotal: 58.2s\tremaining: 38.5s\n",
      "602:\tlearn: 1290.5142229\ttotal: 58.3s\tremaining: 38.4s\n",
      "603:\tlearn: 1290.3764127\ttotal: 58.4s\tremaining: 38.3s\n",
      "604:\tlearn: 1290.3342131\ttotal: 58.5s\tremaining: 38.2s\n",
      "605:\tlearn: 1290.2761718\ttotal: 58.6s\tremaining: 38.1s\n",
      "606:\tlearn: 1290.2076537\ttotal: 58.6s\tremaining: 38s\n",
      "607:\tlearn: 1290.1574532\ttotal: 58.7s\tremaining: 37.9s\n",
      "608:\tlearn: 1290.0797163\ttotal: 58.8s\tremaining: 37.8s\n",
      "609:\tlearn: 1289.9471574\ttotal: 58.9s\tremaining: 37.7s\n",
      "610:\tlearn: 1289.8396849\ttotal: 59.1s\tremaining: 37.6s\n",
      "611:\tlearn: 1289.8170917\ttotal: 59.1s\tremaining: 37.5s\n",
      "612:\tlearn: 1289.7846552\ttotal: 59.2s\tremaining: 37.4s\n",
      "613:\tlearn: 1289.7103958\ttotal: 59.3s\tremaining: 37.3s\n",
      "614:\tlearn: 1289.6427811\ttotal: 59.4s\tremaining: 37.2s\n",
      "615:\tlearn: 1289.5655630\ttotal: 59.5s\tremaining: 37.1s\n",
      "616:\tlearn: 1289.4970955\ttotal: 59.6s\tremaining: 37s\n",
      "617:\tlearn: 1289.3843763\ttotal: 59.7s\tremaining: 36.9s\n",
      "618:\tlearn: 1289.3097756\ttotal: 59.8s\tremaining: 36.8s\n",
      "619:\tlearn: 1289.1030438\ttotal: 59.9s\tremaining: 36.7s\n",
      "620:\tlearn: 1289.0525178\ttotal: 60s\tremaining: 36.6s\n",
      "621:\tlearn: 1288.9201615\ttotal: 1m\tremaining: 36.5s\n",
      "622:\tlearn: 1288.8674668\ttotal: 1m\tremaining: 36.4s\n",
      "623:\tlearn: 1288.7721044\ttotal: 1m\tremaining: 36.3s\n",
      "624:\tlearn: 1288.6314512\ttotal: 1m\tremaining: 36.2s\n",
      "625:\tlearn: 1288.5742981\ttotal: 1m\tremaining: 36.1s\n",
      "626:\tlearn: 1288.4342944\ttotal: 1m\tremaining: 36s\n",
      "627:\tlearn: 1288.2459034\ttotal: 1m\tremaining: 35.9s\n",
      "628:\tlearn: 1288.0882706\ttotal: 1m\tremaining: 35.8s\n",
      "629:\tlearn: 1288.0245520\ttotal: 1m\tremaining: 35.8s\n",
      "630:\tlearn: 1287.9043758\ttotal: 1m\tremaining: 35.7s\n",
      "631:\tlearn: 1287.8120205\ttotal: 1m 1s\tremaining: 35.5s\n",
      "632:\tlearn: 1287.7191578\ttotal: 1m 1s\tremaining: 35.4s\n",
      "633:\tlearn: 1287.6525405\ttotal: 1m 1s\tremaining: 35.3s\n",
      "634:\tlearn: 1287.5963771\ttotal: 1m 1s\tremaining: 35.2s\n",
      "635:\tlearn: 1287.5462444\ttotal: 1m 1s\tremaining: 35.1s\n",
      "636:\tlearn: 1287.4315821\ttotal: 1m 1s\tremaining: 35s\n",
      "637:\tlearn: 1287.3689212\ttotal: 1m 1s\tremaining: 34.9s\n",
      "638:\tlearn: 1287.2546698\ttotal: 1m 1s\tremaining: 34.8s\n",
      "639:\tlearn: 1287.1226548\ttotal: 1m 1s\tremaining: 34.7s\n",
      "640:\tlearn: 1287.0186368\ttotal: 1m 1s\tremaining: 34.6s\n",
      "641:\tlearn: 1286.9341399\ttotal: 1m 1s\tremaining: 34.5s\n",
      "642:\tlearn: 1286.8700928\ttotal: 1m 1s\tremaining: 34.4s\n",
      "643:\tlearn: 1286.7173773\ttotal: 1m 2s\tremaining: 34.3s\n",
      "644:\tlearn: 1286.4793829\ttotal: 1m 2s\tremaining: 34.2s\n",
      "645:\tlearn: 1286.4092021\ttotal: 1m 2s\tremaining: 34.1s\n",
      "646:\tlearn: 1286.3534549\ttotal: 1m 2s\tremaining: 34s\n",
      "647:\tlearn: 1286.2512225\ttotal: 1m 2s\tremaining: 33.9s\n",
      "648:\tlearn: 1286.1766263\ttotal: 1m 2s\tremaining: 33.8s\n",
      "649:\tlearn: 1286.0366563\ttotal: 1m 2s\tremaining: 33.7s\n",
      "650:\tlearn: 1285.9064723\ttotal: 1m 2s\tremaining: 33.6s\n",
      "651:\tlearn: 1285.8781093\ttotal: 1m 2s\tremaining: 33.5s\n",
      "652:\tlearn: 1285.8171371\ttotal: 1m 2s\tremaining: 33.4s\n",
      "653:\tlearn: 1285.7468472\ttotal: 1m 3s\tremaining: 33.3s\n",
      "654:\tlearn: 1285.6638900\ttotal: 1m 3s\tremaining: 33.2s\n",
      "655:\tlearn: 1285.5891087\ttotal: 1m 3s\tremaining: 33.1s\n",
      "656:\tlearn: 1285.5026094\ttotal: 1m 3s\tremaining: 33s\n",
      "657:\tlearn: 1285.3846737\ttotal: 1m 3s\tremaining: 32.9s\n",
      "658:\tlearn: 1285.3012654\ttotal: 1m 3s\tremaining: 32.8s\n",
      "659:\tlearn: 1285.1884280\ttotal: 1m 3s\tremaining: 32.7s\n",
      "660:\tlearn: 1285.0621399\ttotal: 1m 3s\tremaining: 32.7s\n",
      "661:\tlearn: 1285.0327504\ttotal: 1m 3s\tremaining: 32.6s\n",
      "662:\tlearn: 1284.8699208\ttotal: 1m 3s\tremaining: 32.5s\n",
      "663:\tlearn: 1284.7915746\ttotal: 1m 3s\tremaining: 32.4s\n",
      "664:\tlearn: 1284.6721225\ttotal: 1m 4s\tremaining: 32.3s\n",
      "665:\tlearn: 1284.5241457\ttotal: 1m 4s\tremaining: 32.2s\n",
      "666:\tlearn: 1284.4596234\ttotal: 1m 4s\tremaining: 32.1s\n",
      "667:\tlearn: 1284.4163913\ttotal: 1m 4s\tremaining: 32s\n",
      "668:\tlearn: 1284.3092628\ttotal: 1m 4s\tremaining: 31.9s\n",
      "669:\tlearn: 1284.1766343\ttotal: 1m 4s\tremaining: 31.8s\n",
      "670:\tlearn: 1284.0776671\ttotal: 1m 4s\tremaining: 31.7s\n",
      "671:\tlearn: 1283.9923084\ttotal: 1m 4s\tremaining: 31.6s\n",
      "672:\tlearn: 1283.9591331\ttotal: 1m 4s\tremaining: 31.5s\n",
      "673:\tlearn: 1283.8729726\ttotal: 1m 4s\tremaining: 31.4s\n",
      "674:\tlearn: 1283.8268241\ttotal: 1m 5s\tremaining: 31.3s\n",
      "675:\tlearn: 1283.7697087\ttotal: 1m 5s\tremaining: 31.2s\n",
      "676:\tlearn: 1283.6981286\ttotal: 1m 5s\tremaining: 31.1s\n",
      "677:\tlearn: 1283.5875629\ttotal: 1m 5s\tremaining: 31s\n",
      "678:\tlearn: 1283.5613003\ttotal: 1m 5s\tremaining: 30.9s\n",
      "679:\tlearn: 1283.5175159\ttotal: 1m 5s\tremaining: 30.8s\n",
      "680:\tlearn: 1283.4416873\ttotal: 1m 5s\tremaining: 30.7s\n",
      "681:\tlearn: 1283.3999971\ttotal: 1m 5s\tremaining: 30.6s\n",
      "682:\tlearn: 1283.3727262\ttotal: 1m 5s\tremaining: 30.5s\n",
      "683:\tlearn: 1283.3481395\ttotal: 1m 5s\tremaining: 30.4s\n",
      "684:\tlearn: 1283.3138936\ttotal: 1m 5s\tremaining: 30.3s\n",
      "685:\tlearn: 1283.2632579\ttotal: 1m 5s\tremaining: 30.2s\n",
      "686:\tlearn: 1283.1241576\ttotal: 1m 6s\tremaining: 30.1s\n",
      "687:\tlearn: 1283.1078967\ttotal: 1m 6s\tremaining: 30s\n",
      "688:\tlearn: 1282.9767801\ttotal: 1m 6s\tremaining: 29.9s\n",
      "689:\tlearn: 1282.9262254\ttotal: 1m 6s\tremaining: 29.8s\n",
      "690:\tlearn: 1282.8585666\ttotal: 1m 6s\tremaining: 29.7s\n",
      "691:\tlearn: 1282.8007472\ttotal: 1m 6s\tremaining: 29.6s\n",
      "692:\tlearn: 1282.7567091\ttotal: 1m 6s\tremaining: 29.5s\n",
      "693:\tlearn: 1282.6738635\ttotal: 1m 6s\tremaining: 29.4s\n",
      "694:\tlearn: 1282.5166602\ttotal: 1m 6s\tremaining: 29.3s\n",
      "695:\tlearn: 1282.3573905\ttotal: 1m 6s\tremaining: 29.2s\n",
      "696:\tlearn: 1282.2657718\ttotal: 1m 6s\tremaining: 29.1s\n",
      "697:\tlearn: 1282.2132408\ttotal: 1m 7s\tremaining: 29s\n",
      "698:\tlearn: 1282.0541242\ttotal: 1m 7s\tremaining: 28.9s\n",
      "699:\tlearn: 1282.0226663\ttotal: 1m 7s\tremaining: 28.8s\n",
      "700:\tlearn: 1282.0024690\ttotal: 1m 7s\tremaining: 28.7s\n",
      "701:\tlearn: 1281.7953002\ttotal: 1m 7s\tremaining: 28.6s\n",
      "702:\tlearn: 1281.7122150\ttotal: 1m 7s\tremaining: 28.5s\n",
      "703:\tlearn: 1281.6559093\ttotal: 1m 7s\tremaining: 28.4s\n",
      "704:\tlearn: 1281.5892433\ttotal: 1m 7s\tremaining: 28.3s\n",
      "705:\tlearn: 1281.5293708\ttotal: 1m 7s\tremaining: 28.2s\n",
      "706:\tlearn: 1281.4479610\ttotal: 1m 7s\tremaining: 28.1s\n",
      "707:\tlearn: 1281.3705304\ttotal: 1m 7s\tremaining: 28s\n",
      "708:\tlearn: 1281.3247935\ttotal: 1m 7s\tremaining: 27.9s\n",
      "709:\tlearn: 1281.1575159\ttotal: 1m 8s\tremaining: 27.8s\n",
      "710:\tlearn: 1281.1455422\ttotal: 1m 8s\tremaining: 27.7s\n",
      "711:\tlearn: 1281.1226286\ttotal: 1m 8s\tremaining: 27.6s\n",
      "712:\tlearn: 1281.0652886\ttotal: 1m 8s\tremaining: 27.5s\n",
      "713:\tlearn: 1281.0175602\ttotal: 1m 8s\tremaining: 27.4s\n",
      "714:\tlearn: 1280.9046991\ttotal: 1m 8s\tremaining: 27.3s\n",
      "715:\tlearn: 1280.8461571\ttotal: 1m 8s\tremaining: 27.2s\n",
      "716:\tlearn: 1280.7962636\ttotal: 1m 8s\tremaining: 27.1s\n",
      "717:\tlearn: 1280.7121289\ttotal: 1m 8s\tremaining: 27s\n",
      "718:\tlearn: 1280.6394804\ttotal: 1m 8s\tremaining: 26.9s\n",
      "719:\tlearn: 1280.6167806\ttotal: 1m 9s\tremaining: 26.9s\n",
      "720:\tlearn: 1280.4793477\ttotal: 1m 9s\tremaining: 26.8s\n",
      "721:\tlearn: 1280.4427509\ttotal: 1m 9s\tremaining: 26.7s\n",
      "722:\tlearn: 1280.3235208\ttotal: 1m 9s\tremaining: 26.6s\n",
      "723:\tlearn: 1280.3001299\ttotal: 1m 9s\tremaining: 26.5s\n",
      "724:\tlearn: 1280.1777826\ttotal: 1m 9s\tremaining: 26.4s\n",
      "725:\tlearn: 1280.1157222\ttotal: 1m 9s\tremaining: 26.3s\n",
      "726:\tlearn: 1280.0387019\ttotal: 1m 9s\tremaining: 26.2s\n",
      "727:\tlearn: 1279.9629105\ttotal: 1m 9s\tremaining: 26.1s\n",
      "728:\tlearn: 1279.8068687\ttotal: 1m 9s\tremaining: 25.9s\n",
      "729:\tlearn: 1279.7584150\ttotal: 1m 9s\tremaining: 25.9s\n",
      "730:\tlearn: 1279.6797273\ttotal: 1m 10s\tremaining: 25.8s\n",
      "731:\tlearn: 1279.6423455\ttotal: 1m 10s\tremaining: 25.7s\n",
      "732:\tlearn: 1279.6212630\ttotal: 1m 10s\tremaining: 25.6s\n",
      "733:\tlearn: 1279.4963455\ttotal: 1m 10s\tremaining: 25.5s\n",
      "734:\tlearn: 1279.4337811\ttotal: 1m 10s\tremaining: 25.4s\n",
      "735:\tlearn: 1279.3453915\ttotal: 1m 10s\tremaining: 25.3s\n",
      "736:\tlearn: 1279.2667553\ttotal: 1m 10s\tremaining: 25.2s\n",
      "737:\tlearn: 1279.1542233\ttotal: 1m 10s\tremaining: 25.1s\n",
      "738:\tlearn: 1279.0079566\ttotal: 1m 10s\tremaining: 25s\n",
      "739:\tlearn: 1278.7810889\ttotal: 1m 10s\tremaining: 24.9s\n",
      "740:\tlearn: 1278.6719623\ttotal: 1m 11s\tremaining: 24.8s\n",
      "741:\tlearn: 1278.5249440\ttotal: 1m 11s\tremaining: 24.7s\n",
      "742:\tlearn: 1278.4563353\ttotal: 1m 11s\tremaining: 24.6s\n",
      "743:\tlearn: 1278.4135290\ttotal: 1m 11s\tremaining: 24.6s\n",
      "744:\tlearn: 1278.3498458\ttotal: 1m 11s\tremaining: 24.5s\n",
      "745:\tlearn: 1278.2330592\ttotal: 1m 11s\tremaining: 24.4s\n",
      "746:\tlearn: 1278.1132992\ttotal: 1m 11s\tremaining: 24.3s\n",
      "747:\tlearn: 1278.0962155\ttotal: 1m 11s\tremaining: 24.2s\n",
      "748:\tlearn: 1278.0323762\ttotal: 1m 11s\tremaining: 24.1s\n",
      "749:\tlearn: 1278.0190766\ttotal: 1m 11s\tremaining: 24s\n",
      "750:\tlearn: 1277.9579587\ttotal: 1m 12s\tremaining: 23.9s\n",
      "751:\tlearn: 1277.9208511\ttotal: 1m 12s\tremaining: 23.8s\n",
      "752:\tlearn: 1277.8352995\ttotal: 1m 12s\tremaining: 23.7s\n",
      "753:\tlearn: 1277.6672297\ttotal: 1m 12s\tremaining: 23.6s\n",
      "754:\tlearn: 1277.4880768\ttotal: 1m 12s\tremaining: 23.5s\n",
      "755:\tlearn: 1277.4619369\ttotal: 1m 12s\tremaining: 23.4s\n",
      "756:\tlearn: 1277.3652273\ttotal: 1m 12s\tremaining: 23.3s\n",
      "757:\tlearn: 1277.3440029\ttotal: 1m 12s\tremaining: 23.2s\n",
      "758:\tlearn: 1277.2457647\ttotal: 1m 12s\tremaining: 23.1s\n",
      "759:\tlearn: 1277.2154245\ttotal: 1m 12s\tremaining: 23s\n",
      "760:\tlearn: 1277.1515508\ttotal: 1m 13s\tremaining: 22.9s\n",
      "761:\tlearn: 1277.0597307\ttotal: 1m 13s\tremaining: 22.9s\n",
      "762:\tlearn: 1276.8995155\ttotal: 1m 13s\tremaining: 22.8s\n",
      "763:\tlearn: 1276.8229882\ttotal: 1m 13s\tremaining: 22.7s\n",
      "764:\tlearn: 1276.7272510\ttotal: 1m 13s\tremaining: 22.6s\n",
      "765:\tlearn: 1276.6909706\ttotal: 1m 13s\tremaining: 22.5s\n",
      "766:\tlearn: 1276.6468660\ttotal: 1m 13s\tremaining: 22.4s\n",
      "767:\tlearn: 1276.5389938\ttotal: 1m 13s\tremaining: 22.3s\n",
      "768:\tlearn: 1276.5000008\ttotal: 1m 13s\tremaining: 22.2s\n",
      "769:\tlearn: 1276.3796281\ttotal: 1m 13s\tremaining: 22.1s\n",
      "770:\tlearn: 1276.2447986\ttotal: 1m 14s\tremaining: 22s\n",
      "771:\tlearn: 1276.1963004\ttotal: 1m 14s\tremaining: 21.9s\n",
      "772:\tlearn: 1276.1048889\ttotal: 1m 14s\tremaining: 21.8s\n",
      "773:\tlearn: 1275.9508957\ttotal: 1m 14s\tremaining: 21.7s\n",
      "774:\tlearn: 1275.8901278\ttotal: 1m 14s\tremaining: 21.6s\n",
      "775:\tlearn: 1275.7329684\ttotal: 1m 14s\tremaining: 21.5s\n",
      "776:\tlearn: 1275.6635857\ttotal: 1m 14s\tremaining: 21.4s\n",
      "777:\tlearn: 1275.5653346\ttotal: 1m 14s\tremaining: 21.3s\n",
      "778:\tlearn: 1275.4753634\ttotal: 1m 14s\tremaining: 21.2s\n",
      "779:\tlearn: 1275.4117612\ttotal: 1m 14s\tremaining: 21.1s\n",
      "780:\tlearn: 1275.3561458\ttotal: 1m 14s\tremaining: 21s\n",
      "781:\tlearn: 1275.3073728\ttotal: 1m 14s\tremaining: 20.9s\n",
      "782:\tlearn: 1275.2323591\ttotal: 1m 15s\tremaining: 20.8s\n",
      "783:\tlearn: 1275.1457833\ttotal: 1m 15s\tremaining: 20.7s\n",
      "784:\tlearn: 1275.0468193\ttotal: 1m 15s\tremaining: 20.6s\n",
      "785:\tlearn: 1274.8303240\ttotal: 1m 15s\tremaining: 20.5s\n",
      "786:\tlearn: 1274.7288740\ttotal: 1m 15s\tremaining: 20.4s\n",
      "787:\tlearn: 1274.6926648\ttotal: 1m 15s\tremaining: 20.3s\n",
      "788:\tlearn: 1274.6649890\ttotal: 1m 15s\tremaining: 20.2s\n",
      "789:\tlearn: 1274.5800121\ttotal: 1m 15s\tremaining: 20.1s\n",
      "790:\tlearn: 1274.5514345\ttotal: 1m 15s\tremaining: 20s\n",
      "791:\tlearn: 1274.5098062\ttotal: 1m 15s\tremaining: 20s\n",
      "792:\tlearn: 1274.3912540\ttotal: 1m 16s\tremaining: 19.9s\n",
      "793:\tlearn: 1274.3613549\ttotal: 1m 16s\tremaining: 19.8s\n",
      "794:\tlearn: 1274.3008346\ttotal: 1m 16s\tremaining: 19.7s\n",
      "795:\tlearn: 1274.1439692\ttotal: 1m 16s\tremaining: 19.6s\n",
      "796:\tlearn: 1274.0877878\ttotal: 1m 16s\tremaining: 19.5s\n",
      "797:\tlearn: 1273.9653829\ttotal: 1m 16s\tremaining: 19.4s\n",
      "798:\tlearn: 1273.9070339\ttotal: 1m 16s\tremaining: 19.3s\n",
      "799:\tlearn: 1273.8293542\ttotal: 1m 16s\tremaining: 19.2s\n",
      "800:\tlearn: 1273.7425244\ttotal: 1m 16s\tremaining: 19.1s\n",
      "801:\tlearn: 1273.6866216\ttotal: 1m 17s\tremaining: 19s\n",
      "802:\tlearn: 1273.6134327\ttotal: 1m 17s\tremaining: 18.9s\n",
      "803:\tlearn: 1273.4702159\ttotal: 1m 17s\tremaining: 18.8s\n",
      "804:\tlearn: 1273.3913481\ttotal: 1m 17s\tremaining: 18.7s\n",
      "805:\tlearn: 1273.3563785\ttotal: 1m 17s\tremaining: 18.6s\n",
      "806:\tlearn: 1273.3463806\ttotal: 1m 17s\tremaining: 18.5s\n",
      "807:\tlearn: 1273.2724814\ttotal: 1m 17s\tremaining: 18.4s\n",
      "808:\tlearn: 1273.1439064\ttotal: 1m 17s\tremaining: 18.3s\n",
      "809:\tlearn: 1273.1264553\ttotal: 1m 17s\tremaining: 18.3s\n",
      "810:\tlearn: 1273.0936136\ttotal: 1m 17s\tremaining: 18.2s\n",
      "811:\tlearn: 1272.8102740\ttotal: 1m 17s\tremaining: 18.1s\n",
      "812:\tlearn: 1272.7808915\ttotal: 1m 18s\tremaining: 18s\n",
      "813:\tlearn: 1272.6980697\ttotal: 1m 18s\tremaining: 17.9s\n",
      "814:\tlearn: 1272.6592312\ttotal: 1m 18s\tremaining: 17.8s\n",
      "815:\tlearn: 1272.5642569\ttotal: 1m 18s\tremaining: 17.7s\n",
      "816:\tlearn: 1272.5109928\ttotal: 1m 18s\tremaining: 17.6s\n",
      "817:\tlearn: 1272.4432841\ttotal: 1m 18s\tremaining: 17.5s\n",
      "818:\tlearn: 1272.4270826\ttotal: 1m 18s\tremaining: 17.4s\n",
      "819:\tlearn: 1272.4003950\ttotal: 1m 18s\tremaining: 17.3s\n",
      "820:\tlearn: 1272.2862435\ttotal: 1m 18s\tremaining: 17.2s\n",
      "821:\tlearn: 1272.2222081\ttotal: 1m 18s\tremaining: 17.1s\n",
      "822:\tlearn: 1272.1059796\ttotal: 1m 18s\tremaining: 17s\n",
      "823:\tlearn: 1272.0566016\ttotal: 1m 19s\tremaining: 16.9s\n",
      "824:\tlearn: 1271.8781290\ttotal: 1m 19s\tremaining: 16.8s\n",
      "825:\tlearn: 1271.7734775\ttotal: 1m 19s\tremaining: 16.7s\n",
      "826:\tlearn: 1271.7196571\ttotal: 1m 19s\tremaining: 16.6s\n",
      "827:\tlearn: 1271.6737625\ttotal: 1m 19s\tremaining: 16.5s\n",
      "828:\tlearn: 1271.5956586\ttotal: 1m 19s\tremaining: 16.4s\n",
      "829:\tlearn: 1271.5201390\ttotal: 1m 19s\tremaining: 16.3s\n",
      "830:\tlearn: 1271.4493240\ttotal: 1m 19s\tremaining: 16.2s\n",
      "831:\tlearn: 1271.3899041\ttotal: 1m 19s\tremaining: 16.1s\n",
      "832:\tlearn: 1271.3259557\ttotal: 1m 19s\tremaining: 16s\n",
      "833:\tlearn: 1271.2513015\ttotal: 1m 19s\tremaining: 15.9s\n",
      "834:\tlearn: 1271.1296048\ttotal: 1m 20s\tremaining: 15.8s\n",
      "835:\tlearn: 1271.0071122\ttotal: 1m 20s\tremaining: 15.7s\n",
      "836:\tlearn: 1270.9041261\ttotal: 1m 20s\tremaining: 15.6s\n",
      "837:\tlearn: 1270.8487132\ttotal: 1m 20s\tremaining: 15.5s\n",
      "838:\tlearn: 1270.7729306\ttotal: 1m 20s\tremaining: 15.4s\n",
      "839:\tlearn: 1270.6711302\ttotal: 1m 20s\tremaining: 15.3s\n",
      "840:\tlearn: 1270.5823459\ttotal: 1m 20s\tremaining: 15.2s\n",
      "841:\tlearn: 1270.5604906\ttotal: 1m 20s\tremaining: 15.1s\n",
      "842:\tlearn: 1270.5014445\ttotal: 1m 20s\tremaining: 15s\n",
      "843:\tlearn: 1270.4750282\ttotal: 1m 20s\tremaining: 14.9s\n",
      "844:\tlearn: 1270.4222022\ttotal: 1m 20s\tremaining: 14.8s\n",
      "845:\tlearn: 1270.3050845\ttotal: 1m 21s\tremaining: 14.7s\n",
      "846:\tlearn: 1270.2515207\ttotal: 1m 21s\tremaining: 14.7s\n",
      "847:\tlearn: 1270.1523585\ttotal: 1m 21s\tremaining: 14.6s\n",
      "848:\tlearn: 1270.1039903\ttotal: 1m 21s\tremaining: 14.5s\n",
      "849:\tlearn: 1270.0299215\ttotal: 1m 21s\tremaining: 14.4s\n",
      "850:\tlearn: 1269.8785909\ttotal: 1m 21s\tremaining: 14.3s\n",
      "851:\tlearn: 1269.8323800\ttotal: 1m 21s\tremaining: 14.2s\n",
      "852:\tlearn: 1269.7250884\ttotal: 1m 21s\tremaining: 14.1s\n",
      "853:\tlearn: 1269.6057488\ttotal: 1m 21s\tremaining: 14s\n",
      "854:\tlearn: 1269.4940899\ttotal: 1m 21s\tremaining: 13.9s\n",
      "855:\tlearn: 1269.4155592\ttotal: 1m 22s\tremaining: 13.8s\n",
      "856:\tlearn: 1269.3707823\ttotal: 1m 22s\tremaining: 13.7s\n",
      "857:\tlearn: 1269.3186028\ttotal: 1m 22s\tremaining: 13.6s\n",
      "858:\tlearn: 1269.2719194\ttotal: 1m 22s\tremaining: 13.5s\n",
      "859:\tlearn: 1269.2134840\ttotal: 1m 22s\tremaining: 13.4s\n",
      "860:\tlearn: 1269.1524995\ttotal: 1m 22s\tremaining: 13.3s\n",
      "861:\tlearn: 1269.0938169\ttotal: 1m 22s\tremaining: 13.2s\n",
      "862:\tlearn: 1269.0021869\ttotal: 1m 22s\tremaining: 13.1s\n",
      "863:\tlearn: 1268.9798113\ttotal: 1m 22s\tremaining: 13s\n",
      "864:\tlearn: 1268.9297093\ttotal: 1m 22s\tremaining: 12.9s\n",
      "865:\tlearn: 1268.8767553\ttotal: 1m 23s\tremaining: 12.8s\n",
      "866:\tlearn: 1268.7394371\ttotal: 1m 23s\tremaining: 12.8s\n",
      "867:\tlearn: 1268.6933261\ttotal: 1m 23s\tremaining: 12.7s\n",
      "868:\tlearn: 1268.6747831\ttotal: 1m 23s\tremaining: 12.6s\n",
      "869:\tlearn: 1268.6595266\ttotal: 1m 23s\tremaining: 12.5s\n",
      "870:\tlearn: 1268.5393016\ttotal: 1m 23s\tremaining: 12.4s\n",
      "871:\tlearn: 1268.4536634\ttotal: 1m 23s\tremaining: 12.3s\n",
      "872:\tlearn: 1268.4363540\ttotal: 1m 23s\tremaining: 12.2s\n",
      "873:\tlearn: 1268.4166726\ttotal: 1m 23s\tremaining: 12.1s\n",
      "874:\tlearn: 1268.3766011\ttotal: 1m 23s\tremaining: 12s\n",
      "875:\tlearn: 1268.3218897\ttotal: 1m 24s\tremaining: 11.9s\n",
      "876:\tlearn: 1268.2899530\ttotal: 1m 24s\tremaining: 11.8s\n",
      "877:\tlearn: 1268.2148024\ttotal: 1m 24s\tremaining: 11.7s\n",
      "878:\tlearn: 1268.1575384\ttotal: 1m 24s\tremaining: 11.6s\n",
      "879:\tlearn: 1268.0983856\ttotal: 1m 24s\tremaining: 11.5s\n",
      "880:\tlearn: 1267.9863677\ttotal: 1m 24s\tremaining: 11.4s\n",
      "881:\tlearn: 1267.9593826\ttotal: 1m 24s\tremaining: 11.3s\n",
      "882:\tlearn: 1267.9367218\ttotal: 1m 24s\tremaining: 11.2s\n",
      "883:\tlearn: 1267.8870777\ttotal: 1m 24s\tremaining: 11.1s\n",
      "884:\tlearn: 1267.7704096\ttotal: 1m 24s\tremaining: 11s\n",
      "885:\tlearn: 1267.6945178\ttotal: 1m 24s\tremaining: 10.9s\n",
      "886:\tlearn: 1267.6194646\ttotal: 1m 25s\tremaining: 10.8s\n",
      "887:\tlearn: 1267.5082686\ttotal: 1m 25s\tremaining: 10.7s\n",
      "888:\tlearn: 1267.4441932\ttotal: 1m 25s\tremaining: 10.6s\n",
      "889:\tlearn: 1267.3173118\ttotal: 1m 25s\tremaining: 10.6s\n",
      "890:\tlearn: 1267.3030924\ttotal: 1m 25s\tremaining: 10.5s\n",
      "891:\tlearn: 1267.1606309\ttotal: 1m 25s\tremaining: 10.4s\n",
      "892:\tlearn: 1267.0824254\ttotal: 1m 25s\tremaining: 10.3s\n",
      "893:\tlearn: 1267.0401987\ttotal: 1m 25s\tremaining: 10.2s\n",
      "894:\tlearn: 1266.9090047\ttotal: 1m 25s\tremaining: 10.1s\n",
      "895:\tlearn: 1266.7829608\ttotal: 1m 25s\tremaining: 9.98s\n",
      "896:\tlearn: 1266.7588701\ttotal: 1m 26s\tremaining: 9.88s\n",
      "897:\tlearn: 1266.7051649\ttotal: 1m 26s\tremaining: 9.79s\n",
      "898:\tlearn: 1266.6857909\ttotal: 1m 26s\tremaining: 9.69s\n",
      "899:\tlearn: 1266.6434499\ttotal: 1m 26s\tremaining: 9.6s\n",
      "900:\tlearn: 1266.5781352\ttotal: 1m 26s\tremaining: 9.5s\n",
      "901:\tlearn: 1266.4933745\ttotal: 1m 26s\tremaining: 9.4s\n",
      "902:\tlearn: 1266.4662725\ttotal: 1m 26s\tremaining: 9.3s\n",
      "903:\tlearn: 1266.4113171\ttotal: 1m 26s\tremaining: 9.21s\n",
      "904:\tlearn: 1266.3341581\ttotal: 1m 26s\tremaining: 9.11s\n",
      "905:\tlearn: 1266.2977985\ttotal: 1m 26s\tremaining: 9.02s\n",
      "906:\tlearn: 1266.2181273\ttotal: 1m 26s\tremaining: 8.92s\n",
      "907:\tlearn: 1266.1929352\ttotal: 1m 27s\tremaining: 8.82s\n",
      "908:\tlearn: 1266.1402488\ttotal: 1m 27s\tremaining: 8.73s\n",
      "909:\tlearn: 1266.0981113\ttotal: 1m 27s\tremaining: 8.63s\n",
      "910:\tlearn: 1266.0253081\ttotal: 1m 27s\tremaining: 8.53s\n",
      "911:\tlearn: 1265.9655288\ttotal: 1m 27s\tremaining: 8.43s\n",
      "912:\tlearn: 1265.7594958\ttotal: 1m 27s\tremaining: 8.34s\n",
      "913:\tlearn: 1265.6568286\ttotal: 1m 27s\tremaining: 8.24s\n",
      "914:\tlearn: 1265.4926039\ttotal: 1m 27s\tremaining: 8.15s\n",
      "915:\tlearn: 1265.3785489\ttotal: 1m 27s\tremaining: 8.05s\n",
      "916:\tlearn: 1265.3070072\ttotal: 1m 27s\tremaining: 7.96s\n",
      "917:\tlearn: 1265.2741053\ttotal: 1m 28s\tremaining: 7.86s\n",
      "918:\tlearn: 1265.1861391\ttotal: 1m 28s\tremaining: 7.76s\n",
      "919:\tlearn: 1265.1547295\ttotal: 1m 28s\tremaining: 7.67s\n",
      "920:\tlearn: 1265.0306511\ttotal: 1m 28s\tremaining: 7.57s\n",
      "921:\tlearn: 1264.9403616\ttotal: 1m 28s\tremaining: 7.47s\n",
      "922:\tlearn: 1264.7103007\ttotal: 1m 28s\tremaining: 7.38s\n",
      "923:\tlearn: 1264.6733222\ttotal: 1m 28s\tremaining: 7.28s\n",
      "924:\tlearn: 1264.5700270\ttotal: 1m 28s\tremaining: 7.18s\n",
      "925:\tlearn: 1264.4991308\ttotal: 1m 28s\tremaining: 7.08s\n",
      "926:\tlearn: 1264.4357218\ttotal: 1m 28s\tremaining: 6.99s\n",
      "927:\tlearn: 1264.3330861\ttotal: 1m 28s\tremaining: 6.89s\n",
      "928:\tlearn: 1264.2354311\ttotal: 1m 28s\tremaining: 6.8s\n",
      "929:\tlearn: 1264.1969665\ttotal: 1m 29s\tremaining: 6.7s\n",
      "930:\tlearn: 1264.0936996\ttotal: 1m 29s\tremaining: 6.6s\n",
      "931:\tlearn: 1263.9433204\ttotal: 1m 29s\tremaining: 6.5s\n",
      "932:\tlearn: 1263.8756823\ttotal: 1m 29s\tremaining: 6.41s\n",
      "933:\tlearn: 1263.7539061\ttotal: 1m 29s\tremaining: 6.31s\n",
      "934:\tlearn: 1263.6019582\ttotal: 1m 29s\tremaining: 6.21s\n",
      "935:\tlearn: 1263.5388030\ttotal: 1m 29s\tremaining: 6.12s\n",
      "936:\tlearn: 1263.5000686\ttotal: 1m 29s\tremaining: 6.02s\n",
      "937:\tlearn: 1263.4120444\ttotal: 1m 29s\tremaining: 5.92s\n",
      "938:\tlearn: 1263.3925314\ttotal: 1m 29s\tremaining: 5.83s\n",
      "939:\tlearn: 1263.3117297\ttotal: 1m 29s\tremaining: 5.73s\n",
      "940:\tlearn: 1263.1979968\ttotal: 1m 29s\tremaining: 5.63s\n",
      "941:\tlearn: 1263.1550325\ttotal: 1m 29s\tremaining: 5.54s\n",
      "942:\tlearn: 1263.0951201\ttotal: 1m 29s\tremaining: 5.44s\n",
      "943:\tlearn: 1263.0550696\ttotal: 1m 30s\tremaining: 5.34s\n",
      "944:\tlearn: 1263.0006759\ttotal: 1m 30s\tremaining: 5.25s\n",
      "945:\tlearn: 1262.9713394\ttotal: 1m 30s\tremaining: 5.15s\n",
      "946:\tlearn: 1262.9467665\ttotal: 1m 30s\tremaining: 5.05s\n",
      "947:\tlearn: 1262.8416412\ttotal: 1m 30s\tremaining: 4.96s\n",
      "948:\tlearn: 1262.7628457\ttotal: 1m 30s\tremaining: 4.87s\n",
      "949:\tlearn: 1262.6395470\ttotal: 1m 30s\tremaining: 4.77s\n",
      "950:\tlearn: 1262.5426389\ttotal: 1m 30s\tremaining: 4.68s\n",
      "951:\tlearn: 1262.4911506\ttotal: 1m 30s\tremaining: 4.58s\n",
      "952:\tlearn: 1262.4330226\ttotal: 1m 30s\tremaining: 4.49s\n",
      "953:\tlearn: 1262.2741767\ttotal: 1m 31s\tremaining: 4.39s\n",
      "954:\tlearn: 1262.2142460\ttotal: 1m 31s\tremaining: 4.29s\n",
      "955:\tlearn: 1262.0862029\ttotal: 1m 31s\tremaining: 4.2s\n",
      "956:\tlearn: 1262.0141699\ttotal: 1m 31s\tremaining: 4.1s\n",
      "957:\tlearn: 1261.9459848\ttotal: 1m 31s\tremaining: 4s\n",
      "958:\tlearn: 1261.8926834\ttotal: 1m 31s\tremaining: 3.91s\n",
      "959:\tlearn: 1261.7331021\ttotal: 1m 31s\tremaining: 3.81s\n",
      "960:\tlearn: 1261.6681066\ttotal: 1m 31s\tremaining: 3.72s\n",
      "961:\tlearn: 1261.6356163\ttotal: 1m 31s\tremaining: 3.62s\n",
      "962:\tlearn: 1261.5589605\ttotal: 1m 31s\tremaining: 3.53s\n",
      "963:\tlearn: 1261.4554970\ttotal: 1m 31s\tremaining: 3.43s\n",
      "964:\tlearn: 1261.4109860\ttotal: 1m 32s\tremaining: 3.34s\n",
      "965:\tlearn: 1261.2888575\ttotal: 1m 32s\tremaining: 3.24s\n",
      "966:\tlearn: 1261.2378318\ttotal: 1m 32s\tremaining: 3.15s\n",
      "967:\tlearn: 1261.1976734\ttotal: 1m 32s\tremaining: 3.05s\n",
      "968:\tlearn: 1261.1504562\ttotal: 1m 32s\tremaining: 2.96s\n",
      "969:\tlearn: 1261.1105296\ttotal: 1m 32s\tremaining: 2.86s\n",
      "970:\tlearn: 1261.1006214\ttotal: 1m 32s\tremaining: 2.77s\n",
      "971:\tlearn: 1261.0562630\ttotal: 1m 32s\tremaining: 2.67s\n",
      "972:\tlearn: 1261.0198238\ttotal: 1m 32s\tremaining: 2.58s\n",
      "973:\tlearn: 1260.8891182\ttotal: 1m 33s\tremaining: 2.48s\n",
      "974:\tlearn: 1260.8651075\ttotal: 1m 33s\tremaining: 2.39s\n",
      "975:\tlearn: 1260.8157362\ttotal: 1m 33s\tremaining: 2.29s\n",
      "976:\tlearn: 1260.7662160\ttotal: 1m 33s\tremaining: 2.19s\n",
      "977:\tlearn: 1260.6721553\ttotal: 1m 33s\tremaining: 2.1s\n",
      "978:\tlearn: 1260.6250030\ttotal: 1m 33s\tremaining: 2s\n",
      "979:\tlearn: 1260.5528718\ttotal: 1m 33s\tremaining: 1.91s\n",
      "980:\tlearn: 1260.5157775\ttotal: 1m 33s\tremaining: 1.81s\n",
      "981:\tlearn: 1260.4330719\ttotal: 1m 33s\tremaining: 1.72s\n",
      "982:\tlearn: 1260.3864642\ttotal: 1m 33s\tremaining: 1.62s\n",
      "983:\tlearn: 1260.3410648\ttotal: 1m 33s\tremaining: 1.53s\n",
      "984:\tlearn: 1260.2457543\ttotal: 1m 33s\tremaining: 1.43s\n",
      "985:\tlearn: 1260.1450176\ttotal: 1m 34s\tremaining: 1.34s\n",
      "986:\tlearn: 1260.0417333\ttotal: 1m 34s\tremaining: 1.24s\n",
      "987:\tlearn: 1259.9398641\ttotal: 1m 34s\tremaining: 1.14s\n",
      "988:\tlearn: 1259.8918881\ttotal: 1m 34s\tremaining: 1.05s\n",
      "989:\tlearn: 1259.8265320\ttotal: 1m 34s\tremaining: 954ms\n",
      "990:\tlearn: 1259.7641339\ttotal: 1m 34s\tremaining: 858ms\n",
      "991:\tlearn: 1259.7000167\ttotal: 1m 34s\tremaining: 763ms\n",
      "992:\tlearn: 1259.6751162\ttotal: 1m 34s\tremaining: 667ms\n",
      "993:\tlearn: 1259.6471395\ttotal: 1m 34s\tremaining: 572ms\n",
      "994:\tlearn: 1259.6218196\ttotal: 1m 34s\tremaining: 476ms\n",
      "995:\tlearn: 1259.5668326\ttotal: 1m 34s\tremaining: 381ms\n",
      "996:\tlearn: 1259.5451251\ttotal: 1m 35s\tremaining: 286ms\n",
      "997:\tlearn: 1259.4539596\ttotal: 1m 35s\tremaining: 191ms\n",
      "998:\tlearn: 1259.3424314\ttotal: 1m 35s\tremaining: 95.3ms\n",
      "999:\tlearn: 1259.2850899\ttotal: 1m 35s\tremaining: 0us\n",
      "+---------------------+-------------------------------------------------+\n",
      "|      Показатель     |                     Значение                    |\n",
      "+---------------------+-------------------------------------------------+\n",
      "|  Подбор параметров  |                  0 мин 0.00 сек                 |\n",
      "|   Обучение модели   |                    97.66 сек                    |\n",
      "| Предсказание модели |                     0.31 сек                    |\n",
      "|         RMSE        |                1304.2573682123896               |\n",
      "|                     |                                                 |\n",
      "|  Лучшие параметры:  |                                                 |\n",
      "|    learning_rate:   |                       0.1                       |\n",
      "|    random_state:    |                      15243                      |\n",
      "|    cat_features:    | ['vehicle_type', 'fuel_type', 'brand', 'model'] |\n",
      "+---------------------+-------------------------------------------------+\n",
      "CPU times: user 1min 35s, sys: 0 ns, total: 1min 35s\n",
      "Wall time: 1min 37s\n"
     ]
    }
   ],
   "source": [
    "%%time\n",
    "\n",
    "params = {'learning_rate':0.1,\n",
    "          'random_state':15243,\n",
    "          'cat_features':['vehicle_type','fuel_type','brand','model']}\n",
    "cbr_model, cbr_model_rmse, cbr_model_time, cbr_pred_time = calculation('cbr',\n",
    "                                                                       features_train,\n",
    "                                                                       target_train,\n",
    "                                                                       features_valid,\n",
    "                                                                       target_valid,\n",
    "                                                                       params,\n",
    "                                                                       flag=True)"
   ]
  },
  {
   "cell_type": "markdown",
   "metadata": {},
   "source": [
    "### LGBMRegressor"
   ]
  },
  {
   "cell_type": "code",
   "execution_count": 65,
   "metadata": {},
   "outputs": [
    {
     "name": "stdout",
     "output_type": "stream",
     "text": [
      "[LightGBM] [Warning] num_threads is set=10, n_jobs=-1 will be ignored. Current value: num_threads=10\n",
      "[LightGBM] [Warning] num_threads is set=10, n_jobs=-1 will be ignored. Current value: num_threads=10\n",
      "[LightGBM] [Warning] num_threads is set=10, n_jobs=-1 will be ignored. Current value: num_threads=10\n",
      "[LightGBM] [Warning] num_threads is set=10, n_jobs=-1 will be ignored. Current value: num_threads=10\n",
      "[LightGBM] [Warning] num_threads is set=10, n_jobs=-1 will be ignored. Current value: num_threads=10\n",
      "[LightGBM] [Warning] num_threads is set=10, n_jobs=-1 will be ignored. Current value: num_threads=10\n",
      "[LightGBM] [Warning] num_threads is set=10, n_jobs=-1 will be ignored. Current value: num_threads=10\n",
      "[LightGBM] [Warning] num_threads is set=10, n_jobs=-1 will be ignored. Current value: num_threads=10\n",
      "[LightGBM] [Warning] num_threads is set=10, n_jobs=-1 will be ignored. Current value: num_threads=10\n",
      "[LightGBM] [Warning] num_threads is set=10, n_jobs=-1 will be ignored. Current value: num_threads=10\n",
      "[LightGBM] [Warning] num_threads is set=10, n_jobs=-1 will be ignored. Current value: num_threads=10\n",
      "[LightGBM] [Warning] num_threads is set=10, n_jobs=-1 will be ignored. Current value: num_threads=10\n",
      "[LightGBM] [Warning] num_threads is set=10, n_jobs=-1 will be ignored. Current value: num_threads=10\n",
      "[LightGBM] [Warning] num_threads is set=10, n_jobs=-1 will be ignored. Current value: num_threads=10\n",
      "[LightGBM] [Warning] num_threads is set=10, n_jobs=-1 will be ignored. Current value: num_threads=10\n",
      "[LightGBM] [Warning] num_threads is set=10, n_jobs=-1 will be ignored. Current value: num_threads=10\n",
      "[LightGBM] [Warning] num_threads is set=10, n_jobs=-1 will be ignored. Current value: num_threads=10\n",
      "[LightGBM] [Warning] num_threads is set=10, n_jobs=-1 will be ignored. Current value: num_threads=10\n",
      "[LightGBM] [Warning] num_threads is set=10, n_jobs=-1 will be ignored. Current value: num_threads=10\n",
      "[LightGBM] [Warning] num_threads is set=10, n_jobs=-1 will be ignored. Current value: num_threads=10\n",
      "[LightGBM] [Warning] num_threads is set=10, n_jobs=-1 will be ignored. Current value: num_threads=10\n",
      "[LightGBM] [Warning] num_threads is set=10, n_jobs=-1 will be ignored. Current value: num_threads=10\n",
      "[LightGBM] [Warning] num_threads is set=10, n_jobs=-1 will be ignored. Current value: num_threads=10\n",
      "[LightGBM] [Warning] num_threads is set=10, n_jobs=-1 will be ignored. Current value: num_threads=10\n",
      "[LightGBM] [Warning] num_threads is set=10, n_jobs=-1 will be ignored. Current value: num_threads=10\n",
      "[LightGBM] [Warning] num_threads is set=10, n_jobs=-1 will be ignored. Current value: num_threads=10\n",
      "[LightGBM] [Warning] num_threads is set=10, n_jobs=-1 will be ignored. Current value: num_threads=10\n",
      "[LightGBM] [Warning] num_threads is set=10, n_jobs=-1 will be ignored. Current value: num_threads=10\n",
      "[LightGBM] [Warning] num_threads is set=10, n_jobs=-1 will be ignored. Current value: num_threads=10\n",
      "[LightGBM] [Warning] num_threads is set=10, n_jobs=-1 will be ignored. Current value: num_threads=10\n",
      "[LightGBM] [Warning] num_threads is set=10, n_jobs=-1 will be ignored. Current value: num_threads=10\n",
      "[LightGBM] [Warning] num_threads is set=10, n_jobs=-1 will be ignored. Current value: num_threads=10\n",
      "[LightGBM] [Warning] num_threads is set=10, n_jobs=-1 will be ignored. Current value: num_threads=10\n",
      "[LightGBM] [Warning] num_threads is set=10, n_jobs=-1 will be ignored. Current value: num_threads=10\n",
      "[LightGBM] [Warning] num_threads is set=10, n_jobs=-1 will be ignored. Current value: num_threads=10\n",
      "[LightGBM] [Warning] num_threads is set=10, n_jobs=-1 will be ignored. Current value: num_threads=10\n",
      "[LightGBM] [Warning] num_threads is set=10, n_jobs=-1 will be ignored. Current value: num_threads=10\n",
      "[LightGBM] [Warning] num_threads is set=10, n_jobs=-1 will be ignored. Current value: num_threads=10\n",
      "[LightGBM] [Warning] num_threads is set=10, n_jobs=-1 will be ignored. Current value: num_threads=10\n",
      "[LightGBM] [Warning] num_threads is set=10, n_jobs=-1 will be ignored. Current value: num_threads=10\n",
      "[LightGBM] [Warning] num_threads is set=10, n_jobs=-1 will be ignored. Current value: num_threads=10\n",
      "[LightGBM] [Warning] num_threads is set=10, n_jobs=-1 will be ignored. Current value: num_threads=10\n",
      "[LightGBM] [Warning] num_threads is set=10, n_jobs=-1 will be ignored. Current value: num_threads=10\n",
      "[LightGBM] [Warning] num_threads is set=10, n_jobs=-1 will be ignored. Current value: num_threads=10\n",
      "[LightGBM] [Warning] num_threads is set=10, n_jobs=-1 will be ignored. Current value: num_threads=10\n",
      "[LightGBM] [Warning] num_threads is set=10, n_jobs=-1 will be ignored. Current value: num_threads=10\n",
      "+---------------------+----------------------+\n",
      "|      Показатель     |       Значение       |\n",
      "+---------------------+----------------------+\n",
      "|  Подбор параметров  |  11.0 мин 41.73 сек  |\n",
      "|   Обучение модели   |      27.00 сек       |\n",
      "| Предсказание модели |       0.50 сек       |\n",
      "|         RMSE        |  1296.4891798613241  |\n",
      "|                     |                      |\n",
      "|  Лучшие параметры:  |                      |\n",
      "|   force_row_wise:   |         True         |\n",
      "|    learning_rate:   |         0.1          |\n",
      "|     num_leaves:     |         200          |\n",
      "|     num_threads:    |          10          |\n",
      "|    random_state:    | RandomState(MT19937) |\n",
      "+---------------------+----------------------+\n",
      "CPU times: user 5min 39s, sys: 6min 27s, total: 12min 6s\n",
      "Wall time: 12min 9s\n"
     ]
    }
   ],
   "source": [
    "%%time\n",
    "\n",
    "params = {'num_leaves':[31, 100, 200],\n",
    "          'learning_rate':[0.1, 0.3, 0.5],\n",
    "          'num_threads':[10],\n",
    "          'force_row_wise':[True],\n",
    "          'random_state':[STATE]}\n",
    "lgbrm_model_OE, lgbrm_model_rmse_OE, lgbrm_model_time_OE, lgbrm_pred_time_OE = calculation('lgbrm',\n",
    "                                                                                           ordinal_features_train,\n",
    "                                                                                           target_train,\n",
    "                                                                                           ordinal_features_valid,\n",
    "                                                                                           target_valid,\n",
    "                                                                                           params)"
   ]
  },
  {
   "cell_type": "markdown",
   "metadata": {},
   "source": [
    "**Вывод:** Построены 4 модели с разными типами данных. Лучшие результаты RMSE и времени обучения/предсказания моделей сохранены."
   ]
  },
  {
   "cell_type": "markdown",
   "metadata": {},
   "source": [
    "## Анализ моделей"
   ]
  },
  {
   "cell_type": "markdown",
   "metadata": {},
   "source": [
    "Создадим таблицу для сравнения результатов:"
   ]
  },
  {
   "cell_type": "code",
   "execution_count": 70,
   "metadata": {
    "scrolled": true
   },
   "outputs": [
    {
     "data": {
      "text/html": [
       "<div>\n",
       "<style scoped>\n",
       "    .dataframe tbody tr th:only-of-type {\n",
       "        vertical-align: middle;\n",
       "    }\n",
       "\n",
       "    .dataframe tbody tr th {\n",
       "        vertical-align: top;\n",
       "    }\n",
       "\n",
       "    .dataframe thead th {\n",
       "        text-align: right;\n",
       "    }\n",
       "</style>\n",
       "<table border=\"1\" class=\"dataframe\">\n",
       "  <thead>\n",
       "    <tr style=\"text-align: right;\">\n",
       "      <th></th>\n",
       "      <th>RMSE_обучения</th>\n",
       "      <th>Время обучения модели, сек.</th>\n",
       "      <th>Время предсказания модели, сек.</th>\n",
       "    </tr>\n",
       "  </thead>\n",
       "  <tbody>\n",
       "    <tr>\n",
       "      <th>LinearRegression</th>\n",
       "      <td>1956.296990</td>\n",
       "      <td>15.798489</td>\n",
       "      <td>0.199368</td>\n",
       "    </tr>\n",
       "    <tr>\n",
       "      <th>DecisionTreeRegressor OHE</th>\n",
       "      <td>1548.901033</td>\n",
       "      <td>2.922793</td>\n",
       "      <td>0.079787</td>\n",
       "    </tr>\n",
       "    <tr>\n",
       "      <th>DecisionTreeRegressor OE</th>\n",
       "      <td>1556.189693</td>\n",
       "      <td>0.319885</td>\n",
       "      <td>0.010317</td>\n",
       "    </tr>\n",
       "    <tr>\n",
       "      <th>CatBoostRegressor OHE</th>\n",
       "      <td>1294.305705</td>\n",
       "      <td>19.143769</td>\n",
       "      <td>0.044096</td>\n",
       "    </tr>\n",
       "    <tr>\n",
       "      <th>CatBoostRegressor</th>\n",
       "      <td>1304.257368</td>\n",
       "      <td>97.656687</td>\n",
       "      <td>0.308976</td>\n",
       "    </tr>\n",
       "    <tr>\n",
       "      <th>LGBMRegressor</th>\n",
       "      <td>1296.489180</td>\n",
       "      <td>27.002106</td>\n",
       "      <td>0.497827</td>\n",
       "    </tr>\n",
       "  </tbody>\n",
       "</table>\n",
       "</div>"
      ],
      "text/plain": [
       "                           RMSE_обучения  Время обучения модели, сек.  \\\n",
       "LinearRegression             1956.296990                    15.798489   \n",
       "DecisionTreeRegressor OHE    1548.901033                     2.922793   \n",
       "DecisionTreeRegressor OE     1556.189693                     0.319885   \n",
       "CatBoostRegressor OHE        1294.305705                    19.143769   \n",
       "CatBoostRegressor            1304.257368                    97.656687   \n",
       "LGBMRegressor                1296.489180                    27.002106   \n",
       "\n",
       "                           Время предсказания модели, сек.  \n",
       "LinearRegression                                  0.199368  \n",
       "DecisionTreeRegressor OHE                         0.079787  \n",
       "DecisionTreeRegressor OE                          0.010317  \n",
       "CatBoostRegressor OHE                             0.044096  \n",
       "CatBoostRegressor                                 0.308976  \n",
       "LGBMRegressor                                     0.497827  "
      ]
     },
     "execution_count": 70,
     "metadata": {},
     "output_type": "execute_result"
    }
   ],
   "source": [
    "data = {'RMSE_обучения':[lr_model_rmse,\n",
    "                         dtr_model_rmse_OHE,\n",
    "                         dtr_model_rmse_OE,\n",
    "                         cbr_model_rmse_OE,\n",
    "                         cbr_model_rmse,\n",
    "                         lgbrm_model_rmse_OE],\n",
    "   \n",
    "        'Время обучения модели, сек.':[lr_model_time, dtr_model_time_OHE, dtr_model_time_OE, \n",
    "                                       cbr_model_time_OE, cbr_model_time, lgbrm_model_time_OE],\n",
    "        \n",
    "        'Время предсказания модели, сек.':[lr_pred_time ,dtr_pred_time_OHE, dtr_pred_time_OE, \n",
    "                                           cbr_pred_time_OE, cbr_pred_time, lgbrm_pred_time_OE]\n",
    "       }\n",
    "index = ['LinearRegression',\n",
    "         'DecisionTreeRegressor OHE',\n",
    "         'DecisionTreeRegressor OE',\n",
    "         'CatBoostRegressor OE',\n",
    "         'CatBoostRegressor',\n",
    "         'LGBMRegressor']\n",
    "\n",
    "\n",
    "data_rmse = pd.DataFrame(data=data, index=index)\n",
    "data_rmse"
   ]
  },
  {
   "cell_type": "markdown",
   "metadata": {},
   "source": [
    "Проверим модель DecisionTreeRegressor OE на тестовой выборке: "
   ]
  },
  {
   "cell_type": "code",
   "execution_count": 71,
   "metadata": {},
   "outputs": [
    {
     "name": "stdout",
     "output_type": "stream",
     "text": [
      "CPU times: user 10.1 ms, sys: 0 ns, total: 10.1 ms\n",
      "Wall time: 9.4 ms\n"
     ]
    }
   ],
   "source": [
    "%%time\n",
    "\n",
    "target_pred_test = dtr_model_OE.predict(ordinal_features_test)"
   ]
  },
  {
   "cell_type": "code",
   "execution_count": 72,
   "metadata": {},
   "outputs": [
    {
     "data": {
      "text/plain": [
       "1581.3176197575706"
      ]
     },
     "execution_count": 72,
     "metadata": {},
     "output_type": "execute_result"
    }
   ],
   "source": [
    "mean_squared_error(target_test, target_pred_test) ** .5"
   ]
  },
  {
   "cell_type": "markdown",
   "metadata": {},
   "source": [
    "Скорость предсказания на тестовой выборке **0.009 сек** с RMSE **1581.3176197575706**"
   ]
  },
  {
   "cell_type": "markdown",
   "metadata": {},
   "source": [
    "## Общий вывод"
   ]
  },
  {
   "cell_type": "markdown",
   "metadata": {},
   "source": [
    "- загрузили данные и провели предобработку;\n",
    "- выполнили сравнение различных моделей с подбором гиперпараметров;\n",
    "- выбрали лучшую модель по результатам метрики RMSE и времени обучения.\n",
    "\n",
    "Для определения лучшей модели заказчиком были обозначены следующие критерии:\n",
    "- качество предсказания;\n",
    "- время обучения модели;\n",
    "- время предсказания модели.\n",
    "\n",
    "В ходе оценки не учитывалось время обучения модели на кроссвалидации. Все модели выполнили условие RMSE < 2500.\n",
    "\n",
    "Сумарно по трем критериям лучшей моделью является *DecisionTreeRegressor OE* (признаки были закодированы OrdinalEncoder). С точки зрения метрики RMSE она проигрывает лидеру CatBoostRegressor OE (1556.189693 против 1294.305705), но по остальным критериям данная модель обходит другие модели в десять раз.\n",
    "\n",
    "В качестве альтернативы, если критерий качества предсказания является преобладающий, можно использовать модели *CatBoostRegressor OE* и *LGBMRegressor*: у них лучший результат метрики RMSE (1294.305705 и 1296.489180 соответственно), но у них высокое время обучения модели и время предсказания по сравнению с *DecisionTreeRegressor OE*."
   ]
  }
 ],
 "metadata": {
  "ExecuteTimeLog": [
   {
    "duration": 2033,
    "start_time": "2023-11-09T12:03:52.194Z"
   },
   {
    "duration": 1560,
    "start_time": "2023-11-09T12:06:29.392Z"
   },
   {
    "duration": 202,
    "start_time": "2023-11-09T12:06:39.760Z"
   },
   {
    "duration": 28,
    "start_time": "2023-11-09T12:06:50.145Z"
   },
   {
    "duration": 551,
    "start_time": "2023-11-09T12:08:09.399Z"
   },
   {
    "duration": 403,
    "start_time": "2023-11-09T12:08:35.295Z"
   },
   {
    "duration": 6,
    "start_time": "2023-11-09T12:10:02.087Z"
   },
   {
    "duration": 5227,
    "start_time": "2023-11-09T12:10:02.635Z"
   },
   {
    "duration": 19,
    "start_time": "2023-11-09T12:11:34.534Z"
   },
   {
    "duration": 5,
    "start_time": "2023-11-09T12:23:18.151Z"
   },
   {
    "duration": 2044,
    "start_time": "2023-11-09T12:23:20.463Z"
   },
   {
    "duration": 1204,
    "start_time": "2023-11-09T12:24:16.023Z"
   },
   {
    "duration": 282,
    "start_time": "2023-11-09T12:25:14.322Z"
   },
   {
    "duration": 1314,
    "start_time": "2023-11-09T12:25:15.231Z"
   },
   {
    "duration": 1040,
    "start_time": "2023-11-09T12:25:25.685Z"
   },
   {
    "duration": 1648,
    "start_time": "2023-11-09T12:25:48.866Z"
   },
   {
    "duration": 1067,
    "start_time": "2023-11-09T12:25:51.280Z"
   },
   {
    "duration": 199,
    "start_time": "2023-11-09T12:25:52.352Z"
   },
   {
    "duration": 40,
    "start_time": "2023-11-09T12:25:52.730Z"
   },
   {
    "duration": 5,
    "start_time": "2023-11-09T12:26:59.471Z"
   },
   {
    "duration": 149,
    "start_time": "2023-11-09T12:27:13.087Z"
   },
   {
    "duration": 352,
    "start_time": "2023-11-09T12:27:19.638Z"
   },
   {
    "duration": 4,
    "start_time": "2023-11-09T12:27:21.670Z"
   },
   {
    "duration": 5139,
    "start_time": "2023-11-09T12:27:22.279Z"
   },
   {
    "duration": 364,
    "start_time": "2023-11-09T12:27:31.470Z"
   },
   {
    "duration": 1290,
    "start_time": "2023-11-09T12:27:32.550Z"
   },
   {
    "duration": 242,
    "start_time": "2023-11-09T12:30:04.351Z"
   },
   {
    "duration": 59555,
    "start_time": "2023-11-09T12:30:05.796Z"
   },
   {
    "duration": 112,
    "start_time": "2023-11-09T12:45:17.967Z"
   },
   {
    "duration": 5,
    "start_time": "2023-11-10T12:46:48.697Z"
   },
   {
    "duration": 1015,
    "start_time": "2023-11-10T12:46:48.704Z"
   },
   {
    "duration": 173,
    "start_time": "2023-11-10T12:46:49.721Z"
   },
   {
    "duration": 30,
    "start_time": "2023-11-10T12:46:49.896Z"
   },
   {
    "duration": 344,
    "start_time": "2023-11-10T12:46:49.928Z"
   },
   {
    "duration": 3,
    "start_time": "2023-11-10T12:46:50.274Z"
   },
   {
    "duration": 4166,
    "start_time": "2023-11-10T12:46:50.279Z"
   },
   {
    "duration": 140,
    "start_time": "2023-11-10T12:46:54.447Z"
   },
   {
    "duration": 16,
    "start_time": "2023-11-10T12:49:19.866Z"
   },
   {
    "duration": 159,
    "start_time": "2023-11-10T12:52:05.578Z"
   },
   {
    "duration": 558,
    "start_time": "2023-11-10T12:52:25.664Z"
   },
   {
    "duration": 526,
    "start_time": "2023-11-10T12:52:39.074Z"
   },
   {
    "duration": 35,
    "start_time": "2023-11-10T12:53:10.002Z"
   },
   {
    "duration": 30,
    "start_time": "2023-11-10T12:53:22.882Z"
   },
   {
    "duration": 575,
    "start_time": "2023-11-10T12:53:31.090Z"
   },
   {
    "duration": 614,
    "start_time": "2023-11-10T12:54:44.298Z"
   },
   {
    "duration": 546,
    "start_time": "2023-11-10T12:56:45.354Z"
   },
   {
    "duration": 1595,
    "start_time": "2023-11-10T12:56:56.247Z"
   },
   {
    "duration": 932,
    "start_time": "2023-11-10T12:56:57.844Z"
   },
   {
    "duration": 172,
    "start_time": "2023-11-10T12:56:58.777Z"
   },
   {
    "duration": 28,
    "start_time": "2023-11-10T12:56:58.951Z"
   },
   {
    "duration": 319,
    "start_time": "2023-11-10T12:56:58.981Z"
   },
   {
    "duration": 3,
    "start_time": "2023-11-10T12:56:59.302Z"
   },
   {
    "duration": 4072,
    "start_time": "2023-11-10T12:56:59.307Z"
   },
   {
    "duration": 134,
    "start_time": "2023-11-10T12:57:03.381Z"
   },
   {
    "duration": 12,
    "start_time": "2023-11-10T12:57:03.517Z"
   },
   {
    "duration": 558,
    "start_time": "2023-11-10T12:57:03.546Z"
   },
   {
    "duration": 510,
    "start_time": "2023-11-10T13:00:19.785Z"
   },
   {
    "duration": 407,
    "start_time": "2023-11-10T13:02:09.305Z"
   },
   {
    "duration": 270,
    "start_time": "2023-11-10T13:02:15.276Z"
   },
   {
    "duration": 168,
    "start_time": "2023-11-10T13:02:32.873Z"
   },
   {
    "duration": 153,
    "start_time": "2023-11-10T13:02:53.297Z"
   },
   {
    "duration": 409,
    "start_time": "2023-11-10T13:02:57.384Z"
   },
   {
    "duration": 431,
    "start_time": "2023-11-10T13:03:06.168Z"
   },
   {
    "duration": 471,
    "start_time": "2023-11-10T13:03:22.057Z"
   },
   {
    "duration": 567,
    "start_time": "2023-11-10T13:03:28.680Z"
   },
   {
    "duration": 566,
    "start_time": "2023-11-10T13:03:59.064Z"
   },
   {
    "duration": 586,
    "start_time": "2023-11-10T13:04:05.761Z"
   },
   {
    "duration": 430,
    "start_time": "2023-11-10T13:04:14.064Z"
   },
   {
    "duration": 456,
    "start_time": "2023-11-10T13:04:18.512Z"
   },
   {
    "duration": 466,
    "start_time": "2023-11-10T13:04:23.817Z"
   },
   {
    "duration": 404,
    "start_time": "2023-11-10T13:06:05.260Z"
   },
   {
    "duration": 452,
    "start_time": "2023-11-10T13:06:13.641Z"
   },
   {
    "duration": 315,
    "start_time": "2023-11-10T13:06:47.344Z"
   },
   {
    "duration": 472,
    "start_time": "2023-11-10T13:06:58.633Z"
   },
   {
    "duration": 484,
    "start_time": "2023-11-10T13:08:32.158Z"
   },
   {
    "duration": 525,
    "start_time": "2023-11-10T13:10:47.265Z"
   },
   {
    "duration": 628,
    "start_time": "2023-11-10T13:11:44.607Z"
   },
   {
    "duration": 460,
    "start_time": "2023-11-10T13:13:23.935Z"
   },
   {
    "duration": 511,
    "start_time": "2023-11-10T13:14:03.336Z"
   },
   {
    "duration": 15,
    "start_time": "2023-11-10T13:38:01.749Z"
   },
   {
    "duration": 49,
    "start_time": "2023-11-10T13:39:44.215Z"
   },
   {
    "duration": 42,
    "start_time": "2023-11-10T13:39:55.925Z"
   },
   {
    "duration": 19,
    "start_time": "2023-11-10T13:40:07.509Z"
   },
   {
    "duration": 26,
    "start_time": "2023-11-10T13:40:28.780Z"
   },
   {
    "duration": 33,
    "start_time": "2023-11-10T13:40:46.480Z"
   },
   {
    "duration": 4,
    "start_time": "2023-11-10T13:43:18.982Z"
   },
   {
    "duration": 1046,
    "start_time": "2023-11-10T13:43:18.988Z"
   },
   {
    "duration": 201,
    "start_time": "2023-11-10T13:43:20.036Z"
   },
   {
    "duration": 48,
    "start_time": "2023-11-10T13:43:20.239Z"
   },
   {
    "duration": 365,
    "start_time": "2023-11-10T13:43:20.289Z"
   },
   {
    "duration": 8,
    "start_time": "2023-11-10T13:43:20.658Z"
   },
   {
    "duration": 4619,
    "start_time": "2023-11-10T13:43:20.668Z"
   },
   {
    "duration": 168,
    "start_time": "2023-11-10T13:43:25.289Z"
   },
   {
    "duration": 14,
    "start_time": "2023-11-10T13:43:25.460Z"
   },
   {
    "duration": 640,
    "start_time": "2023-11-10T13:43:25.477Z"
   },
   {
    "duration": 36,
    "start_time": "2023-11-10T13:43:26.119Z"
   },
   {
    "duration": 146,
    "start_time": "2023-11-10T13:43:26.157Z"
   },
   {
    "duration": 4,
    "start_time": "2023-11-10T13:49:46.603Z"
   },
   {
    "duration": 624,
    "start_time": "2023-11-10T13:49:49.272Z"
   },
   {
    "duration": 12,
    "start_time": "2023-11-10T13:50:02.042Z"
   },
   {
    "duration": 533,
    "start_time": "2023-11-10T13:50:03.666Z"
   },
   {
    "duration": 5,
    "start_time": "2023-11-10T13:50:12.810Z"
   },
   {
    "duration": 458,
    "start_time": "2023-11-10T13:50:14.462Z"
   },
   {
    "duration": 5,
    "start_time": "2023-11-10T13:51:13.098Z"
   },
   {
    "duration": 505,
    "start_time": "2023-11-10T13:51:14.810Z"
   },
   {
    "duration": 10,
    "start_time": "2023-11-10T13:53:52.481Z"
   },
   {
    "duration": 1824,
    "start_time": "2023-11-10T13:55:00.773Z"
   },
   {
    "duration": 1100,
    "start_time": "2023-11-10T13:55:02.599Z"
   },
   {
    "duration": 191,
    "start_time": "2023-11-10T13:55:03.701Z"
   },
   {
    "duration": 40,
    "start_time": "2023-11-10T13:55:03.894Z"
   },
   {
    "duration": 388,
    "start_time": "2023-11-10T13:55:03.937Z"
   },
   {
    "duration": 4,
    "start_time": "2023-11-10T13:55:04.326Z"
   },
   {
    "duration": 5618,
    "start_time": "2023-11-10T13:55:04.331Z"
   },
   {
    "duration": 171,
    "start_time": "2023-11-10T13:55:09.959Z"
   },
   {
    "duration": 34,
    "start_time": "2023-11-10T13:55:10.132Z"
   },
   {
    "duration": 23,
    "start_time": "2023-11-10T13:55:10.169Z"
   },
   {
    "duration": 535,
    "start_time": "2023-11-10T13:55:10.193Z"
   },
   {
    "duration": 35,
    "start_time": "2023-11-10T13:55:10.730Z"
   },
   {
    "duration": 150,
    "start_time": "2023-11-10T13:55:10.769Z"
   },
   {
    "duration": 8,
    "start_time": "2023-11-10T13:55:10.921Z"
   },
   {
    "duration": 499,
    "start_time": "2023-11-10T13:55:53.505Z"
   },
   {
    "duration": 132,
    "start_time": "2023-11-10T14:01:08.402Z"
   },
   {
    "duration": 82,
    "start_time": "2023-11-10T14:01:14.225Z"
   },
   {
    "duration": 477,
    "start_time": "2023-11-10T14:01:28.064Z"
   },
   {
    "duration": 473,
    "start_time": "2023-11-10T14:08:41.231Z"
   },
   {
    "duration": 457,
    "start_time": "2023-11-10T14:09:38.270Z"
   },
   {
    "duration": 4,
    "start_time": "2023-11-10T14:13:33.119Z"
   },
   {
    "duration": 535,
    "start_time": "2023-11-10T14:15:29.590Z"
   },
   {
    "duration": 571,
    "start_time": "2023-11-10T14:16:06.671Z"
   },
   {
    "duration": 182,
    "start_time": "2023-11-10T14:18:57.230Z"
   },
   {
    "duration": 1567,
    "start_time": "2023-11-10T14:21:37.390Z"
   },
   {
    "duration": 990,
    "start_time": "2023-11-10T14:21:40.237Z"
   },
   {
    "duration": 157,
    "start_time": "2023-11-10T14:21:41.374Z"
   },
   {
    "duration": 28,
    "start_time": "2023-11-10T14:21:42.091Z"
   },
   {
    "duration": 590,
    "start_time": "2023-11-10T14:21:43.574Z"
   },
   {
    "duration": 613,
    "start_time": "2023-11-10T14:21:45.421Z"
   },
   {
    "duration": 299,
    "start_time": "2023-11-10T14:21:48.365Z"
   },
   {
    "duration": 3,
    "start_time": "2023-11-10T14:21:51.856Z"
   },
   {
    "duration": 4461,
    "start_time": "2023-11-10T14:21:52.758Z"
   },
   {
    "duration": 7,
    "start_time": "2023-11-10T14:22:02.960Z"
   },
   {
    "duration": 134,
    "start_time": "2023-11-10T14:22:43.334Z"
   },
   {
    "duration": 5,
    "start_time": "2023-11-10T14:22:56.430Z"
   },
   {
    "duration": 10,
    "start_time": "2023-11-10T14:23:07.886Z"
   },
   {
    "duration": 521,
    "start_time": "2023-11-10T14:23:15.686Z"
   },
   {
    "duration": 25,
    "start_time": "2023-11-10T14:23:33.758Z"
   },
   {
    "duration": 126,
    "start_time": "2023-11-10T14:23:35.726Z"
   },
   {
    "duration": 9,
    "start_time": "2023-11-10T14:24:03.168Z"
   },
   {
    "duration": 462,
    "start_time": "2023-11-10T14:26:04.272Z"
   },
   {
    "duration": 71,
    "start_time": "2023-11-10T14:26:31.206Z"
   },
   {
    "duration": 440,
    "start_time": "2023-11-10T14:26:32.238Z"
   },
   {
    "duration": 479,
    "start_time": "2023-11-10T14:26:38.877Z"
   },
   {
    "duration": 7,
    "start_time": "2023-11-10T14:27:16.741Z"
   },
   {
    "duration": 94,
    "start_time": "2023-11-10T14:31:16.893Z"
   },
   {
    "duration": 31,
    "start_time": "2023-11-10T14:31:25.077Z"
   },
   {
    "duration": 18,
    "start_time": "2023-11-10T14:31:41.718Z"
   },
   {
    "duration": 20,
    "start_time": "2023-11-10T14:32:24.940Z"
   },
   {
    "duration": 1604,
    "start_time": "2023-11-11T14:43:38.839Z"
   },
   {
    "duration": 1047,
    "start_time": "2023-11-11T14:43:50.297Z"
   },
   {
    "duration": 141,
    "start_time": "2023-11-11T14:43:51.346Z"
   },
   {
    "duration": 34,
    "start_time": "2023-11-11T14:43:51.489Z"
   },
   {
    "duration": 450,
    "start_time": "2023-11-11T14:43:51.525Z"
   },
   {
    "duration": 473,
    "start_time": "2023-11-11T14:43:51.977Z"
   },
   {
    "duration": 265,
    "start_time": "2023-11-11T14:43:52.452Z"
   },
   {
    "duration": 5,
    "start_time": "2023-11-11T14:43:52.718Z"
   },
   {
    "duration": 3328,
    "start_time": "2023-11-11T14:43:52.724Z"
   },
   {
    "duration": 5,
    "start_time": "2023-11-11T14:43:56.054Z"
   },
   {
    "duration": 119,
    "start_time": "2023-11-11T14:43:56.061Z"
   },
   {
    "duration": 4,
    "start_time": "2023-11-11T14:43:56.182Z"
   },
   {
    "duration": 17,
    "start_time": "2023-11-11T14:43:56.188Z"
   },
   {
    "duration": 431,
    "start_time": "2023-11-11T14:43:56.207Z"
   },
   {
    "duration": 23,
    "start_time": "2023-11-11T14:43:56.639Z"
   },
   {
    "duration": 114,
    "start_time": "2023-11-11T14:43:56.664Z"
   },
   {
    "duration": 425,
    "start_time": "2023-11-11T14:43:56.779Z"
   },
   {
    "duration": 6,
    "start_time": "2023-11-11T14:43:57.206Z"
   },
   {
    "duration": 350,
    "start_time": "2023-11-11T14:43:57.214Z"
   },
   {
    "duration": 73,
    "start_time": "2023-11-11T14:43:57.566Z"
   },
   {
    "duration": 372,
    "start_time": "2023-11-11T14:43:57.641Z"
   },
   {
    "duration": 363,
    "start_time": "2023-11-11T14:44:05.754Z"
   },
   {
    "duration": 3,
    "start_time": "2023-11-11T14:44:54.479Z"
   },
   {
    "duration": 1683,
    "start_time": "2023-11-13T06:29:33.869Z"
   },
   {
    "duration": 1194,
    "start_time": "2023-11-13T06:29:37.272Z"
   },
   {
    "duration": 176,
    "start_time": "2023-11-13T06:29:38.469Z"
   },
   {
    "duration": 29,
    "start_time": "2023-11-13T06:29:39.306Z"
   },
   {
    "duration": 514,
    "start_time": "2023-11-13T06:29:39.755Z"
   },
   {
    "duration": 563,
    "start_time": "2023-11-13T06:29:40.561Z"
   },
   {
    "duration": 283,
    "start_time": "2023-11-13T06:29:41.192Z"
   },
   {
    "duration": 4,
    "start_time": "2023-11-13T06:29:44.291Z"
   },
   {
    "duration": 3949,
    "start_time": "2023-11-13T06:29:44.762Z"
   },
   {
    "duration": 7,
    "start_time": "2023-11-13T06:30:11.209Z"
   },
   {
    "duration": 121,
    "start_time": "2023-11-13T06:30:22.290Z"
   },
   {
    "duration": 5,
    "start_time": "2023-11-13T06:30:30.482Z"
   },
   {
    "duration": 13,
    "start_time": "2023-11-13T06:30:38.954Z"
   },
   {
    "duration": 458,
    "start_time": "2023-11-13T06:30:50.946Z"
   },
   {
    "duration": 24,
    "start_time": "2023-11-13T06:31:09.888Z"
   },
   {
    "duration": 116,
    "start_time": "2023-11-13T06:31:12.440Z"
   },
   {
    "duration": 467,
    "start_time": "2023-11-13T06:31:14.192Z"
   },
   {
    "duration": 8,
    "start_time": "2023-11-13T06:31:34.098Z"
   },
   {
    "duration": 423,
    "start_time": "2023-11-13T06:31:35.376Z"
   },
   {
    "duration": 69,
    "start_time": "2023-11-13T06:31:49.080Z"
   },
   {
    "duration": 416,
    "start_time": "2023-11-13T06:31:50.024Z"
   },
   {
    "duration": 449,
    "start_time": "2023-11-13T06:31:58.216Z"
   },
   {
    "duration": 6,
    "start_time": "2023-11-13T07:32:43.895Z"
   },
   {
    "duration": 35,
    "start_time": "2023-11-13T07:51:09.721Z"
   },
   {
    "duration": 32,
    "start_time": "2023-11-13T07:51:19.675Z"
   },
   {
    "duration": 33,
    "start_time": "2023-11-13T07:51:48.224Z"
   },
   {
    "duration": 34,
    "start_time": "2023-11-13T07:51:55.760Z"
   },
   {
    "duration": 54,
    "start_time": "2023-11-13T07:56:03.680Z"
   },
   {
    "duration": 51,
    "start_time": "2023-11-13T07:57:03.246Z"
   },
   {
    "duration": 39,
    "start_time": "2023-11-13T07:58:21.220Z"
   },
   {
    "duration": 30,
    "start_time": "2023-11-13T07:58:35.554Z"
   },
   {
    "duration": 33,
    "start_time": "2023-11-13T07:58:51.000Z"
   },
   {
    "duration": 32,
    "start_time": "2023-11-13T08:01:31.199Z"
   },
   {
    "duration": 174,
    "start_time": "2023-11-13T08:01:40.222Z"
   },
   {
    "duration": 24,
    "start_time": "2023-11-13T08:01:44.017Z"
   },
   {
    "duration": 106,
    "start_time": "2023-11-13T08:01:47.463Z"
   },
   {
    "duration": 143,
    "start_time": "2023-11-13T08:03:26.137Z"
   },
   {
    "duration": 17,
    "start_time": "2023-11-13T08:03:27.566Z"
   },
   {
    "duration": 105,
    "start_time": "2023-11-13T08:03:30.254Z"
   },
   {
    "duration": 25,
    "start_time": "2023-11-13T08:03:50.007Z"
   },
   {
    "duration": 94,
    "start_time": "2023-11-13T08:06:46.376Z"
   },
   {
    "duration": 21,
    "start_time": "2023-11-13T10:02:23.015Z"
   },
   {
    "duration": 31,
    "start_time": "2023-11-13T10:03:39.352Z"
   },
   {
    "duration": 48,
    "start_time": "2023-11-13T10:04:23.655Z"
   },
   {
    "duration": 18,
    "start_time": "2023-11-13T10:06:45.098Z"
   },
   {
    "duration": 40,
    "start_time": "2023-11-13T10:08:25.252Z"
   },
   {
    "duration": 396,
    "start_time": "2023-11-13T10:08:49.024Z"
   },
   {
    "duration": 397,
    "start_time": "2023-11-13T10:09:17.076Z"
   },
   {
    "duration": 48,
    "start_time": "2023-11-13T10:23:21.435Z"
   },
   {
    "duration": 1547,
    "start_time": "2023-11-13T10:23:26.518Z"
   },
   {
    "duration": 1020,
    "start_time": "2023-11-13T10:23:28.067Z"
   },
   {
    "duration": 183,
    "start_time": "2023-11-13T10:23:29.088Z"
   },
   {
    "duration": 46,
    "start_time": "2023-11-13T10:23:29.273Z"
   },
   {
    "duration": 519,
    "start_time": "2023-11-13T10:23:29.327Z"
   },
   {
    "duration": 586,
    "start_time": "2023-11-13T10:23:29.848Z"
   },
   {
    "duration": 325,
    "start_time": "2023-11-13T10:23:30.435Z"
   },
   {
    "duration": 3,
    "start_time": "2023-11-13T10:23:30.762Z"
   },
   {
    "duration": 4285,
    "start_time": "2023-11-13T10:23:30.766Z"
   },
   {
    "duration": 6,
    "start_time": "2023-11-13T10:23:35.053Z"
   },
   {
    "duration": 157,
    "start_time": "2023-11-13T10:23:35.060Z"
   },
   {
    "duration": 5,
    "start_time": "2023-11-13T10:23:35.231Z"
   },
   {
    "duration": 20,
    "start_time": "2023-11-13T10:23:35.237Z"
   },
   {
    "duration": 521,
    "start_time": "2023-11-13T10:23:35.260Z"
   },
   {
    "duration": 37,
    "start_time": "2023-11-13T10:23:35.783Z"
   },
   {
    "duration": 153,
    "start_time": "2023-11-13T10:23:35.821Z"
   },
   {
    "duration": 520,
    "start_time": "2023-11-13T10:23:35.976Z"
   },
   {
    "duration": 29,
    "start_time": "2023-11-13T10:23:36.498Z"
   },
   {
    "duration": 400,
    "start_time": "2023-11-13T10:23:36.529Z"
   },
   {
    "duration": 66,
    "start_time": "2023-11-13T10:23:36.931Z"
   },
   {
    "duration": 453,
    "start_time": "2023-11-13T10:23:37.010Z"
   },
   {
    "duration": 465,
    "start_time": "2023-11-13T10:23:37.465Z"
   },
   {
    "duration": 17,
    "start_time": "2023-11-13T10:23:37.932Z"
   },
   {
    "duration": 44,
    "start_time": "2023-11-13T10:23:37.950Z"
   },
   {
    "duration": 68,
    "start_time": "2023-11-13T10:23:37.996Z"
   },
   {
    "duration": 20,
    "start_time": "2023-11-13T10:23:38.066Z"
   },
   {
    "duration": 45,
    "start_time": "2023-11-13T10:23:38.088Z"
   },
   {
    "duration": 45,
    "start_time": "2023-11-13T10:23:38.134Z"
   },
   {
    "duration": 93,
    "start_time": "2023-11-13T10:23:38.180Z"
   },
   {
    "duration": 16,
    "start_time": "2023-11-13T10:23:38.275Z"
   },
   {
    "duration": 47,
    "start_time": "2023-11-13T10:23:38.293Z"
   },
   {
    "duration": 17,
    "start_time": "2023-11-13T10:23:38.341Z"
   },
   {
    "duration": 114,
    "start_time": "2023-11-13T10:23:38.360Z"
   },
   {
    "duration": 423,
    "start_time": "2023-11-13T10:23:38.476Z"
   },
   {
    "duration": 443,
    "start_time": "2023-11-13T10:23:38.912Z"
   },
   {
    "duration": 602,
    "start_time": "2023-11-13T10:24:26.387Z"
   },
   {
    "duration": 6,
    "start_time": "2023-11-13T10:25:31.432Z"
   },
   {
    "duration": 8,
    "start_time": "2023-11-13T10:25:35.068Z"
   },
   {
    "duration": 33,
    "start_time": "2023-11-13T10:26:47.222Z"
   },
   {
    "duration": 112,
    "start_time": "2023-11-13T10:27:07.755Z"
   },
   {
    "duration": 16,
    "start_time": "2023-11-13T10:27:13.388Z"
   },
   {
    "duration": 56,
    "start_time": "2023-11-13T10:28:15.890Z"
   },
   {
    "duration": 31,
    "start_time": "2023-11-13T10:28:48.373Z"
   },
   {
    "duration": 19,
    "start_time": "2023-11-13T10:29:02.178Z"
   },
   {
    "duration": 80,
    "start_time": "2023-11-13T10:30:18.747Z"
   },
   {
    "duration": 1939,
    "start_time": "2023-11-13T10:39:10.552Z"
   },
   {
    "duration": 3513,
    "start_time": "2023-11-13T10:39:12.493Z"
   },
   {
    "duration": 188,
    "start_time": "2023-11-13T10:39:16.008Z"
   },
   {
    "duration": 48,
    "start_time": "2023-11-13T10:39:16.199Z"
   },
   {
    "duration": 569,
    "start_time": "2023-11-13T10:39:16.249Z"
   },
   {
    "duration": 574,
    "start_time": "2023-11-13T10:39:16.820Z"
   },
   {
    "duration": 329,
    "start_time": "2023-11-13T10:39:17.396Z"
   },
   {
    "duration": 16,
    "start_time": "2023-11-13T10:39:17.726Z"
   },
   {
    "duration": 4107,
    "start_time": "2023-11-13T10:39:17.748Z"
   },
   {
    "duration": 6,
    "start_time": "2023-11-13T10:39:21.862Z"
   },
   {
    "duration": 143,
    "start_time": "2023-11-13T10:39:21.870Z"
   },
   {
    "duration": 4,
    "start_time": "2023-11-13T10:39:22.015Z"
   },
   {
    "duration": 36,
    "start_time": "2023-11-13T10:39:22.020Z"
   },
   {
    "duration": 429,
    "start_time": "2023-11-13T10:39:22.058Z"
   },
   {
    "duration": 21,
    "start_time": "2023-11-13T10:39:22.488Z"
   },
   {
    "duration": 136,
    "start_time": "2023-11-13T10:39:22.510Z"
   },
   {
    "duration": 490,
    "start_time": "2023-11-13T10:39:22.655Z"
   },
   {
    "duration": 12,
    "start_time": "2023-11-13T10:39:23.146Z"
   },
   {
    "duration": 392,
    "start_time": "2023-11-13T10:39:23.160Z"
   },
   {
    "duration": 63,
    "start_time": "2023-11-13T10:39:23.557Z"
   },
   {
    "duration": 446,
    "start_time": "2023-11-13T10:39:23.621Z"
   },
   {
    "duration": 447,
    "start_time": "2023-11-13T10:39:24.069Z"
   },
   {
    "duration": 29,
    "start_time": "2023-11-13T10:39:24.517Z"
   },
   {
    "duration": 47,
    "start_time": "2023-11-13T10:39:24.547Z"
   },
   {
    "duration": 66,
    "start_time": "2023-11-13T10:39:24.595Z"
   },
   {
    "duration": 19,
    "start_time": "2023-11-13T10:39:24.662Z"
   },
   {
    "duration": 19,
    "start_time": "2023-11-13T10:39:24.682Z"
   },
   {
    "duration": 40,
    "start_time": "2023-11-13T10:39:24.705Z"
   },
   {
    "duration": 67,
    "start_time": "2023-11-13T10:39:24.747Z"
   },
   {
    "duration": 22,
    "start_time": "2023-11-13T10:39:24.816Z"
   },
   {
    "duration": 42,
    "start_time": "2023-11-13T10:39:24.842Z"
   },
   {
    "duration": 15,
    "start_time": "2023-11-13T10:39:24.886Z"
   },
   {
    "duration": 66,
    "start_time": "2023-11-13T10:39:24.903Z"
   },
   {
    "duration": 425,
    "start_time": "2023-11-13T10:39:24.970Z"
   },
   {
    "duration": 435,
    "start_time": "2023-11-13T10:39:25.397Z"
   },
   {
    "duration": 13,
    "start_time": "2023-11-13T10:39:25.834Z"
   },
   {
    "duration": 29,
    "start_time": "2023-11-13T10:39:25.856Z"
   },
   {
    "duration": 15,
    "start_time": "2023-11-13T10:39:25.886Z"
   },
   {
    "duration": 67,
    "start_time": "2023-11-13T10:39:25.902Z"
   },
   {
    "duration": 32,
    "start_time": "2023-11-13T10:39:25.970Z"
   },
   {
    "duration": 36,
    "start_time": "2023-11-13T10:39:26.004Z"
   },
   {
    "duration": 107,
    "start_time": "2023-11-13T10:39:26.041Z"
   },
   {
    "duration": 41,
    "start_time": "2023-11-13T10:39:26.153Z"
   },
   {
    "duration": 60,
    "start_time": "2023-11-13T10:39:54.651Z"
   },
   {
    "duration": 109,
    "start_time": "2023-11-13T10:41:40.121Z"
   },
   {
    "duration": 207,
    "start_time": "2023-11-13T10:42:46.169Z"
   },
   {
    "duration": 17,
    "start_time": "2023-11-13T10:43:46.544Z"
   },
   {
    "duration": 37,
    "start_time": "2023-11-13T10:44:04.155Z"
   },
   {
    "duration": 10,
    "start_time": "2023-11-13T11:48:49.452Z"
   },
   {
    "duration": 262,
    "start_time": "2023-11-13T11:50:36.877Z"
   },
   {
    "duration": 404,
    "start_time": "2023-11-13T11:51:08.766Z"
   },
   {
    "duration": 312,
    "start_time": "2023-11-13T11:52:35.149Z"
   },
   {
    "duration": 85,
    "start_time": "2023-11-13T12:07:51.818Z"
   },
   {
    "duration": 83493,
    "start_time": "2023-11-13T12:07:57.143Z"
   },
   {
    "duration": 83799,
    "start_time": "2023-11-13T12:10:19.034Z"
   },
   {
    "duration": 4,
    "start_time": "2023-11-13T12:38:00.500Z"
   },
   {
    "duration": 5,
    "start_time": "2023-11-13T12:53:15.073Z"
   },
   {
    "duration": 7,
    "start_time": "2023-11-13T12:56:43.591Z"
   },
   {
    "duration": 120,
    "start_time": "2023-11-13T12:57:27.672Z"
   },
   {
    "duration": 31,
    "start_time": "2023-11-13T12:58:09.826Z"
   },
   {
    "duration": 17,
    "start_time": "2023-11-13T12:59:28.881Z"
   },
   {
    "duration": 484478,
    "start_time": "2023-11-13T13:00:05.360Z"
   },
   {
    "duration": 29,
    "start_time": "2023-11-13T13:18:14.917Z"
   },
   {
    "duration": 3472,
    "start_time": "2023-11-13T13:18:24.076Z"
   },
   {
    "duration": 372442,
    "start_time": "2023-11-13T13:18:32.997Z"
   },
   {
    "duration": 0,
    "start_time": "2023-11-13T13:24:45.441Z"
   },
   {
    "duration": 6,
    "start_time": "2023-11-13T13:29:54.385Z"
   },
   {
    "duration": 14477,
    "start_time": "2023-11-13T13:30:06.061Z"
   },
   {
    "duration": 6,
    "start_time": "2023-11-13T13:38:23.423Z"
   },
   {
    "duration": 5,
    "start_time": "2023-11-13T13:38:53.193Z"
   },
   {
    "duration": 359475,
    "start_time": "2023-11-13T13:38:57.056Z"
   },
   {
    "duration": 6,
    "start_time": "2023-11-13T13:47:45.976Z"
   },
   {
    "duration": 5,
    "start_time": "2023-11-13T13:48:38.367Z"
   },
   {
    "duration": 10,
    "start_time": "2023-11-13T13:48:42.815Z"
   },
   {
    "duration": 12,
    "start_time": "2023-11-13T13:50:00.559Z"
   },
   {
    "duration": 3,
    "start_time": "2023-11-13T13:50:32.807Z"
   },
   {
    "duration": 4,
    "start_time": "2023-11-13T13:54:37.334Z"
   },
   {
    "duration": 5,
    "start_time": "2023-11-13T13:54:43.079Z"
   },
   {
    "duration": 5,
    "start_time": "2023-11-13T13:55:06.598Z"
   },
   {
    "duration": 156,
    "start_time": "2023-11-13T13:56:01.952Z"
   },
   {
    "duration": 6,
    "start_time": "2023-11-13T13:57:28.774Z"
   },
   {
    "duration": 6,
    "start_time": "2023-11-13T13:57:55.558Z"
   },
   {
    "duration": 4,
    "start_time": "2023-11-13T14:10:53.341Z"
   },
   {
    "duration": 152,
    "start_time": "2023-11-13T14:11:52.323Z"
   },
   {
    "duration": 413379,
    "start_time": "2023-11-13T14:12:07.699Z"
   },
   {
    "duration": 46380,
    "start_time": "2023-11-13T14:20:02.315Z"
   },
   {
    "duration": 8576,
    "start_time": "2023-11-13T14:23:21.327Z"
   },
   {
    "duration": 340972,
    "start_time": "2023-11-13T14:28:19.393Z"
   },
   {
    "duration": 29776,
    "start_time": "2023-11-13T14:34:08.294Z"
   },
   {
    "duration": 3396,
    "start_time": "2023-11-13T18:19:24.185Z"
   },
   {
    "duration": 1712,
    "start_time": "2023-11-13T18:19:33.769Z"
   },
   {
    "duration": 3028,
    "start_time": "2023-11-13T18:19:36.721Z"
   },
   {
    "duration": 173,
    "start_time": "2023-11-13T18:19:39.752Z"
   },
   {
    "duration": 29,
    "start_time": "2023-11-13T18:19:40.950Z"
   },
   {
    "duration": 487,
    "start_time": "2023-11-13T18:19:41.506Z"
   },
   {
    "duration": 527,
    "start_time": "2023-11-13T18:19:42.441Z"
   },
   {
    "duration": 306,
    "start_time": "2023-11-13T18:19:42.970Z"
   },
   {
    "duration": 4,
    "start_time": "2023-11-13T18:19:48.042Z"
   },
   {
    "duration": 4075,
    "start_time": "2023-11-13T18:19:48.937Z"
   },
   {
    "duration": 7,
    "start_time": "2023-11-13T18:19:54.131Z"
   },
   {
    "duration": 127,
    "start_time": "2023-11-13T18:19:55.887Z"
   },
   {
    "duration": 4,
    "start_time": "2023-11-13T18:19:57.730Z"
   },
   {
    "duration": 9,
    "start_time": "2023-11-13T18:19:59.920Z"
   },
   {
    "duration": 478,
    "start_time": "2023-11-13T18:20:01.085Z"
   },
   {
    "duration": 31,
    "start_time": "2023-11-13T18:20:01.686Z"
   },
   {
    "duration": 119,
    "start_time": "2023-11-13T18:20:01.947Z"
   },
   {
    "duration": 480,
    "start_time": "2023-11-13T18:20:02.208Z"
   },
   {
    "duration": 8,
    "start_time": "2023-11-13T18:20:02.728Z"
   },
   {
    "duration": 409,
    "start_time": "2023-11-13T18:20:02.958Z"
   },
   {
    "duration": 82,
    "start_time": "2023-11-13T18:20:03.443Z"
   },
   {
    "duration": 445,
    "start_time": "2023-11-13T18:20:03.710Z"
   },
   {
    "duration": 432,
    "start_time": "2023-11-13T18:20:04.187Z"
   },
   {
    "duration": 18,
    "start_time": "2023-11-13T18:20:04.900Z"
   },
   {
    "duration": 54,
    "start_time": "2023-11-13T18:20:05.348Z"
   },
   {
    "duration": 53,
    "start_time": "2023-11-13T18:20:05.798Z"
   },
   {
    "duration": 18,
    "start_time": "2023-11-13T18:20:06.284Z"
   },
   {
    "duration": 30,
    "start_time": "2023-11-13T18:20:06.542Z"
   },
   {
    "duration": 17,
    "start_time": "2023-11-13T18:20:07.030Z"
   },
   {
    "duration": 65,
    "start_time": "2023-11-13T18:20:07.516Z"
   },
   {
    "duration": 17,
    "start_time": "2023-11-13T18:20:08.002Z"
   },
   {
    "duration": 48,
    "start_time": "2023-11-13T18:20:08.636Z"
   },
   {
    "duration": 17,
    "start_time": "2023-11-13T18:20:09.309Z"
   },
   {
    "duration": 66,
    "start_time": "2023-11-13T18:20:11.425Z"
   },
   {
    "duration": 426,
    "start_time": "2023-11-13T18:20:12.022Z"
   },
   {
    "duration": 464,
    "start_time": "2023-11-13T18:20:12.584Z"
   },
   {
    "duration": 10,
    "start_time": "2023-11-13T18:20:13.518Z"
   },
   {
    "duration": 58,
    "start_time": "2023-11-13T18:20:15.794Z"
   },
   {
    "duration": 14,
    "start_time": "2023-11-13T18:20:16.430Z"
   },
   {
    "duration": 45,
    "start_time": "2023-11-13T18:20:17.362Z"
   },
   {
    "duration": 30,
    "start_time": "2023-11-13T18:20:19.236Z"
   },
   {
    "duration": 14,
    "start_time": "2023-11-13T18:20:22.782Z"
   },
   {
    "duration": 92,
    "start_time": "2023-11-13T18:20:24.940Z"
   },
   {
    "duration": 39,
    "start_time": "2023-11-13T18:20:34.055Z"
   },
   {
    "duration": 110,
    "start_time": "2023-11-13T18:20:35.534Z"
   },
   {
    "duration": 227,
    "start_time": "2023-11-13T18:20:36.734Z"
   },
   {
    "duration": 15,
    "start_time": "2023-11-13T18:20:38.182Z"
   },
   {
    "duration": 44,
    "start_time": "2023-11-13T18:20:38.670Z"
   },
   {
    "duration": 9,
    "start_time": "2023-11-13T18:20:42.032Z"
   },
   {
    "duration": 259,
    "start_time": "2023-11-13T18:20:42.911Z"
   },
   {
    "duration": 631,
    "start_time": "2023-11-13T18:20:45.333Z"
   },
   {
    "duration": 407,
    "start_time": "2023-11-13T18:20:46.530Z"
   },
   {
    "duration": 4,
    "start_time": "2023-11-13T18:46:27.548Z"
   },
   {
    "duration": 125,
    "start_time": "2023-11-13T18:47:26.318Z"
   },
   {
    "duration": 3,
    "start_time": "2023-11-13T18:50:33.732Z"
   },
   {
    "duration": 3,
    "start_time": "2023-11-13T18:50:35.096Z"
   },
   {
    "duration": 4,
    "start_time": "2023-11-13T18:50:42.675Z"
   },
   {
    "duration": 7,
    "start_time": "2023-11-13T19:22:43.169Z"
   },
   {
    "duration": 6,
    "start_time": "2023-11-13T19:22:46.380Z"
   },
   {
    "duration": 3,
    "start_time": "2023-11-13T19:22:48.373Z"
   },
   {
    "duration": 585606,
    "start_time": "2023-11-13T19:22:49.605Z"
   },
   {
    "duration": 423411,
    "start_time": "2023-11-13T19:32:35.215Z"
   },
   {
    "duration": 53404,
    "start_time": "2023-11-13T19:39:38.628Z"
   },
   {
    "duration": 370103,
    "start_time": "2023-11-13T19:40:32.035Z"
   },
   {
    "duration": 3908373,
    "start_time": "2023-11-13T19:46:42.140Z"
   },
   {
    "duration": 61,
    "start_time": "2023-11-14T06:32:51.235Z"
   },
   {
    "duration": 5,
    "start_time": "2023-11-14T06:34:00.848Z"
   },
   {
    "duration": 2023,
    "start_time": "2023-11-14T06:34:00.855Z"
   },
   {
    "duration": 0,
    "start_time": "2023-11-14T06:34:02.882Z"
   },
   {
    "duration": 0,
    "start_time": "2023-11-14T06:34:02.883Z"
   },
   {
    "duration": 0,
    "start_time": "2023-11-14T06:34:02.884Z"
   },
   {
    "duration": 0,
    "start_time": "2023-11-14T06:34:02.885Z"
   },
   {
    "duration": 0,
    "start_time": "2023-11-14T06:34:02.886Z"
   },
   {
    "duration": 0,
    "start_time": "2023-11-14T06:34:02.887Z"
   },
   {
    "duration": 0,
    "start_time": "2023-11-14T06:34:02.889Z"
   },
   {
    "duration": 0,
    "start_time": "2023-11-14T06:34:02.890Z"
   },
   {
    "duration": 0,
    "start_time": "2023-11-14T06:34:02.891Z"
   },
   {
    "duration": 0,
    "start_time": "2023-11-14T06:34:02.892Z"
   },
   {
    "duration": 0,
    "start_time": "2023-11-14T06:34:02.894Z"
   },
   {
    "duration": 0,
    "start_time": "2023-11-14T06:34:02.895Z"
   },
   {
    "duration": 0,
    "start_time": "2023-11-14T06:34:02.896Z"
   },
   {
    "duration": 0,
    "start_time": "2023-11-14T06:34:02.897Z"
   },
   {
    "duration": 0,
    "start_time": "2023-11-14T06:34:02.898Z"
   },
   {
    "duration": 0,
    "start_time": "2023-11-14T06:34:02.899Z"
   },
   {
    "duration": 0,
    "start_time": "2023-11-14T06:34:02.931Z"
   },
   {
    "duration": 0,
    "start_time": "2023-11-14T06:34:02.932Z"
   },
   {
    "duration": 0,
    "start_time": "2023-11-14T06:34:02.939Z"
   },
   {
    "duration": 0,
    "start_time": "2023-11-14T06:34:02.940Z"
   },
   {
    "duration": 0,
    "start_time": "2023-11-14T06:34:02.943Z"
   },
   {
    "duration": 0,
    "start_time": "2023-11-14T06:34:02.945Z"
   },
   {
    "duration": 0,
    "start_time": "2023-11-14T06:34:02.946Z"
   },
   {
    "duration": 0,
    "start_time": "2023-11-14T06:34:02.948Z"
   },
   {
    "duration": 0,
    "start_time": "2023-11-14T06:34:02.949Z"
   },
   {
    "duration": 0,
    "start_time": "2023-11-14T06:34:02.951Z"
   },
   {
    "duration": 0,
    "start_time": "2023-11-14T06:34:02.953Z"
   },
   {
    "duration": 0,
    "start_time": "2023-11-14T06:34:02.954Z"
   },
   {
    "duration": 0,
    "start_time": "2023-11-14T06:34:02.956Z"
   },
   {
    "duration": 0,
    "start_time": "2023-11-14T06:34:02.957Z"
   },
   {
    "duration": 0,
    "start_time": "2023-11-14T06:34:02.959Z"
   },
   {
    "duration": 0,
    "start_time": "2023-11-14T06:34:02.960Z"
   },
   {
    "duration": 0,
    "start_time": "2023-11-14T06:34:02.961Z"
   },
   {
    "duration": 0,
    "start_time": "2023-11-14T06:34:02.962Z"
   },
   {
    "duration": 0,
    "start_time": "2023-11-14T06:34:02.964Z"
   },
   {
    "duration": 0,
    "start_time": "2023-11-14T06:34:02.965Z"
   },
   {
    "duration": 0,
    "start_time": "2023-11-14T06:34:02.966Z"
   },
   {
    "duration": 0,
    "start_time": "2023-11-14T06:34:02.967Z"
   },
   {
    "duration": 0,
    "start_time": "2023-11-14T06:34:02.968Z"
   },
   {
    "duration": 0,
    "start_time": "2023-11-14T06:34:02.969Z"
   },
   {
    "duration": 0,
    "start_time": "2023-11-14T06:34:02.970Z"
   },
   {
    "duration": 0,
    "start_time": "2023-11-14T06:34:02.971Z"
   },
   {
    "duration": 0,
    "start_time": "2023-11-14T06:34:02.972Z"
   },
   {
    "duration": 0,
    "start_time": "2023-11-14T06:34:02.973Z"
   },
   {
    "duration": 0,
    "start_time": "2023-11-14T06:34:03.031Z"
   },
   {
    "duration": 0,
    "start_time": "2023-11-14T06:34:03.033Z"
   },
   {
    "duration": 0,
    "start_time": "2023-11-14T06:34:03.034Z"
   },
   {
    "duration": 0,
    "start_time": "2023-11-14T06:34:03.036Z"
   },
   {
    "duration": 0,
    "start_time": "2023-11-14T06:34:03.037Z"
   },
   {
    "duration": 0,
    "start_time": "2023-11-14T06:34:03.039Z"
   },
   {
    "duration": 0,
    "start_time": "2023-11-14T06:34:03.041Z"
   },
   {
    "duration": 0,
    "start_time": "2023-11-14T06:34:03.042Z"
   },
   {
    "duration": 0,
    "start_time": "2023-11-14T06:34:03.044Z"
   },
   {
    "duration": 0,
    "start_time": "2023-11-14T06:34:03.045Z"
   },
   {
    "duration": 0,
    "start_time": "2023-11-14T06:34:03.047Z"
   },
   {
    "duration": 0,
    "start_time": "2023-11-14T06:34:03.048Z"
   },
   {
    "duration": 0,
    "start_time": "2023-11-14T06:34:03.050Z"
   },
   {
    "duration": 0,
    "start_time": "2023-11-14T06:34:03.051Z"
   },
   {
    "duration": 0,
    "start_time": "2023-11-14T06:34:03.053Z"
   },
   {
    "duration": 0,
    "start_time": "2023-11-14T06:34:03.054Z"
   },
   {
    "duration": 3413,
    "start_time": "2023-11-14T06:34:12.105Z"
   },
   {
    "duration": 4,
    "start_time": "2023-11-14T06:34:24.736Z"
   },
   {
    "duration": 1649,
    "start_time": "2023-11-14T06:34:24.743Z"
   },
   {
    "duration": 2960,
    "start_time": "2023-11-14T06:34:26.394Z"
   },
   {
    "duration": 151,
    "start_time": "2023-11-14T06:34:29.355Z"
   },
   {
    "duration": 39,
    "start_time": "2023-11-14T06:34:29.509Z"
   },
   {
    "duration": 478,
    "start_time": "2023-11-14T06:34:29.551Z"
   },
   {
    "duration": 551,
    "start_time": "2023-11-14T06:34:30.031Z"
   },
   {
    "duration": 280,
    "start_time": "2023-11-14T06:34:30.583Z"
   },
   {
    "duration": 3,
    "start_time": "2023-11-14T06:34:30.865Z"
   },
   {
    "duration": 4042,
    "start_time": "2023-11-14T06:34:30.870Z"
   },
   {
    "duration": 7,
    "start_time": "2023-11-14T06:34:34.914Z"
   },
   {
    "duration": 151,
    "start_time": "2023-11-14T06:34:34.930Z"
   },
   {
    "duration": 5,
    "start_time": "2023-11-14T06:34:35.082Z"
   },
   {
    "duration": 35,
    "start_time": "2023-11-14T06:34:35.091Z"
   },
   {
    "duration": 454,
    "start_time": "2023-11-14T06:34:35.128Z"
   },
   {
    "duration": 21,
    "start_time": "2023-11-14T06:34:35.584Z"
   },
   {
    "duration": 120,
    "start_time": "2023-11-14T06:34:35.606Z"
   },
   {
    "duration": 456,
    "start_time": "2023-11-14T06:34:35.732Z"
   },
   {
    "duration": 8,
    "start_time": "2023-11-14T06:34:36.190Z"
   },
   {
    "duration": 410,
    "start_time": "2023-11-14T06:34:36.200Z"
   },
   {
    "duration": 70,
    "start_time": "2023-11-14T06:34:36.612Z"
   },
   {
    "duration": 395,
    "start_time": "2023-11-14T06:34:36.683Z"
   },
   {
    "duration": 428,
    "start_time": "2023-11-14T06:34:37.080Z"
   },
   {
    "duration": 23,
    "start_time": "2023-11-14T06:34:37.509Z"
   },
   {
    "duration": 67,
    "start_time": "2023-11-14T06:34:37.535Z"
   },
   {
    "duration": 50,
    "start_time": "2023-11-14T06:34:37.604Z"
   },
   {
    "duration": 20,
    "start_time": "2023-11-14T06:34:37.656Z"
   },
   {
    "duration": 28,
    "start_time": "2023-11-14T06:34:37.678Z"
   },
   {
    "duration": 53,
    "start_time": "2023-11-14T06:34:37.707Z"
   },
   {
    "duration": 96,
    "start_time": "2023-11-14T06:34:37.761Z"
   },
   {
    "duration": 17,
    "start_time": "2023-11-14T06:34:37.859Z"
   },
   {
    "duration": 53,
    "start_time": "2023-11-14T06:34:37.877Z"
   },
   {
    "duration": 30,
    "start_time": "2023-11-14T06:34:37.932Z"
   },
   {
    "duration": 58,
    "start_time": "2023-11-14T06:34:37.964Z"
   },
   {
    "duration": 379,
    "start_time": "2023-11-14T06:34:38.023Z"
   },
   {
    "duration": 396,
    "start_time": "2023-11-14T06:34:38.404Z"
   },
   {
    "duration": 8,
    "start_time": "2023-11-14T06:34:38.802Z"
   },
   {
    "duration": 44,
    "start_time": "2023-11-14T06:34:38.812Z"
   },
   {
    "duration": 31,
    "start_time": "2023-11-14T06:34:38.857Z"
   },
   {
    "duration": 54,
    "start_time": "2023-11-14T06:34:38.889Z"
   },
   {
    "duration": 30,
    "start_time": "2023-11-14T06:34:38.948Z"
   },
   {
    "duration": 29,
    "start_time": "2023-11-14T06:34:38.980Z"
   },
   {
    "duration": 80,
    "start_time": "2023-11-14T06:34:39.011Z"
   },
   {
    "duration": 42,
    "start_time": "2023-11-14T06:34:39.092Z"
   },
   {
    "duration": 96,
    "start_time": "2023-11-14T06:34:39.136Z"
   },
   {
    "duration": 203,
    "start_time": "2023-11-14T06:34:39.233Z"
   },
   {
    "duration": 16,
    "start_time": "2023-11-14T06:34:39.438Z"
   },
   {
    "duration": 50,
    "start_time": "2023-11-14T06:34:39.456Z"
   },
   {
    "duration": 8,
    "start_time": "2023-11-14T06:34:39.508Z"
   },
   {
    "duration": 374,
    "start_time": "2023-11-14T06:34:39.518Z"
   },
   {
    "duration": 452,
    "start_time": "2023-11-14T06:34:39.893Z"
   },
   {
    "duration": 356,
    "start_time": "2023-11-14T06:34:40.347Z"
   },
   {
    "duration": 5,
    "start_time": "2023-11-14T06:34:40.704Z"
   },
   {
    "duration": 12,
    "start_time": "2023-11-14T06:34:40.710Z"
   },
   {
    "duration": 9,
    "start_time": "2023-11-14T06:34:40.723Z"
   },
   {
    "duration": 524813,
    "start_time": "2023-11-14T06:34:40.734Z"
   },
   {
    "duration": 453422,
    "start_time": "2023-11-14T06:43:25.549Z"
   },
   {
    "duration": 53128,
    "start_time": "2023-11-14T06:50:58.972Z"
   },
   {
    "duration": 335342,
    "start_time": "2023-11-14T06:51:52.102Z"
   },
   {
    "duration": 11110,
    "start_time": "2023-11-14T06:57:27.445Z"
   },
   {
    "duration": 2,
    "start_time": "2023-11-14T06:57:38.557Z"
   },
   {
    "duration": 14,
    "start_time": "2023-11-14T06:57:38.560Z"
   },
   {
    "duration": 2,
    "start_time": "2023-11-14T07:01:42.657Z"
   },
   {
    "duration": 1066801,
    "start_time": "2023-11-14T07:04:34.657Z"
   },
   {
    "duration": 3,
    "start_time": "2023-11-14T08:07:25.718Z"
   },
   {
    "duration": 1643,
    "start_time": "2023-11-14T08:07:25.723Z"
   },
   {
    "duration": 952,
    "start_time": "2023-11-14T08:07:27.367Z"
   },
   {
    "duration": 188,
    "start_time": "2023-11-14T08:07:28.322Z"
   },
   {
    "duration": 46,
    "start_time": "2023-11-14T08:07:28.512Z"
   },
   {
    "duration": 571,
    "start_time": "2023-11-14T08:07:28.560Z"
   },
   {
    "duration": 634,
    "start_time": "2023-11-14T08:07:29.134Z"
   },
   {
    "duration": 290,
    "start_time": "2023-11-14T08:07:29.770Z"
   },
   {
    "duration": 4,
    "start_time": "2023-11-14T08:07:30.061Z"
   },
   {
    "duration": 4052,
    "start_time": "2023-11-14T08:07:30.067Z"
   },
   {
    "duration": 9,
    "start_time": "2023-11-14T08:07:34.121Z"
   },
   {
    "duration": 150,
    "start_time": "2023-11-14T08:07:34.132Z"
   },
   {
    "duration": 5,
    "start_time": "2023-11-14T08:07:34.284Z"
   },
   {
    "duration": 20,
    "start_time": "2023-11-14T08:07:34.290Z"
   },
   {
    "duration": 499,
    "start_time": "2023-11-14T08:07:34.311Z"
   },
   {
    "duration": 35,
    "start_time": "2023-11-14T08:07:34.812Z"
   },
   {
    "duration": 131,
    "start_time": "2023-11-14T08:07:34.849Z"
   },
   {
    "duration": 510,
    "start_time": "2023-11-14T08:07:34.981Z"
   },
   {
    "duration": 9,
    "start_time": "2023-11-14T08:07:35.493Z"
   },
   {
    "duration": 412,
    "start_time": "2023-11-14T08:07:35.504Z"
   },
   {
    "duration": 80,
    "start_time": "2023-11-14T08:07:35.918Z"
   },
   {
    "duration": 428,
    "start_time": "2023-11-14T08:07:35.999Z"
   },
   {
    "duration": 456,
    "start_time": "2023-11-14T08:07:36.428Z"
   },
   {
    "duration": 16,
    "start_time": "2023-11-14T08:07:36.886Z"
   },
   {
    "duration": 55,
    "start_time": "2023-11-14T08:07:36.904Z"
   },
   {
    "duration": 47,
    "start_time": "2023-11-14T08:07:36.961Z"
   },
   {
    "duration": 29,
    "start_time": "2023-11-14T08:07:37.010Z"
   },
   {
    "duration": 30,
    "start_time": "2023-11-14T08:07:37.051Z"
   },
   {
    "duration": 34,
    "start_time": "2023-11-14T08:07:37.082Z"
   },
   {
    "duration": 107,
    "start_time": "2023-11-14T08:07:37.117Z"
   },
   {
    "duration": 34,
    "start_time": "2023-11-14T08:07:37.226Z"
   },
   {
    "duration": 97,
    "start_time": "2023-11-14T08:07:37.262Z"
   },
   {
    "duration": 19,
    "start_time": "2023-11-14T08:07:37.362Z"
   },
   {
    "duration": 62,
    "start_time": "2023-11-14T08:07:37.382Z"
   },
   {
    "duration": 461,
    "start_time": "2023-11-14T08:07:37.448Z"
   },
   {
    "duration": 449,
    "start_time": "2023-11-14T08:07:37.911Z"
   },
   {
    "duration": 7,
    "start_time": "2023-11-14T08:07:38.361Z"
   },
   {
    "duration": 90,
    "start_time": "2023-11-14T08:07:38.369Z"
   },
   {
    "duration": 68,
    "start_time": "2023-11-14T08:07:38.460Z"
   },
   {
    "duration": 66,
    "start_time": "2023-11-14T08:07:38.529Z"
   },
   {
    "duration": 55,
    "start_time": "2023-11-14T08:07:38.596Z"
   },
   {
    "duration": 66,
    "start_time": "2023-11-14T08:07:38.653Z"
   },
   {
    "duration": 118,
    "start_time": "2023-11-14T08:07:38.721Z"
   },
   {
    "duration": 66,
    "start_time": "2023-11-14T08:07:38.840Z"
   },
   {
    "duration": 109,
    "start_time": "2023-11-14T08:07:38.907Z"
   },
   {
    "duration": 215,
    "start_time": "2023-11-14T08:07:39.017Z"
   },
   {
    "duration": 25,
    "start_time": "2023-11-14T08:07:39.234Z"
   },
   {
    "duration": 175,
    "start_time": "2023-11-14T08:07:39.261Z"
   },
   {
    "duration": 16,
    "start_time": "2023-11-14T08:07:39.438Z"
   },
   {
    "duration": 297,
    "start_time": "2023-11-14T08:07:39.457Z"
   },
   {
    "duration": 388,
    "start_time": "2023-11-14T08:07:39.760Z"
   },
   {
    "duration": 324,
    "start_time": "2023-11-14T08:07:40.150Z"
   },
   {
    "duration": 4,
    "start_time": "2023-11-14T08:07:40.475Z"
   },
   {
    "duration": 54,
    "start_time": "2023-11-14T08:07:40.481Z"
   },
   {
    "duration": 59,
    "start_time": "2023-11-14T08:07:40.537Z"
   },
   {
    "duration": 559335,
    "start_time": "2023-11-14T08:07:40.597Z"
   },
   {
    "duration": 428131,
    "start_time": "2023-11-14T08:16:59.935Z"
   },
   {
    "duration": 51807,
    "start_time": "2023-11-14T08:24:08.067Z"
   },
   {
    "duration": 345520,
    "start_time": "2023-11-14T08:24:59.876Z"
   },
   {
    "duration": 3,
    "start_time": "2023-11-14T08:30:45.398Z"
   },
   {
    "duration": 19,
    "start_time": "2023-11-14T08:30:45.402Z"
   },
   {
    "duration": 17,
    "start_time": "2023-11-14T08:30:45.423Z"
   },
   {
    "duration": 11,
    "start_time": "2023-11-14T08:30:45.442Z"
   },
   {
    "duration": 133,
    "start_time": "2023-11-14T08:30:45.456Z"
   },
   {
    "duration": 5,
    "start_time": "2023-11-14T08:31:54.130Z"
   },
   {
    "duration": 6,
    "start_time": "2023-11-14T08:31:59.340Z"
   },
   {
    "duration": 5,
    "start_time": "2023-11-14T08:32:03.850Z"
   },
   {
    "duration": 4,
    "start_time": "2023-11-14T08:32:08.921Z"
   },
   {
    "duration": 3,
    "start_time": "2023-11-14T08:32:14.986Z"
   },
   {
    "duration": 4,
    "start_time": "2023-11-14T08:32:23.793Z"
   },
   {
    "duration": 4,
    "start_time": "2023-11-14T08:32:40.554Z"
   },
   {
    "duration": 12,
    "start_time": "2023-11-14T08:32:47.642Z"
   },
   {
    "duration": 21,
    "start_time": "2023-11-14T08:33:02.850Z"
   },
   {
    "duration": 17,
    "start_time": "2023-11-14T08:33:15.736Z"
   },
   {
    "duration": 4,
    "start_time": "2023-11-14T08:34:42.897Z"
   },
   {
    "duration": 7,
    "start_time": "2023-11-14T08:34:52.393Z"
   },
   {
    "duration": 11,
    "start_time": "2023-11-14T08:35:13.659Z"
   },
   {
    "duration": 11,
    "start_time": "2023-11-14T08:35:44.646Z"
   },
   {
    "duration": 5,
    "start_time": "2023-11-14T08:40:40.383Z"
   },
   {
    "duration": 1730,
    "start_time": "2023-11-14T08:40:40.390Z"
   },
   {
    "duration": 996,
    "start_time": "2023-11-14T08:40:42.121Z"
   },
   {
    "duration": 172,
    "start_time": "2023-11-14T08:40:43.119Z"
   },
   {
    "duration": 41,
    "start_time": "2023-11-14T08:40:43.293Z"
   },
   {
    "duration": 564,
    "start_time": "2023-11-14T08:40:43.336Z"
   },
   {
    "duration": 568,
    "start_time": "2023-11-14T08:40:43.902Z"
   },
   {
    "duration": 281,
    "start_time": "2023-11-14T08:40:44.472Z"
   },
   {
    "duration": 4,
    "start_time": "2023-11-14T08:40:44.755Z"
   },
   {
    "duration": 3957,
    "start_time": "2023-11-14T08:40:44.762Z"
   },
   {
    "duration": 6,
    "start_time": "2023-11-14T08:40:48.721Z"
   },
   {
    "duration": 149,
    "start_time": "2023-11-14T08:40:48.731Z"
   },
   {
    "duration": 5,
    "start_time": "2023-11-14T08:40:48.882Z"
   },
   {
    "duration": 10,
    "start_time": "2023-11-14T08:40:48.889Z"
   },
   {
    "duration": 455,
    "start_time": "2023-11-14T08:40:48.900Z"
   },
   {
    "duration": 20,
    "start_time": "2023-11-14T08:40:49.357Z"
   },
   {
    "duration": 126,
    "start_time": "2023-11-14T08:40:49.379Z"
   },
   {
    "duration": 520,
    "start_time": "2023-11-14T08:40:49.507Z"
   },
   {
    "duration": 12,
    "start_time": "2023-11-14T08:40:50.030Z"
   },
   {
    "duration": 363,
    "start_time": "2023-11-14T08:40:50.046Z"
   },
   {
    "duration": 74,
    "start_time": "2023-11-14T08:40:50.410Z"
   },
   {
    "duration": 416,
    "start_time": "2023-11-14T08:40:50.486Z"
   },
   {
    "duration": 430,
    "start_time": "2023-11-14T08:40:50.903Z"
   },
   {
    "duration": 28,
    "start_time": "2023-11-14T08:40:51.335Z"
   },
   {
    "duration": 67,
    "start_time": "2023-11-14T08:40:51.364Z"
   },
   {
    "duration": 47,
    "start_time": "2023-11-14T08:40:51.433Z"
   },
   {
    "duration": 17,
    "start_time": "2023-11-14T08:40:51.482Z"
   },
   {
    "duration": 30,
    "start_time": "2023-11-14T08:40:51.503Z"
   },
   {
    "duration": 37,
    "start_time": "2023-11-14T08:40:51.535Z"
   },
   {
    "duration": 85,
    "start_time": "2023-11-14T08:40:51.574Z"
   },
   {
    "duration": 15,
    "start_time": "2023-11-14T08:40:51.661Z"
   },
   {
    "duration": 42,
    "start_time": "2023-11-14T08:40:51.678Z"
   },
   {
    "duration": 20,
    "start_time": "2023-11-14T08:40:51.722Z"
   },
   {
    "duration": 63,
    "start_time": "2023-11-14T08:40:51.743Z"
   },
   {
    "duration": 398,
    "start_time": "2023-11-14T08:40:51.807Z"
   },
   {
    "duration": 404,
    "start_time": "2023-11-14T08:40:52.207Z"
   },
   {
    "duration": 6,
    "start_time": "2023-11-14T08:40:52.613Z"
   },
   {
    "duration": 47,
    "start_time": "2023-11-14T08:40:52.630Z"
   },
   {
    "duration": 19,
    "start_time": "2023-11-14T08:40:52.679Z"
   },
   {
    "duration": 86,
    "start_time": "2023-11-14T08:40:52.700Z"
   },
   {
    "duration": 29,
    "start_time": "2023-11-14T08:40:52.787Z"
   },
   {
    "duration": 37,
    "start_time": "2023-11-14T08:40:52.818Z"
   },
   {
    "duration": 108,
    "start_time": "2023-11-14T08:40:52.858Z"
   },
   {
    "duration": 37,
    "start_time": "2023-11-14T08:40:52.967Z"
   },
   {
    "duration": 106,
    "start_time": "2023-11-14T08:40:53.005Z"
   },
   {
    "duration": 210,
    "start_time": "2023-11-14T08:40:53.113Z"
   },
   {
    "duration": 19,
    "start_time": "2023-11-14T08:40:53.325Z"
   },
   {
    "duration": 161,
    "start_time": "2023-11-14T08:40:53.345Z"
   },
   {
    "duration": 12,
    "start_time": "2023-11-14T08:40:53.508Z"
   },
   {
    "duration": 298,
    "start_time": "2023-11-14T08:40:53.521Z"
   },
   {
    "duration": 394,
    "start_time": "2023-11-14T08:40:53.821Z"
   },
   {
    "duration": 343,
    "start_time": "2023-11-14T08:40:54.216Z"
   },
   {
    "duration": 3,
    "start_time": "2023-11-14T08:40:54.561Z"
   },
   {
    "duration": 39,
    "start_time": "2023-11-14T08:40:54.566Z"
   },
   {
    "duration": 46,
    "start_time": "2023-11-14T08:40:54.607Z"
   },
   {
    "duration": 526377,
    "start_time": "2023-11-14T08:40:54.655Z"
   },
   {
    "duration": 434053,
    "start_time": "2023-11-14T08:49:41.033Z"
   },
   {
    "duration": 52310,
    "start_time": "2023-11-14T08:56:55.087Z"
   },
   {
    "duration": 350433,
    "start_time": "2023-11-14T08:57:47.399Z"
   },
   {
    "duration": 4,
    "start_time": "2023-11-14T09:03:37.835Z"
   },
   {
    "duration": 16,
    "start_time": "2023-11-14T09:03:37.843Z"
   },
   {
    "duration": 716697,
    "start_time": "2023-11-14T09:03:37.860Z"
   },
   {
    "duration": 2,
    "start_time": "2023-11-14T09:15:34.559Z"
   },
   {
    "duration": 72,
    "start_time": "2023-11-14T09:15:34.563Z"
   },
   {
    "duration": 15,
    "start_time": "2023-11-14T09:15:34.638Z"
   },
   {
    "duration": 277094,
    "start_time": "2023-11-14T09:22:50.138Z"
   },
   {
    "duration": 11,
    "start_time": "2023-11-14T09:29:26.224Z"
   },
   {
    "duration": 4,
    "start_time": "2023-11-14T09:31:32.649Z"
   },
   {
    "duration": 10,
    "start_time": "2023-11-14T09:38:50.205Z"
   },
   {
    "duration": 11168056,
    "start_time": "2023-11-14T09:41:41.632Z"
   },
   {
    "duration": 6,
    "start_time": "2023-11-14T16:33:38.260Z"
   },
   {
    "duration": 7183,
    "start_time": "2023-11-14T16:33:38.268Z"
   },
   {
    "duration": 0,
    "start_time": "2023-11-14T16:33:45.455Z"
   },
   {
    "duration": 0,
    "start_time": "2023-11-14T16:33:45.456Z"
   },
   {
    "duration": 0,
    "start_time": "2023-11-14T16:33:45.458Z"
   },
   {
    "duration": 0,
    "start_time": "2023-11-14T16:33:45.460Z"
   },
   {
    "duration": 0,
    "start_time": "2023-11-14T16:33:45.461Z"
   },
   {
    "duration": 0,
    "start_time": "2023-11-14T16:33:45.462Z"
   },
   {
    "duration": 0,
    "start_time": "2023-11-14T16:33:45.464Z"
   },
   {
    "duration": 0,
    "start_time": "2023-11-14T16:33:45.465Z"
   },
   {
    "duration": 0,
    "start_time": "2023-11-14T16:33:45.466Z"
   },
   {
    "duration": 0,
    "start_time": "2023-11-14T16:33:45.468Z"
   },
   {
    "duration": 0,
    "start_time": "2023-11-14T16:33:45.469Z"
   },
   {
    "duration": 0,
    "start_time": "2023-11-14T16:33:45.470Z"
   },
   {
    "duration": 0,
    "start_time": "2023-11-14T16:33:45.472Z"
   },
   {
    "duration": 0,
    "start_time": "2023-11-14T16:33:45.473Z"
   },
   {
    "duration": 0,
    "start_time": "2023-11-14T16:33:45.474Z"
   },
   {
    "duration": 0,
    "start_time": "2023-11-14T16:33:45.475Z"
   },
   {
    "duration": 0,
    "start_time": "2023-11-14T16:33:45.476Z"
   },
   {
    "duration": 0,
    "start_time": "2023-11-14T16:33:45.478Z"
   },
   {
    "duration": 0,
    "start_time": "2023-11-14T16:33:45.479Z"
   },
   {
    "duration": 0,
    "start_time": "2023-11-14T16:33:45.480Z"
   },
   {
    "duration": 0,
    "start_time": "2023-11-14T16:33:45.482Z"
   },
   {
    "duration": 0,
    "start_time": "2023-11-14T16:33:45.498Z"
   },
   {
    "duration": 0,
    "start_time": "2023-11-14T16:33:45.500Z"
   },
   {
    "duration": 0,
    "start_time": "2023-11-14T16:33:45.502Z"
   },
   {
    "duration": 0,
    "start_time": "2023-11-14T16:33:45.503Z"
   },
   {
    "duration": 0,
    "start_time": "2023-11-14T16:33:45.508Z"
   },
   {
    "duration": 0,
    "start_time": "2023-11-14T16:33:45.510Z"
   },
   {
    "duration": 0,
    "start_time": "2023-11-14T16:33:45.511Z"
   },
   {
    "duration": 0,
    "start_time": "2023-11-14T16:33:45.512Z"
   },
   {
    "duration": 0,
    "start_time": "2023-11-14T16:33:45.514Z"
   },
   {
    "duration": 0,
    "start_time": "2023-11-14T16:33:45.515Z"
   },
   {
    "duration": 0,
    "start_time": "2023-11-14T16:33:45.516Z"
   },
   {
    "duration": 0,
    "start_time": "2023-11-14T16:33:45.517Z"
   },
   {
    "duration": 0,
    "start_time": "2023-11-14T16:33:45.518Z"
   },
   {
    "duration": 0,
    "start_time": "2023-11-14T16:33:45.519Z"
   },
   {
    "duration": 0,
    "start_time": "2023-11-14T16:33:45.521Z"
   },
   {
    "duration": 0,
    "start_time": "2023-11-14T16:33:45.522Z"
   },
   {
    "duration": 0,
    "start_time": "2023-11-14T16:33:45.523Z"
   },
   {
    "duration": 0,
    "start_time": "2023-11-14T16:33:45.524Z"
   },
   {
    "duration": 0,
    "start_time": "2023-11-14T16:33:45.525Z"
   },
   {
    "duration": 0,
    "start_time": "2023-11-14T16:33:45.527Z"
   },
   {
    "duration": 0,
    "start_time": "2023-11-14T16:33:45.528Z"
   },
   {
    "duration": 0,
    "start_time": "2023-11-14T16:33:45.530Z"
   },
   {
    "duration": 0,
    "start_time": "2023-11-14T16:33:45.531Z"
   },
   {
    "duration": 0,
    "start_time": "2023-11-14T16:33:45.533Z"
   },
   {
    "duration": 0,
    "start_time": "2023-11-14T16:33:45.534Z"
   },
   {
    "duration": 0,
    "start_time": "2023-11-14T16:33:45.536Z"
   },
   {
    "duration": 0,
    "start_time": "2023-11-14T16:33:45.537Z"
   },
   {
    "duration": 0,
    "start_time": "2023-11-14T16:33:45.538Z"
   },
   {
    "duration": 0,
    "start_time": "2023-11-14T16:33:45.539Z"
   },
   {
    "duration": 4347,
    "start_time": "2023-11-14T16:35:35.544Z"
   },
   {
    "duration": 3632,
    "start_time": "2023-11-14T16:35:39.894Z"
   },
   {
    "duration": 3632,
    "start_time": "2023-11-14T16:35:43.529Z"
   },
   {
    "duration": 271,
    "start_time": "2023-11-14T16:35:47.164Z"
   },
   {
    "duration": 44,
    "start_time": "2023-11-14T16:35:47.450Z"
   },
   {
    "duration": 849,
    "start_time": "2023-11-14T16:35:47.498Z"
   },
   {
    "duration": 920,
    "start_time": "2023-11-14T16:35:48.349Z"
   },
   {
    "duration": 519,
    "start_time": "2023-11-14T16:35:49.272Z"
   },
   {
    "duration": 11,
    "start_time": "2023-11-14T16:35:49.796Z"
   },
   {
    "duration": 6521,
    "start_time": "2023-11-14T16:35:49.809Z"
   },
   {
    "duration": 7,
    "start_time": "2023-11-14T16:35:56.333Z"
   },
   {
    "duration": 232,
    "start_time": "2023-11-14T16:35:56.343Z"
   },
   {
    "duration": 6,
    "start_time": "2023-11-14T16:35:56.577Z"
   },
   {
    "duration": 25,
    "start_time": "2023-11-14T16:35:56.599Z"
   },
   {
    "duration": 510,
    "start_time": "2023-11-14T16:35:56.626Z"
   },
   {
    "duration": 23,
    "start_time": "2023-11-14T16:35:57.137Z"
   },
   {
    "duration": 183,
    "start_time": "2023-11-14T16:35:57.162Z"
   },
   {
    "duration": 582,
    "start_time": "2023-11-14T16:35:57.347Z"
   },
   {
    "duration": 9,
    "start_time": "2023-11-14T16:35:57.931Z"
   },
   {
    "duration": 514,
    "start_time": "2023-11-14T16:35:57.942Z"
   },
   {
    "duration": 121,
    "start_time": "2023-11-14T16:35:58.458Z"
   },
   {
    "duration": 545,
    "start_time": "2023-11-14T16:35:58.582Z"
   },
   {
    "duration": 470,
    "start_time": "2023-11-14T16:35:59.129Z"
   },
   {
    "duration": 29,
    "start_time": "2023-11-14T16:35:59.609Z"
   },
   {
    "duration": 79,
    "start_time": "2023-11-14T16:35:59.640Z"
   },
   {
    "duration": 86,
    "start_time": "2023-11-14T16:35:59.721Z"
   },
   {
    "duration": 30,
    "start_time": "2023-11-14T16:35:59.809Z"
   },
   {
    "duration": 41,
    "start_time": "2023-11-14T16:35:59.843Z"
   },
   {
    "duration": 63,
    "start_time": "2023-11-14T16:35:59.886Z"
   },
   {
    "duration": 137,
    "start_time": "2023-11-14T16:35:59.951Z"
   },
   {
    "duration": 49,
    "start_time": "2023-11-14T16:36:00.090Z"
   },
   {
    "duration": 63,
    "start_time": "2023-11-14T16:36:00.145Z"
   },
   {
    "duration": 30,
    "start_time": "2023-11-14T16:36:00.210Z"
   },
   {
    "duration": 110,
    "start_time": "2023-11-14T16:36:00.242Z"
   },
   {
    "duration": 568,
    "start_time": "2023-11-14T16:36:00.354Z"
   },
   {
    "duration": 474,
    "start_time": "2023-11-14T16:36:00.924Z"
   },
   {
    "duration": 19,
    "start_time": "2023-11-14T16:36:01.404Z"
   },
   {
    "duration": 70,
    "start_time": "2023-11-14T16:36:01.425Z"
   },
   {
    "duration": 53,
    "start_time": "2023-11-14T16:36:01.498Z"
   },
   {
    "duration": 87,
    "start_time": "2023-11-14T16:36:01.554Z"
   },
   {
    "duration": 39,
    "start_time": "2023-11-14T16:36:01.647Z"
   },
   {
    "duration": 91,
    "start_time": "2023-11-14T16:36:01.688Z"
   },
   {
    "duration": 109,
    "start_time": "2023-11-14T16:36:01.781Z"
   },
   {
    "duration": 53,
    "start_time": "2023-11-14T16:36:01.892Z"
   },
   {
    "duration": 141,
    "start_time": "2023-11-14T16:36:01.947Z"
   },
   {
    "duration": 234,
    "start_time": "2023-11-14T16:36:02.091Z"
   },
   {
    "duration": 16,
    "start_time": "2023-11-14T16:36:02.326Z"
   },
   {
    "duration": 66,
    "start_time": "2023-11-14T16:36:02.344Z"
   },
   {
    "duration": 11,
    "start_time": "2023-11-14T16:36:02.412Z"
   },
   {
    "duration": 437,
    "start_time": "2023-11-14T16:36:02.425Z"
   },
   {
    "duration": 473,
    "start_time": "2023-11-14T16:36:02.864Z"
   },
   {
    "duration": 434,
    "start_time": "2023-11-14T16:36:03.339Z"
   },
   {
    "duration": 253,
    "start_time": "2023-11-14T16:36:37.382Z"
   },
   {
    "duration": 6,
    "start_time": "2023-11-14T16:36:47.468Z"
   },
   {
    "duration": 9,
    "start_time": "2023-11-14T16:36:48.680Z"
   },
   {
    "duration": 4,
    "start_time": "2023-11-14T16:36:51.617Z"
   },
   {
    "duration": 7933,
    "start_time": "2023-11-14T16:36:55.376Z"
   },
   {
    "duration": 3485,
    "start_time": "2023-11-14T19:54:36.066Z"
   },
   {
    "duration": 1921,
    "start_time": "2023-11-14T19:54:40.747Z"
   },
   {
    "duration": 1292,
    "start_time": "2023-11-14T19:54:44.653Z"
   },
   {
    "duration": 174,
    "start_time": "2023-11-14T19:54:45.947Z"
   },
   {
    "duration": 26,
    "start_time": "2023-11-14T19:54:47.273Z"
   },
   {
    "duration": 631,
    "start_time": "2023-11-14T19:54:49.275Z"
   },
   {
    "duration": 607,
    "start_time": "2023-11-14T19:54:50.968Z"
   },
   {
    "duration": 321,
    "start_time": "2023-11-14T19:54:52.429Z"
   },
   {
    "duration": 3,
    "start_time": "2023-11-14T19:54:54.779Z"
   },
   {
    "duration": 4629,
    "start_time": "2023-11-14T19:54:56.212Z"
   },
   {
    "duration": 7,
    "start_time": "2023-11-14T19:55:03.855Z"
   },
   {
    "duration": 6,
    "start_time": "2023-11-14T19:55:39.978Z"
   },
   {
    "duration": 9,
    "start_time": "2023-11-14T19:55:42.191Z"
   },
   {
    "duration": 580,
    "start_time": "2023-11-14T19:55:43.662Z"
   },
   {
    "duration": 33,
    "start_time": "2023-11-14T19:55:47.111Z"
   },
   {
    "duration": 259,
    "start_time": "2023-11-14T19:55:48.394Z"
   },
   {
    "duration": 533,
    "start_time": "2023-11-14T19:55:58.040Z"
   },
   {
    "duration": 10,
    "start_time": "2023-11-14T19:56:02.822Z"
   },
   {
    "duration": 431,
    "start_time": "2023-11-14T19:56:04.731Z"
   },
   {
    "duration": 78,
    "start_time": "2023-11-14T19:56:08.483Z"
   },
   {
    "duration": 491,
    "start_time": "2023-11-14T19:56:09.084Z"
   },
   {
    "duration": 478,
    "start_time": "2023-11-14T19:56:25.723Z"
   },
   {
    "duration": 18,
    "start_time": "2023-11-14T19:56:35.934Z"
   },
   {
    "duration": 62,
    "start_time": "2023-11-14T19:56:41.709Z"
   },
   {
    "duration": 154,
    "start_time": "2023-11-14T19:56:47.894Z"
   },
   {
    "duration": 59,
    "start_time": "2023-11-14T19:56:55.608Z"
   },
   {
    "duration": 19,
    "start_time": "2023-11-14T19:56:59.470Z"
   },
   {
    "duration": 17,
    "start_time": "2023-11-14T19:57:06.928Z"
   },
   {
    "duration": 18,
    "start_time": "2023-11-14T19:57:10.780Z"
   },
   {
    "duration": 78,
    "start_time": "2023-11-14T19:57:23.149Z"
   },
   {
    "duration": 26,
    "start_time": "2023-11-14T19:57:30.609Z"
   },
   {
    "duration": 54,
    "start_time": "2023-11-14T19:57:34.137Z"
   },
   {
    "duration": 17,
    "start_time": "2023-11-14T19:57:40.149Z"
   },
   {
    "duration": 50,
    "start_time": "2023-11-14T19:57:47.236Z"
   },
   {
    "duration": 464,
    "start_time": "2023-11-14T19:57:50.397Z"
   },
   {
    "duration": 515,
    "start_time": "2023-11-14T19:57:57.241Z"
   },
   {
    "duration": 7,
    "start_time": "2023-11-14T19:58:03.089Z"
   },
   {
    "duration": 31,
    "start_time": "2023-11-14T19:58:09.294Z"
   },
   {
    "duration": 17,
    "start_time": "2023-11-14T19:58:12.865Z"
   },
   {
    "duration": 51,
    "start_time": "2023-11-14T19:58:18.608Z"
   },
   {
    "duration": 38,
    "start_time": "2023-11-14T19:58:22.068Z"
   },
   {
    "duration": 16,
    "start_time": "2023-11-14T19:58:25.676Z"
   },
   {
    "duration": 66,
    "start_time": "2023-11-14T19:59:14.132Z"
   },
   {
    "duration": 407,
    "start_time": "2023-11-14T19:59:17.687Z"
   },
   {
    "duration": 92,
    "start_time": "2023-11-14T19:59:54.976Z"
   },
   {
    "duration": 99,
    "start_time": "2023-11-14T19:59:57.336Z"
   },
   {
    "duration": 252,
    "start_time": "2023-11-14T19:59:58.810Z"
   },
   {
    "duration": 15,
    "start_time": "2023-11-14T20:00:00.446Z"
   },
   {
    "duration": 45,
    "start_time": "2023-11-14T20:00:10.121Z"
   },
   {
    "duration": 10,
    "start_time": "2023-11-14T20:00:14.138Z"
   },
   {
    "duration": 62,
    "start_time": "2023-11-14T20:00:14.724Z"
   },
   {
    "duration": 1646,
    "start_time": "2023-11-14T20:04:13.209Z"
   },
   {
    "duration": 1132,
    "start_time": "2023-11-14T20:04:16.740Z"
   },
   {
    "duration": 193,
    "start_time": "2023-11-14T20:04:17.874Z"
   },
   {
    "duration": 26,
    "start_time": "2023-11-14T20:04:18.753Z"
   },
   {
    "duration": 6,
    "start_time": "2023-11-14T20:04:20.897Z"
   },
   {
    "duration": 654,
    "start_time": "2023-11-14T20:04:34.786Z"
   },
   {
    "duration": 3522,
    "start_time": "2023-11-15T06:33:37.586Z"
   },
   {
    "duration": 1884,
    "start_time": "2023-11-15T06:35:03.043Z"
   },
   {
    "duration": 1052,
    "start_time": "2023-11-15T06:35:21.505Z"
   },
   {
    "duration": 133,
    "start_time": "2023-11-15T06:35:22.558Z"
   },
   {
    "duration": 23,
    "start_time": "2023-11-15T06:35:24.744Z"
   },
   {
    "duration": 483,
    "start_time": "2023-11-15T06:35:28.026Z"
   },
   {
    "duration": 519,
    "start_time": "2023-11-15T06:35:30.546Z"
   },
   {
    "duration": 245,
    "start_time": "2023-11-15T06:35:32.706Z"
   },
   {
    "duration": 3,
    "start_time": "2023-11-15T06:35:43.801Z"
   },
   {
    "duration": 3282,
    "start_time": "2023-11-15T06:35:44.955Z"
   },
   {
    "duration": 6,
    "start_time": "2023-11-15T06:35:58.826Z"
   },
   {
    "duration": 4,
    "start_time": "2023-11-15T06:36:04.234Z"
   },
   {
    "duration": 13,
    "start_time": "2023-11-15T06:36:05.912Z"
   },
   {
    "duration": 490,
    "start_time": "2023-11-15T06:36:07.522Z"
   },
   {
    "duration": 4,
    "start_time": "2023-11-15T06:49:10.464Z"
   },
   {
    "duration": 1348,
    "start_time": "2023-11-15T06:49:10.920Z"
   },
   {
    "duration": 819,
    "start_time": "2023-11-15T06:49:12.328Z"
   },
   {
    "duration": 143,
    "start_time": "2023-11-15T06:49:13.149Z"
   },
   {
    "duration": 27,
    "start_time": "2023-11-15T06:49:13.294Z"
   },
   {
    "duration": 485,
    "start_time": "2023-11-15T06:49:13.324Z"
   },
   {
    "duration": 507,
    "start_time": "2023-11-15T06:49:13.811Z"
   },
   {
    "duration": 263,
    "start_time": "2023-11-15T06:49:14.319Z"
   },
   {
    "duration": 3,
    "start_time": "2023-11-15T06:49:14.585Z"
   },
   {
    "duration": 3371,
    "start_time": "2023-11-15T06:49:14.589Z"
   },
   {
    "duration": 6,
    "start_time": "2023-11-15T06:49:17.966Z"
   },
   {
    "duration": 8,
    "start_time": "2023-11-15T06:49:17.974Z"
   },
   {
    "duration": 11,
    "start_time": "2023-11-15T06:49:17.984Z"
   },
   {
    "duration": 478,
    "start_time": "2023-11-15T06:49:17.997Z"
   },
   {
    "duration": 22,
    "start_time": "2023-11-15T06:49:24.256Z"
   },
   {
    "duration": 192,
    "start_time": "2023-11-15T06:49:24.743Z"
   },
   {
    "duration": 457,
    "start_time": "2023-11-15T06:50:05.911Z"
   },
   {
    "duration": 8,
    "start_time": "2023-11-15T06:50:08.823Z"
   },
   {
    "duration": 355,
    "start_time": "2023-11-15T06:50:09.727Z"
   },
   {
    "duration": 52,
    "start_time": "2023-11-15T06:50:13.215Z"
   },
   {
    "duration": 417,
    "start_time": "2023-11-15T06:50:13.543Z"
   },
   {
    "duration": 402,
    "start_time": "2023-11-15T06:50:16.823Z"
   },
   {
    "duration": 15,
    "start_time": "2023-11-15T06:50:20.072Z"
   },
   {
    "duration": 59,
    "start_time": "2023-11-15T06:50:20.567Z"
   },
   {
    "duration": 43,
    "start_time": "2023-11-15T06:50:21.519Z"
   },
   {
    "duration": 17,
    "start_time": "2023-11-15T06:50:23.504Z"
   },
   {
    "duration": 16,
    "start_time": "2023-11-15T06:50:23.895Z"
   },
   {
    "duration": 15,
    "start_time": "2023-11-15T06:50:24.759Z"
   },
   {
    "duration": 62,
    "start_time": "2023-11-15T06:50:25.543Z"
   },
   {
    "duration": 16,
    "start_time": "2023-11-15T06:50:27.414Z"
   },
   {
    "duration": 46,
    "start_time": "2023-11-15T06:50:27.999Z"
   },
   {
    "duration": 16,
    "start_time": "2023-11-15T06:50:28.615Z"
   },
   {
    "duration": 39,
    "start_time": "2023-11-15T06:50:30.128Z"
   },
   {
    "duration": 375,
    "start_time": "2023-11-15T06:50:31.295Z"
   },
   {
    "duration": 422,
    "start_time": "2023-11-15T06:50:33.191Z"
   },
   {
    "duration": 6,
    "start_time": "2023-11-15T06:50:35.327Z"
   },
   {
    "duration": 27,
    "start_time": "2023-11-15T06:50:38.139Z"
   },
   {
    "duration": 14,
    "start_time": "2023-11-15T06:50:38.519Z"
   },
   {
    "duration": 37,
    "start_time": "2023-11-15T06:50:40.135Z"
   },
   {
    "duration": 28,
    "start_time": "2023-11-15T06:50:41.998Z"
   },
   {
    "duration": 13,
    "start_time": "2023-11-15T06:50:44.320Z"
   },
   {
    "duration": 76,
    "start_time": "2023-11-15T06:50:47.823Z"
   },
   {
    "duration": 67,
    "start_time": "2023-11-15T06:50:50.127Z"
   },
   {
    "duration": 101,
    "start_time": "2023-11-15T06:50:59.455Z"
   },
   {
    "duration": 191,
    "start_time": "2023-11-15T06:51:01.048Z"
   },
   {
    "duration": 15,
    "start_time": "2023-11-15T06:51:02.888Z"
   },
   {
    "duration": 41,
    "start_time": "2023-11-15T06:51:03.663Z"
   },
   {
    "duration": 117,
    "start_time": "2023-11-15T07:21:12.609Z"
   },
   {
    "duration": 2998,
    "start_time": "2023-11-15T07:21:36.697Z"
   },
   {
    "duration": 365,
    "start_time": "2023-11-15T07:21:43.689Z"
   },
   {
    "duration": 302,
    "start_time": "2023-11-15T07:21:50.323Z"
   },
   {
    "duration": 16599,
    "start_time": "2023-11-15T07:21:57.538Z"
   },
   {
    "duration": 16227,
    "start_time": "2023-11-15T07:38:49.589Z"
   },
   {
    "duration": 18,
    "start_time": "2023-11-15T07:39:12.486Z"
   },
   {
    "duration": 466,
    "start_time": "2023-11-15T07:40:52.822Z"
   },
   {
    "duration": 398,
    "start_time": "2023-11-15T07:41:05.624Z"
   },
   {
    "duration": 893,
    "start_time": "2023-11-15T08:01:07.739Z"
   },
   {
    "duration": 978,
    "start_time": "2023-11-15T08:01:15.850Z"
   },
   {
    "duration": 847,
    "start_time": "2023-11-15T08:02:38.873Z"
   },
   {
    "duration": 868,
    "start_time": "2023-11-15T08:03:32.825Z"
   },
   {
    "duration": 865,
    "start_time": "2023-11-15T08:03:39.168Z"
   },
   {
    "duration": 15,
    "start_time": "2023-11-15T08:03:52.329Z"
   },
   {
    "duration": 851,
    "start_time": "2023-11-15T08:10:31.240Z"
   },
   {
    "duration": 943,
    "start_time": "2023-11-15T08:11:00.463Z"
   },
   {
    "duration": 891,
    "start_time": "2023-11-15T08:11:33.842Z"
   },
   {
    "duration": 928,
    "start_time": "2023-11-15T08:11:42.146Z"
   },
   {
    "duration": 928,
    "start_time": "2023-11-15T08:12:51.079Z"
   },
   {
    "duration": 961,
    "start_time": "2023-11-15T08:16:06.599Z"
   },
   {
    "duration": 987,
    "start_time": "2023-11-15T08:16:15.999Z"
   },
   {
    "duration": 1085,
    "start_time": "2023-11-15T08:16:26.622Z"
   },
   {
    "duration": 933,
    "start_time": "2023-11-15T08:16:32.263Z"
   },
   {
    "duration": 883,
    "start_time": "2023-11-15T08:16:41.031Z"
   },
   {
    "duration": 956,
    "start_time": "2023-11-15T08:19:55.287Z"
   },
   {
    "duration": 898,
    "start_time": "2023-11-15T08:20:34.718Z"
   },
   {
    "duration": 1005,
    "start_time": "2023-11-15T08:20:51.998Z"
   },
   {
    "duration": 929,
    "start_time": "2023-11-15T08:21:12.063Z"
   },
   {
    "duration": 959,
    "start_time": "2023-11-15T08:21:15.870Z"
   },
   {
    "duration": 905,
    "start_time": "2023-11-15T08:21:20.684Z"
   },
   {
    "duration": 922,
    "start_time": "2023-11-15T08:22:01.047Z"
   },
   {
    "duration": 905,
    "start_time": "2023-11-15T08:23:13.454Z"
   },
   {
    "duration": 1049,
    "start_time": "2023-11-15T08:23:21.862Z"
   },
   {
    "duration": 914,
    "start_time": "2023-11-15T08:23:49.975Z"
   },
   {
    "duration": 918,
    "start_time": "2023-11-15T08:24:04.854Z"
   },
   {
    "duration": 872,
    "start_time": "2023-11-15T08:24:34.598Z"
   },
   {
    "duration": 11,
    "start_time": "2023-11-15T08:44:31.691Z"
   },
   {
    "duration": 63,
    "start_time": "2023-11-15T08:44:32.667Z"
   },
   {
    "duration": 3,
    "start_time": "2023-11-15T08:44:35.371Z"
   },
   {
    "duration": 45,
    "start_time": "2023-11-15T08:44:36.363Z"
   },
   {
    "duration": 156,
    "start_time": "2023-11-15T08:44:46.805Z"
   },
   {
    "duration": 16,
    "start_time": "2023-11-15T08:44:57.995Z"
   },
   {
    "duration": 834,
    "start_time": "2023-11-15T08:45:55.188Z"
   },
   {
    "duration": 21,
    "start_time": "2023-11-15T08:46:26.916Z"
   },
   {
    "duration": 4,
    "start_time": "2023-11-15T08:47:40.700Z"
   },
   {
    "duration": 9,
    "start_time": "2023-11-15T08:47:58.387Z"
   },
   {
    "duration": 7,
    "start_time": "2023-11-15T08:48:17.651Z"
   },
   {
    "duration": 17,
    "start_time": "2023-11-15T08:48:29.146Z"
   },
   {
    "duration": 12,
    "start_time": "2023-11-15T08:48:34.594Z"
   },
   {
    "duration": 15,
    "start_time": "2023-11-15T08:48:40.490Z"
   },
   {
    "duration": 7,
    "start_time": "2023-11-15T08:48:45.259Z"
   },
   {
    "duration": 157,
    "start_time": "2023-11-15T08:49:15.027Z"
   },
   {
    "duration": 10,
    "start_time": "2023-11-15T08:49:16.147Z"
   },
   {
    "duration": 7,
    "start_time": "2023-11-15T08:49:16.858Z"
   },
   {
    "duration": 19,
    "start_time": "2023-11-15T08:49:21.088Z"
   },
   {
    "duration": 16,
    "start_time": "2023-11-15T08:49:22.658Z"
   },
   {
    "duration": 34,
    "start_time": "2023-11-15T08:49:31.570Z"
   },
   {
    "duration": 18,
    "start_time": "2023-11-15T08:49:42.667Z"
   },
   {
    "duration": 229,
    "start_time": "2023-11-15T08:56:18.997Z"
   },
   {
    "duration": 12,
    "start_time": "2023-11-15T08:57:06.897Z"
   },
   {
    "duration": 11,
    "start_time": "2023-11-15T08:57:17.415Z"
   },
   {
    "duration": 12,
    "start_time": "2023-11-15T08:57:27.801Z"
   },
   {
    "duration": 242,
    "start_time": "2023-11-15T08:57:45.129Z"
   },
   {
    "duration": 57,
    "start_time": "2023-11-15T08:59:59.576Z"
   },
   {
    "duration": 193,
    "start_time": "2023-11-15T09:00:05.266Z"
   },
   {
    "duration": 269,
    "start_time": "2023-11-15T09:04:25.072Z"
   },
   {
    "duration": 23,
    "start_time": "2023-11-15T09:04:35.649Z"
   },
   {
    "duration": 18,
    "start_time": "2023-11-15T09:04:41.598Z"
   },
   {
    "duration": 17,
    "start_time": "2023-11-15T09:04:45.208Z"
   },
   {
    "duration": 4,
    "start_time": "2023-11-15T09:04:57.896Z"
   },
   {
    "duration": 9,
    "start_time": "2023-11-15T09:05:52.775Z"
   },
   {
    "duration": 4,
    "start_time": "2023-11-15T09:05:56.448Z"
   },
   {
    "duration": 144,
    "start_time": "2023-11-15T09:05:57.753Z"
   },
   {
    "duration": 16,
    "start_time": "2023-11-15T09:06:07.615Z"
   },
   {
    "duration": 1766,
    "start_time": "2023-11-15T09:09:45.215Z"
   },
   {
    "duration": 808,
    "start_time": "2023-11-15T09:09:48.952Z"
   },
   {
    "duration": 147,
    "start_time": "2023-11-15T09:09:49.762Z"
   },
   {
    "duration": 28,
    "start_time": "2023-11-15T09:09:49.910Z"
   },
   {
    "duration": 460,
    "start_time": "2023-11-15T09:09:50.135Z"
   },
   {
    "duration": 509,
    "start_time": "2023-11-15T09:09:50.643Z"
   },
   {
    "duration": 254,
    "start_time": "2023-11-15T09:09:51.154Z"
   },
   {
    "duration": 3,
    "start_time": "2023-11-15T09:09:51.410Z"
   },
   {
    "duration": 3359,
    "start_time": "2023-11-15T09:09:51.510Z"
   },
   {
    "duration": 6,
    "start_time": "2023-11-15T09:09:54.871Z"
   },
   {
    "duration": 14,
    "start_time": "2023-11-15T09:09:54.878Z"
   },
   {
    "duration": 40,
    "start_time": "2023-11-15T09:09:54.894Z"
   },
   {
    "duration": 470,
    "start_time": "2023-11-15T09:09:54.935Z"
   },
   {
    "duration": 24,
    "start_time": "2023-11-15T09:09:55.407Z"
   },
   {
    "duration": 180,
    "start_time": "2023-11-15T09:09:55.433Z"
   },
   {
    "duration": 399,
    "start_time": "2023-11-15T09:09:55.615Z"
   },
   {
    "duration": 7,
    "start_time": "2023-11-15T09:09:56.016Z"
   },
   {
    "duration": 370,
    "start_time": "2023-11-15T09:09:56.025Z"
   },
   {
    "duration": 68,
    "start_time": "2023-11-15T09:09:56.397Z"
   },
   {
    "duration": 425,
    "start_time": "2023-11-15T09:09:56.502Z"
   },
   {
    "duration": 560,
    "start_time": "2023-11-15T09:09:57.125Z"
   },
   {
    "duration": 16,
    "start_time": "2023-11-15T09:09:57.782Z"
   },
   {
    "duration": 51,
    "start_time": "2023-11-15T09:09:58.230Z"
   },
   {
    "duration": 60,
    "start_time": "2023-11-15T09:09:58.678Z"
   },
   {
    "duration": 18,
    "start_time": "2023-11-15T09:09:59.342Z"
   },
   {
    "duration": 16,
    "start_time": "2023-11-15T09:09:59.591Z"
   },
   {
    "duration": 16,
    "start_time": "2023-11-15T09:09:59.998Z"
   },
   {
    "duration": 62,
    "start_time": "2023-11-15T09:10:00.478Z"
   },
   {
    "duration": 15,
    "start_time": "2023-11-15T09:10:01.150Z"
   },
   {
    "duration": 48,
    "start_time": "2023-11-15T09:10:01.599Z"
   },
   {
    "duration": 14,
    "start_time": "2023-11-15T09:10:02.062Z"
   },
   {
    "duration": 40,
    "start_time": "2023-11-15T09:10:02.526Z"
   },
   {
    "duration": 380,
    "start_time": "2023-11-15T09:10:03.294Z"
   },
   {
    "duration": 419,
    "start_time": "2023-11-15T09:10:04.126Z"
   },
   {
    "duration": 6,
    "start_time": "2023-11-15T09:10:04.942Z"
   },
   {
    "duration": 26,
    "start_time": "2023-11-15T09:10:06.157Z"
   },
   {
    "duration": 14,
    "start_time": "2023-11-15T09:10:06.384Z"
   },
   {
    "duration": 37,
    "start_time": "2023-11-15T09:10:06.982Z"
   },
   {
    "duration": 30,
    "start_time": "2023-11-15T09:10:07.815Z"
   },
   {
    "duration": 14,
    "start_time": "2023-11-15T09:10:08.431Z"
   },
   {
    "duration": 67,
    "start_time": "2023-11-15T09:10:10.678Z"
   },
   {
    "duration": 85,
    "start_time": "2023-11-15T09:10:11.494Z"
   },
   {
    "duration": 120,
    "start_time": "2023-11-15T09:10:12.525Z"
   },
   {
    "duration": 184,
    "start_time": "2023-11-15T09:10:13.157Z"
   },
   {
    "duration": 15,
    "start_time": "2023-11-15T09:10:13.934Z"
   },
   {
    "duration": 39,
    "start_time": "2023-11-15T09:10:14.430Z"
   },
   {
    "duration": 17123,
    "start_time": "2023-11-15T09:10:15.719Z"
   },
   {
    "duration": 967,
    "start_time": "2023-11-15T09:10:32.844Z"
   },
   {
    "duration": 11,
    "start_time": "2023-11-15T09:10:40.943Z"
   },
   {
    "duration": 59,
    "start_time": "2023-11-15T09:10:42.134Z"
   },
   {
    "duration": 166,
    "start_time": "2023-11-15T09:10:43.406Z"
   },
   {
    "duration": 51,
    "start_time": "2023-11-15T09:13:14.230Z"
   },
   {
    "duration": 3,
    "start_time": "2023-11-15T09:13:28.206Z"
   },
   {
    "duration": 773,
    "start_time": "2023-11-15T09:13:29.694Z"
   },
   {
    "duration": 220,
    "start_time": "2023-11-15T09:13:56.190Z"
   },
   {
    "duration": 537,
    "start_time": "2023-11-15T09:14:01.231Z"
   },
   {
    "duration": 36,
    "start_time": "2023-11-15T09:15:08.182Z"
   },
   {
    "duration": 50,
    "start_time": "2023-11-15T09:15:12.237Z"
   },
   {
    "duration": 3,
    "start_time": "2023-11-15T09:16:09.629Z"
   },
   {
    "duration": 541,
    "start_time": "2023-11-15T09:16:10.758Z"
   },
   {
    "duration": 52,
    "start_time": "2023-11-15T09:19:43.669Z"
   },
   {
    "duration": 60,
    "start_time": "2023-11-15T09:19:44.788Z"
   },
   {
    "duration": 3,
    "start_time": "2023-11-15T09:19:45.358Z"
   },
   {
    "duration": 222,
    "start_time": "2023-11-15T09:19:46.373Z"
   },
   {
    "duration": 8,
    "start_time": "2023-11-15T09:22:48.415Z"
   },
   {
    "duration": 70,
    "start_time": "2023-11-15T09:31:55.770Z"
   },
   {
    "duration": 92,
    "start_time": "2023-11-15T09:32:06.275Z"
   },
   {
    "duration": 4,
    "start_time": "2023-11-15T09:32:11.066Z"
   },
   {
    "duration": 548,
    "start_time": "2023-11-15T09:32:20.653Z"
   },
   {
    "duration": 7188,
    "start_time": "2023-11-15T09:33:57.507Z"
   },
   {
    "duration": 607,
    "start_time": "2023-11-15T09:34:12.154Z"
   },
   {
    "duration": 10,
    "start_time": "2023-11-15T09:35:36.620Z"
   },
   {
    "duration": 6,
    "start_time": "2023-11-15T09:36:53.377Z"
   },
   {
    "duration": 4,
    "start_time": "2023-11-15T09:37:14.393Z"
   },
   {
    "duration": 9,
    "start_time": "2023-11-15T09:37:43.074Z"
   },
   {
    "duration": 5,
    "start_time": "2023-11-15T09:38:55.833Z"
   },
   {
    "duration": 4,
    "start_time": "2023-11-15T09:39:09.620Z"
   },
   {
    "duration": 49344,
    "start_time": "2023-11-15T09:39:11.449Z"
   },
   {
    "duration": 49,
    "start_time": "2023-11-15T09:40:10.827Z"
   },
   {
    "duration": 45,
    "start_time": "2023-11-15T09:40:16.031Z"
   },
   {
    "duration": 35,
    "start_time": "2023-11-15T09:40:19.657Z"
   },
   {
    "duration": 4,
    "start_time": "2023-11-15T10:02:27.112Z"
   },
   {
    "duration": 1708,
    "start_time": "2023-11-15T10:02:27.118Z"
   },
   {
    "duration": 880,
    "start_time": "2023-11-15T10:02:28.827Z"
   },
   {
    "duration": 147,
    "start_time": "2023-11-15T10:02:29.709Z"
   },
   {
    "duration": 30,
    "start_time": "2023-11-15T10:02:29.858Z"
   },
   {
    "duration": 495,
    "start_time": "2023-11-15T10:02:29.890Z"
   },
   {
    "duration": 548,
    "start_time": "2023-11-15T10:02:30.387Z"
   },
   {
    "duration": 271,
    "start_time": "2023-11-15T10:02:30.937Z"
   },
   {
    "duration": 3,
    "start_time": "2023-11-15T10:02:31.210Z"
   },
   {
    "duration": 3536,
    "start_time": "2023-11-15T10:02:31.217Z"
   },
   {
    "duration": 12,
    "start_time": "2023-11-15T10:02:34.755Z"
   },
   {
    "duration": 5,
    "start_time": "2023-11-15T10:02:34.769Z"
   },
   {
    "duration": 13,
    "start_time": "2023-11-15T10:02:34.776Z"
   },
   {
    "duration": 514,
    "start_time": "2023-11-15T10:02:34.790Z"
   },
   {
    "duration": 23,
    "start_time": "2023-11-15T10:02:35.305Z"
   },
   {
    "duration": 178,
    "start_time": "2023-11-15T10:02:35.330Z"
   },
   {
    "duration": 415,
    "start_time": "2023-11-15T10:02:35.510Z"
   },
   {
    "duration": 10,
    "start_time": "2023-11-15T10:02:35.927Z"
   },
   {
    "duration": 413,
    "start_time": "2023-11-15T10:02:35.938Z"
   },
   {
    "duration": 59,
    "start_time": "2023-11-15T10:02:36.352Z"
   },
   {
    "duration": 458,
    "start_time": "2023-11-15T10:02:36.413Z"
   },
   {
    "duration": 548,
    "start_time": "2023-11-15T10:02:36.872Z"
   },
   {
    "duration": 16,
    "start_time": "2023-11-15T10:02:37.422Z"
   },
   {
    "duration": 64,
    "start_time": "2023-11-15T10:02:37.440Z"
   },
   {
    "duration": 47,
    "start_time": "2023-11-15T10:02:37.506Z"
   },
   {
    "duration": 26,
    "start_time": "2023-11-15T10:02:37.554Z"
   },
   {
    "duration": 27,
    "start_time": "2023-11-15T10:02:37.581Z"
   },
   {
    "duration": 26,
    "start_time": "2023-11-15T10:02:37.612Z"
   },
   {
    "duration": 78,
    "start_time": "2023-11-15T10:02:37.640Z"
   },
   {
    "duration": 15,
    "start_time": "2023-11-15T10:02:37.720Z"
   },
   {
    "duration": 81,
    "start_time": "2023-11-15T10:02:37.737Z"
   },
   {
    "duration": 15,
    "start_time": "2023-11-15T10:02:37.820Z"
   },
   {
    "duration": 43,
    "start_time": "2023-11-15T10:02:37.837Z"
   },
   {
    "duration": 408,
    "start_time": "2023-11-15T10:02:37.882Z"
   },
   {
    "duration": 468,
    "start_time": "2023-11-15T10:02:38.292Z"
   },
   {
    "duration": 8,
    "start_time": "2023-11-15T10:02:38.762Z"
   },
   {
    "duration": 29,
    "start_time": "2023-11-15T10:02:38.771Z"
   },
   {
    "duration": 24,
    "start_time": "2023-11-15T10:02:38.802Z"
   },
   {
    "duration": 61,
    "start_time": "2023-11-15T10:02:38.828Z"
   },
   {
    "duration": 28,
    "start_time": "2023-11-15T10:02:38.890Z"
   },
   {
    "duration": 19,
    "start_time": "2023-11-15T10:02:38.920Z"
   },
   {
    "duration": 94,
    "start_time": "2023-11-15T10:02:38.941Z"
   },
   {
    "duration": 72,
    "start_time": "2023-11-15T10:02:39.037Z"
   },
   {
    "duration": 119,
    "start_time": "2023-11-15T10:02:39.111Z"
   },
   {
    "duration": 200,
    "start_time": "2023-11-15T10:02:39.232Z"
   },
   {
    "duration": 14,
    "start_time": "2023-11-15T10:02:39.434Z"
   },
   {
    "duration": 47,
    "start_time": "2023-11-15T10:02:39.450Z"
   },
   {
    "duration": 17053,
    "start_time": "2023-11-15T10:02:39.499Z"
   },
   {
    "duration": 982,
    "start_time": "2023-11-15T10:02:56.554Z"
   },
   {
    "duration": 14,
    "start_time": "2023-11-15T10:02:57.538Z"
   },
   {
    "duration": 78,
    "start_time": "2023-11-15T10:02:57.554Z"
   },
   {
    "duration": 63,
    "start_time": "2023-11-15T10:02:57.634Z"
   },
   {
    "duration": 4,
    "start_time": "2023-11-15T10:02:57.698Z"
   },
   {
    "duration": 15,
    "start_time": "2023-11-15T10:02:57.703Z"
   },
   {
    "duration": 220,
    "start_time": "2023-11-15T10:02:57.719Z"
   },
   {
    "duration": 684,
    "start_time": "2023-11-15T10:02:57.941Z"
   },
   {
    "duration": 0,
    "start_time": "2023-11-15T10:02:58.627Z"
   },
   {
    "duration": 0,
    "start_time": "2023-11-15T10:02:58.628Z"
   },
   {
    "duration": 0,
    "start_time": "2023-11-15T10:02:58.630Z"
   },
   {
    "duration": 0,
    "start_time": "2023-11-15T10:02:58.631Z"
   },
   {
    "duration": 0,
    "start_time": "2023-11-15T10:02:58.633Z"
   },
   {
    "duration": 0,
    "start_time": "2023-11-15T10:02:58.634Z"
   },
   {
    "duration": 0,
    "start_time": "2023-11-15T10:02:58.637Z"
   },
   {
    "duration": 0,
    "start_time": "2023-11-15T10:02:58.638Z"
   },
   {
    "duration": 0,
    "start_time": "2023-11-15T10:02:58.640Z"
   },
   {
    "duration": 0,
    "start_time": "2023-11-15T10:02:58.641Z"
   },
   {
    "duration": 0,
    "start_time": "2023-11-15T10:02:58.666Z"
   },
   {
    "duration": 5,
    "start_time": "2023-11-15T10:04:08.556Z"
   },
   {
    "duration": 43772,
    "start_time": "2023-11-15T10:04:09.884Z"
   },
   {
    "duration": 4,
    "start_time": "2023-11-15T10:06:51.333Z"
   },
   {
    "duration": 3,
    "start_time": "2023-11-15T10:07:45.499Z"
   },
   {
    "duration": 1563,
    "start_time": "2023-11-15T10:07:45.503Z"
   },
   {
    "duration": 801,
    "start_time": "2023-11-15T10:07:47.067Z"
   },
   {
    "duration": 143,
    "start_time": "2023-11-15T10:07:47.870Z"
   },
   {
    "duration": 23,
    "start_time": "2023-11-15T10:07:48.015Z"
   },
   {
    "duration": 465,
    "start_time": "2023-11-15T10:07:48.040Z"
   },
   {
    "duration": 509,
    "start_time": "2023-11-15T10:07:48.506Z"
   },
   {
    "duration": 256,
    "start_time": "2023-11-15T10:07:49.016Z"
   },
   {
    "duration": 3,
    "start_time": "2023-11-15T10:07:49.273Z"
   },
   {
    "duration": 3395,
    "start_time": "2023-11-15T10:07:49.277Z"
   },
   {
    "duration": 6,
    "start_time": "2023-11-15T10:07:52.673Z"
   },
   {
    "duration": 4,
    "start_time": "2023-11-15T10:07:52.681Z"
   },
   {
    "duration": 10,
    "start_time": "2023-11-15T10:07:52.689Z"
   },
   {
    "duration": 478,
    "start_time": "2023-11-15T10:07:52.701Z"
   },
   {
    "duration": 26,
    "start_time": "2023-11-15T10:07:53.181Z"
   },
   {
    "duration": 179,
    "start_time": "2023-11-15T10:07:53.209Z"
   },
   {
    "duration": 404,
    "start_time": "2023-11-15T10:07:53.390Z"
   },
   {
    "duration": 9,
    "start_time": "2023-11-15T10:07:53.796Z"
   },
   {
    "duration": 377,
    "start_time": "2023-11-15T10:07:53.806Z"
   },
   {
    "duration": 53,
    "start_time": "2023-11-15T10:07:54.184Z"
   },
   {
    "duration": 441,
    "start_time": "2023-11-15T10:07:54.239Z"
   },
   {
    "duration": 531,
    "start_time": "2023-11-15T10:07:54.682Z"
   },
   {
    "duration": 15,
    "start_time": "2023-11-15T10:07:55.215Z"
   },
   {
    "duration": 62,
    "start_time": "2023-11-15T10:07:55.231Z"
   },
   {
    "duration": 41,
    "start_time": "2023-11-15T10:07:55.295Z"
   },
   {
    "duration": 17,
    "start_time": "2023-11-15T10:07:55.338Z"
   },
   {
    "duration": 22,
    "start_time": "2023-11-15T10:07:55.357Z"
   },
   {
    "duration": 19,
    "start_time": "2023-11-15T10:07:55.380Z"
   },
   {
    "duration": 71,
    "start_time": "2023-11-15T10:07:55.401Z"
   },
   {
    "duration": 14,
    "start_time": "2023-11-15T10:07:55.474Z"
   },
   {
    "duration": 61,
    "start_time": "2023-11-15T10:07:55.489Z"
   },
   {
    "duration": 17,
    "start_time": "2023-11-15T10:07:55.551Z"
   },
   {
    "duration": 39,
    "start_time": "2023-11-15T10:07:55.570Z"
   },
   {
    "duration": 426,
    "start_time": "2023-11-15T10:07:55.611Z"
   },
   {
    "duration": 418,
    "start_time": "2023-11-15T10:07:56.039Z"
   },
   {
    "duration": 9,
    "start_time": "2023-11-15T10:07:56.459Z"
   },
   {
    "duration": 39,
    "start_time": "2023-11-15T10:07:56.469Z"
   },
   {
    "duration": 27,
    "start_time": "2023-11-15T10:07:56.510Z"
   },
   {
    "duration": 50,
    "start_time": "2023-11-15T10:07:56.538Z"
   },
   {
    "duration": 29,
    "start_time": "2023-11-15T10:07:56.592Z"
   },
   {
    "duration": 23,
    "start_time": "2023-11-15T10:07:56.622Z"
   },
   {
    "duration": 101,
    "start_time": "2023-11-15T10:07:56.647Z"
   },
   {
    "duration": 66,
    "start_time": "2023-11-15T10:07:56.750Z"
   },
   {
    "duration": 100,
    "start_time": "2023-11-15T10:07:56.818Z"
   },
   {
    "duration": 196,
    "start_time": "2023-11-15T10:07:56.920Z"
   },
   {
    "duration": 14,
    "start_time": "2023-11-15T10:07:57.118Z"
   },
   {
    "duration": 47,
    "start_time": "2023-11-15T10:07:57.134Z"
   },
   {
    "duration": 15345,
    "start_time": "2023-11-15T10:07:57.182Z"
   },
   {
    "duration": 980,
    "start_time": "2023-11-15T10:08:12.530Z"
   },
   {
    "duration": 14,
    "start_time": "2023-11-15T10:08:13.512Z"
   },
   {
    "duration": 75,
    "start_time": "2023-11-15T10:08:13.528Z"
   },
   {
    "duration": 61,
    "start_time": "2023-11-15T10:08:13.605Z"
   },
   {
    "duration": 3,
    "start_time": "2023-11-15T10:08:13.668Z"
   },
   {
    "duration": 34,
    "start_time": "2023-11-15T10:08:13.673Z"
   },
   {
    "duration": 235,
    "start_time": "2023-11-15T10:08:13.708Z"
   },
   {
    "duration": 44242,
    "start_time": "2023-11-15T10:08:13.945Z"
   },
   {
    "duration": 5,
    "start_time": "2023-11-15T10:08:58.189Z"
   },
   {
    "duration": 9,
    "start_time": "2023-11-15T10:08:58.196Z"
   },
   {
    "duration": 12,
    "start_time": "2023-11-15T10:08:58.207Z"
   },
   {
    "duration": 337645,
    "start_time": "2023-11-15T10:08:58.221Z"
   },
   {
    "duration": 21024,
    "start_time": "2023-11-15T10:14:35.868Z"
   },
   {
    "duration": 763,
    "start_time": "2023-11-15T10:14:56.893Z"
   },
   {
    "duration": 277075,
    "start_time": "2023-11-15T10:14:57.657Z"
   },
   {
    "duration": 6484,
    "start_time": "2023-11-15T10:19:34.734Z"
   },
   {
    "duration": 56,
    "start_time": "2023-11-15T10:19:41.220Z"
   },
   {
    "duration": 0,
    "start_time": "2023-11-15T10:19:41.278Z"
   },
   {
    "duration": 0,
    "start_time": "2023-11-15T10:19:41.279Z"
   },
   {
    "duration": 325827,
    "start_time": "2023-11-15T10:43:41.486Z"
   },
   {
    "duration": 41909,
    "start_time": "2023-11-15T10:49:25.373Z"
   },
   {
    "duration": 7877,
    "start_time": "2023-11-15T10:50:18.447Z"
   },
   {
    "duration": 15,
    "start_time": "2023-11-15T10:55:40.453Z"
   },
   {
    "duration": 14,
    "start_time": "2023-11-15T10:55:50.330Z"
   },
   {
    "duration": 5,
    "start_time": "2023-11-15T10:55:59.403Z"
   },
   {
    "duration": 5953,
    "start_time": "2023-11-15T10:56:54.356Z"
   },
   {
    "duration": 722884,
    "start_time": "2023-11-15T10:58:02.603Z"
   },
   {
    "duration": 12,
    "start_time": "2023-11-15T11:12:20.690Z"
   },
   {
    "duration": 15,
    "start_time": "2023-11-15T11:17:18.224Z"
   },
   {
    "duration": 4,
    "start_time": "2023-11-15T11:17:20.175Z"
   },
   {
    "duration": 5,
    "start_time": "2023-11-15T11:17:29.148Z"
   },
   {
    "duration": 14,
    "start_time": "2023-11-15T11:18:21.400Z"
   },
   {
    "duration": 12,
    "start_time": "2023-11-15T11:18:45.176Z"
   },
   {
    "duration": 10,
    "start_time": "2023-11-15T11:19:31.830Z"
   },
   {
    "duration": 14,
    "start_time": "2023-11-15T11:19:47.415Z"
   },
   {
    "duration": 6,
    "start_time": "2023-11-15T12:04:27.480Z"
   },
   {
    "duration": 5,
    "start_time": "2023-11-15T12:06:31.051Z"
   },
   {
    "duration": 3,
    "start_time": "2023-11-15T12:08:31.351Z"
   },
   {
    "duration": 5,
    "start_time": "2023-11-15T12:08:46.198Z"
   },
   {
    "duration": 3,
    "start_time": "2023-11-15T12:09:10.063Z"
   },
   {
    "duration": 6,
    "start_time": "2023-11-15T12:10:28.518Z"
   },
   {
    "duration": 41982,
    "start_time": "2023-11-15T12:10:35.534Z"
   },
   {
    "duration": 9,
    "start_time": "2023-11-15T12:14:06.606Z"
   },
   {
    "duration": 992,
    "start_time": "2023-11-15T12:16:16.278Z"
   },
   {
    "duration": 801766,
    "start_time": "2023-11-15T12:16:37.126Z"
   },
   {
    "duration": 787748,
    "start_time": "2023-11-15T12:35:32.486Z"
   },
   {
    "duration": 41,
    "start_time": "2023-11-15T13:06:31.750Z"
   },
   {
    "duration": 68,
    "start_time": "2023-11-15T13:09:45.309Z"
   },
   {
    "duration": 3140,
    "start_time": "2023-11-15T13:09:54.189Z"
   },
   {
    "duration": 98434,
    "start_time": "2023-11-15T13:10:12.398Z"
   },
   {
    "duration": 5,
    "start_time": "2023-11-15T13:11:50.834Z"
   },
   {
    "duration": 40,
    "start_time": "2023-11-15T13:11:50.841Z"
   },
   {
    "duration": 41,
    "start_time": "2023-11-15T13:12:37.727Z"
   },
   {
    "duration": 4,
    "start_time": "2023-11-15T13:19:51.595Z"
   },
   {
    "duration": 10,
    "start_time": "2023-11-15T13:19:52.644Z"
   },
   {
    "duration": 43193,
    "start_time": "2023-11-15T13:20:00.047Z"
   },
   {
    "duration": 898,
    "start_time": "2023-11-15T13:21:37.358Z"
   },
   {
    "duration": 99748,
    "start_time": "2023-11-15T13:21:54.499Z"
   },
   {
    "duration": 8,
    "start_time": "2023-11-15T13:25:34.899Z"
   },
   {
    "duration": 100114,
    "start_time": "2023-11-15T13:25:48.282Z"
   },
   {
    "duration": 11,
    "start_time": "2023-11-15T13:31:13.724Z"
   },
   {
    "duration": 754715,
    "start_time": "2023-11-15T13:31:26.860Z"
   },
   {
    "duration": 4,
    "start_time": "2023-11-15T13:44:01.576Z"
   },
   {
    "duration": 4,
    "start_time": "2023-11-15T13:45:24.523Z"
   },
   {
    "duration": 1624,
    "start_time": "2023-11-15T13:45:24.529Z"
   },
   {
    "duration": 855,
    "start_time": "2023-11-15T13:45:26.155Z"
   },
   {
    "duration": 135,
    "start_time": "2023-11-15T13:45:27.012Z"
   },
   {
    "duration": 32,
    "start_time": "2023-11-15T13:45:27.149Z"
   },
   {
    "duration": 476,
    "start_time": "2023-11-15T13:45:27.182Z"
   },
   {
    "duration": 515,
    "start_time": "2023-11-15T13:45:27.660Z"
   },
   {
    "duration": 264,
    "start_time": "2023-11-15T13:45:28.177Z"
   },
   {
    "duration": 3,
    "start_time": "2023-11-15T13:45:28.443Z"
   },
   {
    "duration": 3734,
    "start_time": "2023-11-15T13:45:28.449Z"
   },
   {
    "duration": 6,
    "start_time": "2023-11-15T13:45:32.185Z"
   },
   {
    "duration": 22,
    "start_time": "2023-11-15T13:45:32.193Z"
   },
   {
    "duration": 43,
    "start_time": "2023-11-15T13:45:32.217Z"
   },
   {
    "duration": 499,
    "start_time": "2023-11-15T13:45:32.262Z"
   },
   {
    "duration": 26,
    "start_time": "2023-11-15T13:45:32.766Z"
   },
   {
    "duration": 187,
    "start_time": "2023-11-15T13:45:32.793Z"
   },
   {
    "duration": 413,
    "start_time": "2023-11-15T13:45:32.982Z"
   },
   {
    "duration": 8,
    "start_time": "2023-11-15T13:45:33.397Z"
   },
   {
    "duration": 407,
    "start_time": "2023-11-15T13:45:33.406Z"
   },
   {
    "duration": 60,
    "start_time": "2023-11-15T13:45:33.815Z"
   },
   {
    "duration": 494,
    "start_time": "2023-11-15T13:45:33.877Z"
   },
   {
    "duration": 608,
    "start_time": "2023-11-15T13:45:34.373Z"
   },
   {
    "duration": 18,
    "start_time": "2023-11-15T13:45:34.983Z"
   },
   {
    "duration": 77,
    "start_time": "2023-11-15T13:45:35.002Z"
   },
   {
    "duration": 47,
    "start_time": "2023-11-15T13:45:35.081Z"
   },
   {
    "duration": 19,
    "start_time": "2023-11-15T13:45:35.129Z"
   },
   {
    "duration": 30,
    "start_time": "2023-11-15T13:45:35.149Z"
   },
   {
    "duration": 16,
    "start_time": "2023-11-15T13:45:35.184Z"
   },
   {
    "duration": 85,
    "start_time": "2023-11-15T13:45:35.202Z"
   },
   {
    "duration": 27,
    "start_time": "2023-11-15T13:45:35.289Z"
   },
   {
    "duration": 67,
    "start_time": "2023-11-15T13:45:35.318Z"
   },
   {
    "duration": 16,
    "start_time": "2023-11-15T13:45:35.386Z"
   },
   {
    "duration": 44,
    "start_time": "2023-11-15T13:45:35.404Z"
   },
   {
    "duration": 451,
    "start_time": "2023-11-15T13:45:35.449Z"
   },
   {
    "duration": 473,
    "start_time": "2023-11-15T13:45:35.902Z"
   },
   {
    "duration": 10,
    "start_time": "2023-11-15T13:45:36.376Z"
   },
   {
    "duration": 39,
    "start_time": "2023-11-15T13:45:36.389Z"
   },
   {
    "duration": 14,
    "start_time": "2023-11-15T13:45:36.430Z"
   },
   {
    "duration": 72,
    "start_time": "2023-11-15T13:45:36.446Z"
   },
   {
    "duration": 28,
    "start_time": "2023-11-15T13:45:36.519Z"
   },
   {
    "duration": 29,
    "start_time": "2023-11-15T13:45:36.549Z"
   },
   {
    "duration": 102,
    "start_time": "2023-11-15T13:45:36.579Z"
   },
   {
    "duration": 69,
    "start_time": "2023-11-15T13:45:36.683Z"
   },
   {
    "duration": 130,
    "start_time": "2023-11-15T13:45:36.753Z"
   },
   {
    "duration": 207,
    "start_time": "2023-11-15T13:45:36.885Z"
   },
   {
    "duration": 17,
    "start_time": "2023-11-15T13:45:37.094Z"
   },
   {
    "duration": 55,
    "start_time": "2023-11-15T13:45:37.112Z"
   },
   {
    "duration": 17408,
    "start_time": "2023-11-15T13:45:37.168Z"
   },
   {
    "duration": 966,
    "start_time": "2023-11-15T13:45:54.579Z"
   },
   {
    "duration": 25,
    "start_time": "2023-11-15T13:45:55.547Z"
   },
   {
    "duration": 71,
    "start_time": "2023-11-15T13:45:55.574Z"
   },
   {
    "duration": 68,
    "start_time": "2023-11-15T13:45:55.646Z"
   },
   {
    "duration": 4,
    "start_time": "2023-11-15T13:45:55.715Z"
   },
   {
    "duration": 12,
    "start_time": "2023-11-15T13:45:55.721Z"
   },
   {
    "duration": 252,
    "start_time": "2023-11-15T13:45:55.735Z"
   },
   {
    "duration": 45966,
    "start_time": "2023-11-15T13:45:55.988Z"
   },
   {
    "duration": 4,
    "start_time": "2023-11-15T13:46:41.955Z"
   },
   {
    "duration": 11,
    "start_time": "2023-11-15T13:46:41.965Z"
   },
   {
    "duration": 11,
    "start_time": "2023-11-15T13:46:41.977Z"
   },
   {
    "duration": 311086,
    "start_time": "2023-11-15T13:46:41.990Z"
   },
   {
    "duration": 331166,
    "start_time": "2023-11-15T13:51:53.165Z"
   },
   {
    "duration": 43872,
    "start_time": "2023-11-15T13:57:24.333Z"
   },
   {
    "duration": 3441,
    "start_time": "2023-11-15T13:58:08.207Z"
   },
   {
    "duration": 1489,
    "start_time": "2023-11-15T13:58:11.650Z"
   },
   {
    "duration": 729238,
    "start_time": "2023-11-15T13:58:13.141Z"
   },
   {
    "duration": 2,
    "start_time": "2023-11-15T14:10:22.381Z"
   },
   {
    "duration": 57,
    "start_time": "2023-11-15T14:10:22.384Z"
   },
   {
    "duration": 0,
    "start_time": "2023-11-15T14:10:22.442Z"
   },
   {
    "duration": 0,
    "start_time": "2023-11-15T14:10:22.443Z"
   },
   {
    "duration": 265215,
    "start_time": "2023-11-15T14:13:43.762Z"
   },
   {
    "duration": 97972,
    "start_time": "2023-11-15T14:18:08.978Z"
   },
   {
    "duration": 15,
    "start_time": "2023-11-15T14:19:46.952Z"
   },
   {
    "duration": 17,
    "start_time": "2023-11-15T14:19:46.969Z"
   },
   {
    "duration": 5,
    "start_time": "2023-11-15T14:19:46.988Z"
   },
   {
    "duration": 7,
    "start_time": "2023-11-15T14:21:31.770Z"
   },
   {
    "duration": 54,
    "start_time": "2023-11-15T14:27:19.002Z"
   },
   {
    "duration": 49,
    "start_time": "2023-11-15T14:27:31.920Z"
   }
  ],
  "kernelspec": {
   "display_name": "Python 3 (ipykernel)",
   "language": "python",
   "name": "python3"
  },
  "language_info": {
   "codemirror_mode": {
    "name": "ipython",
    "version": 3
   },
   "file_extension": ".py",
   "mimetype": "text/x-python",
   "name": "python",
   "nbconvert_exporter": "python",
   "pygments_lexer": "ipython3",
   "version": "3.10.5"
  },
  "toc": {
   "base_numbering": 1,
   "nav_menu": {},
   "number_sections": true,
   "sideBar": true,
   "skip_h1_title": true,
   "title_cell": "Table of Contents",
   "title_sidebar": "Contents",
   "toc_cell": false,
   "toc_position": {},
   "toc_section_display": true,
   "toc_window_display": false
  }
 },
 "nbformat": 4,
 "nbformat_minor": 4
}
