{
  "cells": [
    {
      "cell_type": "markdown",
      "metadata": {
        "toc": true,
        "id": "_BQPV7CQcO0J"
      },
      "source": [
        "<h1>Содержание<span class=\"tocSkip\"></span></h1>\n",
        "<div class=\"toc\"><ul class=\"toc-item\"><li><span><a href=\"#Загрузка-данных\" data-toc-modified-id=\"Загрузка-данных-1\"><span class=\"toc-item-num\">1&nbsp;&nbsp;</span>Загрузка данных</a></span></li><li><span><a href=\"#Умножение-матриц\" data-toc-modified-id=\"Умножение-матриц-2\"><span class=\"toc-item-num\">2&nbsp;&nbsp;</span>Умножение матриц</a></span></li><li><span><a href=\"#Алгоритм-преобразования\" data-toc-modified-id=\"Алгоритм-преобразования-3\"><span class=\"toc-item-num\">3&nbsp;&nbsp;</span>Алгоритм преобразования</a></span></li><li><span><a href=\"#Проверка-алгоритма\" data-toc-modified-id=\"Проверка-алгоритма-4\"><span class=\"toc-item-num\">4&nbsp;&nbsp;</span>Проверка алгоритма</a></span></li><li><span><a href=\"#Итоговый-вывод\" data-toc-modified-id=\"Итоговый-вывод-5\"><span class=\"toc-item-num\">5&nbsp;&nbsp;</span>Итоговый вывод</a></span></li></ul></div>"
      ]
    },
    {
      "cell_type": "markdown",
      "metadata": {
        "id": "7lZdV0cOcO0M"
      },
      "source": [
        "# Защита персональных данных клиентов"
      ]
    },
    {
      "cell_type": "markdown",
      "metadata": {
        "id": "bNQ5M1E6cO0N"
      },
      "source": [
        "Вам нужно защитить данные клиентов страховой компании «Хоть потоп». Разработайте такой метод преобразования данных, чтобы по ним было сложно восстановить персональную информацию. Обоснуйте корректность его работы.\n",
        "\n",
        "Нужно защитить данные, чтобы при преобразовании качество моделей машинного обучения не ухудшилось. Подбирать наилучшую модель не требуется."
      ]
    },
    {
      "cell_type": "code",
      "execution_count": 1,
      "metadata": {
        "id": "Wqm9NQS1cO0O"
      },
      "outputs": [],
      "source": [
        "import warnings\n",
        "\n",
        "import pandas as pd\n",
        "import numpy as np\n",
        "\n",
        "from sklearn.linear_model import LinearRegression\n",
        "from sklearn.metrics import r2_score\n",
        "from sklearn.model_selection import train_test_split\n",
        "from sklearn.pipeline import Pipeline\n",
        "from sklearn.preprocessing import StandardScaler\n",
        "\n",
        "warnings.filterwarnings('ignore')"
      ]
    },
    {
      "cell_type": "markdown",
      "metadata": {
        "id": "dzJo1er2cO0P"
      },
      "source": [
        "## Загрузка данных"
      ]
    },
    {
      "cell_type": "code",
      "execution_count": 2,
      "metadata": {
        "id": "gXsPNKOwcO0Q"
      },
      "outputs": [],
      "source": [
        "try:\n",
        "    df = pd.read_csv('/datasets/insurance.csv')\n",
        "except:\n",
        "    df = pd.read_csv('https://code.s3.yandex.net/datasets/insurance.csv')"
      ]
    },
    {
      "cell_type": "code",
      "execution_count": 3,
      "metadata": {
        "colab": {
          "base_uri": "https://localhost:8080/"
        },
        "id": "BhlJlbTBcO0Q",
        "outputId": "a25430d4-2559-48d9-f5d8-ba284c74a721"
      },
      "outputs": [
        {
          "output_type": "stream",
          "name": "stdout",
          "text": [
            "<class 'pandas.core.frame.DataFrame'>\n",
            "RangeIndex: 5000 entries, 0 to 4999\n",
            "Data columns (total 5 columns):\n",
            " #   Column             Non-Null Count  Dtype  \n",
            "---  ------             --------------  -----  \n",
            " 0   Пол                5000 non-null   int64  \n",
            " 1   Возраст            5000 non-null   float64\n",
            " 2   Зарплата           5000 non-null   float64\n",
            " 3   Члены семьи        5000 non-null   int64  \n",
            " 4   Страховые выплаты  5000 non-null   int64  \n",
            "dtypes: float64(2), int64(3)\n",
            "memory usage: 195.4 KB\n"
          ]
        }
      ],
      "source": [
        "df.info()"
      ]
    },
    {
      "cell_type": "code",
      "execution_count": 4,
      "metadata": {
        "colab": {
          "base_uri": "https://localhost:8080/",
          "height": 206
        },
        "id": "qWn_yPRCcO0S",
        "outputId": "4470caff-9675-45c3-b082-8826c3b55e35"
      },
      "outputs": [
        {
          "output_type": "execute_result",
          "data": {
            "text/plain": [
              "      Пол  Возраст  Зарплата  Члены семьи  Страховые выплаты\n",
              "4209    0     21.0   24900.0            4                  0\n",
              "1428    0     43.0   27200.0            1                  1\n",
              "2520    1     21.0   46100.0            2                  0\n",
              "3598    1     29.0   23400.0            3                  0\n",
              "3462    0     35.0   26100.0            2                  0"
            ],
            "text/html": [
              "\n",
              "  <div id=\"df-1fae60ff-321b-4208-ae42-36519b2c1c94\" class=\"colab-df-container\">\n",
              "    <div>\n",
              "<style scoped>\n",
              "    .dataframe tbody tr th:only-of-type {\n",
              "        vertical-align: middle;\n",
              "    }\n",
              "\n",
              "    .dataframe tbody tr th {\n",
              "        vertical-align: top;\n",
              "    }\n",
              "\n",
              "    .dataframe thead th {\n",
              "        text-align: right;\n",
              "    }\n",
              "</style>\n",
              "<table border=\"1\" class=\"dataframe\">\n",
              "  <thead>\n",
              "    <tr style=\"text-align: right;\">\n",
              "      <th></th>\n",
              "      <th>Пол</th>\n",
              "      <th>Возраст</th>\n",
              "      <th>Зарплата</th>\n",
              "      <th>Члены семьи</th>\n",
              "      <th>Страховые выплаты</th>\n",
              "    </tr>\n",
              "  </thead>\n",
              "  <tbody>\n",
              "    <tr>\n",
              "      <th>4209</th>\n",
              "      <td>0</td>\n",
              "      <td>21.0</td>\n",
              "      <td>24900.0</td>\n",
              "      <td>4</td>\n",
              "      <td>0</td>\n",
              "    </tr>\n",
              "    <tr>\n",
              "      <th>1428</th>\n",
              "      <td>0</td>\n",
              "      <td>43.0</td>\n",
              "      <td>27200.0</td>\n",
              "      <td>1</td>\n",
              "      <td>1</td>\n",
              "    </tr>\n",
              "    <tr>\n",
              "      <th>2520</th>\n",
              "      <td>1</td>\n",
              "      <td>21.0</td>\n",
              "      <td>46100.0</td>\n",
              "      <td>2</td>\n",
              "      <td>0</td>\n",
              "    </tr>\n",
              "    <tr>\n",
              "      <th>3598</th>\n",
              "      <td>1</td>\n",
              "      <td>29.0</td>\n",
              "      <td>23400.0</td>\n",
              "      <td>3</td>\n",
              "      <td>0</td>\n",
              "    </tr>\n",
              "    <tr>\n",
              "      <th>3462</th>\n",
              "      <td>0</td>\n",
              "      <td>35.0</td>\n",
              "      <td>26100.0</td>\n",
              "      <td>2</td>\n",
              "      <td>0</td>\n",
              "    </tr>\n",
              "  </tbody>\n",
              "</table>\n",
              "</div>\n",
              "    <div class=\"colab-df-buttons\">\n",
              "\n",
              "  <div class=\"colab-df-container\">\n",
              "    <button class=\"colab-df-convert\" onclick=\"convertToInteractive('df-1fae60ff-321b-4208-ae42-36519b2c1c94')\"\n",
              "            title=\"Convert this dataframe to an interactive table.\"\n",
              "            style=\"display:none;\">\n",
              "\n",
              "  <svg xmlns=\"http://www.w3.org/2000/svg\" height=\"24px\" viewBox=\"0 -960 960 960\">\n",
              "    <path d=\"M120-120v-720h720v720H120Zm60-500h600v-160H180v160Zm220 220h160v-160H400v160Zm0 220h160v-160H400v160ZM180-400h160v-160H180v160Zm440 0h160v-160H620v160ZM180-180h160v-160H180v160Zm440 0h160v-160H620v160Z\"/>\n",
              "  </svg>\n",
              "    </button>\n",
              "\n",
              "  <style>\n",
              "    .colab-df-container {\n",
              "      display:flex;\n",
              "      gap: 12px;\n",
              "    }\n",
              "\n",
              "    .colab-df-convert {\n",
              "      background-color: #E8F0FE;\n",
              "      border: none;\n",
              "      border-radius: 50%;\n",
              "      cursor: pointer;\n",
              "      display: none;\n",
              "      fill: #1967D2;\n",
              "      height: 32px;\n",
              "      padding: 0 0 0 0;\n",
              "      width: 32px;\n",
              "    }\n",
              "\n",
              "    .colab-df-convert:hover {\n",
              "      background-color: #E2EBFA;\n",
              "      box-shadow: 0px 1px 2px rgba(60, 64, 67, 0.3), 0px 1px 3px 1px rgba(60, 64, 67, 0.15);\n",
              "      fill: #174EA6;\n",
              "    }\n",
              "\n",
              "    .colab-df-buttons div {\n",
              "      margin-bottom: 4px;\n",
              "    }\n",
              "\n",
              "    [theme=dark] .colab-df-convert {\n",
              "      background-color: #3B4455;\n",
              "      fill: #D2E3FC;\n",
              "    }\n",
              "\n",
              "    [theme=dark] .colab-df-convert:hover {\n",
              "      background-color: #434B5C;\n",
              "      box-shadow: 0px 1px 3px 1px rgba(0, 0, 0, 0.15);\n",
              "      filter: drop-shadow(0px 1px 2px rgba(0, 0, 0, 0.3));\n",
              "      fill: #FFFFFF;\n",
              "    }\n",
              "  </style>\n",
              "\n",
              "    <script>\n",
              "      const buttonEl =\n",
              "        document.querySelector('#df-1fae60ff-321b-4208-ae42-36519b2c1c94 button.colab-df-convert');\n",
              "      buttonEl.style.display =\n",
              "        google.colab.kernel.accessAllowed ? 'block' : 'none';\n",
              "\n",
              "      async function convertToInteractive(key) {\n",
              "        const element = document.querySelector('#df-1fae60ff-321b-4208-ae42-36519b2c1c94');\n",
              "        const dataTable =\n",
              "          await google.colab.kernel.invokeFunction('convertToInteractive',\n",
              "                                                    [key], {});\n",
              "        if (!dataTable) return;\n",
              "\n",
              "        const docLinkHtml = 'Like what you see? Visit the ' +\n",
              "          '<a target=\"_blank\" href=https://colab.research.google.com/notebooks/data_table.ipynb>data table notebook</a>'\n",
              "          + ' to learn more about interactive tables.';\n",
              "        element.innerHTML = '';\n",
              "        dataTable['output_type'] = 'display_data';\n",
              "        await google.colab.output.renderOutput(dataTable, element);\n",
              "        const docLink = document.createElement('div');\n",
              "        docLink.innerHTML = docLinkHtml;\n",
              "        element.appendChild(docLink);\n",
              "      }\n",
              "    </script>\n",
              "  </div>\n",
              "\n",
              "\n",
              "<div id=\"df-835fdb19-68e0-4d1d-88ae-dfe7179aff2c\">\n",
              "  <button class=\"colab-df-quickchart\" onclick=\"quickchart('df-835fdb19-68e0-4d1d-88ae-dfe7179aff2c')\"\n",
              "            title=\"Suggest charts\"\n",
              "            style=\"display:none;\">\n",
              "\n",
              "<svg xmlns=\"http://www.w3.org/2000/svg\" height=\"24px\"viewBox=\"0 0 24 24\"\n",
              "     width=\"24px\">\n",
              "    <g>\n",
              "        <path d=\"M19 3H5c-1.1 0-2 .9-2 2v14c0 1.1.9 2 2 2h14c1.1 0 2-.9 2-2V5c0-1.1-.9-2-2-2zM9 17H7v-7h2v7zm4 0h-2V7h2v10zm4 0h-2v-4h2v4z\"/>\n",
              "    </g>\n",
              "</svg>\n",
              "  </button>\n",
              "\n",
              "<style>\n",
              "  .colab-df-quickchart {\n",
              "      --bg-color: #E8F0FE;\n",
              "      --fill-color: #1967D2;\n",
              "      --hover-bg-color: #E2EBFA;\n",
              "      --hover-fill-color: #174EA6;\n",
              "      --disabled-fill-color: #AAA;\n",
              "      --disabled-bg-color: #DDD;\n",
              "  }\n",
              "\n",
              "  [theme=dark] .colab-df-quickchart {\n",
              "      --bg-color: #3B4455;\n",
              "      --fill-color: #D2E3FC;\n",
              "      --hover-bg-color: #434B5C;\n",
              "      --hover-fill-color: #FFFFFF;\n",
              "      --disabled-bg-color: #3B4455;\n",
              "      --disabled-fill-color: #666;\n",
              "  }\n",
              "\n",
              "  .colab-df-quickchart {\n",
              "    background-color: var(--bg-color);\n",
              "    border: none;\n",
              "    border-radius: 50%;\n",
              "    cursor: pointer;\n",
              "    display: none;\n",
              "    fill: var(--fill-color);\n",
              "    height: 32px;\n",
              "    padding: 0;\n",
              "    width: 32px;\n",
              "  }\n",
              "\n",
              "  .colab-df-quickchart:hover {\n",
              "    background-color: var(--hover-bg-color);\n",
              "    box-shadow: 0 1px 2px rgba(60, 64, 67, 0.3), 0 1px 3px 1px rgba(60, 64, 67, 0.15);\n",
              "    fill: var(--button-hover-fill-color);\n",
              "  }\n",
              "\n",
              "  .colab-df-quickchart-complete:disabled,\n",
              "  .colab-df-quickchart-complete:disabled:hover {\n",
              "    background-color: var(--disabled-bg-color);\n",
              "    fill: var(--disabled-fill-color);\n",
              "    box-shadow: none;\n",
              "  }\n",
              "\n",
              "  .colab-df-spinner {\n",
              "    border: 2px solid var(--fill-color);\n",
              "    border-color: transparent;\n",
              "    border-bottom-color: var(--fill-color);\n",
              "    animation:\n",
              "      spin 1s steps(1) infinite;\n",
              "  }\n",
              "\n",
              "  @keyframes spin {\n",
              "    0% {\n",
              "      border-color: transparent;\n",
              "      border-bottom-color: var(--fill-color);\n",
              "      border-left-color: var(--fill-color);\n",
              "    }\n",
              "    20% {\n",
              "      border-color: transparent;\n",
              "      border-left-color: var(--fill-color);\n",
              "      border-top-color: var(--fill-color);\n",
              "    }\n",
              "    30% {\n",
              "      border-color: transparent;\n",
              "      border-left-color: var(--fill-color);\n",
              "      border-top-color: var(--fill-color);\n",
              "      border-right-color: var(--fill-color);\n",
              "    }\n",
              "    40% {\n",
              "      border-color: transparent;\n",
              "      border-right-color: var(--fill-color);\n",
              "      border-top-color: var(--fill-color);\n",
              "    }\n",
              "    60% {\n",
              "      border-color: transparent;\n",
              "      border-right-color: var(--fill-color);\n",
              "    }\n",
              "    80% {\n",
              "      border-color: transparent;\n",
              "      border-right-color: var(--fill-color);\n",
              "      border-bottom-color: var(--fill-color);\n",
              "    }\n",
              "    90% {\n",
              "      border-color: transparent;\n",
              "      border-bottom-color: var(--fill-color);\n",
              "    }\n",
              "  }\n",
              "</style>\n",
              "\n",
              "  <script>\n",
              "    async function quickchart(key) {\n",
              "      const quickchartButtonEl =\n",
              "        document.querySelector('#' + key + ' button');\n",
              "      quickchartButtonEl.disabled = true;  // To prevent multiple clicks.\n",
              "      quickchartButtonEl.classList.add('colab-df-spinner');\n",
              "      try {\n",
              "        const charts = await google.colab.kernel.invokeFunction(\n",
              "            'suggestCharts', [key], {});\n",
              "      } catch (error) {\n",
              "        console.error('Error during call to suggestCharts:', error);\n",
              "      }\n",
              "      quickchartButtonEl.classList.remove('colab-df-spinner');\n",
              "      quickchartButtonEl.classList.add('colab-df-quickchart-complete');\n",
              "    }\n",
              "    (() => {\n",
              "      let quickchartButtonEl =\n",
              "        document.querySelector('#df-835fdb19-68e0-4d1d-88ae-dfe7179aff2c button');\n",
              "      quickchartButtonEl.style.display =\n",
              "        google.colab.kernel.accessAllowed ? 'block' : 'none';\n",
              "    })();\n",
              "  </script>\n",
              "</div>\n",
              "    </div>\n",
              "  </div>\n"
            ]
          },
          "metadata": {},
          "execution_count": 4
        }
      ],
      "source": [
        "df.sample(5)"
      ]
    },
    {
      "cell_type": "code",
      "execution_count": 5,
      "metadata": {
        "colab": {
          "base_uri": "https://localhost:8080/",
          "height": 300
        },
        "id": "n5K42gEccO0S",
        "outputId": "8db01e62-6803-49c6-a093-384997b88161"
      },
      "outputs": [
        {
          "output_type": "execute_result",
          "data": {
            "text/plain": [
              "               Пол      Возраст      Зарплата  Члены семьи  Страховые выплаты\n",
              "count  5000.000000  5000.000000   5000.000000  5000.000000        5000.000000\n",
              "mean      0.499000    30.952800  39916.360000     1.194200           0.148000\n",
              "std       0.500049     8.440807   9900.083569     1.091387           0.463183\n",
              "min       0.000000    18.000000   5300.000000     0.000000           0.000000\n",
              "25%       0.000000    24.000000  33300.000000     0.000000           0.000000\n",
              "50%       0.000000    30.000000  40200.000000     1.000000           0.000000\n",
              "75%       1.000000    37.000000  46600.000000     2.000000           0.000000\n",
              "max       1.000000    65.000000  79000.000000     6.000000           5.000000"
            ],
            "text/html": [
              "\n",
              "  <div id=\"df-2674350d-8539-458b-b180-94b59304ee13\" class=\"colab-df-container\">\n",
              "    <div>\n",
              "<style scoped>\n",
              "    .dataframe tbody tr th:only-of-type {\n",
              "        vertical-align: middle;\n",
              "    }\n",
              "\n",
              "    .dataframe tbody tr th {\n",
              "        vertical-align: top;\n",
              "    }\n",
              "\n",
              "    .dataframe thead th {\n",
              "        text-align: right;\n",
              "    }\n",
              "</style>\n",
              "<table border=\"1\" class=\"dataframe\">\n",
              "  <thead>\n",
              "    <tr style=\"text-align: right;\">\n",
              "      <th></th>\n",
              "      <th>Пол</th>\n",
              "      <th>Возраст</th>\n",
              "      <th>Зарплата</th>\n",
              "      <th>Члены семьи</th>\n",
              "      <th>Страховые выплаты</th>\n",
              "    </tr>\n",
              "  </thead>\n",
              "  <tbody>\n",
              "    <tr>\n",
              "      <th>count</th>\n",
              "      <td>5000.000000</td>\n",
              "      <td>5000.000000</td>\n",
              "      <td>5000.000000</td>\n",
              "      <td>5000.000000</td>\n",
              "      <td>5000.000000</td>\n",
              "    </tr>\n",
              "    <tr>\n",
              "      <th>mean</th>\n",
              "      <td>0.499000</td>\n",
              "      <td>30.952800</td>\n",
              "      <td>39916.360000</td>\n",
              "      <td>1.194200</td>\n",
              "      <td>0.148000</td>\n",
              "    </tr>\n",
              "    <tr>\n",
              "      <th>std</th>\n",
              "      <td>0.500049</td>\n",
              "      <td>8.440807</td>\n",
              "      <td>9900.083569</td>\n",
              "      <td>1.091387</td>\n",
              "      <td>0.463183</td>\n",
              "    </tr>\n",
              "    <tr>\n",
              "      <th>min</th>\n",
              "      <td>0.000000</td>\n",
              "      <td>18.000000</td>\n",
              "      <td>5300.000000</td>\n",
              "      <td>0.000000</td>\n",
              "      <td>0.000000</td>\n",
              "    </tr>\n",
              "    <tr>\n",
              "      <th>25%</th>\n",
              "      <td>0.000000</td>\n",
              "      <td>24.000000</td>\n",
              "      <td>33300.000000</td>\n",
              "      <td>0.000000</td>\n",
              "      <td>0.000000</td>\n",
              "    </tr>\n",
              "    <tr>\n",
              "      <th>50%</th>\n",
              "      <td>0.000000</td>\n",
              "      <td>30.000000</td>\n",
              "      <td>40200.000000</td>\n",
              "      <td>1.000000</td>\n",
              "      <td>0.000000</td>\n",
              "    </tr>\n",
              "    <tr>\n",
              "      <th>75%</th>\n",
              "      <td>1.000000</td>\n",
              "      <td>37.000000</td>\n",
              "      <td>46600.000000</td>\n",
              "      <td>2.000000</td>\n",
              "      <td>0.000000</td>\n",
              "    </tr>\n",
              "    <tr>\n",
              "      <th>max</th>\n",
              "      <td>1.000000</td>\n",
              "      <td>65.000000</td>\n",
              "      <td>79000.000000</td>\n",
              "      <td>6.000000</td>\n",
              "      <td>5.000000</td>\n",
              "    </tr>\n",
              "  </tbody>\n",
              "</table>\n",
              "</div>\n",
              "    <div class=\"colab-df-buttons\">\n",
              "\n",
              "  <div class=\"colab-df-container\">\n",
              "    <button class=\"colab-df-convert\" onclick=\"convertToInteractive('df-2674350d-8539-458b-b180-94b59304ee13')\"\n",
              "            title=\"Convert this dataframe to an interactive table.\"\n",
              "            style=\"display:none;\">\n",
              "\n",
              "  <svg xmlns=\"http://www.w3.org/2000/svg\" height=\"24px\" viewBox=\"0 -960 960 960\">\n",
              "    <path d=\"M120-120v-720h720v720H120Zm60-500h600v-160H180v160Zm220 220h160v-160H400v160Zm0 220h160v-160H400v160ZM180-400h160v-160H180v160Zm440 0h160v-160H620v160ZM180-180h160v-160H180v160Zm440 0h160v-160H620v160Z\"/>\n",
              "  </svg>\n",
              "    </button>\n",
              "\n",
              "  <style>\n",
              "    .colab-df-container {\n",
              "      display:flex;\n",
              "      gap: 12px;\n",
              "    }\n",
              "\n",
              "    .colab-df-convert {\n",
              "      background-color: #E8F0FE;\n",
              "      border: none;\n",
              "      border-radius: 50%;\n",
              "      cursor: pointer;\n",
              "      display: none;\n",
              "      fill: #1967D2;\n",
              "      height: 32px;\n",
              "      padding: 0 0 0 0;\n",
              "      width: 32px;\n",
              "    }\n",
              "\n",
              "    .colab-df-convert:hover {\n",
              "      background-color: #E2EBFA;\n",
              "      box-shadow: 0px 1px 2px rgba(60, 64, 67, 0.3), 0px 1px 3px 1px rgba(60, 64, 67, 0.15);\n",
              "      fill: #174EA6;\n",
              "    }\n",
              "\n",
              "    .colab-df-buttons div {\n",
              "      margin-bottom: 4px;\n",
              "    }\n",
              "\n",
              "    [theme=dark] .colab-df-convert {\n",
              "      background-color: #3B4455;\n",
              "      fill: #D2E3FC;\n",
              "    }\n",
              "\n",
              "    [theme=dark] .colab-df-convert:hover {\n",
              "      background-color: #434B5C;\n",
              "      box-shadow: 0px 1px 3px 1px rgba(0, 0, 0, 0.15);\n",
              "      filter: drop-shadow(0px 1px 2px rgba(0, 0, 0, 0.3));\n",
              "      fill: #FFFFFF;\n",
              "    }\n",
              "  </style>\n",
              "\n",
              "    <script>\n",
              "      const buttonEl =\n",
              "        document.querySelector('#df-2674350d-8539-458b-b180-94b59304ee13 button.colab-df-convert');\n",
              "      buttonEl.style.display =\n",
              "        google.colab.kernel.accessAllowed ? 'block' : 'none';\n",
              "\n",
              "      async function convertToInteractive(key) {\n",
              "        const element = document.querySelector('#df-2674350d-8539-458b-b180-94b59304ee13');\n",
              "        const dataTable =\n",
              "          await google.colab.kernel.invokeFunction('convertToInteractive',\n",
              "                                                    [key], {});\n",
              "        if (!dataTable) return;\n",
              "\n",
              "        const docLinkHtml = 'Like what you see? Visit the ' +\n",
              "          '<a target=\"_blank\" href=https://colab.research.google.com/notebooks/data_table.ipynb>data table notebook</a>'\n",
              "          + ' to learn more about interactive tables.';\n",
              "        element.innerHTML = '';\n",
              "        dataTable['output_type'] = 'display_data';\n",
              "        await google.colab.output.renderOutput(dataTable, element);\n",
              "        const docLink = document.createElement('div');\n",
              "        docLink.innerHTML = docLinkHtml;\n",
              "        element.appendChild(docLink);\n",
              "      }\n",
              "    </script>\n",
              "  </div>\n",
              "\n",
              "\n",
              "<div id=\"df-c6837500-3f58-4fe5-b48c-07f5879d3b24\">\n",
              "  <button class=\"colab-df-quickchart\" onclick=\"quickchart('df-c6837500-3f58-4fe5-b48c-07f5879d3b24')\"\n",
              "            title=\"Suggest charts\"\n",
              "            style=\"display:none;\">\n",
              "\n",
              "<svg xmlns=\"http://www.w3.org/2000/svg\" height=\"24px\"viewBox=\"0 0 24 24\"\n",
              "     width=\"24px\">\n",
              "    <g>\n",
              "        <path d=\"M19 3H5c-1.1 0-2 .9-2 2v14c0 1.1.9 2 2 2h14c1.1 0 2-.9 2-2V5c0-1.1-.9-2-2-2zM9 17H7v-7h2v7zm4 0h-2V7h2v10zm4 0h-2v-4h2v4z\"/>\n",
              "    </g>\n",
              "</svg>\n",
              "  </button>\n",
              "\n",
              "<style>\n",
              "  .colab-df-quickchart {\n",
              "      --bg-color: #E8F0FE;\n",
              "      --fill-color: #1967D2;\n",
              "      --hover-bg-color: #E2EBFA;\n",
              "      --hover-fill-color: #174EA6;\n",
              "      --disabled-fill-color: #AAA;\n",
              "      --disabled-bg-color: #DDD;\n",
              "  }\n",
              "\n",
              "  [theme=dark] .colab-df-quickchart {\n",
              "      --bg-color: #3B4455;\n",
              "      --fill-color: #D2E3FC;\n",
              "      --hover-bg-color: #434B5C;\n",
              "      --hover-fill-color: #FFFFFF;\n",
              "      --disabled-bg-color: #3B4455;\n",
              "      --disabled-fill-color: #666;\n",
              "  }\n",
              "\n",
              "  .colab-df-quickchart {\n",
              "    background-color: var(--bg-color);\n",
              "    border: none;\n",
              "    border-radius: 50%;\n",
              "    cursor: pointer;\n",
              "    display: none;\n",
              "    fill: var(--fill-color);\n",
              "    height: 32px;\n",
              "    padding: 0;\n",
              "    width: 32px;\n",
              "  }\n",
              "\n",
              "  .colab-df-quickchart:hover {\n",
              "    background-color: var(--hover-bg-color);\n",
              "    box-shadow: 0 1px 2px rgba(60, 64, 67, 0.3), 0 1px 3px 1px rgba(60, 64, 67, 0.15);\n",
              "    fill: var(--button-hover-fill-color);\n",
              "  }\n",
              "\n",
              "  .colab-df-quickchart-complete:disabled,\n",
              "  .colab-df-quickchart-complete:disabled:hover {\n",
              "    background-color: var(--disabled-bg-color);\n",
              "    fill: var(--disabled-fill-color);\n",
              "    box-shadow: none;\n",
              "  }\n",
              "\n",
              "  .colab-df-spinner {\n",
              "    border: 2px solid var(--fill-color);\n",
              "    border-color: transparent;\n",
              "    border-bottom-color: var(--fill-color);\n",
              "    animation:\n",
              "      spin 1s steps(1) infinite;\n",
              "  }\n",
              "\n",
              "  @keyframes spin {\n",
              "    0% {\n",
              "      border-color: transparent;\n",
              "      border-bottom-color: var(--fill-color);\n",
              "      border-left-color: var(--fill-color);\n",
              "    }\n",
              "    20% {\n",
              "      border-color: transparent;\n",
              "      border-left-color: var(--fill-color);\n",
              "      border-top-color: var(--fill-color);\n",
              "    }\n",
              "    30% {\n",
              "      border-color: transparent;\n",
              "      border-left-color: var(--fill-color);\n",
              "      border-top-color: var(--fill-color);\n",
              "      border-right-color: var(--fill-color);\n",
              "    }\n",
              "    40% {\n",
              "      border-color: transparent;\n",
              "      border-right-color: var(--fill-color);\n",
              "      border-top-color: var(--fill-color);\n",
              "    }\n",
              "    60% {\n",
              "      border-color: transparent;\n",
              "      border-right-color: var(--fill-color);\n",
              "    }\n",
              "    80% {\n",
              "      border-color: transparent;\n",
              "      border-right-color: var(--fill-color);\n",
              "      border-bottom-color: var(--fill-color);\n",
              "    }\n",
              "    90% {\n",
              "      border-color: transparent;\n",
              "      border-bottom-color: var(--fill-color);\n",
              "    }\n",
              "  }\n",
              "</style>\n",
              "\n",
              "  <script>\n",
              "    async function quickchart(key) {\n",
              "      const quickchartButtonEl =\n",
              "        document.querySelector('#' + key + ' button');\n",
              "      quickchartButtonEl.disabled = true;  // To prevent multiple clicks.\n",
              "      quickchartButtonEl.classList.add('colab-df-spinner');\n",
              "      try {\n",
              "        const charts = await google.colab.kernel.invokeFunction(\n",
              "            'suggestCharts', [key], {});\n",
              "      } catch (error) {\n",
              "        console.error('Error during call to suggestCharts:', error);\n",
              "      }\n",
              "      quickchartButtonEl.classList.remove('colab-df-spinner');\n",
              "      quickchartButtonEl.classList.add('colab-df-quickchart-complete');\n",
              "    }\n",
              "    (() => {\n",
              "      let quickchartButtonEl =\n",
              "        document.querySelector('#df-c6837500-3f58-4fe5-b48c-07f5879d3b24 button');\n",
              "      quickchartButtonEl.style.display =\n",
              "        google.colab.kernel.accessAllowed ? 'block' : 'none';\n",
              "    })();\n",
              "  </script>\n",
              "</div>\n",
              "    </div>\n",
              "  </div>\n"
            ]
          },
          "metadata": {},
          "execution_count": 5
        }
      ],
      "source": [
        "df.describe()"
      ]
    },
    {
      "cell_type": "code",
      "execution_count": 6,
      "metadata": {
        "id": "j3i6a1k1cO0T"
      },
      "outputs": [],
      "source": [
        "def show_col(df):\n",
        "    for column in df.columns:\n",
        "        print('Уникальные значения столбца \"{}\"'.format(column))\n",
        "        print(df[column].sort_values().unique())\n",
        "        print()\n",
        "    print()\n",
        "    print('Количество пропусков в каждом столбце:')\n",
        "    print(df.isna().mean())"
      ]
    },
    {
      "cell_type": "code",
      "execution_count": 7,
      "metadata": {
        "colab": {
          "base_uri": "https://localhost:8080/"
        },
        "id": "G6VCQK_OcO0T",
        "outputId": "eeb3aea4-a931-4732-a84f-092a1c5447f4"
      },
      "outputs": [
        {
          "output_type": "stream",
          "name": "stdout",
          "text": [
            "Уникальные значения столбца \"Пол\"\n",
            "[0 1]\n",
            "\n",
            "Уникальные значения столбца \"Возраст\"\n",
            "[18. 19. 20. 21. 22. 23. 24. 25. 26. 27. 28. 29. 30. 31. 32. 33. 34. 35.\n",
            " 36. 37. 38. 39. 40. 41. 42. 43. 44. 45. 46. 47. 48. 49. 50. 51. 52. 53.\n",
            " 54. 55. 56. 57. 58. 59. 60. 61. 62. 65.]\n",
            "\n",
            "Уникальные значения столбца \"Зарплата\"\n",
            "[ 5300.  6000.  7400.  8900.  9800. 10000. 10600. 10800. 11000. 11200.\n",
            " 11300. 12200. 12900. 13000. 13200. 13300. 13400. 13500. 13800. 13900.\n",
            " 14100. 14300. 14400. 14500. 14600. 14700. 15000. 15100. 15200. 15600.\n",
            " 15700. 15900. 16000. 16200. 16300. 16400. 16500. 16600. 16700. 17000.\n",
            " 17100. 17300. 17400. 17500. 17600. 17700. 17800. 17900. 18100. 18200.\n",
            " 18300. 18400. 18600. 18700. 18800. 18900. 19000. 19100. 19200. 19300.\n",
            " 19400. 19600. 19700. 19900. 20000. 20100. 20200. 20300. 20400. 20500.\n",
            " 20600. 20700. 20800. 20900. 21000. 21100. 21200. 21300. 21400. 21500.\n",
            " 21600. 21700. 21800. 21900. 22000. 22100. 22200. 22300. 22500. 22600.\n",
            " 22700. 22800. 22900. 23000. 23100. 23200. 23300. 23400. 23500. 23600.\n",
            " 23700. 23800. 23900. 24000. 24100. 24200. 24300. 24400. 24500. 24600.\n",
            " 24700. 24800. 24900. 25000. 25100. 25200. 25300. 25400. 25500. 25600.\n",
            " 25700. 25800. 25900. 26000. 26100. 26200. 26300. 26400. 26500. 26600.\n",
            " 26700. 26800. 26900. 27000. 27100. 27200. 27300. 27400. 27500. 27600.\n",
            " 27700. 27800. 27900. 28000. 28100. 28200. 28300. 28400. 28500. 28600.\n",
            " 28700. 28800. 28900. 29000. 29100. 29200. 29300. 29400. 29500. 29600.\n",
            " 29700. 29800. 29900. 30000. 30100. 30200. 30300. 30400. 30500. 30600.\n",
            " 30700. 30800. 30900. 31000. 31100. 31200. 31300. 31400. 31500. 31600.\n",
            " 31700. 31800. 31900. 32000. 32100. 32200. 32300. 32400. 32500. 32600.\n",
            " 32700. 32800. 32900. 33000. 33100. 33200. 33300. 33400. 33500. 33600.\n",
            " 33700. 33800. 33900. 34000. 34100. 34200. 34300. 34400. 34500. 34600.\n",
            " 34700. 34800. 34900. 35000. 35100. 35200. 35300. 35400. 35500. 35600.\n",
            " 35700. 35800. 35900. 36000. 36100. 36200. 36300. 36400. 36500. 36600.\n",
            " 36700. 36800. 36900. 37000. 37100. 37200. 37300. 37400. 37500. 37600.\n",
            " 37700. 37800. 37900. 38000. 38100. 38200. 38300. 38400. 38500. 38600.\n",
            " 38700. 38800. 38900. 39000. 39100. 39200. 39300. 39400. 39500. 39600.\n",
            " 39700. 39800. 39900. 40000. 40100. 40200. 40300. 40400. 40500. 40600.\n",
            " 40700. 40800. 40900. 41000. 41100. 41200. 41300. 41400. 41500. 41600.\n",
            " 41700. 41800. 41900. 42000. 42100. 42200. 42300. 42400. 42500. 42600.\n",
            " 42700. 42800. 42900. 43000. 43100. 43200. 43300. 43400. 43500. 43600.\n",
            " 43700. 43800. 43900. 44000. 44100. 44200. 44300. 44400. 44500. 44600.\n",
            " 44700. 44800. 44900. 45000. 45100. 45200. 45300. 45400. 45500. 45600.\n",
            " 45700. 45800. 45900. 46000. 46100. 46200. 46300. 46400. 46500. 46600.\n",
            " 46700. 46800. 46900. 47000. 47100. 47200. 47300. 47400. 47500. 47600.\n",
            " 47700. 47800. 47900. 48000. 48100. 48200. 48300. 48400. 48500. 48600.\n",
            " 48700. 48800. 48900. 49000. 49100. 49200. 49300. 49400. 49500. 49600.\n",
            " 49700. 49800. 49900. 50000. 50100. 50200. 50300. 50400. 50500. 50600.\n",
            " 50700. 50800. 50900. 51000. 51100. 51200. 51300. 51400. 51500. 51600.\n",
            " 51700. 51800. 51900. 52000. 52100. 52200. 52300. 52400. 52500. 52600.\n",
            " 52700. 52800. 52900. 53000. 53100. 53200. 53300. 53400. 53500. 53600.\n",
            " 53700. 53800. 53900. 54000. 54100. 54200. 54300. 54400. 54500. 54600.\n",
            " 54700. 54800. 54900. 55000. 55100. 55200. 55300. 55400. 55500. 55600.\n",
            " 55700. 55800. 55900. 56000. 56100. 56200. 56300. 56400. 56500. 56600.\n",
            " 56700. 56800. 56900. 57000. 57100. 57200. 57300. 57400. 57500. 57600.\n",
            " 57700. 57800. 57900. 58000. 58100. 58200. 58300. 58400. 58500. 58600.\n",
            " 58700. 58800. 58900. 59000. 59100. 59200. 59300. 59500. 59600. 59700.\n",
            " 59800. 59900. 60000. 60100. 60200. 60300. 60400. 60500. 60600. 60700.\n",
            " 60900. 61000. 61200. 61300. 61400. 61500. 61700. 61800. 61900. 62000.\n",
            " 62100. 62200. 62300. 62400. 62500. 62600. 62700. 62800. 63100. 63200.\n",
            " 63300. 63400. 63500. 63600. 63700. 63800. 64000. 64100. 64400. 64800.\n",
            " 64900. 65100. 65200. 65300. 65900. 66100. 66300. 67100. 67200. 67700.\n",
            " 68000. 68400. 68500. 68900. 69200. 69400. 70000. 70500. 70600. 71400.\n",
            " 71600. 74800. 75200. 79000.]\n",
            "\n",
            "Уникальные значения столбца \"Члены семьи\"\n",
            "[0 1 2 3 4 5 6]\n",
            "\n",
            "Уникальные значения столбца \"Страховые выплаты\"\n",
            "[0 1 2 3 4 5]\n",
            "\n",
            "\n",
            "Количество пропусков в каждом столбце:\n",
            "Пол                  0.0\n",
            "Возраст              0.0\n",
            "Зарплата             0.0\n",
            "Члены семьи          0.0\n",
            "Страховые выплаты    0.0\n",
            "dtype: float64\n"
          ]
        }
      ],
      "source": [
        "show_col(df)"
      ]
    },
    {
      "cell_type": "markdown",
      "metadata": {
        "id": "rVYCIIVRcO0U"
      },
      "source": [
        "Заменим названия столбцов и изменим тип столбцов \"Возраст\" и \"Члены семьи\":"
      ]
    },
    {
      "cell_type": "code",
      "execution_count": 8,
      "metadata": {
        "id": "Mc4Fdus8cO0U"
      },
      "outputs": [],
      "source": [
        "df = df.rename(columns={'Пол': 'sex',\n",
        "                        'Возраст': 'age',\n",
        "                        'Зарплата': 'salary',\n",
        "                        'Члены семьи': 'family_members',\n",
        "                        'Страховые выплаты': 'insurance_payments'})"
      ]
    },
    {
      "cell_type": "code",
      "execution_count": 9,
      "metadata": {
        "id": "KWCh8DNQcO0V"
      },
      "outputs": [],
      "source": [
        "df['age'] = df['age'].astype(int)\n",
        "df['salary'] = df['salary'].astype(int)"
      ]
    },
    {
      "cell_type": "markdown",
      "metadata": {
        "id": "lIZWfAtPcO0V"
      },
      "source": [
        "**Вывод:** Данные загружены и не имеют аномалий."
      ]
    },
    {
      "cell_type": "markdown",
      "metadata": {
        "id": "mnQzY51PcO0V"
      },
      "source": [
        "## Умножение матриц"
      ]
    },
    {
      "cell_type": "code",
      "execution_count": 10,
      "metadata": {
        "colab": {
          "base_uri": "https://localhost:8080/"
        },
        "id": "GJx9m5nbcO0W",
        "outputId": "8af771e8-856e-4da3-82e4-d00f799c04e1"
      },
      "outputs": [
        {
          "output_type": "execute_result",
          "data": {
            "text/plain": [
              "((5000, 4), (5000,))"
            ]
          },
          "metadata": {},
          "execution_count": 10
        }
      ],
      "source": [
        "features = df.drop('insurance_payments',axis=1)\n",
        "target = df['insurance_payments']\n",
        "\n",
        "features.shape, target.shape"
      ]
    },
    {
      "cell_type": "markdown",
      "metadata": {
        "id": "gJ4XxLoPcO0W"
      },
      "source": [
        "В этом задании вы можете записывать формулы в *Jupyter Notebook.*\n",
        "\n",
        "Чтобы записать формулу внутри текста, окружите её символами доллара \\\\$; если снаружи —  двойными символами \\\\$\\\\$. Эти формулы записываются на языке вёрстки *LaTeX.*\n",
        "\n",
        "Для примера мы записали формулы линейной регрессии. Можете их скопировать и отредактировать, чтобы решить задачу.\n",
        "\n",
        "Работать в *LaTeX* необязательно."
      ]
    },
    {
      "cell_type": "markdown",
      "metadata": {
        "id": "M5T3mZSwcO0W"
      },
      "source": [
        "Обозначения:\n",
        "\n",
        "- $X$ — матрица признаков (нулевой столбец состоит из единиц)\n",
        "\n",
        "- $y$ — вектор целевого признака\n",
        "\n",
        "- $P$ — матрица, на которую умножаются признаки\n",
        "\n",
        "- $w$ — вектор весов линейной регрессии (нулевой элемент равен сдвигу)"
      ]
    },
    {
      "cell_type": "markdown",
      "metadata": {
        "id": "5rPD34jucO0X"
      },
      "source": [
        "Предсказания:\n",
        "\n",
        "$$\n",
        "a = Xw\n",
        "$$\n",
        "\n",
        "Задача обучения:\n",
        "\n",
        "$$\n",
        "w = \\arg\\min_w MSE(Xw, y)\n",
        "$$\n",
        "\n",
        "Формула обучения:\n",
        "\n",
        "$$\n",
        "w = (X^T X)^{-1} X^T y\n",
        "$$"
      ]
    },
    {
      "cell_type": "markdown",
      "metadata": {
        "id": "2-YdlKkkcO0X"
      },
      "source": [
        "**Вопрос:** Признаки умножают на обратимую матрицу. Изменится ли качество линейной регрессии?"
      ]
    },
    {
      "cell_type": "markdown",
      "metadata": {
        "id": "BjhitGy2cO0X"
      },
      "source": [
        "Проверим качество предсказания на матрице признаков $X$:"
      ]
    },
    {
      "cell_type": "code",
      "execution_count": 11,
      "metadata": {
        "colab": {
          "base_uri": "https://localhost:8080/",
          "height": 52
        },
        "id": "3LfY34mScO0X",
        "outputId": "076814af-3740-49fb-cb87-d552b3322168"
      },
      "outputs": [
        {
          "output_type": "display_data",
          "data": {
            "text/plain": [
              "array([ 7.92580563e-03,  3.57083050e-02, -1.70081903e-07, -1.35676627e-02])"
            ]
          },
          "metadata": {}
        },
        {
          "output_type": "stream",
          "name": "stdout",
          "text": [
            "R2 = 0.42494550308169177\n"
          ]
        }
      ],
      "source": [
        "X = np.concatenate((np.ones((features.shape[0], 1)), features), axis=1)\n",
        "y = target\n",
        "w = np.linalg.inv(X.T @ X) @ X.T @ y\n",
        "display(w[1:])\n",
        "\n",
        "model_X = LinearRegression()\n",
        "model_X.fit(X, y)\n",
        "print('R2 =',model_X.score(X, y))"
      ]
    },
    {
      "cell_type": "markdown",
      "metadata": {
        "id": "i7MLrgSXcO0Y"
      },
      "source": [
        "Создадим обратимую матрицу $P$ и выведем ее обратную матрицу $P^{-1}$:"
      ]
    },
    {
      "cell_type": "code",
      "execution_count": 12,
      "metadata": {
        "colab": {
          "base_uri": "https://localhost:8080/"
        },
        "id": "S7znHdD3cO0Y",
        "outputId": "42bab157-e47b-4d0c-ef8e-f9b88fad1563"
      },
      "outputs": [
        {
          "output_type": "execute_result",
          "data": {
            "text/plain": [
              "array([[-0.03522367,  0.34202184, -0.04473406,  0.18198896, -0.35423271],\n",
              "       [-0.0901726 ,  0.03557591, -0.0345192 ,  0.13255841, -0.01350241],\n",
              "       [-0.02430433, -0.17400493,  0.1391335 , -0.04109428,  0.1122461 ],\n",
              "       [ 0.06516379,  0.0172596 ,  0.03275801, -0.17001292,  0.13866385],\n",
              "       [ 0.12469179, -0.15075731, -0.06164142,  0.02242574,  0.04731713]])"
            ]
          },
          "metadata": {},
          "execution_count": 12
        }
      ],
      "source": [
        "P = np.random.randint(1, 10,(X.shape[1],X.shape[1]))\n",
        "np.linalg.inv(P)"
      ]
    },
    {
      "cell_type": "markdown",
      "metadata": {
        "id": "Oqt2sForcO0Y"
      },
      "source": [
        "Умножим матрицу $X$ на обратимую матрицу $P$ и проверим качество предсказания:"
      ]
    },
    {
      "cell_type": "code",
      "execution_count": 13,
      "metadata": {
        "colab": {
          "base_uri": "https://localhost:8080/",
          "height": 52
        },
        "id": "g0hI0YPTcO0Y",
        "outputId": "d377e2d7-791e-4204-feea-39dcd5b9df67"
      },
      "outputs": [
        {
          "output_type": "display_data",
          "data": {
            "text/plain": [
              "array([ 0.08383504,  0.02486957, -0.06171339, -0.12102719])"
            ]
          },
          "metadata": {}
        },
        {
          "output_type": "stream",
          "name": "stdout",
          "text": [
            "R2 =  0.4249455030816992\n"
          ]
        }
      ],
      "source": [
        "Z = X @ P\n",
        "w = np.linalg.inv(Z.T @ Z) @ Z.T @ y\n",
        "display(w[1:])\n",
        "\n",
        "model_Z = LinearRegression()\n",
        "model_Z.fit(Z, y)\n",
        "print('R2 = ',model_Z.score(Z, y))"
      ]
    },
    {
      "cell_type": "markdown",
      "metadata": {
        "id": "eneP11OccO0Z"
      },
      "source": [
        "**Ответ:** Не изменится.\n",
        "\n",
        "**Обоснование:**\n",
        "\n",
        "При умножении матрицы $X$ на обратимую матрицу $P$ получим новую матрицу $Z$:\n",
        "\n",
        "$$\n",
        "Z = XP\n",
        "$$\n",
        "\n",
        "Выясним чему будет равно предсказание $a_p$ и верктор весов $w_p$, используя матрицу $Z$:\n",
        "\n",
        "$$\n",
        "a_p = Zw_p\n",
        "$$\n",
        "\n",
        "$$\n",
        "w_p = (Z^TZ)^{-1}Z^Ty\n",
        "$$\n",
        "\n",
        "Заменим вектор весов $w_p$ в формуле предсказания $a_p$:\n",
        "\n",
        "$$\n",
        "a_p = Z(Z^TZ)^{-1}Z^Ty\n",
        "$$\n",
        "\n",
        "Заменим матрицу $Z$ в формуле предсказания $a_p$:\n",
        "\n",
        "$$\n",
        "a_p = XP((XP)^TXP)^{-1}(XP)^Ty\n",
        "$$\n",
        "\n",
        "Для дальнейших преобразований понадобятся следующее свойство раскрытия скобок:\n",
        "\n",
        "$$\n",
        "(ABС)^{-1} = ((AB)С)^{-1} = ((AB)С)^{-1} = С^{-1}(AB)^{-1} = С^{-1}B^{-1}A^{-1}\n",
        "$$\n",
        "\n",
        "Проведем преобразование:\n",
        "\n",
        "$$\n",
        "a_p = XP((XP)^TXP)^{-1}(XP)^Ty =\n",
        "$$\n",
        "$$\n",
        "= XPP^{-1}((XP)^TX)^{-1}(XP)^Ty\n",
        "$$\n",
        "\n",
        "Умножение обратимой матрицы $P$ на обратную матрицу $P^{-1}$ приведет к единичной матрице ($PP^{-1} = E$):\n",
        "\n",
        "$$\n",
        "a_p = XPP^{-1}((XP)^TX)^{-1}(XP)^Ty =\n",
        "$$\n",
        "$$\n",
        "= XE((XP)^TX)^{-1}(XP)^Ty\n",
        "$$\n",
        "\n",
        "Теперь воспользуемся свойством транспонированной матрицы:\n",
        "\n",
        "$$\n",
        "(AB)^T = A^TB^T\n",
        "$$\n",
        "\n",
        "Умножение матрицы $X$ на единичную матрицу $E$ вернет нам матрицу $X$ ($XE = EX = X$). Проведем преобразование:\n",
        "\n",
        "$$\n",
        "a_p = XE((XP)^TX)^{-1}(XP)^Ty =\n",
        "$$\n",
        "$$\n",
        "= X(P^TX^TX)^{-1}P^TX^Ty =\n",
        "$$\n",
        "$$\n",
        "= X(X^TX)^{-1}(P^T)^{-1}P^TX^Ty\n",
        "$$\n",
        "\n",
        "Умножение транспонированной обратимой матрицы $P^T$ на транспонированную обратную матрицу $(P^T)^{-1}$ приведет к единичной матрице ($P^T(P^T)^{-1} = E$):\n",
        "\n",
        "$$\n",
        "a_p = X(X^TX)^{-1}(P^T)^{-1}P^TX^Ty =\n",
        "$$\n",
        "$$\n",
        "= X(X^TX)^{-1}EX^Ty =\n",
        "$$\n",
        "$$\n",
        "= X(X^TX)^{-1}X^Ty =\n",
        "$$\n",
        "$$\n",
        "= Xw = a\n",
        "$$\n",
        "\n",
        "В итоге мы вернулись к предсказанию $a$. Это означает, что умножение признаков на обратимую матрицу не повлияет на качество линейной регрессии."
      ]
    },
    {
      "cell_type": "markdown",
      "metadata": {
        "id": "aWargkYTcO0a"
      },
      "source": [
        "Что касается весов линейной регрессии внашей задаче, то:\n",
        "\n",
        "$$\n",
        "w = (X^T X)^{-1} X^T y\n",
        "$$\n",
        "\n",
        "$$\n",
        "w_P = ((XP)^T XP)^{-1} (XP)^T y =\n",
        "$$\n",
        "$$\n",
        "= P^{-1}(P^TX^T X)^{-1} P^T X^T y =\n",
        "$$\n",
        "$$\n",
        "= P^{-1}(X^T X)^{-1} (P^T){-1} P^T X^T y =\n",
        "$$\n",
        "$$\n",
        "= P^{-1}(X^T X)^{-1} E X^T y =\n",
        "$$\n",
        "$$\n",
        "= P^{-1}(X^T X)^{-1} X^T y =\n",
        "$$\n",
        "$$\n",
        "= P^{-1} w\n",
        "$$\n",
        "\n",
        "Получается, что для того, чтобы зашифровать данные мы перемножаем матрицу признаков $X$ на обратимую функцию $P$, а вот веса $w$ мы умножаем уже на обратную функцию $P^{-1}$ для уравновешивания."
      ]
    },
    {
      "cell_type": "markdown",
      "metadata": {
        "id": "1p7RAKAgcO0a"
      },
      "source": [
        "## Алгоритм преобразования"
      ]
    },
    {
      "cell_type": "markdown",
      "metadata": {
        "id": "GvQ7e6oNcO0b"
      },
      "source": [
        "**Алгоритм**\n",
        "\n",
        "Для защиты персональной информации клиентов умножим матрицу признаков $X$ на обратимую матрицу $P$, которая будет генерироваться случайним образом. Матрица $P$ должна иметь необходимую размерность $nxn$, где $n$ - количество признаков в матрице $X$ (в нашем случае $n = 4$). Определитель обратимой матрицы $P$ не должен быть равен $0$, т.е матрица $P$ должна быть невырожденной. **Если полученная случайным образом матрица $P$ будет иметь определитель равный $0$, то процесс дешифровки данных будет невозможен!** Полученную матрицу $Z$ стандартизируем в процессе построения модели.\n",
        "\n",
        "$$\n",
        "\\left. X_{5000,4} =  \n",
        " \\begin{pmatrix}\n",
        "  x_{1,1} & x_{1,2} & x_{1,3} & x_{1,4} \\\\\n",
        "  x_{2,1} & x_{2,2} & x_{2,3} & x_{2,4} \\\\\n",
        "  \\vdots  & \\vdots  & \\vdots & \\vdots  \\\\\n",
        "  x_{5000,1} & x_{5000,2} & x_{5000,3} & x_{5000,4}\n",
        " \\end{pmatrix}\n",
        "\\middle.\\hspace{0.5cm}\n",
        "\t\\times\n",
        "\\middle.\\hspace{0.5cm}\n",
        "P_{4,4} =\n",
        "\\begin{pmatrix}\n",
        "  p_{1,1} & p_{1,2} & p_{1,3} & p_{1,4} \\\\\n",
        "  p_{2,1} & p_{2,2} & p_{2,3} & p_{2,4} \\\\\n",
        "  p_{3,1} & p_{3,2} & p_{3,3} & p_{3,4} \\\\\n",
        "  p_{4,1} & p_{4,2} & p_{4,3} & p_{4,4}\n",
        "\\end{pmatrix}\n",
        "\\right.\\hspace{2cm}\n",
        "detP \\neq 0\n",
        "$$"
      ]
    },
    {
      "cell_type": "markdown",
      "metadata": {
        "id": "LSomj7tYcO0b"
      },
      "source": [
        "Этапы алгоритма:\n",
        "1. Составление обратимой матрицы $P$. Если матрица необратимая повторяем п.1;\n",
        "2. Проверка определителя обратимой матрицы $P$ на его неравенство $0$. Если определитель обратимой матрицы $P$ равен $0$, возвращаемся в п.1;\n",
        "3. Перемножение матрицы признаков $X$ и обратимой матрицы $P$. Получаем матрицу $Z$, которую направляем для обучения модели."
      ]
    },
    {
      "cell_type": "markdown",
      "metadata": {
        "id": "22vVDygrcO0b"
      },
      "source": [
        "**Обоснование**\n",
        "\n",
        "Матрица $P$ должна иметь необходимую размерность $nxn$, где $n$ - количество признаков в матрице $X$ (в нашем случае $n = 4$). Таким образом матрица $Z$ будет иметь ту же размерность, что и матрица $X$. Далее направляем полученную матрицу для стандартизации и обучения модели линейной регрессии."
      ]
    },
    {
      "cell_type": "markdown",
      "metadata": {
        "id": "GkCbzNZ3cO0b"
      },
      "source": [
        "## Проверка алгоритма"
      ]
    },
    {
      "cell_type": "markdown",
      "metadata": {
        "id": "Svk3l3GVcO0c"
      },
      "source": [
        "Разделим данные на обучающую и тестовую выборки:"
      ]
    },
    {
      "cell_type": "code",
      "execution_count": 14,
      "metadata": {
        "id": "NmU3W0X1cO0c"
      },
      "outputs": [],
      "source": [
        "features_train, features_test, target_train, target_test = train_test_split(\n",
        "    features, target, test_size=0.25, random_state=15243)"
      ]
    },
    {
      "cell_type": "markdown",
      "metadata": {
        "id": "K7VCm-8bcO0c"
      },
      "source": [
        "Построим модель линейной регрессии с данными из матрицы признаков $X$. Метрику R2 данной модели будем считать за константу:"
      ]
    },
    {
      "cell_type": "code",
      "execution_count": 15,
      "metadata": {
        "colab": {
          "base_uri": "https://localhost:8080/"
        },
        "id": "vNEzqFpEcO0c",
        "outputId": "f693af94-2de8-49c0-df3a-b7f364753c46"
      },
      "outputs": [
        {
          "output_type": "stream",
          "name": "stdout",
          "text": [
            "R2 = 0.40149290547870975\n"
          ]
        }
      ],
      "source": [
        "model_X = LinearRegression()\n",
        "model_X.fit(features_train, target_train)\n",
        "R2_model_X = r2_score(target_test, model_X.predict(features_test))\n",
        "print(\"R2 =\", R2_model_X)"
      ]
    },
    {
      "cell_type": "markdown",
      "metadata": {
        "id": "3YSQj4J5cO0d"
      },
      "source": [
        "Проведем стандартизацию для матрицы признаков $X$, создадим модель и посчитаем R2:"
      ]
    },
    {
      "cell_type": "code",
      "execution_count": 16,
      "metadata": {
        "colab": {
          "base_uri": "https://localhost:8080/"
        },
        "id": "l_KFwr1XcO0e",
        "outputId": "0862631e-1efa-4e4a-8f9f-5f9d60b150cd"
      },
      "outputs": [
        {
          "output_type": "stream",
          "name": "stdout",
          "text": [
            "R2 = 0.40149290547870287\n"
          ]
        }
      ],
      "source": [
        "model_X_scaled = Pipeline([\n",
        "    ('scaler', StandardScaler()),\n",
        "    ('model', LinearRegression())\n",
        "])\n",
        "model_X_scaled.fit(features_train, target_train)\n",
        "R2_model_X_scaled = r2_score(target_test,\n",
        "                             model_X_scaled.predict(features_test))\n",
        "print(\"R2 =\", R2_model_X_scaled)"
      ]
    },
    {
      "cell_type": "markdown",
      "source": [
        "Стандартизация матрицы $X$ не изменила качество модели.\n",
        "\n",
        "Для создания обратимой матрицы $P$ и последующего умножения ее на матрицу $X$ создадим функцию:"
      ],
      "metadata": {
        "id": "jTcSwX65dy2E"
      }
    },
    {
      "cell_type": "code",
      "execution_count": 17,
      "metadata": {
        "id": "HcTWkRCCcO0i"
      },
      "outputs": [],
      "source": [
        "def encryption(X):\n",
        "    n = X.shape[1]\n",
        "    P = np.random.randint(1, 10, (n,n))\n",
        "    det_P = np.linalg.det(P)\n",
        "    while det_P == 0:\n",
        "        P = np.random.randint(1, 10, (n,n))\n",
        "        det_P = np.linalg.det(P)\n",
        "    Z = X @ P\n",
        "    return Z, P"
      ]
    },
    {
      "cell_type": "markdown",
      "metadata": {
        "id": "JbYhx197cO0i"
      },
      "source": [
        "Выведем первые 5 строк матрицы $X$, преобразуем ее в матрицу $Z$ и выведем ее, а так же выведем полученную обратимую матрицу $P$:"
      ]
    },
    {
      "cell_type": "code",
      "execution_count": 18,
      "metadata": {
        "colab": {
          "base_uri": "https://localhost:8080/",
          "height": 552
        },
        "id": "NlGujvi5cO0j",
        "outputId": "b298f749-9156-46f9-f908-ad6e17c0416a"
      },
      "outputs": [
        {
          "output_type": "stream",
          "name": "stdout",
          "text": [
            "Матрица Х:\n"
          ]
        },
        {
          "output_type": "display_data",
          "data": {
            "text/plain": [
              "   sex  age  salary  family_members\n",
              "0    1   41   49600               1\n",
              "1    0   46   38000               1\n",
              "2    0   29   21000               0\n",
              "3    0   21   41700               2\n",
              "4    1   28   26100               0"
            ],
            "text/html": [
              "\n",
              "  <div id=\"df-2a91535e-857d-40cd-9b1e-240ac458b19d\" class=\"colab-df-container\">\n",
              "    <div>\n",
              "<style scoped>\n",
              "    .dataframe tbody tr th:only-of-type {\n",
              "        vertical-align: middle;\n",
              "    }\n",
              "\n",
              "    .dataframe tbody tr th {\n",
              "        vertical-align: top;\n",
              "    }\n",
              "\n",
              "    .dataframe thead th {\n",
              "        text-align: right;\n",
              "    }\n",
              "</style>\n",
              "<table border=\"1\" class=\"dataframe\">\n",
              "  <thead>\n",
              "    <tr style=\"text-align: right;\">\n",
              "      <th></th>\n",
              "      <th>sex</th>\n",
              "      <th>age</th>\n",
              "      <th>salary</th>\n",
              "      <th>family_members</th>\n",
              "    </tr>\n",
              "  </thead>\n",
              "  <tbody>\n",
              "    <tr>\n",
              "      <th>0</th>\n",
              "      <td>1</td>\n",
              "      <td>41</td>\n",
              "      <td>49600</td>\n",
              "      <td>1</td>\n",
              "    </tr>\n",
              "    <tr>\n",
              "      <th>1</th>\n",
              "      <td>0</td>\n",
              "      <td>46</td>\n",
              "      <td>38000</td>\n",
              "      <td>1</td>\n",
              "    </tr>\n",
              "    <tr>\n",
              "      <th>2</th>\n",
              "      <td>0</td>\n",
              "      <td>29</td>\n",
              "      <td>21000</td>\n",
              "      <td>0</td>\n",
              "    </tr>\n",
              "    <tr>\n",
              "      <th>3</th>\n",
              "      <td>0</td>\n",
              "      <td>21</td>\n",
              "      <td>41700</td>\n",
              "      <td>2</td>\n",
              "    </tr>\n",
              "    <tr>\n",
              "      <th>4</th>\n",
              "      <td>1</td>\n",
              "      <td>28</td>\n",
              "      <td>26100</td>\n",
              "      <td>0</td>\n",
              "    </tr>\n",
              "  </tbody>\n",
              "</table>\n",
              "</div>\n",
              "    <div class=\"colab-df-buttons\">\n",
              "\n",
              "  <div class=\"colab-df-container\">\n",
              "    <button class=\"colab-df-convert\" onclick=\"convertToInteractive('df-2a91535e-857d-40cd-9b1e-240ac458b19d')\"\n",
              "            title=\"Convert this dataframe to an interactive table.\"\n",
              "            style=\"display:none;\">\n",
              "\n",
              "  <svg xmlns=\"http://www.w3.org/2000/svg\" height=\"24px\" viewBox=\"0 -960 960 960\">\n",
              "    <path d=\"M120-120v-720h720v720H120Zm60-500h600v-160H180v160Zm220 220h160v-160H400v160Zm0 220h160v-160H400v160ZM180-400h160v-160H180v160Zm440 0h160v-160H620v160ZM180-180h160v-160H180v160Zm440 0h160v-160H620v160Z\"/>\n",
              "  </svg>\n",
              "    </button>\n",
              "\n",
              "  <style>\n",
              "    .colab-df-container {\n",
              "      display:flex;\n",
              "      gap: 12px;\n",
              "    }\n",
              "\n",
              "    .colab-df-convert {\n",
              "      background-color: #E8F0FE;\n",
              "      border: none;\n",
              "      border-radius: 50%;\n",
              "      cursor: pointer;\n",
              "      display: none;\n",
              "      fill: #1967D2;\n",
              "      height: 32px;\n",
              "      padding: 0 0 0 0;\n",
              "      width: 32px;\n",
              "    }\n",
              "\n",
              "    .colab-df-convert:hover {\n",
              "      background-color: #E2EBFA;\n",
              "      box-shadow: 0px 1px 2px rgba(60, 64, 67, 0.3), 0px 1px 3px 1px rgba(60, 64, 67, 0.15);\n",
              "      fill: #174EA6;\n",
              "    }\n",
              "\n",
              "    .colab-df-buttons div {\n",
              "      margin-bottom: 4px;\n",
              "    }\n",
              "\n",
              "    [theme=dark] .colab-df-convert {\n",
              "      background-color: #3B4455;\n",
              "      fill: #D2E3FC;\n",
              "    }\n",
              "\n",
              "    [theme=dark] .colab-df-convert:hover {\n",
              "      background-color: #434B5C;\n",
              "      box-shadow: 0px 1px 3px 1px rgba(0, 0, 0, 0.15);\n",
              "      filter: drop-shadow(0px 1px 2px rgba(0, 0, 0, 0.3));\n",
              "      fill: #FFFFFF;\n",
              "    }\n",
              "  </style>\n",
              "\n",
              "    <script>\n",
              "      const buttonEl =\n",
              "        document.querySelector('#df-2a91535e-857d-40cd-9b1e-240ac458b19d button.colab-df-convert');\n",
              "      buttonEl.style.display =\n",
              "        google.colab.kernel.accessAllowed ? 'block' : 'none';\n",
              "\n",
              "      async function convertToInteractive(key) {\n",
              "        const element = document.querySelector('#df-2a91535e-857d-40cd-9b1e-240ac458b19d');\n",
              "        const dataTable =\n",
              "          await google.colab.kernel.invokeFunction('convertToInteractive',\n",
              "                                                    [key], {});\n",
              "        if (!dataTable) return;\n",
              "\n",
              "        const docLinkHtml = 'Like what you see? Visit the ' +\n",
              "          '<a target=\"_blank\" href=https://colab.research.google.com/notebooks/data_table.ipynb>data table notebook</a>'\n",
              "          + ' to learn more about interactive tables.';\n",
              "        element.innerHTML = '';\n",
              "        dataTable['output_type'] = 'display_data';\n",
              "        await google.colab.output.renderOutput(dataTable, element);\n",
              "        const docLink = document.createElement('div');\n",
              "        docLink.innerHTML = docLinkHtml;\n",
              "        element.appendChild(docLink);\n",
              "      }\n",
              "    </script>\n",
              "  </div>\n",
              "\n",
              "\n",
              "<div id=\"df-27c2ef1a-7701-45d3-b775-e39ae9695687\">\n",
              "  <button class=\"colab-df-quickchart\" onclick=\"quickchart('df-27c2ef1a-7701-45d3-b775-e39ae9695687')\"\n",
              "            title=\"Suggest charts\"\n",
              "            style=\"display:none;\">\n",
              "\n",
              "<svg xmlns=\"http://www.w3.org/2000/svg\" height=\"24px\"viewBox=\"0 0 24 24\"\n",
              "     width=\"24px\">\n",
              "    <g>\n",
              "        <path d=\"M19 3H5c-1.1 0-2 .9-2 2v14c0 1.1.9 2 2 2h14c1.1 0 2-.9 2-2V5c0-1.1-.9-2-2-2zM9 17H7v-7h2v7zm4 0h-2V7h2v10zm4 0h-2v-4h2v4z\"/>\n",
              "    </g>\n",
              "</svg>\n",
              "  </button>\n",
              "\n",
              "<style>\n",
              "  .colab-df-quickchart {\n",
              "      --bg-color: #E8F0FE;\n",
              "      --fill-color: #1967D2;\n",
              "      --hover-bg-color: #E2EBFA;\n",
              "      --hover-fill-color: #174EA6;\n",
              "      --disabled-fill-color: #AAA;\n",
              "      --disabled-bg-color: #DDD;\n",
              "  }\n",
              "\n",
              "  [theme=dark] .colab-df-quickchart {\n",
              "      --bg-color: #3B4455;\n",
              "      --fill-color: #D2E3FC;\n",
              "      --hover-bg-color: #434B5C;\n",
              "      --hover-fill-color: #FFFFFF;\n",
              "      --disabled-bg-color: #3B4455;\n",
              "      --disabled-fill-color: #666;\n",
              "  }\n",
              "\n",
              "  .colab-df-quickchart {\n",
              "    background-color: var(--bg-color);\n",
              "    border: none;\n",
              "    border-radius: 50%;\n",
              "    cursor: pointer;\n",
              "    display: none;\n",
              "    fill: var(--fill-color);\n",
              "    height: 32px;\n",
              "    padding: 0;\n",
              "    width: 32px;\n",
              "  }\n",
              "\n",
              "  .colab-df-quickchart:hover {\n",
              "    background-color: var(--hover-bg-color);\n",
              "    box-shadow: 0 1px 2px rgba(60, 64, 67, 0.3), 0 1px 3px 1px rgba(60, 64, 67, 0.15);\n",
              "    fill: var(--button-hover-fill-color);\n",
              "  }\n",
              "\n",
              "  .colab-df-quickchart-complete:disabled,\n",
              "  .colab-df-quickchart-complete:disabled:hover {\n",
              "    background-color: var(--disabled-bg-color);\n",
              "    fill: var(--disabled-fill-color);\n",
              "    box-shadow: none;\n",
              "  }\n",
              "\n",
              "  .colab-df-spinner {\n",
              "    border: 2px solid var(--fill-color);\n",
              "    border-color: transparent;\n",
              "    border-bottom-color: var(--fill-color);\n",
              "    animation:\n",
              "      spin 1s steps(1) infinite;\n",
              "  }\n",
              "\n",
              "  @keyframes spin {\n",
              "    0% {\n",
              "      border-color: transparent;\n",
              "      border-bottom-color: var(--fill-color);\n",
              "      border-left-color: var(--fill-color);\n",
              "    }\n",
              "    20% {\n",
              "      border-color: transparent;\n",
              "      border-left-color: var(--fill-color);\n",
              "      border-top-color: var(--fill-color);\n",
              "    }\n",
              "    30% {\n",
              "      border-color: transparent;\n",
              "      border-left-color: var(--fill-color);\n",
              "      border-top-color: var(--fill-color);\n",
              "      border-right-color: var(--fill-color);\n",
              "    }\n",
              "    40% {\n",
              "      border-color: transparent;\n",
              "      border-right-color: var(--fill-color);\n",
              "      border-top-color: var(--fill-color);\n",
              "    }\n",
              "    60% {\n",
              "      border-color: transparent;\n",
              "      border-right-color: var(--fill-color);\n",
              "    }\n",
              "    80% {\n",
              "      border-color: transparent;\n",
              "      border-right-color: var(--fill-color);\n",
              "      border-bottom-color: var(--fill-color);\n",
              "    }\n",
              "    90% {\n",
              "      border-color: transparent;\n",
              "      border-bottom-color: var(--fill-color);\n",
              "    }\n",
              "  }\n",
              "</style>\n",
              "\n",
              "  <script>\n",
              "    async function quickchart(key) {\n",
              "      const quickchartButtonEl =\n",
              "        document.querySelector('#' + key + ' button');\n",
              "      quickchartButtonEl.disabled = true;  // To prevent multiple clicks.\n",
              "      quickchartButtonEl.classList.add('colab-df-spinner');\n",
              "      try {\n",
              "        const charts = await google.colab.kernel.invokeFunction(\n",
              "            'suggestCharts', [key], {});\n",
              "      } catch (error) {\n",
              "        console.error('Error during call to suggestCharts:', error);\n",
              "      }\n",
              "      quickchartButtonEl.classList.remove('colab-df-spinner');\n",
              "      quickchartButtonEl.classList.add('colab-df-quickchart-complete');\n",
              "    }\n",
              "    (() => {\n",
              "      let quickchartButtonEl =\n",
              "        document.querySelector('#df-27c2ef1a-7701-45d3-b775-e39ae9695687 button');\n",
              "      quickchartButtonEl.style.display =\n",
              "        google.colab.kernel.accessAllowed ? 'block' : 'none';\n",
              "    })();\n",
              "  </script>\n",
              "</div>\n",
              "    </div>\n",
              "  </div>\n"
            ]
          },
          "metadata": {}
        },
        {
          "output_type": "stream",
          "name": "stdout",
          "text": [
            "------------------------------------------------------------\n",
            "Матрица Z:\n"
          ]
        },
        {
          "output_type": "display_data",
          "data": {
            "text/plain": [
              "        0       1       2      3\n",
              "0  297978  198744  198655  99372\n",
              "1  228421  152376  152282  76186\n",
              "2  126261   84232   84174  42116\n",
              "3  250403  166984  166938  83488\n",
              "4  156854  104632  104571  52318"
            ],
            "text/html": [
              "\n",
              "  <div id=\"df-06346cd3-0055-4130-8145-1ede36443d3f\" class=\"colab-df-container\">\n",
              "    <div>\n",
              "<style scoped>\n",
              "    .dataframe tbody tr th:only-of-type {\n",
              "        vertical-align: middle;\n",
              "    }\n",
              "\n",
              "    .dataframe tbody tr th {\n",
              "        vertical-align: top;\n",
              "    }\n",
              "\n",
              "    .dataframe thead th {\n",
              "        text-align: right;\n",
              "    }\n",
              "</style>\n",
              "<table border=\"1\" class=\"dataframe\">\n",
              "  <thead>\n",
              "    <tr style=\"text-align: right;\">\n",
              "      <th></th>\n",
              "      <th>0</th>\n",
              "      <th>1</th>\n",
              "      <th>2</th>\n",
              "      <th>3</th>\n",
              "    </tr>\n",
              "  </thead>\n",
              "  <tbody>\n",
              "    <tr>\n",
              "      <th>0</th>\n",
              "      <td>297978</td>\n",
              "      <td>198744</td>\n",
              "      <td>198655</td>\n",
              "      <td>99372</td>\n",
              "    </tr>\n",
              "    <tr>\n",
              "      <th>1</th>\n",
              "      <td>228421</td>\n",
              "      <td>152376</td>\n",
              "      <td>152282</td>\n",
              "      <td>76186</td>\n",
              "    </tr>\n",
              "    <tr>\n",
              "      <th>2</th>\n",
              "      <td>126261</td>\n",
              "      <td>84232</td>\n",
              "      <td>84174</td>\n",
              "      <td>42116</td>\n",
              "    </tr>\n",
              "    <tr>\n",
              "      <th>3</th>\n",
              "      <td>250403</td>\n",
              "      <td>166984</td>\n",
              "      <td>166938</td>\n",
              "      <td>83488</td>\n",
              "    </tr>\n",
              "    <tr>\n",
              "      <th>4</th>\n",
              "      <td>156854</td>\n",
              "      <td>104632</td>\n",
              "      <td>104571</td>\n",
              "      <td>52318</td>\n",
              "    </tr>\n",
              "  </tbody>\n",
              "</table>\n",
              "</div>\n",
              "    <div class=\"colab-df-buttons\">\n",
              "\n",
              "  <div class=\"colab-df-container\">\n",
              "    <button class=\"colab-df-convert\" onclick=\"convertToInteractive('df-06346cd3-0055-4130-8145-1ede36443d3f')\"\n",
              "            title=\"Convert this dataframe to an interactive table.\"\n",
              "            style=\"display:none;\">\n",
              "\n",
              "  <svg xmlns=\"http://www.w3.org/2000/svg\" height=\"24px\" viewBox=\"0 -960 960 960\">\n",
              "    <path d=\"M120-120v-720h720v720H120Zm60-500h600v-160H180v160Zm220 220h160v-160H400v160Zm0 220h160v-160H400v160ZM180-400h160v-160H180v160Zm440 0h160v-160H620v160ZM180-180h160v-160H180v160Zm440 0h160v-160H620v160Z\"/>\n",
              "  </svg>\n",
              "    </button>\n",
              "\n",
              "  <style>\n",
              "    .colab-df-container {\n",
              "      display:flex;\n",
              "      gap: 12px;\n",
              "    }\n",
              "\n",
              "    .colab-df-convert {\n",
              "      background-color: #E8F0FE;\n",
              "      border: none;\n",
              "      border-radius: 50%;\n",
              "      cursor: pointer;\n",
              "      display: none;\n",
              "      fill: #1967D2;\n",
              "      height: 32px;\n",
              "      padding: 0 0 0 0;\n",
              "      width: 32px;\n",
              "    }\n",
              "\n",
              "    .colab-df-convert:hover {\n",
              "      background-color: #E2EBFA;\n",
              "      box-shadow: 0px 1px 2px rgba(60, 64, 67, 0.3), 0px 1px 3px 1px rgba(60, 64, 67, 0.15);\n",
              "      fill: #174EA6;\n",
              "    }\n",
              "\n",
              "    .colab-df-buttons div {\n",
              "      margin-bottom: 4px;\n",
              "    }\n",
              "\n",
              "    [theme=dark] .colab-df-convert {\n",
              "      background-color: #3B4455;\n",
              "      fill: #D2E3FC;\n",
              "    }\n",
              "\n",
              "    [theme=dark] .colab-df-convert:hover {\n",
              "      background-color: #434B5C;\n",
              "      box-shadow: 0px 1px 3px 1px rgba(0, 0, 0, 0.15);\n",
              "      filter: drop-shadow(0px 1px 2px rgba(0, 0, 0, 0.3));\n",
              "      fill: #FFFFFF;\n",
              "    }\n",
              "  </style>\n",
              "\n",
              "    <script>\n",
              "      const buttonEl =\n",
              "        document.querySelector('#df-06346cd3-0055-4130-8145-1ede36443d3f button.colab-df-convert');\n",
              "      buttonEl.style.display =\n",
              "        google.colab.kernel.accessAllowed ? 'block' : 'none';\n",
              "\n",
              "      async function convertToInteractive(key) {\n",
              "        const element = document.querySelector('#df-06346cd3-0055-4130-8145-1ede36443d3f');\n",
              "        const dataTable =\n",
              "          await google.colab.kernel.invokeFunction('convertToInteractive',\n",
              "                                                    [key], {});\n",
              "        if (!dataTable) return;\n",
              "\n",
              "        const docLinkHtml = 'Like what you see? Visit the ' +\n",
              "          '<a target=\"_blank\" href=https://colab.research.google.com/notebooks/data_table.ipynb>data table notebook</a>'\n",
              "          + ' to learn more about interactive tables.';\n",
              "        element.innerHTML = '';\n",
              "        dataTable['output_type'] = 'display_data';\n",
              "        await google.colab.output.renderOutput(dataTable, element);\n",
              "        const docLink = document.createElement('div');\n",
              "        docLink.innerHTML = docLinkHtml;\n",
              "        element.appendChild(docLink);\n",
              "      }\n",
              "    </script>\n",
              "  </div>\n",
              "\n",
              "\n",
              "<div id=\"df-69c58479-4389-47d6-9508-82579d335ea0\">\n",
              "  <button class=\"colab-df-quickchart\" onclick=\"quickchart('df-69c58479-4389-47d6-9508-82579d335ea0')\"\n",
              "            title=\"Suggest charts\"\n",
              "            style=\"display:none;\">\n",
              "\n",
              "<svg xmlns=\"http://www.w3.org/2000/svg\" height=\"24px\"viewBox=\"0 0 24 24\"\n",
              "     width=\"24px\">\n",
              "    <g>\n",
              "        <path d=\"M19 3H5c-1.1 0-2 .9-2 2v14c0 1.1.9 2 2 2h14c1.1 0 2-.9 2-2V5c0-1.1-.9-2-2-2zM9 17H7v-7h2v7zm4 0h-2V7h2v10zm4 0h-2v-4h2v4z\"/>\n",
              "    </g>\n",
              "</svg>\n",
              "  </button>\n",
              "\n",
              "<style>\n",
              "  .colab-df-quickchart {\n",
              "      --bg-color: #E8F0FE;\n",
              "      --fill-color: #1967D2;\n",
              "      --hover-bg-color: #E2EBFA;\n",
              "      --hover-fill-color: #174EA6;\n",
              "      --disabled-fill-color: #AAA;\n",
              "      --disabled-bg-color: #DDD;\n",
              "  }\n",
              "\n",
              "  [theme=dark] .colab-df-quickchart {\n",
              "      --bg-color: #3B4455;\n",
              "      --fill-color: #D2E3FC;\n",
              "      --hover-bg-color: #434B5C;\n",
              "      --hover-fill-color: #FFFFFF;\n",
              "      --disabled-bg-color: #3B4455;\n",
              "      --disabled-fill-color: #666;\n",
              "  }\n",
              "\n",
              "  .colab-df-quickchart {\n",
              "    background-color: var(--bg-color);\n",
              "    border: none;\n",
              "    border-radius: 50%;\n",
              "    cursor: pointer;\n",
              "    display: none;\n",
              "    fill: var(--fill-color);\n",
              "    height: 32px;\n",
              "    padding: 0;\n",
              "    width: 32px;\n",
              "  }\n",
              "\n",
              "  .colab-df-quickchart:hover {\n",
              "    background-color: var(--hover-bg-color);\n",
              "    box-shadow: 0 1px 2px rgba(60, 64, 67, 0.3), 0 1px 3px 1px rgba(60, 64, 67, 0.15);\n",
              "    fill: var(--button-hover-fill-color);\n",
              "  }\n",
              "\n",
              "  .colab-df-quickchart-complete:disabled,\n",
              "  .colab-df-quickchart-complete:disabled:hover {\n",
              "    background-color: var(--disabled-bg-color);\n",
              "    fill: var(--disabled-fill-color);\n",
              "    box-shadow: none;\n",
              "  }\n",
              "\n",
              "  .colab-df-spinner {\n",
              "    border: 2px solid var(--fill-color);\n",
              "    border-color: transparent;\n",
              "    border-bottom-color: var(--fill-color);\n",
              "    animation:\n",
              "      spin 1s steps(1) infinite;\n",
              "  }\n",
              "\n",
              "  @keyframes spin {\n",
              "    0% {\n",
              "      border-color: transparent;\n",
              "      border-bottom-color: var(--fill-color);\n",
              "      border-left-color: var(--fill-color);\n",
              "    }\n",
              "    20% {\n",
              "      border-color: transparent;\n",
              "      border-left-color: var(--fill-color);\n",
              "      border-top-color: var(--fill-color);\n",
              "    }\n",
              "    30% {\n",
              "      border-color: transparent;\n",
              "      border-left-color: var(--fill-color);\n",
              "      border-top-color: var(--fill-color);\n",
              "      border-right-color: var(--fill-color);\n",
              "    }\n",
              "    40% {\n",
              "      border-color: transparent;\n",
              "      border-right-color: var(--fill-color);\n",
              "      border-top-color: var(--fill-color);\n",
              "    }\n",
              "    60% {\n",
              "      border-color: transparent;\n",
              "      border-right-color: var(--fill-color);\n",
              "    }\n",
              "    80% {\n",
              "      border-color: transparent;\n",
              "      border-right-color: var(--fill-color);\n",
              "      border-bottom-color: var(--fill-color);\n",
              "    }\n",
              "    90% {\n",
              "      border-color: transparent;\n",
              "      border-bottom-color: var(--fill-color);\n",
              "    }\n",
              "  }\n",
              "</style>\n",
              "\n",
              "  <script>\n",
              "    async function quickchart(key) {\n",
              "      const quickchartButtonEl =\n",
              "        document.querySelector('#' + key + ' button');\n",
              "      quickchartButtonEl.disabled = true;  // To prevent multiple clicks.\n",
              "      quickchartButtonEl.classList.add('colab-df-spinner');\n",
              "      try {\n",
              "        const charts = await google.colab.kernel.invokeFunction(\n",
              "            'suggestCharts', [key], {});\n",
              "      } catch (error) {\n",
              "        console.error('Error during call to suggestCharts:', error);\n",
              "      }\n",
              "      quickchartButtonEl.classList.remove('colab-df-spinner');\n",
              "      quickchartButtonEl.classList.add('colab-df-quickchart-complete');\n",
              "    }\n",
              "    (() => {\n",
              "      let quickchartButtonEl =\n",
              "        document.querySelector('#df-69c58479-4389-47d6-9508-82579d335ea0 button');\n",
              "      quickchartButtonEl.style.display =\n",
              "        google.colab.kernel.accessAllowed ? 'block' : 'none';\n",
              "    })();\n",
              "  </script>\n",
              "</div>\n",
              "    </div>\n",
              "  </div>\n"
            ]
          },
          "metadata": {}
        },
        {
          "output_type": "stream",
          "name": "stdout",
          "text": [
            "------------------------------------------------------------\n",
            "Матрица P:\n"
          ]
        },
        {
          "output_type": "execute_result",
          "data": {
            "text/plain": [
              "array([[2, 8, 3, 6],\n",
              "       [9, 8, 6, 4],\n",
              "       [6, 4, 4, 2],\n",
              "       [7, 8, 6, 2]])"
            ]
          },
          "metadata": {},
          "execution_count": 18
        }
      ],
      "source": [
        "print('Матрица Х:')\n",
        "display(features.head())\n",
        "print('-'*60)\n",
        "features_Z, matrix_P = encryption(features)\n",
        "print('Матрица Z:')\n",
        "display(features_Z.head())\n",
        "print('-'*60)\n",
        "print('Матрица P:')\n",
        "matrix_P"
      ]
    },
    {
      "cell_type": "markdown",
      "metadata": {
        "id": "IniTBhwNcO0j"
      },
      "source": [
        "Разделим данные на обучающую и тестовую выборки:"
      ]
    },
    {
      "cell_type": "code",
      "execution_count": 19,
      "metadata": {
        "id": "DTPuX8jYcO0j"
      },
      "outputs": [],
      "source": [
        "(\n",
        "    features_Z_train, features_Z_test, target_Z_train, target_Z_test\n",
        ") = train_test_split(features_Z, target, test_size=0.25, random_state=15243)"
      ]
    },
    {
      "cell_type": "markdown",
      "metadata": {
        "id": "UUK0RpSEcO0k"
      },
      "source": [
        "Построим модель на основе матрицы признаков $Z$ и посчитаем R2:"
      ]
    },
    {
      "cell_type": "code",
      "execution_count": 20,
      "metadata": {
        "colab": {
          "base_uri": "https://localhost:8080/"
        },
        "id": "S_OtDIPMcO0k",
        "outputId": "554b2389-dbcc-4129-a3c7-e335a66cacfa"
      },
      "outputs": [
        {
          "output_type": "stream",
          "name": "stdout",
          "text": [
            "R2 = 0.4014929054789096\n"
          ]
        }
      ],
      "source": [
        "model_Z = LinearRegression()\n",
        "model_Z.fit(features_Z_train, target_Z_train)\n",
        "R2_model_Z = r2_score(target_Z_test, model_Z.predict(features_Z_test))\n",
        "print(\"R2 =\", R2_model_Z)"
      ]
    },
    {
      "cell_type": "markdown",
      "metadata": {
        "id": "hGZLhkhkcO0l"
      },
      "source": [
        "Проведем стандартизацию для матрицы признаков $Z$, создадим модель и посчитаем R2:"
      ]
    },
    {
      "cell_type": "code",
      "execution_count": 21,
      "metadata": {
        "colab": {
          "base_uri": "https://localhost:8080/"
        },
        "id": "ZiCKGCxtcO0l",
        "outputId": "878f12cd-20b8-425e-8c08-665e667741f1"
      },
      "outputs": [
        {
          "output_type": "stream",
          "name": "stdout",
          "text": [
            "R2 = 0.4014929054790194\n"
          ]
        }
      ],
      "source": [
        "model_Z_scaled = Pipeline([\n",
        "    ('scaler', StandardScaler()),\n",
        "    ('model', LinearRegression())\n",
        "])\n",
        "model_Z_scaled.fit(features_Z_train, target_Z_train)\n",
        "R2_model_Z_scaled = r2_score(target_Z_test,\n",
        "                             model_Z_scaled.predict(features_Z_test))\n",
        "print(\"R2 =\", R2_model_Z_scaled)"
      ]
    },
    {
      "cell_type": "markdown",
      "metadata": {
        "id": "KTmatITacO0m"
      },
      "source": [
        "Выведем информацию с результатами R2 для каждой модели:"
      ]
    },
    {
      "cell_type": "code",
      "execution_count": 22,
      "metadata": {
        "colab": {
          "base_uri": "https://localhost:8080/",
          "height": 175
        },
        "id": "jjygIemRcO0m",
        "outputId": "23a6d87a-497d-47df-c17d-529531e45a4e"
      },
      "outputs": [
        {
          "output_type": "execute_result",
          "data": {
            "text/plain": [
              "                                                          R2\n",
              "Линейная регрессия                                  0.401493\n",
              "Линейная регрессия cо стандартизацией               0.401493\n",
              "Линейная регрессия на преобразованных признаках     0.401493\n",
              "Линейная регрессия на преобразованных признаках...  0.401493"
            ],
            "text/html": [
              "\n",
              "  <div id=\"df-19d13694-284d-4553-a92d-2188b761bb87\" class=\"colab-df-container\">\n",
              "    <div>\n",
              "<style scoped>\n",
              "    .dataframe tbody tr th:only-of-type {\n",
              "        vertical-align: middle;\n",
              "    }\n",
              "\n",
              "    .dataframe tbody tr th {\n",
              "        vertical-align: top;\n",
              "    }\n",
              "\n",
              "    .dataframe thead th {\n",
              "        text-align: right;\n",
              "    }\n",
              "</style>\n",
              "<table border=\"1\" class=\"dataframe\">\n",
              "  <thead>\n",
              "    <tr style=\"text-align: right;\">\n",
              "      <th></th>\n",
              "      <th>R2</th>\n",
              "    </tr>\n",
              "  </thead>\n",
              "  <tbody>\n",
              "    <tr>\n",
              "      <th>Линейная регрессия</th>\n",
              "      <td>0.401493</td>\n",
              "    </tr>\n",
              "    <tr>\n",
              "      <th>Линейная регрессия cо стандартизацией</th>\n",
              "      <td>0.401493</td>\n",
              "    </tr>\n",
              "    <tr>\n",
              "      <th>Линейная регрессия на преобразованных признаках</th>\n",
              "      <td>0.401493</td>\n",
              "    </tr>\n",
              "    <tr>\n",
              "      <th>Линейная регрессия на преобразованных признаках cо стандартизацией</th>\n",
              "      <td>0.401493</td>\n",
              "    </tr>\n",
              "  </tbody>\n",
              "</table>\n",
              "</div>\n",
              "    <div class=\"colab-df-buttons\">\n",
              "\n",
              "  <div class=\"colab-df-container\">\n",
              "    <button class=\"colab-df-convert\" onclick=\"convertToInteractive('df-19d13694-284d-4553-a92d-2188b761bb87')\"\n",
              "            title=\"Convert this dataframe to an interactive table.\"\n",
              "            style=\"display:none;\">\n",
              "\n",
              "  <svg xmlns=\"http://www.w3.org/2000/svg\" height=\"24px\" viewBox=\"0 -960 960 960\">\n",
              "    <path d=\"M120-120v-720h720v720H120Zm60-500h600v-160H180v160Zm220 220h160v-160H400v160Zm0 220h160v-160H400v160ZM180-400h160v-160H180v160Zm440 0h160v-160H620v160ZM180-180h160v-160H180v160Zm440 0h160v-160H620v160Z\"/>\n",
              "  </svg>\n",
              "    </button>\n",
              "\n",
              "  <style>\n",
              "    .colab-df-container {\n",
              "      display:flex;\n",
              "      gap: 12px;\n",
              "    }\n",
              "\n",
              "    .colab-df-convert {\n",
              "      background-color: #E8F0FE;\n",
              "      border: none;\n",
              "      border-radius: 50%;\n",
              "      cursor: pointer;\n",
              "      display: none;\n",
              "      fill: #1967D2;\n",
              "      height: 32px;\n",
              "      padding: 0 0 0 0;\n",
              "      width: 32px;\n",
              "    }\n",
              "\n",
              "    .colab-df-convert:hover {\n",
              "      background-color: #E2EBFA;\n",
              "      box-shadow: 0px 1px 2px rgba(60, 64, 67, 0.3), 0px 1px 3px 1px rgba(60, 64, 67, 0.15);\n",
              "      fill: #174EA6;\n",
              "    }\n",
              "\n",
              "    .colab-df-buttons div {\n",
              "      margin-bottom: 4px;\n",
              "    }\n",
              "\n",
              "    [theme=dark] .colab-df-convert {\n",
              "      background-color: #3B4455;\n",
              "      fill: #D2E3FC;\n",
              "    }\n",
              "\n",
              "    [theme=dark] .colab-df-convert:hover {\n",
              "      background-color: #434B5C;\n",
              "      box-shadow: 0px 1px 3px 1px rgba(0, 0, 0, 0.15);\n",
              "      filter: drop-shadow(0px 1px 2px rgba(0, 0, 0, 0.3));\n",
              "      fill: #FFFFFF;\n",
              "    }\n",
              "  </style>\n",
              "\n",
              "    <script>\n",
              "      const buttonEl =\n",
              "        document.querySelector('#df-19d13694-284d-4553-a92d-2188b761bb87 button.colab-df-convert');\n",
              "      buttonEl.style.display =\n",
              "        google.colab.kernel.accessAllowed ? 'block' : 'none';\n",
              "\n",
              "      async function convertToInteractive(key) {\n",
              "        const element = document.querySelector('#df-19d13694-284d-4553-a92d-2188b761bb87');\n",
              "        const dataTable =\n",
              "          await google.colab.kernel.invokeFunction('convertToInteractive',\n",
              "                                                    [key], {});\n",
              "        if (!dataTable) return;\n",
              "\n",
              "        const docLinkHtml = 'Like what you see? Visit the ' +\n",
              "          '<a target=\"_blank\" href=https://colab.research.google.com/notebooks/data_table.ipynb>data table notebook</a>'\n",
              "          + ' to learn more about interactive tables.';\n",
              "        element.innerHTML = '';\n",
              "        dataTable['output_type'] = 'display_data';\n",
              "        await google.colab.output.renderOutput(dataTable, element);\n",
              "        const docLink = document.createElement('div');\n",
              "        docLink.innerHTML = docLinkHtml;\n",
              "        element.appendChild(docLink);\n",
              "      }\n",
              "    </script>\n",
              "  </div>\n",
              "\n",
              "\n",
              "<div id=\"df-39cc207a-85b4-4d82-93d7-635ffadc1f6f\">\n",
              "  <button class=\"colab-df-quickchart\" onclick=\"quickchart('df-39cc207a-85b4-4d82-93d7-635ffadc1f6f')\"\n",
              "            title=\"Suggest charts\"\n",
              "            style=\"display:none;\">\n",
              "\n",
              "<svg xmlns=\"http://www.w3.org/2000/svg\" height=\"24px\"viewBox=\"0 0 24 24\"\n",
              "     width=\"24px\">\n",
              "    <g>\n",
              "        <path d=\"M19 3H5c-1.1 0-2 .9-2 2v14c0 1.1.9 2 2 2h14c1.1 0 2-.9 2-2V5c0-1.1-.9-2-2-2zM9 17H7v-7h2v7zm4 0h-2V7h2v10zm4 0h-2v-4h2v4z\"/>\n",
              "    </g>\n",
              "</svg>\n",
              "  </button>\n",
              "\n",
              "<style>\n",
              "  .colab-df-quickchart {\n",
              "      --bg-color: #E8F0FE;\n",
              "      --fill-color: #1967D2;\n",
              "      --hover-bg-color: #E2EBFA;\n",
              "      --hover-fill-color: #174EA6;\n",
              "      --disabled-fill-color: #AAA;\n",
              "      --disabled-bg-color: #DDD;\n",
              "  }\n",
              "\n",
              "  [theme=dark] .colab-df-quickchart {\n",
              "      --bg-color: #3B4455;\n",
              "      --fill-color: #D2E3FC;\n",
              "      --hover-bg-color: #434B5C;\n",
              "      --hover-fill-color: #FFFFFF;\n",
              "      --disabled-bg-color: #3B4455;\n",
              "      --disabled-fill-color: #666;\n",
              "  }\n",
              "\n",
              "  .colab-df-quickchart {\n",
              "    background-color: var(--bg-color);\n",
              "    border: none;\n",
              "    border-radius: 50%;\n",
              "    cursor: pointer;\n",
              "    display: none;\n",
              "    fill: var(--fill-color);\n",
              "    height: 32px;\n",
              "    padding: 0;\n",
              "    width: 32px;\n",
              "  }\n",
              "\n",
              "  .colab-df-quickchart:hover {\n",
              "    background-color: var(--hover-bg-color);\n",
              "    box-shadow: 0 1px 2px rgba(60, 64, 67, 0.3), 0 1px 3px 1px rgba(60, 64, 67, 0.15);\n",
              "    fill: var(--button-hover-fill-color);\n",
              "  }\n",
              "\n",
              "  .colab-df-quickchart-complete:disabled,\n",
              "  .colab-df-quickchart-complete:disabled:hover {\n",
              "    background-color: var(--disabled-bg-color);\n",
              "    fill: var(--disabled-fill-color);\n",
              "    box-shadow: none;\n",
              "  }\n",
              "\n",
              "  .colab-df-spinner {\n",
              "    border: 2px solid var(--fill-color);\n",
              "    border-color: transparent;\n",
              "    border-bottom-color: var(--fill-color);\n",
              "    animation:\n",
              "      spin 1s steps(1) infinite;\n",
              "  }\n",
              "\n",
              "  @keyframes spin {\n",
              "    0% {\n",
              "      border-color: transparent;\n",
              "      border-bottom-color: var(--fill-color);\n",
              "      border-left-color: var(--fill-color);\n",
              "    }\n",
              "    20% {\n",
              "      border-color: transparent;\n",
              "      border-left-color: var(--fill-color);\n",
              "      border-top-color: var(--fill-color);\n",
              "    }\n",
              "    30% {\n",
              "      border-color: transparent;\n",
              "      border-left-color: var(--fill-color);\n",
              "      border-top-color: var(--fill-color);\n",
              "      border-right-color: var(--fill-color);\n",
              "    }\n",
              "    40% {\n",
              "      border-color: transparent;\n",
              "      border-right-color: var(--fill-color);\n",
              "      border-top-color: var(--fill-color);\n",
              "    }\n",
              "    60% {\n",
              "      border-color: transparent;\n",
              "      border-right-color: var(--fill-color);\n",
              "    }\n",
              "    80% {\n",
              "      border-color: transparent;\n",
              "      border-right-color: var(--fill-color);\n",
              "      border-bottom-color: var(--fill-color);\n",
              "    }\n",
              "    90% {\n",
              "      border-color: transparent;\n",
              "      border-bottom-color: var(--fill-color);\n",
              "    }\n",
              "  }\n",
              "</style>\n",
              "\n",
              "  <script>\n",
              "    async function quickchart(key) {\n",
              "      const quickchartButtonEl =\n",
              "        document.querySelector('#' + key + ' button');\n",
              "      quickchartButtonEl.disabled = true;  // To prevent multiple clicks.\n",
              "      quickchartButtonEl.classList.add('colab-df-spinner');\n",
              "      try {\n",
              "        const charts = await google.colab.kernel.invokeFunction(\n",
              "            'suggestCharts', [key], {});\n",
              "      } catch (error) {\n",
              "        console.error('Error during call to suggestCharts:', error);\n",
              "      }\n",
              "      quickchartButtonEl.classList.remove('colab-df-spinner');\n",
              "      quickchartButtonEl.classList.add('colab-df-quickchart-complete');\n",
              "    }\n",
              "    (() => {\n",
              "      let quickchartButtonEl =\n",
              "        document.querySelector('#df-39cc207a-85b4-4d82-93d7-635ffadc1f6f button');\n",
              "      quickchartButtonEl.style.display =\n",
              "        google.colab.kernel.accessAllowed ? 'block' : 'none';\n",
              "    })();\n",
              "  </script>\n",
              "</div>\n",
              "    </div>\n",
              "  </div>\n"
            ]
          },
          "metadata": {},
          "execution_count": 22
        }
      ],
      "source": [
        "rows = ['Линейная регрессия',\n",
        "        'Линейная регрессия cо стандартизацией',\n",
        "        'Линейная регрессия на преобразованных признаках',\n",
        "        'Линейная регрессия на преобразованных признаках cо стандартизацией',]\n",
        "\n",
        "result = pd.DataFrame(data= [R2_model_X,\n",
        "                             R2_model_X_scaled,\n",
        "                             R2_model_Z,\n",
        "                             R2_model_Z_scaled],\n",
        "                      columns=['R2'],\n",
        "                      index=rows)\n",
        "result"
      ]
    },
    {
      "cell_type": "markdown",
      "metadata": {
        "id": "V3q8Zi93cO0n"
      },
      "source": [
        "Для проверки шифрования напишем функцию дешифровки:"
      ]
    },
    {
      "cell_type": "code",
      "execution_count": 23,
      "metadata": {
        "id": "Ij2UOedLcO0n"
      },
      "outputs": [],
      "source": [
        "def decryption(Z, P):\n",
        "    X = Z @ np.linalg.inv(P)\n",
        "    for column in X.columns:\n",
        "        X[column] = round(X[column], 0)\n",
        "        X[column] = X[column].astype(int)\n",
        "    X = X.rename(columns={0: 'sex',\n",
        "                          1: 'age',\n",
        "                          2: 'salary',\n",
        "                          3: 'family_members'})\n",
        "    return X"
      ]
    },
    {
      "cell_type": "code",
      "execution_count": 24,
      "metadata": {
        "colab": {
          "base_uri": "https://localhost:8080/",
          "height": 447
        },
        "id": "pOs5M91_cO0n",
        "outputId": "9ea382ac-9f9b-44cc-e7f3-e009899e6073"
      },
      "outputs": [
        {
          "output_type": "stream",
          "name": "stdout",
          "text": [
            "Матрица Х до шифрования:\n"
          ]
        },
        {
          "output_type": "display_data",
          "data": {
            "text/plain": [
              "   sex  age  salary  family_members\n",
              "0    1   41   49600               1\n",
              "1    0   46   38000               1\n",
              "2    0   29   21000               0\n",
              "3    0   21   41700               2\n",
              "4    1   28   26100               0"
            ],
            "text/html": [
              "\n",
              "  <div id=\"df-2ca55499-a146-4bf1-9ebc-2c2364a624d4\" class=\"colab-df-container\">\n",
              "    <div>\n",
              "<style scoped>\n",
              "    .dataframe tbody tr th:only-of-type {\n",
              "        vertical-align: middle;\n",
              "    }\n",
              "\n",
              "    .dataframe tbody tr th {\n",
              "        vertical-align: top;\n",
              "    }\n",
              "\n",
              "    .dataframe thead th {\n",
              "        text-align: right;\n",
              "    }\n",
              "</style>\n",
              "<table border=\"1\" class=\"dataframe\">\n",
              "  <thead>\n",
              "    <tr style=\"text-align: right;\">\n",
              "      <th></th>\n",
              "      <th>sex</th>\n",
              "      <th>age</th>\n",
              "      <th>salary</th>\n",
              "      <th>family_members</th>\n",
              "    </tr>\n",
              "  </thead>\n",
              "  <tbody>\n",
              "    <tr>\n",
              "      <th>0</th>\n",
              "      <td>1</td>\n",
              "      <td>41</td>\n",
              "      <td>49600</td>\n",
              "      <td>1</td>\n",
              "    </tr>\n",
              "    <tr>\n",
              "      <th>1</th>\n",
              "      <td>0</td>\n",
              "      <td>46</td>\n",
              "      <td>38000</td>\n",
              "      <td>1</td>\n",
              "    </tr>\n",
              "    <tr>\n",
              "      <th>2</th>\n",
              "      <td>0</td>\n",
              "      <td>29</td>\n",
              "      <td>21000</td>\n",
              "      <td>0</td>\n",
              "    </tr>\n",
              "    <tr>\n",
              "      <th>3</th>\n",
              "      <td>0</td>\n",
              "      <td>21</td>\n",
              "      <td>41700</td>\n",
              "      <td>2</td>\n",
              "    </tr>\n",
              "    <tr>\n",
              "      <th>4</th>\n",
              "      <td>1</td>\n",
              "      <td>28</td>\n",
              "      <td>26100</td>\n",
              "      <td>0</td>\n",
              "    </tr>\n",
              "  </tbody>\n",
              "</table>\n",
              "</div>\n",
              "    <div class=\"colab-df-buttons\">\n",
              "\n",
              "  <div class=\"colab-df-container\">\n",
              "    <button class=\"colab-df-convert\" onclick=\"convertToInteractive('df-2ca55499-a146-4bf1-9ebc-2c2364a624d4')\"\n",
              "            title=\"Convert this dataframe to an interactive table.\"\n",
              "            style=\"display:none;\">\n",
              "\n",
              "  <svg xmlns=\"http://www.w3.org/2000/svg\" height=\"24px\" viewBox=\"0 -960 960 960\">\n",
              "    <path d=\"M120-120v-720h720v720H120Zm60-500h600v-160H180v160Zm220 220h160v-160H400v160Zm0 220h160v-160H400v160ZM180-400h160v-160H180v160Zm440 0h160v-160H620v160ZM180-180h160v-160H180v160Zm440 0h160v-160H620v160Z\"/>\n",
              "  </svg>\n",
              "    </button>\n",
              "\n",
              "  <style>\n",
              "    .colab-df-container {\n",
              "      display:flex;\n",
              "      gap: 12px;\n",
              "    }\n",
              "\n",
              "    .colab-df-convert {\n",
              "      background-color: #E8F0FE;\n",
              "      border: none;\n",
              "      border-radius: 50%;\n",
              "      cursor: pointer;\n",
              "      display: none;\n",
              "      fill: #1967D2;\n",
              "      height: 32px;\n",
              "      padding: 0 0 0 0;\n",
              "      width: 32px;\n",
              "    }\n",
              "\n",
              "    .colab-df-convert:hover {\n",
              "      background-color: #E2EBFA;\n",
              "      box-shadow: 0px 1px 2px rgba(60, 64, 67, 0.3), 0px 1px 3px 1px rgba(60, 64, 67, 0.15);\n",
              "      fill: #174EA6;\n",
              "    }\n",
              "\n",
              "    .colab-df-buttons div {\n",
              "      margin-bottom: 4px;\n",
              "    }\n",
              "\n",
              "    [theme=dark] .colab-df-convert {\n",
              "      background-color: #3B4455;\n",
              "      fill: #D2E3FC;\n",
              "    }\n",
              "\n",
              "    [theme=dark] .colab-df-convert:hover {\n",
              "      background-color: #434B5C;\n",
              "      box-shadow: 0px 1px 3px 1px rgba(0, 0, 0, 0.15);\n",
              "      filter: drop-shadow(0px 1px 2px rgba(0, 0, 0, 0.3));\n",
              "      fill: #FFFFFF;\n",
              "    }\n",
              "  </style>\n",
              "\n",
              "    <script>\n",
              "      const buttonEl =\n",
              "        document.querySelector('#df-2ca55499-a146-4bf1-9ebc-2c2364a624d4 button.colab-df-convert');\n",
              "      buttonEl.style.display =\n",
              "        google.colab.kernel.accessAllowed ? 'block' : 'none';\n",
              "\n",
              "      async function convertToInteractive(key) {\n",
              "        const element = document.querySelector('#df-2ca55499-a146-4bf1-9ebc-2c2364a624d4');\n",
              "        const dataTable =\n",
              "          await google.colab.kernel.invokeFunction('convertToInteractive',\n",
              "                                                    [key], {});\n",
              "        if (!dataTable) return;\n",
              "\n",
              "        const docLinkHtml = 'Like what you see? Visit the ' +\n",
              "          '<a target=\"_blank\" href=https://colab.research.google.com/notebooks/data_table.ipynb>data table notebook</a>'\n",
              "          + ' to learn more about interactive tables.';\n",
              "        element.innerHTML = '';\n",
              "        dataTable['output_type'] = 'display_data';\n",
              "        await google.colab.output.renderOutput(dataTable, element);\n",
              "        const docLink = document.createElement('div');\n",
              "        docLink.innerHTML = docLinkHtml;\n",
              "        element.appendChild(docLink);\n",
              "      }\n",
              "    </script>\n",
              "  </div>\n",
              "\n",
              "\n",
              "<div id=\"df-bbe7606f-0dc3-49a1-ac1b-4adff999d1a7\">\n",
              "  <button class=\"colab-df-quickchart\" onclick=\"quickchart('df-bbe7606f-0dc3-49a1-ac1b-4adff999d1a7')\"\n",
              "            title=\"Suggest charts\"\n",
              "            style=\"display:none;\">\n",
              "\n",
              "<svg xmlns=\"http://www.w3.org/2000/svg\" height=\"24px\"viewBox=\"0 0 24 24\"\n",
              "     width=\"24px\">\n",
              "    <g>\n",
              "        <path d=\"M19 3H5c-1.1 0-2 .9-2 2v14c0 1.1.9 2 2 2h14c1.1 0 2-.9 2-2V5c0-1.1-.9-2-2-2zM9 17H7v-7h2v7zm4 0h-2V7h2v10zm4 0h-2v-4h2v4z\"/>\n",
              "    </g>\n",
              "</svg>\n",
              "  </button>\n",
              "\n",
              "<style>\n",
              "  .colab-df-quickchart {\n",
              "      --bg-color: #E8F0FE;\n",
              "      --fill-color: #1967D2;\n",
              "      --hover-bg-color: #E2EBFA;\n",
              "      --hover-fill-color: #174EA6;\n",
              "      --disabled-fill-color: #AAA;\n",
              "      --disabled-bg-color: #DDD;\n",
              "  }\n",
              "\n",
              "  [theme=dark] .colab-df-quickchart {\n",
              "      --bg-color: #3B4455;\n",
              "      --fill-color: #D2E3FC;\n",
              "      --hover-bg-color: #434B5C;\n",
              "      --hover-fill-color: #FFFFFF;\n",
              "      --disabled-bg-color: #3B4455;\n",
              "      --disabled-fill-color: #666;\n",
              "  }\n",
              "\n",
              "  .colab-df-quickchart {\n",
              "    background-color: var(--bg-color);\n",
              "    border: none;\n",
              "    border-radius: 50%;\n",
              "    cursor: pointer;\n",
              "    display: none;\n",
              "    fill: var(--fill-color);\n",
              "    height: 32px;\n",
              "    padding: 0;\n",
              "    width: 32px;\n",
              "  }\n",
              "\n",
              "  .colab-df-quickchart:hover {\n",
              "    background-color: var(--hover-bg-color);\n",
              "    box-shadow: 0 1px 2px rgba(60, 64, 67, 0.3), 0 1px 3px 1px rgba(60, 64, 67, 0.15);\n",
              "    fill: var(--button-hover-fill-color);\n",
              "  }\n",
              "\n",
              "  .colab-df-quickchart-complete:disabled,\n",
              "  .colab-df-quickchart-complete:disabled:hover {\n",
              "    background-color: var(--disabled-bg-color);\n",
              "    fill: var(--disabled-fill-color);\n",
              "    box-shadow: none;\n",
              "  }\n",
              "\n",
              "  .colab-df-spinner {\n",
              "    border: 2px solid var(--fill-color);\n",
              "    border-color: transparent;\n",
              "    border-bottom-color: var(--fill-color);\n",
              "    animation:\n",
              "      spin 1s steps(1) infinite;\n",
              "  }\n",
              "\n",
              "  @keyframes spin {\n",
              "    0% {\n",
              "      border-color: transparent;\n",
              "      border-bottom-color: var(--fill-color);\n",
              "      border-left-color: var(--fill-color);\n",
              "    }\n",
              "    20% {\n",
              "      border-color: transparent;\n",
              "      border-left-color: var(--fill-color);\n",
              "      border-top-color: var(--fill-color);\n",
              "    }\n",
              "    30% {\n",
              "      border-color: transparent;\n",
              "      border-left-color: var(--fill-color);\n",
              "      border-top-color: var(--fill-color);\n",
              "      border-right-color: var(--fill-color);\n",
              "    }\n",
              "    40% {\n",
              "      border-color: transparent;\n",
              "      border-right-color: var(--fill-color);\n",
              "      border-top-color: var(--fill-color);\n",
              "    }\n",
              "    60% {\n",
              "      border-color: transparent;\n",
              "      border-right-color: var(--fill-color);\n",
              "    }\n",
              "    80% {\n",
              "      border-color: transparent;\n",
              "      border-right-color: var(--fill-color);\n",
              "      border-bottom-color: var(--fill-color);\n",
              "    }\n",
              "    90% {\n",
              "      border-color: transparent;\n",
              "      border-bottom-color: var(--fill-color);\n",
              "    }\n",
              "  }\n",
              "</style>\n",
              "\n",
              "  <script>\n",
              "    async function quickchart(key) {\n",
              "      const quickchartButtonEl =\n",
              "        document.querySelector('#' + key + ' button');\n",
              "      quickchartButtonEl.disabled = true;  // To prevent multiple clicks.\n",
              "      quickchartButtonEl.classList.add('colab-df-spinner');\n",
              "      try {\n",
              "        const charts = await google.colab.kernel.invokeFunction(\n",
              "            'suggestCharts', [key], {});\n",
              "      } catch (error) {\n",
              "        console.error('Error during call to suggestCharts:', error);\n",
              "      }\n",
              "      quickchartButtonEl.classList.remove('colab-df-spinner');\n",
              "      quickchartButtonEl.classList.add('colab-df-quickchart-complete');\n",
              "    }\n",
              "    (() => {\n",
              "      let quickchartButtonEl =\n",
              "        document.querySelector('#df-bbe7606f-0dc3-49a1-ac1b-4adff999d1a7 button');\n",
              "      quickchartButtonEl.style.display =\n",
              "        google.colab.kernel.accessAllowed ? 'block' : 'none';\n",
              "    })();\n",
              "  </script>\n",
              "</div>\n",
              "    </div>\n",
              "  </div>\n"
            ]
          },
          "metadata": {}
        },
        {
          "output_type": "stream",
          "name": "stdout",
          "text": [
            "------------------------------------------------------------\n",
            "Матрица Х после шифрования:\n"
          ]
        },
        {
          "output_type": "execute_result",
          "data": {
            "text/plain": [
              "   sex  age  salary  family_members\n",
              "0    1   41   49600               1\n",
              "1    0   46   38000               1\n",
              "2    0   29   21000               0\n",
              "3    0   21   41700               2\n",
              "4    1   28   26100               0"
            ],
            "text/html": [
              "\n",
              "  <div id=\"df-b27f8cfb-b9ed-4dfe-be3b-573d4dbcb560\" class=\"colab-df-container\">\n",
              "    <div>\n",
              "<style scoped>\n",
              "    .dataframe tbody tr th:only-of-type {\n",
              "        vertical-align: middle;\n",
              "    }\n",
              "\n",
              "    .dataframe tbody tr th {\n",
              "        vertical-align: top;\n",
              "    }\n",
              "\n",
              "    .dataframe thead th {\n",
              "        text-align: right;\n",
              "    }\n",
              "</style>\n",
              "<table border=\"1\" class=\"dataframe\">\n",
              "  <thead>\n",
              "    <tr style=\"text-align: right;\">\n",
              "      <th></th>\n",
              "      <th>sex</th>\n",
              "      <th>age</th>\n",
              "      <th>salary</th>\n",
              "      <th>family_members</th>\n",
              "    </tr>\n",
              "  </thead>\n",
              "  <tbody>\n",
              "    <tr>\n",
              "      <th>0</th>\n",
              "      <td>1</td>\n",
              "      <td>41</td>\n",
              "      <td>49600</td>\n",
              "      <td>1</td>\n",
              "    </tr>\n",
              "    <tr>\n",
              "      <th>1</th>\n",
              "      <td>0</td>\n",
              "      <td>46</td>\n",
              "      <td>38000</td>\n",
              "      <td>1</td>\n",
              "    </tr>\n",
              "    <tr>\n",
              "      <th>2</th>\n",
              "      <td>0</td>\n",
              "      <td>29</td>\n",
              "      <td>21000</td>\n",
              "      <td>0</td>\n",
              "    </tr>\n",
              "    <tr>\n",
              "      <th>3</th>\n",
              "      <td>0</td>\n",
              "      <td>21</td>\n",
              "      <td>41700</td>\n",
              "      <td>2</td>\n",
              "    </tr>\n",
              "    <tr>\n",
              "      <th>4</th>\n",
              "      <td>1</td>\n",
              "      <td>28</td>\n",
              "      <td>26100</td>\n",
              "      <td>0</td>\n",
              "    </tr>\n",
              "  </tbody>\n",
              "</table>\n",
              "</div>\n",
              "    <div class=\"colab-df-buttons\">\n",
              "\n",
              "  <div class=\"colab-df-container\">\n",
              "    <button class=\"colab-df-convert\" onclick=\"convertToInteractive('df-b27f8cfb-b9ed-4dfe-be3b-573d4dbcb560')\"\n",
              "            title=\"Convert this dataframe to an interactive table.\"\n",
              "            style=\"display:none;\">\n",
              "\n",
              "  <svg xmlns=\"http://www.w3.org/2000/svg\" height=\"24px\" viewBox=\"0 -960 960 960\">\n",
              "    <path d=\"M120-120v-720h720v720H120Zm60-500h600v-160H180v160Zm220 220h160v-160H400v160Zm0 220h160v-160H400v160ZM180-400h160v-160H180v160Zm440 0h160v-160H620v160ZM180-180h160v-160H180v160Zm440 0h160v-160H620v160Z\"/>\n",
              "  </svg>\n",
              "    </button>\n",
              "\n",
              "  <style>\n",
              "    .colab-df-container {\n",
              "      display:flex;\n",
              "      gap: 12px;\n",
              "    }\n",
              "\n",
              "    .colab-df-convert {\n",
              "      background-color: #E8F0FE;\n",
              "      border: none;\n",
              "      border-radius: 50%;\n",
              "      cursor: pointer;\n",
              "      display: none;\n",
              "      fill: #1967D2;\n",
              "      height: 32px;\n",
              "      padding: 0 0 0 0;\n",
              "      width: 32px;\n",
              "    }\n",
              "\n",
              "    .colab-df-convert:hover {\n",
              "      background-color: #E2EBFA;\n",
              "      box-shadow: 0px 1px 2px rgba(60, 64, 67, 0.3), 0px 1px 3px 1px rgba(60, 64, 67, 0.15);\n",
              "      fill: #174EA6;\n",
              "    }\n",
              "\n",
              "    .colab-df-buttons div {\n",
              "      margin-bottom: 4px;\n",
              "    }\n",
              "\n",
              "    [theme=dark] .colab-df-convert {\n",
              "      background-color: #3B4455;\n",
              "      fill: #D2E3FC;\n",
              "    }\n",
              "\n",
              "    [theme=dark] .colab-df-convert:hover {\n",
              "      background-color: #434B5C;\n",
              "      box-shadow: 0px 1px 3px 1px rgba(0, 0, 0, 0.15);\n",
              "      filter: drop-shadow(0px 1px 2px rgba(0, 0, 0, 0.3));\n",
              "      fill: #FFFFFF;\n",
              "    }\n",
              "  </style>\n",
              "\n",
              "    <script>\n",
              "      const buttonEl =\n",
              "        document.querySelector('#df-b27f8cfb-b9ed-4dfe-be3b-573d4dbcb560 button.colab-df-convert');\n",
              "      buttonEl.style.display =\n",
              "        google.colab.kernel.accessAllowed ? 'block' : 'none';\n",
              "\n",
              "      async function convertToInteractive(key) {\n",
              "        const element = document.querySelector('#df-b27f8cfb-b9ed-4dfe-be3b-573d4dbcb560');\n",
              "        const dataTable =\n",
              "          await google.colab.kernel.invokeFunction('convertToInteractive',\n",
              "                                                    [key], {});\n",
              "        if (!dataTable) return;\n",
              "\n",
              "        const docLinkHtml = 'Like what you see? Visit the ' +\n",
              "          '<a target=\"_blank\" href=https://colab.research.google.com/notebooks/data_table.ipynb>data table notebook</a>'\n",
              "          + ' to learn more about interactive tables.';\n",
              "        element.innerHTML = '';\n",
              "        dataTable['output_type'] = 'display_data';\n",
              "        await google.colab.output.renderOutput(dataTable, element);\n",
              "        const docLink = document.createElement('div');\n",
              "        docLink.innerHTML = docLinkHtml;\n",
              "        element.appendChild(docLink);\n",
              "      }\n",
              "    </script>\n",
              "  </div>\n",
              "\n",
              "\n",
              "<div id=\"df-670e26a7-9359-4664-b7e6-7f028141bbab\">\n",
              "  <button class=\"colab-df-quickchart\" onclick=\"quickchart('df-670e26a7-9359-4664-b7e6-7f028141bbab')\"\n",
              "            title=\"Suggest charts\"\n",
              "            style=\"display:none;\">\n",
              "\n",
              "<svg xmlns=\"http://www.w3.org/2000/svg\" height=\"24px\"viewBox=\"0 0 24 24\"\n",
              "     width=\"24px\">\n",
              "    <g>\n",
              "        <path d=\"M19 3H5c-1.1 0-2 .9-2 2v14c0 1.1.9 2 2 2h14c1.1 0 2-.9 2-2V5c0-1.1-.9-2-2-2zM9 17H7v-7h2v7zm4 0h-2V7h2v10zm4 0h-2v-4h2v4z\"/>\n",
              "    </g>\n",
              "</svg>\n",
              "  </button>\n",
              "\n",
              "<style>\n",
              "  .colab-df-quickchart {\n",
              "      --bg-color: #E8F0FE;\n",
              "      --fill-color: #1967D2;\n",
              "      --hover-bg-color: #E2EBFA;\n",
              "      --hover-fill-color: #174EA6;\n",
              "      --disabled-fill-color: #AAA;\n",
              "      --disabled-bg-color: #DDD;\n",
              "  }\n",
              "\n",
              "  [theme=dark] .colab-df-quickchart {\n",
              "      --bg-color: #3B4455;\n",
              "      --fill-color: #D2E3FC;\n",
              "      --hover-bg-color: #434B5C;\n",
              "      --hover-fill-color: #FFFFFF;\n",
              "      --disabled-bg-color: #3B4455;\n",
              "      --disabled-fill-color: #666;\n",
              "  }\n",
              "\n",
              "  .colab-df-quickchart {\n",
              "    background-color: var(--bg-color);\n",
              "    border: none;\n",
              "    border-radius: 50%;\n",
              "    cursor: pointer;\n",
              "    display: none;\n",
              "    fill: var(--fill-color);\n",
              "    height: 32px;\n",
              "    padding: 0;\n",
              "    width: 32px;\n",
              "  }\n",
              "\n",
              "  .colab-df-quickchart:hover {\n",
              "    background-color: var(--hover-bg-color);\n",
              "    box-shadow: 0 1px 2px rgba(60, 64, 67, 0.3), 0 1px 3px 1px rgba(60, 64, 67, 0.15);\n",
              "    fill: var(--button-hover-fill-color);\n",
              "  }\n",
              "\n",
              "  .colab-df-quickchart-complete:disabled,\n",
              "  .colab-df-quickchart-complete:disabled:hover {\n",
              "    background-color: var(--disabled-bg-color);\n",
              "    fill: var(--disabled-fill-color);\n",
              "    box-shadow: none;\n",
              "  }\n",
              "\n",
              "  .colab-df-spinner {\n",
              "    border: 2px solid var(--fill-color);\n",
              "    border-color: transparent;\n",
              "    border-bottom-color: var(--fill-color);\n",
              "    animation:\n",
              "      spin 1s steps(1) infinite;\n",
              "  }\n",
              "\n",
              "  @keyframes spin {\n",
              "    0% {\n",
              "      border-color: transparent;\n",
              "      border-bottom-color: var(--fill-color);\n",
              "      border-left-color: var(--fill-color);\n",
              "    }\n",
              "    20% {\n",
              "      border-color: transparent;\n",
              "      border-left-color: var(--fill-color);\n",
              "      border-top-color: var(--fill-color);\n",
              "    }\n",
              "    30% {\n",
              "      border-color: transparent;\n",
              "      border-left-color: var(--fill-color);\n",
              "      border-top-color: var(--fill-color);\n",
              "      border-right-color: var(--fill-color);\n",
              "    }\n",
              "    40% {\n",
              "      border-color: transparent;\n",
              "      border-right-color: var(--fill-color);\n",
              "      border-top-color: var(--fill-color);\n",
              "    }\n",
              "    60% {\n",
              "      border-color: transparent;\n",
              "      border-right-color: var(--fill-color);\n",
              "    }\n",
              "    80% {\n",
              "      border-color: transparent;\n",
              "      border-right-color: var(--fill-color);\n",
              "      border-bottom-color: var(--fill-color);\n",
              "    }\n",
              "    90% {\n",
              "      border-color: transparent;\n",
              "      border-bottom-color: var(--fill-color);\n",
              "    }\n",
              "  }\n",
              "</style>\n",
              "\n",
              "  <script>\n",
              "    async function quickchart(key) {\n",
              "      const quickchartButtonEl =\n",
              "        document.querySelector('#' + key + ' button');\n",
              "      quickchartButtonEl.disabled = true;  // To prevent multiple clicks.\n",
              "      quickchartButtonEl.classList.add('colab-df-spinner');\n",
              "      try {\n",
              "        const charts = await google.colab.kernel.invokeFunction(\n",
              "            'suggestCharts', [key], {});\n",
              "      } catch (error) {\n",
              "        console.error('Error during call to suggestCharts:', error);\n",
              "      }\n",
              "      quickchartButtonEl.classList.remove('colab-df-spinner');\n",
              "      quickchartButtonEl.classList.add('colab-df-quickchart-complete');\n",
              "    }\n",
              "    (() => {\n",
              "      let quickchartButtonEl =\n",
              "        document.querySelector('#df-670e26a7-9359-4664-b7e6-7f028141bbab button');\n",
              "      quickchartButtonEl.style.display =\n",
              "        google.colab.kernel.accessAllowed ? 'block' : 'none';\n",
              "    })();\n",
              "  </script>\n",
              "</div>\n",
              "    </div>\n",
              "  </div>\n"
            ]
          },
          "metadata": {},
          "execution_count": 24
        }
      ],
      "source": [
        "print('Матрица Х до шифрования:')\n",
        "display(features.head())\n",
        "print('-'*60)\n",
        "print('Матрица Х после шифрования:')\n",
        "decryp_Z = decryption(features_Z, matrix_P)\n",
        "decryp_Z.head()"
      ]
    },
    {
      "cell_type": "markdown",
      "metadata": {
        "id": "x124luTTcO0o"
      },
      "source": [
        "Дешифровка проведена успешно."
      ]
    },
    {
      "cell_type": "markdown",
      "metadata": {
        "id": "cKSTl-jacO0o"
      },
      "source": [
        "## Итоговый вывод"
      ]
    },
    {
      "cell_type": "markdown",
      "metadata": {
        "id": "TUp_jbEDcO0o"
      },
      "source": [
        "В ходе работы было проделано:\n",
        "\n",
        "- Загружены и изучены данные.\n",
        "- Качество линейной регресии не изменилось от использования исходной матрицы и исходной матрицы, умноженную на обратимую.\n",
        "- Создан алгоритм преобразования данных.\n",
        "- Исследован алгоритм преобразования данных и проверена метрика R2 для данных без преобразования и с ним, а так же со стандартизацией и без нее.\n",
        "\n",
        "\n",
        "По результатам работы использования матричных операций можно увидеть, что данные очень просто зашифровать от распознования, имея правильную матрицу."
      ]
    }
  ],
  "metadata": {
    "ExecuteTimeLog": [
      {
        "duration": 1127,
        "start_time": "2023-10-24T06:28:08.638Z"
      },
      {
        "duration": 85,
        "start_time": "2023-10-24T06:28:11.699Z"
      },
      {
        "duration": 17,
        "start_time": "2023-10-24T06:28:18.594Z"
      },
      {
        "duration": 13,
        "start_time": "2023-10-24T06:29:12.723Z"
      },
      {
        "duration": 11,
        "start_time": "2023-10-24T06:30:01.084Z"
      },
      {
        "duration": 4,
        "start_time": "2023-10-24T06:44:48.889Z"
      },
      {
        "duration": 12,
        "start_time": "2023-10-24T06:46:01.050Z"
      },
      {
        "duration": 4,
        "start_time": "2023-10-24T06:48:53.556Z"
      },
      {
        "duration": 12,
        "start_time": "2023-10-24T06:48:54.186Z"
      },
      {
        "duration": 3,
        "start_time": "2023-10-24T06:49:18.098Z"
      },
      {
        "duration": 10,
        "start_time": "2023-10-24T06:49:18.866Z"
      },
      {
        "duration": 4,
        "start_time": "2023-10-24T06:50:57.162Z"
      },
      {
        "duration": 95,
        "start_time": "2023-10-24T06:50:57.882Z"
      },
      {
        "duration": 3,
        "start_time": "2023-10-24T06:51:06.453Z"
      },
      {
        "duration": 15,
        "start_time": "2023-10-24T06:51:07.035Z"
      },
      {
        "duration": 7,
        "start_time": "2023-10-24T06:51:24.162Z"
      },
      {
        "duration": 11,
        "start_time": "2023-10-24T06:51:24.457Z"
      },
      {
        "duration": 1098,
        "start_time": "2023-10-24T06:53:32.599Z"
      },
      {
        "duration": 28,
        "start_time": "2023-10-24T06:53:33.701Z"
      },
      {
        "duration": 11,
        "start_time": "2023-10-24T06:53:33.731Z"
      },
      {
        "duration": 15,
        "start_time": "2023-10-24T06:53:33.743Z"
      },
      {
        "duration": 4,
        "start_time": "2023-10-24T06:53:33.993Z"
      },
      {
        "duration": 13,
        "start_time": "2023-10-24T06:53:34.330Z"
      },
      {
        "duration": 4,
        "start_time": "2023-10-24T06:53:34.938Z"
      },
      {
        "duration": 11,
        "start_time": "2023-10-24T06:53:35.465Z"
      },
      {
        "duration": 4,
        "start_time": "2023-10-24T06:53:43.953Z"
      },
      {
        "duration": 4,
        "start_time": "2023-10-24T08:44:48.894Z"
      },
      {
        "duration": 9,
        "start_time": "2023-10-24T08:45:05.275Z"
      },
      {
        "duration": 3,
        "start_time": "2023-10-24T08:46:31.583Z"
      },
      {
        "duration": 13,
        "start_time": "2023-10-24T08:46:56.407Z"
      },
      {
        "duration": 8,
        "start_time": "2023-10-24T09:00:25.981Z"
      },
      {
        "duration": 5,
        "start_time": "2023-10-24T09:01:26.837Z"
      },
      {
        "duration": 16,
        "start_time": "2023-10-24T09:03:26.917Z"
      },
      {
        "duration": 4,
        "start_time": "2023-10-24T11:12:27.090Z"
      },
      {
        "duration": 10,
        "start_time": "2023-10-24T11:13:23.621Z"
      },
      {
        "duration": 9,
        "start_time": "2023-10-24T11:21:56.617Z"
      },
      {
        "duration": 7,
        "start_time": "2023-10-24T11:22:09.416Z"
      },
      {
        "duration": 6,
        "start_time": "2023-10-24T11:22:44.146Z"
      },
      {
        "duration": 13,
        "start_time": "2023-10-24T11:22:46.505Z"
      },
      {
        "duration": 7,
        "start_time": "2023-10-24T11:22:48.225Z"
      },
      {
        "duration": 4,
        "start_time": "2023-10-24T11:26:35.210Z"
      },
      {
        "duration": 5,
        "start_time": "2023-10-24T11:26:41.497Z"
      },
      {
        "duration": 5,
        "start_time": "2023-10-24T11:27:23.385Z"
      },
      {
        "duration": 3,
        "start_time": "2023-10-24T11:27:46.657Z"
      },
      {
        "duration": 1129,
        "start_time": "2023-10-24T14:32:51.527Z"
      },
      {
        "duration": 29,
        "start_time": "2023-10-24T14:32:52.658Z"
      },
      {
        "duration": 11,
        "start_time": "2023-10-24T14:32:52.688Z"
      },
      {
        "duration": 22,
        "start_time": "2023-10-24T14:32:52.702Z"
      },
      {
        "duration": 3,
        "start_time": "2023-10-24T14:32:52.726Z"
      },
      {
        "duration": 28,
        "start_time": "2023-10-24T14:32:52.730Z"
      },
      {
        "duration": 3,
        "start_time": "2023-10-24T14:32:52.760Z"
      },
      {
        "duration": 8,
        "start_time": "2023-10-24T14:32:52.764Z"
      },
      {
        "duration": 7,
        "start_time": "2023-10-24T14:32:52.773Z"
      },
      {
        "duration": 2,
        "start_time": "2023-10-24T14:32:52.782Z"
      },
      {
        "duration": 10,
        "start_time": "2023-10-24T14:32:52.786Z"
      },
      {
        "duration": 13,
        "start_time": "2023-10-24T14:32:52.798Z"
      },
      {
        "duration": 6,
        "start_time": "2023-10-24T14:32:52.813Z"
      },
      {
        "duration": 5,
        "start_time": "2023-10-24T14:32:52.820Z"
      },
      {
        "duration": 4,
        "start_time": "2023-10-24T14:32:52.826Z"
      },
      {
        "duration": 25,
        "start_time": "2023-10-24T14:32:52.832Z"
      },
      {
        "duration": 91,
        "start_time": "2023-10-24T14:32:52.859Z"
      },
      {
        "duration": 105,
        "start_time": "2023-10-24T14:32:52.952Z"
      },
      {
        "duration": 10,
        "start_time": "2023-10-24T14:35:55.763Z"
      },
      {
        "duration": 6,
        "start_time": "2023-10-24T14:35:57.359Z"
      },
      {
        "duration": 9,
        "start_time": "2023-10-24T14:35:58.070Z"
      },
      {
        "duration": 5,
        "start_time": "2023-10-24T14:43:32.548Z"
      },
      {
        "duration": 4,
        "start_time": "2023-10-24T14:43:43.602Z"
      },
      {
        "duration": 1114,
        "start_time": "2023-10-25T06:15:42.500Z"
      },
      {
        "duration": 115,
        "start_time": "2023-10-25T06:15:43.617Z"
      },
      {
        "duration": 16,
        "start_time": "2023-10-25T06:15:43.733Z"
      },
      {
        "duration": 19,
        "start_time": "2023-10-25T06:15:43.751Z"
      },
      {
        "duration": 27,
        "start_time": "2023-10-25T06:15:43.772Z"
      },
      {
        "duration": 36,
        "start_time": "2023-10-25T06:15:43.800Z"
      },
      {
        "duration": 4,
        "start_time": "2023-10-25T06:15:43.838Z"
      },
      {
        "duration": 30,
        "start_time": "2023-10-25T06:15:43.843Z"
      },
      {
        "duration": 12,
        "start_time": "2023-10-25T06:15:43.874Z"
      },
      {
        "duration": 32,
        "start_time": "2023-10-25T06:15:43.888Z"
      },
      {
        "duration": 120,
        "start_time": "2023-10-25T06:15:43.926Z"
      },
      {
        "duration": 10,
        "start_time": "2023-10-25T06:15:44.048Z"
      },
      {
        "duration": 192,
        "start_time": "2023-10-25T06:15:44.060Z"
      },
      {
        "duration": 1093,
        "start_time": "2023-10-25T06:21:18.384Z"
      },
      {
        "duration": 28,
        "start_time": "2023-10-25T06:21:19.479Z"
      },
      {
        "duration": 12,
        "start_time": "2023-10-25T06:21:19.509Z"
      },
      {
        "duration": 27,
        "start_time": "2023-10-25T06:21:19.523Z"
      },
      {
        "duration": 13,
        "start_time": "2023-10-25T06:21:19.553Z"
      },
      {
        "duration": 30,
        "start_time": "2023-10-25T06:21:19.568Z"
      },
      {
        "duration": 26,
        "start_time": "2023-10-25T06:21:19.600Z"
      },
      {
        "duration": 20,
        "start_time": "2023-10-25T06:21:19.627Z"
      },
      {
        "duration": 24,
        "start_time": "2023-10-25T06:21:19.649Z"
      },
      {
        "duration": 23,
        "start_time": "2023-10-25T06:21:19.674Z"
      },
      {
        "duration": 49,
        "start_time": "2023-10-25T06:21:19.700Z"
      },
      {
        "duration": 198,
        "start_time": "2023-10-25T06:21:19.752Z"
      },
      {
        "duration": 97,
        "start_time": "2023-10-25T06:21:19.952Z"
      },
      {
        "duration": 1158,
        "start_time": "2023-10-25T06:23:34.088Z"
      },
      {
        "duration": 29,
        "start_time": "2023-10-25T06:23:35.247Z"
      },
      {
        "duration": 11,
        "start_time": "2023-10-25T06:23:35.278Z"
      },
      {
        "duration": 21,
        "start_time": "2023-10-25T06:23:35.291Z"
      },
      {
        "duration": 28,
        "start_time": "2023-10-25T06:23:35.314Z"
      },
      {
        "duration": 59,
        "start_time": "2023-10-25T06:23:35.344Z"
      },
      {
        "duration": 4,
        "start_time": "2023-10-25T06:23:35.404Z"
      },
      {
        "duration": 36,
        "start_time": "2023-10-25T06:23:35.409Z"
      },
      {
        "duration": 43,
        "start_time": "2023-10-25T06:23:35.447Z"
      },
      {
        "duration": 57,
        "start_time": "2023-10-25T06:23:35.492Z"
      },
      {
        "duration": 94,
        "start_time": "2023-10-25T06:23:35.552Z"
      },
      {
        "duration": 102,
        "start_time": "2023-10-25T06:23:35.648Z"
      },
      {
        "duration": 92,
        "start_time": "2023-10-25T06:23:35.755Z"
      },
      {
        "duration": 1095,
        "start_time": "2023-10-26T09:12:18.734Z"
      },
      {
        "duration": 77,
        "start_time": "2023-10-26T09:12:19.830Z"
      },
      {
        "duration": 10,
        "start_time": "2023-10-26T09:12:19.909Z"
      },
      {
        "duration": 14,
        "start_time": "2023-10-26T09:12:19.920Z"
      },
      {
        "duration": 2,
        "start_time": "2023-10-26T09:12:19.936Z"
      },
      {
        "duration": 13,
        "start_time": "2023-10-26T09:12:19.940Z"
      },
      {
        "duration": 3,
        "start_time": "2023-10-26T09:12:19.954Z"
      },
      {
        "duration": 6,
        "start_time": "2023-10-26T09:12:19.958Z"
      },
      {
        "duration": 6,
        "start_time": "2023-10-26T09:12:19.965Z"
      },
      {
        "duration": 72,
        "start_time": "2023-10-26T09:12:19.973Z"
      },
      {
        "duration": 93,
        "start_time": "2023-10-26T09:12:20.047Z"
      },
      {
        "duration": 100,
        "start_time": "2023-10-26T09:12:20.142Z"
      },
      {
        "duration": 5,
        "start_time": "2023-10-26T09:12:20.243Z"
      },
      {
        "duration": 97,
        "start_time": "2023-10-26T09:12:20.249Z"
      },
      {
        "duration": 139,
        "start_time": "2023-10-26T09:12:20.348Z"
      },
      {
        "duration": 10,
        "start_time": "2023-10-26T09:12:27.622Z"
      },
      {
        "duration": 4,
        "start_time": "2023-10-26T09:22:09.829Z"
      },
      {
        "duration": 14,
        "start_time": "2023-10-26T09:23:23.773Z"
      },
      {
        "duration": 4,
        "start_time": "2023-10-26T09:24:50.622Z"
      },
      {
        "duration": 8,
        "start_time": "2023-10-26T09:25:40.381Z"
      },
      {
        "duration": 11,
        "start_time": "2023-10-26T09:26:32.693Z"
      },
      {
        "duration": 8,
        "start_time": "2023-10-26T09:27:21.837Z"
      },
      {
        "duration": 1120,
        "start_time": "2023-10-26T09:33:30.512Z"
      },
      {
        "duration": 30,
        "start_time": "2023-10-26T09:33:31.634Z"
      },
      {
        "duration": 10,
        "start_time": "2023-10-26T09:33:31.666Z"
      },
      {
        "duration": 39,
        "start_time": "2023-10-26T09:33:31.678Z"
      },
      {
        "duration": 20,
        "start_time": "2023-10-26T09:33:31.719Z"
      },
      {
        "duration": 54,
        "start_time": "2023-10-26T09:33:31.743Z"
      },
      {
        "duration": 22,
        "start_time": "2023-10-26T09:33:31.799Z"
      },
      {
        "duration": 25,
        "start_time": "2023-10-26T09:33:31.823Z"
      },
      {
        "duration": 37,
        "start_time": "2023-10-26T09:33:31.850Z"
      },
      {
        "duration": 53,
        "start_time": "2023-10-26T09:33:31.889Z"
      },
      {
        "duration": 101,
        "start_time": "2023-10-26T09:33:31.944Z"
      },
      {
        "duration": 93,
        "start_time": "2023-10-26T09:33:32.049Z"
      },
      {
        "duration": 96,
        "start_time": "2023-10-26T09:33:32.144Z"
      },
      {
        "duration": 15,
        "start_time": "2023-10-26T09:33:32.244Z"
      },
      {
        "duration": 89,
        "start_time": "2023-10-26T09:33:32.262Z"
      },
      {
        "duration": 4,
        "start_time": "2023-10-26T09:33:32.353Z"
      },
      {
        "duration": 19,
        "start_time": "2023-10-26T09:33:32.358Z"
      },
      {
        "duration": 6,
        "start_time": "2023-10-26T09:33:32.378Z"
      },
      {
        "duration": 13,
        "start_time": "2023-10-26T09:33:32.386Z"
      },
      {
        "duration": 38,
        "start_time": "2023-10-26T09:33:32.401Z"
      },
      {
        "duration": 9,
        "start_time": "2023-10-26T09:33:32.441Z"
      },
      {
        "duration": 15,
        "start_time": "2023-10-26T09:45:02.859Z"
      },
      {
        "duration": 17,
        "start_time": "2023-10-26T09:45:22.461Z"
      },
      {
        "duration": 15,
        "start_time": "2023-10-26T09:45:28.116Z"
      },
      {
        "duration": 8,
        "start_time": "2023-10-26T09:49:42.482Z"
      },
      {
        "duration": 1007,
        "start_time": "2023-10-26T09:52:32.389Z"
      },
      {
        "duration": 29,
        "start_time": "2023-10-26T09:52:33.398Z"
      },
      {
        "duration": 12,
        "start_time": "2023-10-26T09:52:33.429Z"
      },
      {
        "duration": 16,
        "start_time": "2023-10-26T09:52:33.443Z"
      },
      {
        "duration": 9,
        "start_time": "2023-10-26T09:52:33.460Z"
      },
      {
        "duration": 16,
        "start_time": "2023-10-26T09:52:33.471Z"
      },
      {
        "duration": 3,
        "start_time": "2023-10-26T09:52:33.488Z"
      },
      {
        "duration": 4,
        "start_time": "2023-10-26T09:52:33.493Z"
      },
      {
        "duration": 7,
        "start_time": "2023-10-26T09:52:33.499Z"
      },
      {
        "duration": 38,
        "start_time": "2023-10-26T09:52:33.508Z"
      },
      {
        "duration": 93,
        "start_time": "2023-10-26T09:52:33.547Z"
      },
      {
        "duration": 99,
        "start_time": "2023-10-26T09:52:33.641Z"
      },
      {
        "duration": 6,
        "start_time": "2023-10-26T09:52:33.742Z"
      },
      {
        "duration": 96,
        "start_time": "2023-10-26T09:52:33.751Z"
      },
      {
        "duration": 11,
        "start_time": "2023-10-26T09:52:33.848Z"
      },
      {
        "duration": 3,
        "start_time": "2023-10-26T09:52:33.861Z"
      },
      {
        "duration": 19,
        "start_time": "2023-10-26T09:52:33.866Z"
      },
      {
        "duration": 4,
        "start_time": "2023-10-26T09:52:33.886Z"
      },
      {
        "duration": 8,
        "start_time": "2023-10-26T09:52:33.891Z"
      },
      {
        "duration": 45,
        "start_time": "2023-10-26T09:52:33.900Z"
      },
      {
        "duration": 8,
        "start_time": "2023-10-26T09:52:33.947Z"
      },
      {
        "duration": 2618,
        "start_time": "2023-10-26T10:33:15.999Z"
      },
      {
        "duration": 29,
        "start_time": "2023-10-26T10:33:18.621Z"
      },
      {
        "duration": 18,
        "start_time": "2023-10-26T10:33:18.652Z"
      },
      {
        "duration": 28,
        "start_time": "2023-10-26T10:33:18.672Z"
      },
      {
        "duration": 23,
        "start_time": "2023-10-26T10:33:18.702Z"
      },
      {
        "duration": 33,
        "start_time": "2023-10-26T10:33:18.727Z"
      },
      {
        "duration": 9,
        "start_time": "2023-10-26T10:33:18.762Z"
      },
      {
        "duration": 38,
        "start_time": "2023-10-26T10:33:18.773Z"
      },
      {
        "duration": 34,
        "start_time": "2023-10-26T10:33:18.813Z"
      },
      {
        "duration": 54,
        "start_time": "2023-10-26T10:33:18.850Z"
      },
      {
        "duration": 117,
        "start_time": "2023-10-26T10:33:18.906Z"
      },
      {
        "duration": 87,
        "start_time": "2023-10-26T10:33:19.025Z"
      },
      {
        "duration": 189,
        "start_time": "2023-10-26T10:33:19.115Z"
      },
      {
        "duration": 42,
        "start_time": "2023-10-26T10:33:19.306Z"
      },
      {
        "duration": 34,
        "start_time": "2023-10-26T10:33:19.349Z"
      },
      {
        "duration": 45,
        "start_time": "2023-10-26T10:33:19.385Z"
      },
      {
        "duration": 52,
        "start_time": "2023-10-26T10:33:19.432Z"
      },
      {
        "duration": 18,
        "start_time": "2023-10-26T10:33:19.486Z"
      },
      {
        "duration": 46,
        "start_time": "2023-10-26T10:33:19.506Z"
      },
      {
        "duration": 40,
        "start_time": "2023-10-26T10:33:19.554Z"
      },
      {
        "duration": 47,
        "start_time": "2023-10-26T10:33:19.595Z"
      },
      {
        "duration": 44,
        "start_time": "2023-10-26T12:06:49.619Z"
      },
      {
        "duration": 1102,
        "start_time": "2023-10-26T12:06:56.516Z"
      },
      {
        "duration": 93,
        "start_time": "2023-10-26T12:06:57.620Z"
      },
      {
        "duration": 10,
        "start_time": "2023-10-26T12:06:57.715Z"
      },
      {
        "duration": 15,
        "start_time": "2023-10-26T12:06:57.727Z"
      },
      {
        "duration": 20,
        "start_time": "2023-10-26T12:06:57.743Z"
      },
      {
        "duration": 1105,
        "start_time": "2023-10-26T12:12:41.381Z"
      },
      {
        "duration": 29,
        "start_time": "2023-10-26T12:12:42.488Z"
      },
      {
        "duration": 11,
        "start_time": "2023-10-26T12:12:42.519Z"
      },
      {
        "duration": 26,
        "start_time": "2023-10-26T12:12:42.531Z"
      },
      {
        "duration": 34,
        "start_time": "2023-10-26T12:12:42.559Z"
      },
      {
        "duration": 36,
        "start_time": "2023-10-26T12:12:42.595Z"
      },
      {
        "duration": 57,
        "start_time": "2023-10-26T12:12:42.632Z"
      },
      {
        "duration": 16,
        "start_time": "2023-10-26T12:12:42.691Z"
      },
      {
        "duration": 20,
        "start_time": "2023-10-26T12:12:42.709Z"
      },
      {
        "duration": 22,
        "start_time": "2023-10-26T12:12:42.730Z"
      },
      {
        "duration": 43,
        "start_time": "2023-10-26T12:12:42.753Z"
      },
      {
        "duration": 105,
        "start_time": "2023-10-26T12:12:42.843Z"
      },
      {
        "duration": 103,
        "start_time": "2023-10-26T12:12:42.950Z"
      },
      {
        "duration": 93,
        "start_time": "2023-10-26T12:12:43.057Z"
      },
      {
        "duration": 100,
        "start_time": "2023-10-26T12:12:43.153Z"
      },
      {
        "duration": 29,
        "start_time": "2023-10-26T12:12:43.255Z"
      },
      {
        "duration": 9,
        "start_time": "2023-10-26T12:12:43.286Z"
      },
      {
        "duration": 28,
        "start_time": "2023-10-26T12:12:43.297Z"
      },
      {
        "duration": 25,
        "start_time": "2023-10-26T12:12:43.327Z"
      },
      {
        "duration": 19,
        "start_time": "2023-10-26T12:12:43.353Z"
      },
      {
        "duration": 29,
        "start_time": "2023-10-26T12:12:43.374Z"
      },
      {
        "duration": 20,
        "start_time": "2023-10-26T12:12:43.404Z"
      },
      {
        "duration": 16,
        "start_time": "2023-10-26T12:14:07.530Z"
      },
      {
        "duration": 12,
        "start_time": "2023-10-26T12:15:59.696Z"
      },
      {
        "duration": 10,
        "start_time": "2023-10-26T12:17:01.368Z"
      },
      {
        "duration": 98,
        "start_time": "2023-10-26T12:19:02.881Z"
      },
      {
        "duration": 4,
        "start_time": "2023-10-26T12:19:23.165Z"
      },
      {
        "duration": 9,
        "start_time": "2023-10-26T12:19:30.071Z"
      },
      {
        "duration": 5,
        "start_time": "2023-10-26T12:19:50.007Z"
      },
      {
        "duration": 9,
        "start_time": "2023-10-26T12:19:50.828Z"
      },
      {
        "duration": 5,
        "start_time": "2023-10-26T12:20:03.623Z"
      },
      {
        "duration": 8,
        "start_time": "2023-10-26T12:20:04.463Z"
      },
      {
        "duration": 12,
        "start_time": "2023-10-26T12:20:30.270Z"
      },
      {
        "duration": 3,
        "start_time": "2023-10-26T12:26:54.139Z"
      },
      {
        "duration": 13,
        "start_time": "2023-10-26T12:28:07.868Z"
      },
      {
        "duration": 4,
        "start_time": "2023-10-26T12:28:28.398Z"
      },
      {
        "duration": 14,
        "start_time": "2023-10-26T12:28:28.910Z"
      },
      {
        "duration": 17,
        "start_time": "2023-10-26T12:29:18.667Z"
      },
      {
        "duration": 3,
        "start_time": "2023-10-26T12:35:05.247Z"
      },
      {
        "duration": 24,
        "start_time": "2023-10-26T12:35:06.910Z"
      },
      {
        "duration": 4,
        "start_time": "2023-10-26T12:35:26.510Z"
      },
      {
        "duration": 15,
        "start_time": "2023-10-26T12:35:27.698Z"
      },
      {
        "duration": 7,
        "start_time": "2023-10-26T12:35:49.293Z"
      },
      {
        "duration": 16,
        "start_time": "2023-10-26T12:36:37.040Z"
      },
      {
        "duration": 3,
        "start_time": "2023-10-26T12:37:04.494Z"
      },
      {
        "duration": 15,
        "start_time": "2023-10-26T12:37:05.878Z"
      },
      {
        "duration": 6,
        "start_time": "2023-10-26T12:38:08.207Z"
      },
      {
        "duration": 6,
        "start_time": "2023-10-26T12:38:13.622Z"
      },
      {
        "duration": 10,
        "start_time": "2023-10-26T12:40:03.982Z"
      },
      {
        "duration": 3,
        "start_time": "2023-10-26T12:40:15.701Z"
      },
      {
        "duration": 17,
        "start_time": "2023-10-26T12:40:17.990Z"
      },
      {
        "duration": 11,
        "start_time": "2023-10-26T12:40:20.878Z"
      },
      {
        "duration": 4,
        "start_time": "2023-10-26T12:40:33.317Z"
      },
      {
        "duration": 19,
        "start_time": "2023-10-26T12:40:36.630Z"
      },
      {
        "duration": 4,
        "start_time": "2023-10-26T12:40:59.986Z"
      },
      {
        "duration": 22,
        "start_time": "2023-10-26T12:41:01.622Z"
      },
      {
        "duration": 10,
        "start_time": "2023-10-26T12:41:43.289Z"
      },
      {
        "duration": 10,
        "start_time": "2023-10-26T12:42:09.292Z"
      },
      {
        "duration": 3,
        "start_time": "2023-10-26T12:42:52.134Z"
      },
      {
        "duration": 25,
        "start_time": "2023-10-26T12:42:55.986Z"
      },
      {
        "duration": 4,
        "start_time": "2023-10-26T12:43:22.037Z"
      },
      {
        "duration": 18,
        "start_time": "2023-10-26T12:43:24.630Z"
      },
      {
        "duration": 5,
        "start_time": "2023-10-26T12:46:36.387Z"
      },
      {
        "duration": 22,
        "start_time": "2023-10-26T12:46:37.188Z"
      },
      {
        "duration": 46,
        "start_time": "2023-10-27T07:37:32.538Z"
      },
      {
        "duration": 1075,
        "start_time": "2023-10-27T07:37:39.985Z"
      },
      {
        "duration": 13,
        "start_time": "2023-10-27T07:57:53.681Z"
      },
      {
        "duration": 1227,
        "start_time": "2023-10-27T07:58:09.307Z"
      },
      {
        "duration": 85,
        "start_time": "2023-10-27T07:58:10.536Z"
      },
      {
        "duration": 11,
        "start_time": "2023-10-27T07:58:10.622Z"
      },
      {
        "duration": 15,
        "start_time": "2023-10-27T07:58:10.635Z"
      },
      {
        "duration": 27,
        "start_time": "2023-10-27T07:58:10.651Z"
      },
      {
        "duration": 4,
        "start_time": "2023-10-27T07:58:10.679Z"
      },
      {
        "duration": 29,
        "start_time": "2023-10-27T07:58:10.684Z"
      },
      {
        "duration": 3,
        "start_time": "2023-10-27T07:58:10.715Z"
      },
      {
        "duration": 25,
        "start_time": "2023-10-27T07:58:10.719Z"
      },
      {
        "duration": 5,
        "start_time": "2023-10-27T07:58:10.747Z"
      },
      {
        "duration": 35,
        "start_time": "2023-10-27T07:58:10.753Z"
      },
      {
        "duration": 156,
        "start_time": "2023-10-27T07:58:10.790Z"
      },
      {
        "duration": 100,
        "start_time": "2023-10-27T07:58:10.948Z"
      },
      {
        "duration": 96,
        "start_time": "2023-10-27T07:58:11.050Z"
      },
      {
        "duration": 11,
        "start_time": "2023-10-27T07:58:11.148Z"
      },
      {
        "duration": 20,
        "start_time": "2023-10-27T07:58:11.161Z"
      },
      {
        "duration": 6,
        "start_time": "2023-10-27T07:58:11.183Z"
      },
      {
        "duration": 8,
        "start_time": "2023-10-27T07:58:11.190Z"
      },
      {
        "duration": 17,
        "start_time": "2023-10-27T07:58:11.199Z"
      },
      {
        "duration": 29,
        "start_time": "2023-10-27T07:58:11.217Z"
      },
      {
        "duration": 44,
        "start_time": "2023-10-27T07:58:11.247Z"
      },
      {
        "duration": 20,
        "start_time": "2023-10-27T07:58:11.292Z"
      },
      {
        "duration": 8,
        "start_time": "2023-10-27T07:58:11.314Z"
      },
      {
        "duration": 38,
        "start_time": "2023-10-27T07:58:11.324Z"
      },
      {
        "duration": 33,
        "start_time": "2023-10-27T07:58:11.364Z"
      },
      {
        "duration": 4,
        "start_time": "2023-10-27T07:58:19.038Z"
      },
      {
        "duration": 50,
        "start_time": "2023-10-27T07:58:19.043Z"
      },
      {
        "duration": 10,
        "start_time": "2023-10-27T07:58:19.095Z"
      },
      {
        "duration": 13,
        "start_time": "2023-10-27T07:58:19.107Z"
      },
      {
        "duration": 27,
        "start_time": "2023-10-27T07:58:19.122Z"
      },
      {
        "duration": 3,
        "start_time": "2023-10-27T07:58:19.151Z"
      },
      {
        "duration": 37,
        "start_time": "2023-10-27T07:58:19.156Z"
      },
      {
        "duration": 16,
        "start_time": "2023-10-27T07:58:19.195Z"
      },
      {
        "duration": 28,
        "start_time": "2023-10-27T07:58:19.212Z"
      },
      {
        "duration": 11,
        "start_time": "2023-10-27T07:58:19.241Z"
      },
      {
        "duration": 95,
        "start_time": "2023-10-27T07:58:19.254Z"
      },
      {
        "duration": 95,
        "start_time": "2023-10-27T07:58:19.351Z"
      },
      {
        "duration": 109,
        "start_time": "2023-10-27T07:58:19.449Z"
      },
      {
        "duration": 101,
        "start_time": "2023-10-27T07:58:19.644Z"
      },
      {
        "duration": 24,
        "start_time": "2023-10-27T07:58:19.746Z"
      },
      {
        "duration": 30,
        "start_time": "2023-10-27T07:58:19.772Z"
      },
      {
        "duration": 16,
        "start_time": "2023-10-27T07:58:19.804Z"
      },
      {
        "duration": 14,
        "start_time": "2023-10-27T07:58:19.821Z"
      },
      {
        "duration": 35,
        "start_time": "2023-10-27T07:58:19.837Z"
      },
      {
        "duration": 26,
        "start_time": "2023-10-27T07:58:19.874Z"
      },
      {
        "duration": 22,
        "start_time": "2023-10-27T07:58:19.902Z"
      },
      {
        "duration": 13,
        "start_time": "2023-10-27T07:58:19.925Z"
      },
      {
        "duration": 17,
        "start_time": "2023-10-27T07:58:19.940Z"
      },
      {
        "duration": 8,
        "start_time": "2023-10-27T07:58:19.959Z"
      },
      {
        "duration": 24,
        "start_time": "2023-10-27T07:58:19.969Z"
      },
      {
        "duration": 1473,
        "start_time": "2023-10-27T07:58:32.394Z"
      },
      {
        "duration": 31,
        "start_time": "2023-10-27T07:58:33.869Z"
      },
      {
        "duration": 11,
        "start_time": "2023-10-27T07:58:33.901Z"
      },
      {
        "duration": 31,
        "start_time": "2023-10-27T07:58:33.915Z"
      },
      {
        "duration": 39,
        "start_time": "2023-10-27T07:58:33.948Z"
      },
      {
        "duration": 30,
        "start_time": "2023-10-27T07:58:33.989Z"
      },
      {
        "duration": 63,
        "start_time": "2023-10-27T07:58:34.021Z"
      },
      {
        "duration": 23,
        "start_time": "2023-10-27T07:58:34.087Z"
      },
      {
        "duration": 49,
        "start_time": "2023-10-27T07:58:34.112Z"
      },
      {
        "duration": 36,
        "start_time": "2023-10-27T07:58:34.165Z"
      },
      {
        "duration": 44,
        "start_time": "2023-10-27T07:58:34.203Z"
      },
      {
        "duration": 197,
        "start_time": "2023-10-27T07:58:34.252Z"
      },
      {
        "duration": 193,
        "start_time": "2023-10-27T07:58:34.452Z"
      },
      {
        "duration": 98,
        "start_time": "2023-10-27T07:58:34.647Z"
      },
      {
        "duration": 34,
        "start_time": "2023-10-27T07:58:34.746Z"
      },
      {
        "duration": 43,
        "start_time": "2023-10-27T07:58:34.781Z"
      },
      {
        "duration": 33,
        "start_time": "2023-10-27T07:58:34.826Z"
      },
      {
        "duration": 25,
        "start_time": "2023-10-27T07:58:34.860Z"
      },
      {
        "duration": 54,
        "start_time": "2023-10-27T07:58:34.887Z"
      },
      {
        "duration": 25,
        "start_time": "2023-10-27T07:58:34.943Z"
      },
      {
        "duration": 30,
        "start_time": "2023-10-27T07:58:34.969Z"
      },
      {
        "duration": 49,
        "start_time": "2023-10-27T07:58:35.001Z"
      },
      {
        "duration": 18,
        "start_time": "2023-10-27T07:58:35.052Z"
      },
      {
        "duration": 52,
        "start_time": "2023-10-27T07:58:35.071Z"
      },
      {
        "duration": 94,
        "start_time": "2023-10-27T07:58:35.125Z"
      },
      {
        "duration": 1486,
        "start_time": "2023-10-27T07:58:42.130Z"
      },
      {
        "duration": 30,
        "start_time": "2023-10-27T07:58:45.096Z"
      },
      {
        "duration": 16,
        "start_time": "2023-10-27T07:58:45.624Z"
      },
      {
        "duration": 18,
        "start_time": "2023-10-27T07:58:45.879Z"
      },
      {
        "duration": 25,
        "start_time": "2023-10-27T07:58:46.089Z"
      },
      {
        "duration": 4,
        "start_time": "2023-10-27T07:58:46.343Z"
      },
      {
        "duration": 15,
        "start_time": "2023-10-27T07:58:46.576Z"
      },
      {
        "duration": 4,
        "start_time": "2023-10-27T07:58:47.079Z"
      },
      {
        "duration": 4,
        "start_time": "2023-10-27T07:58:47.312Z"
      },
      {
        "duration": 7,
        "start_time": "2023-10-27T07:58:48.504Z"
      },
      {
        "duration": 20,
        "start_time": "2023-10-27T07:58:49.915Z"
      },
      {
        "duration": 7,
        "start_time": "2023-10-27T07:58:50.379Z"
      },
      {
        "duration": 13,
        "start_time": "2023-10-27T07:58:50.839Z"
      },
      {
        "duration": 6,
        "start_time": "2023-10-27T07:58:54.448Z"
      },
      {
        "duration": 10,
        "start_time": "2023-10-27T07:58:54.874Z"
      },
      {
        "duration": 11,
        "start_time": "2023-10-27T07:58:55.336Z"
      },
      {
        "duration": 7,
        "start_time": "2023-10-27T07:58:55.801Z"
      },
      {
        "duration": 4,
        "start_time": "2023-10-27T07:58:57.639Z"
      },
      {
        "duration": 17,
        "start_time": "2023-10-27T07:58:58.183Z"
      },
      {
        "duration": 5,
        "start_time": "2023-10-27T07:58:58.791Z"
      },
      {
        "duration": 9,
        "start_time": "2023-10-27T07:58:59.376Z"
      },
      {
        "duration": 21,
        "start_time": "2023-10-27T07:58:59.856Z"
      },
      {
        "duration": 8,
        "start_time": "2023-10-27T07:59:00.304Z"
      },
      {
        "duration": 3,
        "start_time": "2023-10-27T07:59:00.728Z"
      },
      {
        "duration": 26,
        "start_time": "2023-10-27T07:59:00.920Z"
      },
      {
        "duration": 100,
        "start_time": "2023-10-27T08:00:25.559Z"
      },
      {
        "duration": 62,
        "start_time": "2023-10-27T08:00:34.128Z"
      },
      {
        "duration": 10,
        "start_time": "2023-10-27T08:01:03.823Z"
      },
      {
        "duration": 7,
        "start_time": "2023-10-27T08:01:15.456Z"
      },
      {
        "duration": 34,
        "start_time": "2023-10-27T08:01:16.639Z"
      },
      {
        "duration": 57,
        "start_time": "2023-10-27T08:02:01.680Z"
      },
      {
        "duration": 45,
        "start_time": "2023-10-27T08:02:06.669Z"
      },
      {
        "duration": 40,
        "start_time": "2023-10-27T08:02:12.544Z"
      },
      {
        "duration": 46,
        "start_time": "2023-10-27T08:04:04.191Z"
      },
      {
        "duration": 4,
        "start_time": "2023-10-27T08:04:24.112Z"
      },
      {
        "duration": 39,
        "start_time": "2023-10-27T08:04:27.631Z"
      },
      {
        "duration": 45,
        "start_time": "2023-10-27T08:05:44.321Z"
      },
      {
        "duration": 7,
        "start_time": "2023-10-27T08:06:33.780Z"
      },
      {
        "duration": 59,
        "start_time": "2023-10-27T08:06:34.287Z"
      },
      {
        "duration": 38,
        "start_time": "2023-10-27T08:06:54.391Z"
      },
      {
        "duration": 46,
        "start_time": "2023-10-27T08:07:04.743Z"
      },
      {
        "duration": 35,
        "start_time": "2023-10-27T08:07:06.683Z"
      },
      {
        "duration": 17,
        "start_time": "2023-10-27T08:07:17.510Z"
      },
      {
        "duration": 16,
        "start_time": "2023-10-27T08:07:21.631Z"
      },
      {
        "duration": 6,
        "start_time": "2023-10-27T08:09:27.348Z"
      },
      {
        "duration": 59,
        "start_time": "2023-10-27T08:09:42.110Z"
      },
      {
        "duration": 7,
        "start_time": "2023-10-27T08:11:29.046Z"
      },
      {
        "duration": 12,
        "start_time": "2023-10-27T08:11:32.045Z"
      },
      {
        "duration": 6,
        "start_time": "2023-10-27T08:12:10.543Z"
      },
      {
        "duration": 53,
        "start_time": "2023-10-27T08:12:11.302Z"
      },
      {
        "duration": 4,
        "start_time": "2023-10-27T08:12:36.803Z"
      },
      {
        "duration": 366,
        "start_time": "2023-10-27T08:12:43.128Z"
      },
      {
        "duration": 3,
        "start_time": "2023-10-27T08:12:46.400Z"
      },
      {
        "duration": 5,
        "start_time": "2023-10-27T08:13:04.201Z"
      },
      {
        "duration": 7,
        "start_time": "2023-10-27T08:14:22.878Z"
      },
      {
        "duration": 7,
        "start_time": "2023-10-27T08:16:16.568Z"
      },
      {
        "duration": 4,
        "start_time": "2023-10-27T08:16:18.429Z"
      },
      {
        "duration": 4,
        "start_time": "2023-10-27T08:16:19.130Z"
      },
      {
        "duration": 10,
        "start_time": "2023-10-27T08:16:20.220Z"
      },
      {
        "duration": 7,
        "start_time": "2023-10-27T08:17:02.941Z"
      },
      {
        "duration": 4,
        "start_time": "2023-10-27T08:17:04.591Z"
      },
      {
        "duration": 5,
        "start_time": "2023-10-27T08:17:05.234Z"
      },
      {
        "duration": 10,
        "start_time": "2023-10-27T08:17:05.888Z"
      },
      {
        "duration": 6,
        "start_time": "2023-10-27T08:17:20.430Z"
      },
      {
        "duration": 3,
        "start_time": "2023-10-27T08:17:22.037Z"
      },
      {
        "duration": 4,
        "start_time": "2023-10-27T08:17:22.533Z"
      },
      {
        "duration": 9,
        "start_time": "2023-10-27T08:17:23.584Z"
      },
      {
        "duration": 8,
        "start_time": "2023-10-27T08:17:32.314Z"
      },
      {
        "duration": 39,
        "start_time": "2023-10-27T08:17:32.323Z"
      },
      {
        "duration": 29,
        "start_time": "2023-10-27T08:17:32.364Z"
      },
      {
        "duration": 45,
        "start_time": "2023-10-27T08:17:33.494Z"
      },
      {
        "duration": 6,
        "start_time": "2023-10-27T08:24:36.425Z"
      },
      {
        "duration": 36,
        "start_time": "2023-10-27T08:24:50.090Z"
      },
      {
        "duration": 7,
        "start_time": "2023-10-27T08:25:12.946Z"
      },
      {
        "duration": 54,
        "start_time": "2023-10-27T08:25:13.802Z"
      },
      {
        "duration": 4,
        "start_time": "2023-10-27T08:41:23.212Z"
      },
      {
        "duration": 3,
        "start_time": "2023-10-27T08:41:28.341Z"
      },
      {
        "duration": 77,
        "start_time": "2023-10-27T08:43:57.369Z"
      },
      {
        "duration": 6,
        "start_time": "2023-10-27T08:43:59.789Z"
      },
      {
        "duration": 14,
        "start_time": "2023-10-27T08:44:00.376Z"
      },
      {
        "duration": 1227,
        "start_time": "2023-10-27T08:44:22.775Z"
      },
      {
        "duration": 31,
        "start_time": "2023-10-27T08:44:24.004Z"
      },
      {
        "duration": 15,
        "start_time": "2023-10-27T08:44:24.037Z"
      },
      {
        "duration": 31,
        "start_time": "2023-10-27T08:44:24.056Z"
      },
      {
        "duration": 39,
        "start_time": "2023-10-27T08:44:24.090Z"
      },
      {
        "duration": 4,
        "start_time": "2023-10-27T08:44:24.131Z"
      },
      {
        "duration": 50,
        "start_time": "2023-10-27T08:44:24.137Z"
      },
      {
        "duration": 4,
        "start_time": "2023-10-27T08:44:24.188Z"
      },
      {
        "duration": 24,
        "start_time": "2023-10-27T08:44:24.195Z"
      },
      {
        "duration": 11,
        "start_time": "2023-10-27T08:44:24.221Z"
      },
      {
        "duration": 209,
        "start_time": "2023-10-27T08:44:24.234Z"
      },
      {
        "duration": 10,
        "start_time": "2023-10-27T08:44:24.446Z"
      },
      {
        "duration": 190,
        "start_time": "2023-10-27T08:44:24.458Z"
      },
      {
        "duration": 9,
        "start_time": "2023-10-27T08:44:24.653Z"
      },
      {
        "duration": 109,
        "start_time": "2023-10-27T08:44:24.665Z"
      },
      {
        "duration": 21,
        "start_time": "2023-10-27T08:44:24.776Z"
      },
      {
        "duration": 11,
        "start_time": "2023-10-27T08:44:24.798Z"
      },
      {
        "duration": 60,
        "start_time": "2023-10-27T08:44:24.811Z"
      },
      {
        "duration": 83,
        "start_time": "2023-10-27T08:44:24.873Z"
      },
      {
        "duration": 94,
        "start_time": "2023-10-27T08:44:24.959Z"
      },
      {
        "duration": 10,
        "start_time": "2023-10-27T08:44:25.057Z"
      },
      {
        "duration": 31,
        "start_time": "2023-10-27T08:44:25.075Z"
      },
      {
        "duration": 29,
        "start_time": "2023-10-27T08:44:25.107Z"
      },
      {
        "duration": 39,
        "start_time": "2023-10-27T08:44:25.138Z"
      },
      {
        "duration": 21,
        "start_time": "2023-10-27T08:44:25.179Z"
      },
      {
        "duration": 41,
        "start_time": "2023-10-27T08:44:25.202Z"
      },
      {
        "duration": 10,
        "start_time": "2023-10-27T08:47:58.777Z"
      },
      {
        "duration": 9,
        "start_time": "2023-10-27T08:49:12.891Z"
      },
      {
        "duration": 124,
        "start_time": "2023-10-27T08:50:10.003Z"
      },
      {
        "duration": 21,
        "start_time": "2023-10-27T08:52:47.811Z"
      },
      {
        "duration": 17,
        "start_time": "2023-10-27T08:53:12.394Z"
      },
      {
        "duration": 10,
        "start_time": "2023-10-27T08:53:27.500Z"
      },
      {
        "duration": 5,
        "start_time": "2023-10-27T08:56:54.794Z"
      },
      {
        "duration": 9,
        "start_time": "2023-10-27T08:57:02.377Z"
      },
      {
        "duration": 14,
        "start_time": "2023-10-27T08:57:20.906Z"
      },
      {
        "duration": 15,
        "start_time": "2023-10-27T08:58:10.594Z"
      },
      {
        "duration": 17,
        "start_time": "2023-10-27T08:58:30.314Z"
      },
      {
        "duration": 29,
        "start_time": "2023-10-27T08:58:50.261Z"
      },
      {
        "duration": 1011,
        "start_time": "2023-10-27T14:46:13.859Z"
      },
      {
        "duration": 91,
        "start_time": "2023-10-27T14:46:14.872Z"
      },
      {
        "duration": 13,
        "start_time": "2023-10-27T14:46:14.965Z"
      },
      {
        "duration": 41,
        "start_time": "2023-10-27T14:46:14.980Z"
      },
      {
        "duration": 184,
        "start_time": "2023-10-27T14:46:15.023Z"
      },
      {
        "duration": 29,
        "start_time": "2023-10-27T14:46:15.209Z"
      },
      {
        "duration": 47,
        "start_time": "2023-10-27T14:46:15.240Z"
      },
      {
        "duration": 26,
        "start_time": "2023-10-27T14:46:15.289Z"
      },
      {
        "duration": 16,
        "start_time": "2023-10-27T14:46:15.317Z"
      },
      {
        "duration": 16,
        "start_time": "2023-10-27T14:46:15.336Z"
      },
      {
        "duration": 48,
        "start_time": "2023-10-27T14:46:15.354Z"
      },
      {
        "duration": 102,
        "start_time": "2023-10-27T14:46:15.404Z"
      },
      {
        "duration": 194,
        "start_time": "2023-10-27T14:46:15.509Z"
      },
      {
        "duration": 97,
        "start_time": "2023-10-27T14:46:15.707Z"
      },
      {
        "duration": 17,
        "start_time": "2023-10-27T14:46:15.806Z"
      },
      {
        "duration": 33,
        "start_time": "2023-10-27T14:46:15.825Z"
      },
      {
        "duration": 19,
        "start_time": "2023-10-27T14:46:15.860Z"
      },
      {
        "duration": 122,
        "start_time": "2023-10-27T14:46:15.880Z"
      },
      {
        "duration": 0,
        "start_time": "2023-10-27T14:46:16.003Z"
      },
      {
        "duration": 0,
        "start_time": "2023-10-27T14:46:16.005Z"
      },
      {
        "duration": 0,
        "start_time": "2023-10-27T14:46:16.006Z"
      },
      {
        "duration": 0,
        "start_time": "2023-10-27T14:46:16.008Z"
      },
      {
        "duration": 0,
        "start_time": "2023-10-27T14:46:16.010Z"
      },
      {
        "duration": 0,
        "start_time": "2023-10-27T14:46:16.011Z"
      },
      {
        "duration": 0,
        "start_time": "2023-10-27T14:46:16.012Z"
      },
      {
        "duration": 0,
        "start_time": "2023-10-27T14:46:16.013Z"
      },
      {
        "duration": 0,
        "start_time": "2023-10-27T14:46:16.014Z"
      },
      {
        "duration": 3,
        "start_time": "2023-10-27T14:46:52.235Z"
      },
      {
        "duration": 18,
        "start_time": "2023-10-27T14:46:53.234Z"
      },
      {
        "duration": 6,
        "start_time": "2023-10-27T14:46:54.035Z"
      },
      {
        "duration": 10,
        "start_time": "2023-10-27T14:46:54.795Z"
      },
      {
        "duration": 15,
        "start_time": "2023-10-27T14:46:55.571Z"
      },
      {
        "duration": 8,
        "start_time": "2023-10-27T14:46:56.219Z"
      },
      {
        "duration": 5,
        "start_time": "2023-10-27T14:46:57.291Z"
      },
      {
        "duration": 23,
        "start_time": "2023-10-27T14:46:57.916Z"
      },
      {
        "duration": 25,
        "start_time": "2023-10-27T14:49:17.629Z"
      },
      {
        "duration": 10,
        "start_time": "2023-10-27T14:49:25.485Z"
      },
      {
        "duration": 29,
        "start_time": "2023-10-27T14:50:11.603Z"
      },
      {
        "duration": 12,
        "start_time": "2023-10-27T14:51:46.263Z"
      },
      {
        "duration": 4,
        "start_time": "2023-10-27T14:51:54.465Z"
      },
      {
        "duration": 11,
        "start_time": "2023-10-27T14:53:32.781Z"
      },
      {
        "duration": 16,
        "start_time": "2023-10-27T14:53:44.870Z"
      },
      {
        "duration": 15,
        "start_time": "2023-10-27T14:57:10.607Z"
      },
      {
        "duration": 11,
        "start_time": "2023-10-27T15:02:00.651Z"
      },
      {
        "duration": 14,
        "start_time": "2023-10-27T15:02:54.330Z"
      },
      {
        "duration": 78,
        "start_time": "2023-10-27T15:03:33.854Z"
      },
      {
        "duration": 10,
        "start_time": "2023-10-27T15:04:00.481Z"
      },
      {
        "duration": 8,
        "start_time": "2023-10-27T15:04:19.764Z"
      },
      {
        "duration": 11,
        "start_time": "2023-10-27T15:06:20.794Z"
      },
      {
        "duration": 3,
        "start_time": "2023-10-27T15:07:08.224Z"
      },
      {
        "duration": 3,
        "start_time": "2023-10-27T15:07:17.069Z"
      },
      {
        "duration": 95,
        "start_time": "2023-10-27T15:07:32.707Z"
      },
      {
        "duration": 10,
        "start_time": "2023-10-27T15:09:00.278Z"
      },
      {
        "duration": 35,
        "start_time": "2023-10-27T15:12:12.973Z"
      },
      {
        "duration": 122,
        "start_time": "2023-10-27T15:12:31.895Z"
      },
      {
        "duration": 120,
        "start_time": "2023-10-27T15:12:33.695Z"
      },
      {
        "duration": 126,
        "start_time": "2023-10-27T15:12:35.383Z"
      }
    ],
    "kernelspec": {
      "display_name": "Python 3 (ipykernel)",
      "language": "python",
      "name": "python3"
    },
    "language_info": {
      "codemirror_mode": {
        "name": "ipython",
        "version": 3
      },
      "file_extension": ".py",
      "mimetype": "text/x-python",
      "name": "python",
      "nbconvert_exporter": "python",
      "pygments_lexer": "ipython3",
      "version": "3.10.5"
    },
    "toc": {
      "base_numbering": 1,
      "nav_menu": {},
      "number_sections": true,
      "sideBar": true,
      "skip_h1_title": true,
      "title_cell": "Содержание",
      "title_sidebar": "Contents",
      "toc_cell": true,
      "toc_position": {
        "height": "calc(100% - 180px)",
        "left": "10px",
        "top": "150px",
        "width": "165px"
      },
      "toc_section_display": true,
      "toc_window_display": false
    },
    "colab": {
      "provenance": []
    }
  },
  "nbformat": 4,
  "nbformat_minor": 0
}
