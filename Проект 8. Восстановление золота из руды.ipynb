{
 "cells": [
  {
   "cell_type": "markdown",
   "metadata": {
    "toc": true
   },
   "source": [
    "<h1>Содержание<span class=\"tocSkip\"></span></h1>\n",
    "<div class=\"toc\"><ul class=\"toc-item\"><li><span><a href=\"#Подготовка-данных\" data-toc-modified-id=\"Подготовка-данных-1\"><span class=\"toc-item-num\">1&nbsp;&nbsp;</span>Подготовка данных</a></span><ul class=\"toc-item\"><li><span><a href=\"#Загрузим-данные-и-изучим-их\" data-toc-modified-id=\"Загрузим-данные-и-изучим-их-1.1\"><span class=\"toc-item-num\">1.1&nbsp;&nbsp;</span>Загрузим данные и изучим их</a></span></li><li><span><a href=\"#Проверка-рассчета-эффективности-обогащения\" data-toc-modified-id=\"Проверка-рассчета-эффективности-обогащения-1.2\"><span class=\"toc-item-num\">1.2&nbsp;&nbsp;</span>Проверка рассчета эффективности обогащения</a></span></li><li><span><a href=\"#Проанализируем-признаки,-недоступные-в-тестовой-выборке.-Что-это-за-параметры?-К-какому-типу-относятся?\" data-toc-modified-id=\"Проанализируем-признаки,-недоступные-в-тестовой-выборке.-Что-это-за-параметры?-К-какому-типу-относятся?-1.3\"><span class=\"toc-item-num\">1.3&nbsp;&nbsp;</span>Проанализируем признаки, недоступные в тестовой выборке. Что это за параметры? К какому типу относятся?</a></span></li><li><span><a href=\"#Проведем-предобработку-данных\" data-toc-modified-id=\"Проведем-предобработку-данных-1.4\"><span class=\"toc-item-num\">1.4&nbsp;&nbsp;</span>Проведем предобработку данных</a></span></li><li><span><a href=\"#Вывод\" data-toc-modified-id=\"Вывод-1.5\"><span class=\"toc-item-num\">1.5&nbsp;&nbsp;</span>Вывод</a></span></li></ul></li><li><span><a href=\"#Анализ-данных\" data-toc-modified-id=\"Анализ-данных-2\"><span class=\"toc-item-num\">2&nbsp;&nbsp;</span>Анализ данных</a></span><ul class=\"toc-item\"><li><span><a href=\"#Посмотрим,-как-меняется-концентрация-металлов-(Au,-Ag,-Pb)-на-различных-этапах-очистки.\" data-toc-modified-id=\"Посмотрим,-как-меняется-концентрация-металлов-(Au,-Ag,-Pb)-на-различных-этапах-очистки.-2.1\"><span class=\"toc-item-num\">2.1&nbsp;&nbsp;</span>Посмотрим, как меняется концентрация металлов (Au, Ag, Pb) на различных этапах очистки.</a></span></li><li><span><a href=\"#Сравним-распределения-размеров-гранул-сырья-на-обучающей-и-тестовой-выборках.\" data-toc-modified-id=\"Сравним-распределения-размеров-гранул-сырья-на-обучающей-и-тестовой-выборках.-2.2\"><span class=\"toc-item-num\">2.2&nbsp;&nbsp;</span>Сравним распределения размеров гранул сырья на обучающей и тестовой выборках.</a></span></li><li><span><a href=\"#Исследуем-суммарную-концентрацию-всех-веществ-на-разных-стадиях:-в-сырье,-в-черновом-и-финальном-концентратах.-Имеются-ли-аномальные-значения-в-суммарном-распределении-?-Если-они-есть-нужно-ли-их-удалять-из-обеих-выборок.-Опишем-выводы-и-удалим-аномалии\" data-toc-modified-id=\"Исследуем-суммарную-концентрацию-всех-веществ-на-разных-стадиях:-в-сырье,-в-черновом-и-финальном-концентратах.-Имеются-ли-аномальные-значения-в-суммарном-распределении-?-Если-они-есть-нужно-ли-их-удалять-из-обеих-выборок.-Опишем-выводы-и-удалим-аномалии-2.3\"><span class=\"toc-item-num\">2.3&nbsp;&nbsp;</span>Исследуем суммарную концентрацию всех веществ на разных стадиях: в сырье, в черновом и финальном концентратах. Имеются ли аномальные значения в суммарном распределении ? Если они есть нужно ли их удалять из обеих выборок. Опишем выводы и удалим аномалии</a></span></li></ul></li><li><span><a href=\"#Модель\" data-toc-modified-id=\"Модель-3\"><span class=\"toc-item-num\">3&nbsp;&nbsp;</span>Модель</a></span><ul class=\"toc-item\"><li><span><a href=\"#Напишем-функцию-для-вычисления-итоговой-sMAPE.\" data-toc-modified-id=\"Напишем-функцию-для-вычисления-итоговой-sMAPE.-3.1\"><span class=\"toc-item-num\">3.1&nbsp;&nbsp;</span>Напишем функцию для вычисления итоговой sMAPE.</a></span></li><li><span><a href=\"#Обучим-разные-модели-и-оценим-их-качество-кросс-валидацией.-Выберем-лучшую-модель-и-проверим-ее-на-тестовой-выборке.-Опишем-выводы.\" data-toc-modified-id=\"Обучим-разные-модели-и-оценим-их-качество-кросс-валидацией.-Выберем-лучшую-модель-и-проверим-ее-на-тестовой-выборке.-Опишем-выводы.-3.2\"><span class=\"toc-item-num\">3.2&nbsp;&nbsp;</span>Обучим разные модели и оценим их качество кросс-валидацией. Выберем лучшую модель и проверим ее на тестовой выборке. Опишем выводы.</a></span></li><li><span><a href=\"#Проверим-модель-на-адекватность\" data-toc-modified-id=\"Проверим-модель-на-адекватность-3.3\"><span class=\"toc-item-num\">3.3&nbsp;&nbsp;</span>Проверим модель на адекватность</a></span></li></ul></li><li><span><a href=\"#Общий-вывод:\" data-toc-modified-id=\"Общий-вывод:-4\"><span class=\"toc-item-num\">4&nbsp;&nbsp;</span>Общий вывод:</a></span></li></ul></div>"
   ]
  },
  {
   "cell_type": "markdown",
   "metadata": {},
   "source": [
    "# Восстановление золота из руды"
   ]
  },
  {
   "cell_type": "markdown",
   "metadata": {},
   "source": [
    "Подготовьте прототип модели машинного обучения для «Цифры». Компания разрабатывает решения для эффективной работы промышленных предприятий.\n",
    "\n",
    "Модель должна предсказать коэффициент восстановления золота из золотосодержащей руды. Используйте данные с параметрами добычи и очистки. \n",
    "\n",
    "Модель поможет оптимизировать производство, чтобы не запускать предприятие с убыточными характеристиками.\n",
    "\n",
    "Вам нужно:\n",
    "\n",
    "1. Подготовить данные;\n",
    "2. Провести исследовательский анализ данных;\n",
    "3. Построить и обучить модель.\n",
    "\n",
    "Чтобы выполнить проект, обращайтесь к библиотекам *pandas*, *matplotlib* и *sklearn.* Вам поможет их документация."
   ]
  },
  {
   "cell_type": "code",
   "execution_count": 1,
   "metadata": {},
   "outputs": [],
   "source": [
    "import time\n",
    "import warnings\n",
    "\n",
    "import pandas as pd\n",
    "import matplotlib.pyplot as plt\n",
    "import numpy as np\n",
    "import seaborn as sns\n",
    "\n",
    "from sklearn.dummy import DummyRegressor\n",
    "from sklearn.ensemble import RandomForestRegressor\n",
    "from sklearn.impute import SimpleImputer\n",
    "from sklearn import linear_model\n",
    "from sklearn.metrics import mean_absolute_error, mean_squared_error, make_scorer\n",
    "from sklearn.model_selection import GridSearchCV, KFold\n",
    "from sklearn.pipeline import Pipeline\n",
    "from sklearn.preprocessing import StandardScaler \n",
    "from sklearn.utils import shuffle\n",
    "\n",
    "warnings.filterwarnings('ignore')"
   ]
  },
  {
   "cell_type": "code",
   "execution_count": 2,
   "metadata": {},
   "outputs": [],
   "source": [
    "plt.rcParams ['figure.figsize'] = [13, 6]\n",
    "pd.set_option('display.max_columns', 100)"
   ]
  },
  {
   "cell_type": "markdown",
   "metadata": {},
   "source": [
    "## Подготовка данных"
   ]
  },
  {
   "cell_type": "markdown",
   "metadata": {},
   "source": [
    "### Загрузим данные и изучим их"
   ]
  },
  {
   "cell_type": "code",
   "execution_count": 3,
   "metadata": {
    "scrolled": true
   },
   "outputs": [
    {
     "name": "stdout",
     "output_type": "stream",
     "text": [
      "<class 'pandas.core.frame.DataFrame'>\n",
      "RangeIndex: 14579 entries, 0 to 14578\n",
      "Data columns (total 87 columns):\n",
      " #   Column                                              Non-Null Count  Dtype  \n",
      "---  ------                                              --------------  -----  \n",
      " 0   date                                                14579 non-null  object \n",
      " 1   rougher.input.feed_au                               14579 non-null  float64\n",
      " 2   rougher.input.feed_ag                               14579 non-null  float64\n",
      " 3   rougher.input.feed_pb                               14507 non-null  float64\n",
      " 4   rougher.input.feed_sol                              14502 non-null  float64\n",
      " 5   rougher.input.feed_rate                             14572 non-null  float64\n",
      " 6   rougher.input.feed_size                             14478 non-null  float64\n",
      " 7   rougher.input.floatbank10_sulfate                   14548 non-null  float64\n",
      " 8   rougher.input.floatbank10_xanthate                  14572 non-null  float64\n",
      " 9   rougher.state.floatbank10_a_air                     14579 non-null  float64\n",
      " 10  rougher.state.floatbank10_a_level                   14579 non-null  float64\n",
      " 11  rougher.state.floatbank10_b_air                     14579 non-null  float64\n",
      " 12  rougher.state.floatbank10_b_level                   14579 non-null  float64\n",
      " 13  rougher.state.floatbank10_c_air                     14579 non-null  float64\n",
      " 14  rougher.state.floatbank10_c_level                   14579 non-null  float64\n",
      " 15  rougher.state.floatbank10_d_air                     14579 non-null  float64\n",
      " 16  rougher.state.floatbank10_d_level                   14579 non-null  float64\n",
      " 17  rougher.state.floatbank10_e_air                     14150 non-null  float64\n",
      " 18  rougher.state.floatbank10_e_level                   14579 non-null  float64\n",
      " 19  rougher.state.floatbank10_f_air                     14579 non-null  float64\n",
      " 20  rougher.state.floatbank10_f_level                   14579 non-null  float64\n",
      " 21  rougher.input.floatbank11_sulfate                   14543 non-null  float64\n",
      " 22  rougher.input.floatbank11_xanthate                  14172 non-null  float64\n",
      " 23  rougher.calculation.sulfate_to_au_concentrate       14578 non-null  float64\n",
      " 24  rougher.calculation.floatbank10_sulfate_to_au_feed  14578 non-null  float64\n",
      " 25  rougher.calculation.floatbank11_sulfate_to_au_feed  14578 non-null  float64\n",
      " 26  rougher.calculation.au_pb_ratio                     14579 non-null  float64\n",
      " 27  rougher.output.concentrate_au                       14579 non-null  float64\n",
      " 28  rougher.output.concentrate_ag                       14579 non-null  float64\n",
      " 29  rougher.output.concentrate_pb                       14579 non-null  float64\n",
      " 30  rougher.output.concentrate_sol                      14561 non-null  float64\n",
      " 31  rougher.output.recovery                             14579 non-null  float64\n",
      " 32  rougher.output.tail_au                              14579 non-null  float64\n",
      " 33  rougher.output.tail_ag                              14578 non-null  float64\n",
      " 34  rougher.output.tail_pb                              14579 non-null  float64\n",
      " 35  rougher.output.tail_sol                             14579 non-null  float64\n",
      " 36  primary_cleaner.input.sulfate                       14556 non-null  float64\n",
      " 37  primary_cleaner.input.depressant                    14551 non-null  float64\n",
      " 38  primary_cleaner.input.feed_size                     14579 non-null  float64\n",
      " 39  primary_cleaner.input.xanthate                      14518 non-null  float64\n",
      " 40  primary_cleaner.state.floatbank8_a_air              14576 non-null  float64\n",
      " 41  primary_cleaner.state.floatbank8_a_level            14579 non-null  float64\n",
      " 42  primary_cleaner.state.floatbank8_b_air              14576 non-null  float64\n",
      " 43  primary_cleaner.state.floatbank8_b_level            14579 non-null  float64\n",
      " 44  primary_cleaner.state.floatbank8_c_air              14579 non-null  float64\n",
      " 45  primary_cleaner.state.floatbank8_c_level            14579 non-null  float64\n",
      " 46  primary_cleaner.state.floatbank8_d_air              14578 non-null  float64\n",
      " 47  primary_cleaner.state.floatbank8_d_level            14579 non-null  float64\n",
      " 48  primary_cleaner.output.concentrate_au               14579 non-null  float64\n",
      " 49  primary_cleaner.output.concentrate_ag               14579 non-null  float64\n",
      " 50  primary_cleaner.output.concentrate_pb               14491 non-null  float64\n",
      " 51  primary_cleaner.output.concentrate_sol              14314 non-null  float64\n",
      " 52  primary_cleaner.output.tail_au                      14579 non-null  float64\n",
      " 53  primary_cleaner.output.tail_ag                      14575 non-null  float64\n",
      " 54  primary_cleaner.output.tail_pb                      14573 non-null  float64\n",
      " 55  primary_cleaner.output.tail_sol                     14534 non-null  float64\n",
      " 56  secondary_cleaner.state.floatbank2_a_air            14485 non-null  float64\n",
      " 57  secondary_cleaner.state.floatbank2_a_level          14579 non-null  float64\n",
      " 58  secondary_cleaner.state.floatbank2_b_air            14557 non-null  float64\n",
      " 59  secondary_cleaner.state.floatbank2_b_level          14579 non-null  float64\n",
      " 60  secondary_cleaner.state.floatbank3_a_air            14567 non-null  float64\n",
      " 61  secondary_cleaner.state.floatbank3_a_level          14579 non-null  float64\n",
      " 62  secondary_cleaner.state.floatbank3_b_air            14579 non-null  float64\n",
      " 63  secondary_cleaner.state.floatbank3_b_level          14579 non-null  float64\n",
      " 64  secondary_cleaner.state.floatbank4_a_air            14574 non-null  float64\n",
      " 65  secondary_cleaner.state.floatbank4_a_level          14579 non-null  float64\n",
      " 66  secondary_cleaner.state.floatbank4_b_air            14579 non-null  float64\n",
      " 67  secondary_cleaner.state.floatbank4_b_level          14579 non-null  float64\n",
      " 68  secondary_cleaner.state.floatbank5_a_air            14579 non-null  float64\n",
      " 69  secondary_cleaner.state.floatbank5_a_level          14579 non-null  float64\n",
      " 70  secondary_cleaner.state.floatbank5_b_air            14579 non-null  float64\n",
      " 71  secondary_cleaner.state.floatbank5_b_level          14579 non-null  float64\n",
      " 72  secondary_cleaner.state.floatbank6_a_air            14578 non-null  float64\n",
      " 73  secondary_cleaner.state.floatbank6_a_level          14579 non-null  float64\n",
      " 74  secondary_cleaner.output.tail_au                    14579 non-null  float64\n",
      " 75  secondary_cleaner.output.tail_ag                    14578 non-null  float64\n",
      " 76  secondary_cleaner.output.tail_pb                    14575 non-null  float64\n",
      " 77  secondary_cleaner.output.tail_sol                   13659 non-null  float64\n",
      " 78  final.output.concentrate_au                         14579 non-null  float64\n",
      " 79  final.output.concentrate_ag                         14578 non-null  float64\n",
      " 80  final.output.concentrate_pb                         14578 non-null  float64\n",
      " 81  final.output.concentrate_sol                        14387 non-null  float64\n",
      " 82  final.output.recovery                               14579 non-null  float64\n",
      " 83  final.output.tail_au                                14579 non-null  float64\n",
      " 84  final.output.tail_ag                                14578 non-null  float64\n",
      " 85  final.output.tail_pb                                14504 non-null  float64\n",
      " 86  final.output.tail_sol                               14574 non-null  float64\n",
      "dtypes: float64(86), object(1)\n",
      "memory usage: 9.7+ MB\n"
     ]
    }
   ],
   "source": [
    "try:\n",
    "    train = pd.read_csv('/datasets/gold_industry_train.csv')\n",
    "except:\n",
    "    train = pd.read_csv('gold_industry_train.csv')\n",
    "train.info()"
   ]
  },
  {
   "cell_type": "code",
   "execution_count": 4,
   "metadata": {
    "scrolled": true
   },
   "outputs": [
    {
     "name": "stdout",
     "output_type": "stream",
     "text": [
      "<class 'pandas.core.frame.DataFrame'>\n",
      "RangeIndex: 4860 entries, 0 to 4859\n",
      "Data columns (total 53 columns):\n",
      " #   Column                                      Non-Null Count  Dtype  \n",
      "---  ------                                      --------------  -----  \n",
      " 0   date                                        4860 non-null   object \n",
      " 1   rougher.input.feed_au                       4860 non-null   float64\n",
      " 2   rougher.input.feed_ag                       4860 non-null   float64\n",
      " 3   rougher.input.feed_pb                       4832 non-null   float64\n",
      " 4   rougher.input.feed_sol                      4838 non-null   float64\n",
      " 5   rougher.input.feed_rate                     4856 non-null   float64\n",
      " 6   rougher.input.feed_size                     4816 non-null   float64\n",
      " 7   rougher.input.floatbank10_sulfate           4857 non-null   float64\n",
      " 8   rougher.input.floatbank10_xanthate          4859 non-null   float64\n",
      " 9   rougher.state.floatbank10_a_air             4859 non-null   float64\n",
      " 10  rougher.state.floatbank10_a_level           4859 non-null   float64\n",
      " 11  rougher.state.floatbank10_b_air             4859 non-null   float64\n",
      " 12  rougher.state.floatbank10_b_level           4859 non-null   float64\n",
      " 13  rougher.state.floatbank10_c_air             4859 non-null   float64\n",
      " 14  rougher.state.floatbank10_c_level           4859 non-null   float64\n",
      " 15  rougher.state.floatbank10_d_air             4860 non-null   float64\n",
      " 16  rougher.state.floatbank10_d_level           4860 non-null   float64\n",
      " 17  rougher.state.floatbank10_e_air             4853 non-null   float64\n",
      " 18  rougher.state.floatbank10_e_level           4860 non-null   float64\n",
      " 19  rougher.state.floatbank10_f_air             4860 non-null   float64\n",
      " 20  rougher.state.floatbank10_f_level           4860 non-null   float64\n",
      " 21  rougher.input.floatbank11_sulfate           4852 non-null   float64\n",
      " 22  rougher.input.floatbank11_xanthate          4814 non-null   float64\n",
      " 23  primary_cleaner.input.sulfate               4859 non-null   float64\n",
      " 24  primary_cleaner.input.depressant            4851 non-null   float64\n",
      " 25  primary_cleaner.input.feed_size             4860 non-null   float64\n",
      " 26  primary_cleaner.input.xanthate              4817 non-null   float64\n",
      " 27  primary_cleaner.state.floatbank8_a_air      4859 non-null   float64\n",
      " 28  primary_cleaner.state.floatbank8_a_level    4859 non-null   float64\n",
      " 29  primary_cleaner.state.floatbank8_b_air      4859 non-null   float64\n",
      " 30  primary_cleaner.state.floatbank8_b_level    4859 non-null   float64\n",
      " 31  primary_cleaner.state.floatbank8_c_air      4858 non-null   float64\n",
      " 32  primary_cleaner.state.floatbank8_c_level    4859 non-null   float64\n",
      " 33  primary_cleaner.state.floatbank8_d_air      4858 non-null   float64\n",
      " 34  primary_cleaner.state.floatbank8_d_level    4859 non-null   float64\n",
      " 35  secondary_cleaner.state.floatbank2_a_air    4734 non-null   float64\n",
      " 36  secondary_cleaner.state.floatbank2_a_level  4859 non-null   float64\n",
      " 37  secondary_cleaner.state.floatbank2_b_air    4859 non-null   float64\n",
      " 38  secondary_cleaner.state.floatbank2_b_level  4859 non-null   float64\n",
      " 39  secondary_cleaner.state.floatbank3_a_air    4859 non-null   float64\n",
      " 40  secondary_cleaner.state.floatbank3_a_level  4859 non-null   float64\n",
      " 41  secondary_cleaner.state.floatbank3_b_air    4859 non-null   float64\n",
      " 42  secondary_cleaner.state.floatbank3_b_level  4859 non-null   float64\n",
      " 43  secondary_cleaner.state.floatbank4_a_air    4859 non-null   float64\n",
      " 44  secondary_cleaner.state.floatbank4_a_level  4859 non-null   float64\n",
      " 45  secondary_cleaner.state.floatbank4_b_air    4859 non-null   float64\n",
      " 46  secondary_cleaner.state.floatbank4_b_level  4859 non-null   float64\n",
      " 47  secondary_cleaner.state.floatbank5_a_air    4859 non-null   float64\n",
      " 48  secondary_cleaner.state.floatbank5_a_level  4859 non-null   float64\n",
      " 49  secondary_cleaner.state.floatbank5_b_air    4859 non-null   float64\n",
      " 50  secondary_cleaner.state.floatbank5_b_level  4859 non-null   float64\n",
      " 51  secondary_cleaner.state.floatbank6_a_air    4859 non-null   float64\n",
      " 52  secondary_cleaner.state.floatbank6_a_level  4859 non-null   float64\n",
      "dtypes: float64(52), object(1)\n",
      "memory usage: 2.0+ MB\n"
     ]
    }
   ],
   "source": [
    "try:\n",
    "    test = pd.read_csv('/datasets/gold_industry_test.csv')\n",
    "except:\n",
    "    test = pd.read_csv('gold_industry_test.csv')\n",
    "test.info()"
   ]
  },
  {
   "cell_type": "code",
   "execution_count": 5,
   "metadata": {
    "scrolled": true
   },
   "outputs": [
    {
     "name": "stdout",
     "output_type": "stream",
     "text": [
      "<class 'pandas.core.frame.DataFrame'>\n",
      "RangeIndex: 19439 entries, 0 to 19438\n",
      "Data columns (total 87 columns):\n",
      " #   Column                                              Non-Null Count  Dtype  \n",
      "---  ------                                              --------------  -----  \n",
      " 0   date                                                19439 non-null  object \n",
      " 1   rougher.input.feed_au                               19439 non-null  float64\n",
      " 2   rougher.input.feed_ag                               19439 non-null  float64\n",
      " 3   rougher.input.feed_pb                               19339 non-null  float64\n",
      " 4   rougher.input.feed_sol                              19340 non-null  float64\n",
      " 5   rougher.input.feed_rate                             19428 non-null  float64\n",
      " 6   rougher.input.feed_size                             19294 non-null  float64\n",
      " 7   rougher.input.floatbank10_sulfate                   19405 non-null  float64\n",
      " 8   rougher.input.floatbank10_xanthate                  19431 non-null  float64\n",
      " 9   rougher.state.floatbank10_a_air                     19438 non-null  float64\n",
      " 10  rougher.state.floatbank10_a_level                   19438 non-null  float64\n",
      " 11  rougher.state.floatbank10_b_air                     19438 non-null  float64\n",
      " 12  rougher.state.floatbank10_b_level                   19438 non-null  float64\n",
      " 13  rougher.state.floatbank10_c_air                     19438 non-null  float64\n",
      " 14  rougher.state.floatbank10_c_level                   19438 non-null  float64\n",
      " 15  rougher.state.floatbank10_d_air                     19439 non-null  float64\n",
      " 16  rougher.state.floatbank10_d_level                   19439 non-null  float64\n",
      " 17  rougher.state.floatbank10_e_air                     19003 non-null  float64\n",
      " 18  rougher.state.floatbank10_e_level                   19439 non-null  float64\n",
      " 19  rougher.state.floatbank10_f_air                     19439 non-null  float64\n",
      " 20  rougher.state.floatbank10_f_level                   19439 non-null  float64\n",
      " 21  rougher.input.floatbank11_sulfate                   19395 non-null  float64\n",
      " 22  rougher.input.floatbank11_xanthate                  18986 non-null  float64\n",
      " 23  rougher.calculation.sulfate_to_au_concentrate       19437 non-null  float64\n",
      " 24  rougher.calculation.floatbank10_sulfate_to_au_feed  19437 non-null  float64\n",
      " 25  rougher.calculation.floatbank11_sulfate_to_au_feed  19437 non-null  float64\n",
      " 26  rougher.calculation.au_pb_ratio                     19439 non-null  float64\n",
      " 27  rougher.output.concentrate_au                       19439 non-null  float64\n",
      " 28  rougher.output.concentrate_ag                       19439 non-null  float64\n",
      " 29  rougher.output.concentrate_pb                       19439 non-null  float64\n",
      " 30  rougher.output.concentrate_sol                      19416 non-null  float64\n",
      " 31  rougher.output.recovery                             19439 non-null  float64\n",
      " 32  rougher.output.tail_au                              19439 non-null  float64\n",
      " 33  rougher.output.tail_ag                              19438 non-null  float64\n",
      " 34  rougher.output.tail_pb                              19439 non-null  float64\n",
      " 35  rougher.output.tail_sol                             19439 non-null  float64\n",
      " 36  primary_cleaner.input.sulfate                       19415 non-null  float64\n",
      " 37  primary_cleaner.input.depressant                    19402 non-null  float64\n",
      " 38  primary_cleaner.input.feed_size                     19439 non-null  float64\n",
      " 39  primary_cleaner.input.xanthate                      19335 non-null  float64\n",
      " 40  primary_cleaner.state.floatbank8_a_air              19435 non-null  float64\n",
      " 41  primary_cleaner.state.floatbank8_a_level            19438 non-null  float64\n",
      " 42  primary_cleaner.state.floatbank8_b_air              19435 non-null  float64\n",
      " 43  primary_cleaner.state.floatbank8_b_level            19438 non-null  float64\n",
      " 44  primary_cleaner.state.floatbank8_c_air              19437 non-null  float64\n",
      " 45  primary_cleaner.state.floatbank8_c_level            19438 non-null  float64\n",
      " 46  primary_cleaner.state.floatbank8_d_air              19436 non-null  float64\n",
      " 47  primary_cleaner.state.floatbank8_d_level            19438 non-null  float64\n",
      " 48  primary_cleaner.output.concentrate_au               19439 non-null  float64\n",
      " 49  primary_cleaner.output.concentrate_ag               19439 non-null  float64\n",
      " 50  primary_cleaner.output.concentrate_pb               19323 non-null  float64\n",
      " 51  primary_cleaner.output.concentrate_sol              19069 non-null  float64\n",
      " 52  primary_cleaner.output.tail_au                      19439 non-null  float64\n",
      " 53  primary_cleaner.output.tail_ag                      19435 non-null  float64\n",
      " 54  primary_cleaner.output.tail_pb                      19418 non-null  float64\n",
      " 55  primary_cleaner.output.tail_sol                     19377 non-null  float64\n",
      " 56  secondary_cleaner.state.floatbank2_a_air            19219 non-null  float64\n",
      " 57  secondary_cleaner.state.floatbank2_a_level          19438 non-null  float64\n",
      " 58  secondary_cleaner.state.floatbank2_b_air            19416 non-null  float64\n",
      " 59  secondary_cleaner.state.floatbank2_b_level          19438 non-null  float64\n",
      " 60  secondary_cleaner.state.floatbank3_a_air            19426 non-null  float64\n",
      " 61  secondary_cleaner.state.floatbank3_a_level          19438 non-null  float64\n",
      " 62  secondary_cleaner.state.floatbank3_b_air            19438 non-null  float64\n",
      " 63  secondary_cleaner.state.floatbank3_b_level          19438 non-null  float64\n",
      " 64  secondary_cleaner.state.floatbank4_a_air            19433 non-null  float64\n",
      " 65  secondary_cleaner.state.floatbank4_a_level          19438 non-null  float64\n",
      " 66  secondary_cleaner.state.floatbank4_b_air            19438 non-null  float64\n",
      " 67  secondary_cleaner.state.floatbank4_b_level          19438 non-null  float64\n",
      " 68  secondary_cleaner.state.floatbank5_a_air            19438 non-null  float64\n",
      " 69  secondary_cleaner.state.floatbank5_a_level          19438 non-null  float64\n",
      " 70  secondary_cleaner.state.floatbank5_b_air            19438 non-null  float64\n",
      " 71  secondary_cleaner.state.floatbank5_b_level          19438 non-null  float64\n",
      " 72  secondary_cleaner.state.floatbank6_a_air            19437 non-null  float64\n",
      " 73  secondary_cleaner.state.floatbank6_a_level          19438 non-null  float64\n",
      " 74  secondary_cleaner.output.tail_au                    19439 non-null  float64\n",
      " 75  secondary_cleaner.output.tail_ag                    19437 non-null  float64\n",
      " 76  secondary_cleaner.output.tail_pb                    19427 non-null  float64\n",
      " 77  secondary_cleaner.output.tail_sol                   17691 non-null  float64\n",
      " 78  final.output.concentrate_au                         19439 non-null  float64\n",
      " 79  final.output.concentrate_ag                         19438 non-null  float64\n",
      " 80  final.output.concentrate_pb                         19438 non-null  float64\n",
      " 81  final.output.concentrate_sol                        19228 non-null  float64\n",
      " 82  final.output.recovery                               19439 non-null  float64\n",
      " 83  final.output.tail_au                                19439 non-null  float64\n",
      " 84  final.output.tail_ag                                19438 non-null  float64\n",
      " 85  final.output.tail_pb                                19338 non-null  float64\n",
      " 86  final.output.tail_sol                               19433 non-null  float64\n",
      "dtypes: float64(86), object(1)\n",
      "memory usage: 12.9+ MB\n"
     ]
    }
   ],
   "source": [
    "try:\n",
    "    data = pd.read_csv('/datasets/gold_industry_full.csv')\n",
    "except:\n",
    "    data = pd.read_csv('gold_industry_full.csv')\n",
    "data.info()"
   ]
  },
  {
   "cell_type": "code",
   "execution_count": 6,
   "metadata": {},
   "outputs": [
    {
     "name": "stdout",
     "output_type": "stream",
     "text": [
      "Обучающая выборка\n"
     ]
    },
    {
     "data": {
      "text/html": [
       "<div>\n",
       "<style scoped>\n",
       "    .dataframe tbody tr th:only-of-type {\n",
       "        vertical-align: middle;\n",
       "    }\n",
       "\n",
       "    .dataframe tbody tr th {\n",
       "        vertical-align: top;\n",
       "    }\n",
       "\n",
       "    .dataframe thead th {\n",
       "        text-align: right;\n",
       "    }\n",
       "</style>\n",
       "<table border=\"1\" class=\"dataframe\">\n",
       "  <thead>\n",
       "    <tr style=\"text-align: right;\">\n",
       "      <th></th>\n",
       "      <th>rougher.input.feed_au</th>\n",
       "      <th>rougher.input.feed_ag</th>\n",
       "      <th>rougher.input.feed_pb</th>\n",
       "      <th>rougher.input.feed_sol</th>\n",
       "      <th>rougher.input.feed_rate</th>\n",
       "      <th>rougher.input.feed_size</th>\n",
       "      <th>rougher.input.floatbank10_sulfate</th>\n",
       "      <th>rougher.input.floatbank10_xanthate</th>\n",
       "      <th>rougher.state.floatbank10_a_air</th>\n",
       "      <th>rougher.state.floatbank10_a_level</th>\n",
       "      <th>rougher.state.floatbank10_b_air</th>\n",
       "      <th>rougher.state.floatbank10_b_level</th>\n",
       "      <th>rougher.state.floatbank10_c_air</th>\n",
       "      <th>rougher.state.floatbank10_c_level</th>\n",
       "      <th>rougher.state.floatbank10_d_air</th>\n",
       "      <th>rougher.state.floatbank10_d_level</th>\n",
       "      <th>rougher.state.floatbank10_e_air</th>\n",
       "      <th>rougher.state.floatbank10_e_level</th>\n",
       "      <th>rougher.state.floatbank10_f_air</th>\n",
       "      <th>rougher.state.floatbank10_f_level</th>\n",
       "      <th>rougher.input.floatbank11_sulfate</th>\n",
       "      <th>rougher.input.floatbank11_xanthate</th>\n",
       "      <th>rougher.calculation.sulfate_to_au_concentrate</th>\n",
       "      <th>rougher.calculation.floatbank10_sulfate_to_au_feed</th>\n",
       "      <th>rougher.calculation.floatbank11_sulfate_to_au_feed</th>\n",
       "      <th>rougher.calculation.au_pb_ratio</th>\n",
       "      <th>rougher.output.concentrate_au</th>\n",
       "      <th>rougher.output.concentrate_ag</th>\n",
       "      <th>rougher.output.concentrate_pb</th>\n",
       "      <th>rougher.output.concentrate_sol</th>\n",
       "      <th>rougher.output.recovery</th>\n",
       "      <th>rougher.output.tail_au</th>\n",
       "      <th>rougher.output.tail_ag</th>\n",
       "      <th>rougher.output.tail_pb</th>\n",
       "      <th>rougher.output.tail_sol</th>\n",
       "      <th>primary_cleaner.input.sulfate</th>\n",
       "      <th>primary_cleaner.input.depressant</th>\n",
       "      <th>primary_cleaner.input.feed_size</th>\n",
       "      <th>primary_cleaner.input.xanthate</th>\n",
       "      <th>primary_cleaner.state.floatbank8_a_air</th>\n",
       "      <th>primary_cleaner.state.floatbank8_a_level</th>\n",
       "      <th>primary_cleaner.state.floatbank8_b_air</th>\n",
       "      <th>primary_cleaner.state.floatbank8_b_level</th>\n",
       "      <th>primary_cleaner.state.floatbank8_c_air</th>\n",
       "      <th>primary_cleaner.state.floatbank8_c_level</th>\n",
       "      <th>primary_cleaner.state.floatbank8_d_air</th>\n",
       "      <th>primary_cleaner.state.floatbank8_d_level</th>\n",
       "      <th>primary_cleaner.output.concentrate_au</th>\n",
       "      <th>primary_cleaner.output.concentrate_ag</th>\n",
       "      <th>primary_cleaner.output.concentrate_pb</th>\n",
       "      <th>primary_cleaner.output.concentrate_sol</th>\n",
       "      <th>primary_cleaner.output.tail_au</th>\n",
       "      <th>primary_cleaner.output.tail_ag</th>\n",
       "      <th>primary_cleaner.output.tail_pb</th>\n",
       "      <th>primary_cleaner.output.tail_sol</th>\n",
       "      <th>secondary_cleaner.state.floatbank2_a_air</th>\n",
       "      <th>secondary_cleaner.state.floatbank2_a_level</th>\n",
       "      <th>secondary_cleaner.state.floatbank2_b_air</th>\n",
       "      <th>secondary_cleaner.state.floatbank2_b_level</th>\n",
       "      <th>secondary_cleaner.state.floatbank3_a_air</th>\n",
       "      <th>secondary_cleaner.state.floatbank3_a_level</th>\n",
       "      <th>secondary_cleaner.state.floatbank3_b_air</th>\n",
       "      <th>secondary_cleaner.state.floatbank3_b_level</th>\n",
       "      <th>secondary_cleaner.state.floatbank4_a_air</th>\n",
       "      <th>secondary_cleaner.state.floatbank4_a_level</th>\n",
       "      <th>secondary_cleaner.state.floatbank4_b_air</th>\n",
       "      <th>secondary_cleaner.state.floatbank4_b_level</th>\n",
       "      <th>secondary_cleaner.state.floatbank5_a_air</th>\n",
       "      <th>secondary_cleaner.state.floatbank5_a_level</th>\n",
       "      <th>secondary_cleaner.state.floatbank5_b_air</th>\n",
       "      <th>secondary_cleaner.state.floatbank5_b_level</th>\n",
       "      <th>secondary_cleaner.state.floatbank6_a_air</th>\n",
       "      <th>secondary_cleaner.state.floatbank6_a_level</th>\n",
       "      <th>secondary_cleaner.output.tail_au</th>\n",
       "      <th>secondary_cleaner.output.tail_ag</th>\n",
       "      <th>secondary_cleaner.output.tail_pb</th>\n",
       "      <th>secondary_cleaner.output.tail_sol</th>\n",
       "      <th>final.output.concentrate_au</th>\n",
       "      <th>final.output.concentrate_ag</th>\n",
       "      <th>final.output.concentrate_pb</th>\n",
       "      <th>final.output.concentrate_sol</th>\n",
       "      <th>final.output.recovery</th>\n",
       "      <th>final.output.tail_au</th>\n",
       "      <th>final.output.tail_ag</th>\n",
       "      <th>final.output.tail_pb</th>\n",
       "      <th>final.output.tail_sol</th>\n",
       "    </tr>\n",
       "  </thead>\n",
       "  <tbody>\n",
       "    <tr>\n",
       "      <th>count</th>\n",
       "      <td>14579.000000</td>\n",
       "      <td>14579.000000</td>\n",
       "      <td>14507.000000</td>\n",
       "      <td>14502.000000</td>\n",
       "      <td>14572.000000</td>\n",
       "      <td>14478.000000</td>\n",
       "      <td>14548.000000</td>\n",
       "      <td>14572.000000</td>\n",
       "      <td>14579.000000</td>\n",
       "      <td>14579.000000</td>\n",
       "      <td>14579.000000</td>\n",
       "      <td>14579.000000</td>\n",
       "      <td>14579.000000</td>\n",
       "      <td>14579.000000</td>\n",
       "      <td>14579.000000</td>\n",
       "      <td>14579.000000</td>\n",
       "      <td>14150.000000</td>\n",
       "      <td>14579.000000</td>\n",
       "      <td>14579.000000</td>\n",
       "      <td>14579.000000</td>\n",
       "      <td>14543.000000</td>\n",
       "      <td>14172.000000</td>\n",
       "      <td>1.457800e+04</td>\n",
       "      <td>14578.000000</td>\n",
       "      <td>14578.000000</td>\n",
       "      <td>14579.000000</td>\n",
       "      <td>14579.000000</td>\n",
       "      <td>14579.000000</td>\n",
       "      <td>14579.000000</td>\n",
       "      <td>14561.000000</td>\n",
       "      <td>14579.000000</td>\n",
       "      <td>14579.000000</td>\n",
       "      <td>14578.000000</td>\n",
       "      <td>14579.000000</td>\n",
       "      <td>14579.000000</td>\n",
       "      <td>14556.000000</td>\n",
       "      <td>14551.000000</td>\n",
       "      <td>14579.000000</td>\n",
       "      <td>14518.000000</td>\n",
       "      <td>1.457600e+04</td>\n",
       "      <td>14579.000000</td>\n",
       "      <td>1.457600e+04</td>\n",
       "      <td>14579.000000</td>\n",
       "      <td>1.457900e+04</td>\n",
       "      <td>14579.000000</td>\n",
       "      <td>1.457800e+04</td>\n",
       "      <td>14579.000000</td>\n",
       "      <td>14579.000000</td>\n",
       "      <td>14579.000000</td>\n",
       "      <td>14491.000000</td>\n",
       "      <td>14314.000000</td>\n",
       "      <td>14579.000000</td>\n",
       "      <td>14575.000000</td>\n",
       "      <td>14573.000000</td>\n",
       "      <td>14534.000000</td>\n",
       "      <td>14485.000000</td>\n",
       "      <td>14579.000000</td>\n",
       "      <td>14557.000000</td>\n",
       "      <td>14579.000000</td>\n",
       "      <td>14567.000000</td>\n",
       "      <td>14579.000000</td>\n",
       "      <td>14579.000000</td>\n",
       "      <td>14579.000000</td>\n",
       "      <td>14574.000000</td>\n",
       "      <td>14579.000000</td>\n",
       "      <td>14579.000000</td>\n",
       "      <td>14579.000000</td>\n",
       "      <td>14579.000000</td>\n",
       "      <td>14579.000000</td>\n",
       "      <td>14579.000000</td>\n",
       "      <td>14579.000000</td>\n",
       "      <td>14578.000000</td>\n",
       "      <td>14579.000000</td>\n",
       "      <td>14579.000000</td>\n",
       "      <td>14578.000000</td>\n",
       "      <td>14575.000000</td>\n",
       "      <td>13659.000000</td>\n",
       "      <td>14579.000000</td>\n",
       "      <td>14578.000000</td>\n",
       "      <td>14578.000000</td>\n",
       "      <td>14387.000000</td>\n",
       "      <td>14579.000000</td>\n",
       "      <td>14579.000000</td>\n",
       "      <td>14578.000000</td>\n",
       "      <td>14504.000000</td>\n",
       "      <td>14574.000000</td>\n",
       "    </tr>\n",
       "    <tr>\n",
       "      <th>mean</th>\n",
       "      <td>8.352941</td>\n",
       "      <td>8.877460</td>\n",
       "      <td>3.604221</td>\n",
       "      <td>36.561420</td>\n",
       "      <td>474.332784</td>\n",
       "      <td>58.922712</td>\n",
       "      <td>12.427399</td>\n",
       "      <td>5.994854</td>\n",
       "      <td>1104.208278</td>\n",
       "      <td>-379.367166</td>\n",
       "      <td>1322.845805</td>\n",
       "      <td>-465.495165</td>\n",
       "      <td>1302.745258</td>\n",
       "      <td>-465.988660</td>\n",
       "      <td>1214.062375</td>\n",
       "      <td>-466.526202</td>\n",
       "      <td>1082.778201</td>\n",
       "      <td>-464.228268</td>\n",
       "      <td>1025.775819</td>\n",
       "      <td>-464.549373</td>\n",
       "      <td>12.095857</td>\n",
       "      <td>6.047261</td>\n",
       "      <td>4.435219e+04</td>\n",
       "      <td>3440.548437</td>\n",
       "      <td>3276.812427</td>\n",
       "      <td>2.436506</td>\n",
       "      <td>19.717470</td>\n",
       "      <td>11.944253</td>\n",
       "      <td>7.498953</td>\n",
       "      <td>28.653422</td>\n",
       "      <td>82.521200</td>\n",
       "      <td>1.852849</td>\n",
       "      <td>5.649646</td>\n",
       "      <td>0.654742</td>\n",
       "      <td>18.019755</td>\n",
       "      <td>145.099826</td>\n",
       "      <td>8.858575</td>\n",
       "      <td>7.307600</td>\n",
       "      <td>1.026512</td>\n",
       "      <td>1.589676e+03</td>\n",
       "      <td>-492.185489</td>\n",
       "      <td>1.592027e+03</td>\n",
       "      <td>-492.838585</td>\n",
       "      <td>1.585924e+03</td>\n",
       "      <td>-492.726140</td>\n",
       "      <td>1.547119e+03</td>\n",
       "      <td>-488.724249</td>\n",
       "      <td>32.007535</td>\n",
       "      <td>8.468626</td>\n",
       "      <td>9.750567</td>\n",
       "      <td>10.576880</td>\n",
       "      <td>3.974004</td>\n",
       "      <td>16.069960</td>\n",
       "      <td>3.403764</td>\n",
       "      <td>8.025747</td>\n",
       "      <td>28.449700</td>\n",
       "      <td>-503.321444</td>\n",
       "      <td>23.898016</td>\n",
       "      <td>-504.455206</td>\n",
       "      <td>27.966801</td>\n",
       "      <td>-485.112844</td>\n",
       "      <td>22.056638</td>\n",
       "      <td>-493.400930</td>\n",
       "      <td>18.697604</td>\n",
       "      <td>-484.971102</td>\n",
       "      <td>14.823764</td>\n",
       "      <td>-460.046154</td>\n",
       "      <td>15.394610</td>\n",
       "      <td>-487.973768</td>\n",
       "      <td>11.949009</td>\n",
       "      <td>-486.338692</td>\n",
       "      <td>18.927405</td>\n",
       "      <td>-505.688730</td>\n",
       "      <td>4.373067</td>\n",
       "      <td>14.441265</td>\n",
       "      <td>5.617182</td>\n",
       "      <td>7.111347</td>\n",
       "      <td>43.979499</td>\n",
       "      <td>5.192145</td>\n",
       "      <td>9.923809</td>\n",
       "      <td>9.566676</td>\n",
       "      <td>66.759066</td>\n",
       "      <td>3.087939</td>\n",
       "      <td>9.731972</td>\n",
       "      <td>2.719985</td>\n",
       "      <td>10.612745</td>\n",
       "    </tr>\n",
       "    <tr>\n",
       "      <th>std</th>\n",
       "      <td>1.934376</td>\n",
       "      <td>1.922536</td>\n",
       "      <td>1.056063</td>\n",
       "      <td>5.209823</td>\n",
       "      <td>108.503552</td>\n",
       "      <td>22.407410</td>\n",
       "      <td>3.428939</td>\n",
       "      <td>1.152873</td>\n",
       "      <td>162.235606</td>\n",
       "      <td>94.652311</td>\n",
       "      <td>181.612353</td>\n",
       "      <td>56.220206</td>\n",
       "      <td>209.728859</td>\n",
       "      <td>55.261827</td>\n",
       "      <td>210.056163</td>\n",
       "      <td>55.701015</td>\n",
       "      <td>176.092308</td>\n",
       "      <td>59.132193</td>\n",
       "      <td>169.680255</td>\n",
       "      <td>59.622879</td>\n",
       "      <td>3.887128</td>\n",
       "      <td>1.115055</td>\n",
       "      <td>1.325109e+05</td>\n",
       "      <td>5676.976735</td>\n",
       "      <td>6654.751076</td>\n",
       "      <td>0.747964</td>\n",
       "      <td>4.086618</td>\n",
       "      <td>2.916323</td>\n",
       "      <td>1.851631</td>\n",
       "      <td>6.427589</td>\n",
       "      <td>15.797521</td>\n",
       "      <td>0.671844</td>\n",
       "      <td>1.079950</td>\n",
       "      <td>0.251685</td>\n",
       "      <td>3.492621</td>\n",
       "      <td>45.136018</td>\n",
       "      <td>3.323216</td>\n",
       "      <td>0.621609</td>\n",
       "      <td>0.519205</td>\n",
       "      <td>1.303228e+02</td>\n",
       "      <td>30.827141</td>\n",
       "      <td>1.317109e+02</td>\n",
       "      <td>33.288228</td>\n",
       "      <td>1.372292e+02</td>\n",
       "      <td>32.359161</td>\n",
       "      <td>2.426145e+02</td>\n",
       "      <td>44.157594</td>\n",
       "      <td>5.891272</td>\n",
       "      <td>2.082271</td>\n",
       "      <td>2.556602</td>\n",
       "      <td>3.964761</td>\n",
       "      <td>1.604410</td>\n",
       "      <td>3.557775</td>\n",
       "      <td>1.394091</td>\n",
       "      <td>2.176478</td>\n",
       "      <td>5.467326</td>\n",
       "      <td>56.555780</td>\n",
       "      <td>5.820755</td>\n",
       "      <td>60.219739</td>\n",
       "      <td>6.109365</td>\n",
       "      <td>55.205693</td>\n",
       "      <td>5.605309</td>\n",
       "      <td>44.228650</td>\n",
       "      <td>5.200943</td>\n",
       "      <td>48.795359</td>\n",
       "      <td>4.863659</td>\n",
       "      <td>67.933026</td>\n",
       "      <td>5.405045</td>\n",
       "      <td>35.231439</td>\n",
       "      <td>5.241169</td>\n",
       "      <td>38.726292</td>\n",
       "      <td>5.550829</td>\n",
       "      <td>37.347370</td>\n",
       "      <td>2.394328</td>\n",
       "      <td>4.416497</td>\n",
       "      <td>2.704951</td>\n",
       "      <td>3.909951</td>\n",
       "      <td>5.471437</td>\n",
       "      <td>1.388014</td>\n",
       "      <td>1.706976</td>\n",
       "      <td>2.805654</td>\n",
       "      <td>10.619709</td>\n",
       "      <td>0.915187</td>\n",
       "      <td>2.358143</td>\n",
       "      <td>0.958929</td>\n",
       "      <td>2.871075</td>\n",
       "    </tr>\n",
       "    <tr>\n",
       "      <th>min</th>\n",
       "      <td>0.010000</td>\n",
       "      <td>0.010000</td>\n",
       "      <td>0.010000</td>\n",
       "      <td>0.010000</td>\n",
       "      <td>0.002986</td>\n",
       "      <td>0.049194</td>\n",
       "      <td>0.001083</td>\n",
       "      <td>0.000568</td>\n",
       "      <td>-0.042069</td>\n",
       "      <td>-657.949759</td>\n",
       "      <td>-0.721806</td>\n",
       "      <td>-650.260008</td>\n",
       "      <td>-0.056636</td>\n",
       "      <td>-647.544439</td>\n",
       "      <td>-0.992219</td>\n",
       "      <td>-648.390665</td>\n",
       "      <td>-1.982295</td>\n",
       "      <td>-649.443911</td>\n",
       "      <td>-2.593390</td>\n",
       "      <td>-649.949283</td>\n",
       "      <td>0.000077</td>\n",
       "      <td>0.000290</td>\n",
       "      <td>-1.548858e+07</td>\n",
       "      <td>-486.598675</td>\n",
       "      <td>-264.982785</td>\n",
       "      <td>-0.010548</td>\n",
       "      <td>0.000000</td>\n",
       "      <td>0.000000</td>\n",
       "      <td>0.000000</td>\n",
       "      <td>0.000000</td>\n",
       "      <td>0.000000</td>\n",
       "      <td>0.020676</td>\n",
       "      <td>2.316530</td>\n",
       "      <td>0.007566</td>\n",
       "      <td>10.014648</td>\n",
       "      <td>0.003112</td>\n",
       "      <td>0.000000</td>\n",
       "      <td>1.080000</td>\n",
       "      <td>0.000005</td>\n",
       "      <td>5.445860e-32</td>\n",
       "      <td>-798.641662</td>\n",
       "      <td>6.647490e-32</td>\n",
       "      <td>-799.997015</td>\n",
       "      <td>4.033736e-32</td>\n",
       "      <td>-799.960571</td>\n",
       "      <td>4.039220e-32</td>\n",
       "      <td>-799.794250</td>\n",
       "      <td>0.000000</td>\n",
       "      <td>0.000000</td>\n",
       "      <td>0.000000</td>\n",
       "      <td>0.000000</td>\n",
       "      <td>0.000000</td>\n",
       "      <td>0.000000</td>\n",
       "      <td>0.000000</td>\n",
       "      <td>0.000000</td>\n",
       "      <td>0.077503</td>\n",
       "      <td>-799.605762</td>\n",
       "      <td>0.000000</td>\n",
       "      <td>-799.870292</td>\n",
       "      <td>0.000000</td>\n",
       "      <td>-799.755798</td>\n",
       "      <td>0.000000</td>\n",
       "      <td>-809.333008</td>\n",
       "      <td>0.000000</td>\n",
       "      <td>-799.798523</td>\n",
       "      <td>0.000000</td>\n",
       "      <td>-800.836914</td>\n",
       "      <td>-0.372054</td>\n",
       "      <td>-797.323986</td>\n",
       "      <td>0.528083</td>\n",
       "      <td>-800.220337</td>\n",
       "      <td>-0.079426</td>\n",
       "      <td>-809.741464</td>\n",
       "      <td>0.000000</td>\n",
       "      <td>0.000000</td>\n",
       "      <td>0.000000</td>\n",
       "      <td>0.000000</td>\n",
       "      <td>0.000000</td>\n",
       "      <td>0.000000</td>\n",
       "      <td>0.000000</td>\n",
       "      <td>0.000000</td>\n",
       "      <td>0.000000</td>\n",
       "      <td>0.000000</td>\n",
       "      <td>0.000000</td>\n",
       "      <td>0.000000</td>\n",
       "      <td>0.000000</td>\n",
       "    </tr>\n",
       "    <tr>\n",
       "      <th>25%</th>\n",
       "      <td>6.932996</td>\n",
       "      <td>7.341922</td>\n",
       "      <td>2.880490</td>\n",
       "      <td>34.093951</td>\n",
       "      <td>411.048483</td>\n",
       "      <td>47.278490</td>\n",
       "      <td>10.002832</td>\n",
       "      <td>5.304167</td>\n",
       "      <td>999.644856</td>\n",
       "      <td>-499.861797</td>\n",
       "      <td>1199.563063</td>\n",
       "      <td>-500.195180</td>\n",
       "      <td>1150.739645</td>\n",
       "      <td>-500.214580</td>\n",
       "      <td>1060.476511</td>\n",
       "      <td>-500.369461</td>\n",
       "      <td>998.562148</td>\n",
       "      <td>-500.220652</td>\n",
       "      <td>900.713144</td>\n",
       "      <td>-500.518102</td>\n",
       "      <td>9.999625</td>\n",
       "      <td>5.399770</td>\n",
       "      <td>4.077084e+04</td>\n",
       "      <td>2597.574879</td>\n",
       "      <td>2528.351956</td>\n",
       "      <td>2.050078</td>\n",
       "      <td>18.908919</td>\n",
       "      <td>10.611551</td>\n",
       "      <td>6.682731</td>\n",
       "      <td>27.149641</td>\n",
       "      <td>80.558542</td>\n",
       "      <td>1.455205</td>\n",
       "      <td>5.023787</td>\n",
       "      <td>0.490217</td>\n",
       "      <td>15.753976</td>\n",
       "      <td>114.273934</td>\n",
       "      <td>6.194337</td>\n",
       "      <td>6.940000</td>\n",
       "      <td>0.696098</td>\n",
       "      <td>1.504949e+03</td>\n",
       "      <td>-500.320169</td>\n",
       "      <td>1.505230e+03</td>\n",
       "      <td>-500.440327</td>\n",
       "      <td>1.500845e+03</td>\n",
       "      <td>-500.709838</td>\n",
       "      <td>1.497960e+03</td>\n",
       "      <td>-500.464464</td>\n",
       "      <td>30.409669</td>\n",
       "      <td>7.360525</td>\n",
       "      <td>8.668289</td>\n",
       "      <td>7.964614</td>\n",
       "      <td>2.960094</td>\n",
       "      <td>13.978468</td>\n",
       "      <td>2.494448</td>\n",
       "      <td>6.826706</td>\n",
       "      <td>25.034882</td>\n",
       "      <td>-500.240915</td>\n",
       "      <td>20.083738</td>\n",
       "      <td>-500.264871</td>\n",
       "      <td>24.879889</td>\n",
       "      <td>-500.214111</td>\n",
       "      <td>18.990660</td>\n",
       "      <td>-500.123568</td>\n",
       "      <td>14.963312</td>\n",
       "      <td>-500.704937</td>\n",
       "      <td>11.889685</td>\n",
       "      <td>-500.184081</td>\n",
       "      <td>10.977413</td>\n",
       "      <td>-500.451167</td>\n",
       "      <td>8.947381</td>\n",
       "      <td>-500.129137</td>\n",
       "      <td>14.985721</td>\n",
       "      <td>-500.755346</td>\n",
       "      <td>3.216855</td>\n",
       "      <td>12.479139</td>\n",
       "      <td>3.801206</td>\n",
       "      <td>3.784897</td>\n",
       "      <td>43.345906</td>\n",
       "      <td>4.283347</td>\n",
       "      <td>9.103183</td>\n",
       "      <td>7.860030</td>\n",
       "      <td>63.114596</td>\n",
       "      <td>2.505287</td>\n",
       "      <td>8.088928</td>\n",
       "      <td>2.036512</td>\n",
       "      <td>9.013412</td>\n",
       "    </tr>\n",
       "    <tr>\n",
       "      <th>50%</th>\n",
       "      <td>8.225284</td>\n",
       "      <td>8.715859</td>\n",
       "      <td>3.532399</td>\n",
       "      <td>37.097511</td>\n",
       "      <td>498.187968</td>\n",
       "      <td>54.361187</td>\n",
       "      <td>12.003320</td>\n",
       "      <td>6.003053</td>\n",
       "      <td>1000.982624</td>\n",
       "      <td>-300.314199</td>\n",
       "      <td>1302.379807</td>\n",
       "      <td>-499.767998</td>\n",
       "      <td>1300.639429</td>\n",
       "      <td>-499.693772</td>\n",
       "      <td>1202.656040</td>\n",
       "      <td>-499.511621</td>\n",
       "      <td>1050.081856</td>\n",
       "      <td>-499.640275</td>\n",
       "      <td>999.870453</td>\n",
       "      <td>-499.451154</td>\n",
       "      <td>12.000777</td>\n",
       "      <td>6.096038</td>\n",
       "      <td>4.487892e+04</td>\n",
       "      <td>3055.912455</td>\n",
       "      <td>3006.139692</td>\n",
       "      <td>2.326922</td>\n",
       "      <td>20.329736</td>\n",
       "      <td>12.136445</td>\n",
       "      <td>7.705023</td>\n",
       "      <td>29.917369</td>\n",
       "      <td>85.946497</td>\n",
       "      <td>1.840333</td>\n",
       "      <td>5.819341</td>\n",
       "      <td>0.623074</td>\n",
       "      <td>18.060998</td>\n",
       "      <td>144.627539</td>\n",
       "      <td>8.055245</td>\n",
       "      <td>7.280000</td>\n",
       "      <td>0.957958</td>\n",
       "      <td>1.600683e+03</td>\n",
       "      <td>-499.935617</td>\n",
       "      <td>1.600561e+03</td>\n",
       "      <td>-499.962584</td>\n",
       "      <td>1.600226e+03</td>\n",
       "      <td>-499.914492</td>\n",
       "      <td>1.599493e+03</td>\n",
       "      <td>-499.916753</td>\n",
       "      <td>32.837748</td>\n",
       "      <td>8.555670</td>\n",
       "      <td>10.121250</td>\n",
       "      <td>10.479225</td>\n",
       "      <td>3.693812</td>\n",
       "      <td>15.773016</td>\n",
       "      <td>3.229651</td>\n",
       "      <td>8.235004</td>\n",
       "      <td>28.968533</td>\n",
       "      <td>-499.975415</td>\n",
       "      <td>24.988575</td>\n",
       "      <td>-500.017709</td>\n",
       "      <td>27.966517</td>\n",
       "      <td>-499.922655</td>\n",
       "      <td>21.995308</td>\n",
       "      <td>-499.980765</td>\n",
       "      <td>18.005468</td>\n",
       "      <td>-499.820809</td>\n",
       "      <td>14.957945</td>\n",
       "      <td>-499.424528</td>\n",
       "      <td>14.963654</td>\n",
       "      <td>-499.772653</td>\n",
       "      <td>11.000057</td>\n",
       "      <td>-499.926255</td>\n",
       "      <td>19.960798</td>\n",
       "      <td>-500.054273</td>\n",
       "      <td>4.097589</td>\n",
       "      <td>15.448510</td>\n",
       "      <td>5.227419</td>\n",
       "      <td>7.629968</td>\n",
       "      <td>44.975014</td>\n",
       "      <td>5.118647</td>\n",
       "      <td>10.046455</td>\n",
       "      <td>9.301970</td>\n",
       "      <td>67.962788</td>\n",
       "      <td>3.029238</td>\n",
       "      <td>9.818512</td>\n",
       "      <td>2.774847</td>\n",
       "      <td>10.670515</td>\n",
       "    </tr>\n",
       "    <tr>\n",
       "      <th>75%</th>\n",
       "      <td>9.832210</td>\n",
       "      <td>10.255843</td>\n",
       "      <td>4.257282</td>\n",
       "      <td>39.899799</td>\n",
       "      <td>549.586552</td>\n",
       "      <td>64.464926</td>\n",
       "      <td>14.929903</td>\n",
       "      <td>6.796632</td>\n",
       "      <td>1292.663971</td>\n",
       "      <td>-299.989315</td>\n",
       "      <td>1449.971526</td>\n",
       "      <td>-400.490924</td>\n",
       "      <td>1450.429812</td>\n",
       "      <td>-400.793268</td>\n",
       "      <td>1387.579519</td>\n",
       "      <td>-401.231087</td>\n",
       "      <td>1199.518951</td>\n",
       "      <td>-400.842206</td>\n",
       "      <td>1099.789243</td>\n",
       "      <td>-401.190552</td>\n",
       "      <td>14.821675</td>\n",
       "      <td>6.800713</td>\n",
       "      <td>4.838894e+04</td>\n",
       "      <td>3711.123079</td>\n",
       "      <td>3621.306274</td>\n",
       "      <td>2.746607</td>\n",
       "      <td>21.767391</td>\n",
       "      <td>13.771614</td>\n",
       "      <td>8.507136</td>\n",
       "      <td>32.300398</td>\n",
       "      <td>89.960375</td>\n",
       "      <td>2.227136</td>\n",
       "      <td>6.407298</td>\n",
       "      <td>0.780414</td>\n",
       "      <td>20.064557</td>\n",
       "      <td>176.161883</td>\n",
       "      <td>11.061619</td>\n",
       "      <td>7.689666</td>\n",
       "      <td>1.224756</td>\n",
       "      <td>1.697830e+03</td>\n",
       "      <td>-499.457104</td>\n",
       "      <td>1.699149e+03</td>\n",
       "      <td>-499.383154</td>\n",
       "      <td>1.699482e+03</td>\n",
       "      <td>-498.899663</td>\n",
       "      <td>1.698395e+03</td>\n",
       "      <td>-499.137048</td>\n",
       "      <td>35.027165</td>\n",
       "      <td>9.815695</td>\n",
       "      <td>11.362268</td>\n",
       "      <td>13.588618</td>\n",
       "      <td>4.648610</td>\n",
       "      <td>17.908623</td>\n",
       "      <td>4.115288</td>\n",
       "      <td>9.562956</td>\n",
       "      <td>32.250615</td>\n",
       "      <td>-499.668396</td>\n",
       "      <td>27.996854</td>\n",
       "      <td>-499.786233</td>\n",
       "      <td>32.981447</td>\n",
       "      <td>-499.233769</td>\n",
       "      <td>25.979469</td>\n",
       "      <td>-499.808121</td>\n",
       "      <td>22.977019</td>\n",
       "      <td>-498.048862</td>\n",
       "      <td>17.125406</td>\n",
       "      <td>-400.083087</td>\n",
       "      <td>18.012762</td>\n",
       "      <td>-498.182011</td>\n",
       "      <td>14.002573</td>\n",
       "      <td>-499.285414</td>\n",
       "      <td>23.038231</td>\n",
       "      <td>-499.506135</td>\n",
       "      <td>5.108658</td>\n",
       "      <td>17.349683</td>\n",
       "      <td>7.609340</td>\n",
       "      <td>10.367050</td>\n",
       "      <td>46.275153</td>\n",
       "      <td>5.925380</td>\n",
       "      <td>10.981203</td>\n",
       "      <td>11.001573</td>\n",
       "      <td>72.598187</td>\n",
       "      <td>3.614098</td>\n",
       "      <td>11.169187</td>\n",
       "      <td>3.353845</td>\n",
       "      <td>12.130827</td>\n",
       "    </tr>\n",
       "    <tr>\n",
       "      <th>max</th>\n",
       "      <td>13.731330</td>\n",
       "      <td>14.596026</td>\n",
       "      <td>7.052325</td>\n",
       "      <td>53.475325</td>\n",
       "      <td>717.508837</td>\n",
       "      <td>484.967466</td>\n",
       "      <td>36.118275</td>\n",
       "      <td>9.703448</td>\n",
       "      <td>1512.299531</td>\n",
       "      <td>-273.776101</td>\n",
       "      <td>1809.194008</td>\n",
       "      <td>-296.383080</td>\n",
       "      <td>2499.129174</td>\n",
       "      <td>-292.155509</td>\n",
       "      <td>1817.199290</td>\n",
       "      <td>-76.397327</td>\n",
       "      <td>1922.636637</td>\n",
       "      <td>-139.753025</td>\n",
       "      <td>1706.307502</td>\n",
       "      <td>-191.718480</td>\n",
       "      <td>37.980648</td>\n",
       "      <td>9.698407</td>\n",
       "      <td>3.428099e+06</td>\n",
       "      <td>629638.977914</td>\n",
       "      <td>718684.955855</td>\n",
       "      <td>27.231374</td>\n",
       "      <td>28.824507</td>\n",
       "      <td>24.480271</td>\n",
       "      <td>13.091679</td>\n",
       "      <td>38.351193</td>\n",
       "      <td>100.000000</td>\n",
       "      <td>9.688980</td>\n",
       "      <td>12.719177</td>\n",
       "      <td>3.778064</td>\n",
       "      <td>66.117188</td>\n",
       "      <td>265.983123</td>\n",
       "      <td>40.000000</td>\n",
       "      <td>15.500000</td>\n",
       "      <td>4.102454</td>\n",
       "      <td>2.103104e+03</td>\n",
       "      <td>-57.195404</td>\n",
       "      <td>2.114907e+03</td>\n",
       "      <td>-142.527229</td>\n",
       "      <td>2.013156e+03</td>\n",
       "      <td>-150.937035</td>\n",
       "      <td>2.398904e+03</td>\n",
       "      <td>-30.601828</td>\n",
       "      <td>45.933934</td>\n",
       "      <td>16.081632</td>\n",
       "      <td>17.081278</td>\n",
       "      <td>22.458114</td>\n",
       "      <td>17.788925</td>\n",
       "      <td>29.459575</td>\n",
       "      <td>9.634565</td>\n",
       "      <td>22.276364</td>\n",
       "      <td>52.651399</td>\n",
       "      <td>-127.875565</td>\n",
       "      <td>35.152122</td>\n",
       "      <td>-211.999273</td>\n",
       "      <td>44.260464</td>\n",
       "      <td>-191.678810</td>\n",
       "      <td>35.072841</td>\n",
       "      <td>-159.742331</td>\n",
       "      <td>30.115735</td>\n",
       "      <td>-245.239184</td>\n",
       "      <td>31.269706</td>\n",
       "      <td>-6.506986</td>\n",
       "      <td>43.709931</td>\n",
       "      <td>-244.483566</td>\n",
       "      <td>27.926001</td>\n",
       "      <td>-137.740004</td>\n",
       "      <td>32.188906</td>\n",
       "      <td>-123.307487</td>\n",
       "      <td>26.811643</td>\n",
       "      <td>23.264738</td>\n",
       "      <td>17.042505</td>\n",
       "      <td>26.000772</td>\n",
       "      <td>52.756638</td>\n",
       "      <td>16.001945</td>\n",
       "      <td>16.705297</td>\n",
       "      <td>19.423912</td>\n",
       "      <td>100.000000</td>\n",
       "      <td>8.245022</td>\n",
       "      <td>19.552149</td>\n",
       "      <td>5.804178</td>\n",
       "      <td>22.317730</td>\n",
       "    </tr>\n",
       "  </tbody>\n",
       "</table>\n",
       "</div>"
      ],
      "text/plain": [
       "       rougher.input.feed_au  rougher.input.feed_ag  rougher.input.feed_pb  \\\n",
       "count           14579.000000           14579.000000           14507.000000   \n",
       "mean                8.352941               8.877460               3.604221   \n",
       "std                 1.934376               1.922536               1.056063   \n",
       "min                 0.010000               0.010000               0.010000   \n",
       "25%                 6.932996               7.341922               2.880490   \n",
       "50%                 8.225284               8.715859               3.532399   \n",
       "75%                 9.832210              10.255843               4.257282   \n",
       "max                13.731330              14.596026               7.052325   \n",
       "\n",
       "       rougher.input.feed_sol  rougher.input.feed_rate  \\\n",
       "count            14502.000000             14572.000000   \n",
       "mean                36.561420               474.332784   \n",
       "std                  5.209823               108.503552   \n",
       "min                  0.010000                 0.002986   \n",
       "25%                 34.093951               411.048483   \n",
       "50%                 37.097511               498.187968   \n",
       "75%                 39.899799               549.586552   \n",
       "max                 53.475325               717.508837   \n",
       "\n",
       "       rougher.input.feed_size  rougher.input.floatbank10_sulfate  \\\n",
       "count             14478.000000                       14548.000000   \n",
       "mean                 58.922712                          12.427399   \n",
       "std                  22.407410                           3.428939   \n",
       "min                   0.049194                           0.001083   \n",
       "25%                  47.278490                          10.002832   \n",
       "50%                  54.361187                          12.003320   \n",
       "75%                  64.464926                          14.929903   \n",
       "max                 484.967466                          36.118275   \n",
       "\n",
       "       rougher.input.floatbank10_xanthate  rougher.state.floatbank10_a_air  \\\n",
       "count                        14572.000000                     14579.000000   \n",
       "mean                             5.994854                      1104.208278   \n",
       "std                              1.152873                       162.235606   \n",
       "min                              0.000568                        -0.042069   \n",
       "25%                              5.304167                       999.644856   \n",
       "50%                              6.003053                      1000.982624   \n",
       "75%                              6.796632                      1292.663971   \n",
       "max                              9.703448                      1512.299531   \n",
       "\n",
       "       rougher.state.floatbank10_a_level  rougher.state.floatbank10_b_air  \\\n",
       "count                       14579.000000                     14579.000000   \n",
       "mean                         -379.367166                      1322.845805   \n",
       "std                            94.652311                       181.612353   \n",
       "min                          -657.949759                        -0.721806   \n",
       "25%                          -499.861797                      1199.563063   \n",
       "50%                          -300.314199                      1302.379807   \n",
       "75%                          -299.989315                      1449.971526   \n",
       "max                          -273.776101                      1809.194008   \n",
       "\n",
       "       rougher.state.floatbank10_b_level  rougher.state.floatbank10_c_air  \\\n",
       "count                       14579.000000                     14579.000000   \n",
       "mean                         -465.495165                      1302.745258   \n",
       "std                            56.220206                       209.728859   \n",
       "min                          -650.260008                        -0.056636   \n",
       "25%                          -500.195180                      1150.739645   \n",
       "50%                          -499.767998                      1300.639429   \n",
       "75%                          -400.490924                      1450.429812   \n",
       "max                          -296.383080                      2499.129174   \n",
       "\n",
       "       rougher.state.floatbank10_c_level  rougher.state.floatbank10_d_air  \\\n",
       "count                       14579.000000                     14579.000000   \n",
       "mean                         -465.988660                      1214.062375   \n",
       "std                            55.261827                       210.056163   \n",
       "min                          -647.544439                        -0.992219   \n",
       "25%                          -500.214580                      1060.476511   \n",
       "50%                          -499.693772                      1202.656040   \n",
       "75%                          -400.793268                      1387.579519   \n",
       "max                          -292.155509                      1817.199290   \n",
       "\n",
       "       rougher.state.floatbank10_d_level  rougher.state.floatbank10_e_air  \\\n",
       "count                       14579.000000                     14150.000000   \n",
       "mean                         -466.526202                      1082.778201   \n",
       "std                            55.701015                       176.092308   \n",
       "min                          -648.390665                        -1.982295   \n",
       "25%                          -500.369461                       998.562148   \n",
       "50%                          -499.511621                      1050.081856   \n",
       "75%                          -401.231087                      1199.518951   \n",
       "max                           -76.397327                      1922.636637   \n",
       "\n",
       "       rougher.state.floatbank10_e_level  rougher.state.floatbank10_f_air  \\\n",
       "count                       14579.000000                     14579.000000   \n",
       "mean                         -464.228268                      1025.775819   \n",
       "std                            59.132193                       169.680255   \n",
       "min                          -649.443911                        -2.593390   \n",
       "25%                          -500.220652                       900.713144   \n",
       "50%                          -499.640275                       999.870453   \n",
       "75%                          -400.842206                      1099.789243   \n",
       "max                          -139.753025                      1706.307502   \n",
       "\n",
       "       rougher.state.floatbank10_f_level  rougher.input.floatbank11_sulfate  \\\n",
       "count                       14579.000000                       14543.000000   \n",
       "mean                         -464.549373                          12.095857   \n",
       "std                            59.622879                           3.887128   \n",
       "min                          -649.949283                           0.000077   \n",
       "25%                          -500.518102                           9.999625   \n",
       "50%                          -499.451154                          12.000777   \n",
       "75%                          -401.190552                          14.821675   \n",
       "max                          -191.718480                          37.980648   \n",
       "\n",
       "       rougher.input.floatbank11_xanthate  \\\n",
       "count                        14172.000000   \n",
       "mean                             6.047261   \n",
       "std                              1.115055   \n",
       "min                              0.000290   \n",
       "25%                              5.399770   \n",
       "50%                              6.096038   \n",
       "75%                              6.800713   \n",
       "max                              9.698407   \n",
       "\n",
       "       rougher.calculation.sulfate_to_au_concentrate  \\\n",
       "count                                   1.457800e+04   \n",
       "mean                                    4.435219e+04   \n",
       "std                                     1.325109e+05   \n",
       "min                                    -1.548858e+07   \n",
       "25%                                     4.077084e+04   \n",
       "50%                                     4.487892e+04   \n",
       "75%                                     4.838894e+04   \n",
       "max                                     3.428099e+06   \n",
       "\n",
       "       rougher.calculation.floatbank10_sulfate_to_au_feed  \\\n",
       "count                                       14578.000000    \n",
       "mean                                         3440.548437    \n",
       "std                                          5676.976735    \n",
       "min                                          -486.598675    \n",
       "25%                                          2597.574879    \n",
       "50%                                          3055.912455    \n",
       "75%                                          3711.123079    \n",
       "max                                        629638.977914    \n",
       "\n",
       "       rougher.calculation.floatbank11_sulfate_to_au_feed  \\\n",
       "count                                       14578.000000    \n",
       "mean                                         3276.812427    \n",
       "std                                          6654.751076    \n",
       "min                                          -264.982785    \n",
       "25%                                          2528.351956    \n",
       "50%                                          3006.139692    \n",
       "75%                                          3621.306274    \n",
       "max                                        718684.955855    \n",
       "\n",
       "       rougher.calculation.au_pb_ratio  rougher.output.concentrate_au  \\\n",
       "count                     14579.000000                   14579.000000   \n",
       "mean                          2.436506                      19.717470   \n",
       "std                           0.747964                       4.086618   \n",
       "min                          -0.010548                       0.000000   \n",
       "25%                           2.050078                      18.908919   \n",
       "50%                           2.326922                      20.329736   \n",
       "75%                           2.746607                      21.767391   \n",
       "max                          27.231374                      28.824507   \n",
       "\n",
       "       rougher.output.concentrate_ag  rougher.output.concentrate_pb  \\\n",
       "count                   14579.000000                   14579.000000   \n",
       "mean                       11.944253                       7.498953   \n",
       "std                         2.916323                       1.851631   \n",
       "min                         0.000000                       0.000000   \n",
       "25%                        10.611551                       6.682731   \n",
       "50%                        12.136445                       7.705023   \n",
       "75%                        13.771614                       8.507136   \n",
       "max                        24.480271                      13.091679   \n",
       "\n",
       "       rougher.output.concentrate_sol  rougher.output.recovery  \\\n",
       "count                    14561.000000             14579.000000   \n",
       "mean                        28.653422                82.521200   \n",
       "std                          6.427589                15.797521   \n",
       "min                          0.000000                 0.000000   \n",
       "25%                         27.149641                80.558542   \n",
       "50%                         29.917369                85.946497   \n",
       "75%                         32.300398                89.960375   \n",
       "max                         38.351193               100.000000   \n",
       "\n",
       "       rougher.output.tail_au  rougher.output.tail_ag  rougher.output.tail_pb  \\\n",
       "count            14579.000000            14578.000000            14579.000000   \n",
       "mean                 1.852849                5.649646                0.654742   \n",
       "std                  0.671844                1.079950                0.251685   \n",
       "min                  0.020676                2.316530                0.007566   \n",
       "25%                  1.455205                5.023787                0.490217   \n",
       "50%                  1.840333                5.819341                0.623074   \n",
       "75%                  2.227136                6.407298                0.780414   \n",
       "max                  9.688980               12.719177                3.778064   \n",
       "\n",
       "       rougher.output.tail_sol  primary_cleaner.input.sulfate  \\\n",
       "count             14579.000000                   14556.000000   \n",
       "mean                 18.019755                     145.099826   \n",
       "std                   3.492621                      45.136018   \n",
       "min                  10.014648                       0.003112   \n",
       "25%                  15.753976                     114.273934   \n",
       "50%                  18.060998                     144.627539   \n",
       "75%                  20.064557                     176.161883   \n",
       "max                  66.117188                     265.983123   \n",
       "\n",
       "       primary_cleaner.input.depressant  primary_cleaner.input.feed_size  \\\n",
       "count                      14551.000000                     14579.000000   \n",
       "mean                           8.858575                         7.307600   \n",
       "std                            3.323216                         0.621609   \n",
       "min                            0.000000                         1.080000   \n",
       "25%                            6.194337                         6.940000   \n",
       "50%                            8.055245                         7.280000   \n",
       "75%                           11.061619                         7.689666   \n",
       "max                           40.000000                        15.500000   \n",
       "\n",
       "       primary_cleaner.input.xanthate  primary_cleaner.state.floatbank8_a_air  \\\n",
       "count                    14518.000000                            1.457600e+04   \n",
       "mean                         1.026512                            1.589676e+03   \n",
       "std                          0.519205                            1.303228e+02   \n",
       "min                          0.000005                            5.445860e-32   \n",
       "25%                          0.696098                            1.504949e+03   \n",
       "50%                          0.957958                            1.600683e+03   \n",
       "75%                          1.224756                            1.697830e+03   \n",
       "max                          4.102454                            2.103104e+03   \n",
       "\n",
       "       primary_cleaner.state.floatbank8_a_level  \\\n",
       "count                              14579.000000   \n",
       "mean                                -492.185489   \n",
       "std                                   30.827141   \n",
       "min                                 -798.641662   \n",
       "25%                                 -500.320169   \n",
       "50%                                 -499.935617   \n",
       "75%                                 -499.457104   \n",
       "max                                  -57.195404   \n",
       "\n",
       "       primary_cleaner.state.floatbank8_b_air  \\\n",
       "count                            1.457600e+04   \n",
       "mean                             1.592027e+03   \n",
       "std                              1.317109e+02   \n",
       "min                              6.647490e-32   \n",
       "25%                              1.505230e+03   \n",
       "50%                              1.600561e+03   \n",
       "75%                              1.699149e+03   \n",
       "max                              2.114907e+03   \n",
       "\n",
       "       primary_cleaner.state.floatbank8_b_level  \\\n",
       "count                              14579.000000   \n",
       "mean                                -492.838585   \n",
       "std                                   33.288228   \n",
       "min                                 -799.997015   \n",
       "25%                                 -500.440327   \n",
       "50%                                 -499.962584   \n",
       "75%                                 -499.383154   \n",
       "max                                 -142.527229   \n",
       "\n",
       "       primary_cleaner.state.floatbank8_c_air  \\\n",
       "count                            1.457900e+04   \n",
       "mean                             1.585924e+03   \n",
       "std                              1.372292e+02   \n",
       "min                              4.033736e-32   \n",
       "25%                              1.500845e+03   \n",
       "50%                              1.600226e+03   \n",
       "75%                              1.699482e+03   \n",
       "max                              2.013156e+03   \n",
       "\n",
       "       primary_cleaner.state.floatbank8_c_level  \\\n",
       "count                              14579.000000   \n",
       "mean                                -492.726140   \n",
       "std                                   32.359161   \n",
       "min                                 -799.960571   \n",
       "25%                                 -500.709838   \n",
       "50%                                 -499.914492   \n",
       "75%                                 -498.899663   \n",
       "max                                 -150.937035   \n",
       "\n",
       "       primary_cleaner.state.floatbank8_d_air  \\\n",
       "count                            1.457800e+04   \n",
       "mean                             1.547119e+03   \n",
       "std                              2.426145e+02   \n",
       "min                              4.039220e-32   \n",
       "25%                              1.497960e+03   \n",
       "50%                              1.599493e+03   \n",
       "75%                              1.698395e+03   \n",
       "max                              2.398904e+03   \n",
       "\n",
       "       primary_cleaner.state.floatbank8_d_level  \\\n",
       "count                              14579.000000   \n",
       "mean                                -488.724249   \n",
       "std                                   44.157594   \n",
       "min                                 -799.794250   \n",
       "25%                                 -500.464464   \n",
       "50%                                 -499.916753   \n",
       "75%                                 -499.137048   \n",
       "max                                  -30.601828   \n",
       "\n",
       "       primary_cleaner.output.concentrate_au  \\\n",
       "count                           14579.000000   \n",
       "mean                               32.007535   \n",
       "std                                 5.891272   \n",
       "min                                 0.000000   \n",
       "25%                                30.409669   \n",
       "50%                                32.837748   \n",
       "75%                                35.027165   \n",
       "max                                45.933934   \n",
       "\n",
       "       primary_cleaner.output.concentrate_ag  \\\n",
       "count                           14579.000000   \n",
       "mean                                8.468626   \n",
       "std                                 2.082271   \n",
       "min                                 0.000000   \n",
       "25%                                 7.360525   \n",
       "50%                                 8.555670   \n",
       "75%                                 9.815695   \n",
       "max                                16.081632   \n",
       "\n",
       "       primary_cleaner.output.concentrate_pb  \\\n",
       "count                           14491.000000   \n",
       "mean                                9.750567   \n",
       "std                                 2.556602   \n",
       "min                                 0.000000   \n",
       "25%                                 8.668289   \n",
       "50%                                10.121250   \n",
       "75%                                11.362268   \n",
       "max                                17.081278   \n",
       "\n",
       "       primary_cleaner.output.concentrate_sol  primary_cleaner.output.tail_au  \\\n",
       "count                            14314.000000                    14579.000000   \n",
       "mean                                10.576880                        3.974004   \n",
       "std                                  3.964761                        1.604410   \n",
       "min                                  0.000000                        0.000000   \n",
       "25%                                  7.964614                        2.960094   \n",
       "50%                                 10.479225                        3.693812   \n",
       "75%                                 13.588618                        4.648610   \n",
       "max                                 22.458114                       17.788925   \n",
       "\n",
       "       primary_cleaner.output.tail_ag  primary_cleaner.output.tail_pb  \\\n",
       "count                    14575.000000                    14573.000000   \n",
       "mean                        16.069960                        3.403764   \n",
       "std                          3.557775                        1.394091   \n",
       "min                          0.000000                        0.000000   \n",
       "25%                         13.978468                        2.494448   \n",
       "50%                         15.773016                        3.229651   \n",
       "75%                         17.908623                        4.115288   \n",
       "max                         29.459575                        9.634565   \n",
       "\n",
       "       primary_cleaner.output.tail_sol  \\\n",
       "count                     14534.000000   \n",
       "mean                          8.025747   \n",
       "std                           2.176478   \n",
       "min                           0.000000   \n",
       "25%                           6.826706   \n",
       "50%                           8.235004   \n",
       "75%                           9.562956   \n",
       "max                          22.276364   \n",
       "\n",
       "       secondary_cleaner.state.floatbank2_a_air  \\\n",
       "count                              14485.000000   \n",
       "mean                                  28.449700   \n",
       "std                                    5.467326   \n",
       "min                                    0.077503   \n",
       "25%                                   25.034882   \n",
       "50%                                   28.968533   \n",
       "75%                                   32.250615   \n",
       "max                                   52.651399   \n",
       "\n",
       "       secondary_cleaner.state.floatbank2_a_level  \\\n",
       "count                                14579.000000   \n",
       "mean                                  -503.321444   \n",
       "std                                     56.555780   \n",
       "min                                   -799.605762   \n",
       "25%                                   -500.240915   \n",
       "50%                                   -499.975415   \n",
       "75%                                   -499.668396   \n",
       "max                                   -127.875565   \n",
       "\n",
       "       secondary_cleaner.state.floatbank2_b_air  \\\n",
       "count                              14557.000000   \n",
       "mean                                  23.898016   \n",
       "std                                    5.820755   \n",
       "min                                    0.000000   \n",
       "25%                                   20.083738   \n",
       "50%                                   24.988575   \n",
       "75%                                   27.996854   \n",
       "max                                   35.152122   \n",
       "\n",
       "       secondary_cleaner.state.floatbank2_b_level  \\\n",
       "count                                14579.000000   \n",
       "mean                                  -504.455206   \n",
       "std                                     60.219739   \n",
       "min                                   -799.870292   \n",
       "25%                                   -500.264871   \n",
       "50%                                   -500.017709   \n",
       "75%                                   -499.786233   \n",
       "max                                   -211.999273   \n",
       "\n",
       "       secondary_cleaner.state.floatbank3_a_air  \\\n",
       "count                              14567.000000   \n",
       "mean                                  27.966801   \n",
       "std                                    6.109365   \n",
       "min                                    0.000000   \n",
       "25%                                   24.879889   \n",
       "50%                                   27.966517   \n",
       "75%                                   32.981447   \n",
       "max                                   44.260464   \n",
       "\n",
       "       secondary_cleaner.state.floatbank3_a_level  \\\n",
       "count                                14579.000000   \n",
       "mean                                  -485.112844   \n",
       "std                                     55.205693   \n",
       "min                                   -799.755798   \n",
       "25%                                   -500.214111   \n",
       "50%                                   -499.922655   \n",
       "75%                                   -499.233769   \n",
       "max                                   -191.678810   \n",
       "\n",
       "       secondary_cleaner.state.floatbank3_b_air  \\\n",
       "count                              14579.000000   \n",
       "mean                                  22.056638   \n",
       "std                                    5.605309   \n",
       "min                                    0.000000   \n",
       "25%                                   18.990660   \n",
       "50%                                   21.995308   \n",
       "75%                                   25.979469   \n",
       "max                                   35.072841   \n",
       "\n",
       "       secondary_cleaner.state.floatbank3_b_level  \\\n",
       "count                                14579.000000   \n",
       "mean                                  -493.400930   \n",
       "std                                     44.228650   \n",
       "min                                   -809.333008   \n",
       "25%                                   -500.123568   \n",
       "50%                                   -499.980765   \n",
       "75%                                   -499.808121   \n",
       "max                                   -159.742331   \n",
       "\n",
       "       secondary_cleaner.state.floatbank4_a_air  \\\n",
       "count                              14574.000000   \n",
       "mean                                  18.697604   \n",
       "std                                    5.200943   \n",
       "min                                    0.000000   \n",
       "25%                                   14.963312   \n",
       "50%                                   18.005468   \n",
       "75%                                   22.977019   \n",
       "max                                   30.115735   \n",
       "\n",
       "       secondary_cleaner.state.floatbank4_a_level  \\\n",
       "count                                14579.000000   \n",
       "mean                                  -484.971102   \n",
       "std                                     48.795359   \n",
       "min                                   -799.798523   \n",
       "25%                                   -500.704937   \n",
       "50%                                   -499.820809   \n",
       "75%                                   -498.048862   \n",
       "max                                   -245.239184   \n",
       "\n",
       "       secondary_cleaner.state.floatbank4_b_air  \\\n",
       "count                              14579.000000   \n",
       "mean                                  14.823764   \n",
       "std                                    4.863659   \n",
       "min                                    0.000000   \n",
       "25%                                   11.889685   \n",
       "50%                                   14.957945   \n",
       "75%                                   17.125406   \n",
       "max                                   31.269706   \n",
       "\n",
       "       secondary_cleaner.state.floatbank4_b_level  \\\n",
       "count                                14579.000000   \n",
       "mean                                  -460.046154   \n",
       "std                                     67.933026   \n",
       "min                                   -800.836914   \n",
       "25%                                   -500.184081   \n",
       "50%                                   -499.424528   \n",
       "75%                                   -400.083087   \n",
       "max                                     -6.506986   \n",
       "\n",
       "       secondary_cleaner.state.floatbank5_a_air  \\\n",
       "count                              14579.000000   \n",
       "mean                                  15.394610   \n",
       "std                                    5.405045   \n",
       "min                                   -0.372054   \n",
       "25%                                   10.977413   \n",
       "50%                                   14.963654   \n",
       "75%                                   18.012762   \n",
       "max                                   43.709931   \n",
       "\n",
       "       secondary_cleaner.state.floatbank5_a_level  \\\n",
       "count                                14579.000000   \n",
       "mean                                  -487.973768   \n",
       "std                                     35.231439   \n",
       "min                                   -797.323986   \n",
       "25%                                   -500.451167   \n",
       "50%                                   -499.772653   \n",
       "75%                                   -498.182011   \n",
       "max                                   -244.483566   \n",
       "\n",
       "       secondary_cleaner.state.floatbank5_b_air  \\\n",
       "count                              14579.000000   \n",
       "mean                                  11.949009   \n",
       "std                                    5.241169   \n",
       "min                                    0.528083   \n",
       "25%                                    8.947381   \n",
       "50%                                   11.000057   \n",
       "75%                                   14.002573   \n",
       "max                                   27.926001   \n",
       "\n",
       "       secondary_cleaner.state.floatbank5_b_level  \\\n",
       "count                                14579.000000   \n",
       "mean                                  -486.338692   \n",
       "std                                     38.726292   \n",
       "min                                   -800.220337   \n",
       "25%                                   -500.129137   \n",
       "50%                                   -499.926255   \n",
       "75%                                   -499.285414   \n",
       "max                                   -137.740004   \n",
       "\n",
       "       secondary_cleaner.state.floatbank6_a_air  \\\n",
       "count                              14578.000000   \n",
       "mean                                  18.927405   \n",
       "std                                    5.550829   \n",
       "min                                   -0.079426   \n",
       "25%                                   14.985721   \n",
       "50%                                   19.960798   \n",
       "75%                                   23.038231   \n",
       "max                                   32.188906   \n",
       "\n",
       "       secondary_cleaner.state.floatbank6_a_level  \\\n",
       "count                                14579.000000   \n",
       "mean                                  -505.688730   \n",
       "std                                     37.347370   \n",
       "min                                   -809.741464   \n",
       "25%                                   -500.755346   \n",
       "50%                                   -500.054273   \n",
       "75%                                   -499.506135   \n",
       "max                                   -123.307487   \n",
       "\n",
       "       secondary_cleaner.output.tail_au  secondary_cleaner.output.tail_ag  \\\n",
       "count                      14579.000000                      14578.000000   \n",
       "mean                           4.373067                         14.441265   \n",
       "std                            2.394328                          4.416497   \n",
       "min                            0.000000                          0.000000   \n",
       "25%                            3.216855                         12.479139   \n",
       "50%                            4.097589                         15.448510   \n",
       "75%                            5.108658                         17.349683   \n",
       "max                           26.811643                         23.264738   \n",
       "\n",
       "       secondary_cleaner.output.tail_pb  secondary_cleaner.output.tail_sol  \\\n",
       "count                      14575.000000                       13659.000000   \n",
       "mean                           5.617182                           7.111347   \n",
       "std                            2.704951                           3.909951   \n",
       "min                            0.000000                           0.000000   \n",
       "25%                            3.801206                           3.784897   \n",
       "50%                            5.227419                           7.629968   \n",
       "75%                            7.609340                          10.367050   \n",
       "max                           17.042505                          26.000772   \n",
       "\n",
       "       final.output.concentrate_au  final.output.concentrate_ag  \\\n",
       "count                 14579.000000                 14578.000000   \n",
       "mean                     43.979499                     5.192145   \n",
       "std                       5.471437                     1.388014   \n",
       "min                       0.000000                     0.000000   \n",
       "25%                      43.345906                     4.283347   \n",
       "50%                      44.975014                     5.118647   \n",
       "75%                      46.275153                     5.925380   \n",
       "max                      52.756638                    16.001945   \n",
       "\n",
       "       final.output.concentrate_pb  final.output.concentrate_sol  \\\n",
       "count                 14578.000000                  14387.000000   \n",
       "mean                      9.923809                      9.566676   \n",
       "std                       1.706976                      2.805654   \n",
       "min                       0.000000                      0.000000   \n",
       "25%                       9.103183                      7.860030   \n",
       "50%                      10.046455                      9.301970   \n",
       "75%                      10.981203                     11.001573   \n",
       "max                      16.705297                     19.423912   \n",
       "\n",
       "       final.output.recovery  final.output.tail_au  final.output.tail_ag  \\\n",
       "count           14579.000000          14579.000000          14578.000000   \n",
       "mean               66.759066              3.087939              9.731972   \n",
       "std                10.619709              0.915187              2.358143   \n",
       "min                 0.000000              0.000000              0.000000   \n",
       "25%                63.114596              2.505287              8.088928   \n",
       "50%                67.962788              3.029238              9.818512   \n",
       "75%                72.598187              3.614098             11.169187   \n",
       "max               100.000000              8.245022             19.552149   \n",
       "\n",
       "       final.output.tail_pb  final.output.tail_sol  \n",
       "count          14504.000000           14574.000000  \n",
       "mean               2.719985              10.612745  \n",
       "std                0.958929               2.871075  \n",
       "min                0.000000               0.000000  \n",
       "25%                2.036512               9.013412  \n",
       "50%                2.774847              10.670515  \n",
       "75%                3.353845              12.130827  \n",
       "max                5.804178              22.317730  "
      ]
     },
     "metadata": {},
     "output_type": "display_data"
    },
    {
     "name": "stdout",
     "output_type": "stream",
     "text": [
      "\n",
      "Тестовая выборка\n"
     ]
    },
    {
     "data": {
      "text/html": [
       "<div>\n",
       "<style scoped>\n",
       "    .dataframe tbody tr th:only-of-type {\n",
       "        vertical-align: middle;\n",
       "    }\n",
       "\n",
       "    .dataframe tbody tr th {\n",
       "        vertical-align: top;\n",
       "    }\n",
       "\n",
       "    .dataframe thead th {\n",
       "        text-align: right;\n",
       "    }\n",
       "</style>\n",
       "<table border=\"1\" class=\"dataframe\">\n",
       "  <thead>\n",
       "    <tr style=\"text-align: right;\">\n",
       "      <th></th>\n",
       "      <th>rougher.input.feed_au</th>\n",
       "      <th>rougher.input.feed_ag</th>\n",
       "      <th>rougher.input.feed_pb</th>\n",
       "      <th>rougher.input.feed_sol</th>\n",
       "      <th>rougher.input.feed_rate</th>\n",
       "      <th>rougher.input.feed_size</th>\n",
       "      <th>rougher.input.floatbank10_sulfate</th>\n",
       "      <th>rougher.input.floatbank10_xanthate</th>\n",
       "      <th>rougher.state.floatbank10_a_air</th>\n",
       "      <th>rougher.state.floatbank10_a_level</th>\n",
       "      <th>rougher.state.floatbank10_b_air</th>\n",
       "      <th>rougher.state.floatbank10_b_level</th>\n",
       "      <th>rougher.state.floatbank10_c_air</th>\n",
       "      <th>rougher.state.floatbank10_c_level</th>\n",
       "      <th>rougher.state.floatbank10_d_air</th>\n",
       "      <th>rougher.state.floatbank10_d_level</th>\n",
       "      <th>rougher.state.floatbank10_e_air</th>\n",
       "      <th>rougher.state.floatbank10_e_level</th>\n",
       "      <th>rougher.state.floatbank10_f_air</th>\n",
       "      <th>rougher.state.floatbank10_f_level</th>\n",
       "      <th>rougher.input.floatbank11_sulfate</th>\n",
       "      <th>rougher.input.floatbank11_xanthate</th>\n",
       "      <th>primary_cleaner.input.sulfate</th>\n",
       "      <th>primary_cleaner.input.depressant</th>\n",
       "      <th>primary_cleaner.input.feed_size</th>\n",
       "      <th>primary_cleaner.input.xanthate</th>\n",
       "      <th>primary_cleaner.state.floatbank8_a_air</th>\n",
       "      <th>primary_cleaner.state.floatbank8_a_level</th>\n",
       "      <th>primary_cleaner.state.floatbank8_b_air</th>\n",
       "      <th>primary_cleaner.state.floatbank8_b_level</th>\n",
       "      <th>primary_cleaner.state.floatbank8_c_air</th>\n",
       "      <th>primary_cleaner.state.floatbank8_c_level</th>\n",
       "      <th>primary_cleaner.state.floatbank8_d_air</th>\n",
       "      <th>primary_cleaner.state.floatbank8_d_level</th>\n",
       "      <th>secondary_cleaner.state.floatbank2_a_air</th>\n",
       "      <th>secondary_cleaner.state.floatbank2_a_level</th>\n",
       "      <th>secondary_cleaner.state.floatbank2_b_air</th>\n",
       "      <th>secondary_cleaner.state.floatbank2_b_level</th>\n",
       "      <th>secondary_cleaner.state.floatbank3_a_air</th>\n",
       "      <th>secondary_cleaner.state.floatbank3_a_level</th>\n",
       "      <th>secondary_cleaner.state.floatbank3_b_air</th>\n",
       "      <th>secondary_cleaner.state.floatbank3_b_level</th>\n",
       "      <th>secondary_cleaner.state.floatbank4_a_air</th>\n",
       "      <th>secondary_cleaner.state.floatbank4_a_level</th>\n",
       "      <th>secondary_cleaner.state.floatbank4_b_air</th>\n",
       "      <th>secondary_cleaner.state.floatbank4_b_level</th>\n",
       "      <th>secondary_cleaner.state.floatbank5_a_air</th>\n",
       "      <th>secondary_cleaner.state.floatbank5_a_level</th>\n",
       "      <th>secondary_cleaner.state.floatbank5_b_air</th>\n",
       "      <th>secondary_cleaner.state.floatbank5_b_level</th>\n",
       "      <th>secondary_cleaner.state.floatbank6_a_air</th>\n",
       "      <th>secondary_cleaner.state.floatbank6_a_level</th>\n",
       "    </tr>\n",
       "  </thead>\n",
       "  <tbody>\n",
       "    <tr>\n",
       "      <th>count</th>\n",
       "      <td>4860.000000</td>\n",
       "      <td>4860.000000</td>\n",
       "      <td>4832.000000</td>\n",
       "      <td>4838.000000</td>\n",
       "      <td>4856.000000</td>\n",
       "      <td>4816.000000</td>\n",
       "      <td>4857.000000</td>\n",
       "      <td>4859.000000</td>\n",
       "      <td>4859.000000</td>\n",
       "      <td>4859.000000</td>\n",
       "      <td>4859.000000</td>\n",
       "      <td>4859.000000</td>\n",
       "      <td>4859.000000</td>\n",
       "      <td>4859.000000</td>\n",
       "      <td>4860.000000</td>\n",
       "      <td>4860.000000</td>\n",
       "      <td>4853.000000</td>\n",
       "      <td>4860.000000</td>\n",
       "      <td>4860.000000</td>\n",
       "      <td>4860.000000</td>\n",
       "      <td>4852.000000</td>\n",
       "      <td>4814.000000</td>\n",
       "      <td>4859.000000</td>\n",
       "      <td>4851.000000</td>\n",
       "      <td>4860.000000</td>\n",
       "      <td>4817.000000</td>\n",
       "      <td>4859.000000</td>\n",
       "      <td>4859.000000</td>\n",
       "      <td>4859.000000</td>\n",
       "      <td>4859.000000</td>\n",
       "      <td>4858.000000</td>\n",
       "      <td>4859.000000</td>\n",
       "      <td>4858.000000</td>\n",
       "      <td>4859.000000</td>\n",
       "      <td>4734.000000</td>\n",
       "      <td>4859.000000</td>\n",
       "      <td>4859.000000</td>\n",
       "      <td>4859.000000</td>\n",
       "      <td>4.859000e+03</td>\n",
       "      <td>4859.000000</td>\n",
       "      <td>4.859000e+03</td>\n",
       "      <td>4859.000000</td>\n",
       "      <td>4.859000e+03</td>\n",
       "      <td>4859.000000</td>\n",
       "      <td>4.859000e+03</td>\n",
       "      <td>4859.000000</td>\n",
       "      <td>4859.000000</td>\n",
       "      <td>4859.000000</td>\n",
       "      <td>4859.000000</td>\n",
       "      <td>4859.000000</td>\n",
       "      <td>4859.000000</td>\n",
       "      <td>4859.000000</td>\n",
       "    </tr>\n",
       "    <tr>\n",
       "      <th>mean</th>\n",
       "      <td>8.005584</td>\n",
       "      <td>8.547348</td>\n",
       "      <td>3.579662</td>\n",
       "      <td>37.095864</td>\n",
       "      <td>490.285103</td>\n",
       "      <td>59.113400</td>\n",
       "      <td>12.055735</td>\n",
       "      <td>6.101308</td>\n",
       "      <td>1108.635895</td>\n",
       "      <td>-368.340127</td>\n",
       "      <td>1312.346061</td>\n",
       "      <td>-472.506533</td>\n",
       "      <td>1291.638282</td>\n",
       "      <td>-472.902514</td>\n",
       "      <td>1204.066585</td>\n",
       "      <td>-473.380689</td>\n",
       "      <td>1075.304980</td>\n",
       "      <td>-471.465792</td>\n",
       "      <td>1023.769668</td>\n",
       "      <td>-471.412834</td>\n",
       "      <td>11.969074</td>\n",
       "      <td>6.119323</td>\n",
       "      <td>143.201672</td>\n",
       "      <td>8.692446</td>\n",
       "      <td>7.305514</td>\n",
       "      <td>1.007577</td>\n",
       "      <td>1588.387039</td>\n",
       "      <td>-488.223175</td>\n",
       "      <td>1589.297134</td>\n",
       "      <td>-490.255893</td>\n",
       "      <td>1588.905465</td>\n",
       "      <td>-489.741555</td>\n",
       "      <td>1530.287801</td>\n",
       "      <td>-485.896489</td>\n",
       "      <td>29.488451</td>\n",
       "      <td>-499.504602</td>\n",
       "      <td>24.732293</td>\n",
       "      <td>-499.556727</td>\n",
       "      <td>2.889647e+01</td>\n",
       "      <td>-489.475315</td>\n",
       "      <td>2.263273e+01</td>\n",
       "      <td>-494.765779</td>\n",
       "      <td>1.985770e+01</td>\n",
       "      <td>-488.665140</td>\n",
       "      <td>1.557025e+01</td>\n",
       "      <td>-464.176507</td>\n",
       "      <td>16.594103</td>\n",
       "      <td>-490.815250</td>\n",
       "      <td>12.945971</td>\n",
       "      <td>-489.583564</td>\n",
       "      <td>19.053888</td>\n",
       "      <td>-504.678924</td>\n",
       "    </tr>\n",
       "    <tr>\n",
       "      <th>std</th>\n",
       "      <td>1.993590</td>\n",
       "      <td>1.958601</td>\n",
       "      <td>1.029377</td>\n",
       "      <td>4.926284</td>\n",
       "      <td>94.371623</td>\n",
       "      <td>19.125122</td>\n",
       "      <td>3.407642</td>\n",
       "      <td>1.042754</td>\n",
       "      <td>156.493143</td>\n",
       "      <td>91.155929</td>\n",
       "      <td>159.001709</td>\n",
       "      <td>49.376824</td>\n",
       "      <td>180.203670</td>\n",
       "      <td>47.611728</td>\n",
       "      <td>184.547737</td>\n",
       "      <td>47.828848</td>\n",
       "      <td>159.989533</td>\n",
       "      <td>51.413832</td>\n",
       "      <td>147.827669</td>\n",
       "      <td>51.838763</td>\n",
       "      <td>3.456113</td>\n",
       "      <td>1.049065</td>\n",
       "      <td>42.360060</td>\n",
       "      <td>3.169592</td>\n",
       "      <td>0.588602</td>\n",
       "      <td>0.494669</td>\n",
       "      <td>124.942960</td>\n",
       "      <td>36.672631</td>\n",
       "      <td>132.102797</td>\n",
       "      <td>35.203702</td>\n",
       "      <td>132.689236</td>\n",
       "      <td>33.650676</td>\n",
       "      <td>256.268884</td>\n",
       "      <td>43.296128</td>\n",
       "      <td>5.357783</td>\n",
       "      <td>43.284386</td>\n",
       "      <td>5.484220</td>\n",
       "      <td>43.619785</td>\n",
       "      <td>6.159087e+00</td>\n",
       "      <td>51.827314</td>\n",
       "      <td>5.456797e+00</td>\n",
       "      <td>40.681493</td>\n",
       "      <td>5.913105e+00</td>\n",
       "      <td>44.392714</td>\n",
       "      <td>4.927361e+00</td>\n",
       "      <td>65.706994</td>\n",
       "      <td>5.724305</td>\n",
       "      <td>32.258443</td>\n",
       "      <td>5.533176</td>\n",
       "      <td>37.084609</td>\n",
       "      <td>5.548996</td>\n",
       "      <td>38.690186</td>\n",
       "    </tr>\n",
       "    <tr>\n",
       "      <th>min</th>\n",
       "      <td>0.010000</td>\n",
       "      <td>0.010000</td>\n",
       "      <td>0.010000</td>\n",
       "      <td>0.010000</td>\n",
       "      <td>0.012786</td>\n",
       "      <td>0.046369</td>\n",
       "      <td>0.018907</td>\n",
       "      <td>0.015783</td>\n",
       "      <td>300.792494</td>\n",
       "      <td>-600.568138</td>\n",
       "      <td>767.656587</td>\n",
       "      <td>-649.997496</td>\n",
       "      <td>831.537936</td>\n",
       "      <td>-552.657032</td>\n",
       "      <td>706.281918</td>\n",
       "      <td>-648.118446</td>\n",
       "      <td>695.211786</td>\n",
       "      <td>-598.926149</td>\n",
       "      <td>539.633937</td>\n",
       "      <td>-649.376184</td>\n",
       "      <td>0.000163</td>\n",
       "      <td>0.002616</td>\n",
       "      <td>7.329299</td>\n",
       "      <td>0.000000</td>\n",
       "      <td>4.970000</td>\n",
       "      <td>0.000154</td>\n",
       "      <td>314.241165</td>\n",
       "      <td>-653.477578</td>\n",
       "      <td>319.959489</td>\n",
       "      <td>-799.260788</td>\n",
       "      <td>273.536823</td>\n",
       "      <td>-709.213816</td>\n",
       "      <td>131.321672</td>\n",
       "      <td>-799.791618</td>\n",
       "      <td>0.122013</td>\n",
       "      <td>-799.606441</td>\n",
       "      <td>0.000000</td>\n",
       "      <td>-799.873878</td>\n",
       "      <td>1.957942e-17</td>\n",
       "      <td>-799.575338</td>\n",
       "      <td>1.521587e-17</td>\n",
       "      <td>-758.764444</td>\n",
       "      <td>1.079872e-16</td>\n",
       "      <td>-799.704969</td>\n",
       "      <td>2.489718e-17</td>\n",
       "      <td>-799.860767</td>\n",
       "      <td>-0.371498</td>\n",
       "      <td>-797.142475</td>\n",
       "      <td>1.358469</td>\n",
       "      <td>-800.006180</td>\n",
       "      <td>0.160386</td>\n",
       "      <td>-809.734800</td>\n",
       "    </tr>\n",
       "    <tr>\n",
       "      <th>25%</th>\n",
       "      <td>6.574363</td>\n",
       "      <td>6.975898</td>\n",
       "      <td>2.903612</td>\n",
       "      <td>34.510841</td>\n",
       "      <td>434.099695</td>\n",
       "      <td>47.596984</td>\n",
       "      <td>9.890429</td>\n",
       "      <td>5.499808</td>\n",
       "      <td>999.715729</td>\n",
       "      <td>-499.731972</td>\n",
       "      <td>1199.741605</td>\n",
       "      <td>-500.218827</td>\n",
       "      <td>1152.401989</td>\n",
       "      <td>-500.226269</td>\n",
       "      <td>1061.682494</td>\n",
       "      <td>-500.441025</td>\n",
       "      <td>998.898177</td>\n",
       "      <td>-500.266939</td>\n",
       "      <td>949.042067</td>\n",
       "      <td>-500.534825</td>\n",
       "      <td>9.822314</td>\n",
       "      <td>5.500412</td>\n",
       "      <td>113.293698</td>\n",
       "      <td>6.042793</td>\n",
       "      <td>6.940000</td>\n",
       "      <td>0.700367</td>\n",
       "      <td>1505.500055</td>\n",
       "      <td>-500.272366</td>\n",
       "      <td>1502.105380</td>\n",
       "      <td>-500.422211</td>\n",
       "      <td>1501.205202</td>\n",
       "      <td>-500.676713</td>\n",
       "      <td>1450.605949</td>\n",
       "      <td>-500.438064</td>\n",
       "      <td>25.116334</td>\n",
       "      <td>-500.215499</td>\n",
       "      <td>22.038700</td>\n",
       "      <td>-500.223223</td>\n",
       "      <td>2.497989e+01</td>\n",
       "      <td>-500.211535</td>\n",
       "      <td>1.901179e+01</td>\n",
       "      <td>-500.120286</td>\n",
       "      <td>1.501123e+01</td>\n",
       "      <td>-500.704004</td>\n",
       "      <td>1.202172e+01</td>\n",
       "      <td>-500.196517</td>\n",
       "      <td>11.073822</td>\n",
       "      <td>-500.483564</td>\n",
       "      <td>9.011890</td>\n",
       "      <td>-500.129913</td>\n",
       "      <td>14.963953</td>\n",
       "      <td>-500.668501</td>\n",
       "    </tr>\n",
       "    <tr>\n",
       "      <th>50%</th>\n",
       "      <td>7.812923</td>\n",
       "      <td>8.179714</td>\n",
       "      <td>3.540772</td>\n",
       "      <td>37.499761</td>\n",
       "      <td>502.118742</td>\n",
       "      <td>55.509481</td>\n",
       "      <td>11.997859</td>\n",
       "      <td>6.099805</td>\n",
       "      <td>1001.414798</td>\n",
       "      <td>-300.181367</td>\n",
       "      <td>1300.278835</td>\n",
       "      <td>-499.827934</td>\n",
       "      <td>1299.411789</td>\n",
       "      <td>-499.761855</td>\n",
       "      <td>1200.337639</td>\n",
       "      <td>-499.597033</td>\n",
       "      <td>1049.897439</td>\n",
       "      <td>-499.715147</td>\n",
       "      <td>1000.060464</td>\n",
       "      <td>-499.537041</td>\n",
       "      <td>11.995907</td>\n",
       "      <td>6.101665</td>\n",
       "      <td>139.573692</td>\n",
       "      <td>8.007390</td>\n",
       "      <td>7.290000</td>\n",
       "      <td>0.908749</td>\n",
       "      <td>1600.364401</td>\n",
       "      <td>-499.893821</td>\n",
       "      <td>1600.363829</td>\n",
       "      <td>-499.938871</td>\n",
       "      <td>1600.315592</td>\n",
       "      <td>-499.894721</td>\n",
       "      <td>1599.224868</td>\n",
       "      <td>-499.857201</td>\n",
       "      <td>29.954667</td>\n",
       "      <td>-499.966865</td>\n",
       "      <td>26.880506</td>\n",
       "      <td>-500.010504</td>\n",
       "      <td>2.802108e+01</td>\n",
       "      <td>-499.952220</td>\n",
       "      <td>2.296990e+01</td>\n",
       "      <td>-499.983839</td>\n",
       "      <td>1.996807e+01</td>\n",
       "      <td>-499.892919</td>\n",
       "      <td>1.501240e+01</td>\n",
       "      <td>-499.540776</td>\n",
       "      <td>16.631195</td>\n",
       "      <td>-499.873136</td>\n",
       "      <td>11.999417</td>\n",
       "      <td>-499.955304</td>\n",
       "      <td>19.960006</td>\n",
       "      <td>-500.033769</td>\n",
       "    </tr>\n",
       "    <tr>\n",
       "      <th>75%</th>\n",
       "      <td>9.556589</td>\n",
       "      <td>10.084339</td>\n",
       "      <td>4.199847</td>\n",
       "      <td>40.461315</td>\n",
       "      <td>555.596563</td>\n",
       "      <td>66.661547</td>\n",
       "      <td>14.496072</td>\n",
       "      <td>6.802101</td>\n",
       "      <td>1202.837565</td>\n",
       "      <td>-299.961547</td>\n",
       "      <td>1401.691789</td>\n",
       "      <td>-449.925513</td>\n",
       "      <td>1401.933884</td>\n",
       "      <td>-449.662583</td>\n",
       "      <td>1307.300990</td>\n",
       "      <td>-449.938278</td>\n",
       "      <td>1199.145824</td>\n",
       "      <td>-449.384744</td>\n",
       "      <td>1099.460790</td>\n",
       "      <td>-448.211283</td>\n",
       "      <td>14.216091</td>\n",
       "      <td>6.833554</td>\n",
       "      <td>170.743180</td>\n",
       "      <td>10.613209</td>\n",
       "      <td>7.630000</td>\n",
       "      <td>1.198047</td>\n",
       "      <td>1696.676142</td>\n",
       "      <td>-499.369738</td>\n",
       "      <td>1699.429311</td>\n",
       "      <td>-499.331088</td>\n",
       "      <td>1699.483983</td>\n",
       "      <td>-498.699191</td>\n",
       "      <td>1698.766720</td>\n",
       "      <td>-498.747352</td>\n",
       "      <td>34.064460</td>\n",
       "      <td>-499.678638</td>\n",
       "      <td>28.045077</td>\n",
       "      <td>-499.783594</td>\n",
       "      <td>3.398546e+01</td>\n",
       "      <td>-499.525249</td>\n",
       "      <td>2.698416e+01</td>\n",
       "      <td>-499.824376</td>\n",
       "      <td>2.498900e+01</td>\n",
       "      <td>-498.652030</td>\n",
       "      <td>1.999949e+01</td>\n",
       "      <td>-400.302329</td>\n",
       "      <td>19.983191</td>\n",
       "      <td>-498.852815</td>\n",
       "      <td>15.004198</td>\n",
       "      <td>-499.643776</td>\n",
       "      <td>24.974583</td>\n",
       "      <td>-499.460134</td>\n",
       "    </tr>\n",
       "    <tr>\n",
       "      <th>max</th>\n",
       "      <td>13.417156</td>\n",
       "      <td>14.533698</td>\n",
       "      <td>7.142594</td>\n",
       "      <td>53.477742</td>\n",
       "      <td>702.523396</td>\n",
       "      <td>363.989699</td>\n",
       "      <td>30.010759</td>\n",
       "      <td>9.396928</td>\n",
       "      <td>1521.980372</td>\n",
       "      <td>-281.039299</td>\n",
       "      <td>1802.528564</td>\n",
       "      <td>-298.836629</td>\n",
       "      <td>2498.873242</td>\n",
       "      <td>-298.588757</td>\n",
       "      <td>1801.712957</td>\n",
       "      <td>-296.591110</td>\n",
       "      <td>1701.253009</td>\n",
       "      <td>-296.129173</td>\n",
       "      <td>1702.383848</td>\n",
       "      <td>-286.375117</td>\n",
       "      <td>30.006511</td>\n",
       "      <td>9.401928</td>\n",
       "      <td>262.531502</td>\n",
       "      <td>20.052255</td>\n",
       "      <td>9.630000</td>\n",
       "      <td>3.999060</td>\n",
       "      <td>2079.531340</td>\n",
       "      <td>-330.134203</td>\n",
       "      <td>1825.491263</td>\n",
       "      <td>-339.751525</td>\n",
       "      <td>1847.621932</td>\n",
       "      <td>-290.845404</td>\n",
       "      <td>2398.888373</td>\n",
       "      <td>-107.595099</td>\n",
       "      <td>48.822781</td>\n",
       "      <td>-207.038839</td>\n",
       "      <td>35.019409</td>\n",
       "      <td>-216.660814</td>\n",
       "      <td>4.401139e+01</td>\n",
       "      <td>-246.396324</td>\n",
       "      <td>3.505149e+01</td>\n",
       "      <td>-195.458545</td>\n",
       "      <td>3.008450e+01</td>\n",
       "      <td>-383.373053</td>\n",
       "      <td>2.398898e+01</td>\n",
       "      <td>-114.250832</td>\n",
       "      <td>33.215996</td>\n",
       "      <td>-288.963521</td>\n",
       "      <td>24.177106</td>\n",
       "      <td>-141.934397</td>\n",
       "      <td>32.028529</td>\n",
       "      <td>-104.427459</td>\n",
       "    </tr>\n",
       "  </tbody>\n",
       "</table>\n",
       "</div>"
      ],
      "text/plain": [
       "       rougher.input.feed_au  rougher.input.feed_ag  rougher.input.feed_pb  \\\n",
       "count            4860.000000            4860.000000            4832.000000   \n",
       "mean                8.005584               8.547348               3.579662   \n",
       "std                 1.993590               1.958601               1.029377   \n",
       "min                 0.010000               0.010000               0.010000   \n",
       "25%                 6.574363               6.975898               2.903612   \n",
       "50%                 7.812923               8.179714               3.540772   \n",
       "75%                 9.556589              10.084339               4.199847   \n",
       "max                13.417156              14.533698               7.142594   \n",
       "\n",
       "       rougher.input.feed_sol  rougher.input.feed_rate  \\\n",
       "count             4838.000000              4856.000000   \n",
       "mean                37.095864               490.285103   \n",
       "std                  4.926284                94.371623   \n",
       "min                  0.010000                 0.012786   \n",
       "25%                 34.510841               434.099695   \n",
       "50%                 37.499761               502.118742   \n",
       "75%                 40.461315               555.596563   \n",
       "max                 53.477742               702.523396   \n",
       "\n",
       "       rougher.input.feed_size  rougher.input.floatbank10_sulfate  \\\n",
       "count              4816.000000                        4857.000000   \n",
       "mean                 59.113400                          12.055735   \n",
       "std                  19.125122                           3.407642   \n",
       "min                   0.046369                           0.018907   \n",
       "25%                  47.596984                           9.890429   \n",
       "50%                  55.509481                          11.997859   \n",
       "75%                  66.661547                          14.496072   \n",
       "max                 363.989699                          30.010759   \n",
       "\n",
       "       rougher.input.floatbank10_xanthate  rougher.state.floatbank10_a_air  \\\n",
       "count                         4859.000000                      4859.000000   \n",
       "mean                             6.101308                      1108.635895   \n",
       "std                              1.042754                       156.493143   \n",
       "min                              0.015783                       300.792494   \n",
       "25%                              5.499808                       999.715729   \n",
       "50%                              6.099805                      1001.414798   \n",
       "75%                              6.802101                      1202.837565   \n",
       "max                              9.396928                      1521.980372   \n",
       "\n",
       "       rougher.state.floatbank10_a_level  rougher.state.floatbank10_b_air  \\\n",
       "count                        4859.000000                      4859.000000   \n",
       "mean                         -368.340127                      1312.346061   \n",
       "std                            91.155929                       159.001709   \n",
       "min                          -600.568138                       767.656587   \n",
       "25%                          -499.731972                      1199.741605   \n",
       "50%                          -300.181367                      1300.278835   \n",
       "75%                          -299.961547                      1401.691789   \n",
       "max                          -281.039299                      1802.528564   \n",
       "\n",
       "       rougher.state.floatbank10_b_level  rougher.state.floatbank10_c_air  \\\n",
       "count                        4859.000000                      4859.000000   \n",
       "mean                         -472.506533                      1291.638282   \n",
       "std                            49.376824                       180.203670   \n",
       "min                          -649.997496                       831.537936   \n",
       "25%                          -500.218827                      1152.401989   \n",
       "50%                          -499.827934                      1299.411789   \n",
       "75%                          -449.925513                      1401.933884   \n",
       "max                          -298.836629                      2498.873242   \n",
       "\n",
       "       rougher.state.floatbank10_c_level  rougher.state.floatbank10_d_air  \\\n",
       "count                        4859.000000                      4860.000000   \n",
       "mean                         -472.902514                      1204.066585   \n",
       "std                            47.611728                       184.547737   \n",
       "min                          -552.657032                       706.281918   \n",
       "25%                          -500.226269                      1061.682494   \n",
       "50%                          -499.761855                      1200.337639   \n",
       "75%                          -449.662583                      1307.300990   \n",
       "max                          -298.588757                      1801.712957   \n",
       "\n",
       "       rougher.state.floatbank10_d_level  rougher.state.floatbank10_e_air  \\\n",
       "count                        4860.000000                      4853.000000   \n",
       "mean                         -473.380689                      1075.304980   \n",
       "std                            47.828848                       159.989533   \n",
       "min                          -648.118446                       695.211786   \n",
       "25%                          -500.441025                       998.898177   \n",
       "50%                          -499.597033                      1049.897439   \n",
       "75%                          -449.938278                      1199.145824   \n",
       "max                          -296.591110                      1701.253009   \n",
       "\n",
       "       rougher.state.floatbank10_e_level  rougher.state.floatbank10_f_air  \\\n",
       "count                        4860.000000                      4860.000000   \n",
       "mean                         -471.465792                      1023.769668   \n",
       "std                            51.413832                       147.827669   \n",
       "min                          -598.926149                       539.633937   \n",
       "25%                          -500.266939                       949.042067   \n",
       "50%                          -499.715147                      1000.060464   \n",
       "75%                          -449.384744                      1099.460790   \n",
       "max                          -296.129173                      1702.383848   \n",
       "\n",
       "       rougher.state.floatbank10_f_level  rougher.input.floatbank11_sulfate  \\\n",
       "count                        4860.000000                        4852.000000   \n",
       "mean                         -471.412834                          11.969074   \n",
       "std                            51.838763                           3.456113   \n",
       "min                          -649.376184                           0.000163   \n",
       "25%                          -500.534825                           9.822314   \n",
       "50%                          -499.537041                          11.995907   \n",
       "75%                          -448.211283                          14.216091   \n",
       "max                          -286.375117                          30.006511   \n",
       "\n",
       "       rougher.input.floatbank11_xanthate  primary_cleaner.input.sulfate  \\\n",
       "count                         4814.000000                    4859.000000   \n",
       "mean                             6.119323                     143.201672   \n",
       "std                              1.049065                      42.360060   \n",
       "min                              0.002616                       7.329299   \n",
       "25%                              5.500412                     113.293698   \n",
       "50%                              6.101665                     139.573692   \n",
       "75%                              6.833554                     170.743180   \n",
       "max                              9.401928                     262.531502   \n",
       "\n",
       "       primary_cleaner.input.depressant  primary_cleaner.input.feed_size  \\\n",
       "count                       4851.000000                      4860.000000   \n",
       "mean                           8.692446                         7.305514   \n",
       "std                            3.169592                         0.588602   \n",
       "min                            0.000000                         4.970000   \n",
       "25%                            6.042793                         6.940000   \n",
       "50%                            8.007390                         7.290000   \n",
       "75%                           10.613209                         7.630000   \n",
       "max                           20.052255                         9.630000   \n",
       "\n",
       "       primary_cleaner.input.xanthate  primary_cleaner.state.floatbank8_a_air  \\\n",
       "count                     4817.000000                             4859.000000   \n",
       "mean                         1.007577                             1588.387039   \n",
       "std                          0.494669                              124.942960   \n",
       "min                          0.000154                              314.241165   \n",
       "25%                          0.700367                             1505.500055   \n",
       "50%                          0.908749                             1600.364401   \n",
       "75%                          1.198047                             1696.676142   \n",
       "max                          3.999060                             2079.531340   \n",
       "\n",
       "       primary_cleaner.state.floatbank8_a_level  \\\n",
       "count                               4859.000000   \n",
       "mean                                -488.223175   \n",
       "std                                   36.672631   \n",
       "min                                 -653.477578   \n",
       "25%                                 -500.272366   \n",
       "50%                                 -499.893821   \n",
       "75%                                 -499.369738   \n",
       "max                                 -330.134203   \n",
       "\n",
       "       primary_cleaner.state.floatbank8_b_air  \\\n",
       "count                             4859.000000   \n",
       "mean                              1589.297134   \n",
       "std                                132.102797   \n",
       "min                                319.959489   \n",
       "25%                               1502.105380   \n",
       "50%                               1600.363829   \n",
       "75%                               1699.429311   \n",
       "max                               1825.491263   \n",
       "\n",
       "       primary_cleaner.state.floatbank8_b_level  \\\n",
       "count                               4859.000000   \n",
       "mean                                -490.255893   \n",
       "std                                   35.203702   \n",
       "min                                 -799.260788   \n",
       "25%                                 -500.422211   \n",
       "50%                                 -499.938871   \n",
       "75%                                 -499.331088   \n",
       "max                                 -339.751525   \n",
       "\n",
       "       primary_cleaner.state.floatbank8_c_air  \\\n",
       "count                             4858.000000   \n",
       "mean                              1588.905465   \n",
       "std                                132.689236   \n",
       "min                                273.536823   \n",
       "25%                               1501.205202   \n",
       "50%                               1600.315592   \n",
       "75%                               1699.483983   \n",
       "max                               1847.621932   \n",
       "\n",
       "       primary_cleaner.state.floatbank8_c_level  \\\n",
       "count                               4859.000000   \n",
       "mean                                -489.741555   \n",
       "std                                   33.650676   \n",
       "min                                 -709.213816   \n",
       "25%                                 -500.676713   \n",
       "50%                                 -499.894721   \n",
       "75%                                 -498.699191   \n",
       "max                                 -290.845404   \n",
       "\n",
       "       primary_cleaner.state.floatbank8_d_air  \\\n",
       "count                             4858.000000   \n",
       "mean                              1530.287801   \n",
       "std                                256.268884   \n",
       "min                                131.321672   \n",
       "25%                               1450.605949   \n",
       "50%                               1599.224868   \n",
       "75%                               1698.766720   \n",
       "max                               2398.888373   \n",
       "\n",
       "       primary_cleaner.state.floatbank8_d_level  \\\n",
       "count                               4859.000000   \n",
       "mean                                -485.896489   \n",
       "std                                   43.296128   \n",
       "min                                 -799.791618   \n",
       "25%                                 -500.438064   \n",
       "50%                                 -499.857201   \n",
       "75%                                 -498.747352   \n",
       "max                                 -107.595099   \n",
       "\n",
       "       secondary_cleaner.state.floatbank2_a_air  \\\n",
       "count                               4734.000000   \n",
       "mean                                  29.488451   \n",
       "std                                    5.357783   \n",
       "min                                    0.122013   \n",
       "25%                                   25.116334   \n",
       "50%                                   29.954667   \n",
       "75%                                   34.064460   \n",
       "max                                   48.822781   \n",
       "\n",
       "       secondary_cleaner.state.floatbank2_a_level  \\\n",
       "count                                 4859.000000   \n",
       "mean                                  -499.504602   \n",
       "std                                     43.284386   \n",
       "min                                   -799.606441   \n",
       "25%                                   -500.215499   \n",
       "50%                                   -499.966865   \n",
       "75%                                   -499.678638   \n",
       "max                                   -207.038839   \n",
       "\n",
       "       secondary_cleaner.state.floatbank2_b_air  \\\n",
       "count                               4859.000000   \n",
       "mean                                  24.732293   \n",
       "std                                    5.484220   \n",
       "min                                    0.000000   \n",
       "25%                                   22.038700   \n",
       "50%                                   26.880506   \n",
       "75%                                   28.045077   \n",
       "max                                   35.019409   \n",
       "\n",
       "       secondary_cleaner.state.floatbank2_b_level  \\\n",
       "count                                 4859.000000   \n",
       "mean                                  -499.556727   \n",
       "std                                     43.619785   \n",
       "min                                   -799.873878   \n",
       "25%                                   -500.223223   \n",
       "50%                                   -500.010504   \n",
       "75%                                   -499.783594   \n",
       "max                                   -216.660814   \n",
       "\n",
       "       secondary_cleaner.state.floatbank3_a_air  \\\n",
       "count                              4.859000e+03   \n",
       "mean                               2.889647e+01   \n",
       "std                                6.159087e+00   \n",
       "min                                1.957942e-17   \n",
       "25%                                2.497989e+01   \n",
       "50%                                2.802108e+01   \n",
       "75%                                3.398546e+01   \n",
       "max                                4.401139e+01   \n",
       "\n",
       "       secondary_cleaner.state.floatbank3_a_level  \\\n",
       "count                                 4859.000000   \n",
       "mean                                  -489.475315   \n",
       "std                                     51.827314   \n",
       "min                                   -799.575338   \n",
       "25%                                   -500.211535   \n",
       "50%                                   -499.952220   \n",
       "75%                                   -499.525249   \n",
       "max                                   -246.396324   \n",
       "\n",
       "       secondary_cleaner.state.floatbank3_b_air  \\\n",
       "count                              4.859000e+03   \n",
       "mean                               2.263273e+01   \n",
       "std                                5.456797e+00   \n",
       "min                                1.521587e-17   \n",
       "25%                                1.901179e+01   \n",
       "50%                                2.296990e+01   \n",
       "75%                                2.698416e+01   \n",
       "max                                3.505149e+01   \n",
       "\n",
       "       secondary_cleaner.state.floatbank3_b_level  \\\n",
       "count                                 4859.000000   \n",
       "mean                                  -494.765779   \n",
       "std                                     40.681493   \n",
       "min                                   -758.764444   \n",
       "25%                                   -500.120286   \n",
       "50%                                   -499.983839   \n",
       "75%                                   -499.824376   \n",
       "max                                   -195.458545   \n",
       "\n",
       "       secondary_cleaner.state.floatbank4_a_air  \\\n",
       "count                              4.859000e+03   \n",
       "mean                               1.985770e+01   \n",
       "std                                5.913105e+00   \n",
       "min                                1.079872e-16   \n",
       "25%                                1.501123e+01   \n",
       "50%                                1.996807e+01   \n",
       "75%                                2.498900e+01   \n",
       "max                                3.008450e+01   \n",
       "\n",
       "       secondary_cleaner.state.floatbank4_a_level  \\\n",
       "count                                 4859.000000   \n",
       "mean                                  -488.665140   \n",
       "std                                     44.392714   \n",
       "min                                   -799.704969   \n",
       "25%                                   -500.704004   \n",
       "50%                                   -499.892919   \n",
       "75%                                   -498.652030   \n",
       "max                                   -383.373053   \n",
       "\n",
       "       secondary_cleaner.state.floatbank4_b_air  \\\n",
       "count                              4.859000e+03   \n",
       "mean                               1.557025e+01   \n",
       "std                                4.927361e+00   \n",
       "min                                2.489718e-17   \n",
       "25%                                1.202172e+01   \n",
       "50%                                1.501240e+01   \n",
       "75%                                1.999949e+01   \n",
       "max                                2.398898e+01   \n",
       "\n",
       "       secondary_cleaner.state.floatbank4_b_level  \\\n",
       "count                                 4859.000000   \n",
       "mean                                  -464.176507   \n",
       "std                                     65.706994   \n",
       "min                                   -799.860767   \n",
       "25%                                   -500.196517   \n",
       "50%                                   -499.540776   \n",
       "75%                                   -400.302329   \n",
       "max                                   -114.250832   \n",
       "\n",
       "       secondary_cleaner.state.floatbank5_a_air  \\\n",
       "count                               4859.000000   \n",
       "mean                                  16.594103   \n",
       "std                                    5.724305   \n",
       "min                                   -0.371498   \n",
       "25%                                   11.073822   \n",
       "50%                                   16.631195   \n",
       "75%                                   19.983191   \n",
       "max                                   33.215996   \n",
       "\n",
       "       secondary_cleaner.state.floatbank5_a_level  \\\n",
       "count                                 4859.000000   \n",
       "mean                                  -490.815250   \n",
       "std                                     32.258443   \n",
       "min                                   -797.142475   \n",
       "25%                                   -500.483564   \n",
       "50%                                   -499.873136   \n",
       "75%                                   -498.852815   \n",
       "max                                   -288.963521   \n",
       "\n",
       "       secondary_cleaner.state.floatbank5_b_air  \\\n",
       "count                               4859.000000   \n",
       "mean                                  12.945971   \n",
       "std                                    5.533176   \n",
       "min                                    1.358469   \n",
       "25%                                    9.011890   \n",
       "50%                                   11.999417   \n",
       "75%                                   15.004198   \n",
       "max                                   24.177106   \n",
       "\n",
       "       secondary_cleaner.state.floatbank5_b_level  \\\n",
       "count                                 4859.000000   \n",
       "mean                                  -489.583564   \n",
       "std                                     37.084609   \n",
       "min                                   -800.006180   \n",
       "25%                                   -500.129913   \n",
       "50%                                   -499.955304   \n",
       "75%                                   -499.643776   \n",
       "max                                   -141.934397   \n",
       "\n",
       "       secondary_cleaner.state.floatbank6_a_air  \\\n",
       "count                               4859.000000   \n",
       "mean                                  19.053888   \n",
       "std                                    5.548996   \n",
       "min                                    0.160386   \n",
       "25%                                   14.963953   \n",
       "50%                                   19.960006   \n",
       "75%                                   24.974583   \n",
       "max                                   32.028529   \n",
       "\n",
       "       secondary_cleaner.state.floatbank6_a_level  \n",
       "count                                 4859.000000  \n",
       "mean                                  -504.678924  \n",
       "std                                     38.690186  \n",
       "min                                   -809.734800  \n",
       "25%                                   -500.668501  \n",
       "50%                                   -500.033769  \n",
       "75%                                   -499.460134  \n",
       "max                                   -104.427459  "
      ]
     },
     "metadata": {},
     "output_type": "display_data"
    },
    {
     "name": "stdout",
     "output_type": "stream",
     "text": [
      "\n",
      "Весь датасет\n"
     ]
    },
    {
     "data": {
      "text/html": [
       "<div>\n",
       "<style scoped>\n",
       "    .dataframe tbody tr th:only-of-type {\n",
       "        vertical-align: middle;\n",
       "    }\n",
       "\n",
       "    .dataframe tbody tr th {\n",
       "        vertical-align: top;\n",
       "    }\n",
       "\n",
       "    .dataframe thead th {\n",
       "        text-align: right;\n",
       "    }\n",
       "</style>\n",
       "<table border=\"1\" class=\"dataframe\">\n",
       "  <thead>\n",
       "    <tr style=\"text-align: right;\">\n",
       "      <th></th>\n",
       "      <th>rougher.input.feed_au</th>\n",
       "      <th>rougher.input.feed_ag</th>\n",
       "      <th>rougher.input.feed_pb</th>\n",
       "      <th>rougher.input.feed_sol</th>\n",
       "      <th>rougher.input.feed_rate</th>\n",
       "      <th>rougher.input.feed_size</th>\n",
       "      <th>rougher.input.floatbank10_sulfate</th>\n",
       "      <th>rougher.input.floatbank10_xanthate</th>\n",
       "      <th>rougher.state.floatbank10_a_air</th>\n",
       "      <th>rougher.state.floatbank10_a_level</th>\n",
       "      <th>rougher.state.floatbank10_b_air</th>\n",
       "      <th>rougher.state.floatbank10_b_level</th>\n",
       "      <th>rougher.state.floatbank10_c_air</th>\n",
       "      <th>rougher.state.floatbank10_c_level</th>\n",
       "      <th>rougher.state.floatbank10_d_air</th>\n",
       "      <th>rougher.state.floatbank10_d_level</th>\n",
       "      <th>rougher.state.floatbank10_e_air</th>\n",
       "      <th>rougher.state.floatbank10_e_level</th>\n",
       "      <th>rougher.state.floatbank10_f_air</th>\n",
       "      <th>rougher.state.floatbank10_f_level</th>\n",
       "      <th>rougher.input.floatbank11_sulfate</th>\n",
       "      <th>rougher.input.floatbank11_xanthate</th>\n",
       "      <th>rougher.calculation.sulfate_to_au_concentrate</th>\n",
       "      <th>rougher.calculation.floatbank10_sulfate_to_au_feed</th>\n",
       "      <th>rougher.calculation.floatbank11_sulfate_to_au_feed</th>\n",
       "      <th>rougher.calculation.au_pb_ratio</th>\n",
       "      <th>rougher.output.concentrate_au</th>\n",
       "      <th>rougher.output.concentrate_ag</th>\n",
       "      <th>rougher.output.concentrate_pb</th>\n",
       "      <th>rougher.output.concentrate_sol</th>\n",
       "      <th>rougher.output.recovery</th>\n",
       "      <th>rougher.output.tail_au</th>\n",
       "      <th>rougher.output.tail_ag</th>\n",
       "      <th>rougher.output.tail_pb</th>\n",
       "      <th>rougher.output.tail_sol</th>\n",
       "      <th>primary_cleaner.input.sulfate</th>\n",
       "      <th>primary_cleaner.input.depressant</th>\n",
       "      <th>primary_cleaner.input.feed_size</th>\n",
       "      <th>primary_cleaner.input.xanthate</th>\n",
       "      <th>primary_cleaner.state.floatbank8_a_air</th>\n",
       "      <th>primary_cleaner.state.floatbank8_a_level</th>\n",
       "      <th>primary_cleaner.state.floatbank8_b_air</th>\n",
       "      <th>primary_cleaner.state.floatbank8_b_level</th>\n",
       "      <th>primary_cleaner.state.floatbank8_c_air</th>\n",
       "      <th>primary_cleaner.state.floatbank8_c_level</th>\n",
       "      <th>primary_cleaner.state.floatbank8_d_air</th>\n",
       "      <th>primary_cleaner.state.floatbank8_d_level</th>\n",
       "      <th>primary_cleaner.output.concentrate_au</th>\n",
       "      <th>primary_cleaner.output.concentrate_ag</th>\n",
       "      <th>primary_cleaner.output.concentrate_pb</th>\n",
       "      <th>primary_cleaner.output.concentrate_sol</th>\n",
       "      <th>primary_cleaner.output.tail_au</th>\n",
       "      <th>primary_cleaner.output.tail_ag</th>\n",
       "      <th>primary_cleaner.output.tail_pb</th>\n",
       "      <th>primary_cleaner.output.tail_sol</th>\n",
       "      <th>secondary_cleaner.state.floatbank2_a_air</th>\n",
       "      <th>secondary_cleaner.state.floatbank2_a_level</th>\n",
       "      <th>secondary_cleaner.state.floatbank2_b_air</th>\n",
       "      <th>secondary_cleaner.state.floatbank2_b_level</th>\n",
       "      <th>secondary_cleaner.state.floatbank3_a_air</th>\n",
       "      <th>secondary_cleaner.state.floatbank3_a_level</th>\n",
       "      <th>secondary_cleaner.state.floatbank3_b_air</th>\n",
       "      <th>secondary_cleaner.state.floatbank3_b_level</th>\n",
       "      <th>secondary_cleaner.state.floatbank4_a_air</th>\n",
       "      <th>secondary_cleaner.state.floatbank4_a_level</th>\n",
       "      <th>secondary_cleaner.state.floatbank4_b_air</th>\n",
       "      <th>secondary_cleaner.state.floatbank4_b_level</th>\n",
       "      <th>secondary_cleaner.state.floatbank5_a_air</th>\n",
       "      <th>secondary_cleaner.state.floatbank5_a_level</th>\n",
       "      <th>secondary_cleaner.state.floatbank5_b_air</th>\n",
       "      <th>secondary_cleaner.state.floatbank5_b_level</th>\n",
       "      <th>secondary_cleaner.state.floatbank6_a_air</th>\n",
       "      <th>secondary_cleaner.state.floatbank6_a_level</th>\n",
       "      <th>secondary_cleaner.output.tail_au</th>\n",
       "      <th>secondary_cleaner.output.tail_ag</th>\n",
       "      <th>secondary_cleaner.output.tail_pb</th>\n",
       "      <th>secondary_cleaner.output.tail_sol</th>\n",
       "      <th>final.output.concentrate_au</th>\n",
       "      <th>final.output.concentrate_ag</th>\n",
       "      <th>final.output.concentrate_pb</th>\n",
       "      <th>final.output.concentrate_sol</th>\n",
       "      <th>final.output.recovery</th>\n",
       "      <th>final.output.tail_au</th>\n",
       "      <th>final.output.tail_ag</th>\n",
       "      <th>final.output.tail_pb</th>\n",
       "      <th>final.output.tail_sol</th>\n",
       "    </tr>\n",
       "  </thead>\n",
       "  <tbody>\n",
       "    <tr>\n",
       "      <th>count</th>\n",
       "      <td>19439.000000</td>\n",
       "      <td>19439.000000</td>\n",
       "      <td>19339.000000</td>\n",
       "      <td>19340.000000</td>\n",
       "      <td>19428.000000</td>\n",
       "      <td>19294.000000</td>\n",
       "      <td>19405.000000</td>\n",
       "      <td>19431.000000</td>\n",
       "      <td>19438.000000</td>\n",
       "      <td>19438.000000</td>\n",
       "      <td>19438.000000</td>\n",
       "      <td>19438.000000</td>\n",
       "      <td>19438.000000</td>\n",
       "      <td>19438.000000</td>\n",
       "      <td>19439.000000</td>\n",
       "      <td>19439.000000</td>\n",
       "      <td>19003.000000</td>\n",
       "      <td>19439.000000</td>\n",
       "      <td>19439.000000</td>\n",
       "      <td>19439.000000</td>\n",
       "      <td>19395.000000</td>\n",
       "      <td>18986.000000</td>\n",
       "      <td>1.943700e+04</td>\n",
       "      <td>19437.000000</td>\n",
       "      <td>19437.000000</td>\n",
       "      <td>19439.000000</td>\n",
       "      <td>19439.000000</td>\n",
       "      <td>19439.000000</td>\n",
       "      <td>19439.000000</td>\n",
       "      <td>19416.000000</td>\n",
       "      <td>19439.000000</td>\n",
       "      <td>19439.000000</td>\n",
       "      <td>19438.000000</td>\n",
       "      <td>19439.000000</td>\n",
       "      <td>19439.000000</td>\n",
       "      <td>19415.000000</td>\n",
       "      <td>19402.000000</td>\n",
       "      <td>19439.000000</td>\n",
       "      <td>19335.000000</td>\n",
       "      <td>1.943500e+04</td>\n",
       "      <td>19438.000000</td>\n",
       "      <td>1.943500e+04</td>\n",
       "      <td>19438.000000</td>\n",
       "      <td>1.943700e+04</td>\n",
       "      <td>19438.000000</td>\n",
       "      <td>1.943600e+04</td>\n",
       "      <td>19438.000000</td>\n",
       "      <td>19439.000000</td>\n",
       "      <td>19439.000000</td>\n",
       "      <td>19323.000000</td>\n",
       "      <td>19069.000000</td>\n",
       "      <td>19439.000000</td>\n",
       "      <td>19435.000000</td>\n",
       "      <td>19418.000000</td>\n",
       "      <td>19377.000000</td>\n",
       "      <td>19219.000000</td>\n",
       "      <td>19438.000000</td>\n",
       "      <td>19416.000000</td>\n",
       "      <td>19438.000000</td>\n",
       "      <td>19426.000000</td>\n",
       "      <td>19438.000000</td>\n",
       "      <td>19438.000000</td>\n",
       "      <td>19438.000000</td>\n",
       "      <td>19433.000000</td>\n",
       "      <td>19438.000000</td>\n",
       "      <td>19438.000000</td>\n",
       "      <td>19438.000000</td>\n",
       "      <td>19438.000000</td>\n",
       "      <td>19438.000000</td>\n",
       "      <td>19438.000000</td>\n",
       "      <td>19438.000000</td>\n",
       "      <td>19437.000000</td>\n",
       "      <td>19438.000000</td>\n",
       "      <td>19439.000000</td>\n",
       "      <td>19437.000000</td>\n",
       "      <td>19427.000000</td>\n",
       "      <td>17691.000000</td>\n",
       "      <td>19439.000000</td>\n",
       "      <td>19438.000000</td>\n",
       "      <td>19438.000000</td>\n",
       "      <td>19228.000000</td>\n",
       "      <td>19439.000000</td>\n",
       "      <td>19439.000000</td>\n",
       "      <td>19438.000000</td>\n",
       "      <td>19338.000000</td>\n",
       "      <td>19433.000000</td>\n",
       "    </tr>\n",
       "    <tr>\n",
       "      <th>mean</th>\n",
       "      <td>8.266097</td>\n",
       "      <td>8.794927</td>\n",
       "      <td>3.598085</td>\n",
       "      <td>36.695114</td>\n",
       "      <td>478.320042</td>\n",
       "      <td>58.970310</td>\n",
       "      <td>12.334373</td>\n",
       "      <td>6.021474</td>\n",
       "      <td>1105.315068</td>\n",
       "      <td>-376.610690</td>\n",
       "      <td>1320.221139</td>\n",
       "      <td>-467.247826</td>\n",
       "      <td>1299.968799</td>\n",
       "      <td>-467.716946</td>\n",
       "      <td>1211.563299</td>\n",
       "      <td>-468.239912</td>\n",
       "      <td>1080.869685</td>\n",
       "      <td>-466.037742</td>\n",
       "      <td>1025.274256</td>\n",
       "      <td>-466.265327</td>\n",
       "      <td>12.064140</td>\n",
       "      <td>6.065533</td>\n",
       "      <td>4.217119e+04</td>\n",
       "      <td>3393.052498</td>\n",
       "      <td>3256.854171</td>\n",
       "      <td>2.420119</td>\n",
       "      <td>19.772000</td>\n",
       "      <td>11.994759</td>\n",
       "      <td>7.606272</td>\n",
       "      <td>28.805571</td>\n",
       "      <td>83.328587</td>\n",
       "      <td>1.816391</td>\n",
       "      <td>5.588982</td>\n",
       "      <td>0.645782</td>\n",
       "      <td>18.057106</td>\n",
       "      <td>144.624774</td>\n",
       "      <td>8.817039</td>\n",
       "      <td>7.307078</td>\n",
       "      <td>1.021795</td>\n",
       "      <td>1.589354e+03</td>\n",
       "      <td>-491.195012</td>\n",
       "      <td>1.591344e+03</td>\n",
       "      <td>-492.192978</td>\n",
       "      <td>1.586669e+03</td>\n",
       "      <td>-491.980070</td>\n",
       "      <td>1.542912e+03</td>\n",
       "      <td>-488.017382</td>\n",
       "      <td>32.119400</td>\n",
       "      <td>8.442408</td>\n",
       "      <td>9.829530</td>\n",
       "      <td>10.489499</td>\n",
       "      <td>3.914179</td>\n",
       "      <td>16.145826</td>\n",
       "      <td>3.435656</td>\n",
       "      <td>7.973209</td>\n",
       "      <td>28.705564</td>\n",
       "      <td>-502.367331</td>\n",
       "      <td>24.106800</td>\n",
       "      <td>-503.230712</td>\n",
       "      <td>28.199338</td>\n",
       "      <td>-486.203350</td>\n",
       "      <td>22.200645</td>\n",
       "      <td>-493.742107</td>\n",
       "      <td>18.987674</td>\n",
       "      <td>-485.894516</td>\n",
       "      <td>15.010366</td>\n",
       "      <td>-461.078636</td>\n",
       "      <td>15.694452</td>\n",
       "      <td>-488.684065</td>\n",
       "      <td>12.198224</td>\n",
       "      <td>-487.149827</td>\n",
       "      <td>18.959024</td>\n",
       "      <td>-505.436305</td>\n",
       "      <td>4.339625</td>\n",
       "      <td>14.586833</td>\n",
       "      <td>5.777703</td>\n",
       "      <td>7.167247</td>\n",
       "      <td>44.076513</td>\n",
       "      <td>5.168470</td>\n",
       "      <td>9.978895</td>\n",
       "      <td>9.501224</td>\n",
       "      <td>67.050208</td>\n",
       "      <td>3.042467</td>\n",
       "      <td>9.688589</td>\n",
       "      <td>2.705795</td>\n",
       "      <td>10.583728</td>\n",
       "    </tr>\n",
       "    <tr>\n",
       "      <th>std</th>\n",
       "      <td>1.955092</td>\n",
       "      <td>1.936847</td>\n",
       "      <td>1.049486</td>\n",
       "      <td>5.145445</td>\n",
       "      <td>105.373758</td>\n",
       "      <td>21.634478</td>\n",
       "      <td>3.427317</td>\n",
       "      <td>1.127263</td>\n",
       "      <td>160.826798</td>\n",
       "      <td>93.909667</td>\n",
       "      <td>176.287095</td>\n",
       "      <td>54.673142</td>\n",
       "      <td>202.804325</td>\n",
       "      <td>53.534825</td>\n",
       "      <td>204.019326</td>\n",
       "      <td>53.921458</td>\n",
       "      <td>172.149992</td>\n",
       "      <td>57.384424</td>\n",
       "      <td>164.487837</td>\n",
       "      <td>57.850263</td>\n",
       "      <td>3.784221</td>\n",
       "      <td>1.099118</td>\n",
       "      <td>3.243621e+05</td>\n",
       "      <td>4943.845943</td>\n",
       "      <td>5781.423659</td>\n",
       "      <td>0.814935</td>\n",
       "      <td>3.753600</td>\n",
       "      <td>2.733862</td>\n",
       "      <td>1.796757</td>\n",
       "      <td>5.944207</td>\n",
       "      <td>14.148086</td>\n",
       "      <td>0.680046</td>\n",
       "      <td>1.111288</td>\n",
       "      <td>0.251526</td>\n",
       "      <td>3.449218</td>\n",
       "      <td>44.464071</td>\n",
       "      <td>3.286186</td>\n",
       "      <td>0.613509</td>\n",
       "      <td>0.513254</td>\n",
       "      <td>1.289968e+02</td>\n",
       "      <td>32.431842</td>\n",
       "      <td>1.318109e+02</td>\n",
       "      <td>33.794822</td>\n",
       "      <td>1.361114e+02</td>\n",
       "      <td>32.711455</td>\n",
       "      <td>2.461996e+02</td>\n",
       "      <td>43.959780</td>\n",
       "      <td>5.627611</td>\n",
       "      <td>2.054465</td>\n",
       "      <td>2.556843</td>\n",
       "      <td>3.909639</td>\n",
       "      <td>1.593034</td>\n",
       "      <td>3.548598</td>\n",
       "      <td>1.392536</td>\n",
       "      <td>2.212677</td>\n",
       "      <td>5.458789</td>\n",
       "      <td>53.571950</td>\n",
       "      <td>5.749616</td>\n",
       "      <td>56.567724</td>\n",
       "      <td>6.134908</td>\n",
       "      <td>54.412349</td>\n",
       "      <td>5.574001</td>\n",
       "      <td>43.372158</td>\n",
       "      <td>5.411058</td>\n",
       "      <td>47.758570</td>\n",
       "      <td>4.890228</td>\n",
       "      <td>67.405524</td>\n",
       "      <td>5.510974</td>\n",
       "      <td>34.533396</td>\n",
       "      <td>5.333024</td>\n",
       "      <td>38.347312</td>\n",
       "      <td>5.550498</td>\n",
       "      <td>37.689057</td>\n",
       "      <td>2.326751</td>\n",
       "      <td>4.265202</td>\n",
       "      <td>2.774598</td>\n",
       "      <td>3.916079</td>\n",
       "      <td>5.129784</td>\n",
       "      <td>1.372348</td>\n",
       "      <td>1.669240</td>\n",
       "      <td>2.787537</td>\n",
       "      <td>10.125840</td>\n",
       "      <td>0.922808</td>\n",
       "      <td>2.328642</td>\n",
       "      <td>0.949077</td>\n",
       "      <td>2.868782</td>\n",
       "    </tr>\n",
       "    <tr>\n",
       "      <th>min</th>\n",
       "      <td>0.010000</td>\n",
       "      <td>0.010000</td>\n",
       "      <td>0.010000</td>\n",
       "      <td>0.010000</td>\n",
       "      <td>0.002986</td>\n",
       "      <td>0.046369</td>\n",
       "      <td>0.001083</td>\n",
       "      <td>0.000568</td>\n",
       "      <td>-0.042069</td>\n",
       "      <td>-657.949759</td>\n",
       "      <td>-0.721806</td>\n",
       "      <td>-650.260008</td>\n",
       "      <td>-0.056636</td>\n",
       "      <td>-647.544439</td>\n",
       "      <td>-0.992219</td>\n",
       "      <td>-648.390665</td>\n",
       "      <td>-1.982295</td>\n",
       "      <td>-649.443911</td>\n",
       "      <td>-2.593390</td>\n",
       "      <td>-649.949283</td>\n",
       "      <td>0.000077</td>\n",
       "      <td>0.000290</td>\n",
       "      <td>-4.223520e+07</td>\n",
       "      <td>-486.598675</td>\n",
       "      <td>-264.982785</td>\n",
       "      <td>-0.010548</td>\n",
       "      <td>0.000000</td>\n",
       "      <td>0.000000</td>\n",
       "      <td>0.000000</td>\n",
       "      <td>0.000000</td>\n",
       "      <td>0.000000</td>\n",
       "      <td>0.020676</td>\n",
       "      <td>0.594562</td>\n",
       "      <td>0.007566</td>\n",
       "      <td>10.014648</td>\n",
       "      <td>0.003112</td>\n",
       "      <td>0.000000</td>\n",
       "      <td>1.080000</td>\n",
       "      <td>0.000005</td>\n",
       "      <td>5.445860e-32</td>\n",
       "      <td>-798.641662</td>\n",
       "      <td>6.647490e-32</td>\n",
       "      <td>-799.997015</td>\n",
       "      <td>4.033736e-32</td>\n",
       "      <td>-799.960571</td>\n",
       "      <td>4.039220e-32</td>\n",
       "      <td>-799.794250</td>\n",
       "      <td>0.000000</td>\n",
       "      <td>0.000000</td>\n",
       "      <td>0.000000</td>\n",
       "      <td>0.000000</td>\n",
       "      <td>0.000000</td>\n",
       "      <td>0.000000</td>\n",
       "      <td>0.000000</td>\n",
       "      <td>0.000000</td>\n",
       "      <td>0.077503</td>\n",
       "      <td>-799.606441</td>\n",
       "      <td>0.000000</td>\n",
       "      <td>-799.873878</td>\n",
       "      <td>0.000000</td>\n",
       "      <td>-799.755798</td>\n",
       "      <td>0.000000</td>\n",
       "      <td>-809.333008</td>\n",
       "      <td>0.000000</td>\n",
       "      <td>-799.798523</td>\n",
       "      <td>0.000000</td>\n",
       "      <td>-800.836914</td>\n",
       "      <td>-0.372054</td>\n",
       "      <td>-797.323986</td>\n",
       "      <td>0.528083</td>\n",
       "      <td>-800.220337</td>\n",
       "      <td>-0.079426</td>\n",
       "      <td>-809.741464</td>\n",
       "      <td>0.000000</td>\n",
       "      <td>0.000000</td>\n",
       "      <td>0.000000</td>\n",
       "      <td>0.000000</td>\n",
       "      <td>0.000000</td>\n",
       "      <td>0.000000</td>\n",
       "      <td>0.000000</td>\n",
       "      <td>0.000000</td>\n",
       "      <td>0.000000</td>\n",
       "      <td>0.000000</td>\n",
       "      <td>0.000000</td>\n",
       "      <td>0.000000</td>\n",
       "      <td>0.000000</td>\n",
       "    </tr>\n",
       "    <tr>\n",
       "      <th>25%</th>\n",
       "      <td>6.854384</td>\n",
       "      <td>7.237967</td>\n",
       "      <td>2.887280</td>\n",
       "      <td>34.207799</td>\n",
       "      <td>416.525453</td>\n",
       "      <td>47.435103</td>\n",
       "      <td>10.000362</td>\n",
       "      <td>5.398678</td>\n",
       "      <td>999.661867</td>\n",
       "      <td>-499.835165</td>\n",
       "      <td>1199.626115</td>\n",
       "      <td>-500.201130</td>\n",
       "      <td>1151.076301</td>\n",
       "      <td>-500.217218</td>\n",
       "      <td>1061.051788</td>\n",
       "      <td>-500.386386</td>\n",
       "      <td>998.675263</td>\n",
       "      <td>-500.232191</td>\n",
       "      <td>900.995511</td>\n",
       "      <td>-500.522553</td>\n",
       "      <td>9.998460</td>\n",
       "      <td>5.402368</td>\n",
       "      <td>4.070095e+04</td>\n",
       "      <td>2611.425833</td>\n",
       "      <td>2551.437587</td>\n",
       "      <td>2.035434</td>\n",
       "      <td>18.802523</td>\n",
       "      <td>10.628337</td>\n",
       "      <td>6.725987</td>\n",
       "      <td>27.224120</td>\n",
       "      <td>81.037957</td>\n",
       "      <td>1.404207</td>\n",
       "      <td>4.889892</td>\n",
       "      <td>0.477728</td>\n",
       "      <td>15.822525</td>\n",
       "      <td>114.107029</td>\n",
       "      <td>6.076909</td>\n",
       "      <td>6.940000</td>\n",
       "      <td>0.697224</td>\n",
       "      <td>1.505063e+03</td>\n",
       "      <td>-500.308544</td>\n",
       "      <td>1.503630e+03</td>\n",
       "      <td>-500.437171</td>\n",
       "      <td>1.500927e+03</td>\n",
       "      <td>-500.703932</td>\n",
       "      <td>1.494219e+03</td>\n",
       "      <td>-500.458365</td>\n",
       "      <td>30.463140</td>\n",
       "      <td>7.263288</td>\n",
       "      <td>8.702328</td>\n",
       "      <td>7.893893</td>\n",
       "      <td>2.924844</td>\n",
       "      <td>14.017742</td>\n",
       "      <td>2.504365</td>\n",
       "      <td>6.747483</td>\n",
       "      <td>25.048462</td>\n",
       "      <td>-500.233700</td>\n",
       "      <td>20.919853</td>\n",
       "      <td>-500.253794</td>\n",
       "      <td>24.949227</td>\n",
       "      <td>-500.213546</td>\n",
       "      <td>18.995924</td>\n",
       "      <td>-500.123034</td>\n",
       "      <td>14.975734</td>\n",
       "      <td>-500.704892</td>\n",
       "      <td>11.940294</td>\n",
       "      <td>-500.187742</td>\n",
       "      <td>10.988606</td>\n",
       "      <td>-500.458467</td>\n",
       "      <td>8.971105</td>\n",
       "      <td>-500.129462</td>\n",
       "      <td>14.983037</td>\n",
       "      <td>-500.728067</td>\n",
       "      <td>3.182770</td>\n",
       "      <td>12.640239</td>\n",
       "      <td>3.864733</td>\n",
       "      <td>3.845475</td>\n",
       "      <td>43.402215</td>\n",
       "      <td>4.251240</td>\n",
       "      <td>9.137262</td>\n",
       "      <td>7.722820</td>\n",
       "      <td>63.299712</td>\n",
       "      <td>2.461138</td>\n",
       "      <td>8.062878</td>\n",
       "      <td>2.040119</td>\n",
       "      <td>8.938947</td>\n",
       "    </tr>\n",
       "    <tr>\n",
       "      <th>50%</th>\n",
       "      <td>8.125839</td>\n",
       "      <td>8.593574</td>\n",
       "      <td>3.534895</td>\n",
       "      <td>37.202650</td>\n",
       "      <td>499.416120</td>\n",
       "      <td>54.610197</td>\n",
       "      <td>12.001174</td>\n",
       "      <td>6.008273</td>\n",
       "      <td>1001.072890</td>\n",
       "      <td>-300.263994</td>\n",
       "      <td>1301.579988</td>\n",
       "      <td>-499.784045</td>\n",
       "      <td>1300.211537</td>\n",
       "      <td>-499.713364</td>\n",
       "      <td>1201.569141</td>\n",
       "      <td>-499.532412</td>\n",
       "      <td>1050.029461</td>\n",
       "      <td>-499.663089</td>\n",
       "      <td>999.924821</td>\n",
       "      <td>-499.471777</td>\n",
       "      <td>12.000204</td>\n",
       "      <td>6.098580</td>\n",
       "      <td>4.469648e+04</td>\n",
       "      <td>3018.353876</td>\n",
       "      <td>2997.218088</td>\n",
       "      <td>2.309665</td>\n",
       "      <td>20.280214</td>\n",
       "      <td>12.098115</td>\n",
       "      <td>7.742580</td>\n",
       "      <td>29.835345</td>\n",
       "      <td>86.188892</td>\n",
       "      <td>1.808170</td>\n",
       "      <td>5.765802</td>\n",
       "      <td>0.617465</td>\n",
       "      <td>18.106867</td>\n",
       "      <td>143.232103</td>\n",
       "      <td>8.038311</td>\n",
       "      <td>7.280000</td>\n",
       "      <td>0.940863</td>\n",
       "      <td>1.600597e+03</td>\n",
       "      <td>-499.926134</td>\n",
       "      <td>1.600521e+03</td>\n",
       "      <td>-499.956767</td>\n",
       "      <td>1.600254e+03</td>\n",
       "      <td>-499.909524</td>\n",
       "      <td>1.599447e+03</td>\n",
       "      <td>-499.905974</td>\n",
       "      <td>32.841295</td>\n",
       "      <td>8.507298</td>\n",
       "      <td>10.152433</td>\n",
       "      <td>10.314632</td>\n",
       "      <td>3.623234</td>\n",
       "      <td>15.842836</td>\n",
       "      <td>3.271153</td>\n",
       "      <td>8.183673</td>\n",
       "      <td>29.099943</td>\n",
       "      <td>-499.973250</td>\n",
       "      <td>25.043289</td>\n",
       "      <td>-500.015439</td>\n",
       "      <td>27.982129</td>\n",
       "      <td>-499.930680</td>\n",
       "      <td>22.011231</td>\n",
       "      <td>-499.981902</td>\n",
       "      <td>18.017481</td>\n",
       "      <td>-499.837793</td>\n",
       "      <td>14.971014</td>\n",
       "      <td>-499.459786</td>\n",
       "      <td>15.000036</td>\n",
       "      <td>-499.802605</td>\n",
       "      <td>11.019433</td>\n",
       "      <td>-499.935317</td>\n",
       "      <td>19.960541</td>\n",
       "      <td>-500.048400</td>\n",
       "      <td>4.072412</td>\n",
       "      <td>15.641902</td>\n",
       "      <td>5.344073</td>\n",
       "      <td>7.685827</td>\n",
       "      <td>45.011244</td>\n",
       "      <td>5.066094</td>\n",
       "      <td>10.102433</td>\n",
       "      <td>9.218961</td>\n",
       "      <td>68.172738</td>\n",
       "      <td>2.984909</td>\n",
       "      <td>9.743623</td>\n",
       "      <td>2.748730</td>\n",
       "      <td>10.622456</td>\n",
       "    </tr>\n",
       "    <tr>\n",
       "      <th>75%</th>\n",
       "      <td>9.769917</td>\n",
       "      <td>10.213771</td>\n",
       "      <td>4.244161</td>\n",
       "      <td>40.039133</td>\n",
       "      <td>550.172183</td>\n",
       "      <td>65.023044</td>\n",
       "      <td>14.716595</td>\n",
       "      <td>6.798051</td>\n",
       "      <td>1205.620588</td>\n",
       "      <td>-299.981998</td>\n",
       "      <td>1448.630789</td>\n",
       "      <td>-400.615589</td>\n",
       "      <td>1449.464001</td>\n",
       "      <td>-400.985743</td>\n",
       "      <td>1352.880320</td>\n",
       "      <td>-401.638550</td>\n",
       "      <td>1199.425140</td>\n",
       "      <td>-401.161191</td>\n",
       "      <td>1099.719692</td>\n",
       "      <td>-401.511042</td>\n",
       "      <td>14.636766</td>\n",
       "      <td>6.801233</td>\n",
       "      <td>4.816821e+04</td>\n",
       "      <td>3676.769750</td>\n",
       "      <td>3601.998911</td>\n",
       "      <td>2.731794</td>\n",
       "      <td>21.717843</td>\n",
       "      <td>13.736996</td>\n",
       "      <td>8.565199</td>\n",
       "      <td>32.189933</td>\n",
       "      <td>90.010670</td>\n",
       "      <td>2.211861</td>\n",
       "      <td>6.389234</td>\n",
       "      <td>0.778271</td>\n",
       "      <td>20.088151</td>\n",
       "      <td>175.075656</td>\n",
       "      <td>11.013521</td>\n",
       "      <td>7.670000</td>\n",
       "      <td>1.210990</td>\n",
       "      <td>1.697658e+03</td>\n",
       "      <td>-499.433950</td>\n",
       "      <td>1.699218e+03</td>\n",
       "      <td>-499.373336</td>\n",
       "      <td>1.699483e+03</td>\n",
       "      <td>-498.857643</td>\n",
       "      <td>1.698525e+03</td>\n",
       "      <td>-499.064695</td>\n",
       "      <td>35.048006</td>\n",
       "      <td>9.809001</td>\n",
       "      <td>11.424971</td>\n",
       "      <td>13.446702</td>\n",
       "      <td>4.585705</td>\n",
       "      <td>18.013975</td>\n",
       "      <td>4.181748</td>\n",
       "      <td>9.548586</td>\n",
       "      <td>33.012536</td>\n",
       "      <td>-499.671261</td>\n",
       "      <td>28.008197</td>\n",
       "      <td>-499.785698</td>\n",
       "      <td>33.002798</td>\n",
       "      <td>-499.325739</td>\n",
       "      <td>25.998206</td>\n",
       "      <td>-499.812834</td>\n",
       "      <td>23.012470</td>\n",
       "      <td>-498.249730</td>\n",
       "      <td>19.034162</td>\n",
       "      <td>-400.118106</td>\n",
       "      <td>18.026190</td>\n",
       "      <td>-498.384187</td>\n",
       "      <td>14.019088</td>\n",
       "      <td>-499.436708</td>\n",
       "      <td>24.003170</td>\n",
       "      <td>-499.495378</td>\n",
       "      <td>5.063081</td>\n",
       "      <td>17.358217</td>\n",
       "      <td>7.788467</td>\n",
       "      <td>10.411296</td>\n",
       "      <td>46.275313</td>\n",
       "      <td>5.895527</td>\n",
       "      <td>11.035769</td>\n",
       "      <td>10.947813</td>\n",
       "      <td>72.686642</td>\n",
       "      <td>3.571351</td>\n",
       "      <td>11.134294</td>\n",
       "      <td>3.333216</td>\n",
       "      <td>12.104271</td>\n",
       "    </tr>\n",
       "    <tr>\n",
       "      <th>max</th>\n",
       "      <td>13.731330</td>\n",
       "      <td>14.596026</td>\n",
       "      <td>7.142594</td>\n",
       "      <td>53.477742</td>\n",
       "      <td>717.508837</td>\n",
       "      <td>484.967466</td>\n",
       "      <td>36.118275</td>\n",
       "      <td>9.703448</td>\n",
       "      <td>1521.980372</td>\n",
       "      <td>-273.776101</td>\n",
       "      <td>1809.194008</td>\n",
       "      <td>-296.383080</td>\n",
       "      <td>2499.129174</td>\n",
       "      <td>-292.155509</td>\n",
       "      <td>1817.199290</td>\n",
       "      <td>-76.397327</td>\n",
       "      <td>1922.636637</td>\n",
       "      <td>-139.753025</td>\n",
       "      <td>1706.307502</td>\n",
       "      <td>-191.718480</td>\n",
       "      <td>37.980648</td>\n",
       "      <td>9.698407</td>\n",
       "      <td>3.428099e+06</td>\n",
       "      <td>629638.977914</td>\n",
       "      <td>718684.955855</td>\n",
       "      <td>39.379272</td>\n",
       "      <td>28.824507</td>\n",
       "      <td>24.480271</td>\n",
       "      <td>13.617072</td>\n",
       "      <td>38.351193</td>\n",
       "      <td>100.000000</td>\n",
       "      <td>9.688980</td>\n",
       "      <td>12.719177</td>\n",
       "      <td>3.778064</td>\n",
       "      <td>66.117188</td>\n",
       "      <td>265.983123</td>\n",
       "      <td>40.000000</td>\n",
       "      <td>15.500000</td>\n",
       "      <td>4.102454</td>\n",
       "      <td>2.103104e+03</td>\n",
       "      <td>-57.195404</td>\n",
       "      <td>2.114907e+03</td>\n",
       "      <td>-142.527229</td>\n",
       "      <td>2.013156e+03</td>\n",
       "      <td>-150.937035</td>\n",
       "      <td>2.398904e+03</td>\n",
       "      <td>-30.601828</td>\n",
       "      <td>45.933934</td>\n",
       "      <td>16.081632</td>\n",
       "      <td>17.081278</td>\n",
       "      <td>22.458114</td>\n",
       "      <td>17.788925</td>\n",
       "      <td>29.459575</td>\n",
       "      <td>9.634565</td>\n",
       "      <td>22.276364</td>\n",
       "      <td>52.651399</td>\n",
       "      <td>-127.875565</td>\n",
       "      <td>35.152122</td>\n",
       "      <td>-211.999273</td>\n",
       "      <td>44.260464</td>\n",
       "      <td>-191.678810</td>\n",
       "      <td>35.072841</td>\n",
       "      <td>-159.742331</td>\n",
       "      <td>30.115735</td>\n",
       "      <td>-245.239184</td>\n",
       "      <td>31.269706</td>\n",
       "      <td>-6.506986</td>\n",
       "      <td>43.709931</td>\n",
       "      <td>-244.483566</td>\n",
       "      <td>27.926001</td>\n",
       "      <td>-137.740004</td>\n",
       "      <td>32.188906</td>\n",
       "      <td>-104.427459</td>\n",
       "      <td>26.811643</td>\n",
       "      <td>23.264738</td>\n",
       "      <td>17.042505</td>\n",
       "      <td>26.000772</td>\n",
       "      <td>52.756638</td>\n",
       "      <td>16.001945</td>\n",
       "      <td>17.031899</td>\n",
       "      <td>19.615720</td>\n",
       "      <td>100.000000</td>\n",
       "      <td>8.245022</td>\n",
       "      <td>19.552149</td>\n",
       "      <td>5.804178</td>\n",
       "      <td>22.317730</td>\n",
       "    </tr>\n",
       "  </tbody>\n",
       "</table>\n",
       "</div>"
      ],
      "text/plain": [
       "       rougher.input.feed_au  rougher.input.feed_ag  rougher.input.feed_pb  \\\n",
       "count           19439.000000           19439.000000           19339.000000   \n",
       "mean                8.266097               8.794927               3.598085   \n",
       "std                 1.955092               1.936847               1.049486   \n",
       "min                 0.010000               0.010000               0.010000   \n",
       "25%                 6.854384               7.237967               2.887280   \n",
       "50%                 8.125839               8.593574               3.534895   \n",
       "75%                 9.769917              10.213771               4.244161   \n",
       "max                13.731330              14.596026               7.142594   \n",
       "\n",
       "       rougher.input.feed_sol  rougher.input.feed_rate  \\\n",
       "count            19340.000000             19428.000000   \n",
       "mean                36.695114               478.320042   \n",
       "std                  5.145445               105.373758   \n",
       "min                  0.010000                 0.002986   \n",
       "25%                 34.207799               416.525453   \n",
       "50%                 37.202650               499.416120   \n",
       "75%                 40.039133               550.172183   \n",
       "max                 53.477742               717.508837   \n",
       "\n",
       "       rougher.input.feed_size  rougher.input.floatbank10_sulfate  \\\n",
       "count             19294.000000                       19405.000000   \n",
       "mean                 58.970310                          12.334373   \n",
       "std                  21.634478                           3.427317   \n",
       "min                   0.046369                           0.001083   \n",
       "25%                  47.435103                          10.000362   \n",
       "50%                  54.610197                          12.001174   \n",
       "75%                  65.023044                          14.716595   \n",
       "max                 484.967466                          36.118275   \n",
       "\n",
       "       rougher.input.floatbank10_xanthate  rougher.state.floatbank10_a_air  \\\n",
       "count                        19431.000000                     19438.000000   \n",
       "mean                             6.021474                      1105.315068   \n",
       "std                              1.127263                       160.826798   \n",
       "min                              0.000568                        -0.042069   \n",
       "25%                              5.398678                       999.661867   \n",
       "50%                              6.008273                      1001.072890   \n",
       "75%                              6.798051                      1205.620588   \n",
       "max                              9.703448                      1521.980372   \n",
       "\n",
       "       rougher.state.floatbank10_a_level  rougher.state.floatbank10_b_air  \\\n",
       "count                       19438.000000                     19438.000000   \n",
       "mean                         -376.610690                      1320.221139   \n",
       "std                            93.909667                       176.287095   \n",
       "min                          -657.949759                        -0.721806   \n",
       "25%                          -499.835165                      1199.626115   \n",
       "50%                          -300.263994                      1301.579988   \n",
       "75%                          -299.981998                      1448.630789   \n",
       "max                          -273.776101                      1809.194008   \n",
       "\n",
       "       rougher.state.floatbank10_b_level  rougher.state.floatbank10_c_air  \\\n",
       "count                       19438.000000                     19438.000000   \n",
       "mean                         -467.247826                      1299.968799   \n",
       "std                            54.673142                       202.804325   \n",
       "min                          -650.260008                        -0.056636   \n",
       "25%                          -500.201130                      1151.076301   \n",
       "50%                          -499.784045                      1300.211537   \n",
       "75%                          -400.615589                      1449.464001   \n",
       "max                          -296.383080                      2499.129174   \n",
       "\n",
       "       rougher.state.floatbank10_c_level  rougher.state.floatbank10_d_air  \\\n",
       "count                       19438.000000                     19439.000000   \n",
       "mean                         -467.716946                      1211.563299   \n",
       "std                            53.534825                       204.019326   \n",
       "min                          -647.544439                        -0.992219   \n",
       "25%                          -500.217218                      1061.051788   \n",
       "50%                          -499.713364                      1201.569141   \n",
       "75%                          -400.985743                      1352.880320   \n",
       "max                          -292.155509                      1817.199290   \n",
       "\n",
       "       rougher.state.floatbank10_d_level  rougher.state.floatbank10_e_air  \\\n",
       "count                       19439.000000                     19003.000000   \n",
       "mean                         -468.239912                      1080.869685   \n",
       "std                            53.921458                       172.149992   \n",
       "min                          -648.390665                        -1.982295   \n",
       "25%                          -500.386386                       998.675263   \n",
       "50%                          -499.532412                      1050.029461   \n",
       "75%                          -401.638550                      1199.425140   \n",
       "max                           -76.397327                      1922.636637   \n",
       "\n",
       "       rougher.state.floatbank10_e_level  rougher.state.floatbank10_f_air  \\\n",
       "count                       19439.000000                     19439.000000   \n",
       "mean                         -466.037742                      1025.274256   \n",
       "std                            57.384424                       164.487837   \n",
       "min                          -649.443911                        -2.593390   \n",
       "25%                          -500.232191                       900.995511   \n",
       "50%                          -499.663089                       999.924821   \n",
       "75%                          -401.161191                      1099.719692   \n",
       "max                          -139.753025                      1706.307502   \n",
       "\n",
       "       rougher.state.floatbank10_f_level  rougher.input.floatbank11_sulfate  \\\n",
       "count                       19439.000000                       19395.000000   \n",
       "mean                         -466.265327                          12.064140   \n",
       "std                            57.850263                           3.784221   \n",
       "min                          -649.949283                           0.000077   \n",
       "25%                          -500.522553                           9.998460   \n",
       "50%                          -499.471777                          12.000204   \n",
       "75%                          -401.511042                          14.636766   \n",
       "max                          -191.718480                          37.980648   \n",
       "\n",
       "       rougher.input.floatbank11_xanthate  \\\n",
       "count                        18986.000000   \n",
       "mean                             6.065533   \n",
       "std                              1.099118   \n",
       "min                              0.000290   \n",
       "25%                              5.402368   \n",
       "50%                              6.098580   \n",
       "75%                              6.801233   \n",
       "max                              9.698407   \n",
       "\n",
       "       rougher.calculation.sulfate_to_au_concentrate  \\\n",
       "count                                   1.943700e+04   \n",
       "mean                                    4.217119e+04   \n",
       "std                                     3.243621e+05   \n",
       "min                                    -4.223520e+07   \n",
       "25%                                     4.070095e+04   \n",
       "50%                                     4.469648e+04   \n",
       "75%                                     4.816821e+04   \n",
       "max                                     3.428099e+06   \n",
       "\n",
       "       rougher.calculation.floatbank10_sulfate_to_au_feed  \\\n",
       "count                                       19437.000000    \n",
       "mean                                         3393.052498    \n",
       "std                                          4943.845943    \n",
       "min                                          -486.598675    \n",
       "25%                                          2611.425833    \n",
       "50%                                          3018.353876    \n",
       "75%                                          3676.769750    \n",
       "max                                        629638.977914    \n",
       "\n",
       "       rougher.calculation.floatbank11_sulfate_to_au_feed  \\\n",
       "count                                       19437.000000    \n",
       "mean                                         3256.854171    \n",
       "std                                          5781.423659    \n",
       "min                                          -264.982785    \n",
       "25%                                          2551.437587    \n",
       "50%                                          2997.218088    \n",
       "75%                                          3601.998911    \n",
       "max                                        718684.955855    \n",
       "\n",
       "       rougher.calculation.au_pb_ratio  rougher.output.concentrate_au  \\\n",
       "count                     19439.000000                   19439.000000   \n",
       "mean                          2.420119                      19.772000   \n",
       "std                           0.814935                       3.753600   \n",
       "min                          -0.010548                       0.000000   \n",
       "25%                           2.035434                      18.802523   \n",
       "50%                           2.309665                      20.280214   \n",
       "75%                           2.731794                      21.717843   \n",
       "max                          39.379272                      28.824507   \n",
       "\n",
       "       rougher.output.concentrate_ag  rougher.output.concentrate_pb  \\\n",
       "count                   19439.000000                   19439.000000   \n",
       "mean                       11.994759                       7.606272   \n",
       "std                         2.733862                       1.796757   \n",
       "min                         0.000000                       0.000000   \n",
       "25%                        10.628337                       6.725987   \n",
       "50%                        12.098115                       7.742580   \n",
       "75%                        13.736996                       8.565199   \n",
       "max                        24.480271                      13.617072   \n",
       "\n",
       "       rougher.output.concentrate_sol  rougher.output.recovery  \\\n",
       "count                    19416.000000             19439.000000   \n",
       "mean                        28.805571                83.328587   \n",
       "std                          5.944207                14.148086   \n",
       "min                          0.000000                 0.000000   \n",
       "25%                         27.224120                81.037957   \n",
       "50%                         29.835345                86.188892   \n",
       "75%                         32.189933                90.010670   \n",
       "max                         38.351193               100.000000   \n",
       "\n",
       "       rougher.output.tail_au  rougher.output.tail_ag  rougher.output.tail_pb  \\\n",
       "count            19439.000000            19438.000000            19439.000000   \n",
       "mean                 1.816391                5.588982                0.645782   \n",
       "std                  0.680046                1.111288                0.251526   \n",
       "min                  0.020676                0.594562                0.007566   \n",
       "25%                  1.404207                4.889892                0.477728   \n",
       "50%                  1.808170                5.765802                0.617465   \n",
       "75%                  2.211861                6.389234                0.778271   \n",
       "max                  9.688980               12.719177                3.778064   \n",
       "\n",
       "       rougher.output.tail_sol  primary_cleaner.input.sulfate  \\\n",
       "count             19439.000000                   19415.000000   \n",
       "mean                 18.057106                     144.624774   \n",
       "std                   3.449218                      44.464071   \n",
       "min                  10.014648                       0.003112   \n",
       "25%                  15.822525                     114.107029   \n",
       "50%                  18.106867                     143.232103   \n",
       "75%                  20.088151                     175.075656   \n",
       "max                  66.117188                     265.983123   \n",
       "\n",
       "       primary_cleaner.input.depressant  primary_cleaner.input.feed_size  \\\n",
       "count                      19402.000000                     19439.000000   \n",
       "mean                           8.817039                         7.307078   \n",
       "std                            3.286186                         0.613509   \n",
       "min                            0.000000                         1.080000   \n",
       "25%                            6.076909                         6.940000   \n",
       "50%                            8.038311                         7.280000   \n",
       "75%                           11.013521                         7.670000   \n",
       "max                           40.000000                        15.500000   \n",
       "\n",
       "       primary_cleaner.input.xanthate  primary_cleaner.state.floatbank8_a_air  \\\n",
       "count                    19335.000000                            1.943500e+04   \n",
       "mean                         1.021795                            1.589354e+03   \n",
       "std                          0.513254                            1.289968e+02   \n",
       "min                          0.000005                            5.445860e-32   \n",
       "25%                          0.697224                            1.505063e+03   \n",
       "50%                          0.940863                            1.600597e+03   \n",
       "75%                          1.210990                            1.697658e+03   \n",
       "max                          4.102454                            2.103104e+03   \n",
       "\n",
       "       primary_cleaner.state.floatbank8_a_level  \\\n",
       "count                              19438.000000   \n",
       "mean                                -491.195012   \n",
       "std                                   32.431842   \n",
       "min                                 -798.641662   \n",
       "25%                                 -500.308544   \n",
       "50%                                 -499.926134   \n",
       "75%                                 -499.433950   \n",
       "max                                  -57.195404   \n",
       "\n",
       "       primary_cleaner.state.floatbank8_b_air  \\\n",
       "count                            1.943500e+04   \n",
       "mean                             1.591344e+03   \n",
       "std                              1.318109e+02   \n",
       "min                              6.647490e-32   \n",
       "25%                              1.503630e+03   \n",
       "50%                              1.600521e+03   \n",
       "75%                              1.699218e+03   \n",
       "max                              2.114907e+03   \n",
       "\n",
       "       primary_cleaner.state.floatbank8_b_level  \\\n",
       "count                              19438.000000   \n",
       "mean                                -492.192978   \n",
       "std                                   33.794822   \n",
       "min                                 -799.997015   \n",
       "25%                                 -500.437171   \n",
       "50%                                 -499.956767   \n",
       "75%                                 -499.373336   \n",
       "max                                 -142.527229   \n",
       "\n",
       "       primary_cleaner.state.floatbank8_c_air  \\\n",
       "count                            1.943700e+04   \n",
       "mean                             1.586669e+03   \n",
       "std                              1.361114e+02   \n",
       "min                              4.033736e-32   \n",
       "25%                              1.500927e+03   \n",
       "50%                              1.600254e+03   \n",
       "75%                              1.699483e+03   \n",
       "max                              2.013156e+03   \n",
       "\n",
       "       primary_cleaner.state.floatbank8_c_level  \\\n",
       "count                              19438.000000   \n",
       "mean                                -491.980070   \n",
       "std                                   32.711455   \n",
       "min                                 -799.960571   \n",
       "25%                                 -500.703932   \n",
       "50%                                 -499.909524   \n",
       "75%                                 -498.857643   \n",
       "max                                 -150.937035   \n",
       "\n",
       "       primary_cleaner.state.floatbank8_d_air  \\\n",
       "count                            1.943600e+04   \n",
       "mean                             1.542912e+03   \n",
       "std                              2.461996e+02   \n",
       "min                              4.039220e-32   \n",
       "25%                              1.494219e+03   \n",
       "50%                              1.599447e+03   \n",
       "75%                              1.698525e+03   \n",
       "max                              2.398904e+03   \n",
       "\n",
       "       primary_cleaner.state.floatbank8_d_level  \\\n",
       "count                              19438.000000   \n",
       "mean                                -488.017382   \n",
       "std                                   43.959780   \n",
       "min                                 -799.794250   \n",
       "25%                                 -500.458365   \n",
       "50%                                 -499.905974   \n",
       "75%                                 -499.064695   \n",
       "max                                  -30.601828   \n",
       "\n",
       "       primary_cleaner.output.concentrate_au  \\\n",
       "count                           19439.000000   \n",
       "mean                               32.119400   \n",
       "std                                 5.627611   \n",
       "min                                 0.000000   \n",
       "25%                                30.463140   \n",
       "50%                                32.841295   \n",
       "75%                                35.048006   \n",
       "max                                45.933934   \n",
       "\n",
       "       primary_cleaner.output.concentrate_ag  \\\n",
       "count                           19439.000000   \n",
       "mean                                8.442408   \n",
       "std                                 2.054465   \n",
       "min                                 0.000000   \n",
       "25%                                 7.263288   \n",
       "50%                                 8.507298   \n",
       "75%                                 9.809001   \n",
       "max                                16.081632   \n",
       "\n",
       "       primary_cleaner.output.concentrate_pb  \\\n",
       "count                           19323.000000   \n",
       "mean                                9.829530   \n",
       "std                                 2.556843   \n",
       "min                                 0.000000   \n",
       "25%                                 8.702328   \n",
       "50%                                10.152433   \n",
       "75%                                11.424971   \n",
       "max                                17.081278   \n",
       "\n",
       "       primary_cleaner.output.concentrate_sol  primary_cleaner.output.tail_au  \\\n",
       "count                            19069.000000                    19439.000000   \n",
       "mean                                10.489499                        3.914179   \n",
       "std                                  3.909639                        1.593034   \n",
       "min                                  0.000000                        0.000000   \n",
       "25%                                  7.893893                        2.924844   \n",
       "50%                                 10.314632                        3.623234   \n",
       "75%                                 13.446702                        4.585705   \n",
       "max                                 22.458114                       17.788925   \n",
       "\n",
       "       primary_cleaner.output.tail_ag  primary_cleaner.output.tail_pb  \\\n",
       "count                    19435.000000                    19418.000000   \n",
       "mean                        16.145826                        3.435656   \n",
       "std                          3.548598                        1.392536   \n",
       "min                          0.000000                        0.000000   \n",
       "25%                         14.017742                        2.504365   \n",
       "50%                         15.842836                        3.271153   \n",
       "75%                         18.013975                        4.181748   \n",
       "max                         29.459575                        9.634565   \n",
       "\n",
       "       primary_cleaner.output.tail_sol  \\\n",
       "count                     19377.000000   \n",
       "mean                          7.973209   \n",
       "std                           2.212677   \n",
       "min                           0.000000   \n",
       "25%                           6.747483   \n",
       "50%                           8.183673   \n",
       "75%                           9.548586   \n",
       "max                          22.276364   \n",
       "\n",
       "       secondary_cleaner.state.floatbank2_a_air  \\\n",
       "count                              19219.000000   \n",
       "mean                                  28.705564   \n",
       "std                                    5.458789   \n",
       "min                                    0.077503   \n",
       "25%                                   25.048462   \n",
       "50%                                   29.099943   \n",
       "75%                                   33.012536   \n",
       "max                                   52.651399   \n",
       "\n",
       "       secondary_cleaner.state.floatbank2_a_level  \\\n",
       "count                                19438.000000   \n",
       "mean                                  -502.367331   \n",
       "std                                     53.571950   \n",
       "min                                   -799.606441   \n",
       "25%                                   -500.233700   \n",
       "50%                                   -499.973250   \n",
       "75%                                   -499.671261   \n",
       "max                                   -127.875565   \n",
       "\n",
       "       secondary_cleaner.state.floatbank2_b_air  \\\n",
       "count                              19416.000000   \n",
       "mean                                  24.106800   \n",
       "std                                    5.749616   \n",
       "min                                    0.000000   \n",
       "25%                                   20.919853   \n",
       "50%                                   25.043289   \n",
       "75%                                   28.008197   \n",
       "max                                   35.152122   \n",
       "\n",
       "       secondary_cleaner.state.floatbank2_b_level  \\\n",
       "count                                19438.000000   \n",
       "mean                                  -503.230712   \n",
       "std                                     56.567724   \n",
       "min                                   -799.873878   \n",
       "25%                                   -500.253794   \n",
       "50%                                   -500.015439   \n",
       "75%                                   -499.785698   \n",
       "max                                   -211.999273   \n",
       "\n",
       "       secondary_cleaner.state.floatbank3_a_air  \\\n",
       "count                              19426.000000   \n",
       "mean                                  28.199338   \n",
       "std                                    6.134908   \n",
       "min                                    0.000000   \n",
       "25%                                   24.949227   \n",
       "50%                                   27.982129   \n",
       "75%                                   33.002798   \n",
       "max                                   44.260464   \n",
       "\n",
       "       secondary_cleaner.state.floatbank3_a_level  \\\n",
       "count                                19438.000000   \n",
       "mean                                  -486.203350   \n",
       "std                                     54.412349   \n",
       "min                                   -799.755798   \n",
       "25%                                   -500.213546   \n",
       "50%                                   -499.930680   \n",
       "75%                                   -499.325739   \n",
       "max                                   -191.678810   \n",
       "\n",
       "       secondary_cleaner.state.floatbank3_b_air  \\\n",
       "count                              19438.000000   \n",
       "mean                                  22.200645   \n",
       "std                                    5.574001   \n",
       "min                                    0.000000   \n",
       "25%                                   18.995924   \n",
       "50%                                   22.011231   \n",
       "75%                                   25.998206   \n",
       "max                                   35.072841   \n",
       "\n",
       "       secondary_cleaner.state.floatbank3_b_level  \\\n",
       "count                                19438.000000   \n",
       "mean                                  -493.742107   \n",
       "std                                     43.372158   \n",
       "min                                   -809.333008   \n",
       "25%                                   -500.123034   \n",
       "50%                                   -499.981902   \n",
       "75%                                   -499.812834   \n",
       "max                                   -159.742331   \n",
       "\n",
       "       secondary_cleaner.state.floatbank4_a_air  \\\n",
       "count                              19433.000000   \n",
       "mean                                  18.987674   \n",
       "std                                    5.411058   \n",
       "min                                    0.000000   \n",
       "25%                                   14.975734   \n",
       "50%                                   18.017481   \n",
       "75%                                   23.012470   \n",
       "max                                   30.115735   \n",
       "\n",
       "       secondary_cleaner.state.floatbank4_a_level  \\\n",
       "count                                19438.000000   \n",
       "mean                                  -485.894516   \n",
       "std                                     47.758570   \n",
       "min                                   -799.798523   \n",
       "25%                                   -500.704892   \n",
       "50%                                   -499.837793   \n",
       "75%                                   -498.249730   \n",
       "max                                   -245.239184   \n",
       "\n",
       "       secondary_cleaner.state.floatbank4_b_air  \\\n",
       "count                              19438.000000   \n",
       "mean                                  15.010366   \n",
       "std                                    4.890228   \n",
       "min                                    0.000000   \n",
       "25%                                   11.940294   \n",
       "50%                                   14.971014   \n",
       "75%                                   19.034162   \n",
       "max                                   31.269706   \n",
       "\n",
       "       secondary_cleaner.state.floatbank4_b_level  \\\n",
       "count                                19438.000000   \n",
       "mean                                  -461.078636   \n",
       "std                                     67.405524   \n",
       "min                                   -800.836914   \n",
       "25%                                   -500.187742   \n",
       "50%                                   -499.459786   \n",
       "75%                                   -400.118106   \n",
       "max                                     -6.506986   \n",
       "\n",
       "       secondary_cleaner.state.floatbank5_a_air  \\\n",
       "count                              19438.000000   \n",
       "mean                                  15.694452   \n",
       "std                                    5.510974   \n",
       "min                                   -0.372054   \n",
       "25%                                   10.988606   \n",
       "50%                                   15.000036   \n",
       "75%                                   18.026190   \n",
       "max                                   43.709931   \n",
       "\n",
       "       secondary_cleaner.state.floatbank5_a_level  \\\n",
       "count                                19438.000000   \n",
       "mean                                  -488.684065   \n",
       "std                                     34.533396   \n",
       "min                                   -797.323986   \n",
       "25%                                   -500.458467   \n",
       "50%                                   -499.802605   \n",
       "75%                                   -498.384187   \n",
       "max                                   -244.483566   \n",
       "\n",
       "       secondary_cleaner.state.floatbank5_b_air  \\\n",
       "count                              19438.000000   \n",
       "mean                                  12.198224   \n",
       "std                                    5.333024   \n",
       "min                                    0.528083   \n",
       "25%                                    8.971105   \n",
       "50%                                   11.019433   \n",
       "75%                                   14.019088   \n",
       "max                                   27.926001   \n",
       "\n",
       "       secondary_cleaner.state.floatbank5_b_level  \\\n",
       "count                                19438.000000   \n",
       "mean                                  -487.149827   \n",
       "std                                     38.347312   \n",
       "min                                   -800.220337   \n",
       "25%                                   -500.129462   \n",
       "50%                                   -499.935317   \n",
       "75%                                   -499.436708   \n",
       "max                                   -137.740004   \n",
       "\n",
       "       secondary_cleaner.state.floatbank6_a_air  \\\n",
       "count                              19437.000000   \n",
       "mean                                  18.959024   \n",
       "std                                    5.550498   \n",
       "min                                   -0.079426   \n",
       "25%                                   14.983037   \n",
       "50%                                   19.960541   \n",
       "75%                                   24.003170   \n",
       "max                                   32.188906   \n",
       "\n",
       "       secondary_cleaner.state.floatbank6_a_level  \\\n",
       "count                                19438.000000   \n",
       "mean                                  -505.436305   \n",
       "std                                     37.689057   \n",
       "min                                   -809.741464   \n",
       "25%                                   -500.728067   \n",
       "50%                                   -500.048400   \n",
       "75%                                   -499.495378   \n",
       "max                                   -104.427459   \n",
       "\n",
       "       secondary_cleaner.output.tail_au  secondary_cleaner.output.tail_ag  \\\n",
       "count                      19439.000000                      19437.000000   \n",
       "mean                           4.339625                         14.586833   \n",
       "std                            2.326751                          4.265202   \n",
       "min                            0.000000                          0.000000   \n",
       "25%                            3.182770                         12.640239   \n",
       "50%                            4.072412                         15.641902   \n",
       "75%                            5.063081                         17.358217   \n",
       "max                           26.811643                         23.264738   \n",
       "\n",
       "       secondary_cleaner.output.tail_pb  secondary_cleaner.output.tail_sol  \\\n",
       "count                      19427.000000                       17691.000000   \n",
       "mean                           5.777703                           7.167247   \n",
       "std                            2.774598                           3.916079   \n",
       "min                            0.000000                           0.000000   \n",
       "25%                            3.864733                           3.845475   \n",
       "50%                            5.344073                           7.685827   \n",
       "75%                            7.788467                          10.411296   \n",
       "max                           17.042505                          26.000772   \n",
       "\n",
       "       final.output.concentrate_au  final.output.concentrate_ag  \\\n",
       "count                 19439.000000                 19438.000000   \n",
       "mean                     44.076513                     5.168470   \n",
       "std                       5.129784                     1.372348   \n",
       "min                       0.000000                     0.000000   \n",
       "25%                      43.402215                     4.251240   \n",
       "50%                      45.011244                     5.066094   \n",
       "75%                      46.275313                     5.895527   \n",
       "max                      52.756638                    16.001945   \n",
       "\n",
       "       final.output.concentrate_pb  final.output.concentrate_sol  \\\n",
       "count                 19438.000000                  19228.000000   \n",
       "mean                      9.978895                      9.501224   \n",
       "std                       1.669240                      2.787537   \n",
       "min                       0.000000                      0.000000   \n",
       "25%                       9.137262                      7.722820   \n",
       "50%                      10.102433                      9.218961   \n",
       "75%                      11.035769                     10.947813   \n",
       "max                      17.031899                     19.615720   \n",
       "\n",
       "       final.output.recovery  final.output.tail_au  final.output.tail_ag  \\\n",
       "count           19439.000000          19439.000000          19438.000000   \n",
       "mean               67.050208              3.042467              9.688589   \n",
       "std                10.125840              0.922808              2.328642   \n",
       "min                 0.000000              0.000000              0.000000   \n",
       "25%                63.299712              2.461138              8.062878   \n",
       "50%                68.172738              2.984909              9.743623   \n",
       "75%                72.686642              3.571351             11.134294   \n",
       "max               100.000000              8.245022             19.552149   \n",
       "\n",
       "       final.output.tail_pb  final.output.tail_sol  \n",
       "count          19338.000000           19433.000000  \n",
       "mean               2.705795              10.583728  \n",
       "std                0.949077               2.868782  \n",
       "min                0.000000               0.000000  \n",
       "25%                2.040119               8.938947  \n",
       "50%                2.748730              10.622456  \n",
       "75%                3.333216              12.104271  \n",
       "max                5.804178              22.317730  "
      ]
     },
     "metadata": {},
     "output_type": "display_data"
    },
    {
     "name": "stdout",
     "output_type": "stream",
     "text": [
      "\n"
     ]
    }
   ],
   "source": [
    "df = [train, test, data]\n",
    "df_name = ['Обучающая выборка','Тестовая выборка','Весь датасет']\n",
    "datasets = list(zip(df, df_name))\n",
    "\n",
    "for dataset, name in datasets:\n",
    "    print(name)\n",
    "    display(dataset.describe())\n",
    "    print()"
   ]
  },
  {
   "cell_type": "code",
   "execution_count": 7,
   "metadata": {},
   "outputs": [
    {
     "name": "stdout",
     "output_type": "stream",
     "text": [
      "Обучающая выборка\n"
     ]
    },
    {
     "data": {
      "text/html": [
       "<div>\n",
       "<style scoped>\n",
       "    .dataframe tbody tr th:only-of-type {\n",
       "        vertical-align: middle;\n",
       "    }\n",
       "\n",
       "    .dataframe tbody tr th {\n",
       "        vertical-align: top;\n",
       "    }\n",
       "\n",
       "    .dataframe thead th {\n",
       "        text-align: right;\n",
       "    }\n",
       "</style>\n",
       "<table border=\"1\" class=\"dataframe\">\n",
       "  <thead>\n",
       "    <tr style=\"text-align: right;\">\n",
       "      <th></th>\n",
       "      <th>date</th>\n",
       "      <th>rougher.input.feed_au</th>\n",
       "      <th>rougher.input.feed_ag</th>\n",
       "      <th>rougher.input.feed_pb</th>\n",
       "      <th>rougher.input.feed_sol</th>\n",
       "      <th>rougher.input.feed_rate</th>\n",
       "      <th>rougher.input.feed_size</th>\n",
       "      <th>rougher.input.floatbank10_sulfate</th>\n",
       "      <th>rougher.input.floatbank10_xanthate</th>\n",
       "      <th>rougher.state.floatbank10_a_air</th>\n",
       "      <th>rougher.state.floatbank10_a_level</th>\n",
       "      <th>rougher.state.floatbank10_b_air</th>\n",
       "      <th>rougher.state.floatbank10_b_level</th>\n",
       "      <th>rougher.state.floatbank10_c_air</th>\n",
       "      <th>rougher.state.floatbank10_c_level</th>\n",
       "      <th>rougher.state.floatbank10_d_air</th>\n",
       "      <th>rougher.state.floatbank10_d_level</th>\n",
       "      <th>rougher.state.floatbank10_e_air</th>\n",
       "      <th>rougher.state.floatbank10_e_level</th>\n",
       "      <th>rougher.state.floatbank10_f_air</th>\n",
       "      <th>rougher.state.floatbank10_f_level</th>\n",
       "      <th>rougher.input.floatbank11_sulfate</th>\n",
       "      <th>rougher.input.floatbank11_xanthate</th>\n",
       "      <th>rougher.calculation.sulfate_to_au_concentrate</th>\n",
       "      <th>rougher.calculation.floatbank10_sulfate_to_au_feed</th>\n",
       "      <th>rougher.calculation.floatbank11_sulfate_to_au_feed</th>\n",
       "      <th>rougher.calculation.au_pb_ratio</th>\n",
       "      <th>rougher.output.concentrate_au</th>\n",
       "      <th>rougher.output.concentrate_ag</th>\n",
       "      <th>rougher.output.concentrate_pb</th>\n",
       "      <th>rougher.output.concentrate_sol</th>\n",
       "      <th>rougher.output.recovery</th>\n",
       "      <th>rougher.output.tail_au</th>\n",
       "      <th>rougher.output.tail_ag</th>\n",
       "      <th>rougher.output.tail_pb</th>\n",
       "      <th>rougher.output.tail_sol</th>\n",
       "      <th>primary_cleaner.input.sulfate</th>\n",
       "      <th>primary_cleaner.input.depressant</th>\n",
       "      <th>primary_cleaner.input.feed_size</th>\n",
       "      <th>primary_cleaner.input.xanthate</th>\n",
       "      <th>primary_cleaner.state.floatbank8_a_air</th>\n",
       "      <th>primary_cleaner.state.floatbank8_a_level</th>\n",
       "      <th>primary_cleaner.state.floatbank8_b_air</th>\n",
       "      <th>primary_cleaner.state.floatbank8_b_level</th>\n",
       "      <th>primary_cleaner.state.floatbank8_c_air</th>\n",
       "      <th>primary_cleaner.state.floatbank8_c_level</th>\n",
       "      <th>primary_cleaner.state.floatbank8_d_air</th>\n",
       "      <th>primary_cleaner.state.floatbank8_d_level</th>\n",
       "      <th>primary_cleaner.output.concentrate_au</th>\n",
       "      <th>primary_cleaner.output.concentrate_ag</th>\n",
       "      <th>primary_cleaner.output.concentrate_pb</th>\n",
       "      <th>primary_cleaner.output.concentrate_sol</th>\n",
       "      <th>primary_cleaner.output.tail_au</th>\n",
       "      <th>primary_cleaner.output.tail_ag</th>\n",
       "      <th>primary_cleaner.output.tail_pb</th>\n",
       "      <th>primary_cleaner.output.tail_sol</th>\n",
       "      <th>secondary_cleaner.state.floatbank2_a_air</th>\n",
       "      <th>secondary_cleaner.state.floatbank2_a_level</th>\n",
       "      <th>secondary_cleaner.state.floatbank2_b_air</th>\n",
       "      <th>secondary_cleaner.state.floatbank2_b_level</th>\n",
       "      <th>secondary_cleaner.state.floatbank3_a_air</th>\n",
       "      <th>secondary_cleaner.state.floatbank3_a_level</th>\n",
       "      <th>secondary_cleaner.state.floatbank3_b_air</th>\n",
       "      <th>secondary_cleaner.state.floatbank3_b_level</th>\n",
       "      <th>secondary_cleaner.state.floatbank4_a_air</th>\n",
       "      <th>secondary_cleaner.state.floatbank4_a_level</th>\n",
       "      <th>secondary_cleaner.state.floatbank4_b_air</th>\n",
       "      <th>secondary_cleaner.state.floatbank4_b_level</th>\n",
       "      <th>secondary_cleaner.state.floatbank5_a_air</th>\n",
       "      <th>secondary_cleaner.state.floatbank5_a_level</th>\n",
       "      <th>secondary_cleaner.state.floatbank5_b_air</th>\n",
       "      <th>secondary_cleaner.state.floatbank5_b_level</th>\n",
       "      <th>secondary_cleaner.state.floatbank6_a_air</th>\n",
       "      <th>secondary_cleaner.state.floatbank6_a_level</th>\n",
       "      <th>secondary_cleaner.output.tail_au</th>\n",
       "      <th>secondary_cleaner.output.tail_ag</th>\n",
       "      <th>secondary_cleaner.output.tail_pb</th>\n",
       "      <th>secondary_cleaner.output.tail_sol</th>\n",
       "      <th>final.output.concentrate_au</th>\n",
       "      <th>final.output.concentrate_ag</th>\n",
       "      <th>final.output.concentrate_pb</th>\n",
       "      <th>final.output.concentrate_sol</th>\n",
       "      <th>final.output.recovery</th>\n",
       "      <th>final.output.tail_au</th>\n",
       "      <th>final.output.tail_ag</th>\n",
       "      <th>final.output.tail_pb</th>\n",
       "      <th>final.output.tail_sol</th>\n",
       "    </tr>\n",
       "  </thead>\n",
       "  <tbody>\n",
       "    <tr>\n",
       "      <th>0</th>\n",
       "      <td>2016-01-15 00:00:00</td>\n",
       "      <td>6.486150</td>\n",
       "      <td>6.100378</td>\n",
       "      <td>2.284912</td>\n",
       "      <td>36.808594</td>\n",
       "      <td>523.546326</td>\n",
       "      <td>55.486599</td>\n",
       "      <td>11.986616</td>\n",
       "      <td>6.007990</td>\n",
       "      <td>999.706909</td>\n",
       "      <td>-404.066986</td>\n",
       "      <td>1603.011353</td>\n",
       "      <td>-434.715027</td>\n",
       "      <td>1602.375000</td>\n",
       "      <td>-442.204468</td>\n",
       "      <td>1598.937256</td>\n",
       "      <td>-451.294128</td>\n",
       "      <td>1404.472046</td>\n",
       "      <td>-455.462982</td>\n",
       "      <td>1416.354980</td>\n",
       "      <td>-451.939636</td>\n",
       "      <td>11.836743</td>\n",
       "      <td>6.005818</td>\n",
       "      <td>41885.707031</td>\n",
       "      <td>3481.779053</td>\n",
       "      <td>3520.337158</td>\n",
       "      <td>2.838687</td>\n",
       "      <td>19.793808</td>\n",
       "      <td>11.500771</td>\n",
       "      <td>7.101074</td>\n",
       "      <td>28.029297</td>\n",
       "      <td>87.107763</td>\n",
       "      <td>1.170244</td>\n",
       "      <td>5.008018</td>\n",
       "      <td>0.508728</td>\n",
       "      <td>19.154297</td>\n",
       "      <td>127.092003</td>\n",
       "      <td>10.128295</td>\n",
       "      <td>7.25</td>\n",
       "      <td>0.988759</td>\n",
       "      <td>1549.775757</td>\n",
       "      <td>-498.912140</td>\n",
       "      <td>1551.434204</td>\n",
       "      <td>-516.403442</td>\n",
       "      <td>1549.873901</td>\n",
       "      <td>-498.666595</td>\n",
       "      <td>1554.367432</td>\n",
       "      <td>-493.428131</td>\n",
       "      <td>34.174427</td>\n",
       "      <td>8.547551</td>\n",
       "      <td>10.389648</td>\n",
       "      <td>19.529297</td>\n",
       "      <td>2.106679</td>\n",
       "      <td>14.936526</td>\n",
       "      <td>2.534912</td>\n",
       "      <td>7.476074</td>\n",
       "      <td>25.853109</td>\n",
       "      <td>-498.526489</td>\n",
       "      <td>23.893660</td>\n",
       "      <td>-501.406281</td>\n",
       "      <td>23.961798</td>\n",
       "      <td>-495.262817</td>\n",
       "      <td>21.940409</td>\n",
       "      <td>-499.340973</td>\n",
       "      <td>14.016835</td>\n",
       "      <td>-502.488007</td>\n",
       "      <td>12.099931</td>\n",
       "      <td>-504.715942</td>\n",
       "      <td>9.925633</td>\n",
       "      <td>-498.310211</td>\n",
       "      <td>8.079666</td>\n",
       "      <td>-500.470978</td>\n",
       "      <td>14.151341</td>\n",
       "      <td>-605.841980</td>\n",
       "      <td>2.606185</td>\n",
       "      <td>14.500184</td>\n",
       "      <td>4.694824</td>\n",
       "      <td>8.764648</td>\n",
       "      <td>42.192020</td>\n",
       "      <td>6.055403</td>\n",
       "      <td>9.889648</td>\n",
       "      <td>5.507324</td>\n",
       "      <td>70.541216</td>\n",
       "      <td>2.143149</td>\n",
       "      <td>10.411962</td>\n",
       "      <td>0.895447</td>\n",
       "      <td>16.904297</td>\n",
       "    </tr>\n",
       "    <tr>\n",
       "      <th>1</th>\n",
       "      <td>2016-01-15 01:00:00</td>\n",
       "      <td>6.478583</td>\n",
       "      <td>6.161113</td>\n",
       "      <td>2.266033</td>\n",
       "      <td>35.753385</td>\n",
       "      <td>525.290581</td>\n",
       "      <td>57.278666</td>\n",
       "      <td>11.971193</td>\n",
       "      <td>6.005766</td>\n",
       "      <td>1000.286398</td>\n",
       "      <td>-400.065196</td>\n",
       "      <td>1600.754587</td>\n",
       "      <td>-449.953435</td>\n",
       "      <td>1600.479580</td>\n",
       "      <td>-449.830646</td>\n",
       "      <td>1600.527589</td>\n",
       "      <td>-449.953649</td>\n",
       "      <td>1399.227084</td>\n",
       "      <td>-450.869848</td>\n",
       "      <td>1399.719514</td>\n",
       "      <td>-450.119001</td>\n",
       "      <td>11.996163</td>\n",
       "      <td>6.012594</td>\n",
       "      <td>42050.861809</td>\n",
       "      <td>3498.370979</td>\n",
       "      <td>3489.981857</td>\n",
       "      <td>2.858998</td>\n",
       "      <td>20.050975</td>\n",
       "      <td>11.615865</td>\n",
       "      <td>7.278807</td>\n",
       "      <td>28.067063</td>\n",
       "      <td>86.843261</td>\n",
       "      <td>1.184827</td>\n",
       "      <td>4.955378</td>\n",
       "      <td>0.536689</td>\n",
       "      <td>18.965234</td>\n",
       "      <td>125.629232</td>\n",
       "      <td>10.296251</td>\n",
       "      <td>7.25</td>\n",
       "      <td>1.002663</td>\n",
       "      <td>1576.166671</td>\n",
       "      <td>-500.904965</td>\n",
       "      <td>1575.950626</td>\n",
       "      <td>-499.865889</td>\n",
       "      <td>1575.994189</td>\n",
       "      <td>-499.315107</td>\n",
       "      <td>1574.479259</td>\n",
       "      <td>-498.931665</td>\n",
       "      <td>34.118526</td>\n",
       "      <td>8.558743</td>\n",
       "      <td>10.497069</td>\n",
       "      <td>19.369147</td>\n",
       "      <td>2.353017</td>\n",
       "      <td>16.250511</td>\n",
       "      <td>3.049646</td>\n",
       "      <td>6.733907</td>\n",
       "      <td>25.880539</td>\n",
       "      <td>-499.989656</td>\n",
       "      <td>23.889530</td>\n",
       "      <td>-500.372428</td>\n",
       "      <td>23.970550</td>\n",
       "      <td>-500.085473</td>\n",
       "      <td>22.085714</td>\n",
       "      <td>-499.446897</td>\n",
       "      <td>13.992281</td>\n",
       "      <td>-505.503262</td>\n",
       "      <td>11.950531</td>\n",
       "      <td>-501.331529</td>\n",
       "      <td>10.039245</td>\n",
       "      <td>-500.169983</td>\n",
       "      <td>7.984757</td>\n",
       "      <td>-500.582168</td>\n",
       "      <td>13.998353</td>\n",
       "      <td>-599.787184</td>\n",
       "      <td>2.488248</td>\n",
       "      <td>14.265474</td>\n",
       "      <td>4.592547</td>\n",
       "      <td>9.001494</td>\n",
       "      <td>42.701629</td>\n",
       "      <td>6.029369</td>\n",
       "      <td>9.968944</td>\n",
       "      <td>5.257781</td>\n",
       "      <td>69.266198</td>\n",
       "      <td>2.224930</td>\n",
       "      <td>10.462676</td>\n",
       "      <td>0.927452</td>\n",
       "      <td>16.634514</td>\n",
       "    </tr>\n",
       "    <tr>\n",
       "      <th>2</th>\n",
       "      <td>2016-01-15 02:00:00</td>\n",
       "      <td>6.362222</td>\n",
       "      <td>6.116455</td>\n",
       "      <td>2.159622</td>\n",
       "      <td>35.971630</td>\n",
       "      <td>530.026610</td>\n",
       "      <td>57.510649</td>\n",
       "      <td>11.920603</td>\n",
       "      <td>6.197377</td>\n",
       "      <td>999.719565</td>\n",
       "      <td>-400.074028</td>\n",
       "      <td>1599.337330</td>\n",
       "      <td>-450.008530</td>\n",
       "      <td>1599.672797</td>\n",
       "      <td>-449.954491</td>\n",
       "      <td>1599.849325</td>\n",
       "      <td>-449.954185</td>\n",
       "      <td>1399.180945</td>\n",
       "      <td>-449.937588</td>\n",
       "      <td>1400.316682</td>\n",
       "      <td>-450.527147</td>\n",
       "      <td>11.920305</td>\n",
       "      <td>6.204633</td>\n",
       "      <td>42018.101184</td>\n",
       "      <td>3495.348910</td>\n",
       "      <td>3502.359819</td>\n",
       "      <td>2.945989</td>\n",
       "      <td>19.737170</td>\n",
       "      <td>11.695753</td>\n",
       "      <td>7.216833</td>\n",
       "      <td>27.454037</td>\n",
       "      <td>86.842308</td>\n",
       "      <td>1.162562</td>\n",
       "      <td>4.843460</td>\n",
       "      <td>0.546416</td>\n",
       "      <td>18.808533</td>\n",
       "      <td>123.819808</td>\n",
       "      <td>11.316280</td>\n",
       "      <td>7.25</td>\n",
       "      <td>0.991265</td>\n",
       "      <td>1601.556163</td>\n",
       "      <td>-499.997791</td>\n",
       "      <td>1600.386685</td>\n",
       "      <td>-500.607762</td>\n",
       "      <td>1602.003542</td>\n",
       "      <td>-500.870069</td>\n",
       "      <td>1599.541515</td>\n",
       "      <td>-499.827444</td>\n",
       "      <td>33.969464</td>\n",
       "      <td>8.603505</td>\n",
       "      <td>10.354494</td>\n",
       "      <td>19.167579</td>\n",
       "      <td>2.416800</td>\n",
       "      <td>16.491823</td>\n",
       "      <td>3.124664</td>\n",
       "      <td>6.471768</td>\n",
       "      <td>26.005245</td>\n",
       "      <td>-499.929616</td>\n",
       "      <td>23.886657</td>\n",
       "      <td>-499.951928</td>\n",
       "      <td>23.913535</td>\n",
       "      <td>-499.442343</td>\n",
       "      <td>23.957717</td>\n",
       "      <td>-499.901982</td>\n",
       "      <td>14.015015</td>\n",
       "      <td>-502.520901</td>\n",
       "      <td>11.912783</td>\n",
       "      <td>-501.133383</td>\n",
       "      <td>10.070913</td>\n",
       "      <td>-500.129135</td>\n",
       "      <td>8.013877</td>\n",
       "      <td>-500.517572</td>\n",
       "      <td>14.028663</td>\n",
       "      <td>-601.427363</td>\n",
       "      <td>2.458187</td>\n",
       "      <td>14.115662</td>\n",
       "      <td>4.624775</td>\n",
       "      <td>8.842896</td>\n",
       "      <td>42.657501</td>\n",
       "      <td>6.055926</td>\n",
       "      <td>10.213995</td>\n",
       "      <td>5.383759</td>\n",
       "      <td>68.116445</td>\n",
       "      <td>2.257889</td>\n",
       "      <td>10.507046</td>\n",
       "      <td>0.953716</td>\n",
       "      <td>16.208849</td>\n",
       "    </tr>\n",
       "    <tr>\n",
       "      <th>3</th>\n",
       "      <td>2016-01-15 03:00:00</td>\n",
       "      <td>6.118189</td>\n",
       "      <td>6.043309</td>\n",
       "      <td>2.037807</td>\n",
       "      <td>36.862241</td>\n",
       "      <td>542.590390</td>\n",
       "      <td>57.792734</td>\n",
       "      <td>11.630094</td>\n",
       "      <td>6.203177</td>\n",
       "      <td>999.814770</td>\n",
       "      <td>-400.200179</td>\n",
       "      <td>1600.059442</td>\n",
       "      <td>-450.619948</td>\n",
       "      <td>1600.012842</td>\n",
       "      <td>-449.910497</td>\n",
       "      <td>1597.725177</td>\n",
       "      <td>-450.130127</td>\n",
       "      <td>1400.943157</td>\n",
       "      <td>-450.030142</td>\n",
       "      <td>1400.234743</td>\n",
       "      <td>-449.790835</td>\n",
       "      <td>11.692450</td>\n",
       "      <td>6.196578</td>\n",
       "      <td>42029.447991</td>\n",
       "      <td>3498.578313</td>\n",
       "      <td>3499.162912</td>\n",
       "      <td>3.002340</td>\n",
       "      <td>19.320810</td>\n",
       "      <td>11.915047</td>\n",
       "      <td>7.175616</td>\n",
       "      <td>27.341277</td>\n",
       "      <td>87.226430</td>\n",
       "      <td>1.079755</td>\n",
       "      <td>4.655288</td>\n",
       "      <td>0.542525</td>\n",
       "      <td>19.330200</td>\n",
       "      <td>122.270188</td>\n",
       "      <td>11.322140</td>\n",
       "      <td>7.25</td>\n",
       "      <td>0.996739</td>\n",
       "      <td>1599.968720</td>\n",
       "      <td>-500.951778</td>\n",
       "      <td>1600.659236</td>\n",
       "      <td>-499.677094</td>\n",
       "      <td>1600.304144</td>\n",
       "      <td>-500.727997</td>\n",
       "      <td>1600.449520</td>\n",
       "      <td>-500.052575</td>\n",
       "      <td>28.260743</td>\n",
       "      <td>7.221879</td>\n",
       "      <td>8.496563</td>\n",
       "      <td>15.978538</td>\n",
       "      <td>2.262051</td>\n",
       "      <td>16.024359</td>\n",
       "      <td>2.960362</td>\n",
       "      <td>6.843791</td>\n",
       "      <td>25.942508</td>\n",
       "      <td>-499.176749</td>\n",
       "      <td>23.955516</td>\n",
       "      <td>-499.848796</td>\n",
       "      <td>23.966838</td>\n",
       "      <td>-500.008812</td>\n",
       "      <td>23.954443</td>\n",
       "      <td>-499.944710</td>\n",
       "      <td>14.036510</td>\n",
       "      <td>-500.857308</td>\n",
       "      <td>11.999550</td>\n",
       "      <td>-501.193686</td>\n",
       "      <td>9.970366</td>\n",
       "      <td>-499.201640</td>\n",
       "      <td>7.977324</td>\n",
       "      <td>-500.255908</td>\n",
       "      <td>14.005551</td>\n",
       "      <td>-599.996129</td>\n",
       "      <td>2.322062</td>\n",
       "      <td>13.732071</td>\n",
       "      <td>4.482453</td>\n",
       "      <td>9.122857</td>\n",
       "      <td>42.689819</td>\n",
       "      <td>6.047977</td>\n",
       "      <td>9.977019</td>\n",
       "      <td>4.858634</td>\n",
       "      <td>68.347543</td>\n",
       "      <td>2.146849</td>\n",
       "      <td>10.422762</td>\n",
       "      <td>0.883763</td>\n",
       "      <td>16.532835</td>\n",
       "    </tr>\n",
       "    <tr>\n",
       "      <th>4</th>\n",
       "      <td>2016-01-15 04:00:00</td>\n",
       "      <td>5.663707</td>\n",
       "      <td>6.060915</td>\n",
       "      <td>1.786875</td>\n",
       "      <td>34.347666</td>\n",
       "      <td>540.531893</td>\n",
       "      <td>56.047189</td>\n",
       "      <td>10.957755</td>\n",
       "      <td>6.198826</td>\n",
       "      <td>999.678690</td>\n",
       "      <td>-399.752729</td>\n",
       "      <td>1600.208824</td>\n",
       "      <td>-449.599614</td>\n",
       "      <td>1600.357732</td>\n",
       "      <td>-450.034364</td>\n",
       "      <td>1599.759049</td>\n",
       "      <td>-449.909799</td>\n",
       "      <td>1401.560902</td>\n",
       "      <td>-448.877187</td>\n",
       "      <td>1401.160227</td>\n",
       "      <td>-450.407128</td>\n",
       "      <td>10.960521</td>\n",
       "      <td>6.194897</td>\n",
       "      <td>42125.354245</td>\n",
       "      <td>3494.800771</td>\n",
       "      <td>3506.679315</td>\n",
       "      <td>3.169615</td>\n",
       "      <td>19.216101</td>\n",
       "      <td>12.411054</td>\n",
       "      <td>7.240205</td>\n",
       "      <td>27.041023</td>\n",
       "      <td>86.688794</td>\n",
       "      <td>1.012642</td>\n",
       "      <td>4.552800</td>\n",
       "      <td>0.515438</td>\n",
       "      <td>19.267422</td>\n",
       "      <td>117.988169</td>\n",
       "      <td>11.913613</td>\n",
       "      <td>7.25</td>\n",
       "      <td>1.009869</td>\n",
       "      <td>1601.339707</td>\n",
       "      <td>-498.975456</td>\n",
       "      <td>1601.437854</td>\n",
       "      <td>-500.323246</td>\n",
       "      <td>1599.581894</td>\n",
       "      <td>-500.888152</td>\n",
       "      <td>1602.649541</td>\n",
       "      <td>-500.593010</td>\n",
       "      <td>33.044932</td>\n",
       "      <td>9.089428</td>\n",
       "      <td>9.986786</td>\n",
       "      <td>19.199864</td>\n",
       "      <td>2.277073</td>\n",
       "      <td>16.480185</td>\n",
       "      <td>3.112100</td>\n",
       "      <td>6.550154</td>\n",
       "      <td>26.024787</td>\n",
       "      <td>-500.279091</td>\n",
       "      <td>23.955345</td>\n",
       "      <td>-500.593614</td>\n",
       "      <td>23.985703</td>\n",
       "      <td>-500.083811</td>\n",
       "      <td>23.958945</td>\n",
       "      <td>-499.990309</td>\n",
       "      <td>14.027298</td>\n",
       "      <td>-499.838632</td>\n",
       "      <td>11.953070</td>\n",
       "      <td>-501.053894</td>\n",
       "      <td>9.925709</td>\n",
       "      <td>-501.686727</td>\n",
       "      <td>7.894242</td>\n",
       "      <td>-500.356035</td>\n",
       "      <td>13.996647</td>\n",
       "      <td>-601.496691</td>\n",
       "      <td>2.330448</td>\n",
       "      <td>14.079996</td>\n",
       "      <td>4.470737</td>\n",
       "      <td>8.871028</td>\n",
       "      <td>42.774141</td>\n",
       "      <td>6.148599</td>\n",
       "      <td>10.142511</td>\n",
       "      <td>4.939416</td>\n",
       "      <td>66.927016</td>\n",
       "      <td>2.055292</td>\n",
       "      <td>10.360302</td>\n",
       "      <td>0.792826</td>\n",
       "      <td>16.525686</td>\n",
       "    </tr>\n",
       "  </tbody>\n",
       "</table>\n",
       "</div>"
      ],
      "text/plain": [
       "                  date  rougher.input.feed_au  rougher.input.feed_ag  \\\n",
       "0  2016-01-15 00:00:00               6.486150               6.100378   \n",
       "1  2016-01-15 01:00:00               6.478583               6.161113   \n",
       "2  2016-01-15 02:00:00               6.362222               6.116455   \n",
       "3  2016-01-15 03:00:00               6.118189               6.043309   \n",
       "4  2016-01-15 04:00:00               5.663707               6.060915   \n",
       "\n",
       "   rougher.input.feed_pb  rougher.input.feed_sol  rougher.input.feed_rate  \\\n",
       "0               2.284912               36.808594               523.546326   \n",
       "1               2.266033               35.753385               525.290581   \n",
       "2               2.159622               35.971630               530.026610   \n",
       "3               2.037807               36.862241               542.590390   \n",
       "4               1.786875               34.347666               540.531893   \n",
       "\n",
       "   rougher.input.feed_size  rougher.input.floatbank10_sulfate  \\\n",
       "0                55.486599                          11.986616   \n",
       "1                57.278666                          11.971193   \n",
       "2                57.510649                          11.920603   \n",
       "3                57.792734                          11.630094   \n",
       "4                56.047189                          10.957755   \n",
       "\n",
       "   rougher.input.floatbank10_xanthate  rougher.state.floatbank10_a_air  \\\n",
       "0                            6.007990                       999.706909   \n",
       "1                            6.005766                      1000.286398   \n",
       "2                            6.197377                       999.719565   \n",
       "3                            6.203177                       999.814770   \n",
       "4                            6.198826                       999.678690   \n",
       "\n",
       "   rougher.state.floatbank10_a_level  rougher.state.floatbank10_b_air  \\\n",
       "0                        -404.066986                      1603.011353   \n",
       "1                        -400.065196                      1600.754587   \n",
       "2                        -400.074028                      1599.337330   \n",
       "3                        -400.200179                      1600.059442   \n",
       "4                        -399.752729                      1600.208824   \n",
       "\n",
       "   rougher.state.floatbank10_b_level  rougher.state.floatbank10_c_air  \\\n",
       "0                        -434.715027                      1602.375000   \n",
       "1                        -449.953435                      1600.479580   \n",
       "2                        -450.008530                      1599.672797   \n",
       "3                        -450.619948                      1600.012842   \n",
       "4                        -449.599614                      1600.357732   \n",
       "\n",
       "   rougher.state.floatbank10_c_level  rougher.state.floatbank10_d_air  \\\n",
       "0                        -442.204468                      1598.937256   \n",
       "1                        -449.830646                      1600.527589   \n",
       "2                        -449.954491                      1599.849325   \n",
       "3                        -449.910497                      1597.725177   \n",
       "4                        -450.034364                      1599.759049   \n",
       "\n",
       "   rougher.state.floatbank10_d_level  rougher.state.floatbank10_e_air  \\\n",
       "0                        -451.294128                      1404.472046   \n",
       "1                        -449.953649                      1399.227084   \n",
       "2                        -449.954185                      1399.180945   \n",
       "3                        -450.130127                      1400.943157   \n",
       "4                        -449.909799                      1401.560902   \n",
       "\n",
       "   rougher.state.floatbank10_e_level  rougher.state.floatbank10_f_air  \\\n",
       "0                        -455.462982                      1416.354980   \n",
       "1                        -450.869848                      1399.719514   \n",
       "2                        -449.937588                      1400.316682   \n",
       "3                        -450.030142                      1400.234743   \n",
       "4                        -448.877187                      1401.160227   \n",
       "\n",
       "   rougher.state.floatbank10_f_level  rougher.input.floatbank11_sulfate  \\\n",
       "0                        -451.939636                          11.836743   \n",
       "1                        -450.119001                          11.996163   \n",
       "2                        -450.527147                          11.920305   \n",
       "3                        -449.790835                          11.692450   \n",
       "4                        -450.407128                          10.960521   \n",
       "\n",
       "   rougher.input.floatbank11_xanthate  \\\n",
       "0                            6.005818   \n",
       "1                            6.012594   \n",
       "2                            6.204633   \n",
       "3                            6.196578   \n",
       "4                            6.194897   \n",
       "\n",
       "   rougher.calculation.sulfate_to_au_concentrate  \\\n",
       "0                                   41885.707031   \n",
       "1                                   42050.861809   \n",
       "2                                   42018.101184   \n",
       "3                                   42029.447991   \n",
       "4                                   42125.354245   \n",
       "\n",
       "   rougher.calculation.floatbank10_sulfate_to_au_feed  \\\n",
       "0                                        3481.779053    \n",
       "1                                        3498.370979    \n",
       "2                                        3495.348910    \n",
       "3                                        3498.578313    \n",
       "4                                        3494.800771    \n",
       "\n",
       "   rougher.calculation.floatbank11_sulfate_to_au_feed  \\\n",
       "0                                        3520.337158    \n",
       "1                                        3489.981857    \n",
       "2                                        3502.359819    \n",
       "3                                        3499.162912    \n",
       "4                                        3506.679315    \n",
       "\n",
       "   rougher.calculation.au_pb_ratio  rougher.output.concentrate_au  \\\n",
       "0                         2.838687                      19.793808   \n",
       "1                         2.858998                      20.050975   \n",
       "2                         2.945989                      19.737170   \n",
       "3                         3.002340                      19.320810   \n",
       "4                         3.169615                      19.216101   \n",
       "\n",
       "   rougher.output.concentrate_ag  rougher.output.concentrate_pb  \\\n",
       "0                      11.500771                       7.101074   \n",
       "1                      11.615865                       7.278807   \n",
       "2                      11.695753                       7.216833   \n",
       "3                      11.915047                       7.175616   \n",
       "4                      12.411054                       7.240205   \n",
       "\n",
       "   rougher.output.concentrate_sol  rougher.output.recovery  \\\n",
       "0                       28.029297                87.107763   \n",
       "1                       28.067063                86.843261   \n",
       "2                       27.454037                86.842308   \n",
       "3                       27.341277                87.226430   \n",
       "4                       27.041023                86.688794   \n",
       "\n",
       "   rougher.output.tail_au  rougher.output.tail_ag  rougher.output.tail_pb  \\\n",
       "0                1.170244                5.008018                0.508728   \n",
       "1                1.184827                4.955378                0.536689   \n",
       "2                1.162562                4.843460                0.546416   \n",
       "3                1.079755                4.655288                0.542525   \n",
       "4                1.012642                4.552800                0.515438   \n",
       "\n",
       "   rougher.output.tail_sol  primary_cleaner.input.sulfate  \\\n",
       "0                19.154297                     127.092003   \n",
       "1                18.965234                     125.629232   \n",
       "2                18.808533                     123.819808   \n",
       "3                19.330200                     122.270188   \n",
       "4                19.267422                     117.988169   \n",
       "\n",
       "   primary_cleaner.input.depressant  primary_cleaner.input.feed_size  \\\n",
       "0                         10.128295                             7.25   \n",
       "1                         10.296251                             7.25   \n",
       "2                         11.316280                             7.25   \n",
       "3                         11.322140                             7.25   \n",
       "4                         11.913613                             7.25   \n",
       "\n",
       "   primary_cleaner.input.xanthate  primary_cleaner.state.floatbank8_a_air  \\\n",
       "0                        0.988759                             1549.775757   \n",
       "1                        1.002663                             1576.166671   \n",
       "2                        0.991265                             1601.556163   \n",
       "3                        0.996739                             1599.968720   \n",
       "4                        1.009869                             1601.339707   \n",
       "\n",
       "   primary_cleaner.state.floatbank8_a_level  \\\n",
       "0                               -498.912140   \n",
       "1                               -500.904965   \n",
       "2                               -499.997791   \n",
       "3                               -500.951778   \n",
       "4                               -498.975456   \n",
       "\n",
       "   primary_cleaner.state.floatbank8_b_air  \\\n",
       "0                             1551.434204   \n",
       "1                             1575.950626   \n",
       "2                             1600.386685   \n",
       "3                             1600.659236   \n",
       "4                             1601.437854   \n",
       "\n",
       "   primary_cleaner.state.floatbank8_b_level  \\\n",
       "0                               -516.403442   \n",
       "1                               -499.865889   \n",
       "2                               -500.607762   \n",
       "3                               -499.677094   \n",
       "4                               -500.323246   \n",
       "\n",
       "   primary_cleaner.state.floatbank8_c_air  \\\n",
       "0                             1549.873901   \n",
       "1                             1575.994189   \n",
       "2                             1602.003542   \n",
       "3                             1600.304144   \n",
       "4                             1599.581894   \n",
       "\n",
       "   primary_cleaner.state.floatbank8_c_level  \\\n",
       "0                               -498.666595   \n",
       "1                               -499.315107   \n",
       "2                               -500.870069   \n",
       "3                               -500.727997   \n",
       "4                               -500.888152   \n",
       "\n",
       "   primary_cleaner.state.floatbank8_d_air  \\\n",
       "0                             1554.367432   \n",
       "1                             1574.479259   \n",
       "2                             1599.541515   \n",
       "3                             1600.449520   \n",
       "4                             1602.649541   \n",
       "\n",
       "   primary_cleaner.state.floatbank8_d_level  \\\n",
       "0                               -493.428131   \n",
       "1                               -498.931665   \n",
       "2                               -499.827444   \n",
       "3                               -500.052575   \n",
       "4                               -500.593010   \n",
       "\n",
       "   primary_cleaner.output.concentrate_au  \\\n",
       "0                              34.174427   \n",
       "1                              34.118526   \n",
       "2                              33.969464   \n",
       "3                              28.260743   \n",
       "4                              33.044932   \n",
       "\n",
       "   primary_cleaner.output.concentrate_ag  \\\n",
       "0                               8.547551   \n",
       "1                               8.558743   \n",
       "2                               8.603505   \n",
       "3                               7.221879   \n",
       "4                               9.089428   \n",
       "\n",
       "   primary_cleaner.output.concentrate_pb  \\\n",
       "0                              10.389648   \n",
       "1                              10.497069   \n",
       "2                              10.354494   \n",
       "3                               8.496563   \n",
       "4                               9.986786   \n",
       "\n",
       "   primary_cleaner.output.concentrate_sol  primary_cleaner.output.tail_au  \\\n",
       "0                               19.529297                        2.106679   \n",
       "1                               19.369147                        2.353017   \n",
       "2                               19.167579                        2.416800   \n",
       "3                               15.978538                        2.262051   \n",
       "4                               19.199864                        2.277073   \n",
       "\n",
       "   primary_cleaner.output.tail_ag  primary_cleaner.output.tail_pb  \\\n",
       "0                       14.936526                        2.534912   \n",
       "1                       16.250511                        3.049646   \n",
       "2                       16.491823                        3.124664   \n",
       "3                       16.024359                        2.960362   \n",
       "4                       16.480185                        3.112100   \n",
       "\n",
       "   primary_cleaner.output.tail_sol  secondary_cleaner.state.floatbank2_a_air  \\\n",
       "0                         7.476074                                 25.853109   \n",
       "1                         6.733907                                 25.880539   \n",
       "2                         6.471768                                 26.005245   \n",
       "3                         6.843791                                 25.942508   \n",
       "4                         6.550154                                 26.024787   \n",
       "\n",
       "   secondary_cleaner.state.floatbank2_a_level  \\\n",
       "0                                 -498.526489   \n",
       "1                                 -499.989656   \n",
       "2                                 -499.929616   \n",
       "3                                 -499.176749   \n",
       "4                                 -500.279091   \n",
       "\n",
       "   secondary_cleaner.state.floatbank2_b_air  \\\n",
       "0                                 23.893660   \n",
       "1                                 23.889530   \n",
       "2                                 23.886657   \n",
       "3                                 23.955516   \n",
       "4                                 23.955345   \n",
       "\n",
       "   secondary_cleaner.state.floatbank2_b_level  \\\n",
       "0                                 -501.406281   \n",
       "1                                 -500.372428   \n",
       "2                                 -499.951928   \n",
       "3                                 -499.848796   \n",
       "4                                 -500.593614   \n",
       "\n",
       "   secondary_cleaner.state.floatbank3_a_air  \\\n",
       "0                                 23.961798   \n",
       "1                                 23.970550   \n",
       "2                                 23.913535   \n",
       "3                                 23.966838   \n",
       "4                                 23.985703   \n",
       "\n",
       "   secondary_cleaner.state.floatbank3_a_level  \\\n",
       "0                                 -495.262817   \n",
       "1                                 -500.085473   \n",
       "2                                 -499.442343   \n",
       "3                                 -500.008812   \n",
       "4                                 -500.083811   \n",
       "\n",
       "   secondary_cleaner.state.floatbank3_b_air  \\\n",
       "0                                 21.940409   \n",
       "1                                 22.085714   \n",
       "2                                 23.957717   \n",
       "3                                 23.954443   \n",
       "4                                 23.958945   \n",
       "\n",
       "   secondary_cleaner.state.floatbank3_b_level  \\\n",
       "0                                 -499.340973   \n",
       "1                                 -499.446897   \n",
       "2                                 -499.901982   \n",
       "3                                 -499.944710   \n",
       "4                                 -499.990309   \n",
       "\n",
       "   secondary_cleaner.state.floatbank4_a_air  \\\n",
       "0                                 14.016835   \n",
       "1                                 13.992281   \n",
       "2                                 14.015015   \n",
       "3                                 14.036510   \n",
       "4                                 14.027298   \n",
       "\n",
       "   secondary_cleaner.state.floatbank4_a_level  \\\n",
       "0                                 -502.488007   \n",
       "1                                 -505.503262   \n",
       "2                                 -502.520901   \n",
       "3                                 -500.857308   \n",
       "4                                 -499.838632   \n",
       "\n",
       "   secondary_cleaner.state.floatbank4_b_air  \\\n",
       "0                                 12.099931   \n",
       "1                                 11.950531   \n",
       "2                                 11.912783   \n",
       "3                                 11.999550   \n",
       "4                                 11.953070   \n",
       "\n",
       "   secondary_cleaner.state.floatbank4_b_level  \\\n",
       "0                                 -504.715942   \n",
       "1                                 -501.331529   \n",
       "2                                 -501.133383   \n",
       "3                                 -501.193686   \n",
       "4                                 -501.053894   \n",
       "\n",
       "   secondary_cleaner.state.floatbank5_a_air  \\\n",
       "0                                  9.925633   \n",
       "1                                 10.039245   \n",
       "2                                 10.070913   \n",
       "3                                  9.970366   \n",
       "4                                  9.925709   \n",
       "\n",
       "   secondary_cleaner.state.floatbank5_a_level  \\\n",
       "0                                 -498.310211   \n",
       "1                                 -500.169983   \n",
       "2                                 -500.129135   \n",
       "3                                 -499.201640   \n",
       "4                                 -501.686727   \n",
       "\n",
       "   secondary_cleaner.state.floatbank5_b_air  \\\n",
       "0                                  8.079666   \n",
       "1                                  7.984757   \n",
       "2                                  8.013877   \n",
       "3                                  7.977324   \n",
       "4                                  7.894242   \n",
       "\n",
       "   secondary_cleaner.state.floatbank5_b_level  \\\n",
       "0                                 -500.470978   \n",
       "1                                 -500.582168   \n",
       "2                                 -500.517572   \n",
       "3                                 -500.255908   \n",
       "4                                 -500.356035   \n",
       "\n",
       "   secondary_cleaner.state.floatbank6_a_air  \\\n",
       "0                                 14.151341   \n",
       "1                                 13.998353   \n",
       "2                                 14.028663   \n",
       "3                                 14.005551   \n",
       "4                                 13.996647   \n",
       "\n",
       "   secondary_cleaner.state.floatbank6_a_level  \\\n",
       "0                                 -605.841980   \n",
       "1                                 -599.787184   \n",
       "2                                 -601.427363   \n",
       "3                                 -599.996129   \n",
       "4                                 -601.496691   \n",
       "\n",
       "   secondary_cleaner.output.tail_au  secondary_cleaner.output.tail_ag  \\\n",
       "0                          2.606185                         14.500184   \n",
       "1                          2.488248                         14.265474   \n",
       "2                          2.458187                         14.115662   \n",
       "3                          2.322062                         13.732071   \n",
       "4                          2.330448                         14.079996   \n",
       "\n",
       "   secondary_cleaner.output.tail_pb  secondary_cleaner.output.tail_sol  \\\n",
       "0                          4.694824                           8.764648   \n",
       "1                          4.592547                           9.001494   \n",
       "2                          4.624775                           8.842896   \n",
       "3                          4.482453                           9.122857   \n",
       "4                          4.470737                           8.871028   \n",
       "\n",
       "   final.output.concentrate_au  final.output.concentrate_ag  \\\n",
       "0                    42.192020                     6.055403   \n",
       "1                    42.701629                     6.029369   \n",
       "2                    42.657501                     6.055926   \n",
       "3                    42.689819                     6.047977   \n",
       "4                    42.774141                     6.148599   \n",
       "\n",
       "   final.output.concentrate_pb  final.output.concentrate_sol  \\\n",
       "0                     9.889648                      5.507324   \n",
       "1                     9.968944                      5.257781   \n",
       "2                    10.213995                      5.383759   \n",
       "3                     9.977019                      4.858634   \n",
       "4                    10.142511                      4.939416   \n",
       "\n",
       "   final.output.recovery  final.output.tail_au  final.output.tail_ag  \\\n",
       "0              70.541216              2.143149             10.411962   \n",
       "1              69.266198              2.224930             10.462676   \n",
       "2              68.116445              2.257889             10.507046   \n",
       "3              68.347543              2.146849             10.422762   \n",
       "4              66.927016              2.055292             10.360302   \n",
       "\n",
       "   final.output.tail_pb  final.output.tail_sol  \n",
       "0              0.895447              16.904297  \n",
       "1              0.927452              16.634514  \n",
       "2              0.953716              16.208849  \n",
       "3              0.883763              16.532835  \n",
       "4              0.792826              16.525686  "
      ]
     },
     "metadata": {},
     "output_type": "display_data"
    },
    {
     "name": "stdout",
     "output_type": "stream",
     "text": [
      "\n",
      "Тестовая выборка\n"
     ]
    },
    {
     "data": {
      "text/html": [
       "<div>\n",
       "<style scoped>\n",
       "    .dataframe tbody tr th:only-of-type {\n",
       "        vertical-align: middle;\n",
       "    }\n",
       "\n",
       "    .dataframe tbody tr th {\n",
       "        vertical-align: top;\n",
       "    }\n",
       "\n",
       "    .dataframe thead th {\n",
       "        text-align: right;\n",
       "    }\n",
       "</style>\n",
       "<table border=\"1\" class=\"dataframe\">\n",
       "  <thead>\n",
       "    <tr style=\"text-align: right;\">\n",
       "      <th></th>\n",
       "      <th>date</th>\n",
       "      <th>rougher.input.feed_au</th>\n",
       "      <th>rougher.input.feed_ag</th>\n",
       "      <th>rougher.input.feed_pb</th>\n",
       "      <th>rougher.input.feed_sol</th>\n",
       "      <th>rougher.input.feed_rate</th>\n",
       "      <th>rougher.input.feed_size</th>\n",
       "      <th>rougher.input.floatbank10_sulfate</th>\n",
       "      <th>rougher.input.floatbank10_xanthate</th>\n",
       "      <th>rougher.state.floatbank10_a_air</th>\n",
       "      <th>rougher.state.floatbank10_a_level</th>\n",
       "      <th>rougher.state.floatbank10_b_air</th>\n",
       "      <th>rougher.state.floatbank10_b_level</th>\n",
       "      <th>rougher.state.floatbank10_c_air</th>\n",
       "      <th>rougher.state.floatbank10_c_level</th>\n",
       "      <th>rougher.state.floatbank10_d_air</th>\n",
       "      <th>rougher.state.floatbank10_d_level</th>\n",
       "      <th>rougher.state.floatbank10_e_air</th>\n",
       "      <th>rougher.state.floatbank10_e_level</th>\n",
       "      <th>rougher.state.floatbank10_f_air</th>\n",
       "      <th>rougher.state.floatbank10_f_level</th>\n",
       "      <th>rougher.input.floatbank11_sulfate</th>\n",
       "      <th>rougher.input.floatbank11_xanthate</th>\n",
       "      <th>primary_cleaner.input.sulfate</th>\n",
       "      <th>primary_cleaner.input.depressant</th>\n",
       "      <th>primary_cleaner.input.feed_size</th>\n",
       "      <th>primary_cleaner.input.xanthate</th>\n",
       "      <th>primary_cleaner.state.floatbank8_a_air</th>\n",
       "      <th>primary_cleaner.state.floatbank8_a_level</th>\n",
       "      <th>primary_cleaner.state.floatbank8_b_air</th>\n",
       "      <th>primary_cleaner.state.floatbank8_b_level</th>\n",
       "      <th>primary_cleaner.state.floatbank8_c_air</th>\n",
       "      <th>primary_cleaner.state.floatbank8_c_level</th>\n",
       "      <th>primary_cleaner.state.floatbank8_d_air</th>\n",
       "      <th>primary_cleaner.state.floatbank8_d_level</th>\n",
       "      <th>secondary_cleaner.state.floatbank2_a_air</th>\n",
       "      <th>secondary_cleaner.state.floatbank2_a_level</th>\n",
       "      <th>secondary_cleaner.state.floatbank2_b_air</th>\n",
       "      <th>secondary_cleaner.state.floatbank2_b_level</th>\n",
       "      <th>secondary_cleaner.state.floatbank3_a_air</th>\n",
       "      <th>secondary_cleaner.state.floatbank3_a_level</th>\n",
       "      <th>secondary_cleaner.state.floatbank3_b_air</th>\n",
       "      <th>secondary_cleaner.state.floatbank3_b_level</th>\n",
       "      <th>secondary_cleaner.state.floatbank4_a_air</th>\n",
       "      <th>secondary_cleaner.state.floatbank4_a_level</th>\n",
       "      <th>secondary_cleaner.state.floatbank4_b_air</th>\n",
       "      <th>secondary_cleaner.state.floatbank4_b_level</th>\n",
       "      <th>secondary_cleaner.state.floatbank5_a_air</th>\n",
       "      <th>secondary_cleaner.state.floatbank5_a_level</th>\n",
       "      <th>secondary_cleaner.state.floatbank5_b_air</th>\n",
       "      <th>secondary_cleaner.state.floatbank5_b_level</th>\n",
       "      <th>secondary_cleaner.state.floatbank6_a_air</th>\n",
       "      <th>secondary_cleaner.state.floatbank6_a_level</th>\n",
       "    </tr>\n",
       "  </thead>\n",
       "  <tbody>\n",
       "    <tr>\n",
       "      <th>0</th>\n",
       "      <td>2017-12-09 14:59:59</td>\n",
       "      <td>4.365491</td>\n",
       "      <td>6.158718</td>\n",
       "      <td>3.875727</td>\n",
       "      <td>39.135119</td>\n",
       "      <td>555.820208</td>\n",
       "      <td>94.544358</td>\n",
       "      <td>6.146982</td>\n",
       "      <td>9.308612</td>\n",
       "      <td>1196.238112</td>\n",
       "      <td>-299.862743</td>\n",
       "      <td>1147.248241</td>\n",
       "      <td>-500.363165</td>\n",
       "      <td>1047.279065</td>\n",
       "      <td>-500.354091</td>\n",
       "      <td>948.756608</td>\n",
       "      <td>-498.439416</td>\n",
       "      <td>849.441918</td>\n",
       "      <td>-499.255503</td>\n",
       "      <td>850.112246</td>\n",
       "      <td>-499.407112</td>\n",
       "      <td>6.168939</td>\n",
       "      <td>9.309852</td>\n",
       "      <td>95.248427</td>\n",
       "      <td>8.078957</td>\n",
       "      <td>6.500000</td>\n",
       "      <td>1.283045</td>\n",
       "      <td>1648.759906</td>\n",
       "      <td>-399.862053</td>\n",
       "      <td>1650.135395</td>\n",
       "      <td>-399.957321</td>\n",
       "      <td>1648.831890</td>\n",
       "      <td>-400.586116</td>\n",
       "      <td>1649.464582</td>\n",
       "      <td>-400.673303</td>\n",
       "      <td>34.940919</td>\n",
       "      <td>-500.150510</td>\n",
       "      <td>30.031867</td>\n",
       "      <td>-500.328335</td>\n",
       "      <td>26.033990</td>\n",
       "      <td>-500.147792</td>\n",
       "      <td>22.952306</td>\n",
       "      <td>-500.037678</td>\n",
       "      <td>23.018622</td>\n",
       "      <td>-500.492702</td>\n",
       "      <td>20.020205</td>\n",
       "      <td>-500.220296</td>\n",
       "      <td>17.963512</td>\n",
       "      <td>-499.939490</td>\n",
       "      <td>12.990306</td>\n",
       "      <td>-500.080993</td>\n",
       "      <td>19.990336</td>\n",
       "      <td>-499.191575</td>\n",
       "    </tr>\n",
       "    <tr>\n",
       "      <th>1</th>\n",
       "      <td>2017-12-09 15:59:59</td>\n",
       "      <td>4.362781</td>\n",
       "      <td>6.048130</td>\n",
       "      <td>3.902537</td>\n",
       "      <td>39.713906</td>\n",
       "      <td>544.731687</td>\n",
       "      <td>123.742430</td>\n",
       "      <td>6.210119</td>\n",
       "      <td>9.297709</td>\n",
       "      <td>1201.904177</td>\n",
       "      <td>-299.907308</td>\n",
       "      <td>1154.087804</td>\n",
       "      <td>-500.036580</td>\n",
       "      <td>1054.009756</td>\n",
       "      <td>-500.237335</td>\n",
       "      <td>944.138793</td>\n",
       "      <td>-496.866953</td>\n",
       "      <td>851.589767</td>\n",
       "      <td>-499.040466</td>\n",
       "      <td>851.345606</td>\n",
       "      <td>-499.122561</td>\n",
       "      <td>6.209517</td>\n",
       "      <td>9.297194</td>\n",
       "      <td>98.880538</td>\n",
       "      <td>7.984164</td>\n",
       "      <td>6.500000</td>\n",
       "      <td>1.241969</td>\n",
       "      <td>1646.547763</td>\n",
       "      <td>-398.977083</td>\n",
       "      <td>1648.212240</td>\n",
       "      <td>-400.383265</td>\n",
       "      <td>1648.917387</td>\n",
       "      <td>-399.521344</td>\n",
       "      <td>1651.498591</td>\n",
       "      <td>-399.745329</td>\n",
       "      <td>34.980742</td>\n",
       "      <td>-498.131002</td>\n",
       "      <td>29.968453</td>\n",
       "      <td>-586.013330</td>\n",
       "      <td>25.971737</td>\n",
       "      <td>-499.608392</td>\n",
       "      <td>22.958448</td>\n",
       "      <td>-499.821308</td>\n",
       "      <td>23.024963</td>\n",
       "      <td>-501.153409</td>\n",
       "      <td>20.054122</td>\n",
       "      <td>-500.314711</td>\n",
       "      <td>17.979515</td>\n",
       "      <td>-499.272871</td>\n",
       "      <td>12.992404</td>\n",
       "      <td>-499.976268</td>\n",
       "      <td>20.013986</td>\n",
       "      <td>-500.625471</td>\n",
       "    </tr>\n",
       "    <tr>\n",
       "      <th>2</th>\n",
       "      <td>2017-12-09 16:59:59</td>\n",
       "      <td>5.081681</td>\n",
       "      <td>6.082745</td>\n",
       "      <td>4.564078</td>\n",
       "      <td>37.208683</td>\n",
       "      <td>558.155110</td>\n",
       "      <td>82.610855</td>\n",
       "      <td>7.363824</td>\n",
       "      <td>9.003562</td>\n",
       "      <td>1200.826926</td>\n",
       "      <td>-300.124116</td>\n",
       "      <td>1150.754676</td>\n",
       "      <td>-499.986009</td>\n",
       "      <td>1049.182824</td>\n",
       "      <td>-500.014696</td>\n",
       "      <td>948.085464</td>\n",
       "      <td>-499.997003</td>\n",
       "      <td>850.170086</td>\n",
       "      <td>-500.270334</td>\n",
       "      <td>849.557905</td>\n",
       "      <td>-500.198702</td>\n",
       "      <td>7.358308</td>\n",
       "      <td>9.000624</td>\n",
       "      <td>119.497545</td>\n",
       "      <td>8.003752</td>\n",
       "      <td>6.500000</td>\n",
       "      <td>1.259741</td>\n",
       "      <td>1647.368779</td>\n",
       "      <td>-399.788506</td>\n",
       "      <td>1648.395206</td>\n",
       "      <td>-400.166490</td>\n",
       "      <td>1648.953828</td>\n",
       "      <td>-400.468641</td>\n",
       "      <td>1649.821569</td>\n",
       "      <td>-400.071884</td>\n",
       "      <td>34.952967</td>\n",
       "      <td>-501.204647</td>\n",
       "      <td>29.927025</td>\n",
       "      <td>-500.106628</td>\n",
       "      <td>25.978253</td>\n",
       "      <td>-499.890060</td>\n",
       "      <td>23.004376</td>\n",
       "      <td>-500.014529</td>\n",
       "      <td>22.993827</td>\n",
       "      <td>-501.559663</td>\n",
       "      <td>20.029144</td>\n",
       "      <td>-500.000662</td>\n",
       "      <td>18.012723</td>\n",
       "      <td>-500.024764</td>\n",
       "      <td>13.016445</td>\n",
       "      <td>-500.058432</td>\n",
       "      <td>19.973767</td>\n",
       "      <td>-501.394155</td>\n",
       "    </tr>\n",
       "    <tr>\n",
       "      <th>3</th>\n",
       "      <td>2017-12-09 17:59:59</td>\n",
       "      <td>5.145949</td>\n",
       "      <td>6.084374</td>\n",
       "      <td>4.768124</td>\n",
       "      <td>36.808874</td>\n",
       "      <td>539.713765</td>\n",
       "      <td>77.984784</td>\n",
       "      <td>6.927072</td>\n",
       "      <td>8.955597</td>\n",
       "      <td>1199.292489</td>\n",
       "      <td>-299.778385</td>\n",
       "      <td>1152.512559</td>\n",
       "      <td>-500.338106</td>\n",
       "      <td>1052.601592</td>\n",
       "      <td>-499.695075</td>\n",
       "      <td>955.171539</td>\n",
       "      <td>-500.294989</td>\n",
       "      <td>851.957342</td>\n",
       "      <td>-499.779541</td>\n",
       "      <td>850.765662</td>\n",
       "      <td>-501.030559</td>\n",
       "      <td>6.929364</td>\n",
       "      <td>8.920717</td>\n",
       "      <td>108.080163</td>\n",
       "      <td>7.970121</td>\n",
       "      <td>6.660000</td>\n",
       "      <td>0.774909</td>\n",
       "      <td>1652.660845</td>\n",
       "      <td>-399.702218</td>\n",
       "      <td>1651.203128</td>\n",
       "      <td>-400.291472</td>\n",
       "      <td>1651.924848</td>\n",
       "      <td>-398.058033</td>\n",
       "      <td>1650.782696</td>\n",
       "      <td>-399.597977</td>\n",
       "      <td>35.038256</td>\n",
       "      <td>-500.102649</td>\n",
       "      <td>30.066959</td>\n",
       "      <td>-500.211499</td>\n",
       "      <td>26.013515</td>\n",
       "      <td>-500.054597</td>\n",
       "      <td>22.988928</td>\n",
       "      <td>-499.981410</td>\n",
       "      <td>23.032807</td>\n",
       "      <td>-501.287889</td>\n",
       "      <td>19.977466</td>\n",
       "      <td>-500.159903</td>\n",
       "      <td>17.980463</td>\n",
       "      <td>-500.504602</td>\n",
       "      <td>12.949071</td>\n",
       "      <td>-500.009937</td>\n",
       "      <td>20.010332</td>\n",
       "      <td>-508.337973</td>\n",
       "    </tr>\n",
       "    <tr>\n",
       "      <th>4</th>\n",
       "      <td>2017-12-09 18:59:59</td>\n",
       "      <td>5.735249</td>\n",
       "      <td>6.165220</td>\n",
       "      <td>4.512346</td>\n",
       "      <td>37.810642</td>\n",
       "      <td>558.713584</td>\n",
       "      <td>86.434874</td>\n",
       "      <td>7.823471</td>\n",
       "      <td>7.490356</td>\n",
       "      <td>1198.005449</td>\n",
       "      <td>-300.283401</td>\n",
       "      <td>1099.481500</td>\n",
       "      <td>-499.702465</td>\n",
       "      <td>999.539264</td>\n",
       "      <td>-499.306051</td>\n",
       "      <td>889.445596</td>\n",
       "      <td>-498.118617</td>\n",
       "      <td>800.533525</td>\n",
       "      <td>-499.765068</td>\n",
       "      <td>800.510356</td>\n",
       "      <td>-497.289533</td>\n",
       "      <td>7.824875</td>\n",
       "      <td>7.500678</td>\n",
       "      <td>117.750648</td>\n",
       "      <td>6.954311</td>\n",
       "      <td>6.426667</td>\n",
       "      <td>0.731271</td>\n",
       "      <td>1649.411497</td>\n",
       "      <td>-399.853156</td>\n",
       "      <td>1648.917211</td>\n",
       "      <td>-400.321866</td>\n",
       "      <td>1649.117753</td>\n",
       "      <td>-399.645348</td>\n",
       "      <td>1650.398209</td>\n",
       "      <td>-400.654533</td>\n",
       "      <td>34.894598</td>\n",
       "      <td>-498.444587</td>\n",
       "      <td>30.020745</td>\n",
       "      <td>-533.831343</td>\n",
       "      <td>26.022094</td>\n",
       "      <td>-499.725484</td>\n",
       "      <td>22.992992</td>\n",
       "      <td>-499.891405</td>\n",
       "      <td>23.001911</td>\n",
       "      <td>-499.947838</td>\n",
       "      <td>20.023735</td>\n",
       "      <td>-499.713680</td>\n",
       "      <td>17.990955</td>\n",
       "      <td>-500.334769</td>\n",
       "      <td>13.007523</td>\n",
       "      <td>-499.968459</td>\n",
       "      <td>19.995999</td>\n",
       "      <td>-499.788805</td>\n",
       "    </tr>\n",
       "  </tbody>\n",
       "</table>\n",
       "</div>"
      ],
      "text/plain": [
       "                  date  rougher.input.feed_au  rougher.input.feed_ag  \\\n",
       "0  2017-12-09 14:59:59               4.365491               6.158718   \n",
       "1  2017-12-09 15:59:59               4.362781               6.048130   \n",
       "2  2017-12-09 16:59:59               5.081681               6.082745   \n",
       "3  2017-12-09 17:59:59               5.145949               6.084374   \n",
       "4  2017-12-09 18:59:59               5.735249               6.165220   \n",
       "\n",
       "   rougher.input.feed_pb  rougher.input.feed_sol  rougher.input.feed_rate  \\\n",
       "0               3.875727               39.135119               555.820208   \n",
       "1               3.902537               39.713906               544.731687   \n",
       "2               4.564078               37.208683               558.155110   \n",
       "3               4.768124               36.808874               539.713765   \n",
       "4               4.512346               37.810642               558.713584   \n",
       "\n",
       "   rougher.input.feed_size  rougher.input.floatbank10_sulfate  \\\n",
       "0                94.544358                           6.146982   \n",
       "1               123.742430                           6.210119   \n",
       "2                82.610855                           7.363824   \n",
       "3                77.984784                           6.927072   \n",
       "4                86.434874                           7.823471   \n",
       "\n",
       "   rougher.input.floatbank10_xanthate  rougher.state.floatbank10_a_air  \\\n",
       "0                            9.308612                      1196.238112   \n",
       "1                            9.297709                      1201.904177   \n",
       "2                            9.003562                      1200.826926   \n",
       "3                            8.955597                      1199.292489   \n",
       "4                            7.490356                      1198.005449   \n",
       "\n",
       "   rougher.state.floatbank10_a_level  rougher.state.floatbank10_b_air  \\\n",
       "0                        -299.862743                      1147.248241   \n",
       "1                        -299.907308                      1154.087804   \n",
       "2                        -300.124116                      1150.754676   \n",
       "3                        -299.778385                      1152.512559   \n",
       "4                        -300.283401                      1099.481500   \n",
       "\n",
       "   rougher.state.floatbank10_b_level  rougher.state.floatbank10_c_air  \\\n",
       "0                        -500.363165                      1047.279065   \n",
       "1                        -500.036580                      1054.009756   \n",
       "2                        -499.986009                      1049.182824   \n",
       "3                        -500.338106                      1052.601592   \n",
       "4                        -499.702465                       999.539264   \n",
       "\n",
       "   rougher.state.floatbank10_c_level  rougher.state.floatbank10_d_air  \\\n",
       "0                        -500.354091                       948.756608   \n",
       "1                        -500.237335                       944.138793   \n",
       "2                        -500.014696                       948.085464   \n",
       "3                        -499.695075                       955.171539   \n",
       "4                        -499.306051                       889.445596   \n",
       "\n",
       "   rougher.state.floatbank10_d_level  rougher.state.floatbank10_e_air  \\\n",
       "0                        -498.439416                       849.441918   \n",
       "1                        -496.866953                       851.589767   \n",
       "2                        -499.997003                       850.170086   \n",
       "3                        -500.294989                       851.957342   \n",
       "4                        -498.118617                       800.533525   \n",
       "\n",
       "   rougher.state.floatbank10_e_level  rougher.state.floatbank10_f_air  \\\n",
       "0                        -499.255503                       850.112246   \n",
       "1                        -499.040466                       851.345606   \n",
       "2                        -500.270334                       849.557905   \n",
       "3                        -499.779541                       850.765662   \n",
       "4                        -499.765068                       800.510356   \n",
       "\n",
       "   rougher.state.floatbank10_f_level  rougher.input.floatbank11_sulfate  \\\n",
       "0                        -499.407112                           6.168939   \n",
       "1                        -499.122561                           6.209517   \n",
       "2                        -500.198702                           7.358308   \n",
       "3                        -501.030559                           6.929364   \n",
       "4                        -497.289533                           7.824875   \n",
       "\n",
       "   rougher.input.floatbank11_xanthate  primary_cleaner.input.sulfate  \\\n",
       "0                            9.309852                      95.248427   \n",
       "1                            9.297194                      98.880538   \n",
       "2                            9.000624                     119.497545   \n",
       "3                            8.920717                     108.080163   \n",
       "4                            7.500678                     117.750648   \n",
       "\n",
       "   primary_cleaner.input.depressant  primary_cleaner.input.feed_size  \\\n",
       "0                          8.078957                         6.500000   \n",
       "1                          7.984164                         6.500000   \n",
       "2                          8.003752                         6.500000   \n",
       "3                          7.970121                         6.660000   \n",
       "4                          6.954311                         6.426667   \n",
       "\n",
       "   primary_cleaner.input.xanthate  primary_cleaner.state.floatbank8_a_air  \\\n",
       "0                        1.283045                             1648.759906   \n",
       "1                        1.241969                             1646.547763   \n",
       "2                        1.259741                             1647.368779   \n",
       "3                        0.774909                             1652.660845   \n",
       "4                        0.731271                             1649.411497   \n",
       "\n",
       "   primary_cleaner.state.floatbank8_a_level  \\\n",
       "0                               -399.862053   \n",
       "1                               -398.977083   \n",
       "2                               -399.788506   \n",
       "3                               -399.702218   \n",
       "4                               -399.853156   \n",
       "\n",
       "   primary_cleaner.state.floatbank8_b_air  \\\n",
       "0                             1650.135395   \n",
       "1                             1648.212240   \n",
       "2                             1648.395206   \n",
       "3                             1651.203128   \n",
       "4                             1648.917211   \n",
       "\n",
       "   primary_cleaner.state.floatbank8_b_level  \\\n",
       "0                               -399.957321   \n",
       "1                               -400.383265   \n",
       "2                               -400.166490   \n",
       "3                               -400.291472   \n",
       "4                               -400.321866   \n",
       "\n",
       "   primary_cleaner.state.floatbank8_c_air  \\\n",
       "0                             1648.831890   \n",
       "1                             1648.917387   \n",
       "2                             1648.953828   \n",
       "3                             1651.924848   \n",
       "4                             1649.117753   \n",
       "\n",
       "   primary_cleaner.state.floatbank8_c_level  \\\n",
       "0                               -400.586116   \n",
       "1                               -399.521344   \n",
       "2                               -400.468641   \n",
       "3                               -398.058033   \n",
       "4                               -399.645348   \n",
       "\n",
       "   primary_cleaner.state.floatbank8_d_air  \\\n",
       "0                             1649.464582   \n",
       "1                             1651.498591   \n",
       "2                             1649.821569   \n",
       "3                             1650.782696   \n",
       "4                             1650.398209   \n",
       "\n",
       "   primary_cleaner.state.floatbank8_d_level  \\\n",
       "0                               -400.673303   \n",
       "1                               -399.745329   \n",
       "2                               -400.071884   \n",
       "3                               -399.597977   \n",
       "4                               -400.654533   \n",
       "\n",
       "   secondary_cleaner.state.floatbank2_a_air  \\\n",
       "0                                 34.940919   \n",
       "1                                 34.980742   \n",
       "2                                 34.952967   \n",
       "3                                 35.038256   \n",
       "4                                 34.894598   \n",
       "\n",
       "   secondary_cleaner.state.floatbank2_a_level  \\\n",
       "0                                 -500.150510   \n",
       "1                                 -498.131002   \n",
       "2                                 -501.204647   \n",
       "3                                 -500.102649   \n",
       "4                                 -498.444587   \n",
       "\n",
       "   secondary_cleaner.state.floatbank2_b_air  \\\n",
       "0                                 30.031867   \n",
       "1                                 29.968453   \n",
       "2                                 29.927025   \n",
       "3                                 30.066959   \n",
       "4                                 30.020745   \n",
       "\n",
       "   secondary_cleaner.state.floatbank2_b_level  \\\n",
       "0                                 -500.328335   \n",
       "1                                 -586.013330   \n",
       "2                                 -500.106628   \n",
       "3                                 -500.211499   \n",
       "4                                 -533.831343   \n",
       "\n",
       "   secondary_cleaner.state.floatbank3_a_air  \\\n",
       "0                                 26.033990   \n",
       "1                                 25.971737   \n",
       "2                                 25.978253   \n",
       "3                                 26.013515   \n",
       "4                                 26.022094   \n",
       "\n",
       "   secondary_cleaner.state.floatbank3_a_level  \\\n",
       "0                                 -500.147792   \n",
       "1                                 -499.608392   \n",
       "2                                 -499.890060   \n",
       "3                                 -500.054597   \n",
       "4                                 -499.725484   \n",
       "\n",
       "   secondary_cleaner.state.floatbank3_b_air  \\\n",
       "0                                 22.952306   \n",
       "1                                 22.958448   \n",
       "2                                 23.004376   \n",
       "3                                 22.988928   \n",
       "4                                 22.992992   \n",
       "\n",
       "   secondary_cleaner.state.floatbank3_b_level  \\\n",
       "0                                 -500.037678   \n",
       "1                                 -499.821308   \n",
       "2                                 -500.014529   \n",
       "3                                 -499.981410   \n",
       "4                                 -499.891405   \n",
       "\n",
       "   secondary_cleaner.state.floatbank4_a_air  \\\n",
       "0                                 23.018622   \n",
       "1                                 23.024963   \n",
       "2                                 22.993827   \n",
       "3                                 23.032807   \n",
       "4                                 23.001911   \n",
       "\n",
       "   secondary_cleaner.state.floatbank4_a_level  \\\n",
       "0                                 -500.492702   \n",
       "1                                 -501.153409   \n",
       "2                                 -501.559663   \n",
       "3                                 -501.287889   \n",
       "4                                 -499.947838   \n",
       "\n",
       "   secondary_cleaner.state.floatbank4_b_air  \\\n",
       "0                                 20.020205   \n",
       "1                                 20.054122   \n",
       "2                                 20.029144   \n",
       "3                                 19.977466   \n",
       "4                                 20.023735   \n",
       "\n",
       "   secondary_cleaner.state.floatbank4_b_level  \\\n",
       "0                                 -500.220296   \n",
       "1                                 -500.314711   \n",
       "2                                 -500.000662   \n",
       "3                                 -500.159903   \n",
       "4                                 -499.713680   \n",
       "\n",
       "   secondary_cleaner.state.floatbank5_a_air  \\\n",
       "0                                 17.963512   \n",
       "1                                 17.979515   \n",
       "2                                 18.012723   \n",
       "3                                 17.980463   \n",
       "4                                 17.990955   \n",
       "\n",
       "   secondary_cleaner.state.floatbank5_a_level  \\\n",
       "0                                 -499.939490   \n",
       "1                                 -499.272871   \n",
       "2                                 -500.024764   \n",
       "3                                 -500.504602   \n",
       "4                                 -500.334769   \n",
       "\n",
       "   secondary_cleaner.state.floatbank5_b_air  \\\n",
       "0                                 12.990306   \n",
       "1                                 12.992404   \n",
       "2                                 13.016445   \n",
       "3                                 12.949071   \n",
       "4                                 13.007523   \n",
       "\n",
       "   secondary_cleaner.state.floatbank5_b_level  \\\n",
       "0                                 -500.080993   \n",
       "1                                 -499.976268   \n",
       "2                                 -500.058432   \n",
       "3                                 -500.009937   \n",
       "4                                 -499.968459   \n",
       "\n",
       "   secondary_cleaner.state.floatbank6_a_air  \\\n",
       "0                                 19.990336   \n",
       "1                                 20.013986   \n",
       "2                                 19.973767   \n",
       "3                                 20.010332   \n",
       "4                                 19.995999   \n",
       "\n",
       "   secondary_cleaner.state.floatbank6_a_level  \n",
       "0                                 -499.191575  \n",
       "1                                 -500.625471  \n",
       "2                                 -501.394155  \n",
       "3                                 -508.337973  \n",
       "4                                 -499.788805  "
      ]
     },
     "metadata": {},
     "output_type": "display_data"
    },
    {
     "name": "stdout",
     "output_type": "stream",
     "text": [
      "\n",
      "Весь датасет\n"
     ]
    },
    {
     "data": {
      "text/html": [
       "<div>\n",
       "<style scoped>\n",
       "    .dataframe tbody tr th:only-of-type {\n",
       "        vertical-align: middle;\n",
       "    }\n",
       "\n",
       "    .dataframe tbody tr th {\n",
       "        vertical-align: top;\n",
       "    }\n",
       "\n",
       "    .dataframe thead th {\n",
       "        text-align: right;\n",
       "    }\n",
       "</style>\n",
       "<table border=\"1\" class=\"dataframe\">\n",
       "  <thead>\n",
       "    <tr style=\"text-align: right;\">\n",
       "      <th></th>\n",
       "      <th>date</th>\n",
       "      <th>rougher.input.feed_au</th>\n",
       "      <th>rougher.input.feed_ag</th>\n",
       "      <th>rougher.input.feed_pb</th>\n",
       "      <th>rougher.input.feed_sol</th>\n",
       "      <th>rougher.input.feed_rate</th>\n",
       "      <th>rougher.input.feed_size</th>\n",
       "      <th>rougher.input.floatbank10_sulfate</th>\n",
       "      <th>rougher.input.floatbank10_xanthate</th>\n",
       "      <th>rougher.state.floatbank10_a_air</th>\n",
       "      <th>rougher.state.floatbank10_a_level</th>\n",
       "      <th>rougher.state.floatbank10_b_air</th>\n",
       "      <th>rougher.state.floatbank10_b_level</th>\n",
       "      <th>rougher.state.floatbank10_c_air</th>\n",
       "      <th>rougher.state.floatbank10_c_level</th>\n",
       "      <th>rougher.state.floatbank10_d_air</th>\n",
       "      <th>rougher.state.floatbank10_d_level</th>\n",
       "      <th>rougher.state.floatbank10_e_air</th>\n",
       "      <th>rougher.state.floatbank10_e_level</th>\n",
       "      <th>rougher.state.floatbank10_f_air</th>\n",
       "      <th>rougher.state.floatbank10_f_level</th>\n",
       "      <th>rougher.input.floatbank11_sulfate</th>\n",
       "      <th>rougher.input.floatbank11_xanthate</th>\n",
       "      <th>rougher.calculation.sulfate_to_au_concentrate</th>\n",
       "      <th>rougher.calculation.floatbank10_sulfate_to_au_feed</th>\n",
       "      <th>rougher.calculation.floatbank11_sulfate_to_au_feed</th>\n",
       "      <th>rougher.calculation.au_pb_ratio</th>\n",
       "      <th>rougher.output.concentrate_au</th>\n",
       "      <th>rougher.output.concentrate_ag</th>\n",
       "      <th>rougher.output.concentrate_pb</th>\n",
       "      <th>rougher.output.concentrate_sol</th>\n",
       "      <th>rougher.output.recovery</th>\n",
       "      <th>rougher.output.tail_au</th>\n",
       "      <th>rougher.output.tail_ag</th>\n",
       "      <th>rougher.output.tail_pb</th>\n",
       "      <th>rougher.output.tail_sol</th>\n",
       "      <th>primary_cleaner.input.sulfate</th>\n",
       "      <th>primary_cleaner.input.depressant</th>\n",
       "      <th>primary_cleaner.input.feed_size</th>\n",
       "      <th>primary_cleaner.input.xanthate</th>\n",
       "      <th>primary_cleaner.state.floatbank8_a_air</th>\n",
       "      <th>primary_cleaner.state.floatbank8_a_level</th>\n",
       "      <th>primary_cleaner.state.floatbank8_b_air</th>\n",
       "      <th>primary_cleaner.state.floatbank8_b_level</th>\n",
       "      <th>primary_cleaner.state.floatbank8_c_air</th>\n",
       "      <th>primary_cleaner.state.floatbank8_c_level</th>\n",
       "      <th>primary_cleaner.state.floatbank8_d_air</th>\n",
       "      <th>primary_cleaner.state.floatbank8_d_level</th>\n",
       "      <th>primary_cleaner.output.concentrate_au</th>\n",
       "      <th>primary_cleaner.output.concentrate_ag</th>\n",
       "      <th>primary_cleaner.output.concentrate_pb</th>\n",
       "      <th>primary_cleaner.output.concentrate_sol</th>\n",
       "      <th>primary_cleaner.output.tail_au</th>\n",
       "      <th>primary_cleaner.output.tail_ag</th>\n",
       "      <th>primary_cleaner.output.tail_pb</th>\n",
       "      <th>primary_cleaner.output.tail_sol</th>\n",
       "      <th>secondary_cleaner.state.floatbank2_a_air</th>\n",
       "      <th>secondary_cleaner.state.floatbank2_a_level</th>\n",
       "      <th>secondary_cleaner.state.floatbank2_b_air</th>\n",
       "      <th>secondary_cleaner.state.floatbank2_b_level</th>\n",
       "      <th>secondary_cleaner.state.floatbank3_a_air</th>\n",
       "      <th>secondary_cleaner.state.floatbank3_a_level</th>\n",
       "      <th>secondary_cleaner.state.floatbank3_b_air</th>\n",
       "      <th>secondary_cleaner.state.floatbank3_b_level</th>\n",
       "      <th>secondary_cleaner.state.floatbank4_a_air</th>\n",
       "      <th>secondary_cleaner.state.floatbank4_a_level</th>\n",
       "      <th>secondary_cleaner.state.floatbank4_b_air</th>\n",
       "      <th>secondary_cleaner.state.floatbank4_b_level</th>\n",
       "      <th>secondary_cleaner.state.floatbank5_a_air</th>\n",
       "      <th>secondary_cleaner.state.floatbank5_a_level</th>\n",
       "      <th>secondary_cleaner.state.floatbank5_b_air</th>\n",
       "      <th>secondary_cleaner.state.floatbank5_b_level</th>\n",
       "      <th>secondary_cleaner.state.floatbank6_a_air</th>\n",
       "      <th>secondary_cleaner.state.floatbank6_a_level</th>\n",
       "      <th>secondary_cleaner.output.tail_au</th>\n",
       "      <th>secondary_cleaner.output.tail_ag</th>\n",
       "      <th>secondary_cleaner.output.tail_pb</th>\n",
       "      <th>secondary_cleaner.output.tail_sol</th>\n",
       "      <th>final.output.concentrate_au</th>\n",
       "      <th>final.output.concentrate_ag</th>\n",
       "      <th>final.output.concentrate_pb</th>\n",
       "      <th>final.output.concentrate_sol</th>\n",
       "      <th>final.output.recovery</th>\n",
       "      <th>final.output.tail_au</th>\n",
       "      <th>final.output.tail_ag</th>\n",
       "      <th>final.output.tail_pb</th>\n",
       "      <th>final.output.tail_sol</th>\n",
       "    </tr>\n",
       "  </thead>\n",
       "  <tbody>\n",
       "    <tr>\n",
       "      <th>0</th>\n",
       "      <td>2016-01-15 00:00:00</td>\n",
       "      <td>6.486150</td>\n",
       "      <td>6.100378</td>\n",
       "      <td>2.284912</td>\n",
       "      <td>36.808594</td>\n",
       "      <td>523.546326</td>\n",
       "      <td>55.486599</td>\n",
       "      <td>11.986616</td>\n",
       "      <td>6.007990</td>\n",
       "      <td>999.706909</td>\n",
       "      <td>-404.066986</td>\n",
       "      <td>1603.011353</td>\n",
       "      <td>-434.715027</td>\n",
       "      <td>1602.375000</td>\n",
       "      <td>-442.204468</td>\n",
       "      <td>1598.937256</td>\n",
       "      <td>-451.294128</td>\n",
       "      <td>1404.472046</td>\n",
       "      <td>-455.462982</td>\n",
       "      <td>1416.354980</td>\n",
       "      <td>-451.939636</td>\n",
       "      <td>11.836743</td>\n",
       "      <td>6.005818</td>\n",
       "      <td>41885.707031</td>\n",
       "      <td>3481.779053</td>\n",
       "      <td>3520.337158</td>\n",
       "      <td>2.838687</td>\n",
       "      <td>19.793808</td>\n",
       "      <td>11.500771</td>\n",
       "      <td>7.101074</td>\n",
       "      <td>28.029297</td>\n",
       "      <td>87.107763</td>\n",
       "      <td>1.170244</td>\n",
       "      <td>5.008018</td>\n",
       "      <td>0.508728</td>\n",
       "      <td>19.154297</td>\n",
       "      <td>127.092003</td>\n",
       "      <td>10.128295</td>\n",
       "      <td>7.25</td>\n",
       "      <td>0.988759</td>\n",
       "      <td>1549.775757</td>\n",
       "      <td>-498.912140</td>\n",
       "      <td>1551.434204</td>\n",
       "      <td>-516.403442</td>\n",
       "      <td>1549.873901</td>\n",
       "      <td>-498.666595</td>\n",
       "      <td>1554.367432</td>\n",
       "      <td>-493.428131</td>\n",
       "      <td>34.174427</td>\n",
       "      <td>8.547551</td>\n",
       "      <td>10.389648</td>\n",
       "      <td>19.529297</td>\n",
       "      <td>2.106679</td>\n",
       "      <td>14.936526</td>\n",
       "      <td>2.534912</td>\n",
       "      <td>7.476074</td>\n",
       "      <td>25.853109</td>\n",
       "      <td>-498.526489</td>\n",
       "      <td>23.893660</td>\n",
       "      <td>-501.406281</td>\n",
       "      <td>23.961798</td>\n",
       "      <td>-495.262817</td>\n",
       "      <td>21.940409</td>\n",
       "      <td>-499.340973</td>\n",
       "      <td>14.016835</td>\n",
       "      <td>-502.488007</td>\n",
       "      <td>12.099931</td>\n",
       "      <td>-504.715942</td>\n",
       "      <td>9.925633</td>\n",
       "      <td>-498.310211</td>\n",
       "      <td>8.079666</td>\n",
       "      <td>-500.470978</td>\n",
       "      <td>14.151341</td>\n",
       "      <td>-605.841980</td>\n",
       "      <td>2.606185</td>\n",
       "      <td>14.500184</td>\n",
       "      <td>4.694824</td>\n",
       "      <td>8.764648</td>\n",
       "      <td>42.192020</td>\n",
       "      <td>6.055403</td>\n",
       "      <td>9.889648</td>\n",
       "      <td>5.507324</td>\n",
       "      <td>70.541216</td>\n",
       "      <td>2.143149</td>\n",
       "      <td>10.411962</td>\n",
       "      <td>0.895447</td>\n",
       "      <td>16.904297</td>\n",
       "    </tr>\n",
       "    <tr>\n",
       "      <th>1</th>\n",
       "      <td>2016-01-15 01:00:00</td>\n",
       "      <td>6.478583</td>\n",
       "      <td>6.161113</td>\n",
       "      <td>2.266033</td>\n",
       "      <td>35.753385</td>\n",
       "      <td>525.290581</td>\n",
       "      <td>57.278666</td>\n",
       "      <td>11.971193</td>\n",
       "      <td>6.005766</td>\n",
       "      <td>1000.286398</td>\n",
       "      <td>-400.065196</td>\n",
       "      <td>1600.754587</td>\n",
       "      <td>-449.953435</td>\n",
       "      <td>1600.479580</td>\n",
       "      <td>-449.830646</td>\n",
       "      <td>1600.527589</td>\n",
       "      <td>-449.953649</td>\n",
       "      <td>1399.227084</td>\n",
       "      <td>-450.869848</td>\n",
       "      <td>1399.719514</td>\n",
       "      <td>-450.119001</td>\n",
       "      <td>11.996163</td>\n",
       "      <td>6.012594</td>\n",
       "      <td>42050.861809</td>\n",
       "      <td>3498.370979</td>\n",
       "      <td>3489.981857</td>\n",
       "      <td>2.858998</td>\n",
       "      <td>20.050975</td>\n",
       "      <td>11.615865</td>\n",
       "      <td>7.278807</td>\n",
       "      <td>28.067063</td>\n",
       "      <td>86.843261</td>\n",
       "      <td>1.184827</td>\n",
       "      <td>4.955378</td>\n",
       "      <td>0.536689</td>\n",
       "      <td>18.965234</td>\n",
       "      <td>125.629232</td>\n",
       "      <td>10.296251</td>\n",
       "      <td>7.25</td>\n",
       "      <td>1.002663</td>\n",
       "      <td>1576.166671</td>\n",
       "      <td>-500.904965</td>\n",
       "      <td>1575.950626</td>\n",
       "      <td>-499.865889</td>\n",
       "      <td>1575.994189</td>\n",
       "      <td>-499.315107</td>\n",
       "      <td>1574.479259</td>\n",
       "      <td>-498.931665</td>\n",
       "      <td>34.118526</td>\n",
       "      <td>8.558743</td>\n",
       "      <td>10.497069</td>\n",
       "      <td>19.369147</td>\n",
       "      <td>2.353017</td>\n",
       "      <td>16.250511</td>\n",
       "      <td>3.049646</td>\n",
       "      <td>6.733907</td>\n",
       "      <td>25.880539</td>\n",
       "      <td>-499.989656</td>\n",
       "      <td>23.889530</td>\n",
       "      <td>-500.372428</td>\n",
       "      <td>23.970550</td>\n",
       "      <td>-500.085473</td>\n",
       "      <td>22.085714</td>\n",
       "      <td>-499.446897</td>\n",
       "      <td>13.992281</td>\n",
       "      <td>-505.503262</td>\n",
       "      <td>11.950531</td>\n",
       "      <td>-501.331529</td>\n",
       "      <td>10.039245</td>\n",
       "      <td>-500.169983</td>\n",
       "      <td>7.984757</td>\n",
       "      <td>-500.582168</td>\n",
       "      <td>13.998353</td>\n",
       "      <td>-599.787184</td>\n",
       "      <td>2.488248</td>\n",
       "      <td>14.265474</td>\n",
       "      <td>4.592547</td>\n",
       "      <td>9.001494</td>\n",
       "      <td>42.701629</td>\n",
       "      <td>6.029369</td>\n",
       "      <td>9.968944</td>\n",
       "      <td>5.257781</td>\n",
       "      <td>69.266198</td>\n",
       "      <td>2.224930</td>\n",
       "      <td>10.462676</td>\n",
       "      <td>0.927452</td>\n",
       "      <td>16.634514</td>\n",
       "    </tr>\n",
       "    <tr>\n",
       "      <th>2</th>\n",
       "      <td>2016-01-15 02:00:00</td>\n",
       "      <td>6.362222</td>\n",
       "      <td>6.116455</td>\n",
       "      <td>2.159622</td>\n",
       "      <td>35.971630</td>\n",
       "      <td>530.026610</td>\n",
       "      <td>57.510649</td>\n",
       "      <td>11.920603</td>\n",
       "      <td>6.197377</td>\n",
       "      <td>999.719565</td>\n",
       "      <td>-400.074028</td>\n",
       "      <td>1599.337330</td>\n",
       "      <td>-450.008530</td>\n",
       "      <td>1599.672797</td>\n",
       "      <td>-449.954491</td>\n",
       "      <td>1599.849325</td>\n",
       "      <td>-449.954185</td>\n",
       "      <td>1399.180945</td>\n",
       "      <td>-449.937588</td>\n",
       "      <td>1400.316682</td>\n",
       "      <td>-450.527147</td>\n",
       "      <td>11.920305</td>\n",
       "      <td>6.204633</td>\n",
       "      <td>42018.101184</td>\n",
       "      <td>3495.348910</td>\n",
       "      <td>3502.359819</td>\n",
       "      <td>2.945989</td>\n",
       "      <td>19.737170</td>\n",
       "      <td>11.695753</td>\n",
       "      <td>7.216833</td>\n",
       "      <td>27.454037</td>\n",
       "      <td>86.842308</td>\n",
       "      <td>1.162562</td>\n",
       "      <td>4.843460</td>\n",
       "      <td>0.546416</td>\n",
       "      <td>18.808533</td>\n",
       "      <td>123.819808</td>\n",
       "      <td>11.316280</td>\n",
       "      <td>7.25</td>\n",
       "      <td>0.991265</td>\n",
       "      <td>1601.556163</td>\n",
       "      <td>-499.997791</td>\n",
       "      <td>1600.386685</td>\n",
       "      <td>-500.607762</td>\n",
       "      <td>1602.003542</td>\n",
       "      <td>-500.870069</td>\n",
       "      <td>1599.541515</td>\n",
       "      <td>-499.827444</td>\n",
       "      <td>33.969464</td>\n",
       "      <td>8.603505</td>\n",
       "      <td>10.354494</td>\n",
       "      <td>19.167579</td>\n",
       "      <td>2.416800</td>\n",
       "      <td>16.491823</td>\n",
       "      <td>3.124664</td>\n",
       "      <td>6.471768</td>\n",
       "      <td>26.005245</td>\n",
       "      <td>-499.929616</td>\n",
       "      <td>23.886657</td>\n",
       "      <td>-499.951928</td>\n",
       "      <td>23.913535</td>\n",
       "      <td>-499.442343</td>\n",
       "      <td>23.957717</td>\n",
       "      <td>-499.901982</td>\n",
       "      <td>14.015015</td>\n",
       "      <td>-502.520901</td>\n",
       "      <td>11.912783</td>\n",
       "      <td>-501.133383</td>\n",
       "      <td>10.070913</td>\n",
       "      <td>-500.129135</td>\n",
       "      <td>8.013877</td>\n",
       "      <td>-500.517572</td>\n",
       "      <td>14.028663</td>\n",
       "      <td>-601.427363</td>\n",
       "      <td>2.458187</td>\n",
       "      <td>14.115662</td>\n",
       "      <td>4.624775</td>\n",
       "      <td>8.842896</td>\n",
       "      <td>42.657501</td>\n",
       "      <td>6.055926</td>\n",
       "      <td>10.213995</td>\n",
       "      <td>5.383759</td>\n",
       "      <td>68.116445</td>\n",
       "      <td>2.257889</td>\n",
       "      <td>10.507046</td>\n",
       "      <td>0.953716</td>\n",
       "      <td>16.208849</td>\n",
       "    </tr>\n",
       "    <tr>\n",
       "      <th>3</th>\n",
       "      <td>2016-01-15 03:00:00</td>\n",
       "      <td>6.118189</td>\n",
       "      <td>6.043309</td>\n",
       "      <td>2.037807</td>\n",
       "      <td>36.862241</td>\n",
       "      <td>542.590390</td>\n",
       "      <td>57.792734</td>\n",
       "      <td>11.630094</td>\n",
       "      <td>6.203177</td>\n",
       "      <td>999.814770</td>\n",
       "      <td>-400.200179</td>\n",
       "      <td>1600.059442</td>\n",
       "      <td>-450.619948</td>\n",
       "      <td>1600.012842</td>\n",
       "      <td>-449.910497</td>\n",
       "      <td>1597.725177</td>\n",
       "      <td>-450.130127</td>\n",
       "      <td>1400.943157</td>\n",
       "      <td>-450.030142</td>\n",
       "      <td>1400.234743</td>\n",
       "      <td>-449.790835</td>\n",
       "      <td>11.692450</td>\n",
       "      <td>6.196578</td>\n",
       "      <td>42029.447991</td>\n",
       "      <td>3498.578313</td>\n",
       "      <td>3499.162912</td>\n",
       "      <td>3.002340</td>\n",
       "      <td>19.320810</td>\n",
       "      <td>11.915047</td>\n",
       "      <td>7.175616</td>\n",
       "      <td>27.341277</td>\n",
       "      <td>87.226430</td>\n",
       "      <td>1.079755</td>\n",
       "      <td>4.655288</td>\n",
       "      <td>0.542525</td>\n",
       "      <td>19.330200</td>\n",
       "      <td>122.270188</td>\n",
       "      <td>11.322140</td>\n",
       "      <td>7.25</td>\n",
       "      <td>0.996739</td>\n",
       "      <td>1599.968720</td>\n",
       "      <td>-500.951778</td>\n",
       "      <td>1600.659236</td>\n",
       "      <td>-499.677094</td>\n",
       "      <td>1600.304144</td>\n",
       "      <td>-500.727997</td>\n",
       "      <td>1600.449520</td>\n",
       "      <td>-500.052575</td>\n",
       "      <td>28.260743</td>\n",
       "      <td>7.221879</td>\n",
       "      <td>8.496563</td>\n",
       "      <td>15.978538</td>\n",
       "      <td>2.262051</td>\n",
       "      <td>16.024359</td>\n",
       "      <td>2.960362</td>\n",
       "      <td>6.843791</td>\n",
       "      <td>25.942508</td>\n",
       "      <td>-499.176749</td>\n",
       "      <td>23.955516</td>\n",
       "      <td>-499.848796</td>\n",
       "      <td>23.966838</td>\n",
       "      <td>-500.008812</td>\n",
       "      <td>23.954443</td>\n",
       "      <td>-499.944710</td>\n",
       "      <td>14.036510</td>\n",
       "      <td>-500.857308</td>\n",
       "      <td>11.999550</td>\n",
       "      <td>-501.193686</td>\n",
       "      <td>9.970366</td>\n",
       "      <td>-499.201640</td>\n",
       "      <td>7.977324</td>\n",
       "      <td>-500.255908</td>\n",
       "      <td>14.005551</td>\n",
       "      <td>-599.996129</td>\n",
       "      <td>2.322062</td>\n",
       "      <td>13.732071</td>\n",
       "      <td>4.482453</td>\n",
       "      <td>9.122857</td>\n",
       "      <td>42.689819</td>\n",
       "      <td>6.047977</td>\n",
       "      <td>9.977019</td>\n",
       "      <td>4.858634</td>\n",
       "      <td>68.347543</td>\n",
       "      <td>2.146849</td>\n",
       "      <td>10.422762</td>\n",
       "      <td>0.883763</td>\n",
       "      <td>16.532835</td>\n",
       "    </tr>\n",
       "    <tr>\n",
       "      <th>4</th>\n",
       "      <td>2016-01-15 04:00:00</td>\n",
       "      <td>5.663707</td>\n",
       "      <td>6.060915</td>\n",
       "      <td>1.786875</td>\n",
       "      <td>34.347666</td>\n",
       "      <td>540.531893</td>\n",
       "      <td>56.047189</td>\n",
       "      <td>10.957755</td>\n",
       "      <td>6.198826</td>\n",
       "      <td>999.678690</td>\n",
       "      <td>-399.752729</td>\n",
       "      <td>1600.208824</td>\n",
       "      <td>-449.599614</td>\n",
       "      <td>1600.357732</td>\n",
       "      <td>-450.034364</td>\n",
       "      <td>1599.759049</td>\n",
       "      <td>-449.909799</td>\n",
       "      <td>1401.560902</td>\n",
       "      <td>-448.877187</td>\n",
       "      <td>1401.160227</td>\n",
       "      <td>-450.407128</td>\n",
       "      <td>10.960521</td>\n",
       "      <td>6.194897</td>\n",
       "      <td>42125.354245</td>\n",
       "      <td>3494.800771</td>\n",
       "      <td>3506.679315</td>\n",
       "      <td>3.169615</td>\n",
       "      <td>19.216101</td>\n",
       "      <td>12.411054</td>\n",
       "      <td>7.240205</td>\n",
       "      <td>27.041023</td>\n",
       "      <td>86.688794</td>\n",
       "      <td>1.012642</td>\n",
       "      <td>4.552800</td>\n",
       "      <td>0.515438</td>\n",
       "      <td>19.267422</td>\n",
       "      <td>117.988169</td>\n",
       "      <td>11.913613</td>\n",
       "      <td>7.25</td>\n",
       "      <td>1.009869</td>\n",
       "      <td>1601.339707</td>\n",
       "      <td>-498.975456</td>\n",
       "      <td>1601.437854</td>\n",
       "      <td>-500.323246</td>\n",
       "      <td>1599.581894</td>\n",
       "      <td>-500.888152</td>\n",
       "      <td>1602.649541</td>\n",
       "      <td>-500.593010</td>\n",
       "      <td>33.044932</td>\n",
       "      <td>9.089428</td>\n",
       "      <td>9.986786</td>\n",
       "      <td>19.199864</td>\n",
       "      <td>2.277073</td>\n",
       "      <td>16.480185</td>\n",
       "      <td>3.112100</td>\n",
       "      <td>6.550154</td>\n",
       "      <td>26.024787</td>\n",
       "      <td>-500.279091</td>\n",
       "      <td>23.955345</td>\n",
       "      <td>-500.593614</td>\n",
       "      <td>23.985703</td>\n",
       "      <td>-500.083811</td>\n",
       "      <td>23.958945</td>\n",
       "      <td>-499.990309</td>\n",
       "      <td>14.027298</td>\n",
       "      <td>-499.838632</td>\n",
       "      <td>11.953070</td>\n",
       "      <td>-501.053894</td>\n",
       "      <td>9.925709</td>\n",
       "      <td>-501.686727</td>\n",
       "      <td>7.894242</td>\n",
       "      <td>-500.356035</td>\n",
       "      <td>13.996647</td>\n",
       "      <td>-601.496691</td>\n",
       "      <td>2.330448</td>\n",
       "      <td>14.079996</td>\n",
       "      <td>4.470737</td>\n",
       "      <td>8.871028</td>\n",
       "      <td>42.774141</td>\n",
       "      <td>6.148599</td>\n",
       "      <td>10.142511</td>\n",
       "      <td>4.939416</td>\n",
       "      <td>66.927016</td>\n",
       "      <td>2.055292</td>\n",
       "      <td>10.360302</td>\n",
       "      <td>0.792826</td>\n",
       "      <td>16.525686</td>\n",
       "    </tr>\n",
       "  </tbody>\n",
       "</table>\n",
       "</div>"
      ],
      "text/plain": [
       "                  date  rougher.input.feed_au  rougher.input.feed_ag  \\\n",
       "0  2016-01-15 00:00:00               6.486150               6.100378   \n",
       "1  2016-01-15 01:00:00               6.478583               6.161113   \n",
       "2  2016-01-15 02:00:00               6.362222               6.116455   \n",
       "3  2016-01-15 03:00:00               6.118189               6.043309   \n",
       "4  2016-01-15 04:00:00               5.663707               6.060915   \n",
       "\n",
       "   rougher.input.feed_pb  rougher.input.feed_sol  rougher.input.feed_rate  \\\n",
       "0               2.284912               36.808594               523.546326   \n",
       "1               2.266033               35.753385               525.290581   \n",
       "2               2.159622               35.971630               530.026610   \n",
       "3               2.037807               36.862241               542.590390   \n",
       "4               1.786875               34.347666               540.531893   \n",
       "\n",
       "   rougher.input.feed_size  rougher.input.floatbank10_sulfate  \\\n",
       "0                55.486599                          11.986616   \n",
       "1                57.278666                          11.971193   \n",
       "2                57.510649                          11.920603   \n",
       "3                57.792734                          11.630094   \n",
       "4                56.047189                          10.957755   \n",
       "\n",
       "   rougher.input.floatbank10_xanthate  rougher.state.floatbank10_a_air  \\\n",
       "0                            6.007990                       999.706909   \n",
       "1                            6.005766                      1000.286398   \n",
       "2                            6.197377                       999.719565   \n",
       "3                            6.203177                       999.814770   \n",
       "4                            6.198826                       999.678690   \n",
       "\n",
       "   rougher.state.floatbank10_a_level  rougher.state.floatbank10_b_air  \\\n",
       "0                        -404.066986                      1603.011353   \n",
       "1                        -400.065196                      1600.754587   \n",
       "2                        -400.074028                      1599.337330   \n",
       "3                        -400.200179                      1600.059442   \n",
       "4                        -399.752729                      1600.208824   \n",
       "\n",
       "   rougher.state.floatbank10_b_level  rougher.state.floatbank10_c_air  \\\n",
       "0                        -434.715027                      1602.375000   \n",
       "1                        -449.953435                      1600.479580   \n",
       "2                        -450.008530                      1599.672797   \n",
       "3                        -450.619948                      1600.012842   \n",
       "4                        -449.599614                      1600.357732   \n",
       "\n",
       "   rougher.state.floatbank10_c_level  rougher.state.floatbank10_d_air  \\\n",
       "0                        -442.204468                      1598.937256   \n",
       "1                        -449.830646                      1600.527589   \n",
       "2                        -449.954491                      1599.849325   \n",
       "3                        -449.910497                      1597.725177   \n",
       "4                        -450.034364                      1599.759049   \n",
       "\n",
       "   rougher.state.floatbank10_d_level  rougher.state.floatbank10_e_air  \\\n",
       "0                        -451.294128                      1404.472046   \n",
       "1                        -449.953649                      1399.227084   \n",
       "2                        -449.954185                      1399.180945   \n",
       "3                        -450.130127                      1400.943157   \n",
       "4                        -449.909799                      1401.560902   \n",
       "\n",
       "   rougher.state.floatbank10_e_level  rougher.state.floatbank10_f_air  \\\n",
       "0                        -455.462982                      1416.354980   \n",
       "1                        -450.869848                      1399.719514   \n",
       "2                        -449.937588                      1400.316682   \n",
       "3                        -450.030142                      1400.234743   \n",
       "4                        -448.877187                      1401.160227   \n",
       "\n",
       "   rougher.state.floatbank10_f_level  rougher.input.floatbank11_sulfate  \\\n",
       "0                        -451.939636                          11.836743   \n",
       "1                        -450.119001                          11.996163   \n",
       "2                        -450.527147                          11.920305   \n",
       "3                        -449.790835                          11.692450   \n",
       "4                        -450.407128                          10.960521   \n",
       "\n",
       "   rougher.input.floatbank11_xanthate  \\\n",
       "0                            6.005818   \n",
       "1                            6.012594   \n",
       "2                            6.204633   \n",
       "3                            6.196578   \n",
       "4                            6.194897   \n",
       "\n",
       "   rougher.calculation.sulfate_to_au_concentrate  \\\n",
       "0                                   41885.707031   \n",
       "1                                   42050.861809   \n",
       "2                                   42018.101184   \n",
       "3                                   42029.447991   \n",
       "4                                   42125.354245   \n",
       "\n",
       "   rougher.calculation.floatbank10_sulfate_to_au_feed  \\\n",
       "0                                        3481.779053    \n",
       "1                                        3498.370979    \n",
       "2                                        3495.348910    \n",
       "3                                        3498.578313    \n",
       "4                                        3494.800771    \n",
       "\n",
       "   rougher.calculation.floatbank11_sulfate_to_au_feed  \\\n",
       "0                                        3520.337158    \n",
       "1                                        3489.981857    \n",
       "2                                        3502.359819    \n",
       "3                                        3499.162912    \n",
       "4                                        3506.679315    \n",
       "\n",
       "   rougher.calculation.au_pb_ratio  rougher.output.concentrate_au  \\\n",
       "0                         2.838687                      19.793808   \n",
       "1                         2.858998                      20.050975   \n",
       "2                         2.945989                      19.737170   \n",
       "3                         3.002340                      19.320810   \n",
       "4                         3.169615                      19.216101   \n",
       "\n",
       "   rougher.output.concentrate_ag  rougher.output.concentrate_pb  \\\n",
       "0                      11.500771                       7.101074   \n",
       "1                      11.615865                       7.278807   \n",
       "2                      11.695753                       7.216833   \n",
       "3                      11.915047                       7.175616   \n",
       "4                      12.411054                       7.240205   \n",
       "\n",
       "   rougher.output.concentrate_sol  rougher.output.recovery  \\\n",
       "0                       28.029297                87.107763   \n",
       "1                       28.067063                86.843261   \n",
       "2                       27.454037                86.842308   \n",
       "3                       27.341277                87.226430   \n",
       "4                       27.041023                86.688794   \n",
       "\n",
       "   rougher.output.tail_au  rougher.output.tail_ag  rougher.output.tail_pb  \\\n",
       "0                1.170244                5.008018                0.508728   \n",
       "1                1.184827                4.955378                0.536689   \n",
       "2                1.162562                4.843460                0.546416   \n",
       "3                1.079755                4.655288                0.542525   \n",
       "4                1.012642                4.552800                0.515438   \n",
       "\n",
       "   rougher.output.tail_sol  primary_cleaner.input.sulfate  \\\n",
       "0                19.154297                     127.092003   \n",
       "1                18.965234                     125.629232   \n",
       "2                18.808533                     123.819808   \n",
       "3                19.330200                     122.270188   \n",
       "4                19.267422                     117.988169   \n",
       "\n",
       "   primary_cleaner.input.depressant  primary_cleaner.input.feed_size  \\\n",
       "0                         10.128295                             7.25   \n",
       "1                         10.296251                             7.25   \n",
       "2                         11.316280                             7.25   \n",
       "3                         11.322140                             7.25   \n",
       "4                         11.913613                             7.25   \n",
       "\n",
       "   primary_cleaner.input.xanthate  primary_cleaner.state.floatbank8_a_air  \\\n",
       "0                        0.988759                             1549.775757   \n",
       "1                        1.002663                             1576.166671   \n",
       "2                        0.991265                             1601.556163   \n",
       "3                        0.996739                             1599.968720   \n",
       "4                        1.009869                             1601.339707   \n",
       "\n",
       "   primary_cleaner.state.floatbank8_a_level  \\\n",
       "0                               -498.912140   \n",
       "1                               -500.904965   \n",
       "2                               -499.997791   \n",
       "3                               -500.951778   \n",
       "4                               -498.975456   \n",
       "\n",
       "   primary_cleaner.state.floatbank8_b_air  \\\n",
       "0                             1551.434204   \n",
       "1                             1575.950626   \n",
       "2                             1600.386685   \n",
       "3                             1600.659236   \n",
       "4                             1601.437854   \n",
       "\n",
       "   primary_cleaner.state.floatbank8_b_level  \\\n",
       "0                               -516.403442   \n",
       "1                               -499.865889   \n",
       "2                               -500.607762   \n",
       "3                               -499.677094   \n",
       "4                               -500.323246   \n",
       "\n",
       "   primary_cleaner.state.floatbank8_c_air  \\\n",
       "0                             1549.873901   \n",
       "1                             1575.994189   \n",
       "2                             1602.003542   \n",
       "3                             1600.304144   \n",
       "4                             1599.581894   \n",
       "\n",
       "   primary_cleaner.state.floatbank8_c_level  \\\n",
       "0                               -498.666595   \n",
       "1                               -499.315107   \n",
       "2                               -500.870069   \n",
       "3                               -500.727997   \n",
       "4                               -500.888152   \n",
       "\n",
       "   primary_cleaner.state.floatbank8_d_air  \\\n",
       "0                             1554.367432   \n",
       "1                             1574.479259   \n",
       "2                             1599.541515   \n",
       "3                             1600.449520   \n",
       "4                             1602.649541   \n",
       "\n",
       "   primary_cleaner.state.floatbank8_d_level  \\\n",
       "0                               -493.428131   \n",
       "1                               -498.931665   \n",
       "2                               -499.827444   \n",
       "3                               -500.052575   \n",
       "4                               -500.593010   \n",
       "\n",
       "   primary_cleaner.output.concentrate_au  \\\n",
       "0                              34.174427   \n",
       "1                              34.118526   \n",
       "2                              33.969464   \n",
       "3                              28.260743   \n",
       "4                              33.044932   \n",
       "\n",
       "   primary_cleaner.output.concentrate_ag  \\\n",
       "0                               8.547551   \n",
       "1                               8.558743   \n",
       "2                               8.603505   \n",
       "3                               7.221879   \n",
       "4                               9.089428   \n",
       "\n",
       "   primary_cleaner.output.concentrate_pb  \\\n",
       "0                              10.389648   \n",
       "1                              10.497069   \n",
       "2                              10.354494   \n",
       "3                               8.496563   \n",
       "4                               9.986786   \n",
       "\n",
       "   primary_cleaner.output.concentrate_sol  primary_cleaner.output.tail_au  \\\n",
       "0                               19.529297                        2.106679   \n",
       "1                               19.369147                        2.353017   \n",
       "2                               19.167579                        2.416800   \n",
       "3                               15.978538                        2.262051   \n",
       "4                               19.199864                        2.277073   \n",
       "\n",
       "   primary_cleaner.output.tail_ag  primary_cleaner.output.tail_pb  \\\n",
       "0                       14.936526                        2.534912   \n",
       "1                       16.250511                        3.049646   \n",
       "2                       16.491823                        3.124664   \n",
       "3                       16.024359                        2.960362   \n",
       "4                       16.480185                        3.112100   \n",
       "\n",
       "   primary_cleaner.output.tail_sol  secondary_cleaner.state.floatbank2_a_air  \\\n",
       "0                         7.476074                                 25.853109   \n",
       "1                         6.733907                                 25.880539   \n",
       "2                         6.471768                                 26.005245   \n",
       "3                         6.843791                                 25.942508   \n",
       "4                         6.550154                                 26.024787   \n",
       "\n",
       "   secondary_cleaner.state.floatbank2_a_level  \\\n",
       "0                                 -498.526489   \n",
       "1                                 -499.989656   \n",
       "2                                 -499.929616   \n",
       "3                                 -499.176749   \n",
       "4                                 -500.279091   \n",
       "\n",
       "   secondary_cleaner.state.floatbank2_b_air  \\\n",
       "0                                 23.893660   \n",
       "1                                 23.889530   \n",
       "2                                 23.886657   \n",
       "3                                 23.955516   \n",
       "4                                 23.955345   \n",
       "\n",
       "   secondary_cleaner.state.floatbank2_b_level  \\\n",
       "0                                 -501.406281   \n",
       "1                                 -500.372428   \n",
       "2                                 -499.951928   \n",
       "3                                 -499.848796   \n",
       "4                                 -500.593614   \n",
       "\n",
       "   secondary_cleaner.state.floatbank3_a_air  \\\n",
       "0                                 23.961798   \n",
       "1                                 23.970550   \n",
       "2                                 23.913535   \n",
       "3                                 23.966838   \n",
       "4                                 23.985703   \n",
       "\n",
       "   secondary_cleaner.state.floatbank3_a_level  \\\n",
       "0                                 -495.262817   \n",
       "1                                 -500.085473   \n",
       "2                                 -499.442343   \n",
       "3                                 -500.008812   \n",
       "4                                 -500.083811   \n",
       "\n",
       "   secondary_cleaner.state.floatbank3_b_air  \\\n",
       "0                                 21.940409   \n",
       "1                                 22.085714   \n",
       "2                                 23.957717   \n",
       "3                                 23.954443   \n",
       "4                                 23.958945   \n",
       "\n",
       "   secondary_cleaner.state.floatbank3_b_level  \\\n",
       "0                                 -499.340973   \n",
       "1                                 -499.446897   \n",
       "2                                 -499.901982   \n",
       "3                                 -499.944710   \n",
       "4                                 -499.990309   \n",
       "\n",
       "   secondary_cleaner.state.floatbank4_a_air  \\\n",
       "0                                 14.016835   \n",
       "1                                 13.992281   \n",
       "2                                 14.015015   \n",
       "3                                 14.036510   \n",
       "4                                 14.027298   \n",
       "\n",
       "   secondary_cleaner.state.floatbank4_a_level  \\\n",
       "0                                 -502.488007   \n",
       "1                                 -505.503262   \n",
       "2                                 -502.520901   \n",
       "3                                 -500.857308   \n",
       "4                                 -499.838632   \n",
       "\n",
       "   secondary_cleaner.state.floatbank4_b_air  \\\n",
       "0                                 12.099931   \n",
       "1                                 11.950531   \n",
       "2                                 11.912783   \n",
       "3                                 11.999550   \n",
       "4                                 11.953070   \n",
       "\n",
       "   secondary_cleaner.state.floatbank4_b_level  \\\n",
       "0                                 -504.715942   \n",
       "1                                 -501.331529   \n",
       "2                                 -501.133383   \n",
       "3                                 -501.193686   \n",
       "4                                 -501.053894   \n",
       "\n",
       "   secondary_cleaner.state.floatbank5_a_air  \\\n",
       "0                                  9.925633   \n",
       "1                                 10.039245   \n",
       "2                                 10.070913   \n",
       "3                                  9.970366   \n",
       "4                                  9.925709   \n",
       "\n",
       "   secondary_cleaner.state.floatbank5_a_level  \\\n",
       "0                                 -498.310211   \n",
       "1                                 -500.169983   \n",
       "2                                 -500.129135   \n",
       "3                                 -499.201640   \n",
       "4                                 -501.686727   \n",
       "\n",
       "   secondary_cleaner.state.floatbank5_b_air  \\\n",
       "0                                  8.079666   \n",
       "1                                  7.984757   \n",
       "2                                  8.013877   \n",
       "3                                  7.977324   \n",
       "4                                  7.894242   \n",
       "\n",
       "   secondary_cleaner.state.floatbank5_b_level  \\\n",
       "0                                 -500.470978   \n",
       "1                                 -500.582168   \n",
       "2                                 -500.517572   \n",
       "3                                 -500.255908   \n",
       "4                                 -500.356035   \n",
       "\n",
       "   secondary_cleaner.state.floatbank6_a_air  \\\n",
       "0                                 14.151341   \n",
       "1                                 13.998353   \n",
       "2                                 14.028663   \n",
       "3                                 14.005551   \n",
       "4                                 13.996647   \n",
       "\n",
       "   secondary_cleaner.state.floatbank6_a_level  \\\n",
       "0                                 -605.841980   \n",
       "1                                 -599.787184   \n",
       "2                                 -601.427363   \n",
       "3                                 -599.996129   \n",
       "4                                 -601.496691   \n",
       "\n",
       "   secondary_cleaner.output.tail_au  secondary_cleaner.output.tail_ag  \\\n",
       "0                          2.606185                         14.500184   \n",
       "1                          2.488248                         14.265474   \n",
       "2                          2.458187                         14.115662   \n",
       "3                          2.322062                         13.732071   \n",
       "4                          2.330448                         14.079996   \n",
       "\n",
       "   secondary_cleaner.output.tail_pb  secondary_cleaner.output.tail_sol  \\\n",
       "0                          4.694824                           8.764648   \n",
       "1                          4.592547                           9.001494   \n",
       "2                          4.624775                           8.842896   \n",
       "3                          4.482453                           9.122857   \n",
       "4                          4.470737                           8.871028   \n",
       "\n",
       "   final.output.concentrate_au  final.output.concentrate_ag  \\\n",
       "0                    42.192020                     6.055403   \n",
       "1                    42.701629                     6.029369   \n",
       "2                    42.657501                     6.055926   \n",
       "3                    42.689819                     6.047977   \n",
       "4                    42.774141                     6.148599   \n",
       "\n",
       "   final.output.concentrate_pb  final.output.concentrate_sol  \\\n",
       "0                     9.889648                      5.507324   \n",
       "1                     9.968944                      5.257781   \n",
       "2                    10.213995                      5.383759   \n",
       "3                     9.977019                      4.858634   \n",
       "4                    10.142511                      4.939416   \n",
       "\n",
       "   final.output.recovery  final.output.tail_au  final.output.tail_ag  \\\n",
       "0              70.541216              2.143149             10.411962   \n",
       "1              69.266198              2.224930             10.462676   \n",
       "2              68.116445              2.257889             10.507046   \n",
       "3              68.347543              2.146849             10.422762   \n",
       "4              66.927016              2.055292             10.360302   \n",
       "\n",
       "   final.output.tail_pb  final.output.tail_sol  \n",
       "0              0.895447              16.904297  \n",
       "1              0.927452              16.634514  \n",
       "2              0.953716              16.208849  \n",
       "3              0.883763              16.532835  \n",
       "4              0.792826              16.525686  "
      ]
     },
     "metadata": {},
     "output_type": "display_data"
    },
    {
     "name": "stdout",
     "output_type": "stream",
     "text": [
      "\n"
     ]
    }
   ],
   "source": [
    "for dataset, name in datasets:\n",
    "    print(name)\n",
    "    display(dataset.head())\n",
    "    print()"
   ]
  },
  {
   "cell_type": "markdown",
   "metadata": {},
   "source": [
    "У нас есть две выборки train, test и весь датасет data. Все они разного размера. В test отсутсвтуют целевые признаки."
   ]
  },
  {
   "cell_type": "markdown",
   "metadata": {},
   "source": [
    "### Проверка рассчета эффективности обогащения"
   ]
  },
  {
   "cell_type": "markdown",
   "metadata": {},
   "source": [
    "Расчитаем эффективность с помощью формулы recovery данной в инструкции:"
   ]
  },
  {
   "cell_type": "code",
   "execution_count": 8,
   "metadata": {},
   "outputs": [],
   "source": [
    "def recovery(c,f,t):\n",
    "    prerecovery = (c*(f-t)) / (f*(c-t))\n",
    "    recovery = prerecovery * 100\n",
    "   \n",
    "    return recovery"
   ]
  },
  {
   "cell_type": "code",
   "execution_count": 9,
   "metadata": {},
   "outputs": [
    {
     "data": {
      "text/plain": [
       "82.52119968211336"
      ]
     },
     "execution_count": 9,
     "metadata": {},
     "output_type": "execute_result"
    }
   ],
   "source": [
    "c = train['rougher.output.concentrate_au']\n",
    "f = train['rougher.input.feed_au']\n",
    "t = train['rougher.output.tail_au']\n",
    "\n",
    "recovery_list = recovery(c,f,t)\n",
    "recovery_list.mean()"
   ]
  },
  {
   "cell_type": "code",
   "execution_count": 10,
   "metadata": {},
   "outputs": [
    {
     "data": {
      "text/plain": [
       "82.52119968211336"
      ]
     },
     "execution_count": 10,
     "metadata": {},
     "output_type": "execute_result"
    }
   ],
   "source": [
    "train['rougher.output.recovery'].mean()"
   ]
  },
  {
   "cell_type": "markdown",
   "metadata": {},
   "source": [
    "Значения совпадают, поэтому эффективность похоже рассчитана правильно. Теперь найдем среднюю абсолютную ошибку (MAE) между нашими расчётами и значением признака:"
   ]
  },
  {
   "cell_type": "code",
   "execution_count": 11,
   "metadata": {},
   "outputs": [
    {
     "data": {
      "text/plain": [
       "9.83758577644259e-15"
      ]
     },
     "execution_count": 11,
     "metadata": {},
     "output_type": "execute_result"
    }
   ],
   "source": [
    "mean_absolute_error(recovery_list, train['rougher.output.recovery'])"
   ]
  },
  {
   "cell_type": "markdown",
   "metadata": {},
   "source": [
    "Исходя из полученных результатов мы видим, что средняя абсолютная ошибка получилась 9.8e-15. Можно считать, что наши расчеты достаточно верны."
   ]
  },
  {
   "cell_type": "markdown",
   "metadata": {},
   "source": [
    "### Проанализируем признаки, недоступные в тестовой выборке. Что это за параметры? К какому типу относятся?"
   ]
  },
  {
   "cell_type": "markdown",
   "metadata": {},
   "source": [
    "Найдем признаки недоступные в тестовой выборке:"
   ]
  },
  {
   "cell_type": "code",
   "execution_count": 12,
   "metadata": {},
   "outputs": [
    {
     "data": {
      "text/plain": [
       "{'final.output.concentrate_ag',\n",
       " 'final.output.concentrate_au',\n",
       " 'final.output.concentrate_pb',\n",
       " 'final.output.concentrate_sol',\n",
       " 'final.output.recovery',\n",
       " 'final.output.tail_ag',\n",
       " 'final.output.tail_au',\n",
       " 'final.output.tail_pb',\n",
       " 'final.output.tail_sol',\n",
       " 'primary_cleaner.output.concentrate_ag',\n",
       " 'primary_cleaner.output.concentrate_au',\n",
       " 'primary_cleaner.output.concentrate_pb',\n",
       " 'primary_cleaner.output.concentrate_sol',\n",
       " 'primary_cleaner.output.tail_ag',\n",
       " 'primary_cleaner.output.tail_au',\n",
       " 'primary_cleaner.output.tail_pb',\n",
       " 'primary_cleaner.output.tail_sol',\n",
       " 'rougher.calculation.au_pb_ratio',\n",
       " 'rougher.calculation.floatbank10_sulfate_to_au_feed',\n",
       " 'rougher.calculation.floatbank11_sulfate_to_au_feed',\n",
       " 'rougher.calculation.sulfate_to_au_concentrate',\n",
       " 'rougher.output.concentrate_ag',\n",
       " 'rougher.output.concentrate_au',\n",
       " 'rougher.output.concentrate_pb',\n",
       " 'rougher.output.concentrate_sol',\n",
       " 'rougher.output.recovery',\n",
       " 'rougher.output.tail_ag',\n",
       " 'rougher.output.tail_au',\n",
       " 'rougher.output.tail_pb',\n",
       " 'rougher.output.tail_sol',\n",
       " 'secondary_cleaner.output.tail_ag',\n",
       " 'secondary_cleaner.output.tail_au',\n",
       " 'secondary_cleaner.output.tail_pb',\n",
       " 'secondary_cleaner.output.tail_sol'}"
      ]
     },
     "execution_count": 12,
     "metadata": {},
     "output_type": "execute_result"
    }
   ],
   "source": [
    "set(train.columns)-set(test.columns)"
   ]
  },
  {
   "cell_type": "markdown",
   "metadata": {},
   "source": [
    "Эти признаки отсутствуют в тестовой выборке. Мы видим, что это признаки, которые относятся к вторичным стадиям обогащения, параметры продуктов (а не сырья), расчетные характеристики, относящиеся к разным этапам, т.е значения final.output, primary_cleaner.output, rougher.calculations, rougher.output, secondary_cleaner.output."
   ]
  },
  {
   "cell_type": "markdown",
   "metadata": {},
   "source": [
    "### Проведем предобработку данных"
   ]
  },
  {
   "cell_type": "markdown",
   "metadata": {},
   "source": [
    "Создадим функцию для вывода пропущенных значений:"
   ]
  },
  {
   "cell_type": "code",
   "execution_count": 13,
   "metadata": {},
   "outputs": [],
   "source": [
    "def missing_zero_values_table(df):\n",
    "    zero_val = (df == 0.00).astype(int).sum(axis=0)\n",
    "    mis_val = df.isnull().sum()\n",
    "    mis_val_percent = 100 * df.isnull().sum() / len(df)\n",
    "    mz_table = pd.concat([zero_val, mis_val, mis_val_percent], axis=1)\n",
    "    mz_table = mz_table.rename(\n",
    "    columns = {0 : 'Нулевые значения', 1 : 'Отсутствующие значения', 2 : '% отсутствующих значений от всех значений'})\n",
    "    mz_table['Всего нулевых и отсутствующих значений'] = mz_table['Нулевые значения'] + mz_table['Отсутствующие значения']\n",
    "    mz_table['% всех нулевых и отсутствующих значений'] = 100 * mz_table['Всего нулевых и отсутствующих значений'] / len(df)\n",
    "    mz_table['Тип столбца'] = df.dtypes\n",
    "    mz_table = mz_table[\n",
    "        mz_table.iloc[:,1] != 0].sort_values(\n",
    "    '% отсутствующих значений от всех значений', ascending=False).round(1)\n",
    "    print ('В выбранном датафрейме ' + str(df.shape[1]) + ' столбца(-ов) и ' + str(df.shape[0]) + ' строк.\\n' \\\n",
    "           + str(mz_table.shape[0]) + ' столбца(-ов) имеют отсутствующие значения.')\n",
    "        \n",
    "    return mz_table"
   ]
  },
  {
   "cell_type": "code",
   "execution_count": 14,
   "metadata": {},
   "outputs": [
    {
     "name": "stdout",
     "output_type": "stream",
     "text": [
      "Обучающая выборка\n",
      "В выбранном датафрейме 87 столбца(-ов) и 14579 строк.\n",
      "39 столбца(-ов) имеют отсутствующие значения.\n"
     ]
    },
    {
     "data": {
      "text/html": [
       "<div>\n",
       "<style scoped>\n",
       "    .dataframe tbody tr th:only-of-type {\n",
       "        vertical-align: middle;\n",
       "    }\n",
       "\n",
       "    .dataframe tbody tr th {\n",
       "        vertical-align: top;\n",
       "    }\n",
       "\n",
       "    .dataframe thead th {\n",
       "        text-align: right;\n",
       "    }\n",
       "</style>\n",
       "<table border=\"1\" class=\"dataframe\">\n",
       "  <thead>\n",
       "    <tr style=\"text-align: right;\">\n",
       "      <th></th>\n",
       "      <th>Нулевые значения</th>\n",
       "      <th>Отсутствующие значения</th>\n",
       "      <th>% отсутствующих значений от всех значений</th>\n",
       "      <th>Всего нулевых и отсутствующих значений</th>\n",
       "      <th>% всех нулевых и отсутствующих значений</th>\n",
       "      <th>Тип столбца</th>\n",
       "    </tr>\n",
       "  </thead>\n",
       "  <tbody>\n",
       "    <tr>\n",
       "      <th>secondary_cleaner.output.tail_sol</th>\n",
       "      <td>727</td>\n",
       "      <td>920</td>\n",
       "      <td>6.3</td>\n",
       "      <td>1647</td>\n",
       "      <td>11.3</td>\n",
       "      <td>float64</td>\n",
       "    </tr>\n",
       "    <tr>\n",
       "      <th>rougher.state.floatbank10_e_air</th>\n",
       "      <td>0</td>\n",
       "      <td>429</td>\n",
       "      <td>2.9</td>\n",
       "      <td>429</td>\n",
       "      <td>2.9</td>\n",
       "      <td>float64</td>\n",
       "    </tr>\n",
       "    <tr>\n",
       "      <th>rougher.input.floatbank11_xanthate</th>\n",
       "      <td>0</td>\n",
       "      <td>407</td>\n",
       "      <td>2.8</td>\n",
       "      <td>407</td>\n",
       "      <td>2.8</td>\n",
       "      <td>float64</td>\n",
       "    </tr>\n",
       "    <tr>\n",
       "      <th>primary_cleaner.output.concentrate_sol</th>\n",
       "      <td>108</td>\n",
       "      <td>265</td>\n",
       "      <td>1.8</td>\n",
       "      <td>373</td>\n",
       "      <td>2.6</td>\n",
       "      <td>float64</td>\n",
       "    </tr>\n",
       "    <tr>\n",
       "      <th>final.output.concentrate_sol</th>\n",
       "      <td>98</td>\n",
       "      <td>192</td>\n",
       "      <td>1.3</td>\n",
       "      <td>290</td>\n",
       "      <td>2.0</td>\n",
       "      <td>float64</td>\n",
       "    </tr>\n",
       "    <tr>\n",
       "      <th>rougher.input.feed_size</th>\n",
       "      <td>0</td>\n",
       "      <td>101</td>\n",
       "      <td>0.7</td>\n",
       "      <td>101</td>\n",
       "      <td>0.7</td>\n",
       "      <td>float64</td>\n",
       "    </tr>\n",
       "    <tr>\n",
       "      <th>secondary_cleaner.state.floatbank2_a_air</th>\n",
       "      <td>0</td>\n",
       "      <td>94</td>\n",
       "      <td>0.6</td>\n",
       "      <td>94</td>\n",
       "      <td>0.6</td>\n",
       "      <td>float64</td>\n",
       "    </tr>\n",
       "    <tr>\n",
       "      <th>primary_cleaner.output.concentrate_pb</th>\n",
       "      <td>108</td>\n",
       "      <td>88</td>\n",
       "      <td>0.6</td>\n",
       "      <td>196</td>\n",
       "      <td>1.3</td>\n",
       "      <td>float64</td>\n",
       "    </tr>\n",
       "    <tr>\n",
       "      <th>rougher.input.feed_sol</th>\n",
       "      <td>0</td>\n",
       "      <td>77</td>\n",
       "      <td>0.5</td>\n",
       "      <td>77</td>\n",
       "      <td>0.5</td>\n",
       "      <td>float64</td>\n",
       "    </tr>\n",
       "    <tr>\n",
       "      <th>final.output.tail_pb</th>\n",
       "      <td>72</td>\n",
       "      <td>75</td>\n",
       "      <td>0.5</td>\n",
       "      <td>147</td>\n",
       "      <td>1.0</td>\n",
       "      <td>float64</td>\n",
       "    </tr>\n",
       "    <tr>\n",
       "      <th>rougher.input.feed_pb</th>\n",
       "      <td>0</td>\n",
       "      <td>72</td>\n",
       "      <td>0.5</td>\n",
       "      <td>72</td>\n",
       "      <td>0.5</td>\n",
       "      <td>float64</td>\n",
       "    </tr>\n",
       "    <tr>\n",
       "      <th>primary_cleaner.input.xanthate</th>\n",
       "      <td>0</td>\n",
       "      <td>61</td>\n",
       "      <td>0.4</td>\n",
       "      <td>61</td>\n",
       "      <td>0.4</td>\n",
       "      <td>float64</td>\n",
       "    </tr>\n",
       "    <tr>\n",
       "      <th>primary_cleaner.output.tail_sol</th>\n",
       "      <td>99</td>\n",
       "      <td>45</td>\n",
       "      <td>0.3</td>\n",
       "      <td>144</td>\n",
       "      <td>1.0</td>\n",
       "      <td>float64</td>\n",
       "    </tr>\n",
       "    <tr>\n",
       "      <th>rougher.input.floatbank11_sulfate</th>\n",
       "      <td>0</td>\n",
       "      <td>36</td>\n",
       "      <td>0.2</td>\n",
       "      <td>36</td>\n",
       "      <td>0.2</td>\n",
       "      <td>float64</td>\n",
       "    </tr>\n",
       "    <tr>\n",
       "      <th>rougher.input.floatbank10_sulfate</th>\n",
       "      <td>0</td>\n",
       "      <td>31</td>\n",
       "      <td>0.2</td>\n",
       "      <td>31</td>\n",
       "      <td>0.2</td>\n",
       "      <td>float64</td>\n",
       "    </tr>\n",
       "    <tr>\n",
       "      <th>primary_cleaner.input.depressant</th>\n",
       "      <td>9</td>\n",
       "      <td>28</td>\n",
       "      <td>0.2</td>\n",
       "      <td>37</td>\n",
       "      <td>0.3</td>\n",
       "      <td>float64</td>\n",
       "    </tr>\n",
       "    <tr>\n",
       "      <th>primary_cleaner.input.sulfate</th>\n",
       "      <td>0</td>\n",
       "      <td>23</td>\n",
       "      <td>0.2</td>\n",
       "      <td>23</td>\n",
       "      <td>0.2</td>\n",
       "      <td>float64</td>\n",
       "    </tr>\n",
       "    <tr>\n",
       "      <th>secondary_cleaner.state.floatbank2_b_air</th>\n",
       "      <td>7</td>\n",
       "      <td>22</td>\n",
       "      <td>0.2</td>\n",
       "      <td>29</td>\n",
       "      <td>0.2</td>\n",
       "      <td>float64</td>\n",
       "    </tr>\n",
       "    <tr>\n",
       "      <th>rougher.output.concentrate_sol</th>\n",
       "      <td>394</td>\n",
       "      <td>18</td>\n",
       "      <td>0.1</td>\n",
       "      <td>412</td>\n",
       "      <td>2.8</td>\n",
       "      <td>float64</td>\n",
       "    </tr>\n",
       "    <tr>\n",
       "      <th>secondary_cleaner.state.floatbank3_a_air</th>\n",
       "      <td>2</td>\n",
       "      <td>12</td>\n",
       "      <td>0.1</td>\n",
       "      <td>14</td>\n",
       "      <td>0.1</td>\n",
       "      <td>float64</td>\n",
       "    </tr>\n",
       "    <tr>\n",
       "      <th>rougher.input.floatbank10_xanthate</th>\n",
       "      <td>0</td>\n",
       "      <td>7</td>\n",
       "      <td>0.0</td>\n",
       "      <td>7</td>\n",
       "      <td>0.0</td>\n",
       "      <td>float64</td>\n",
       "    </tr>\n",
       "    <tr>\n",
       "      <th>rougher.input.feed_rate</th>\n",
       "      <td>0</td>\n",
       "      <td>7</td>\n",
       "      <td>0.0</td>\n",
       "      <td>7</td>\n",
       "      <td>0.0</td>\n",
       "      <td>float64</td>\n",
       "    </tr>\n",
       "    <tr>\n",
       "      <th>primary_cleaner.output.tail_pb</th>\n",
       "      <td>99</td>\n",
       "      <td>6</td>\n",
       "      <td>0.0</td>\n",
       "      <td>105</td>\n",
       "      <td>0.7</td>\n",
       "      <td>float64</td>\n",
       "    </tr>\n",
       "    <tr>\n",
       "      <th>secondary_cleaner.state.floatbank4_a_air</th>\n",
       "      <td>1</td>\n",
       "      <td>5</td>\n",
       "      <td>0.0</td>\n",
       "      <td>6</td>\n",
       "      <td>0.0</td>\n",
       "      <td>float64</td>\n",
       "    </tr>\n",
       "    <tr>\n",
       "      <th>final.output.tail_sol</th>\n",
       "      <td>72</td>\n",
       "      <td>5</td>\n",
       "      <td>0.0</td>\n",
       "      <td>77</td>\n",
       "      <td>0.5</td>\n",
       "      <td>float64</td>\n",
       "    </tr>\n",
       "    <tr>\n",
       "      <th>primary_cleaner.output.tail_ag</th>\n",
       "      <td>99</td>\n",
       "      <td>4</td>\n",
       "      <td>0.0</td>\n",
       "      <td>103</td>\n",
       "      <td>0.7</td>\n",
       "      <td>float64</td>\n",
       "    </tr>\n",
       "    <tr>\n",
       "      <th>secondary_cleaner.output.tail_pb</th>\n",
       "      <td>727</td>\n",
       "      <td>4</td>\n",
       "      <td>0.0</td>\n",
       "      <td>731</td>\n",
       "      <td>5.0</td>\n",
       "      <td>float64</td>\n",
       "    </tr>\n",
       "    <tr>\n",
       "      <th>primary_cleaner.state.floatbank8_b_air</th>\n",
       "      <td>0</td>\n",
       "      <td>3</td>\n",
       "      <td>0.0</td>\n",
       "      <td>3</td>\n",
       "      <td>0.0</td>\n",
       "      <td>float64</td>\n",
       "    </tr>\n",
       "    <tr>\n",
       "      <th>primary_cleaner.state.floatbank8_a_air</th>\n",
       "      <td>0</td>\n",
       "      <td>3</td>\n",
       "      <td>0.0</td>\n",
       "      <td>3</td>\n",
       "      <td>0.0</td>\n",
       "      <td>float64</td>\n",
       "    </tr>\n",
       "    <tr>\n",
       "      <th>rougher.output.tail_ag</th>\n",
       "      <td>0</td>\n",
       "      <td>1</td>\n",
       "      <td>0.0</td>\n",
       "      <td>1</td>\n",
       "      <td>0.0</td>\n",
       "      <td>float64</td>\n",
       "    </tr>\n",
       "    <tr>\n",
       "      <th>secondary_cleaner.state.floatbank6_a_air</th>\n",
       "      <td>0</td>\n",
       "      <td>1</td>\n",
       "      <td>0.0</td>\n",
       "      <td>1</td>\n",
       "      <td>0.0</td>\n",
       "      <td>float64</td>\n",
       "    </tr>\n",
       "    <tr>\n",
       "      <th>secondary_cleaner.output.tail_ag</th>\n",
       "      <td>727</td>\n",
       "      <td>1</td>\n",
       "      <td>0.0</td>\n",
       "      <td>728</td>\n",
       "      <td>5.0</td>\n",
       "      <td>float64</td>\n",
       "    </tr>\n",
       "    <tr>\n",
       "      <th>rougher.calculation.floatbank11_sulfate_to_au_feed</th>\n",
       "      <td>0</td>\n",
       "      <td>1</td>\n",
       "      <td>0.0</td>\n",
       "      <td>1</td>\n",
       "      <td>0.0</td>\n",
       "      <td>float64</td>\n",
       "    </tr>\n",
       "    <tr>\n",
       "      <th>final.output.concentrate_ag</th>\n",
       "      <td>98</td>\n",
       "      <td>1</td>\n",
       "      <td>0.0</td>\n",
       "      <td>99</td>\n",
       "      <td>0.7</td>\n",
       "      <td>float64</td>\n",
       "    </tr>\n",
       "    <tr>\n",
       "      <th>final.output.concentrate_pb</th>\n",
       "      <td>98</td>\n",
       "      <td>1</td>\n",
       "      <td>0.0</td>\n",
       "      <td>99</td>\n",
       "      <td>0.7</td>\n",
       "      <td>float64</td>\n",
       "    </tr>\n",
       "    <tr>\n",
       "      <th>rougher.calculation.floatbank10_sulfate_to_au_feed</th>\n",
       "      <td>0</td>\n",
       "      <td>1</td>\n",
       "      <td>0.0</td>\n",
       "      <td>1</td>\n",
       "      <td>0.0</td>\n",
       "      <td>float64</td>\n",
       "    </tr>\n",
       "    <tr>\n",
       "      <th>final.output.tail_ag</th>\n",
       "      <td>72</td>\n",
       "      <td>1</td>\n",
       "      <td>0.0</td>\n",
       "      <td>73</td>\n",
       "      <td>0.5</td>\n",
       "      <td>float64</td>\n",
       "    </tr>\n",
       "    <tr>\n",
       "      <th>rougher.calculation.sulfate_to_au_concentrate</th>\n",
       "      <td>0</td>\n",
       "      <td>1</td>\n",
       "      <td>0.0</td>\n",
       "      <td>1</td>\n",
       "      <td>0.0</td>\n",
       "      <td>float64</td>\n",
       "    </tr>\n",
       "    <tr>\n",
       "      <th>primary_cleaner.state.floatbank8_d_air</th>\n",
       "      <td>0</td>\n",
       "      <td>1</td>\n",
       "      <td>0.0</td>\n",
       "      <td>1</td>\n",
       "      <td>0.0</td>\n",
       "      <td>float64</td>\n",
       "    </tr>\n",
       "  </tbody>\n",
       "</table>\n",
       "</div>"
      ],
      "text/plain": [
       "                                                    Нулевые значения  \\\n",
       "secondary_cleaner.output.tail_sol                                727   \n",
       "rougher.state.floatbank10_e_air                                    0   \n",
       "rougher.input.floatbank11_xanthate                                 0   \n",
       "primary_cleaner.output.concentrate_sol                           108   \n",
       "final.output.concentrate_sol                                      98   \n",
       "rougher.input.feed_size                                            0   \n",
       "secondary_cleaner.state.floatbank2_a_air                           0   \n",
       "primary_cleaner.output.concentrate_pb                            108   \n",
       "rougher.input.feed_sol                                             0   \n",
       "final.output.tail_pb                                              72   \n",
       "rougher.input.feed_pb                                              0   \n",
       "primary_cleaner.input.xanthate                                     0   \n",
       "primary_cleaner.output.tail_sol                                   99   \n",
       "rougher.input.floatbank11_sulfate                                  0   \n",
       "rougher.input.floatbank10_sulfate                                  0   \n",
       "primary_cleaner.input.depressant                                   9   \n",
       "primary_cleaner.input.sulfate                                      0   \n",
       "secondary_cleaner.state.floatbank2_b_air                           7   \n",
       "rougher.output.concentrate_sol                                   394   \n",
       "secondary_cleaner.state.floatbank3_a_air                           2   \n",
       "rougher.input.floatbank10_xanthate                                 0   \n",
       "rougher.input.feed_rate                                            0   \n",
       "primary_cleaner.output.tail_pb                                    99   \n",
       "secondary_cleaner.state.floatbank4_a_air                           1   \n",
       "final.output.tail_sol                                             72   \n",
       "primary_cleaner.output.tail_ag                                    99   \n",
       "secondary_cleaner.output.tail_pb                                 727   \n",
       "primary_cleaner.state.floatbank8_b_air                             0   \n",
       "primary_cleaner.state.floatbank8_a_air                             0   \n",
       "rougher.output.tail_ag                                             0   \n",
       "secondary_cleaner.state.floatbank6_a_air                           0   \n",
       "secondary_cleaner.output.tail_ag                                 727   \n",
       "rougher.calculation.floatbank11_sulfate_to_au_feed                 0   \n",
       "final.output.concentrate_ag                                       98   \n",
       "final.output.concentrate_pb                                       98   \n",
       "rougher.calculation.floatbank10_sulfate_to_au_feed                 0   \n",
       "final.output.tail_ag                                              72   \n",
       "rougher.calculation.sulfate_to_au_concentrate                      0   \n",
       "primary_cleaner.state.floatbank8_d_air                             0   \n",
       "\n",
       "                                                    Отсутствующие значения  \\\n",
       "secondary_cleaner.output.tail_sol                                      920   \n",
       "rougher.state.floatbank10_e_air                                        429   \n",
       "rougher.input.floatbank11_xanthate                                     407   \n",
       "primary_cleaner.output.concentrate_sol                                 265   \n",
       "final.output.concentrate_sol                                           192   \n",
       "rougher.input.feed_size                                                101   \n",
       "secondary_cleaner.state.floatbank2_a_air                                94   \n",
       "primary_cleaner.output.concentrate_pb                                   88   \n",
       "rougher.input.feed_sol                                                  77   \n",
       "final.output.tail_pb                                                    75   \n",
       "rougher.input.feed_pb                                                   72   \n",
       "primary_cleaner.input.xanthate                                          61   \n",
       "primary_cleaner.output.tail_sol                                         45   \n",
       "rougher.input.floatbank11_sulfate                                       36   \n",
       "rougher.input.floatbank10_sulfate                                       31   \n",
       "primary_cleaner.input.depressant                                        28   \n",
       "primary_cleaner.input.sulfate                                           23   \n",
       "secondary_cleaner.state.floatbank2_b_air                                22   \n",
       "rougher.output.concentrate_sol                                          18   \n",
       "secondary_cleaner.state.floatbank3_a_air                                12   \n",
       "rougher.input.floatbank10_xanthate                                       7   \n",
       "rougher.input.feed_rate                                                  7   \n",
       "primary_cleaner.output.tail_pb                                           6   \n",
       "secondary_cleaner.state.floatbank4_a_air                                 5   \n",
       "final.output.tail_sol                                                    5   \n",
       "primary_cleaner.output.tail_ag                                           4   \n",
       "secondary_cleaner.output.tail_pb                                         4   \n",
       "primary_cleaner.state.floatbank8_b_air                                   3   \n",
       "primary_cleaner.state.floatbank8_a_air                                   3   \n",
       "rougher.output.tail_ag                                                   1   \n",
       "secondary_cleaner.state.floatbank6_a_air                                 1   \n",
       "secondary_cleaner.output.tail_ag                                         1   \n",
       "rougher.calculation.floatbank11_sulfate_to_au_feed                       1   \n",
       "final.output.concentrate_ag                                              1   \n",
       "final.output.concentrate_pb                                              1   \n",
       "rougher.calculation.floatbank10_sulfate_to_au_feed                       1   \n",
       "final.output.tail_ag                                                     1   \n",
       "rougher.calculation.sulfate_to_au_concentrate                            1   \n",
       "primary_cleaner.state.floatbank8_d_air                                   1   \n",
       "\n",
       "                                                    % отсутствующих значений от всех значений  \\\n",
       "secondary_cleaner.output.tail_sol                                                         6.3   \n",
       "rougher.state.floatbank10_e_air                                                           2.9   \n",
       "rougher.input.floatbank11_xanthate                                                        2.8   \n",
       "primary_cleaner.output.concentrate_sol                                                    1.8   \n",
       "final.output.concentrate_sol                                                              1.3   \n",
       "rougher.input.feed_size                                                                   0.7   \n",
       "secondary_cleaner.state.floatbank2_a_air                                                  0.6   \n",
       "primary_cleaner.output.concentrate_pb                                                     0.6   \n",
       "rougher.input.feed_sol                                                                    0.5   \n",
       "final.output.tail_pb                                                                      0.5   \n",
       "rougher.input.feed_pb                                                                     0.5   \n",
       "primary_cleaner.input.xanthate                                                            0.4   \n",
       "primary_cleaner.output.tail_sol                                                           0.3   \n",
       "rougher.input.floatbank11_sulfate                                                         0.2   \n",
       "rougher.input.floatbank10_sulfate                                                         0.2   \n",
       "primary_cleaner.input.depressant                                                          0.2   \n",
       "primary_cleaner.input.sulfate                                                             0.2   \n",
       "secondary_cleaner.state.floatbank2_b_air                                                  0.2   \n",
       "rougher.output.concentrate_sol                                                            0.1   \n",
       "secondary_cleaner.state.floatbank3_a_air                                                  0.1   \n",
       "rougher.input.floatbank10_xanthate                                                        0.0   \n",
       "rougher.input.feed_rate                                                                   0.0   \n",
       "primary_cleaner.output.tail_pb                                                            0.0   \n",
       "secondary_cleaner.state.floatbank4_a_air                                                  0.0   \n",
       "final.output.tail_sol                                                                     0.0   \n",
       "primary_cleaner.output.tail_ag                                                            0.0   \n",
       "secondary_cleaner.output.tail_pb                                                          0.0   \n",
       "primary_cleaner.state.floatbank8_b_air                                                    0.0   \n",
       "primary_cleaner.state.floatbank8_a_air                                                    0.0   \n",
       "rougher.output.tail_ag                                                                    0.0   \n",
       "secondary_cleaner.state.floatbank6_a_air                                                  0.0   \n",
       "secondary_cleaner.output.tail_ag                                                          0.0   \n",
       "rougher.calculation.floatbank11_sulfate_to_au_feed                                        0.0   \n",
       "final.output.concentrate_ag                                                               0.0   \n",
       "final.output.concentrate_pb                                                               0.0   \n",
       "rougher.calculation.floatbank10_sulfate_to_au_feed                                        0.0   \n",
       "final.output.tail_ag                                                                      0.0   \n",
       "rougher.calculation.sulfate_to_au_concentrate                                             0.0   \n",
       "primary_cleaner.state.floatbank8_d_air                                                    0.0   \n",
       "\n",
       "                                                    Всего нулевых и отсутствующих значений  \\\n",
       "secondary_cleaner.output.tail_sol                                                     1647   \n",
       "rougher.state.floatbank10_e_air                                                        429   \n",
       "rougher.input.floatbank11_xanthate                                                     407   \n",
       "primary_cleaner.output.concentrate_sol                                                 373   \n",
       "final.output.concentrate_sol                                                           290   \n",
       "rougher.input.feed_size                                                                101   \n",
       "secondary_cleaner.state.floatbank2_a_air                                                94   \n",
       "primary_cleaner.output.concentrate_pb                                                  196   \n",
       "rougher.input.feed_sol                                                                  77   \n",
       "final.output.tail_pb                                                                   147   \n",
       "rougher.input.feed_pb                                                                   72   \n",
       "primary_cleaner.input.xanthate                                                          61   \n",
       "primary_cleaner.output.tail_sol                                                        144   \n",
       "rougher.input.floatbank11_sulfate                                                       36   \n",
       "rougher.input.floatbank10_sulfate                                                       31   \n",
       "primary_cleaner.input.depressant                                                        37   \n",
       "primary_cleaner.input.sulfate                                                           23   \n",
       "secondary_cleaner.state.floatbank2_b_air                                                29   \n",
       "rougher.output.concentrate_sol                                                         412   \n",
       "secondary_cleaner.state.floatbank3_a_air                                                14   \n",
       "rougher.input.floatbank10_xanthate                                                       7   \n",
       "rougher.input.feed_rate                                                                  7   \n",
       "primary_cleaner.output.tail_pb                                                         105   \n",
       "secondary_cleaner.state.floatbank4_a_air                                                 6   \n",
       "final.output.tail_sol                                                                   77   \n",
       "primary_cleaner.output.tail_ag                                                         103   \n",
       "secondary_cleaner.output.tail_pb                                                       731   \n",
       "primary_cleaner.state.floatbank8_b_air                                                   3   \n",
       "primary_cleaner.state.floatbank8_a_air                                                   3   \n",
       "rougher.output.tail_ag                                                                   1   \n",
       "secondary_cleaner.state.floatbank6_a_air                                                 1   \n",
       "secondary_cleaner.output.tail_ag                                                       728   \n",
       "rougher.calculation.floatbank11_sulfate_to_au_feed                                       1   \n",
       "final.output.concentrate_ag                                                             99   \n",
       "final.output.concentrate_pb                                                             99   \n",
       "rougher.calculation.floatbank10_sulfate_to_au_feed                                       1   \n",
       "final.output.tail_ag                                                                    73   \n",
       "rougher.calculation.sulfate_to_au_concentrate                                            1   \n",
       "primary_cleaner.state.floatbank8_d_air                                                   1   \n",
       "\n",
       "                                                    % всех нулевых и отсутствующих значений  \\\n",
       "secondary_cleaner.output.tail_sol                                                      11.3   \n",
       "rougher.state.floatbank10_e_air                                                         2.9   \n",
       "rougher.input.floatbank11_xanthate                                                      2.8   \n",
       "primary_cleaner.output.concentrate_sol                                                  2.6   \n",
       "final.output.concentrate_sol                                                            2.0   \n",
       "rougher.input.feed_size                                                                 0.7   \n",
       "secondary_cleaner.state.floatbank2_a_air                                                0.6   \n",
       "primary_cleaner.output.concentrate_pb                                                   1.3   \n",
       "rougher.input.feed_sol                                                                  0.5   \n",
       "final.output.tail_pb                                                                    1.0   \n",
       "rougher.input.feed_pb                                                                   0.5   \n",
       "primary_cleaner.input.xanthate                                                          0.4   \n",
       "primary_cleaner.output.tail_sol                                                         1.0   \n",
       "rougher.input.floatbank11_sulfate                                                       0.2   \n",
       "rougher.input.floatbank10_sulfate                                                       0.2   \n",
       "primary_cleaner.input.depressant                                                        0.3   \n",
       "primary_cleaner.input.sulfate                                                           0.2   \n",
       "secondary_cleaner.state.floatbank2_b_air                                                0.2   \n",
       "rougher.output.concentrate_sol                                                          2.8   \n",
       "secondary_cleaner.state.floatbank3_a_air                                                0.1   \n",
       "rougher.input.floatbank10_xanthate                                                      0.0   \n",
       "rougher.input.feed_rate                                                                 0.0   \n",
       "primary_cleaner.output.tail_pb                                                          0.7   \n",
       "secondary_cleaner.state.floatbank4_a_air                                                0.0   \n",
       "final.output.tail_sol                                                                   0.5   \n",
       "primary_cleaner.output.tail_ag                                                          0.7   \n",
       "secondary_cleaner.output.tail_pb                                                        5.0   \n",
       "primary_cleaner.state.floatbank8_b_air                                                  0.0   \n",
       "primary_cleaner.state.floatbank8_a_air                                                  0.0   \n",
       "rougher.output.tail_ag                                                                  0.0   \n",
       "secondary_cleaner.state.floatbank6_a_air                                                0.0   \n",
       "secondary_cleaner.output.tail_ag                                                        5.0   \n",
       "rougher.calculation.floatbank11_sulfate_to_au_feed                                      0.0   \n",
       "final.output.concentrate_ag                                                             0.7   \n",
       "final.output.concentrate_pb                                                             0.7   \n",
       "rougher.calculation.floatbank10_sulfate_to_au_feed                                      0.0   \n",
       "final.output.tail_ag                                                                    0.5   \n",
       "rougher.calculation.sulfate_to_au_concentrate                                           0.0   \n",
       "primary_cleaner.state.floatbank8_d_air                                                  0.0   \n",
       "\n",
       "                                                   Тип столбца  \n",
       "secondary_cleaner.output.tail_sol                      float64  \n",
       "rougher.state.floatbank10_e_air                        float64  \n",
       "rougher.input.floatbank11_xanthate                     float64  \n",
       "primary_cleaner.output.concentrate_sol                 float64  \n",
       "final.output.concentrate_sol                           float64  \n",
       "rougher.input.feed_size                                float64  \n",
       "secondary_cleaner.state.floatbank2_a_air               float64  \n",
       "primary_cleaner.output.concentrate_pb                  float64  \n",
       "rougher.input.feed_sol                                 float64  \n",
       "final.output.tail_pb                                   float64  \n",
       "rougher.input.feed_pb                                  float64  \n",
       "primary_cleaner.input.xanthate                         float64  \n",
       "primary_cleaner.output.tail_sol                        float64  \n",
       "rougher.input.floatbank11_sulfate                      float64  \n",
       "rougher.input.floatbank10_sulfate                      float64  \n",
       "primary_cleaner.input.depressant                       float64  \n",
       "primary_cleaner.input.sulfate                          float64  \n",
       "secondary_cleaner.state.floatbank2_b_air               float64  \n",
       "rougher.output.concentrate_sol                         float64  \n",
       "secondary_cleaner.state.floatbank3_a_air               float64  \n",
       "rougher.input.floatbank10_xanthate                     float64  \n",
       "rougher.input.feed_rate                                float64  \n",
       "primary_cleaner.output.tail_pb                         float64  \n",
       "secondary_cleaner.state.floatbank4_a_air               float64  \n",
       "final.output.tail_sol                                  float64  \n",
       "primary_cleaner.output.tail_ag                         float64  \n",
       "secondary_cleaner.output.tail_pb                       float64  \n",
       "primary_cleaner.state.floatbank8_b_air                 float64  \n",
       "primary_cleaner.state.floatbank8_a_air                 float64  \n",
       "rougher.output.tail_ag                                 float64  \n",
       "secondary_cleaner.state.floatbank6_a_air               float64  \n",
       "secondary_cleaner.output.tail_ag                       float64  \n",
       "rougher.calculation.floatbank11_sulfate_to_au_feed     float64  \n",
       "final.output.concentrate_ag                            float64  \n",
       "final.output.concentrate_pb                            float64  \n",
       "rougher.calculation.floatbank10_sulfate_to_au_feed     float64  \n",
       "final.output.tail_ag                                   float64  \n",
       "rougher.calculation.sulfate_to_au_concentrate          float64  \n",
       "primary_cleaner.state.floatbank8_d_air                 float64  "
      ]
     },
     "metadata": {},
     "output_type": "display_data"
    },
    {
     "name": "stdout",
     "output_type": "stream",
     "text": [
      "\n",
      "Тестовая выборка\n",
      "В выбранном датафрейме 53 столбца(-ов) и 4860 строк.\n",
      "44 столбца(-ов) имеют отсутствующие значения.\n"
     ]
    },
    {
     "data": {
      "text/html": [
       "<div>\n",
       "<style scoped>\n",
       "    .dataframe tbody tr th:only-of-type {\n",
       "        vertical-align: middle;\n",
       "    }\n",
       "\n",
       "    .dataframe tbody tr th {\n",
       "        vertical-align: top;\n",
       "    }\n",
       "\n",
       "    .dataframe thead th {\n",
       "        text-align: right;\n",
       "    }\n",
       "</style>\n",
       "<table border=\"1\" class=\"dataframe\">\n",
       "  <thead>\n",
       "    <tr style=\"text-align: right;\">\n",
       "      <th></th>\n",
       "      <th>Нулевые значения</th>\n",
       "      <th>Отсутствующие значения</th>\n",
       "      <th>% отсутствующих значений от всех значений</th>\n",
       "      <th>Всего нулевых и отсутствующих значений</th>\n",
       "      <th>% всех нулевых и отсутствующих значений</th>\n",
       "      <th>Тип столбца</th>\n",
       "    </tr>\n",
       "  </thead>\n",
       "  <tbody>\n",
       "    <tr>\n",
       "      <th>secondary_cleaner.state.floatbank2_a_air</th>\n",
       "      <td>0</td>\n",
       "      <td>126</td>\n",
       "      <td>2.6</td>\n",
       "      <td>126</td>\n",
       "      <td>2.6</td>\n",
       "      <td>float64</td>\n",
       "    </tr>\n",
       "    <tr>\n",
       "      <th>rougher.input.floatbank11_xanthate</th>\n",
       "      <td>0</td>\n",
       "      <td>46</td>\n",
       "      <td>0.9</td>\n",
       "      <td>46</td>\n",
       "      <td>0.9</td>\n",
       "      <td>float64</td>\n",
       "    </tr>\n",
       "    <tr>\n",
       "      <th>rougher.input.feed_size</th>\n",
       "      <td>0</td>\n",
       "      <td>44</td>\n",
       "      <td>0.9</td>\n",
       "      <td>44</td>\n",
       "      <td>0.9</td>\n",
       "      <td>float64</td>\n",
       "    </tr>\n",
       "    <tr>\n",
       "      <th>primary_cleaner.input.xanthate</th>\n",
       "      <td>0</td>\n",
       "      <td>43</td>\n",
       "      <td>0.9</td>\n",
       "      <td>43</td>\n",
       "      <td>0.9</td>\n",
       "      <td>float64</td>\n",
       "    </tr>\n",
       "    <tr>\n",
       "      <th>rougher.input.feed_pb</th>\n",
       "      <td>0</td>\n",
       "      <td>28</td>\n",
       "      <td>0.6</td>\n",
       "      <td>28</td>\n",
       "      <td>0.6</td>\n",
       "      <td>float64</td>\n",
       "    </tr>\n",
       "    <tr>\n",
       "      <th>rougher.input.feed_sol</th>\n",
       "      <td>0</td>\n",
       "      <td>22</td>\n",
       "      <td>0.5</td>\n",
       "      <td>22</td>\n",
       "      <td>0.5</td>\n",
       "      <td>float64</td>\n",
       "    </tr>\n",
       "    <tr>\n",
       "      <th>primary_cleaner.input.depressant</th>\n",
       "      <td>1</td>\n",
       "      <td>9</td>\n",
       "      <td>0.2</td>\n",
       "      <td>10</td>\n",
       "      <td>0.2</td>\n",
       "      <td>float64</td>\n",
       "    </tr>\n",
       "    <tr>\n",
       "      <th>rougher.input.floatbank11_sulfate</th>\n",
       "      <td>0</td>\n",
       "      <td>8</td>\n",
       "      <td>0.2</td>\n",
       "      <td>8</td>\n",
       "      <td>0.2</td>\n",
       "      <td>float64</td>\n",
       "    </tr>\n",
       "    <tr>\n",
       "      <th>rougher.state.floatbank10_e_air</th>\n",
       "      <td>0</td>\n",
       "      <td>7</td>\n",
       "      <td>0.1</td>\n",
       "      <td>7</td>\n",
       "      <td>0.1</td>\n",
       "      <td>float64</td>\n",
       "    </tr>\n",
       "    <tr>\n",
       "      <th>rougher.input.feed_rate</th>\n",
       "      <td>0</td>\n",
       "      <td>4</td>\n",
       "      <td>0.1</td>\n",
       "      <td>4</td>\n",
       "      <td>0.1</td>\n",
       "      <td>float64</td>\n",
       "    </tr>\n",
       "    <tr>\n",
       "      <th>rougher.input.floatbank10_sulfate</th>\n",
       "      <td>0</td>\n",
       "      <td>3</td>\n",
       "      <td>0.1</td>\n",
       "      <td>3</td>\n",
       "      <td>0.1</td>\n",
       "      <td>float64</td>\n",
       "    </tr>\n",
       "    <tr>\n",
       "      <th>primary_cleaner.state.floatbank8_d_air</th>\n",
       "      <td>0</td>\n",
       "      <td>2</td>\n",
       "      <td>0.0</td>\n",
       "      <td>2</td>\n",
       "      <td>0.0</td>\n",
       "      <td>float64</td>\n",
       "    </tr>\n",
       "    <tr>\n",
       "      <th>primary_cleaner.state.floatbank8_c_air</th>\n",
       "      <td>0</td>\n",
       "      <td>2</td>\n",
       "      <td>0.0</td>\n",
       "      <td>2</td>\n",
       "      <td>0.0</td>\n",
       "      <td>float64</td>\n",
       "    </tr>\n",
       "    <tr>\n",
       "      <th>rougher.state.floatbank10_c_level</th>\n",
       "      <td>0</td>\n",
       "      <td>1</td>\n",
       "      <td>0.0</td>\n",
       "      <td>1</td>\n",
       "      <td>0.0</td>\n",
       "      <td>float64</td>\n",
       "    </tr>\n",
       "    <tr>\n",
       "      <th>secondary_cleaner.state.floatbank2_b_level</th>\n",
       "      <td>0</td>\n",
       "      <td>1</td>\n",
       "      <td>0.0</td>\n",
       "      <td>1</td>\n",
       "      <td>0.0</td>\n",
       "      <td>float64</td>\n",
       "    </tr>\n",
       "    <tr>\n",
       "      <th>secondary_cleaner.state.floatbank6_a_air</th>\n",
       "      <td>0</td>\n",
       "      <td>1</td>\n",
       "      <td>0.0</td>\n",
       "      <td>1</td>\n",
       "      <td>0.0</td>\n",
       "      <td>float64</td>\n",
       "    </tr>\n",
       "    <tr>\n",
       "      <th>secondary_cleaner.state.floatbank5_b_level</th>\n",
       "      <td>0</td>\n",
       "      <td>1</td>\n",
       "      <td>0.0</td>\n",
       "      <td>1</td>\n",
       "      <td>0.0</td>\n",
       "      <td>float64</td>\n",
       "    </tr>\n",
       "    <tr>\n",
       "      <th>secondary_cleaner.state.floatbank5_b_air</th>\n",
       "      <td>0</td>\n",
       "      <td>1</td>\n",
       "      <td>0.0</td>\n",
       "      <td>1</td>\n",
       "      <td>0.0</td>\n",
       "      <td>float64</td>\n",
       "    </tr>\n",
       "    <tr>\n",
       "      <th>secondary_cleaner.state.floatbank5_a_level</th>\n",
       "      <td>0</td>\n",
       "      <td>1</td>\n",
       "      <td>0.0</td>\n",
       "      <td>1</td>\n",
       "      <td>0.0</td>\n",
       "      <td>float64</td>\n",
       "    </tr>\n",
       "    <tr>\n",
       "      <th>secondary_cleaner.state.floatbank5_a_air</th>\n",
       "      <td>0</td>\n",
       "      <td>1</td>\n",
       "      <td>0.0</td>\n",
       "      <td>1</td>\n",
       "      <td>0.0</td>\n",
       "      <td>float64</td>\n",
       "    </tr>\n",
       "    <tr>\n",
       "      <th>secondary_cleaner.state.floatbank4_b_level</th>\n",
       "      <td>0</td>\n",
       "      <td>1</td>\n",
       "      <td>0.0</td>\n",
       "      <td>1</td>\n",
       "      <td>0.0</td>\n",
       "      <td>float64</td>\n",
       "    </tr>\n",
       "    <tr>\n",
       "      <th>secondary_cleaner.state.floatbank4_b_air</th>\n",
       "      <td>0</td>\n",
       "      <td>1</td>\n",
       "      <td>0.0</td>\n",
       "      <td>1</td>\n",
       "      <td>0.0</td>\n",
       "      <td>float64</td>\n",
       "    </tr>\n",
       "    <tr>\n",
       "      <th>secondary_cleaner.state.floatbank4_a_level</th>\n",
       "      <td>0</td>\n",
       "      <td>1</td>\n",
       "      <td>0.0</td>\n",
       "      <td>1</td>\n",
       "      <td>0.0</td>\n",
       "      <td>float64</td>\n",
       "    </tr>\n",
       "    <tr>\n",
       "      <th>secondary_cleaner.state.floatbank4_a_air</th>\n",
       "      <td>0</td>\n",
       "      <td>1</td>\n",
       "      <td>0.0</td>\n",
       "      <td>1</td>\n",
       "      <td>0.0</td>\n",
       "      <td>float64</td>\n",
       "    </tr>\n",
       "    <tr>\n",
       "      <th>secondary_cleaner.state.floatbank3_b_level</th>\n",
       "      <td>0</td>\n",
       "      <td>1</td>\n",
       "      <td>0.0</td>\n",
       "      <td>1</td>\n",
       "      <td>0.0</td>\n",
       "      <td>float64</td>\n",
       "    </tr>\n",
       "    <tr>\n",
       "      <th>secondary_cleaner.state.floatbank3_b_air</th>\n",
       "      <td>0</td>\n",
       "      <td>1</td>\n",
       "      <td>0.0</td>\n",
       "      <td>1</td>\n",
       "      <td>0.0</td>\n",
       "      <td>float64</td>\n",
       "    </tr>\n",
       "    <tr>\n",
       "      <th>secondary_cleaner.state.floatbank3_a_level</th>\n",
       "      <td>0</td>\n",
       "      <td>1</td>\n",
       "      <td>0.0</td>\n",
       "      <td>1</td>\n",
       "      <td>0.0</td>\n",
       "      <td>float64</td>\n",
       "    </tr>\n",
       "    <tr>\n",
       "      <th>secondary_cleaner.state.floatbank3_a_air</th>\n",
       "      <td>0</td>\n",
       "      <td>1</td>\n",
       "      <td>0.0</td>\n",
       "      <td>1</td>\n",
       "      <td>0.0</td>\n",
       "      <td>float64</td>\n",
       "    </tr>\n",
       "    <tr>\n",
       "      <th>secondary_cleaner.state.floatbank2_b_air</th>\n",
       "      <td>1</td>\n",
       "      <td>1</td>\n",
       "      <td>0.0</td>\n",
       "      <td>2</td>\n",
       "      <td>0.0</td>\n",
       "      <td>float64</td>\n",
       "    </tr>\n",
       "    <tr>\n",
       "      <th>rougher.state.floatbank10_c_air</th>\n",
       "      <td>0</td>\n",
       "      <td>1</td>\n",
       "      <td>0.0</td>\n",
       "      <td>1</td>\n",
       "      <td>0.0</td>\n",
       "      <td>float64</td>\n",
       "    </tr>\n",
       "    <tr>\n",
       "      <th>secondary_cleaner.state.floatbank2_a_level</th>\n",
       "      <td>0</td>\n",
       "      <td>1</td>\n",
       "      <td>0.0</td>\n",
       "      <td>1</td>\n",
       "      <td>0.0</td>\n",
       "      <td>float64</td>\n",
       "    </tr>\n",
       "    <tr>\n",
       "      <th>rougher.input.floatbank10_xanthate</th>\n",
       "      <td>0</td>\n",
       "      <td>1</td>\n",
       "      <td>0.0</td>\n",
       "      <td>1</td>\n",
       "      <td>0.0</td>\n",
       "      <td>float64</td>\n",
       "    </tr>\n",
       "    <tr>\n",
       "      <th>primary_cleaner.state.floatbank8_d_level</th>\n",
       "      <td>0</td>\n",
       "      <td>1</td>\n",
       "      <td>0.0</td>\n",
       "      <td>1</td>\n",
       "      <td>0.0</td>\n",
       "      <td>float64</td>\n",
       "    </tr>\n",
       "    <tr>\n",
       "      <th>rougher.state.floatbank10_a_air</th>\n",
       "      <td>0</td>\n",
       "      <td>1</td>\n",
       "      <td>0.0</td>\n",
       "      <td>1</td>\n",
       "      <td>0.0</td>\n",
       "      <td>float64</td>\n",
       "    </tr>\n",
       "    <tr>\n",
       "      <th>primary_cleaner.state.floatbank8_c_level</th>\n",
       "      <td>0</td>\n",
       "      <td>1</td>\n",
       "      <td>0.0</td>\n",
       "      <td>1</td>\n",
       "      <td>0.0</td>\n",
       "      <td>float64</td>\n",
       "    </tr>\n",
       "    <tr>\n",
       "      <th>rougher.state.floatbank10_a_level</th>\n",
       "      <td>0</td>\n",
       "      <td>1</td>\n",
       "      <td>0.0</td>\n",
       "      <td>1</td>\n",
       "      <td>0.0</td>\n",
       "      <td>float64</td>\n",
       "    </tr>\n",
       "    <tr>\n",
       "      <th>primary_cleaner.state.floatbank8_b_level</th>\n",
       "      <td>0</td>\n",
       "      <td>1</td>\n",
       "      <td>0.0</td>\n",
       "      <td>1</td>\n",
       "      <td>0.0</td>\n",
       "      <td>float64</td>\n",
       "    </tr>\n",
       "    <tr>\n",
       "      <th>primary_cleaner.state.floatbank8_b_air</th>\n",
       "      <td>0</td>\n",
       "      <td>1</td>\n",
       "      <td>0.0</td>\n",
       "      <td>1</td>\n",
       "      <td>0.0</td>\n",
       "      <td>float64</td>\n",
       "    </tr>\n",
       "    <tr>\n",
       "      <th>primary_cleaner.state.floatbank8_a_level</th>\n",
       "      <td>0</td>\n",
       "      <td>1</td>\n",
       "      <td>0.0</td>\n",
       "      <td>1</td>\n",
       "      <td>0.0</td>\n",
       "      <td>float64</td>\n",
       "    </tr>\n",
       "    <tr>\n",
       "      <th>primary_cleaner.state.floatbank8_a_air</th>\n",
       "      <td>0</td>\n",
       "      <td>1</td>\n",
       "      <td>0.0</td>\n",
       "      <td>1</td>\n",
       "      <td>0.0</td>\n",
       "      <td>float64</td>\n",
       "    </tr>\n",
       "    <tr>\n",
       "      <th>rougher.state.floatbank10_b_air</th>\n",
       "      <td>0</td>\n",
       "      <td>1</td>\n",
       "      <td>0.0</td>\n",
       "      <td>1</td>\n",
       "      <td>0.0</td>\n",
       "      <td>float64</td>\n",
       "    </tr>\n",
       "    <tr>\n",
       "      <th>rougher.state.floatbank10_b_level</th>\n",
       "      <td>0</td>\n",
       "      <td>1</td>\n",
       "      <td>0.0</td>\n",
       "      <td>1</td>\n",
       "      <td>0.0</td>\n",
       "      <td>float64</td>\n",
       "    </tr>\n",
       "    <tr>\n",
       "      <th>primary_cleaner.input.sulfate</th>\n",
       "      <td>0</td>\n",
       "      <td>1</td>\n",
       "      <td>0.0</td>\n",
       "      <td>1</td>\n",
       "      <td>0.0</td>\n",
       "      <td>float64</td>\n",
       "    </tr>\n",
       "    <tr>\n",
       "      <th>secondary_cleaner.state.floatbank6_a_level</th>\n",
       "      <td>0</td>\n",
       "      <td>1</td>\n",
       "      <td>0.0</td>\n",
       "      <td>1</td>\n",
       "      <td>0.0</td>\n",
       "      <td>float64</td>\n",
       "    </tr>\n",
       "  </tbody>\n",
       "</table>\n",
       "</div>"
      ],
      "text/plain": [
       "                                            Нулевые значения  \\\n",
       "secondary_cleaner.state.floatbank2_a_air                   0   \n",
       "rougher.input.floatbank11_xanthate                         0   \n",
       "rougher.input.feed_size                                    0   \n",
       "primary_cleaner.input.xanthate                             0   \n",
       "rougher.input.feed_pb                                      0   \n",
       "rougher.input.feed_sol                                     0   \n",
       "primary_cleaner.input.depressant                           1   \n",
       "rougher.input.floatbank11_sulfate                          0   \n",
       "rougher.state.floatbank10_e_air                            0   \n",
       "rougher.input.feed_rate                                    0   \n",
       "rougher.input.floatbank10_sulfate                          0   \n",
       "primary_cleaner.state.floatbank8_d_air                     0   \n",
       "primary_cleaner.state.floatbank8_c_air                     0   \n",
       "rougher.state.floatbank10_c_level                          0   \n",
       "secondary_cleaner.state.floatbank2_b_level                 0   \n",
       "secondary_cleaner.state.floatbank6_a_air                   0   \n",
       "secondary_cleaner.state.floatbank5_b_level                 0   \n",
       "secondary_cleaner.state.floatbank5_b_air                   0   \n",
       "secondary_cleaner.state.floatbank5_a_level                 0   \n",
       "secondary_cleaner.state.floatbank5_a_air                   0   \n",
       "secondary_cleaner.state.floatbank4_b_level                 0   \n",
       "secondary_cleaner.state.floatbank4_b_air                   0   \n",
       "secondary_cleaner.state.floatbank4_a_level                 0   \n",
       "secondary_cleaner.state.floatbank4_a_air                   0   \n",
       "secondary_cleaner.state.floatbank3_b_level                 0   \n",
       "secondary_cleaner.state.floatbank3_b_air                   0   \n",
       "secondary_cleaner.state.floatbank3_a_level                 0   \n",
       "secondary_cleaner.state.floatbank3_a_air                   0   \n",
       "secondary_cleaner.state.floatbank2_b_air                   1   \n",
       "rougher.state.floatbank10_c_air                            0   \n",
       "secondary_cleaner.state.floatbank2_a_level                 0   \n",
       "rougher.input.floatbank10_xanthate                         0   \n",
       "primary_cleaner.state.floatbank8_d_level                   0   \n",
       "rougher.state.floatbank10_a_air                            0   \n",
       "primary_cleaner.state.floatbank8_c_level                   0   \n",
       "rougher.state.floatbank10_a_level                          0   \n",
       "primary_cleaner.state.floatbank8_b_level                   0   \n",
       "primary_cleaner.state.floatbank8_b_air                     0   \n",
       "primary_cleaner.state.floatbank8_a_level                   0   \n",
       "primary_cleaner.state.floatbank8_a_air                     0   \n",
       "rougher.state.floatbank10_b_air                            0   \n",
       "rougher.state.floatbank10_b_level                          0   \n",
       "primary_cleaner.input.sulfate                              0   \n",
       "secondary_cleaner.state.floatbank6_a_level                 0   \n",
       "\n",
       "                                            Отсутствующие значения  \\\n",
       "secondary_cleaner.state.floatbank2_a_air                       126   \n",
       "rougher.input.floatbank11_xanthate                              46   \n",
       "rougher.input.feed_size                                         44   \n",
       "primary_cleaner.input.xanthate                                  43   \n",
       "rougher.input.feed_pb                                           28   \n",
       "rougher.input.feed_sol                                          22   \n",
       "primary_cleaner.input.depressant                                 9   \n",
       "rougher.input.floatbank11_sulfate                                8   \n",
       "rougher.state.floatbank10_e_air                                  7   \n",
       "rougher.input.feed_rate                                          4   \n",
       "rougher.input.floatbank10_sulfate                                3   \n",
       "primary_cleaner.state.floatbank8_d_air                           2   \n",
       "primary_cleaner.state.floatbank8_c_air                           2   \n",
       "rougher.state.floatbank10_c_level                                1   \n",
       "secondary_cleaner.state.floatbank2_b_level                       1   \n",
       "secondary_cleaner.state.floatbank6_a_air                         1   \n",
       "secondary_cleaner.state.floatbank5_b_level                       1   \n",
       "secondary_cleaner.state.floatbank5_b_air                         1   \n",
       "secondary_cleaner.state.floatbank5_a_level                       1   \n",
       "secondary_cleaner.state.floatbank5_a_air                         1   \n",
       "secondary_cleaner.state.floatbank4_b_level                       1   \n",
       "secondary_cleaner.state.floatbank4_b_air                         1   \n",
       "secondary_cleaner.state.floatbank4_a_level                       1   \n",
       "secondary_cleaner.state.floatbank4_a_air                         1   \n",
       "secondary_cleaner.state.floatbank3_b_level                       1   \n",
       "secondary_cleaner.state.floatbank3_b_air                         1   \n",
       "secondary_cleaner.state.floatbank3_a_level                       1   \n",
       "secondary_cleaner.state.floatbank3_a_air                         1   \n",
       "secondary_cleaner.state.floatbank2_b_air                         1   \n",
       "rougher.state.floatbank10_c_air                                  1   \n",
       "secondary_cleaner.state.floatbank2_a_level                       1   \n",
       "rougher.input.floatbank10_xanthate                               1   \n",
       "primary_cleaner.state.floatbank8_d_level                         1   \n",
       "rougher.state.floatbank10_a_air                                  1   \n",
       "primary_cleaner.state.floatbank8_c_level                         1   \n",
       "rougher.state.floatbank10_a_level                                1   \n",
       "primary_cleaner.state.floatbank8_b_level                         1   \n",
       "primary_cleaner.state.floatbank8_b_air                           1   \n",
       "primary_cleaner.state.floatbank8_a_level                         1   \n",
       "primary_cleaner.state.floatbank8_a_air                           1   \n",
       "rougher.state.floatbank10_b_air                                  1   \n",
       "rougher.state.floatbank10_b_level                                1   \n",
       "primary_cleaner.input.sulfate                                    1   \n",
       "secondary_cleaner.state.floatbank6_a_level                       1   \n",
       "\n",
       "                                            % отсутствующих значений от всех значений  \\\n",
       "secondary_cleaner.state.floatbank2_a_air                                          2.6   \n",
       "rougher.input.floatbank11_xanthate                                                0.9   \n",
       "rougher.input.feed_size                                                           0.9   \n",
       "primary_cleaner.input.xanthate                                                    0.9   \n",
       "rougher.input.feed_pb                                                             0.6   \n",
       "rougher.input.feed_sol                                                            0.5   \n",
       "primary_cleaner.input.depressant                                                  0.2   \n",
       "rougher.input.floatbank11_sulfate                                                 0.2   \n",
       "rougher.state.floatbank10_e_air                                                   0.1   \n",
       "rougher.input.feed_rate                                                           0.1   \n",
       "rougher.input.floatbank10_sulfate                                                 0.1   \n",
       "primary_cleaner.state.floatbank8_d_air                                            0.0   \n",
       "primary_cleaner.state.floatbank8_c_air                                            0.0   \n",
       "rougher.state.floatbank10_c_level                                                 0.0   \n",
       "secondary_cleaner.state.floatbank2_b_level                                        0.0   \n",
       "secondary_cleaner.state.floatbank6_a_air                                          0.0   \n",
       "secondary_cleaner.state.floatbank5_b_level                                        0.0   \n",
       "secondary_cleaner.state.floatbank5_b_air                                          0.0   \n",
       "secondary_cleaner.state.floatbank5_a_level                                        0.0   \n",
       "secondary_cleaner.state.floatbank5_a_air                                          0.0   \n",
       "secondary_cleaner.state.floatbank4_b_level                                        0.0   \n",
       "secondary_cleaner.state.floatbank4_b_air                                          0.0   \n",
       "secondary_cleaner.state.floatbank4_a_level                                        0.0   \n",
       "secondary_cleaner.state.floatbank4_a_air                                          0.0   \n",
       "secondary_cleaner.state.floatbank3_b_level                                        0.0   \n",
       "secondary_cleaner.state.floatbank3_b_air                                          0.0   \n",
       "secondary_cleaner.state.floatbank3_a_level                                        0.0   \n",
       "secondary_cleaner.state.floatbank3_a_air                                          0.0   \n",
       "secondary_cleaner.state.floatbank2_b_air                                          0.0   \n",
       "rougher.state.floatbank10_c_air                                                   0.0   \n",
       "secondary_cleaner.state.floatbank2_a_level                                        0.0   \n",
       "rougher.input.floatbank10_xanthate                                                0.0   \n",
       "primary_cleaner.state.floatbank8_d_level                                          0.0   \n",
       "rougher.state.floatbank10_a_air                                                   0.0   \n",
       "primary_cleaner.state.floatbank8_c_level                                          0.0   \n",
       "rougher.state.floatbank10_a_level                                                 0.0   \n",
       "primary_cleaner.state.floatbank8_b_level                                          0.0   \n",
       "primary_cleaner.state.floatbank8_b_air                                            0.0   \n",
       "primary_cleaner.state.floatbank8_a_level                                          0.0   \n",
       "primary_cleaner.state.floatbank8_a_air                                            0.0   \n",
       "rougher.state.floatbank10_b_air                                                   0.0   \n",
       "rougher.state.floatbank10_b_level                                                 0.0   \n",
       "primary_cleaner.input.sulfate                                                     0.0   \n",
       "secondary_cleaner.state.floatbank6_a_level                                        0.0   \n",
       "\n",
       "                                            Всего нулевых и отсутствующих значений  \\\n",
       "secondary_cleaner.state.floatbank2_a_air                                       126   \n",
       "rougher.input.floatbank11_xanthate                                              46   \n",
       "rougher.input.feed_size                                                         44   \n",
       "primary_cleaner.input.xanthate                                                  43   \n",
       "rougher.input.feed_pb                                                           28   \n",
       "rougher.input.feed_sol                                                          22   \n",
       "primary_cleaner.input.depressant                                                10   \n",
       "rougher.input.floatbank11_sulfate                                                8   \n",
       "rougher.state.floatbank10_e_air                                                  7   \n",
       "rougher.input.feed_rate                                                          4   \n",
       "rougher.input.floatbank10_sulfate                                                3   \n",
       "primary_cleaner.state.floatbank8_d_air                                           2   \n",
       "primary_cleaner.state.floatbank8_c_air                                           2   \n",
       "rougher.state.floatbank10_c_level                                                1   \n",
       "secondary_cleaner.state.floatbank2_b_level                                       1   \n",
       "secondary_cleaner.state.floatbank6_a_air                                         1   \n",
       "secondary_cleaner.state.floatbank5_b_level                                       1   \n",
       "secondary_cleaner.state.floatbank5_b_air                                         1   \n",
       "secondary_cleaner.state.floatbank5_a_level                                       1   \n",
       "secondary_cleaner.state.floatbank5_a_air                                         1   \n",
       "secondary_cleaner.state.floatbank4_b_level                                       1   \n",
       "secondary_cleaner.state.floatbank4_b_air                                         1   \n",
       "secondary_cleaner.state.floatbank4_a_level                                       1   \n",
       "secondary_cleaner.state.floatbank4_a_air                                         1   \n",
       "secondary_cleaner.state.floatbank3_b_level                                       1   \n",
       "secondary_cleaner.state.floatbank3_b_air                                         1   \n",
       "secondary_cleaner.state.floatbank3_a_level                                       1   \n",
       "secondary_cleaner.state.floatbank3_a_air                                         1   \n",
       "secondary_cleaner.state.floatbank2_b_air                                         2   \n",
       "rougher.state.floatbank10_c_air                                                  1   \n",
       "secondary_cleaner.state.floatbank2_a_level                                       1   \n",
       "rougher.input.floatbank10_xanthate                                               1   \n",
       "primary_cleaner.state.floatbank8_d_level                                         1   \n",
       "rougher.state.floatbank10_a_air                                                  1   \n",
       "primary_cleaner.state.floatbank8_c_level                                         1   \n",
       "rougher.state.floatbank10_a_level                                                1   \n",
       "primary_cleaner.state.floatbank8_b_level                                         1   \n",
       "primary_cleaner.state.floatbank8_b_air                                           1   \n",
       "primary_cleaner.state.floatbank8_a_level                                         1   \n",
       "primary_cleaner.state.floatbank8_a_air                                           1   \n",
       "rougher.state.floatbank10_b_air                                                  1   \n",
       "rougher.state.floatbank10_b_level                                                1   \n",
       "primary_cleaner.input.sulfate                                                    1   \n",
       "secondary_cleaner.state.floatbank6_a_level                                       1   \n",
       "\n",
       "                                            % всех нулевых и отсутствующих значений  \\\n",
       "secondary_cleaner.state.floatbank2_a_air                                        2.6   \n",
       "rougher.input.floatbank11_xanthate                                              0.9   \n",
       "rougher.input.feed_size                                                         0.9   \n",
       "primary_cleaner.input.xanthate                                                  0.9   \n",
       "rougher.input.feed_pb                                                           0.6   \n",
       "rougher.input.feed_sol                                                          0.5   \n",
       "primary_cleaner.input.depressant                                                0.2   \n",
       "rougher.input.floatbank11_sulfate                                               0.2   \n",
       "rougher.state.floatbank10_e_air                                                 0.1   \n",
       "rougher.input.feed_rate                                                         0.1   \n",
       "rougher.input.floatbank10_sulfate                                               0.1   \n",
       "primary_cleaner.state.floatbank8_d_air                                          0.0   \n",
       "primary_cleaner.state.floatbank8_c_air                                          0.0   \n",
       "rougher.state.floatbank10_c_level                                               0.0   \n",
       "secondary_cleaner.state.floatbank2_b_level                                      0.0   \n",
       "secondary_cleaner.state.floatbank6_a_air                                        0.0   \n",
       "secondary_cleaner.state.floatbank5_b_level                                      0.0   \n",
       "secondary_cleaner.state.floatbank5_b_air                                        0.0   \n",
       "secondary_cleaner.state.floatbank5_a_level                                      0.0   \n",
       "secondary_cleaner.state.floatbank5_a_air                                        0.0   \n",
       "secondary_cleaner.state.floatbank4_b_level                                      0.0   \n",
       "secondary_cleaner.state.floatbank4_b_air                                        0.0   \n",
       "secondary_cleaner.state.floatbank4_a_level                                      0.0   \n",
       "secondary_cleaner.state.floatbank4_a_air                                        0.0   \n",
       "secondary_cleaner.state.floatbank3_b_level                                      0.0   \n",
       "secondary_cleaner.state.floatbank3_b_air                                        0.0   \n",
       "secondary_cleaner.state.floatbank3_a_level                                      0.0   \n",
       "secondary_cleaner.state.floatbank3_a_air                                        0.0   \n",
       "secondary_cleaner.state.floatbank2_b_air                                        0.0   \n",
       "rougher.state.floatbank10_c_air                                                 0.0   \n",
       "secondary_cleaner.state.floatbank2_a_level                                      0.0   \n",
       "rougher.input.floatbank10_xanthate                                              0.0   \n",
       "primary_cleaner.state.floatbank8_d_level                                        0.0   \n",
       "rougher.state.floatbank10_a_air                                                 0.0   \n",
       "primary_cleaner.state.floatbank8_c_level                                        0.0   \n",
       "rougher.state.floatbank10_a_level                                               0.0   \n",
       "primary_cleaner.state.floatbank8_b_level                                        0.0   \n",
       "primary_cleaner.state.floatbank8_b_air                                          0.0   \n",
       "primary_cleaner.state.floatbank8_a_level                                        0.0   \n",
       "primary_cleaner.state.floatbank8_a_air                                          0.0   \n",
       "rougher.state.floatbank10_b_air                                                 0.0   \n",
       "rougher.state.floatbank10_b_level                                               0.0   \n",
       "primary_cleaner.input.sulfate                                                   0.0   \n",
       "secondary_cleaner.state.floatbank6_a_level                                      0.0   \n",
       "\n",
       "                                           Тип столбца  \n",
       "secondary_cleaner.state.floatbank2_a_air       float64  \n",
       "rougher.input.floatbank11_xanthate             float64  \n",
       "rougher.input.feed_size                        float64  \n",
       "primary_cleaner.input.xanthate                 float64  \n",
       "rougher.input.feed_pb                          float64  \n",
       "rougher.input.feed_sol                         float64  \n",
       "primary_cleaner.input.depressant               float64  \n",
       "rougher.input.floatbank11_sulfate              float64  \n",
       "rougher.state.floatbank10_e_air                float64  \n",
       "rougher.input.feed_rate                        float64  \n",
       "rougher.input.floatbank10_sulfate              float64  \n",
       "primary_cleaner.state.floatbank8_d_air         float64  \n",
       "primary_cleaner.state.floatbank8_c_air         float64  \n",
       "rougher.state.floatbank10_c_level              float64  \n",
       "secondary_cleaner.state.floatbank2_b_level     float64  \n",
       "secondary_cleaner.state.floatbank6_a_air       float64  \n",
       "secondary_cleaner.state.floatbank5_b_level     float64  \n",
       "secondary_cleaner.state.floatbank5_b_air       float64  \n",
       "secondary_cleaner.state.floatbank5_a_level     float64  \n",
       "secondary_cleaner.state.floatbank5_a_air       float64  \n",
       "secondary_cleaner.state.floatbank4_b_level     float64  \n",
       "secondary_cleaner.state.floatbank4_b_air       float64  \n",
       "secondary_cleaner.state.floatbank4_a_level     float64  \n",
       "secondary_cleaner.state.floatbank4_a_air       float64  \n",
       "secondary_cleaner.state.floatbank3_b_level     float64  \n",
       "secondary_cleaner.state.floatbank3_b_air       float64  \n",
       "secondary_cleaner.state.floatbank3_a_level     float64  \n",
       "secondary_cleaner.state.floatbank3_a_air       float64  \n",
       "secondary_cleaner.state.floatbank2_b_air       float64  \n",
       "rougher.state.floatbank10_c_air                float64  \n",
       "secondary_cleaner.state.floatbank2_a_level     float64  \n",
       "rougher.input.floatbank10_xanthate             float64  \n",
       "primary_cleaner.state.floatbank8_d_level       float64  \n",
       "rougher.state.floatbank10_a_air                float64  \n",
       "primary_cleaner.state.floatbank8_c_level       float64  \n",
       "rougher.state.floatbank10_a_level              float64  \n",
       "primary_cleaner.state.floatbank8_b_level       float64  \n",
       "primary_cleaner.state.floatbank8_b_air         float64  \n",
       "primary_cleaner.state.floatbank8_a_level       float64  \n",
       "primary_cleaner.state.floatbank8_a_air         float64  \n",
       "rougher.state.floatbank10_b_air                float64  \n",
       "rougher.state.floatbank10_b_level              float64  \n",
       "primary_cleaner.input.sulfate                  float64  \n",
       "secondary_cleaner.state.floatbank6_a_level     float64  "
      ]
     },
     "metadata": {},
     "output_type": "display_data"
    },
    {
     "name": "stdout",
     "output_type": "stream",
     "text": [
      "\n",
      "Весь датасет\n",
      "В выбранном датафрейме 87 столбца(-ов) и 19439 строк.\n",
      "63 столбца(-ов) имеют отсутствующие значения.\n"
     ]
    },
    {
     "data": {
      "text/html": [
       "<div>\n",
       "<style scoped>\n",
       "    .dataframe tbody tr th:only-of-type {\n",
       "        vertical-align: middle;\n",
       "    }\n",
       "\n",
       "    .dataframe tbody tr th {\n",
       "        vertical-align: top;\n",
       "    }\n",
       "\n",
       "    .dataframe thead th {\n",
       "        text-align: right;\n",
       "    }\n",
       "</style>\n",
       "<table border=\"1\" class=\"dataframe\">\n",
       "  <thead>\n",
       "    <tr style=\"text-align: right;\">\n",
       "      <th></th>\n",
       "      <th>Нулевые значения</th>\n",
       "      <th>Отсутствующие значения</th>\n",
       "      <th>% отсутствующих значений от всех значений</th>\n",
       "      <th>Всего нулевых и отсутствующих значений</th>\n",
       "      <th>% всех нулевых и отсутствующих значений</th>\n",
       "      <th>Тип столбца</th>\n",
       "    </tr>\n",
       "  </thead>\n",
       "  <tbody>\n",
       "    <tr>\n",
       "      <th>secondary_cleaner.output.tail_sol</th>\n",
       "      <td>849</td>\n",
       "      <td>1748</td>\n",
       "      <td>9.0</td>\n",
       "      <td>2597</td>\n",
       "      <td>13.4</td>\n",
       "      <td>float64</td>\n",
       "    </tr>\n",
       "    <tr>\n",
       "      <th>rougher.input.floatbank11_xanthate</th>\n",
       "      <td>0</td>\n",
       "      <td>453</td>\n",
       "      <td>2.3</td>\n",
       "      <td>453</td>\n",
       "      <td>2.3</td>\n",
       "      <td>float64</td>\n",
       "    </tr>\n",
       "    <tr>\n",
       "      <th>rougher.state.floatbank10_e_air</th>\n",
       "      <td>0</td>\n",
       "      <td>436</td>\n",
       "      <td>2.2</td>\n",
       "      <td>436</td>\n",
       "      <td>2.2</td>\n",
       "      <td>float64</td>\n",
       "    </tr>\n",
       "    <tr>\n",
       "      <th>primary_cleaner.output.concentrate_sol</th>\n",
       "      <td>108</td>\n",
       "      <td>370</td>\n",
       "      <td>1.9</td>\n",
       "      <td>478</td>\n",
       "      <td>2.5</td>\n",
       "      <td>float64</td>\n",
       "    </tr>\n",
       "    <tr>\n",
       "      <th>secondary_cleaner.state.floatbank2_a_air</th>\n",
       "      <td>0</td>\n",
       "      <td>220</td>\n",
       "      <td>1.1</td>\n",
       "      <td>220</td>\n",
       "      <td>1.1</td>\n",
       "      <td>float64</td>\n",
       "    </tr>\n",
       "    <tr>\n",
       "      <th>...</th>\n",
       "      <td>...</td>\n",
       "      <td>...</td>\n",
       "      <td>...</td>\n",
       "      <td>...</td>\n",
       "      <td>...</td>\n",
       "      <td>...</td>\n",
       "    </tr>\n",
       "    <tr>\n",
       "      <th>primary_cleaner.state.floatbank8_a_level</th>\n",
       "      <td>0</td>\n",
       "      <td>1</td>\n",
       "      <td>0.0</td>\n",
       "      <td>1</td>\n",
       "      <td>0.0</td>\n",
       "      <td>float64</td>\n",
       "    </tr>\n",
       "    <tr>\n",
       "      <th>rougher.state.floatbank10_b_air</th>\n",
       "      <td>0</td>\n",
       "      <td>1</td>\n",
       "      <td>0.0</td>\n",
       "      <td>1</td>\n",
       "      <td>0.0</td>\n",
       "      <td>float64</td>\n",
       "    </tr>\n",
       "    <tr>\n",
       "      <th>rougher.output.tail_ag</th>\n",
       "      <td>0</td>\n",
       "      <td>1</td>\n",
       "      <td>0.0</td>\n",
       "      <td>1</td>\n",
       "      <td>0.0</td>\n",
       "      <td>float64</td>\n",
       "    </tr>\n",
       "    <tr>\n",
       "      <th>rougher.state.floatbank10_b_level</th>\n",
       "      <td>0</td>\n",
       "      <td>1</td>\n",
       "      <td>0.0</td>\n",
       "      <td>1</td>\n",
       "      <td>0.0</td>\n",
       "      <td>float64</td>\n",
       "    </tr>\n",
       "    <tr>\n",
       "      <th>secondary_cleaner.state.floatbank2_a_level</th>\n",
       "      <td>0</td>\n",
       "      <td>1</td>\n",
       "      <td>0.0</td>\n",
       "      <td>1</td>\n",
       "      <td>0.0</td>\n",
       "      <td>float64</td>\n",
       "    </tr>\n",
       "  </tbody>\n",
       "</table>\n",
       "<p>63 rows × 6 columns</p>\n",
       "</div>"
      ],
      "text/plain": [
       "                                            Нулевые значения  \\\n",
       "secondary_cleaner.output.tail_sol                        849   \n",
       "rougher.input.floatbank11_xanthate                         0   \n",
       "rougher.state.floatbank10_e_air                            0   \n",
       "primary_cleaner.output.concentrate_sol                   108   \n",
       "secondary_cleaner.state.floatbank2_a_air                   0   \n",
       "...                                                      ...   \n",
       "primary_cleaner.state.floatbank8_a_level                   0   \n",
       "rougher.state.floatbank10_b_air                            0   \n",
       "rougher.output.tail_ag                                     0   \n",
       "rougher.state.floatbank10_b_level                          0   \n",
       "secondary_cleaner.state.floatbank2_a_level                 0   \n",
       "\n",
       "                                            Отсутствующие значения  \\\n",
       "secondary_cleaner.output.tail_sol                             1748   \n",
       "rougher.input.floatbank11_xanthate                             453   \n",
       "rougher.state.floatbank10_e_air                                436   \n",
       "primary_cleaner.output.concentrate_sol                         370   \n",
       "secondary_cleaner.state.floatbank2_a_air                       220   \n",
       "...                                                            ...   \n",
       "primary_cleaner.state.floatbank8_a_level                         1   \n",
       "rougher.state.floatbank10_b_air                                  1   \n",
       "rougher.output.tail_ag                                           1   \n",
       "rougher.state.floatbank10_b_level                                1   \n",
       "secondary_cleaner.state.floatbank2_a_level                       1   \n",
       "\n",
       "                                            % отсутствующих значений от всех значений  \\\n",
       "secondary_cleaner.output.tail_sol                                                 9.0   \n",
       "rougher.input.floatbank11_xanthate                                                2.3   \n",
       "rougher.state.floatbank10_e_air                                                   2.2   \n",
       "primary_cleaner.output.concentrate_sol                                            1.9   \n",
       "secondary_cleaner.state.floatbank2_a_air                                          1.1   \n",
       "...                                                                               ...   \n",
       "primary_cleaner.state.floatbank8_a_level                                          0.0   \n",
       "rougher.state.floatbank10_b_air                                                   0.0   \n",
       "rougher.output.tail_ag                                                            0.0   \n",
       "rougher.state.floatbank10_b_level                                                 0.0   \n",
       "secondary_cleaner.state.floatbank2_a_level                                        0.0   \n",
       "\n",
       "                                            Всего нулевых и отсутствующих значений  \\\n",
       "secondary_cleaner.output.tail_sol                                             2597   \n",
       "rougher.input.floatbank11_xanthate                                             453   \n",
       "rougher.state.floatbank10_e_air                                                436   \n",
       "primary_cleaner.output.concentrate_sol                                         478   \n",
       "secondary_cleaner.state.floatbank2_a_air                                       220   \n",
       "...                                                                            ...   \n",
       "primary_cleaner.state.floatbank8_a_level                                         1   \n",
       "rougher.state.floatbank10_b_air                                                  1   \n",
       "rougher.output.tail_ag                                                           1   \n",
       "rougher.state.floatbank10_b_level                                                1   \n",
       "secondary_cleaner.state.floatbank2_a_level                                       1   \n",
       "\n",
       "                                            % всех нулевых и отсутствующих значений  \\\n",
       "secondary_cleaner.output.tail_sol                                              13.4   \n",
       "rougher.input.floatbank11_xanthate                                              2.3   \n",
       "rougher.state.floatbank10_e_air                                                 2.2   \n",
       "primary_cleaner.output.concentrate_sol                                          2.5   \n",
       "secondary_cleaner.state.floatbank2_a_air                                        1.1   \n",
       "...                                                                             ...   \n",
       "primary_cleaner.state.floatbank8_a_level                                        0.0   \n",
       "rougher.state.floatbank10_b_air                                                 0.0   \n",
       "rougher.output.tail_ag                                                          0.0   \n",
       "rougher.state.floatbank10_b_level                                               0.0   \n",
       "secondary_cleaner.state.floatbank2_a_level                                      0.0   \n",
       "\n",
       "                                           Тип столбца  \n",
       "secondary_cleaner.output.tail_sol              float64  \n",
       "rougher.input.floatbank11_xanthate             float64  \n",
       "rougher.state.floatbank10_e_air                float64  \n",
       "primary_cleaner.output.concentrate_sol         float64  \n",
       "secondary_cleaner.state.floatbank2_a_air       float64  \n",
       "...                                                ...  \n",
       "primary_cleaner.state.floatbank8_a_level       float64  \n",
       "rougher.state.floatbank10_b_air                float64  \n",
       "rougher.output.tail_ag                         float64  \n",
       "rougher.state.floatbank10_b_level              float64  \n",
       "secondary_cleaner.state.floatbank2_a_level     float64  \n",
       "\n",
       "[63 rows x 6 columns]"
      ]
     },
     "metadata": {},
     "output_type": "display_data"
    },
    {
     "name": "stdout",
     "output_type": "stream",
     "text": [
      "\n"
     ]
    }
   ],
   "source": [
    "for dataset, name in datasets:\n",
    "    print(name)\n",
    "    display(missing_zero_values_table(dataset))\n",
    "    print()"
   ]
  },
  {
   "cell_type": "markdown",
   "metadata": {},
   "source": [
    "Поскольку в описании проекта сказано, что данные индексируются датой и временем получения информации (признак date) и соседние по времени параметры часто похожи, заполним пропуски соответствующими значениями в следующем ряду методом ffill."
   ]
  },
  {
   "cell_type": "code",
   "execution_count": 15,
   "metadata": {},
   "outputs": [],
   "source": [
    "for dataset, _ in datasets:\n",
    "    dataset.ffill(axis='rows', inplace=True)"
   ]
  },
  {
   "cell_type": "code",
   "execution_count": 16,
   "metadata": {},
   "outputs": [
    {
     "name": "stdout",
     "output_type": "stream",
     "text": [
      "Обучающая выборка\n",
      "В выбранном датафрейме 87 столбца(-ов) и 14579 строк.\n",
      "0 столбца(-ов) имеют отсутствующие значения.\n"
     ]
    },
    {
     "data": {
      "text/html": [
       "<div>\n",
       "<style scoped>\n",
       "    .dataframe tbody tr th:only-of-type {\n",
       "        vertical-align: middle;\n",
       "    }\n",
       "\n",
       "    .dataframe tbody tr th {\n",
       "        vertical-align: top;\n",
       "    }\n",
       "\n",
       "    .dataframe thead th {\n",
       "        text-align: right;\n",
       "    }\n",
       "</style>\n",
       "<table border=\"1\" class=\"dataframe\">\n",
       "  <thead>\n",
       "    <tr style=\"text-align: right;\">\n",
       "      <th></th>\n",
       "      <th>Нулевые значения</th>\n",
       "      <th>Отсутствующие значения</th>\n",
       "      <th>% отсутствующих значений от всех значений</th>\n",
       "      <th>Всего нулевых и отсутствующих значений</th>\n",
       "      <th>% всех нулевых и отсутствующих значений</th>\n",
       "      <th>Тип столбца</th>\n",
       "    </tr>\n",
       "  </thead>\n",
       "  <tbody>\n",
       "  </tbody>\n",
       "</table>\n",
       "</div>"
      ],
      "text/plain": [
       "Empty DataFrame\n",
       "Columns: [Нулевые значения, Отсутствующие значения, % отсутствующих значений от всех значений, Всего нулевых и отсутствующих значений, % всех нулевых и отсутствующих значений, Тип столбца]\n",
       "Index: []"
      ]
     },
     "metadata": {},
     "output_type": "display_data"
    },
    {
     "name": "stdout",
     "output_type": "stream",
     "text": [
      "\n",
      "Тестовая выборка\n",
      "В выбранном датафрейме 53 столбца(-ов) и 4860 строк.\n",
      "0 столбца(-ов) имеют отсутствующие значения.\n"
     ]
    },
    {
     "data": {
      "text/html": [
       "<div>\n",
       "<style scoped>\n",
       "    .dataframe tbody tr th:only-of-type {\n",
       "        vertical-align: middle;\n",
       "    }\n",
       "\n",
       "    .dataframe tbody tr th {\n",
       "        vertical-align: top;\n",
       "    }\n",
       "\n",
       "    .dataframe thead th {\n",
       "        text-align: right;\n",
       "    }\n",
       "</style>\n",
       "<table border=\"1\" class=\"dataframe\">\n",
       "  <thead>\n",
       "    <tr style=\"text-align: right;\">\n",
       "      <th></th>\n",
       "      <th>Нулевые значения</th>\n",
       "      <th>Отсутствующие значения</th>\n",
       "      <th>% отсутствующих значений от всех значений</th>\n",
       "      <th>Всего нулевых и отсутствующих значений</th>\n",
       "      <th>% всех нулевых и отсутствующих значений</th>\n",
       "      <th>Тип столбца</th>\n",
       "    </tr>\n",
       "  </thead>\n",
       "  <tbody>\n",
       "  </tbody>\n",
       "</table>\n",
       "</div>"
      ],
      "text/plain": [
       "Empty DataFrame\n",
       "Columns: [Нулевые значения, Отсутствующие значения, % отсутствующих значений от всех значений, Всего нулевых и отсутствующих значений, % всех нулевых и отсутствующих значений, Тип столбца]\n",
       "Index: []"
      ]
     },
     "metadata": {},
     "output_type": "display_data"
    },
    {
     "name": "stdout",
     "output_type": "stream",
     "text": [
      "\n",
      "Весь датасет\n",
      "В выбранном датафрейме 87 столбца(-ов) и 19439 строк.\n",
      "0 столбца(-ов) имеют отсутствующие значения.\n"
     ]
    },
    {
     "data": {
      "text/html": [
       "<div>\n",
       "<style scoped>\n",
       "    .dataframe tbody tr th:only-of-type {\n",
       "        vertical-align: middle;\n",
       "    }\n",
       "\n",
       "    .dataframe tbody tr th {\n",
       "        vertical-align: top;\n",
       "    }\n",
       "\n",
       "    .dataframe thead th {\n",
       "        text-align: right;\n",
       "    }\n",
       "</style>\n",
       "<table border=\"1\" class=\"dataframe\">\n",
       "  <thead>\n",
       "    <tr style=\"text-align: right;\">\n",
       "      <th></th>\n",
       "      <th>Нулевые значения</th>\n",
       "      <th>Отсутствующие значения</th>\n",
       "      <th>% отсутствующих значений от всех значений</th>\n",
       "      <th>Всего нулевых и отсутствующих значений</th>\n",
       "      <th>% всех нулевых и отсутствующих значений</th>\n",
       "      <th>Тип столбца</th>\n",
       "    </tr>\n",
       "  </thead>\n",
       "  <tbody>\n",
       "  </tbody>\n",
       "</table>\n",
       "</div>"
      ],
      "text/plain": [
       "Empty DataFrame\n",
       "Columns: [Нулевые значения, Отсутствующие значения, % отсутствующих значений от всех значений, Всего нулевых и отсутствующих значений, % всех нулевых и отсутствующих значений, Тип столбца]\n",
       "Index: []"
      ]
     },
     "metadata": {},
     "output_type": "display_data"
    },
    {
     "name": "stdout",
     "output_type": "stream",
     "text": [
      "\n"
     ]
    }
   ],
   "source": [
    "for dataset, name in datasets:\n",
    "    print(name)\n",
    "    display(missing_zero_values_table(dataset))\n",
    "    print()"
   ]
  },
  {
   "cell_type": "markdown",
   "metadata": {},
   "source": [
    "Проверим на наличие дубликатов:"
   ]
  },
  {
   "cell_type": "code",
   "execution_count": 17,
   "metadata": {},
   "outputs": [
    {
     "name": "stdout",
     "output_type": "stream",
     "text": [
      "Обучающая выборка, количество дубликатов:  0\n",
      "Тестовая выборка, количество дубликатов:  0\n",
      "Весь датасет, количество дубликатов:  0\n"
     ]
    }
   ],
   "source": [
    "print('Обучающая выборка, количество дубликатов: ',train.duplicated().sum())\n",
    "print('Тестовая выборка, количество дубликатов: ',test.duplicated().sum())\n",
    "print('Весь датасет, количество дубликатов: ',data.duplicated().sum())"
   ]
  },
  {
   "cell_type": "markdown",
   "metadata": {},
   "source": [
    "Удалим признаки в обучающей выборке, которых нет в тестовой выборке. Также удалим пустые строки в обучающей и тестовой выборках с помощью функции:"
   ]
  },
  {
   "cell_type": "code",
   "execution_count": 18,
   "metadata": {},
   "outputs": [],
   "source": [
    "def clean_dataset(df):\n",
    "        assert isinstance(df, pd.DataFrame)\n",
    "        df.dropna(inplace=True)"
   ]
  },
  {
   "cell_type": "code",
   "execution_count": 19,
   "metadata": {},
   "outputs": [],
   "source": [
    "train = train[test.columns]"
   ]
  },
  {
   "cell_type": "code",
   "execution_count": 20,
   "metadata": {},
   "outputs": [],
   "source": [
    "clean_dataset(train)\n",
    "clean_dataset(test)"
   ]
  },
  {
   "cell_type": "code",
   "execution_count": 21,
   "metadata": {},
   "outputs": [
    {
     "name": "stdout",
     "output_type": "stream",
     "text": [
      "В обучающей выборке : 14579 строк 53 признака\n",
      "В тестовой выборке: 4860 строк 53 признака\n"
     ]
    }
   ],
   "source": [
    "print('В обучающей выборке : {} строк {} признака'.format(train.shape[0],train.shape[1]))\n",
    "print('В тестовой выборке: {} строк {} признака'.format(test.shape[0], test.shape[1]))"
   ]
  },
  {
   "cell_type": "markdown",
   "metadata": {},
   "source": [
    "### Вывод"
   ]
  },
  {
   "cell_type": "markdown",
   "metadata": {},
   "source": [
    "- Удалили из обучающей выборки признаки которых нет в тестовой выборке;\n",
    "- Удалили пустые строки в обучающей и тестовой выборках;\n",
    "- В тестовой и обучающей выборках имеем одинаковое количество признаков. Размер тестовой 4860 строк, размер обучающей 14579 строк;\n",
    "- Можно приступать к анализу и машинному обучению."
   ]
  },
  {
   "cell_type": "markdown",
   "metadata": {},
   "source": [
    "## Анализ данных"
   ]
  },
  {
   "cell_type": "markdown",
   "metadata": {},
   "source": [
    "### Посмотрим, как меняется концентрация металлов (Au, Ag, Pb) на различных этапах очистки."
   ]
  },
  {
   "cell_type": "markdown",
   "metadata": {},
   "source": [
    "Выведем графики для каждого типа металла на каждом из этапов очистки:"
   ]
  },
  {
   "cell_type": "code",
   "execution_count": 22,
   "metadata": {},
   "outputs": [
    {
     "data": {
      "image/png": "[encoded data removed]",
      "text/plain": [
       "<Figure size 576x360 with 1 Axes>"
      ]
     },
     "metadata": {
      "needs_background": "light"
     },
     "output_type": "display_data"
    },
    {
     "data": {
      "image/png": "[encoded data removed]",
      "text/plain": [
       "<Figure size 576x360 with 1 Axes>"
      ]
     },
     "metadata": {
      "needs_background": "light"
     },
     "output_type": "display_data"
    },
    {
     "data": {
      "image/png": "[encoded data removed]",
      "text/plain": [
       "<Figure size 576x360 with 1 Axes>"
      ]
     },
     "metadata": {
      "needs_background": "light"
     },
     "output_type": "display_data"
    }
   ],
   "source": [
    "metals = [('au', 'золота'), ('ag', 'серебра'), ('pb', 'свинца')]\n",
    "\n",
    "stages = [('rougher.input.feed_', 'Исходное сырье'),\n",
    "          ('rougher.output.concentrate_', 'Флотация'), \n",
    "          ('primary_cleaner.output.concentrate_', 'Первый этап очистки'), \n",
    "          ('final.output.concentrate_', 'Второй этап очистки')]\n",
    "\n",
    "\n",
    "for i in metals:\n",
    "    plt.figure(figsize=(8,5))\n",
    "    for item in stages:\n",
    "        ax = sns.distplot(data[item[0] + i[0]], label=item[1])\n",
    "        plt.legend()\n",
    "        _ = ax.set(xlabel='Распределение концeнтрации ' + i[1], ylabel='Плотность',\n",
    "                   title='Изменение концентрации ' + i[1] + ' на каждом этапе очистки')\n",
    "    plt.show()"
   ]
  },
  {
   "cell_type": "markdown",
   "metadata": {},
   "source": [
    "- Как видно из графиков, концентрация золота после всех этапов очистки возврастает, чего не скажешь про другие металлы;\n",
    "- На графиках видно большое количество выбросов в нулевом значении."
   ]
  },
  {
   "cell_type": "markdown",
   "metadata": {},
   "source": [
    "### Сравним распределения размеров гранул сырья на обучающей и тестовой выборках."
   ]
  },
  {
   "cell_type": "code",
   "execution_count": 23,
   "metadata": {},
   "outputs": [
    {
     "data": {
      "image/png": "[encoded data removed]",
      "text/plain": [
       "<Figure size 576x360 with 1 Axes>"
      ]
     },
     "metadata": {
      "needs_background": "light"
     },
     "output_type": "display_data"
    }
   ],
   "source": [
    "plt.figure(figsize=(8,5))\n",
    "sns.distplot(test['rougher.input.feed_size'], label='Тестовая выборка', color='red')\n",
    "sns.distplot(train['rougher.input.feed_size'], label='Обучающая выборка')\n",
    "\n",
    "plt.xlabel('Размер частиц, мк')\n",
    "plt.ylabel('Плотность')\n",
    "plt.legend()\n",
    "\n",
    "plt.show()"
   ]
  },
  {
   "cell_type": "code",
   "execution_count": 24,
   "metadata": {},
   "outputs": [
    {
     "data": {
      "text/plain": [
       "count    14579.000000\n",
       "mean        59.070865\n",
       "std         22.903811\n",
       "min          0.049194\n",
       "25%         47.322462\n",
       "50%         54.464259\n",
       "75%         64.469177\n",
       "max        484.967466\n",
       "Name: rougher.input.feed_size, dtype: float64"
      ]
     },
     "execution_count": 24,
     "metadata": {},
     "output_type": "execute_result"
    }
   ],
   "source": [
    "train['rougher.input.feed_size'].describe()"
   ]
  },
  {
   "cell_type": "code",
   "execution_count": 25,
   "metadata": {},
   "outputs": [
    {
     "data": {
      "text/plain": [
       "count    4860.000000\n",
       "mean       59.136150\n",
       "std        19.512497\n",
       "min         0.046369\n",
       "25%        47.610795\n",
       "50%        55.461058\n",
       "75%        66.538910\n",
       "max       363.989699\n",
       "Name: rougher.input.feed_size, dtype: float64"
      ]
     },
     "execution_count": 25,
     "metadata": {},
     "output_type": "execute_result"
    }
   ],
   "source": [
    "test['rougher.input.feed_size'].describe()"
   ]
  },
  {
   "cell_type": "markdown",
   "metadata": {},
   "source": [
    "Исходя из графика и статистических характеристик данных видно, что распределяния одинаковы, значит размеры гранул на тестовой и обучающей выборке практически не отличаются."
   ]
  },
  {
   "cell_type": "markdown",
   "metadata": {},
   "source": [
    "### Исследуем суммарную концентрацию всех веществ на разных стадиях: в сырье, в черновом и финальном концентратах. Имеются ли аномальные значения в суммарном распределении ? Если они есть нужно ли их удалять из обеих выборок. Опишем выводы и удалим аномалии"
   ]
  },
  {
   "cell_type": "code",
   "execution_count": 26,
   "metadata": {},
   "outputs": [
    {
     "data": {
      "image/png": "[encoded data removed]",
      "text/plain": [
       "<Figure size 1440x432 with 4 Axes>"
      ]
     },
     "metadata": {
      "needs_background": "light"
     },
     "output_type": "display_data"
    }
   ],
   "source": [
    "concentration_stages = [('rougher.input.feed_', 'в сырье'),\n",
    "                        ('rougher.output.concentrate_', 'в черновом концентрате'), \n",
    "                        ('primary_cleaner.output.concentrate_', 'в концентрате первичной очистки'),\n",
    "                        ('final.output.concentrate_', 'в финальном концентрате')]\n",
    "\n",
    "\n",
    "fig, axs = plt.subplots(1, len(concentration_stages), figsize=(20, 6))\n",
    "fig.suptitle('Суммарная концентрация всех веществ на разных стадиях', fontsize=15)\n",
    "\n",
    "\n",
    "for stage, ax in zip(concentration_stages, axs):\n",
    "    ax.set_title(stage[1])\n",
    "    full_sum = data[stage[0]+ 'ag'] + data[stage[0]+ 'au'] + data[stage[0]+ 'pb'] + data[stage[0]+ 'sol']\n",
    "\n",
    "    sns.distplot(full_sum, ax=ax)\n",
    "    ax.set_ylabel('Плотность')\n",
    "\n",
    "plt.show()"
   ]
  },
  {
   "cell_type": "markdown",
   "metadata": {},
   "source": [
    "Имеются нулевые значения, очевидно, что это аномалии, так как не может быть, чтобы концентрации всех веществ вместе в какой-то стадии были равны нулю. В данных концентрата первичной очистки присутствует около 100 результатов с значением меньше 0.01, что так же является аномалией. Удалим эти аномалии:"
   ]
  },
  {
   "cell_type": "code",
   "execution_count": 27,
   "metadata": {},
   "outputs": [],
   "source": [
    "full_sum = data.replace(0, np.nan)\n",
    "full_sum = full_sum.dropna(how='all', axis=0)\n",
    "for i in metals:\n",
    "    full_sum = full_sum[full_sum['primary_cleaner.output.concentrate_' + i[0]] > 0.01]\n",
    "\n",
    "clean_dataset(full_sum)"
   ]
  },
  {
   "cell_type": "markdown",
   "metadata": {},
   "source": [
    "Посмотрим на наш график еще раз без аномалий:"
   ]
  },
  {
   "cell_type": "code",
   "execution_count": 28,
   "metadata": {},
   "outputs": [
    {
     "data": {
      "image/png": "[encoded data removed]",
      "text/plain": [
       "<Figure size 1440x432 with 4 Axes>"
      ]
     },
     "metadata": {
      "needs_background": "light"
     },
     "output_type": "display_data"
    }
   ],
   "source": [
    "fig, axs = plt.subplots(1, len(concentration_stages), figsize=(20, 6))\n",
    "fig.suptitle('Суммарная концентрация всех веществ на разных стадиях', fontsize=15)\n",
    "\n",
    "\n",
    "for stage, ax in zip(concentration_stages, axs):\n",
    "    ax.set_title(stage[1])\n",
    "    final = full_sum[stage[0]+ 'ag'] + full_sum[stage[0]+ 'au'] + full_sum[stage[0]+ 'pb'] + full_sum[stage[0]+ 'sol']\n",
    "    sns.distplot(final.replace(0,np.nan).dropna(), ax=ax)\n",
    "    ax.set_ylabel('Плотность')\n",
    "    \n",
    "\n",
    "plt.show()"
   ]
  },
  {
   "cell_type": "markdown",
   "metadata": {},
   "source": [
    "Исходя из графиков видно, что на финальной стадии суммарная концентрация веществ в разы уменьшается."
   ]
  },
  {
   "cell_type": "markdown",
   "metadata": {},
   "source": [
    "## Модель"
   ]
  },
  {
   "cell_type": "markdown",
   "metadata": {},
   "source": [
    "### Напишем функцию для вычисления итоговой sMAPE."
   ]
  },
  {
   "cell_type": "code",
   "execution_count": 30,
   "metadata": {},
   "outputs": [],
   "source": [
    "def smape(y_target, y_pred):\n",
    "    return ((1/len(y_target)) * np.sum(2 * np.abs(y_target - y_pred) / (np.abs(y_target) + np.abs(y_pred)))) * 100"
   ]
  },
  {
   "cell_type": "markdown",
   "metadata": {},
   "source": [
    "### Обучим разные модели и оценим их качество кросс-валидацией. Выберем лучшую модель и проверим ее на тестовой выборке. Опишем выводы."
   ]
  },
  {
   "cell_type": "markdown",
   "metadata": {},
   "source": [
    "Удалим столбцы date:"
   ]
  },
  {
   "cell_type": "code",
   "execution_count": 31,
   "metadata": {},
   "outputs": [],
   "source": [
    "test.drop(['date'], axis=1, inplace=True)\n",
    "train.drop(['date'], axis=1, inplace=True)"
   ]
  },
  {
   "cell_type": "markdown",
   "metadata": {},
   "source": [
    "Разделим выборки на обучающую и тестовую для чернового концентрата (rougher) и для финального концентрата (final):"
   ]
  },
  {
   "cell_type": "code",
   "execution_count": 32,
   "metadata": {},
   "outputs": [],
   "source": [
    "X_train_r = train\n",
    "X_test_r = test\n",
    "y_train_r = data.loc[X_train_r.index, 'rougher.output.recovery']\n",
    "y_test_r = data.loc[X_test_r.index,'rougher.output.recovery']\n",
    "\n",
    "X_train_f = train\n",
    "X_test_f = test\n",
    "y_train_f = data.loc[X_train_f.index, 'final.output.recovery']\n",
    "y_test_f = data.loc[X_test_f.index, 'final.output.recovery']"
   ]
  },
  {
   "cell_type": "markdown",
   "metadata": {},
   "source": [
    "Проверим размер признаков:"
   ]
  },
  {
   "cell_type": "code",
   "execution_count": 33,
   "metadata": {},
   "outputs": [
    {
     "name": "stdout",
     "output_type": "stream",
     "text": [
      "(14579, 52) (14579, 52)\n",
      "(4860, 52) (4860, 52)\n",
      "(14579,) (14579,)\n",
      "(4860,) (4860,)\n"
     ]
    }
   ],
   "source": [
    "print(X_train_r.shape, X_train_f.shape)\n",
    "print(X_test_r.shape, X_test_f.shape)\n",
    "print(y_train_r.shape, y_train_f.shape)\n",
    "print(y_test_r.shape, y_test_f.shape)"
   ]
  },
  {
   "cell_type": "markdown",
   "metadata": {},
   "source": [
    "Будем использовать три модели, напишем какие параметры нужно будет подобрать для GridSearchCV:"
   ]
  },
  {
   "cell_type": "code",
   "execution_count": 34,
   "metadata": {},
   "outputs": [],
   "source": [
    "state = np.random.RandomState(15243)\n",
    "\n",
    "pipe = Pipeline([\n",
    "    ('imp', SimpleImputer(missing_values=np.nan)),\n",
    "    ('scaler', StandardScaler()),\n",
    "    ('model', RandomForestRegressor(n_estimators=100, random_state=state))\n",
    "])\n",
    "\n",
    "params = [\n",
    "    {\n",
    "        'imp__strategy': ['mean', 'median'],\n",
    "        'model': [RandomForestRegressor(random_state=state)],\n",
    "        'model__n_estimators': [np.arange(1, 202, 10)],\n",
    "        'model__max_depth': [np.arange(1, 21)],\n",
    "        'model__min_samples_leaf': [np.arange(1, 11)],\n",
    "        'model__max_leaf_nodes': [None,10,20,30,40,50,60,70,80,90],\n",
    "        'model__max_features': np.linspace(0.1, 1, 10)\n",
    "    }, {\n",
    "        'imp__strategy': ['mean', 'median'],\n",
    "        'model': [linear_model.LinearRegression()]\n",
    "    }, {\n",
    "        'imp__strategy': ['mean', 'median'],\n",
    "        'model': [linear_model.Lasso(random_state=state)],\n",
    "        'model__alpha': np.logspace(-3, 1, 10)\n",
    "    }\n",
    "]"
   ]
  },
  {
   "cell_type": "markdown",
   "metadata": {},
   "source": [
    "Метрику smape подготовим для scoring'a GridSearchCV:"
   ]
  },
  {
   "cell_type": "code",
   "execution_count": 35,
   "metadata": {},
   "outputs": [],
   "source": [
    "smape_score = make_scorer(smape, greater_is_better=False)"
   ]
  },
  {
   "cell_type": "markdown",
   "metadata": {},
   "source": [
    "Проведем кросс валидацию с помощью kFold и разделим на 5 частей:"
   ]
  },
  {
   "cell_type": "code",
   "execution_count": 36,
   "metadata": {},
   "outputs": [],
   "source": [
    "cv = KFold(n_splits=5, shuffle=False)"
   ]
  },
  {
   "cell_type": "markdown",
   "metadata": {},
   "source": [
    "Подберем лучшие гиперпараметры для чернового концентрата (rougher): "
   ]
  },
  {
   "cell_type": "code",
   "execution_count": 37,
   "metadata": {},
   "outputs": [],
   "source": [
    "grid_rougher = GridSearchCV(pipe, param_grid=params, cv=cv, n_jobs=-1, scoring=smape_score)"
   ]
  },
  {
   "cell_type": "code",
   "execution_count": 38,
   "metadata": {},
   "outputs": [
    {
     "name": "stdout",
     "output_type": "stream",
     "text": [
      "CPU times: user 1min 59s, sys: 1min 23s, total: 3min 23s\n",
      "Wall time: 3min 23s\n"
     ]
    },
    {
     "data": {
      "text/plain": [
       "GridSearchCV(cv=KFold(n_splits=5, random_state=None, shuffle=False),\n",
       "             estimator=Pipeline(steps=[('imp', SimpleImputer()),\n",
       "                                       ('scaler', StandardScaler()),\n",
       "                                       ('model',\n",
       "                                        RandomForestRegressor(random_state=RandomState(MT19937) at 0x7FA46F8F8640))]),\n",
       "             n_jobs=-1,\n",
       "             param_grid=[{'imp__strategy': ['mean', 'median'],\n",
       "                          'model': [RandomForestRegressor(random_state=RandomState(MT19937)...\n",
       "                         {'imp__strategy': ['mean', 'median'],\n",
       "                          'model': [Lasso(alpha=1.2915496650148828,\n",
       "                                          random_state=RandomState(MT19937) at 0x7FA46F8F8640)],\n",
       "                          'model__alpha': array([1.00000000e-03, 2.78255940e-03, 7.74263683e-03, 2.15443469e-02,\n",
       "       5.99484250e-02, 1.66810054e-01, 4.64158883e-01, 1.29154967e+00,\n",
       "       3.59381366e+00, 1.00000000e+01])}],\n",
       "             scoring=make_scorer(smape, greater_is_better=False))"
      ]
     },
     "execution_count": 38,
     "metadata": {},
     "output_type": "execute_result"
    }
   ],
   "source": [
    "%%time\n",
    "\n",
    "grid_rougher.fit(X_train_r, y_train_r)"
   ]
  },
  {
   "cell_type": "markdown",
   "metadata": {},
   "source": [
    "Выведем лучшие параметры для чернового концентрата (rougher):"
   ]
  },
  {
   "cell_type": "code",
   "execution_count": 39,
   "metadata": {},
   "outputs": [
    {
     "name": "stdout",
     "output_type": "stream",
     "text": [
      "Best Params: {'imp__strategy': 'mean', 'model': Lasso(alpha=1.2915496650148828,\n",
      "      random_state=RandomState(MT19937) at 0x7FA46F8F8640), 'model__alpha': 1.2915496650148828}\n",
      "Best smape Score: 12.30297869029601\n"
     ]
    }
   ],
   "source": [
    "print('Best Params:', grid_rougher.best_params_)\n",
    "print('Best smape Score:', -grid_rougher.best_score_)"
   ]
  },
  {
   "cell_type": "markdown",
   "metadata": {},
   "source": [
    "Теперь проведем подбор лучших гиперпараметров для финального концентрата (final):"
   ]
  },
  {
   "cell_type": "code",
   "execution_count": 40,
   "metadata": {},
   "outputs": [],
   "source": [
    "grid_final = GridSearchCV(pipe, param_grid=params, cv=cv, n_jobs=-1,scoring=smape_score)"
   ]
  },
  {
   "cell_type": "code",
   "execution_count": 41,
   "metadata": {},
   "outputs": [
    {
     "name": "stdout",
     "output_type": "stream",
     "text": [
      "CPU times: user 2min 41s, sys: 2min 28s, total: 5min 9s\n",
      "Wall time: 5min 9s\n"
     ]
    },
    {
     "data": {
      "text/plain": [
       "GridSearchCV(cv=KFold(n_splits=5, random_state=None, shuffle=False),\n",
       "             estimator=Pipeline(steps=[('imp', SimpleImputer()),\n",
       "                                       ('scaler', StandardScaler()),\n",
       "                                       ('model',\n",
       "                                        RandomForestRegressor(random_state=RandomState(MT19937) at 0x7FA46F8F8640))]),\n",
       "             n_jobs=-1,\n",
       "             param_grid=[{'imp__strategy': ['mean', 'median'],\n",
       "                          'model': [RandomForestRegressor(random_state=RandomState(MT19937)...\n",
       "                         {'imp__strategy': ['mean', 'median'],\n",
       "                          'model': [Lasso(alpha=1.2915496650148828,\n",
       "                                          random_state=RandomState(MT19937) at 0x7FA46F8F8640)],\n",
       "                          'model__alpha': array([1.00000000e-03, 2.78255940e-03, 7.74263683e-03, 2.15443469e-02,\n",
       "       5.99484250e-02, 1.66810054e-01, 4.64158883e-01, 1.29154967e+00,\n",
       "       3.59381366e+00, 1.00000000e+01])}],\n",
       "             scoring=make_scorer(smape, greater_is_better=False))"
      ]
     },
     "execution_count": 41,
     "metadata": {},
     "output_type": "execute_result"
    }
   ],
   "source": [
    "%%time\n",
    "\n",
    "grid_final.fit(X_train_f, y_train_f)"
   ]
  },
  {
   "cell_type": "markdown",
   "metadata": {},
   "source": [
    "Выведем лучшие параметры для финального концентрата (final):"
   ]
  },
  {
   "cell_type": "code",
   "execution_count": 42,
   "metadata": {},
   "outputs": [
    {
     "name": "stdout",
     "output_type": "stream",
     "text": [
      "Best Params: {'imp__strategy': 'mean', 'model': Lasso(alpha=1.2915496650148828,\n",
      "      random_state=RandomState(MT19937) at 0x7FA46F8F8640), 'model__alpha': 1.2915496650148828}\n",
      "Best smape Score: 10.321627732031285\n"
     ]
    }
   ],
   "source": [
    "print('Best Params:', grid_final.best_params_)\n",
    "print('Best smape Score:', -grid_final.best_score_)"
   ]
  },
  {
   "cell_type": "markdown",
   "metadata": {},
   "source": [
    "Модель с лучшими параметрами для тестовой выборки rougher:"
   ]
  },
  {
   "cell_type": "code",
   "execution_count": 43,
   "metadata": {},
   "outputs": [
    {
     "data": {
      "text/plain": [
       "12.778700179961543"
      ]
     },
     "execution_count": 43,
     "metadata": {},
     "output_type": "execute_result"
    }
   ],
   "source": [
    "pipe_rougher = grid_rougher.best_estimator_\n",
    "\n",
    "pipe_rougher.fit(X_train_r, y_train_r)\n",
    "y_pred = pipe_rougher.predict(X_test_r)\n",
    "\n",
    "smape_rougher = smape(data.loc[X_test_r.index, 'rougher.output.recovery'], y_pred)\n",
    "smape_rougher"
   ]
  },
  {
   "cell_type": "markdown",
   "metadata": {},
   "source": [
    "Модель с лучшими параметрами для тестовой выборки final:"
   ]
  },
  {
   "cell_type": "code",
   "execution_count": 44,
   "metadata": {},
   "outputs": [
    {
     "data": {
      "text/plain": [
       "11.755356400290326"
      ]
     },
     "execution_count": 44,
     "metadata": {},
     "output_type": "execute_result"
    }
   ],
   "source": [
    "pipe_final = grid_final.best_estimator_\n",
    "    \n",
    "pipe_final.fit(X_train_f, y_train_f)\n",
    "y_pred_final = pipe_final.predict(X_test_f)\n",
    "\n",
    "smape_final = smape(data.loc[X_test_r.index, 'final.output.recovery'], y_pred_final)\n",
    "smape_final"
   ]
  },
  {
   "cell_type": "markdown",
   "metadata": {},
   "source": [
    "Рассчитаем итоговый sMAPE:"
   ]
  },
  {
   "cell_type": "code",
   "execution_count": 45,
   "metadata": {},
   "outputs": [
    {
     "name": "stdout",
     "output_type": "stream",
     "text": [
      "Итоговое sMAPE на тестовой выборке: 12.01119234520813\n"
     ]
    }
   ],
   "source": [
    "final_smape = 0.25 * smape_rougher + 0.75 * smape_final\n",
    "print('Итоговое sMAPE на тестовой выборке:', final_smape)"
   ]
  },
  {
   "cell_type": "markdown",
   "metadata": {},
   "source": [
    "### Проверим модель на адекватность"
   ]
  },
  {
   "cell_type": "markdown",
   "metadata": {},
   "source": [
    "Выведем результаты sMAPE с использованием Dummy модели:"
   ]
  },
  {
   "cell_type": "code",
   "execution_count": 46,
   "metadata": {},
   "outputs": [
    {
     "name": "stdout",
     "output_type": "stream",
     "text": [
      "Итоговое sMAPE для DummyRegressor: 20.254864386622906\n"
     ]
    }
   ],
   "source": [
    "dummy_model_r = DummyRegressor(strategy='mean')\n",
    "dummy_model_f = DummyRegressor(strategy='mean')\n",
    "dummy_model_r.fit(X_train_r, y_train_r)\n",
    "dummy_model_f.fit(X_train_f, y_train_f)\n",
    "test_predictions_r = dummy_model_r.predict(X_test_r)\n",
    "test_predictions_f = dummy_model_f.predict(X_test_f)\n",
    "\n",
    "print('Итоговое sMAPE для DummyRegressor:',(smape(y_test_r, test_predictions_r)*0.25) + (smape(y_test_r, test_predictions_f)* 0.75))"
   ]
  },
  {
   "cell_type": "markdown",
   "metadata": {},
   "source": [
    "## Общий вывод:"
   ]
  },
  {
   "cell_type": "markdown",
   "metadata": {},
   "source": [
    "- с помощью GridSearchCV подобрали наилучшую модель и наилучшие параметры\n",
    "- итоговый sMAPE получился : 12.01"
   ]
  }
 ],
 "metadata": {
  "ExecuteTimeLog": [
   {
    "duration": 1886,
    "start_time": "2023-10-04T13:37:25.949Z"
   },
   {
    "duration": 3,
    "start_time": "2023-10-04T13:37:28.539Z"
   },
   {
    "duration": 68,
    "start_time": "2023-10-04T13:37:28.842Z"
   },
   {
    "duration": 1336,
    "start_time": "2023-10-04T13:37:31.082Z"
   },
   {
    "duration": 426,
    "start_time": "2023-10-04T13:37:32.420Z"
   },
   {
    "duration": 1634,
    "start_time": "2023-10-04T13:37:32.848Z"
   },
   {
    "duration": 1845,
    "start_time": "2023-10-05T06:48:51.823Z"
   },
   {
    "duration": 3,
    "start_time": "2023-10-05T06:48:53.671Z"
   },
   {
    "duration": 1626,
    "start_time": "2023-10-05T06:49:22.062Z"
   },
   {
    "duration": 3,
    "start_time": "2023-10-05T06:49:23.690Z"
   },
   {
    "duration": 5,
    "start_time": "2023-10-05T06:49:23.695Z"
   },
   {
    "duration": 1062,
    "start_time": "2023-10-05T06:49:24.773Z"
   },
   {
    "duration": 174,
    "start_time": "2023-10-05T06:49:25.838Z"
   },
   {
    "duration": 1232,
    "start_time": "2023-10-05T06:49:26.015Z"
   },
   {
    "duration": 114,
    "start_time": "2023-10-05T06:56:01.692Z"
   },
   {
    "duration": 17847,
    "start_time": "2023-10-05T06:56:11.092Z"
   },
   {
    "duration": 767,
    "start_time": "2023-10-05T06:56:34.509Z"
   },
   {
    "duration": 85,
    "start_time": "2023-10-05T06:56:38.164Z"
   },
   {
    "duration": 5,
    "start_time": "2023-10-05T07:03:52.451Z"
   },
   {
    "duration": 3240,
    "start_time": "2023-10-05T07:03:53.194Z"
   },
   {
    "duration": 3,
    "start_time": "2023-10-05T07:04:01.499Z"
   },
   {
    "duration": 7,
    "start_time": "2023-10-05T07:04:03.012Z"
   },
   {
    "duration": 972,
    "start_time": "2023-10-05T07:04:03.594Z"
   },
   {
    "duration": 157,
    "start_time": "2023-10-05T07:04:04.570Z"
   },
   {
    "duration": 1266,
    "start_time": "2023-10-05T07:04:04.729Z"
   },
   {
    "duration": 51,
    "start_time": "2023-10-05T07:10:45.145Z"
   },
   {
    "duration": 3488,
    "start_time": "2023-10-05T07:10:55.674Z"
   },
   {
    "duration": 1005,
    "start_time": "2023-10-05T07:11:09.914Z"
   },
   {
    "duration": 3206,
    "start_time": "2023-10-05T07:18:04.409Z"
   },
   {
    "duration": 5,
    "start_time": "2023-10-05T07:18:07.618Z"
   },
   {
    "duration": 1025,
    "start_time": "2023-10-05T07:18:07.625Z"
   },
   {
    "duration": 62,
    "start_time": "2023-10-05T09:28:12.984Z"
   },
   {
    "duration": 3200,
    "start_time": "2023-10-05T09:28:15.976Z"
   },
   {
    "duration": 3,
    "start_time": "2023-10-05T09:28:19.179Z"
   },
   {
    "duration": 943,
    "start_time": "2023-10-05T09:28:20.487Z"
   },
   {
    "duration": 170,
    "start_time": "2023-10-05T09:28:22.200Z"
   },
   {
    "duration": 1208,
    "start_time": "2023-10-05T09:28:23.392Z"
   },
   {
    "duration": 693,
    "start_time": "2023-10-05T09:28:26.672Z"
   },
   {
    "duration": 59,
    "start_time": "2023-10-05T09:28:29.064Z"
   },
   {
    "duration": 4,
    "start_time": "2023-10-05T09:32:20.735Z"
   },
   {
    "duration": 7,
    "start_time": "2023-10-05T09:32:21.576Z"
   },
   {
    "duration": 7,
    "start_time": "2023-10-05T09:32:35.216Z"
   },
   {
    "duration": 137,
    "start_time": "2023-10-05T09:33:11.143Z"
   },
   {
    "duration": 6,
    "start_time": "2023-10-05T09:33:42.928Z"
   },
   {
    "duration": 2314,
    "start_time": "2023-10-05T09:33:46.943Z"
   },
   {
    "duration": 7,
    "start_time": "2023-10-05T09:34:04.824Z"
   },
   {
    "duration": 6,
    "start_time": "2023-10-05T09:35:54.799Z"
   },
   {
    "duration": 7,
    "start_time": "2023-10-05T09:38:10.306Z"
   },
   {
    "duration": 41,
    "start_time": "2023-10-05T09:38:23.831Z"
   },
   {
    "duration": 3,
    "start_time": "2023-10-07T08:47:15.534Z"
   },
   {
    "duration": 1417,
    "start_time": "2023-10-07T08:47:16.016Z"
   },
   {
    "duration": 255,
    "start_time": "2023-10-07T08:47:26.103Z"
   },
   {
    "duration": 2,
    "start_time": "2023-10-07T08:47:28.044Z"
   },
   {
    "duration": 892,
    "start_time": "2023-10-07T08:47:31.456Z"
   },
   {
    "duration": 149,
    "start_time": "2023-10-07T08:47:32.350Z"
   },
   {
    "duration": 1115,
    "start_time": "2023-10-07T08:47:32.503Z"
   },
   {
    "duration": 552,
    "start_time": "2023-10-07T08:47:36.936Z"
   },
   {
    "duration": 46,
    "start_time": "2023-10-07T08:47:39.671Z"
   },
   {
    "duration": 223,
    "start_time": "2023-10-07T08:52:30.221Z"
   },
   {
    "duration": 3,
    "start_time": "2023-10-07T08:53:07.382Z"
   },
   {
    "duration": 7,
    "start_time": "2023-10-07T08:53:07.724Z"
   },
   {
    "duration": 4,
    "start_time": "2023-10-07T08:53:08.212Z"
   },
   {
    "duration": 5,
    "start_time": "2023-10-07T08:53:08.706Z"
   },
   {
    "duration": 5,
    "start_time": "2023-10-07T08:53:21.730Z"
   },
   {
    "duration": 19,
    "start_time": "2023-10-07T09:02:28.573Z"
   },
   {
    "duration": 6,
    "start_time": "2023-10-07T09:02:40.176Z"
   },
   {
    "duration": 37,
    "start_time": "2023-10-07T09:02:40.973Z"
   },
   {
    "duration": 29,
    "start_time": "2023-10-07T09:02:43.205Z"
   },
   {
    "duration": 4,
    "start_time": "2023-10-07T09:03:47.911Z"
   },
   {
    "duration": 13,
    "start_time": "2023-10-07T09:05:05.158Z"
   },
   {
    "duration": 18,
    "start_time": "2023-10-07T09:05:15.845Z"
   },
   {
    "duration": 17,
    "start_time": "2023-10-07T09:05:21.811Z"
   },
   {
    "duration": 28,
    "start_time": "2023-10-07T09:05:27.755Z"
   },
   {
    "duration": 236,
    "start_time": "2023-10-07T09:06:00.240Z"
   },
   {
    "duration": 12,
    "start_time": "2023-10-07T09:08:47.500Z"
   },
   {
    "duration": 3610,
    "start_time": "2023-10-07T09:08:56.910Z"
   },
   {
    "duration": 3522,
    "start_time": "2023-10-07T09:10:00.640Z"
   },
   {
    "duration": 487,
    "start_time": "2023-10-07T09:11:27.101Z"
   },
   {
    "duration": 1300,
    "start_time": "2023-10-07T09:13:34.344Z"
   },
   {
    "duration": 33,
    "start_time": "2023-10-07T09:28:40.066Z"
   },
   {
    "duration": 3,
    "start_time": "2023-10-07T09:29:20.908Z"
   },
   {
    "duration": 1392,
    "start_time": "2023-10-07T09:29:24.136Z"
   },
   {
    "duration": 481,
    "start_time": "2023-10-07T09:33:54.305Z"
   },
   {
    "duration": 3,
    "start_time": "2023-10-07T09:50:12.794Z"
   },
   {
    "duration": 289,
    "start_time": "2023-10-07T09:53:18.495Z"
   },
   {
    "duration": 5,
    "start_time": "2023-10-07T09:53:36.621Z"
   },
   {
    "duration": 1363,
    "start_time": "2023-10-07T09:53:36.628Z"
   },
   {
    "duration": 2,
    "start_time": "2023-10-07T09:53:37.993Z"
   },
   {
    "duration": 16,
    "start_time": "2023-10-07T09:53:37.997Z"
   },
   {
    "duration": 359,
    "start_time": "2023-10-07T09:53:38.015Z"
   },
   {
    "duration": 95,
    "start_time": "2023-10-07T09:53:38.375Z"
   },
   {
    "duration": 415,
    "start_time": "2023-10-07T09:53:38.471Z"
   },
   {
    "duration": 3,
    "start_time": "2023-10-07T09:53:38.887Z"
   },
   {
    "duration": 11,
    "start_time": "2023-10-07T09:53:38.891Z"
   },
   {
    "duration": 20,
    "start_time": "2023-10-07T09:53:38.904Z"
   },
   {
    "duration": 612,
    "start_time": "2023-10-07T09:53:38.926Z"
   },
   {
    "duration": 56,
    "start_time": "2023-10-07T09:53:39.540Z"
   },
   {
    "duration": 257,
    "start_time": "2023-10-07T09:53:39.598Z"
   },
   {
    "duration": 9,
    "start_time": "2023-10-07T09:53:39.856Z"
   },
   {
    "duration": 21,
    "start_time": "2023-10-07T09:53:39.868Z"
   },
   {
    "duration": 10,
    "start_time": "2023-10-07T09:53:39.890Z"
   },
   {
    "duration": 30,
    "start_time": "2023-10-07T09:53:39.902Z"
   },
   {
    "duration": 30,
    "start_time": "2023-10-07T09:53:39.934Z"
   },
   {
    "duration": 17,
    "start_time": "2023-10-07T09:53:39.966Z"
   },
   {
    "duration": 62,
    "start_time": "2023-10-07T09:53:39.984Z"
   },
   {
    "duration": 34,
    "start_time": "2023-10-07T09:53:40.048Z"
   },
   {
    "duration": 5,
    "start_time": "2023-10-07T09:53:40.085Z"
   },
   {
    "duration": 29,
    "start_time": "2023-10-07T09:53:40.091Z"
   },
   {
    "duration": 46,
    "start_time": "2023-10-07T09:53:40.121Z"
   },
   {
    "duration": 3723,
    "start_time": "2023-10-07T09:53:40.169Z"
   },
   {
    "duration": 620,
    "start_time": "2023-10-07T09:53:43.894Z"
   },
   {
    "duration": 1243,
    "start_time": "2023-10-07T09:53:44.516Z"
   },
   {
    "duration": 3,
    "start_time": "2023-10-07T09:53:45.768Z"
   },
   {
    "duration": 3,
    "start_time": "2023-10-07T09:53:48.414Z"
   },
   {
    "duration": 533,
    "start_time": "2023-10-07T09:53:49.132Z"
   },
   {
    "duration": 1345,
    "start_time": "2023-10-07T09:54:18.045Z"
   },
   {
    "duration": 1090,
    "start_time": "2023-10-07T10:00:15.820Z"
   },
   {
    "duration": 1348,
    "start_time": "2023-10-07T10:00:36.985Z"
   },
   {
    "duration": 1501,
    "start_time": "2023-10-07T10:01:05.168Z"
   },
   {
    "duration": 5,
    "start_time": "2023-10-07T10:02:14.769Z"
   },
   {
    "duration": 5,
    "start_time": "2023-10-07T10:02:21.269Z"
   },
   {
    "duration": 525,
    "start_time": "2023-10-07T10:02:40.181Z"
   },
   {
    "duration": 569,
    "start_time": "2023-10-07T10:02:49.833Z"
   },
   {
    "duration": 775,
    "start_time": "2023-10-07T10:02:59.137Z"
   },
   {
    "duration": 552,
    "start_time": "2023-10-07T10:03:05.054Z"
   },
   {
    "duration": 1450,
    "start_time": "2023-10-07T10:05:58.373Z"
   },
   {
    "duration": 667,
    "start_time": "2023-10-07T10:06:42.056Z"
   },
   {
    "duration": 1492,
    "start_time": "2023-10-07T10:06:48.002Z"
   },
   {
    "duration": 1417,
    "start_time": "2023-10-07T10:07:17.163Z"
   },
   {
    "duration": 10,
    "start_time": "2023-10-07T10:13:05.454Z"
   },
   {
    "duration": 9,
    "start_time": "2023-10-07T10:13:13.253Z"
   },
   {
    "duration": 14,
    "start_time": "2023-10-07T10:39:00.000Z"
   },
   {
    "duration": 23,
    "start_time": "2023-10-07T10:39:33.337Z"
   },
   {
    "duration": 5,
    "start_time": "2023-10-07T10:40:16.175Z"
   },
   {
    "duration": 41,
    "start_time": "2023-10-07T10:45:00.519Z"
   },
   {
    "duration": 6,
    "start_time": "2023-10-07T10:45:43.231Z"
   },
   {
    "duration": 21,
    "start_time": "2023-10-07T10:45:52.350Z"
   },
   {
    "duration": 11,
    "start_time": "2023-10-07T10:47:37.103Z"
   },
   {
    "duration": 4,
    "start_time": "2023-10-07T10:47:58.207Z"
   },
   {
    "duration": 5,
    "start_time": "2023-10-07T10:48:01.094Z"
   },
   {
    "duration": 5,
    "start_time": "2023-10-07T10:54:49.938Z"
   },
   {
    "duration": 4,
    "start_time": "2023-10-07T10:55:07.917Z"
   },
   {
    "duration": 5,
    "start_time": "2023-10-07T10:55:17.331Z"
   },
   {
    "duration": 4,
    "start_time": "2023-10-07T10:55:27.559Z"
   },
   {
    "duration": 9,
    "start_time": "2023-10-07T10:55:41.268Z"
   },
   {
    "duration": 3,
    "start_time": "2023-10-07T10:56:09.767Z"
   },
   {
    "duration": 4,
    "start_time": "2023-10-07T10:56:16.231Z"
   },
   {
    "duration": 3,
    "start_time": "2023-10-07T10:56:38.037Z"
   },
   {
    "duration": 439984,
    "start_time": "2023-10-07T10:56:50.196Z"
   },
   {
    "duration": 4,
    "start_time": "2023-10-07T11:04:13.419Z"
   },
   {
    "duration": 3,
    "start_time": "2023-10-07T11:04:35.879Z"
   },
   {
    "duration": 421641,
    "start_time": "2023-10-07T11:04:38.709Z"
   },
   {
    "duration": 4,
    "start_time": "2023-10-07T11:11:40.352Z"
   },
   {
    "duration": 7248,
    "start_time": "2023-10-07T11:11:40.357Z"
   },
   {
    "duration": 0,
    "start_time": "2023-10-07T11:11:47.606Z"
   },
   {
    "duration": 0,
    "start_time": "2023-10-07T11:11:47.607Z"
   },
   {
    "duration": 0,
    "start_time": "2023-10-07T11:11:47.608Z"
   },
   {
    "duration": 4,
    "start_time": "2023-10-07T11:13:49.416Z"
   },
   {
    "duration": 1460,
    "start_time": "2023-10-07T11:13:49.421Z"
   },
   {
    "duration": 3,
    "start_time": "2023-10-07T11:13:50.883Z"
   },
   {
    "duration": 41,
    "start_time": "2023-10-07T11:13:50.888Z"
   },
   {
    "duration": 356,
    "start_time": "2023-10-07T11:13:50.931Z"
   },
   {
    "duration": 84,
    "start_time": "2023-10-07T11:13:51.289Z"
   },
   {
    "duration": 418,
    "start_time": "2023-10-07T11:13:51.375Z"
   },
   {
    "duration": 3,
    "start_time": "2023-10-07T11:13:51.794Z"
   },
   {
    "duration": 28,
    "start_time": "2023-10-07T11:13:51.799Z"
   },
   {
    "duration": 40,
    "start_time": "2023-10-07T11:13:51.829Z"
   },
   {
    "duration": 657,
    "start_time": "2023-10-07T11:13:51.870Z"
   },
   {
    "duration": 61,
    "start_time": "2023-10-07T11:13:52.529Z"
   },
   {
    "duration": 249,
    "start_time": "2023-10-07T11:13:52.592Z"
   },
   {
    "duration": 5,
    "start_time": "2023-10-07T11:13:52.844Z"
   },
   {
    "duration": 42,
    "start_time": "2023-10-07T11:13:52.851Z"
   },
   {
    "duration": 28,
    "start_time": "2023-10-07T11:13:52.895Z"
   },
   {
    "duration": 95,
    "start_time": "2023-10-07T11:13:52.924Z"
   },
   {
    "duration": 42,
    "start_time": "2023-10-07T11:13:53.020Z"
   },
   {
    "duration": 25,
    "start_time": "2023-10-07T11:13:53.064Z"
   },
   {
    "duration": 66,
    "start_time": "2023-10-07T11:13:53.091Z"
   },
   {
    "duration": 47,
    "start_time": "2023-10-07T11:13:53.158Z"
   },
   {
    "duration": 50,
    "start_time": "2023-10-07T11:13:53.206Z"
   },
   {
    "duration": 57,
    "start_time": "2023-10-07T11:13:53.258Z"
   },
   {
    "duration": 54,
    "start_time": "2023-10-07T11:13:53.320Z"
   },
   {
    "duration": 3482,
    "start_time": "2023-10-07T11:13:53.376Z"
   },
   {
    "duration": 615,
    "start_time": "2023-10-07T11:13:56.860Z"
   },
   {
    "duration": 8,
    "start_time": "2023-10-07T11:13:57.476Z"
   },
   {
    "duration": 26,
    "start_time": "2023-10-07T11:13:57.486Z"
   },
   {
    "duration": 1409,
    "start_time": "2023-10-07T11:13:57.513Z"
   },
   {
    "duration": 3,
    "start_time": "2023-10-07T11:13:58.924Z"
   },
   {
    "duration": 1401,
    "start_time": "2023-10-07T11:13:58.928Z"
   },
   {
    "duration": 3,
    "start_time": "2023-10-07T11:14:00.330Z"
   },
   {
    "duration": 11,
    "start_time": "2023-10-07T11:14:05.625Z"
   },
   {
    "duration": 4,
    "start_time": "2023-10-07T11:14:06.288Z"
   },
   {
    "duration": 6,
    "start_time": "2023-10-07T11:14:56.349Z"
   },
   {
    "duration": 107,
    "start_time": "2023-10-07T11:14:59.940Z"
   },
   {
    "duration": 3,
    "start_time": "2023-10-07T11:15:18.728Z"
   },
   {
    "duration": 1362,
    "start_time": "2023-10-07T11:15:18.733Z"
   },
   {
    "duration": 2,
    "start_time": "2023-10-07T11:15:20.097Z"
   },
   {
    "duration": 21,
    "start_time": "2023-10-07T11:15:20.101Z"
   },
   {
    "duration": 344,
    "start_time": "2023-10-07T11:15:20.124Z"
   },
   {
    "duration": 76,
    "start_time": "2023-10-07T11:15:20.470Z"
   },
   {
    "duration": 388,
    "start_time": "2023-10-07T11:15:20.548Z"
   },
   {
    "duration": 2,
    "start_time": "2023-10-07T11:15:20.938Z"
   },
   {
    "duration": 13,
    "start_time": "2023-10-07T11:15:20.941Z"
   },
   {
    "duration": 31,
    "start_time": "2023-10-07T11:15:20.955Z"
   },
   {
    "duration": 563,
    "start_time": "2023-10-07T11:15:20.988Z"
   },
   {
    "duration": 46,
    "start_time": "2023-10-07T11:15:21.553Z"
   },
   {
    "duration": 230,
    "start_time": "2023-10-07T11:15:21.600Z"
   },
   {
    "duration": 3,
    "start_time": "2023-10-07T11:15:21.833Z"
   },
   {
    "duration": 17,
    "start_time": "2023-10-07T11:15:21.838Z"
   },
   {
    "duration": 16,
    "start_time": "2023-10-07T11:15:21.856Z"
   },
   {
    "duration": 16,
    "start_time": "2023-10-07T11:15:21.874Z"
   },
   {
    "duration": 12,
    "start_time": "2023-10-07T11:15:21.892Z"
   },
   {
    "duration": 18,
    "start_time": "2023-10-07T11:15:21.906Z"
   },
   {
    "duration": 50,
    "start_time": "2023-10-07T11:15:21.926Z"
   },
   {
    "duration": 28,
    "start_time": "2023-10-07T11:15:21.978Z"
   },
   {
    "duration": 4,
    "start_time": "2023-10-07T11:15:22.008Z"
   },
   {
    "duration": 26,
    "start_time": "2023-10-07T11:15:22.014Z"
   },
   {
    "duration": 25,
    "start_time": "2023-10-07T11:15:22.050Z"
   },
   {
    "duration": 6,
    "start_time": "2023-10-07T11:15:22.076Z"
   },
   {
    "duration": 3580,
    "start_time": "2023-10-07T11:15:22.084Z"
   },
   {
    "duration": 586,
    "start_time": "2023-10-07T11:15:25.666Z"
   },
   {
    "duration": 8,
    "start_time": "2023-10-07T11:15:26.253Z"
   },
   {
    "duration": 21,
    "start_time": "2023-10-07T11:15:26.262Z"
   },
   {
    "duration": 1346,
    "start_time": "2023-10-07T11:15:26.284Z"
   },
   {
    "duration": 3,
    "start_time": "2023-10-07T11:15:27.632Z"
   },
   {
    "duration": 1290,
    "start_time": "2023-10-07T11:15:27.636Z"
   },
   {
    "duration": 3,
    "start_time": "2023-10-07T11:15:28.928Z"
   },
   {
    "duration": 32,
    "start_time": "2023-10-07T11:15:28.932Z"
   },
   {
    "duration": 5,
    "start_time": "2023-10-07T11:15:31.199Z"
   },
   {
    "duration": 7,
    "start_time": "2023-10-07T11:16:05.247Z"
   },
   {
    "duration": 4,
    "start_time": "2023-10-07T11:16:27.980Z"
   },
   {
    "duration": 5,
    "start_time": "2023-10-07T11:16:37.220Z"
   },
   {
    "duration": 21,
    "start_time": "2023-10-07T11:16:53.355Z"
   },
   {
    "duration": 3,
    "start_time": "2023-10-07T11:21:12.903Z"
   },
   {
    "duration": 11,
    "start_time": "2023-10-07T11:21:23.459Z"
   },
   {
    "duration": 4,
    "start_time": "2023-10-07T11:21:30.686Z"
   },
   {
    "duration": 1579,
    "start_time": "2023-10-07T11:21:30.692Z"
   },
   {
    "duration": 2,
    "start_time": "2023-10-07T11:21:32.273Z"
   },
   {
    "duration": 12,
    "start_time": "2023-10-07T11:21:32.277Z"
   },
   {
    "duration": 403,
    "start_time": "2023-10-07T11:21:32.291Z"
   },
   {
    "duration": 86,
    "start_time": "2023-10-07T11:21:32.696Z"
   },
   {
    "duration": 430,
    "start_time": "2023-10-07T11:21:32.784Z"
   },
   {
    "duration": 2,
    "start_time": "2023-10-07T11:21:33.216Z"
   },
   {
    "duration": 41,
    "start_time": "2023-10-07T11:21:33.219Z"
   },
   {
    "duration": 10,
    "start_time": "2023-10-07T11:21:33.261Z"
   },
   {
    "duration": 594,
    "start_time": "2023-10-07T11:21:33.274Z"
   },
   {
    "duration": 47,
    "start_time": "2023-10-07T11:21:33.869Z"
   },
   {
    "duration": 254,
    "start_time": "2023-10-07T11:21:33.917Z"
   },
   {
    "duration": 3,
    "start_time": "2023-10-07T11:21:34.173Z"
   },
   {
    "duration": 14,
    "start_time": "2023-10-07T11:21:34.177Z"
   },
   {
    "duration": 12,
    "start_time": "2023-10-07T11:21:34.193Z"
   },
   {
    "duration": 28,
    "start_time": "2023-10-07T11:21:34.206Z"
   },
   {
    "duration": 14,
    "start_time": "2023-10-07T11:21:34.236Z"
   },
   {
    "duration": 5,
    "start_time": "2023-10-07T11:21:34.251Z"
   },
   {
    "duration": 45,
    "start_time": "2023-10-07T11:21:34.257Z"
   },
   {
    "duration": 25,
    "start_time": "2023-10-07T11:21:34.303Z"
   },
   {
    "duration": 4,
    "start_time": "2023-10-07T11:21:34.329Z"
   },
   {
    "duration": 46,
    "start_time": "2023-10-07T11:21:34.334Z"
   },
   {
    "duration": 18,
    "start_time": "2023-10-07T11:21:34.382Z"
   },
   {
    "duration": 5,
    "start_time": "2023-10-07T11:21:34.401Z"
   },
   {
    "duration": 18,
    "start_time": "2023-10-07T11:21:34.407Z"
   },
   {
    "duration": 21,
    "start_time": "2023-10-07T11:21:34.427Z"
   },
   {
    "duration": 3420,
    "start_time": "2023-10-07T11:21:34.455Z"
   },
   {
    "duration": 508,
    "start_time": "2023-10-07T11:21:37.878Z"
   },
   {
    "duration": 6,
    "start_time": "2023-10-07T11:21:38.388Z"
   },
   {
    "duration": 6,
    "start_time": "2023-10-07T11:21:38.396Z"
   },
   {
    "duration": 1336,
    "start_time": "2023-10-07T11:21:38.403Z"
   },
   {
    "duration": 1392,
    "start_time": "2023-10-07T11:21:39.740Z"
   },
   {
    "duration": 3,
    "start_time": "2023-10-07T11:21:41.134Z"
   },
   {
    "duration": 26,
    "start_time": "2023-10-07T11:21:41.138Z"
   },
   {
    "duration": 5,
    "start_time": "2023-10-07T11:21:41.166Z"
   },
   {
    "duration": 23,
    "start_time": "2023-10-07T11:21:41.172Z"
   },
   {
    "duration": 116,
    "start_time": "2023-10-07T11:21:41.197Z"
   },
   {
    "duration": 0,
    "start_time": "2023-10-07T11:21:41.315Z"
   },
   {
    "duration": 0,
    "start_time": "2023-10-07T11:21:41.316Z"
   },
   {
    "duration": 0,
    "start_time": "2023-10-07T11:21:41.317Z"
   },
   {
    "duration": 0,
    "start_time": "2023-10-07T11:21:41.318Z"
   },
   {
    "duration": 0,
    "start_time": "2023-10-07T11:21:41.319Z"
   },
   {
    "duration": 0,
    "start_time": "2023-10-07T11:21:41.320Z"
   },
   {
    "duration": 0,
    "start_time": "2023-10-07T11:21:41.321Z"
   },
   {
    "duration": 0,
    "start_time": "2023-10-07T11:21:41.322Z"
   },
   {
    "duration": 0,
    "start_time": "2023-10-07T11:21:41.323Z"
   },
   {
    "duration": 0,
    "start_time": "2023-10-07T11:21:41.324Z"
   },
   {
    "duration": 0,
    "start_time": "2023-10-07T11:21:41.325Z"
   },
   {
    "duration": 5,
    "start_time": "2023-10-07T11:22:18.906Z"
   },
   {
    "duration": 3,
    "start_time": "2023-10-07T11:22:21.246Z"
   },
   {
    "duration": 3,
    "start_time": "2023-10-07T11:22:21.473Z"
   },
   {
    "duration": 816436,
    "start_time": "2023-10-07T11:22:21.627Z"
   },
   {
    "duration": 4,
    "start_time": "2023-10-07T11:35:58.065Z"
   },
   {
    "duration": 15,
    "start_time": "2023-10-07T11:35:58.070Z"
   },
   {
    "duration": 1490165,
    "start_time": "2023-10-07T11:35:58.086Z"
   },
   {
    "duration": 5,
    "start_time": "2023-10-07T12:00:48.252Z"
   },
   {
    "duration": 394,
    "start_time": "2023-10-07T12:00:48.259Z"
   },
   {
    "duration": 0,
    "start_time": "2023-10-07T12:00:48.655Z"
   },
   {
    "duration": 0,
    "start_time": "2023-10-07T12:00:48.658Z"
   },
   {
    "duration": 0,
    "start_time": "2023-10-07T12:00:48.659Z"
   },
   {
    "duration": 3837,
    "start_time": "2023-10-07T12:20:16.324Z"
   },
   {
    "duration": 1739,
    "start_time": "2023-10-07T12:20:22.039Z"
   },
   {
    "duration": 4,
    "start_time": "2023-10-07T12:20:24.524Z"
   },
   {
    "duration": 11,
    "start_time": "2023-10-07T12:20:25.424Z"
   },
   {
    "duration": 6,
    "start_time": "2023-10-07T15:13:05.626Z"
   },
   {
    "duration": 19,
    "start_time": "2023-10-07T15:13:08.424Z"
   },
   {
    "duration": 6,
    "start_time": "2023-10-07T15:13:38.527Z"
   },
   {
    "duration": 19,
    "start_time": "2023-10-07T15:13:38.870Z"
   },
   {
    "duration": 5,
    "start_time": "2023-10-07T15:14:02.442Z"
   },
   {
    "duration": 19,
    "start_time": "2023-10-07T15:14:02.787Z"
   },
   {
    "duration": 5,
    "start_time": "2023-10-07T15:14:39.627Z"
   },
   {
    "duration": 27,
    "start_time": "2023-10-07T15:14:39.634Z"
   },
   {
    "duration": 17,
    "start_time": "2023-10-07T15:15:24.701Z"
   },
   {
    "duration": 52,
    "start_time": "2023-10-07T15:17:06.883Z"
   },
   {
    "duration": 1472,
    "start_time": "2023-10-07T15:20:30.370Z"
   },
   {
    "duration": 3,
    "start_time": "2023-10-07T15:20:31.844Z"
   },
   {
    "duration": 28,
    "start_time": "2023-10-07T15:20:31.851Z"
   },
   {
    "duration": 485,
    "start_time": "2023-10-07T15:20:31.881Z"
   },
   {
    "duration": 104,
    "start_time": "2023-10-07T15:20:32.368Z"
   },
   {
    "duration": 467,
    "start_time": "2023-10-07T15:20:32.476Z"
   },
   {
    "duration": 611,
    "start_time": "2023-10-07T15:20:32.944Z"
   },
   {
    "duration": 55,
    "start_time": "2023-10-07T15:20:33.557Z"
   },
   {
    "duration": 4,
    "start_time": "2023-10-07T15:20:33.614Z"
   },
   {
    "duration": 52,
    "start_time": "2023-10-07T15:20:33.619Z"
   },
   {
    "duration": 44,
    "start_time": "2023-10-07T15:20:33.673Z"
   },
   {
    "duration": 58,
    "start_time": "2023-10-07T15:20:33.719Z"
   },
   {
    "duration": 33,
    "start_time": "2023-10-07T15:20:33.779Z"
   },
   {
    "duration": 27,
    "start_time": "2023-10-07T15:20:33.814Z"
   },
   {
    "duration": 28,
    "start_time": "2023-10-07T15:20:33.842Z"
   },
   {
    "duration": 87,
    "start_time": "2023-10-07T15:20:33.872Z"
   },
   {
    "duration": 31,
    "start_time": "2023-10-07T15:20:33.962Z"
   },
   {
    "duration": 17,
    "start_time": "2023-10-07T15:20:33.995Z"
   },
   {
    "duration": 76,
    "start_time": "2023-10-07T15:20:34.014Z"
   },
   {
    "duration": 235,
    "start_time": "2023-10-07T15:20:34.092Z"
   },
   {
    "duration": 4,
    "start_time": "2023-10-07T15:20:34.328Z"
   },
   {
    "duration": 24,
    "start_time": "2023-10-07T15:20:34.334Z"
   },
   {
    "duration": 45,
    "start_time": "2023-10-07T15:20:34.360Z"
   },
   {
    "duration": 7,
    "start_time": "2023-10-07T15:20:57.946Z"
   },
   {
    "duration": 7,
    "start_time": "2023-10-07T15:30:40.476Z"
   },
   {
    "duration": 24,
    "start_time": "2023-10-07T15:30:41.315Z"
   },
   {
    "duration": 1465,
    "start_time": "2023-10-07T15:33:19.624Z"
   },
   {
    "duration": 3,
    "start_time": "2023-10-07T15:33:21.091Z"
   },
   {
    "duration": 16,
    "start_time": "2023-10-07T15:33:21.096Z"
   },
   {
    "duration": 401,
    "start_time": "2023-10-07T15:33:21.113Z"
   },
   {
    "duration": 95,
    "start_time": "2023-10-07T15:33:21.516Z"
   },
   {
    "duration": 431,
    "start_time": "2023-10-07T15:33:21.612Z"
   },
   {
    "duration": 598,
    "start_time": "2023-10-07T15:33:22.044Z"
   },
   {
    "duration": 60,
    "start_time": "2023-10-07T15:33:22.643Z"
   },
   {
    "duration": 3,
    "start_time": "2023-10-07T15:33:22.705Z"
   },
   {
    "duration": 23,
    "start_time": "2023-10-07T15:33:22.710Z"
   },
   {
    "duration": 12,
    "start_time": "2023-10-07T15:33:22.735Z"
   },
   {
    "duration": 26,
    "start_time": "2023-10-07T15:33:22.751Z"
   },
   {
    "duration": 24,
    "start_time": "2023-10-07T15:33:22.778Z"
   },
   {
    "duration": 22,
    "start_time": "2023-10-07T15:33:22.805Z"
   },
   {
    "duration": 67,
    "start_time": "2023-10-07T15:33:22.829Z"
   },
   {
    "duration": 26,
    "start_time": "2023-10-07T15:33:22.898Z"
   },
   {
    "duration": 17,
    "start_time": "2023-10-07T15:33:22.925Z"
   },
   {
    "duration": 60,
    "start_time": "2023-10-07T15:33:22.944Z"
   },
   {
    "duration": 228,
    "start_time": "2023-10-07T15:33:23.006Z"
   },
   {
    "duration": 3,
    "start_time": "2023-10-07T15:33:23.237Z"
   },
   {
    "duration": 31,
    "start_time": "2023-10-07T15:33:23.241Z"
   },
   {
    "duration": 37,
    "start_time": "2023-10-07T15:33:23.273Z"
   },
   {
    "duration": 12,
    "start_time": "2023-10-07T15:33:23.312Z"
   },
   {
    "duration": 3686,
    "start_time": "2023-10-07T15:33:23.325Z"
   },
   {
    "duration": 631,
    "start_time": "2023-10-07T15:33:27.013Z"
   },
   {
    "duration": 22,
    "start_time": "2023-10-07T15:33:27.645Z"
   },
   {
    "duration": 58,
    "start_time": "2023-10-07T15:38:35.682Z"
   },
   {
    "duration": 63,
    "start_time": "2023-10-07T15:38:45.335Z"
   },
   {
    "duration": 1777,
    "start_time": "2023-10-07T15:41:52.345Z"
   },
   {
    "duration": 3,
    "start_time": "2023-10-07T15:41:54.123Z"
   },
   {
    "duration": 41,
    "start_time": "2023-10-07T15:41:54.128Z"
   },
   {
    "duration": 442,
    "start_time": "2023-10-07T15:41:54.178Z"
   },
   {
    "duration": 113,
    "start_time": "2023-10-07T15:41:54.621Z"
   },
   {
    "duration": 563,
    "start_time": "2023-10-07T15:41:54.737Z"
   },
   {
    "duration": 129,
    "start_time": "2023-10-07T15:41:55.308Z"
   },
   {
    "duration": 0,
    "start_time": "2023-10-07T15:41:55.439Z"
   },
   {
    "duration": 0,
    "start_time": "2023-10-07T15:41:55.440Z"
   },
   {
    "duration": 0,
    "start_time": "2023-10-07T15:41:55.441Z"
   },
   {
    "duration": 0,
    "start_time": "2023-10-07T15:41:55.441Z"
   },
   {
    "duration": 614,
    "start_time": "2023-10-07T15:42:39.879Z"
   },
   {
    "duration": 56,
    "start_time": "2023-10-07T15:42:43.378Z"
   },
   {
    "duration": 4,
    "start_time": "2023-10-07T15:42:52.544Z"
   },
   {
    "duration": 8,
    "start_time": "2023-10-07T15:42:53.627Z"
   },
   {
    "duration": 4,
    "start_time": "2023-10-07T15:42:53.931Z"
   },
   {
    "duration": 6,
    "start_time": "2023-10-07T15:42:56.025Z"
   },
   {
    "duration": 5,
    "start_time": "2023-10-07T15:43:15.698Z"
   },
   {
    "duration": 8,
    "start_time": "2023-10-07T15:43:18.537Z"
   },
   {
    "duration": 67,
    "start_time": "2023-10-07T15:43:19.620Z"
   },
   {
    "duration": 133,
    "start_time": "2023-10-07T15:44:01.443Z"
   },
   {
    "duration": 74,
    "start_time": "2023-10-07T15:44:27.257Z"
   },
   {
    "duration": 134,
    "start_time": "2023-10-07T15:44:36.175Z"
   },
   {
    "duration": 10,
    "start_time": "2023-10-07T15:44:41.788Z"
   },
   {
    "duration": 12,
    "start_time": "2023-10-07T15:45:10.031Z"
   },
   {
    "duration": 17,
    "start_time": "2023-10-07T15:45:26.128Z"
   },
   {
    "duration": 12,
    "start_time": "2023-10-07T15:45:38.022Z"
   },
   {
    "duration": 91,
    "start_time": "2023-10-07T15:45:40.491Z"
   },
   {
    "duration": 261,
    "start_time": "2023-10-07T15:45:47.595Z"
   },
   {
    "duration": 3,
    "start_time": "2023-10-07T15:45:48.239Z"
   },
   {
    "duration": 7,
    "start_time": "2023-10-07T15:45:48.580Z"
   },
   {
    "duration": 14,
    "start_time": "2023-10-07T15:45:48.912Z"
   },
   {
    "duration": 9,
    "start_time": "2023-10-07T15:45:49.264Z"
   },
   {
    "duration": 3620,
    "start_time": "2023-10-07T15:46:05.797Z"
   },
   {
    "duration": 573,
    "start_time": "2023-10-07T15:46:42.135Z"
   },
   {
    "duration": 9,
    "start_time": "2023-10-07T15:46:43.218Z"
   },
   {
    "duration": 7,
    "start_time": "2023-10-07T15:46:43.603Z"
   },
   {
    "duration": 1584,
    "start_time": "2023-10-07T15:51:48.003Z"
   },
   {
    "duration": 48,
    "start_time": "2023-10-07T15:51:53.462Z"
   },
   {
    "duration": 1270,
    "start_time": "2023-10-07T15:51:55.728Z"
   },
   {
    "duration": 4,
    "start_time": "2023-10-07T15:52:32.844Z"
   },
   {
    "duration": 7,
    "start_time": "2023-10-07T15:54:23.598Z"
   },
   {
    "duration": 6,
    "start_time": "2023-10-07T15:54:25.103Z"
   },
   {
    "duration": 5,
    "start_time": "2023-10-07T15:54:26.006Z"
   },
   {
    "duration": 5,
    "start_time": "2023-10-07T15:59:02.701Z"
   },
   {
    "duration": 3,
    "start_time": "2023-10-07T15:59:54.276Z"
   },
   {
    "duration": 7,
    "start_time": "2023-10-07T16:09:26.175Z"
   },
   {
    "duration": 9,
    "start_time": "2023-10-07T16:17:04.166Z"
   },
   {
    "duration": 1534,
    "start_time": "2023-10-07T16:22:07.879Z"
   },
   {
    "duration": 3,
    "start_time": "2023-10-07T16:22:09.414Z"
   },
   {
    "duration": 13,
    "start_time": "2023-10-07T16:22:09.419Z"
   },
   {
    "duration": 456,
    "start_time": "2023-10-07T16:22:09.434Z"
   },
   {
    "duration": 111,
    "start_time": "2023-10-07T16:22:09.892Z"
   },
   {
    "duration": 491,
    "start_time": "2023-10-07T16:22:10.005Z"
   },
   {
    "duration": 621,
    "start_time": "2023-10-07T16:22:10.498Z"
   },
   {
    "duration": 79,
    "start_time": "2023-10-07T16:22:11.121Z"
   },
   {
    "duration": 4,
    "start_time": "2023-10-07T16:22:11.201Z"
   },
   {
    "duration": 9,
    "start_time": "2023-10-07T16:22:11.208Z"
   },
   {
    "duration": 4,
    "start_time": "2023-10-07T16:22:11.219Z"
   },
   {
    "duration": 41,
    "start_time": "2023-10-07T16:22:11.225Z"
   },
   {
    "duration": 5,
    "start_time": "2023-10-07T16:22:11.275Z"
   },
   {
    "duration": 12,
    "start_time": "2023-10-07T16:22:11.284Z"
   },
   {
    "duration": 121,
    "start_time": "2023-10-07T16:22:11.298Z"
   },
   {
    "duration": 29,
    "start_time": "2023-10-07T16:22:11.421Z"
   },
   {
    "duration": 118,
    "start_time": "2023-10-07T16:22:11.452Z"
   },
   {
    "duration": 262,
    "start_time": "2023-10-07T16:22:11.576Z"
   },
   {
    "duration": 12,
    "start_time": "2023-10-07T16:22:11.839Z"
   },
   {
    "duration": 35,
    "start_time": "2023-10-07T16:22:11.852Z"
   },
   {
    "duration": 28,
    "start_time": "2023-10-07T16:22:11.888Z"
   },
   {
    "duration": 17,
    "start_time": "2023-10-07T16:22:11.917Z"
   },
   {
    "duration": 3755,
    "start_time": "2023-10-07T16:22:11.935Z"
   },
   {
    "duration": 616,
    "start_time": "2023-10-07T16:22:15.691Z"
   },
   {
    "duration": 8,
    "start_time": "2023-10-07T16:22:16.309Z"
   },
   {
    "duration": 25,
    "start_time": "2023-10-07T16:22:16.319Z"
   },
   {
    "duration": 1356,
    "start_time": "2023-10-07T16:22:16.346Z"
   },
   {
    "duration": 36,
    "start_time": "2023-10-07T16:22:17.705Z"
   },
   {
    "duration": 1364,
    "start_time": "2023-10-07T16:22:17.742Z"
   },
   {
    "duration": 3,
    "start_time": "2023-10-07T16:22:19.108Z"
   },
   {
    "duration": 113,
    "start_time": "2023-10-07T16:22:19.113Z"
   },
   {
    "duration": 16,
    "start_time": "2023-10-07T16:22:19.228Z"
   },
   {
    "duration": 18,
    "start_time": "2023-10-07T16:22:19.246Z"
   },
   {
    "duration": 56,
    "start_time": "2023-10-07T16:22:19.268Z"
   },
   {
    "duration": 16,
    "start_time": "2023-10-07T16:22:19.326Z"
   },
   {
    "duration": 35,
    "start_time": "2023-10-07T16:22:19.344Z"
   },
   {
    "duration": 18,
    "start_time": "2023-10-07T16:22:19.381Z"
   },
   {
    "duration": 1371965,
    "start_time": "2023-10-07T16:22:19.401Z"
   },
   {
    "duration": 84,
    "start_time": "2023-10-07T16:45:11.375Z"
   },
   {
    "duration": 24,
    "start_time": "2023-10-07T16:45:11.463Z"
   },
   {
    "duration": 987065,
    "start_time": "2023-10-07T16:45:11.488Z"
   },
   {
    "duration": 4,
    "start_time": "2023-10-07T17:01:38.554Z"
   },
   {
    "duration": 197,
    "start_time": "2023-10-07T17:01:38.560Z"
   },
   {
    "duration": 299,
    "start_time": "2023-10-07T17:01:38.759Z"
   },
   {
    "duration": 5,
    "start_time": "2023-10-07T17:01:39.150Z"
   },
   {
    "duration": 98,
    "start_time": "2023-10-07T17:01:39.157Z"
   },
   {
    "duration": 1715,
    "start_time": "2023-10-07T17:23:50.029Z"
   },
   {
    "duration": 3,
    "start_time": "2023-10-07T17:23:51.746Z"
   },
   {
    "duration": 365,
    "start_time": "2023-10-07T17:23:51.750Z"
   },
   {
    "duration": 90,
    "start_time": "2023-10-07T17:23:52.117Z"
   },
   {
    "duration": 457,
    "start_time": "2023-10-07T17:23:52.208Z"
   },
   {
    "duration": 655,
    "start_time": "2023-10-07T17:23:52.666Z"
   },
   {
    "duration": 63,
    "start_time": "2023-10-07T17:23:53.323Z"
   },
   {
    "duration": 3,
    "start_time": "2023-10-07T17:23:53.388Z"
   },
   {
    "duration": 13,
    "start_time": "2023-10-07T17:23:53.392Z"
   },
   {
    "duration": 21,
    "start_time": "2023-10-07T17:23:53.407Z"
   },
   {
    "duration": 18,
    "start_time": "2023-10-07T17:23:53.430Z"
   },
   {
    "duration": 17,
    "start_time": "2023-10-07T17:23:53.450Z"
   },
   {
    "duration": 16,
    "start_time": "2023-10-07T17:23:53.469Z"
   },
   {
    "duration": 133,
    "start_time": "2023-10-07T17:23:53.487Z"
   },
   {
    "duration": 31,
    "start_time": "2023-10-07T17:23:53.622Z"
   },
   {
    "duration": 96,
    "start_time": "2023-10-07T17:23:53.655Z"
   },
   {
    "duration": 234,
    "start_time": "2023-10-07T17:23:53.753Z"
   },
   {
    "duration": 4,
    "start_time": "2023-10-07T17:23:53.989Z"
   },
   {
    "duration": 14,
    "start_time": "2023-10-07T17:23:53.994Z"
   },
   {
    "duration": 22,
    "start_time": "2023-10-07T17:23:54.009Z"
   },
   {
    "duration": 12,
    "start_time": "2023-10-07T17:23:54.033Z"
   },
   {
    "duration": 3614,
    "start_time": "2023-10-07T17:23:54.047Z"
   },
   {
    "duration": 524,
    "start_time": "2023-10-07T17:23:57.662Z"
   },
   {
    "duration": 8,
    "start_time": "2023-10-07T17:23:58.188Z"
   },
   {
    "duration": 13,
    "start_time": "2023-10-07T17:23:58.197Z"
   },
   {
    "duration": 1334,
    "start_time": "2023-10-07T17:23:58.212Z"
   },
   {
    "duration": 38,
    "start_time": "2023-10-07T17:23:59.549Z"
   },
   {
    "duration": 1267,
    "start_time": "2023-10-07T17:23:59.590Z"
   },
   {
    "duration": 3,
    "start_time": "2023-10-07T17:24:00.860Z"
   },
   {
    "duration": 74,
    "start_time": "2023-10-07T17:24:00.864Z"
   },
   {
    "duration": 66,
    "start_time": "2023-10-07T17:24:00.940Z"
   },
   {
    "duration": 46,
    "start_time": "2023-10-07T17:24:01.009Z"
   },
   {
    "duration": 123,
    "start_time": "2023-10-07T17:24:01.057Z"
   },
   {
    "duration": 47,
    "start_time": "2023-10-07T17:24:01.182Z"
   },
   {
    "duration": 51,
    "start_time": "2023-10-07T17:24:01.231Z"
   },
   {
    "duration": 54,
    "start_time": "2023-10-07T17:24:01.285Z"
   },
   {
    "duration": 528109,
    "start_time": "2023-10-07T17:24:01.342Z"
   },
   {
    "duration": 5,
    "start_time": "2023-10-07T17:32:49.452Z"
   },
   {
    "duration": 29,
    "start_time": "2023-10-07T17:32:49.459Z"
   },
   {
    "duration": 602167,
    "start_time": "2023-10-07T17:32:49.490Z"
   },
   {
    "duration": 90,
    "start_time": "2023-10-07T17:42:51.659Z"
   },
   {
    "duration": 304,
    "start_time": "2023-10-07T17:42:51.751Z"
   },
   {
    "duration": 491,
    "start_time": "2023-10-07T17:42:52.059Z"
   },
   {
    "duration": 5,
    "start_time": "2023-10-07T17:42:52.551Z"
   },
   {
    "duration": 88,
    "start_time": "2023-10-07T17:42:52.558Z"
   },
   {
    "duration": 1481,
    "start_time": "2023-10-07T19:01:13.671Z"
   },
   {
    "duration": 8,
    "start_time": "2023-10-07T19:01:15.154Z"
   },
   {
    "duration": 383,
    "start_time": "2023-10-07T19:01:15.163Z"
   },
   {
    "duration": 94,
    "start_time": "2023-10-07T19:01:15.550Z"
   },
   {
    "duration": 451,
    "start_time": "2023-10-07T19:01:15.647Z"
   },
   {
    "duration": 769,
    "start_time": "2023-10-07T19:01:16.100Z"
   },
   {
    "duration": 59,
    "start_time": "2023-10-07T19:01:16.873Z"
   },
   {
    "duration": 19,
    "start_time": "2023-10-07T19:01:16.933Z"
   },
   {
    "duration": 31,
    "start_time": "2023-10-07T19:01:16.955Z"
   },
   {
    "duration": 6,
    "start_time": "2023-10-07T19:01:16.988Z"
   },
   {
    "duration": 12,
    "start_time": "2023-10-07T19:01:16.996Z"
   },
   {
    "duration": 15,
    "start_time": "2023-10-07T19:01:17.010Z"
   },
   {
    "duration": 13,
    "start_time": "2023-10-07T19:01:17.029Z"
   },
   {
    "duration": 129,
    "start_time": "2023-10-07T19:01:17.045Z"
   },
   {
    "duration": 14,
    "start_time": "2023-10-07T19:01:17.176Z"
   },
   {
    "duration": 99,
    "start_time": "2023-10-07T19:01:17.192Z"
   },
   {
    "duration": 276,
    "start_time": "2023-10-07T19:01:17.293Z"
   },
   {
    "duration": 4,
    "start_time": "2023-10-07T19:01:17.573Z"
   },
   {
    "duration": 102,
    "start_time": "2023-10-07T19:01:17.579Z"
   },
   {
    "duration": 58,
    "start_time": "2023-10-07T19:01:17.683Z"
   },
   {
    "duration": 84,
    "start_time": "2023-10-07T19:01:17.743Z"
   },
   {
    "duration": 4773,
    "start_time": "2023-10-07T19:01:20.640Z"
   },
   {
    "duration": 614,
    "start_time": "2023-10-07T19:09:45.969Z"
   },
   {
    "duration": 8,
    "start_time": "2023-10-07T19:09:47.391Z"
   },
   {
    "duration": 7,
    "start_time": "2023-10-07T19:09:47.809Z"
   },
   {
    "duration": 1759,
    "start_time": "2023-10-07T19:09:50.477Z"
   },
   {
    "duration": 39,
    "start_time": "2023-10-07T19:10:04.411Z"
   },
   {
    "duration": 1670,
    "start_time": "2023-10-07T19:10:05.129Z"
   },
   {
    "duration": 41,
    "start_time": "2023-10-07T19:11:10.560Z"
   },
   {
    "duration": 1649,
    "start_time": "2023-10-07T19:11:12.281Z"
   },
   {
    "duration": 1330,
    "start_time": "2023-10-07T19:18:18.967Z"
   },
   {
    "duration": 12,
    "start_time": "2023-10-07T19:18:32.826Z"
   },
   {
    "duration": 11,
    "start_time": "2023-10-07T19:18:51.907Z"
   },
   {
    "duration": 7,
    "start_time": "2023-10-07T19:18:57.906Z"
   },
   {
    "duration": 7,
    "start_time": "2023-10-07T19:20:20.603Z"
   },
   {
    "duration": 8,
    "start_time": "2023-10-07T19:20:29.629Z"
   },
   {
    "duration": 6,
    "start_time": "2023-10-07T19:20:37.390Z"
   },
   {
    "duration": 7,
    "start_time": "2023-10-07T19:20:41.717Z"
   },
   {
    "duration": 19,
    "start_time": "2023-10-07T20:31:01.744Z"
   },
   {
    "duration": 1547,
    "start_time": "2023-10-07T20:31:35.732Z"
   },
   {
    "duration": 3,
    "start_time": "2023-10-07T20:31:37.280Z"
   },
   {
    "duration": 377,
    "start_time": "2023-10-07T20:31:37.284Z"
   },
   {
    "duration": 99,
    "start_time": "2023-10-07T20:31:37.664Z"
   },
   {
    "duration": 427,
    "start_time": "2023-10-07T20:31:37.766Z"
   },
   {
    "duration": 594,
    "start_time": "2023-10-07T20:31:38.195Z"
   },
   {
    "duration": 70,
    "start_time": "2023-10-07T20:31:38.790Z"
   },
   {
    "duration": 4,
    "start_time": "2023-10-07T20:31:38.862Z"
   },
   {
    "duration": 25,
    "start_time": "2023-10-07T20:31:38.867Z"
   },
   {
    "duration": 10,
    "start_time": "2023-10-07T20:31:38.894Z"
   },
   {
    "duration": 30,
    "start_time": "2023-10-07T20:31:38.906Z"
   },
   {
    "duration": 13,
    "start_time": "2023-10-07T20:31:38.938Z"
   },
   {
    "duration": 7,
    "start_time": "2023-10-07T20:31:38.953Z"
   },
   {
    "duration": 215,
    "start_time": "2023-10-07T20:31:38.966Z"
   },
   {
    "duration": 13,
    "start_time": "2023-10-07T20:31:39.182Z"
   },
   {
    "duration": 90,
    "start_time": "2023-10-07T20:31:39.196Z"
   },
   {
    "duration": 233,
    "start_time": "2023-10-07T20:31:39.288Z"
   },
   {
    "duration": 2,
    "start_time": "2023-10-07T20:31:39.523Z"
   },
   {
    "duration": 27,
    "start_time": "2023-10-07T20:31:39.527Z"
   },
   {
    "duration": 23,
    "start_time": "2023-10-07T20:31:39.556Z"
   },
   {
    "duration": 14,
    "start_time": "2023-10-07T20:31:39.581Z"
   },
   {
    "duration": 4688,
    "start_time": "2023-10-07T20:31:39.597Z"
   },
   {
    "duration": 620,
    "start_time": "2023-10-07T20:31:44.286Z"
   },
   {
    "duration": 8,
    "start_time": "2023-10-07T20:31:44.908Z"
   },
   {
    "duration": 49,
    "start_time": "2023-10-07T20:31:44.917Z"
   },
   {
    "duration": 1830,
    "start_time": "2023-10-07T20:31:44.968Z"
   },
   {
    "duration": 37,
    "start_time": "2023-10-07T20:31:46.799Z"
   },
   {
    "duration": 37,
    "start_time": "2023-10-07T20:31:46.838Z"
   },
   {
    "duration": 1691,
    "start_time": "2023-10-07T20:31:46.876Z"
   },
   {
    "duration": 1488,
    "start_time": "2023-10-07T20:32:38.012Z"
   },
   {
    "duration": 3,
    "start_time": "2023-10-07T20:32:39.502Z"
   },
   {
    "duration": 368,
    "start_time": "2023-10-07T20:32:39.507Z"
   },
   {
    "duration": 94,
    "start_time": "2023-10-07T20:32:39.877Z"
   },
   {
    "duration": 417,
    "start_time": "2023-10-07T20:32:39.974Z"
   },
   {
    "duration": 647,
    "start_time": "2023-10-07T20:32:40.393Z"
   },
   {
    "duration": 61,
    "start_time": "2023-10-07T20:32:41.041Z"
   },
   {
    "duration": 4,
    "start_time": "2023-10-07T20:32:41.104Z"
   },
   {
    "duration": 15,
    "start_time": "2023-10-07T20:32:41.109Z"
   },
   {
    "duration": 30,
    "start_time": "2023-10-07T20:32:41.126Z"
   },
   {
    "duration": 13,
    "start_time": "2023-10-07T20:32:41.158Z"
   },
   {
    "duration": 5,
    "start_time": "2023-10-07T20:32:41.173Z"
   },
   {
    "duration": 8,
    "start_time": "2023-10-07T20:32:41.180Z"
   },
   {
    "duration": 127,
    "start_time": "2023-10-07T20:32:41.192Z"
   },
   {
    "duration": 42,
    "start_time": "2023-10-07T20:32:41.321Z"
   },
   {
    "duration": 65,
    "start_time": "2023-10-07T20:32:41.368Z"
   },
   {
    "duration": 251,
    "start_time": "2023-10-07T20:32:41.434Z"
   },
   {
    "duration": 3,
    "start_time": "2023-10-07T20:32:41.686Z"
   },
   {
    "duration": 9,
    "start_time": "2023-10-07T20:32:41.691Z"
   },
   {
    "duration": 71,
    "start_time": "2023-10-07T20:32:41.701Z"
   },
   {
    "duration": 3,
    "start_time": "2023-10-07T20:32:41.774Z"
   },
   {
    "duration": 4736,
    "start_time": "2023-10-07T20:32:41.779Z"
   },
   {
    "duration": 598,
    "start_time": "2023-10-07T20:32:46.517Z"
   },
   {
    "duration": 8,
    "start_time": "2023-10-07T20:32:47.116Z"
   },
   {
    "duration": 23,
    "start_time": "2023-10-07T20:32:47.125Z"
   },
   {
    "duration": 1831,
    "start_time": "2023-10-07T20:32:47.154Z"
   },
   {
    "duration": 127,
    "start_time": "2023-10-07T20:32:48.987Z"
   },
   {
    "duration": 0,
    "start_time": "2023-10-07T20:32:49.116Z"
   },
   {
    "duration": 0,
    "start_time": "2023-10-07T20:32:49.118Z"
   },
   {
    "duration": 0,
    "start_time": "2023-10-07T20:32:49.120Z"
   },
   {
    "duration": 21,
    "start_time": "2023-10-07T20:33:37.868Z"
   },
   {
    "duration": 36,
    "start_time": "2023-10-07T20:33:48.301Z"
   },
   {
    "duration": 16,
    "start_time": "2023-10-07T20:33:48.770Z"
   },
   {
    "duration": 1678,
    "start_time": "2023-10-07T20:33:50.570Z"
   },
   {
    "duration": 36,
    "start_time": "2023-10-07T20:34:44.871Z"
   },
   {
    "duration": 10,
    "start_time": "2023-10-07T20:35:02.238Z"
   },
   {
    "duration": 12,
    "start_time": "2023-10-07T20:36:03.531Z"
   },
   {
    "duration": 7,
    "start_time": "2023-10-07T20:36:17.772Z"
   },
   {
    "duration": 16,
    "start_time": "2023-10-07T20:37:04.503Z"
   },
   {
    "duration": 8,
    "start_time": "2023-10-07T20:37:09.943Z"
   },
   {
    "duration": 17,
    "start_time": "2023-10-07T20:38:22.873Z"
   },
   {
    "duration": 53,
    "start_time": "2023-10-07T20:39:04.471Z"
   },
   {
    "duration": 16,
    "start_time": "2023-10-07T20:39:05.362Z"
   },
   {
    "duration": 1726,
    "start_time": "2023-10-07T20:39:08.485Z"
   },
   {
    "duration": 59,
    "start_time": "2023-10-07T20:42:36.038Z"
   },
   {
    "duration": 16,
    "start_time": "2023-10-07T20:42:36.909Z"
   },
   {
    "duration": 1628,
    "start_time": "2023-10-07T20:42:43.307Z"
   },
   {
    "duration": 1273,
    "start_time": "2023-10-07T20:43:09.885Z"
   },
   {
    "duration": 3,
    "start_time": "2023-10-07T20:43:11.159Z"
   },
   {
    "duration": 345,
    "start_time": "2023-10-07T20:43:11.163Z"
   },
   {
    "duration": 86,
    "start_time": "2023-10-07T20:43:11.510Z"
   },
   {
    "duration": 413,
    "start_time": "2023-10-07T20:43:11.597Z"
   },
   {
    "duration": 561,
    "start_time": "2023-10-07T20:43:12.012Z"
   },
   {
    "duration": 50,
    "start_time": "2023-10-07T20:43:12.574Z"
   },
   {
    "duration": 3,
    "start_time": "2023-10-07T20:43:12.625Z"
   },
   {
    "duration": 8,
    "start_time": "2023-10-07T20:43:12.650Z"
   },
   {
    "duration": 4,
    "start_time": "2023-10-07T20:43:12.660Z"
   },
   {
    "duration": 6,
    "start_time": "2023-10-07T20:43:12.665Z"
   },
   {
    "duration": 4,
    "start_time": "2023-10-07T20:43:12.673Z"
   },
   {
    "duration": 12,
    "start_time": "2023-10-07T20:43:12.679Z"
   },
   {
    "duration": 116,
    "start_time": "2023-10-07T20:43:12.693Z"
   },
   {
    "duration": 39,
    "start_time": "2023-10-07T20:43:12.811Z"
   },
   {
    "duration": 70,
    "start_time": "2023-10-07T20:43:12.852Z"
   },
   {
    "duration": 232,
    "start_time": "2023-10-07T20:43:12.924Z"
   },
   {
    "duration": 3,
    "start_time": "2023-10-07T20:43:13.157Z"
   },
   {
    "duration": 18,
    "start_time": "2023-10-07T20:43:13.161Z"
   },
   {
    "duration": 19,
    "start_time": "2023-10-07T20:43:13.180Z"
   },
   {
    "duration": 4,
    "start_time": "2023-10-07T20:43:13.201Z"
   },
   {
    "duration": 4206,
    "start_time": "2023-10-07T20:43:13.206Z"
   },
   {
    "duration": 564,
    "start_time": "2023-10-07T20:43:17.413Z"
   },
   {
    "duration": 7,
    "start_time": "2023-10-07T20:43:17.979Z"
   },
   {
    "duration": 7,
    "start_time": "2023-10-07T20:43:17.988Z"
   },
   {
    "duration": 1707,
    "start_time": "2023-10-07T20:43:17.996Z"
   },
   {
    "duration": 37,
    "start_time": "2023-10-07T20:43:19.705Z"
   },
   {
    "duration": 15,
    "start_time": "2023-10-07T20:43:19.749Z"
   },
   {
    "duration": 1671,
    "start_time": "2023-10-07T20:43:25.943Z"
   },
   {
    "duration": 9,
    "start_time": "2023-10-07T20:55:23.016Z"
   },
   {
    "duration": 4,
    "start_time": "2023-10-07T20:56:02.081Z"
   },
   {
    "duration": 4,
    "start_time": "2023-10-07T20:56:05.674Z"
   },
   {
    "duration": 5,
    "start_time": "2023-10-07T20:56:09.674Z"
   },
   {
    "duration": 4,
    "start_time": "2023-10-07T20:56:13.925Z"
   },
   {
    "duration": 3,
    "start_time": "2023-10-07T21:00:06.730Z"
   },
   {
    "duration": 155,
    "start_time": "2023-10-07T21:00:10.624Z"
   },
   {
    "duration": 1443,
    "start_time": "2023-10-07T21:01:58.906Z"
   },
   {
    "duration": 2,
    "start_time": "2023-10-07T21:02:00.351Z"
   },
   {
    "duration": 538,
    "start_time": "2023-10-07T21:02:00.355Z"
   },
   {
    "duration": 99,
    "start_time": "2023-10-07T21:02:00.895Z"
   },
   {
    "duration": 466,
    "start_time": "2023-10-07T21:02:00.996Z"
   },
   {
    "duration": 739,
    "start_time": "2023-10-07T21:02:01.464Z"
   },
   {
    "duration": 168,
    "start_time": "2023-10-07T21:02:02.205Z"
   },
   {
    "duration": 7,
    "start_time": "2023-10-07T21:02:02.375Z"
   },
   {
    "duration": 6,
    "start_time": "2023-10-07T21:03:32.666Z"
   },
   {
    "duration": 4,
    "start_time": "2023-10-07T21:03:37.042Z"
   },
   {
    "duration": 5,
    "start_time": "2023-10-07T21:03:39.932Z"
   },
   {
    "duration": 5,
    "start_time": "2023-10-07T21:03:44.202Z"
   },
   {
    "duration": 5,
    "start_time": "2023-10-07T21:03:46.872Z"
   },
   {
    "duration": 5,
    "start_time": "2023-10-07T21:03:49.682Z"
   },
   {
    "duration": 6,
    "start_time": "2023-10-07T21:03:58.036Z"
   },
   {
    "duration": 6,
    "start_time": "2023-10-07T21:04:01.648Z"
   },
   {
    "duration": 6,
    "start_time": "2023-10-07T21:04:05.146Z"
   },
   {
    "duration": 6,
    "start_time": "2023-10-07T21:04:09.344Z"
   },
   {
    "duration": 6,
    "start_time": "2023-10-07T21:04:14.643Z"
   },
   {
    "duration": 5,
    "start_time": "2023-10-07T21:04:21.543Z"
   },
   {
    "duration": 5,
    "start_time": "2023-10-07T21:05:24.290Z"
   },
   {
    "duration": 5,
    "start_time": "2023-10-07T21:05:29.048Z"
   },
   {
    "duration": 5,
    "start_time": "2023-10-07T21:05:34.564Z"
   },
   {
    "duration": 5,
    "start_time": "2023-10-07T21:05:39.522Z"
   },
   {
    "duration": 1393,
    "start_time": "2023-10-07T21:11:02.223Z"
   },
   {
    "duration": 3,
    "start_time": "2023-10-07T21:11:03.620Z"
   },
   {
    "duration": 382,
    "start_time": "2023-10-07T21:11:03.624Z"
   },
   {
    "duration": 90,
    "start_time": "2023-10-07T21:11:04.009Z"
   },
   {
    "duration": 439,
    "start_time": "2023-10-07T21:11:04.100Z"
   },
   {
    "duration": 700,
    "start_time": "2023-10-07T21:11:04.542Z"
   },
   {
    "duration": 156,
    "start_time": "2023-10-07T21:11:05.252Z"
   },
   {
    "duration": 3,
    "start_time": "2023-10-07T21:11:05.409Z"
   },
   {
    "duration": 27,
    "start_time": "2023-10-07T21:11:05.414Z"
   },
   {
    "duration": 102,
    "start_time": "2023-10-07T21:11:05.443Z"
   },
   {
    "duration": 23,
    "start_time": "2023-10-07T21:11:05.547Z"
   },
   {
    "duration": 19,
    "start_time": "2023-10-07T21:11:05.572Z"
   },
   {
    "duration": 36,
    "start_time": "2023-10-07T21:11:05.592Z"
   },
   {
    "duration": 125,
    "start_time": "2023-10-07T21:11:05.630Z"
   },
   {
    "duration": 11,
    "start_time": "2023-10-07T21:11:05.757Z"
   },
   {
    "duration": 93,
    "start_time": "2023-10-07T21:11:05.770Z"
   },
   {
    "duration": 278,
    "start_time": "2023-10-07T21:11:05.865Z"
   },
   {
    "duration": 4,
    "start_time": "2023-10-07T21:11:06.149Z"
   },
   {
    "duration": 37,
    "start_time": "2023-10-07T21:11:06.155Z"
   },
   {
    "duration": 31,
    "start_time": "2023-10-07T21:11:06.194Z"
   },
   {
    "duration": 19,
    "start_time": "2023-10-07T21:11:06.227Z"
   },
   {
    "duration": 4580,
    "start_time": "2023-10-07T21:11:06.248Z"
   },
   {
    "duration": 574,
    "start_time": "2023-10-07T21:11:10.829Z"
   },
   {
    "duration": 7,
    "start_time": "2023-10-07T21:11:11.405Z"
   },
   {
    "duration": 6,
    "start_time": "2023-10-07T21:11:11.414Z"
   },
   {
    "duration": 1806,
    "start_time": "2023-10-07T21:11:11.422Z"
   },
   {
    "duration": 54,
    "start_time": "2023-10-07T21:11:13.230Z"
   },
   {
    "duration": 6,
    "start_time": "2023-10-07T21:11:13.287Z"
   },
   {
    "duration": 1639,
    "start_time": "2023-10-07T21:11:13.294Z"
   },
   {
    "duration": 53,
    "start_time": "2023-10-07T21:11:29.803Z"
   },
   {
    "duration": 1698,
    "start_time": "2023-10-07T21:11:31.840Z"
   },
   {
    "duration": 53,
    "start_time": "2023-10-07T21:11:39.343Z"
   },
   {
    "duration": 1793,
    "start_time": "2023-10-07T21:11:40.745Z"
   },
   {
    "duration": 146,
    "start_time": "2023-10-07T21:12:02.125Z"
   },
   {
    "duration": 46,
    "start_time": "2023-10-07T21:12:12.367Z"
   },
   {
    "duration": 1409,
    "start_time": "2023-10-07T21:13:12.697Z"
   },
   {
    "duration": 3,
    "start_time": "2023-10-07T21:13:14.108Z"
   },
   {
    "duration": 352,
    "start_time": "2023-10-07T21:13:14.112Z"
   },
   {
    "duration": 88,
    "start_time": "2023-10-07T21:13:14.466Z"
   },
   {
    "duration": 414,
    "start_time": "2023-10-07T21:13:14.557Z"
   },
   {
    "duration": 688,
    "start_time": "2023-10-07T21:13:14.973Z"
   },
   {
    "duration": 153,
    "start_time": "2023-10-07T21:13:15.663Z"
   },
   {
    "duration": 3,
    "start_time": "2023-10-07T21:13:15.817Z"
   },
   {
    "duration": 36,
    "start_time": "2023-10-07T21:13:15.822Z"
   },
   {
    "duration": 21,
    "start_time": "2023-10-07T21:13:15.859Z"
   },
   {
    "duration": 26,
    "start_time": "2023-10-07T21:13:15.882Z"
   },
   {
    "duration": 44,
    "start_time": "2023-10-07T21:13:15.909Z"
   },
   {
    "duration": 31,
    "start_time": "2023-10-07T21:13:15.954Z"
   },
   {
    "duration": 174,
    "start_time": "2023-10-07T21:13:15.987Z"
   },
   {
    "duration": 13,
    "start_time": "2023-10-07T21:13:16.163Z"
   },
   {
    "duration": 100,
    "start_time": "2023-10-07T21:13:16.178Z"
   },
   {
    "duration": 296,
    "start_time": "2023-10-07T21:13:16.280Z"
   },
   {
    "duration": 4,
    "start_time": "2023-10-07T21:13:16.577Z"
   },
   {
    "duration": 24,
    "start_time": "2023-10-07T21:13:16.583Z"
   },
   {
    "duration": 23,
    "start_time": "2023-10-07T21:13:16.609Z"
   },
   {
    "duration": 4,
    "start_time": "2023-10-07T21:13:16.634Z"
   },
   {
    "duration": 4406,
    "start_time": "2023-10-07T21:13:16.640Z"
   },
   {
    "duration": 551,
    "start_time": "2023-10-07T21:13:21.049Z"
   },
   {
    "duration": 9,
    "start_time": "2023-10-07T21:13:21.601Z"
   },
   {
    "duration": 13,
    "start_time": "2023-10-07T21:13:21.611Z"
   },
   {
    "duration": 1802,
    "start_time": "2023-10-07T21:13:21.626Z"
   },
   {
    "duration": 140,
    "start_time": "2023-10-07T21:13:23.430Z"
   },
   {
    "duration": 30,
    "start_time": "2023-10-07T21:14:04.785Z"
   },
   {
    "duration": 62,
    "start_time": "2023-10-07T21:14:14.277Z"
   },
   {
    "duration": 0,
    "start_time": "2023-10-07T21:14:14.341Z"
   },
   {
    "duration": 0,
    "start_time": "2023-10-07T21:14:14.342Z"
   },
   {
    "duration": 0,
    "start_time": "2023-10-07T21:14:14.343Z"
   },
   {
    "duration": 0,
    "start_time": "2023-10-07T21:14:14.344Z"
   },
   {
    "duration": 0,
    "start_time": "2023-10-07T21:14:14.345Z"
   },
   {
    "duration": 0,
    "start_time": "2023-10-07T21:14:14.346Z"
   },
   {
    "duration": 0,
    "start_time": "2023-10-07T21:14:14.347Z"
   },
   {
    "duration": 0,
    "start_time": "2023-10-07T21:14:14.348Z"
   },
   {
    "duration": 0,
    "start_time": "2023-10-07T21:14:14.349Z"
   },
   {
    "duration": 0,
    "start_time": "2023-10-07T21:14:14.350Z"
   },
   {
    "duration": 0,
    "start_time": "2023-10-07T21:14:14.351Z"
   },
   {
    "duration": 0,
    "start_time": "2023-10-07T21:14:14.352Z"
   },
   {
    "duration": 0,
    "start_time": "2023-10-07T21:14:14.353Z"
   },
   {
    "duration": 0,
    "start_time": "2023-10-07T21:14:14.354Z"
   },
   {
    "duration": 0,
    "start_time": "2023-10-07T21:14:14.355Z"
   },
   {
    "duration": 0,
    "start_time": "2023-10-07T21:14:14.356Z"
   },
   {
    "duration": 0,
    "start_time": "2023-10-07T21:14:14.357Z"
   },
   {
    "duration": 1450,
    "start_time": "2023-10-07T21:14:26.376Z"
   },
   {
    "duration": 2,
    "start_time": "2023-10-07T21:14:27.828Z"
   },
   {
    "duration": 355,
    "start_time": "2023-10-07T21:14:27.832Z"
   },
   {
    "duration": 83,
    "start_time": "2023-10-07T21:14:28.188Z"
   },
   {
    "duration": 392,
    "start_time": "2023-10-07T21:14:28.273Z"
   },
   {
    "duration": 742,
    "start_time": "2023-10-07T21:14:28.667Z"
   },
   {
    "duration": 188,
    "start_time": "2023-10-07T21:14:29.410Z"
   },
   {
    "duration": 2,
    "start_time": "2023-10-07T21:14:29.600Z"
   },
   {
    "duration": 21,
    "start_time": "2023-10-07T21:14:29.604Z"
   },
   {
    "duration": 6,
    "start_time": "2023-10-07T21:14:29.630Z"
   },
   {
    "duration": 7,
    "start_time": "2023-10-07T21:14:29.650Z"
   },
   {
    "duration": 5,
    "start_time": "2023-10-07T21:14:29.659Z"
   },
   {
    "duration": 8,
    "start_time": "2023-10-07T21:14:29.666Z"
   },
   {
    "duration": 137,
    "start_time": "2023-10-07T21:14:29.677Z"
   },
   {
    "duration": 34,
    "start_time": "2023-10-07T21:14:29.816Z"
   },
   {
    "duration": 101,
    "start_time": "2023-10-07T21:14:29.853Z"
   },
   {
    "duration": 250,
    "start_time": "2023-10-07T21:14:29.956Z"
   },
   {
    "duration": 3,
    "start_time": "2023-10-07T21:14:30.208Z"
   },
   {
    "duration": 344,
    "start_time": "2023-10-07T21:14:30.212Z"
   },
   {
    "duration": 170,
    "start_time": "2023-10-07T21:14:30.558Z"
   },
   {
    "duration": 50,
    "start_time": "2023-10-07T21:14:30.730Z"
   },
   {
    "duration": 4347,
    "start_time": "2023-10-07T21:14:30.781Z"
   },
   {
    "duration": 627,
    "start_time": "2023-10-07T21:14:35.130Z"
   },
   {
    "duration": 7,
    "start_time": "2023-10-07T21:14:35.759Z"
   },
   {
    "duration": 8,
    "start_time": "2023-10-07T21:14:35.768Z"
   },
   {
    "duration": 1887,
    "start_time": "2023-10-07T21:14:35.778Z"
   },
   {
    "duration": 202,
    "start_time": "2023-10-07T21:14:37.668Z"
   },
   {
    "duration": 38,
    "start_time": "2023-10-07T21:14:57.095Z"
   },
   {
    "duration": 1341,
    "start_time": "2023-10-07T21:16:22.773Z"
   },
   {
    "duration": 3,
    "start_time": "2023-10-07T21:16:24.117Z"
   },
   {
    "duration": 406,
    "start_time": "2023-10-07T21:16:24.121Z"
   },
   {
    "duration": 94,
    "start_time": "2023-10-07T21:16:24.529Z"
   },
   {
    "duration": 443,
    "start_time": "2023-10-07T21:16:24.625Z"
   },
   {
    "duration": 706,
    "start_time": "2023-10-07T21:16:25.070Z"
   },
   {
    "duration": 226,
    "start_time": "2023-10-07T21:16:25.778Z"
   },
   {
    "duration": 4,
    "start_time": "2023-10-07T21:16:26.006Z"
   },
   {
    "duration": 45,
    "start_time": "2023-10-07T21:16:26.012Z"
   },
   {
    "duration": 15,
    "start_time": "2023-10-07T21:16:26.059Z"
   },
   {
    "duration": 45,
    "start_time": "2023-10-07T21:16:26.077Z"
   },
   {
    "duration": 39,
    "start_time": "2023-10-07T21:16:26.124Z"
   },
   {
    "duration": 28,
    "start_time": "2023-10-07T21:16:26.165Z"
   },
   {
    "duration": 138,
    "start_time": "2023-10-07T21:16:26.197Z"
   },
   {
    "duration": 17,
    "start_time": "2023-10-07T21:16:26.349Z"
   },
   {
    "duration": 126,
    "start_time": "2023-10-07T21:16:26.369Z"
   },
   {
    "duration": 241,
    "start_time": "2023-10-07T21:16:26.497Z"
   },
   {
    "duration": 3,
    "start_time": "2023-10-07T21:16:26.740Z"
   },
   {
    "duration": 37,
    "start_time": "2023-10-07T21:16:26.744Z"
   },
   {
    "duration": 44,
    "start_time": "2023-10-07T21:16:26.783Z"
   },
   {
    "duration": 59,
    "start_time": "2023-10-07T21:16:26.828Z"
   },
   {
    "duration": 4648,
    "start_time": "2023-10-07T21:16:26.889Z"
   },
   {
    "duration": 552,
    "start_time": "2023-10-07T21:16:31.549Z"
   },
   {
    "duration": 8,
    "start_time": "2023-10-07T21:16:32.103Z"
   },
   {
    "duration": 48,
    "start_time": "2023-10-07T21:16:32.113Z"
   },
   {
    "duration": 2012,
    "start_time": "2023-10-07T21:16:32.162Z"
   },
   {
    "duration": 132,
    "start_time": "2023-10-07T21:16:34.175Z"
   },
   {
    "duration": 49,
    "start_time": "2023-10-07T21:16:56.291Z"
   },
   {
    "duration": 1365,
    "start_time": "2023-10-07T21:17:08.219Z"
   },
   {
    "duration": 3,
    "start_time": "2023-10-07T21:17:09.586Z"
   },
   {
    "duration": 383,
    "start_time": "2023-10-07T21:17:09.591Z"
   },
   {
    "duration": 96,
    "start_time": "2023-10-07T21:17:09.976Z"
   },
   {
    "duration": 398,
    "start_time": "2023-10-07T21:17:10.074Z"
   },
   {
    "duration": 690,
    "start_time": "2023-10-07T21:17:10.473Z"
   },
   {
    "duration": 160,
    "start_time": "2023-10-07T21:17:11.164Z"
   },
   {
    "duration": 24,
    "start_time": "2023-10-07T21:17:11.325Z"
   },
   {
    "duration": 17,
    "start_time": "2023-10-07T21:17:11.351Z"
   },
   {
    "duration": 24,
    "start_time": "2023-10-07T21:17:11.370Z"
   },
   {
    "duration": 20,
    "start_time": "2023-10-07T21:17:11.396Z"
   },
   {
    "duration": 10,
    "start_time": "2023-10-07T21:17:11.418Z"
   },
   {
    "duration": 11,
    "start_time": "2023-10-07T21:17:11.429Z"
   },
   {
    "duration": 125,
    "start_time": "2023-10-07T21:17:11.444Z"
   },
   {
    "duration": 12,
    "start_time": "2023-10-07T21:17:11.571Z"
   },
   {
    "duration": 87,
    "start_time": "2023-10-07T21:17:11.585Z"
   },
   {
    "duration": 238,
    "start_time": "2023-10-07T21:17:11.674Z"
   },
   {
    "duration": 3,
    "start_time": "2023-10-07T21:17:11.914Z"
   },
   {
    "duration": 63,
    "start_time": "2023-10-07T21:17:11.919Z"
   },
   {
    "duration": 32,
    "start_time": "2023-10-07T21:17:11.984Z"
   },
   {
    "duration": 8,
    "start_time": "2023-10-07T21:17:12.018Z"
   },
   {
    "duration": 4787,
    "start_time": "2023-10-07T21:17:12.028Z"
   },
   {
    "duration": 685,
    "start_time": "2023-10-07T21:17:16.817Z"
   },
   {
    "duration": 8,
    "start_time": "2023-10-07T21:17:17.504Z"
   },
   {
    "duration": 39,
    "start_time": "2023-10-07T21:17:17.513Z"
   },
   {
    "duration": 1716,
    "start_time": "2023-10-07T21:17:17.553Z"
   },
   {
    "duration": 147,
    "start_time": "2023-10-07T21:17:19.270Z"
   },
   {
    "duration": 1273,
    "start_time": "2023-10-07T21:46:11.898Z"
   },
   {
    "duration": 2,
    "start_time": "2023-10-07T21:46:13.173Z"
   },
   {
    "duration": 340,
    "start_time": "2023-10-07T21:46:13.177Z"
   },
   {
    "duration": 84,
    "start_time": "2023-10-07T21:46:13.519Z"
   },
   {
    "duration": 404,
    "start_time": "2023-10-07T21:46:13.604Z"
   },
   {
    "duration": 675,
    "start_time": "2023-10-07T21:46:14.010Z"
   },
   {
    "duration": 162,
    "start_time": "2023-10-07T21:46:14.687Z"
   },
   {
    "duration": 3,
    "start_time": "2023-10-07T21:46:14.852Z"
   },
   {
    "duration": 38,
    "start_time": "2023-10-07T21:46:14.856Z"
   },
   {
    "duration": 8,
    "start_time": "2023-10-07T21:46:14.896Z"
   },
   {
    "duration": 13,
    "start_time": "2023-10-07T21:46:14.905Z"
   },
   {
    "duration": 5,
    "start_time": "2023-10-07T21:46:14.920Z"
   },
   {
    "duration": 23,
    "start_time": "2023-10-07T21:46:14.926Z"
   },
   {
    "duration": 101,
    "start_time": "2023-10-07T21:46:14.951Z"
   },
   {
    "duration": 11,
    "start_time": "2023-10-07T21:46:15.054Z"
   },
   {
    "duration": 95,
    "start_time": "2023-10-07T21:46:15.067Z"
   },
   {
    "duration": 214,
    "start_time": "2023-10-07T21:46:15.164Z"
   },
   {
    "duration": 2,
    "start_time": "2023-10-07T21:46:15.380Z"
   },
   {
    "duration": 25,
    "start_time": "2023-10-07T21:46:15.383Z"
   },
   {
    "duration": 24,
    "start_time": "2023-10-07T21:46:15.409Z"
   },
   {
    "duration": 19,
    "start_time": "2023-10-07T21:46:15.435Z"
   },
   {
    "duration": 4704,
    "start_time": "2023-10-07T21:46:15.456Z"
   },
   {
    "duration": 534,
    "start_time": "2023-10-07T21:46:20.161Z"
   },
   {
    "duration": 8,
    "start_time": "2023-10-07T21:46:20.696Z"
   },
   {
    "duration": 15,
    "start_time": "2023-10-07T21:46:20.705Z"
   },
   {
    "duration": 1829,
    "start_time": "2023-10-07T21:46:20.721Z"
   },
   {
    "duration": 37,
    "start_time": "2023-10-07T21:46:24.826Z"
   },
   {
    "duration": 1662,
    "start_time": "2023-10-07T21:46:26.455Z"
   },
   {
    "duration": 133,
    "start_time": "2023-10-07T21:49:04.837Z"
   },
   {
    "duration": 38,
    "start_time": "2023-10-07T21:49:11.208Z"
   },
   {
    "duration": 30,
    "start_time": "2023-10-07T21:52:36.991Z"
   },
   {
    "duration": 502,
    "start_time": "2023-10-07T21:52:39.189Z"
   },
   {
    "duration": 1383,
    "start_time": "2023-10-07T21:53:09.588Z"
   },
   {
    "duration": 3,
    "start_time": "2023-10-07T21:53:10.973Z"
   },
   {
    "duration": 340,
    "start_time": "2023-10-07T21:53:10.977Z"
   },
   {
    "duration": 86,
    "start_time": "2023-10-07T21:53:11.319Z"
   },
   {
    "duration": 409,
    "start_time": "2023-10-07T21:53:11.407Z"
   },
   {
    "duration": 672,
    "start_time": "2023-10-07T21:53:11.817Z"
   },
   {
    "duration": 138,
    "start_time": "2023-10-07T21:53:12.490Z"
   },
   {
    "duration": 3,
    "start_time": "2023-10-07T21:53:12.629Z"
   },
   {
    "duration": 7,
    "start_time": "2023-10-07T21:53:12.649Z"
   },
   {
    "duration": 33,
    "start_time": "2023-10-07T21:53:12.657Z"
   },
   {
    "duration": 10,
    "start_time": "2023-10-07T21:53:12.691Z"
   },
   {
    "duration": 9,
    "start_time": "2023-10-07T21:53:12.702Z"
   },
   {
    "duration": 29,
    "start_time": "2023-10-07T21:53:12.712Z"
   },
   {
    "duration": 107,
    "start_time": "2023-10-07T21:53:12.743Z"
   },
   {
    "duration": 13,
    "start_time": "2023-10-07T21:53:12.851Z"
   },
   {
    "duration": 86,
    "start_time": "2023-10-07T21:53:12.865Z"
   },
   {
    "duration": 225,
    "start_time": "2023-10-07T21:53:12.952Z"
   },
   {
    "duration": 3,
    "start_time": "2023-10-07T21:53:13.178Z"
   },
   {
    "duration": 13,
    "start_time": "2023-10-07T21:53:13.183Z"
   },
   {
    "duration": 24,
    "start_time": "2023-10-07T21:53:13.197Z"
   },
   {
    "duration": 4,
    "start_time": "2023-10-07T21:53:13.223Z"
   },
   {
    "duration": 4595,
    "start_time": "2023-10-07T21:53:13.228Z"
   },
   {
    "duration": 554,
    "start_time": "2023-10-07T21:53:17.824Z"
   },
   {
    "duration": 9,
    "start_time": "2023-10-07T21:53:18.380Z"
   },
   {
    "duration": 8,
    "start_time": "2023-10-07T21:53:18.391Z"
   },
   {
    "duration": 1708,
    "start_time": "2023-10-07T21:53:18.400Z"
   },
   {
    "duration": 78,
    "start_time": "2023-10-07T21:53:20.110Z"
   },
   {
    "duration": 1712,
    "start_time": "2023-10-07T21:53:24.024Z"
   },
   {
    "duration": 1433,
    "start_time": "2023-10-07T21:54:05.329Z"
   },
   {
    "duration": 3,
    "start_time": "2023-10-07T21:54:06.764Z"
   },
   {
    "duration": 348,
    "start_time": "2023-10-07T21:54:06.769Z"
   },
   {
    "duration": 86,
    "start_time": "2023-10-07T21:54:07.119Z"
   },
   {
    "duration": 412,
    "start_time": "2023-10-07T21:54:07.208Z"
   },
   {
    "duration": 629,
    "start_time": "2023-10-07T21:54:07.622Z"
   },
   {
    "duration": 149,
    "start_time": "2023-10-07T21:54:08.252Z"
   },
   {
    "duration": 2,
    "start_time": "2023-10-07T21:54:08.403Z"
   },
   {
    "duration": 41,
    "start_time": "2023-10-07T21:54:08.407Z"
   },
   {
    "duration": 30,
    "start_time": "2023-10-07T21:54:08.449Z"
   },
   {
    "duration": 53,
    "start_time": "2023-10-07T21:54:08.481Z"
   },
   {
    "duration": 18,
    "start_time": "2023-10-07T21:54:08.536Z"
   },
   {
    "duration": 39,
    "start_time": "2023-10-07T21:54:08.556Z"
   },
   {
    "duration": 153,
    "start_time": "2023-10-07T21:54:08.598Z"
   },
   {
    "duration": 13,
    "start_time": "2023-10-07T21:54:08.753Z"
   },
   {
    "duration": 88,
    "start_time": "2023-10-07T21:54:08.767Z"
   },
   {
    "duration": 232,
    "start_time": "2023-10-07T21:54:08.857Z"
   },
   {
    "duration": 3,
    "start_time": "2023-10-07T21:54:09.091Z"
   },
   {
    "duration": 50,
    "start_time": "2023-10-07T21:54:09.096Z"
   },
   {
    "duration": 33,
    "start_time": "2023-10-07T21:54:09.148Z"
   },
   {
    "duration": 4,
    "start_time": "2023-10-07T21:54:09.183Z"
   },
   {
    "duration": 4422,
    "start_time": "2023-10-07T21:54:09.189Z"
   },
   {
    "duration": 563,
    "start_time": "2023-10-07T21:54:13.613Z"
   },
   {
    "duration": 8,
    "start_time": "2023-10-07T21:54:14.178Z"
   },
   {
    "duration": 18,
    "start_time": "2023-10-07T21:54:14.188Z"
   },
   {
    "duration": 1737,
    "start_time": "2023-10-07T21:54:14.208Z"
   },
   {
    "duration": 69,
    "start_time": "2023-10-07T21:54:15.946Z"
   },
   {
    "duration": 1573,
    "start_time": "2023-10-07T21:54:16.016Z"
   },
   {
    "duration": 1305,
    "start_time": "2023-10-07T21:54:38.298Z"
   },
   {
    "duration": 2,
    "start_time": "2023-10-07T21:54:39.605Z"
   },
   {
    "duration": 357,
    "start_time": "2023-10-07T21:54:39.609Z"
   },
   {
    "duration": 89,
    "start_time": "2023-10-07T21:54:39.967Z"
   },
   {
    "duration": 415,
    "start_time": "2023-10-07T21:54:40.058Z"
   },
   {
    "duration": 642,
    "start_time": "2023-10-07T21:54:40.475Z"
   },
   {
    "duration": 152,
    "start_time": "2023-10-07T21:54:41.119Z"
   },
   {
    "duration": 3,
    "start_time": "2023-10-07T21:54:41.273Z"
   },
   {
    "duration": 20,
    "start_time": "2023-10-07T21:54:41.277Z"
   },
   {
    "duration": 6,
    "start_time": "2023-10-07T21:54:41.298Z"
   },
   {
    "duration": 8,
    "start_time": "2023-10-07T21:54:41.305Z"
   },
   {
    "duration": 7,
    "start_time": "2023-10-07T21:54:41.315Z"
   },
   {
    "duration": 5,
    "start_time": "2023-10-07T21:54:41.323Z"
   },
   {
    "duration": 107,
    "start_time": "2023-10-07T21:54:41.331Z"
   },
   {
    "duration": 12,
    "start_time": "2023-10-07T21:54:41.450Z"
   },
   {
    "duration": 89,
    "start_time": "2023-10-07T21:54:41.464Z"
   },
   {
    "duration": 216,
    "start_time": "2023-10-07T21:54:41.554Z"
   },
   {
    "duration": 2,
    "start_time": "2023-10-07T21:54:41.772Z"
   },
   {
    "duration": 14,
    "start_time": "2023-10-07T21:54:41.775Z"
   },
   {
    "duration": 23,
    "start_time": "2023-10-07T21:54:41.791Z"
   },
   {
    "duration": 3,
    "start_time": "2023-10-07T21:54:41.815Z"
   },
   {
    "duration": 4569,
    "start_time": "2023-10-07T21:54:41.820Z"
   },
   {
    "duration": 525,
    "start_time": "2023-10-07T21:54:46.390Z"
   },
   {
    "duration": 8,
    "start_time": "2023-10-07T21:54:46.916Z"
   },
   {
    "duration": 9,
    "start_time": "2023-10-07T21:54:46.926Z"
   },
   {
    "duration": 1775,
    "start_time": "2023-10-07T21:54:46.936Z"
   },
   {
    "duration": 52,
    "start_time": "2023-10-07T21:54:48.713Z"
   },
   {
    "duration": 1635,
    "start_time": "2023-10-07T21:54:48.766Z"
   },
   {
    "duration": 18,
    "start_time": "2023-10-07T21:58:14.191Z"
   },
   {
    "duration": 1446,
    "start_time": "2023-10-07T21:59:00.054Z"
   },
   {
    "duration": 3,
    "start_time": "2023-10-07T21:59:01.502Z"
   },
   {
    "duration": 429,
    "start_time": "2023-10-07T21:59:01.506Z"
   },
   {
    "duration": 89,
    "start_time": "2023-10-07T21:59:01.937Z"
   },
   {
    "duration": 408,
    "start_time": "2023-10-07T21:59:02.027Z"
   },
   {
    "duration": 718,
    "start_time": "2023-10-07T21:59:02.437Z"
   },
   {
    "duration": 152,
    "start_time": "2023-10-07T21:59:03.156Z"
   },
   {
    "duration": 2,
    "start_time": "2023-10-07T21:59:03.309Z"
   },
   {
    "duration": 14,
    "start_time": "2023-10-07T21:59:03.313Z"
   },
   {
    "duration": 9,
    "start_time": "2023-10-07T21:59:03.329Z"
   },
   {
    "duration": 17,
    "start_time": "2023-10-07T21:59:03.349Z"
   },
   {
    "duration": 25,
    "start_time": "2023-10-07T21:59:03.367Z"
   },
   {
    "duration": 16,
    "start_time": "2023-10-07T21:59:03.393Z"
   },
   {
    "duration": 119,
    "start_time": "2023-10-07T21:59:03.410Z"
   },
   {
    "duration": 28,
    "start_time": "2023-10-07T21:59:03.530Z"
   },
   {
    "duration": 73,
    "start_time": "2023-10-07T21:59:03.560Z"
   },
   {
    "duration": 228,
    "start_time": "2023-10-07T21:59:03.634Z"
   },
   {
    "duration": 3,
    "start_time": "2023-10-07T21:59:03.864Z"
   },
   {
    "duration": 18,
    "start_time": "2023-10-07T21:59:03.868Z"
   },
   {
    "duration": 17,
    "start_time": "2023-10-07T21:59:03.887Z"
   },
   {
    "duration": 14,
    "start_time": "2023-10-07T21:59:03.906Z"
   },
   {
    "duration": 4596,
    "start_time": "2023-10-07T21:59:03.922Z"
   },
   {
    "duration": 560,
    "start_time": "2023-10-07T21:59:08.519Z"
   },
   {
    "duration": 10,
    "start_time": "2023-10-07T21:59:09.080Z"
   },
   {
    "duration": 7,
    "start_time": "2023-10-07T21:59:09.091Z"
   },
   {
    "duration": 1719,
    "start_time": "2023-10-07T21:59:09.100Z"
   },
   {
    "duration": 37,
    "start_time": "2023-10-07T21:59:10.821Z"
   },
   {
    "duration": 1629,
    "start_time": "2023-10-07T21:59:10.861Z"
   },
   {
    "duration": 15,
    "start_time": "2023-10-07T21:59:14.949Z"
   },
   {
    "duration": 44,
    "start_time": "2023-10-07T21:59:54.488Z"
   },
   {
    "duration": 1599,
    "start_time": "2023-10-07T21:59:55.317Z"
   },
   {
    "duration": 137,
    "start_time": "2023-10-07T21:59:56.917Z"
   },
   {
    "duration": 3,
    "start_time": "2023-10-07T22:01:58.028Z"
   },
   {
    "duration": 9,
    "start_time": "2023-10-07T22:01:59.167Z"
   },
   {
    "duration": 7,
    "start_time": "2023-10-07T22:01:59.944Z"
   },
   {
    "duration": 5,
    "start_time": "2023-10-07T22:02:01.208Z"
   },
   {
    "duration": 8,
    "start_time": "2023-10-07T22:02:03.781Z"
   },
   {
    "duration": 3,
    "start_time": "2023-10-07T22:02:06.117Z"
   },
   {
    "duration": 3,
    "start_time": "2023-10-07T22:02:06.557Z"
   },
   {
    "duration": 3,
    "start_time": "2023-10-07T22:02:06.964Z"
   },
   {
    "duration": 442,
    "start_time": "2023-10-07T22:02:07.132Z"
   },
   {
    "duration": 9,
    "start_time": "2023-10-07T22:02:07.576Z"
   },
   {
    "duration": 3,
    "start_time": "2023-10-07T22:02:07.959Z"
   },
   {
    "duration": 7,
    "start_time": "2023-10-07T22:02:35.571Z"
   },
   {
    "duration": 3,
    "start_time": "2023-10-07T22:02:41.691Z"
   },
   {
    "duration": 345730,
    "start_time": "2023-10-07T22:02:42.631Z"
   },
   {
    "duration": 87,
    "start_time": "2023-10-07T22:08:28.364Z"
   },
   {
    "duration": 56,
    "start_time": "2023-10-07T22:08:28.453Z"
   },
   {
    "duration": 369145,
    "start_time": "2023-10-07T22:08:28.512Z"
   },
   {
    "duration": 4,
    "start_time": "2023-10-07T22:14:37.658Z"
   },
   {
    "duration": 192,
    "start_time": "2023-10-07T22:14:37.664Z"
   },
   {
    "duration": 497,
    "start_time": "2023-10-07T22:14:37.857Z"
   },
   {
    "duration": 3,
    "start_time": "2023-10-07T22:14:38.356Z"
   },
   {
    "duration": 89,
    "start_time": "2023-10-07T22:14:38.361Z"
   },
   {
    "duration": 8,
    "start_time": "2023-10-07T22:17:38.943Z"
   },
   {
    "duration": 3,
    "start_time": "2023-10-07T22:17:41.690Z"
   },
   {
    "duration": 209660,
    "start_time": "2023-10-07T22:17:43.399Z"
   },
   {
    "duration": 5,
    "start_time": "2023-10-07T22:21:23.838Z"
   },
   {
    "duration": 3,
    "start_time": "2023-10-07T22:21:26.474Z"
   },
   {
    "duration": 205189,
    "start_time": "2023-10-07T22:21:26.770Z"
   },
   {
    "duration": 3,
    "start_time": "2023-10-07T22:24:51.961Z"
   },
   {
    "duration": 297,
    "start_time": "2023-10-07T22:24:51.966Z"
   },
   {
    "duration": 488,
    "start_time": "2023-10-07T22:24:52.266Z"
   },
   {
    "duration": 4,
    "start_time": "2023-10-07T22:24:52.758Z"
   },
   {
    "duration": 190,
    "start_time": "2023-10-07T22:24:52.764Z"
   },
   {
    "duration": 1348,
    "start_time": "2023-10-07T22:28:38.095Z"
   },
   {
    "duration": 3,
    "start_time": "2023-10-07T22:28:39.445Z"
   },
   {
    "duration": 365,
    "start_time": "2023-10-07T22:28:39.449Z"
   },
   {
    "duration": 90,
    "start_time": "2023-10-07T22:28:39.816Z"
   },
   {
    "duration": 425,
    "start_time": "2023-10-07T22:28:39.908Z"
   },
   {
    "duration": 706,
    "start_time": "2023-10-07T22:28:40.335Z"
   },
   {
    "duration": 154,
    "start_time": "2023-10-07T22:28:41.043Z"
   },
   {
    "duration": 3,
    "start_time": "2023-10-07T22:28:41.198Z"
   },
   {
    "duration": 16,
    "start_time": "2023-10-07T22:28:41.203Z"
   },
   {
    "duration": 15,
    "start_time": "2023-10-07T22:28:41.220Z"
   },
   {
    "duration": 26,
    "start_time": "2023-10-07T22:28:41.236Z"
   },
   {
    "duration": 24,
    "start_time": "2023-10-07T22:28:41.263Z"
   },
   {
    "duration": 5,
    "start_time": "2023-10-07T22:28:41.289Z"
   },
   {
    "duration": 115,
    "start_time": "2023-10-07T22:28:41.297Z"
   },
   {
    "duration": 11,
    "start_time": "2023-10-07T22:28:41.414Z"
   },
   {
    "duration": 81,
    "start_time": "2023-10-07T22:28:41.427Z"
   },
   {
    "duration": 233,
    "start_time": "2023-10-07T22:28:41.510Z"
   },
   {
    "duration": 2,
    "start_time": "2023-10-07T22:28:41.749Z"
   },
   {
    "duration": 13,
    "start_time": "2023-10-07T22:28:41.753Z"
   },
   {
    "duration": 22,
    "start_time": "2023-10-07T22:28:41.768Z"
   },
   {
    "duration": 3,
    "start_time": "2023-10-07T22:28:41.792Z"
   },
   {
    "duration": 4752,
    "start_time": "2023-10-07T22:28:41.796Z"
   },
   {
    "duration": 604,
    "start_time": "2023-10-07T22:28:46.549Z"
   },
   {
    "duration": 8,
    "start_time": "2023-10-07T22:28:47.154Z"
   },
   {
    "duration": 7,
    "start_time": "2023-10-07T22:28:47.163Z"
   },
   {
    "duration": 1871,
    "start_time": "2023-10-07T22:28:47.172Z"
   },
   {
    "duration": 54,
    "start_time": "2023-10-07T22:28:49.044Z"
   },
   {
    "duration": 1638,
    "start_time": "2023-10-07T22:28:49.099Z"
   },
   {
    "duration": 22,
    "start_time": "2023-10-07T22:28:50.739Z"
   },
   {
    "duration": 3,
    "start_time": "2023-10-07T22:28:50.763Z"
   },
   {
    "duration": 31,
    "start_time": "2023-10-07T22:28:50.767Z"
   },
   {
    "duration": 35,
    "start_time": "2023-10-07T22:28:50.799Z"
   },
   {
    "duration": 51,
    "start_time": "2023-10-07T22:28:50.836Z"
   },
   {
    "duration": 31,
    "start_time": "2023-10-07T22:28:50.889Z"
   },
   {
    "duration": 15,
    "start_time": "2023-10-07T22:28:50.922Z"
   },
   {
    "duration": 47,
    "start_time": "2023-10-07T22:28:50.938Z"
   },
   {
    "duration": 49,
    "start_time": "2023-10-07T22:28:50.986Z"
   },
   {
    "duration": 203716,
    "start_time": "2023-10-07T22:28:51.037Z"
   },
   {
    "duration": 4,
    "start_time": "2023-10-07T22:32:14.754Z"
   },
   {
    "duration": 12,
    "start_time": "2023-10-07T22:32:14.759Z"
   },
   {
    "duration": 310177,
    "start_time": "2023-10-07T22:32:14.773Z"
   },
   {
    "duration": 4,
    "start_time": "2023-10-07T22:37:24.952Z"
   },
   {
    "duration": 298,
    "start_time": "2023-10-07T22:37:24.957Z"
   },
   {
    "duration": 397,
    "start_time": "2023-10-07T22:37:25.258Z"
   },
   {
    "duration": 4,
    "start_time": "2023-10-07T22:37:25.657Z"
   },
   {
    "duration": 107,
    "start_time": "2023-10-07T22:37:25.663Z"
   },
   {
    "duration": 1393,
    "start_time": "2023-10-07T22:43:12.110Z"
   },
   {
    "duration": 3,
    "start_time": "2023-10-07T22:43:13.504Z"
   },
   {
    "duration": 350,
    "start_time": "2023-10-07T22:43:13.508Z"
   },
   {
    "duration": 87,
    "start_time": "2023-10-07T22:43:13.860Z"
   },
   {
    "duration": 419,
    "start_time": "2023-10-07T22:43:13.949Z"
   },
   {
    "duration": 689,
    "start_time": "2023-10-07T22:43:14.370Z"
   },
   {
    "duration": 142,
    "start_time": "2023-10-07T22:43:15.060Z"
   },
   {
    "duration": 2,
    "start_time": "2023-10-07T22:43:15.204Z"
   },
   {
    "duration": 15,
    "start_time": "2023-10-07T22:43:15.208Z"
   },
   {
    "duration": 11,
    "start_time": "2023-10-07T22:43:15.226Z"
   },
   {
    "duration": 4,
    "start_time": "2023-10-07T22:43:15.249Z"
   },
   {
    "duration": 9,
    "start_time": "2023-10-07T22:43:15.254Z"
   },
   {
    "duration": 20,
    "start_time": "2023-10-07T22:43:15.265Z"
   },
   {
    "duration": 108,
    "start_time": "2023-10-07T22:43:15.286Z"
   },
   {
    "duration": 12,
    "start_time": "2023-10-07T22:43:15.395Z"
   },
   {
    "duration": 75,
    "start_time": "2023-10-07T22:43:15.408Z"
   },
   {
    "duration": 218,
    "start_time": "2023-10-07T22:43:15.484Z"
   },
   {
    "duration": 2,
    "start_time": "2023-10-07T22:43:15.704Z"
   },
   {
    "duration": 47,
    "start_time": "2023-10-07T22:43:15.707Z"
   },
   {
    "duration": 49,
    "start_time": "2023-10-07T22:43:15.756Z"
   },
   {
    "duration": 13,
    "start_time": "2023-10-07T22:43:15.806Z"
   },
   {
    "duration": 4608,
    "start_time": "2023-10-07T22:43:15.820Z"
   },
   {
    "duration": 557,
    "start_time": "2023-10-07T22:43:20.429Z"
   },
   {
    "duration": 7,
    "start_time": "2023-10-07T22:43:20.988Z"
   },
   {
    "duration": 7,
    "start_time": "2023-10-07T22:43:20.996Z"
   },
   {
    "duration": 1696,
    "start_time": "2023-10-07T22:43:21.004Z"
   },
   {
    "duration": 47,
    "start_time": "2023-10-07T22:43:22.702Z"
   },
   {
    "duration": 1653,
    "start_time": "2023-10-07T22:43:22.752Z"
   }
  ],
  "kernelspec": {
   "display_name": "Python 3 (ipykernel)",
   "language": "python",
   "name": "python3"
  },
  "language_info": {
   "codemirror_mode": {
    "name": "ipython",
    "version": 3
   },
   "file_extension": ".py",
   "mimetype": "text/x-python",
   "name": "python",
   "nbconvert_exporter": "python",
   "pygments_lexer": "ipython3",
   "version": "3.10.5"
  },
  "toc": {
   "base_numbering": 1,
   "nav_menu": {},
   "number_sections": true,
   "sideBar": true,
   "skip_h1_title": true,
   "title_cell": "Содержание",
   "title_sidebar": "Contents",
   "toc_cell": true,
   "toc_position": {
    "height": "calc(100% - 180px)",
    "left": "10px",
    "top": "150px",
    "width": "208px"
   },
   "toc_section_display": true,
   "toc_window_display": false
  }
 },
 "nbformat": 4,
 "nbformat_minor": 4
}
