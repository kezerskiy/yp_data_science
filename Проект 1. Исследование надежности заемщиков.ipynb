{
 "cells": [
  {
   "cell_type": "markdown",
   "id": "8d98bfa1",
   "metadata": {
    "deletable": false,
    "editable": false,
    "id": "c81daeeb"
   },
   "source": [
    "# Исследование надежности заемщиков\n"
   ]
  },
  {
   "cell_type": "markdown",
   "id": "f1e6e976",
   "metadata": {
    "deletable": false,
    "editable": false,
    "id": "827c20bf"
   },
   "source": [
    "**Описание проекта:**\n",
    "\n",
    "Заказчик — кредитный отдел банка. Нужно разобраться, влияет ли семейное положение и количество детей клиента на факт погашения кредита в срок. Входные данные от банка — статистика о платёжеспособности клиентов.\n",
    "\n",
    "Результаты исследования будут учтены при построении модели кредитного скоринга — специальной системы, которая оценивает способность потенциального заёмщика вернуть кредит банку."
   ]
  },
  {
   "cell_type": "code",
   "execution_count": 1,
   "id": "490a9cfa-a1ac-409d-b0e2-8ba29cba5d5d",
   "metadata": {},
   "outputs": [],
   "source": [
    "import pandas as pd\n",
    "import matplotlib.pyplot as plt\n",
    "import seaborn as sns"
   ]
  },
  {
   "cell_type": "code",
   "execution_count": 2,
   "id": "03c862e7-b9fb-4660-840f-b4ca6176f1ab",
   "metadata": {},
   "outputs": [],
   "source": [
    "plt.rcParams['figure.figsize'] = [15, 7]\n",
    "sns.set_style('darkgrid')"
   ]
  },
  {
   "cell_type": "markdown",
   "id": "5ec1e3d6",
   "metadata": {
    "deletable": false,
    "editable": false,
    "id": "744d7639"
   },
   "source": [
    "## Откройте таблицу и изучите общую информацию о данных"
   ]
  },
  {
   "cell_type": "markdown",
   "id": "6979c2ea",
   "metadata": {
    "deletable": false,
    "editable": false,
    "id": "e7a14c31"
   },
   "source": [
    "**Задание 1. Импортируйте библиотеку pandas. Считайте данные из csv-файла в датафрейм и сохраните в переменную `data`. Путь к файлу:**\n",
    "\n",
    "`/datasets/data.csv`"
   ]
  },
  {
   "cell_type": "code",
   "execution_count": 3,
   "id": "b3b54b40",
   "metadata": {
    "deletable": false,
    "id": "7bcf75c9"
   },
   "outputs": [],
   "source": [
    "try:\n",
    "    data = pd.read_csv('/datasets/data.csv')\n",
    "except:\n",
    "    data = pd.read_csv('data.csv')"
   ]
  },
  {
   "cell_type": "markdown",
   "id": "fc543925",
   "metadata": {
    "deletable": false,
    "editable": false,
    "id": "b8038fe3"
   },
   "source": [
    "**Задание 2. Выведите первые 20 строчек датафрейма `data` на экран.**"
   ]
  },
  {
   "cell_type": "code",
   "execution_count": 4,
   "id": "413953e9",
   "metadata": {
    "deletable": false,
    "id": "2a7cab99",
    "outputId": "1a8f3ef2-d323-4ec2-ddf7-89670b5944c4"
   },
   "outputs": [
    {
     "data": {
      "text/html": [
       "<div>\n",
       "<style scoped>\n",
       "    .dataframe tbody tr th:only-of-type {\n",
       "        vertical-align: middle;\n",
       "    }\n",
       "\n",
       "    .dataframe tbody tr th {\n",
       "        vertical-align: top;\n",
       "    }\n",
       "\n",
       "    .dataframe thead th {\n",
       "        text-align: right;\n",
       "    }\n",
       "</style>\n",
       "<table border=\"1\" class=\"dataframe\">\n",
       "  <thead>\n",
       "    <tr style=\"text-align: right;\">\n",
       "      <th></th>\n",
       "      <th>children</th>\n",
       "      <th>days_employed</th>\n",
       "      <th>dob_years</th>\n",
       "      <th>education</th>\n",
       "      <th>education_id</th>\n",
       "      <th>family_status</th>\n",
       "      <th>family_status_id</th>\n",
       "      <th>gender</th>\n",
       "      <th>income_type</th>\n",
       "      <th>debt</th>\n",
       "      <th>total_income</th>\n",
       "      <th>purpose</th>\n",
       "    </tr>\n",
       "  </thead>\n",
       "  <tbody>\n",
       "    <tr>\n",
       "      <th>0</th>\n",
       "      <td>1</td>\n",
       "      <td>-8437.673028</td>\n",
       "      <td>42</td>\n",
       "      <td>высшее</td>\n",
       "      <td>0</td>\n",
       "      <td>женат / замужем</td>\n",
       "      <td>0</td>\n",
       "      <td>F</td>\n",
       "      <td>сотрудник</td>\n",
       "      <td>0</td>\n",
       "      <td>253875.639453</td>\n",
       "      <td>покупка жилья</td>\n",
       "    </tr>\n",
       "    <tr>\n",
       "      <th>1</th>\n",
       "      <td>1</td>\n",
       "      <td>-4024.803754</td>\n",
       "      <td>36</td>\n",
       "      <td>среднее</td>\n",
       "      <td>1</td>\n",
       "      <td>женат / замужем</td>\n",
       "      <td>0</td>\n",
       "      <td>F</td>\n",
       "      <td>сотрудник</td>\n",
       "      <td>0</td>\n",
       "      <td>112080.014102</td>\n",
       "      <td>приобретение автомобиля</td>\n",
       "    </tr>\n",
       "    <tr>\n",
       "      <th>2</th>\n",
       "      <td>0</td>\n",
       "      <td>-5623.422610</td>\n",
       "      <td>33</td>\n",
       "      <td>Среднее</td>\n",
       "      <td>1</td>\n",
       "      <td>женат / замужем</td>\n",
       "      <td>0</td>\n",
       "      <td>M</td>\n",
       "      <td>сотрудник</td>\n",
       "      <td>0</td>\n",
       "      <td>145885.952297</td>\n",
       "      <td>покупка жилья</td>\n",
       "    </tr>\n",
       "    <tr>\n",
       "      <th>3</th>\n",
       "      <td>3</td>\n",
       "      <td>-4124.747207</td>\n",
       "      <td>32</td>\n",
       "      <td>среднее</td>\n",
       "      <td>1</td>\n",
       "      <td>женат / замужем</td>\n",
       "      <td>0</td>\n",
       "      <td>M</td>\n",
       "      <td>сотрудник</td>\n",
       "      <td>0</td>\n",
       "      <td>267628.550329</td>\n",
       "      <td>дополнительное образование</td>\n",
       "    </tr>\n",
       "    <tr>\n",
       "      <th>4</th>\n",
       "      <td>0</td>\n",
       "      <td>340266.072047</td>\n",
       "      <td>53</td>\n",
       "      <td>среднее</td>\n",
       "      <td>1</td>\n",
       "      <td>гражданский брак</td>\n",
       "      <td>1</td>\n",
       "      <td>F</td>\n",
       "      <td>пенсионер</td>\n",
       "      <td>0</td>\n",
       "      <td>158616.077870</td>\n",
       "      <td>сыграть свадьбу</td>\n",
       "    </tr>\n",
       "    <tr>\n",
       "      <th>5</th>\n",
       "      <td>0</td>\n",
       "      <td>-926.185831</td>\n",
       "      <td>27</td>\n",
       "      <td>высшее</td>\n",
       "      <td>0</td>\n",
       "      <td>гражданский брак</td>\n",
       "      <td>1</td>\n",
       "      <td>M</td>\n",
       "      <td>компаньон</td>\n",
       "      <td>0</td>\n",
       "      <td>255763.565419</td>\n",
       "      <td>покупка жилья</td>\n",
       "    </tr>\n",
       "    <tr>\n",
       "      <th>6</th>\n",
       "      <td>0</td>\n",
       "      <td>-2879.202052</td>\n",
       "      <td>43</td>\n",
       "      <td>высшее</td>\n",
       "      <td>0</td>\n",
       "      <td>женат / замужем</td>\n",
       "      <td>0</td>\n",
       "      <td>F</td>\n",
       "      <td>компаньон</td>\n",
       "      <td>0</td>\n",
       "      <td>240525.971920</td>\n",
       "      <td>операции с жильем</td>\n",
       "    </tr>\n",
       "    <tr>\n",
       "      <th>7</th>\n",
       "      <td>0</td>\n",
       "      <td>-152.779569</td>\n",
       "      <td>50</td>\n",
       "      <td>СРЕДНЕЕ</td>\n",
       "      <td>1</td>\n",
       "      <td>женат / замужем</td>\n",
       "      <td>0</td>\n",
       "      <td>M</td>\n",
       "      <td>сотрудник</td>\n",
       "      <td>0</td>\n",
       "      <td>135823.934197</td>\n",
       "      <td>образование</td>\n",
       "    </tr>\n",
       "    <tr>\n",
       "      <th>8</th>\n",
       "      <td>2</td>\n",
       "      <td>-6929.865299</td>\n",
       "      <td>35</td>\n",
       "      <td>ВЫСШЕЕ</td>\n",
       "      <td>0</td>\n",
       "      <td>гражданский брак</td>\n",
       "      <td>1</td>\n",
       "      <td>F</td>\n",
       "      <td>сотрудник</td>\n",
       "      <td>0</td>\n",
       "      <td>95856.832424</td>\n",
       "      <td>на проведение свадьбы</td>\n",
       "    </tr>\n",
       "    <tr>\n",
       "      <th>9</th>\n",
       "      <td>0</td>\n",
       "      <td>-2188.756445</td>\n",
       "      <td>41</td>\n",
       "      <td>среднее</td>\n",
       "      <td>1</td>\n",
       "      <td>женат / замужем</td>\n",
       "      <td>0</td>\n",
       "      <td>M</td>\n",
       "      <td>сотрудник</td>\n",
       "      <td>0</td>\n",
       "      <td>144425.938277</td>\n",
       "      <td>покупка жилья для семьи</td>\n",
       "    </tr>\n",
       "    <tr>\n",
       "      <th>10</th>\n",
       "      <td>2</td>\n",
       "      <td>-4171.483647</td>\n",
       "      <td>36</td>\n",
       "      <td>высшее</td>\n",
       "      <td>0</td>\n",
       "      <td>женат / замужем</td>\n",
       "      <td>0</td>\n",
       "      <td>M</td>\n",
       "      <td>компаньон</td>\n",
       "      <td>0</td>\n",
       "      <td>113943.491460</td>\n",
       "      <td>покупка недвижимости</td>\n",
       "    </tr>\n",
       "    <tr>\n",
       "      <th>11</th>\n",
       "      <td>0</td>\n",
       "      <td>-792.701887</td>\n",
       "      <td>40</td>\n",
       "      <td>среднее</td>\n",
       "      <td>1</td>\n",
       "      <td>женат / замужем</td>\n",
       "      <td>0</td>\n",
       "      <td>F</td>\n",
       "      <td>сотрудник</td>\n",
       "      <td>0</td>\n",
       "      <td>77069.234271</td>\n",
       "      <td>покупка коммерческой недвижимости</td>\n",
       "    </tr>\n",
       "    <tr>\n",
       "      <th>12</th>\n",
       "      <td>0</td>\n",
       "      <td>NaN</td>\n",
       "      <td>65</td>\n",
       "      <td>среднее</td>\n",
       "      <td>1</td>\n",
       "      <td>гражданский брак</td>\n",
       "      <td>1</td>\n",
       "      <td>M</td>\n",
       "      <td>пенсионер</td>\n",
       "      <td>0</td>\n",
       "      <td>NaN</td>\n",
       "      <td>сыграть свадьбу</td>\n",
       "    </tr>\n",
       "    <tr>\n",
       "      <th>13</th>\n",
       "      <td>0</td>\n",
       "      <td>-1846.641941</td>\n",
       "      <td>54</td>\n",
       "      <td>неоконченное высшее</td>\n",
       "      <td>2</td>\n",
       "      <td>женат / замужем</td>\n",
       "      <td>0</td>\n",
       "      <td>F</td>\n",
       "      <td>сотрудник</td>\n",
       "      <td>0</td>\n",
       "      <td>130458.228857</td>\n",
       "      <td>приобретение автомобиля</td>\n",
       "    </tr>\n",
       "    <tr>\n",
       "      <th>14</th>\n",
       "      <td>0</td>\n",
       "      <td>-1844.956182</td>\n",
       "      <td>56</td>\n",
       "      <td>высшее</td>\n",
       "      <td>0</td>\n",
       "      <td>гражданский брак</td>\n",
       "      <td>1</td>\n",
       "      <td>F</td>\n",
       "      <td>компаньон</td>\n",
       "      <td>1</td>\n",
       "      <td>165127.911772</td>\n",
       "      <td>покупка жилой недвижимости</td>\n",
       "    </tr>\n",
       "    <tr>\n",
       "      <th>15</th>\n",
       "      <td>1</td>\n",
       "      <td>-972.364419</td>\n",
       "      <td>26</td>\n",
       "      <td>среднее</td>\n",
       "      <td>1</td>\n",
       "      <td>женат / замужем</td>\n",
       "      <td>0</td>\n",
       "      <td>F</td>\n",
       "      <td>сотрудник</td>\n",
       "      <td>0</td>\n",
       "      <td>116820.904450</td>\n",
       "      <td>строительство собственной недвижимости</td>\n",
       "    </tr>\n",
       "    <tr>\n",
       "      <th>16</th>\n",
       "      <td>0</td>\n",
       "      <td>-1719.934226</td>\n",
       "      <td>35</td>\n",
       "      <td>среднее</td>\n",
       "      <td>1</td>\n",
       "      <td>женат / замужем</td>\n",
       "      <td>0</td>\n",
       "      <td>F</td>\n",
       "      <td>сотрудник</td>\n",
       "      <td>0</td>\n",
       "      <td>289202.704229</td>\n",
       "      <td>недвижимость</td>\n",
       "    </tr>\n",
       "    <tr>\n",
       "      <th>17</th>\n",
       "      <td>0</td>\n",
       "      <td>-2369.999720</td>\n",
       "      <td>33</td>\n",
       "      <td>высшее</td>\n",
       "      <td>0</td>\n",
       "      <td>гражданский брак</td>\n",
       "      <td>1</td>\n",
       "      <td>M</td>\n",
       "      <td>сотрудник</td>\n",
       "      <td>0</td>\n",
       "      <td>90410.586745</td>\n",
       "      <td>строительство недвижимости</td>\n",
       "    </tr>\n",
       "    <tr>\n",
       "      <th>18</th>\n",
       "      <td>0</td>\n",
       "      <td>400281.136913</td>\n",
       "      <td>53</td>\n",
       "      <td>среднее</td>\n",
       "      <td>1</td>\n",
       "      <td>вдовец / вдова</td>\n",
       "      <td>2</td>\n",
       "      <td>F</td>\n",
       "      <td>пенсионер</td>\n",
       "      <td>0</td>\n",
       "      <td>56823.777243</td>\n",
       "      <td>на покупку подержанного автомобиля</td>\n",
       "    </tr>\n",
       "    <tr>\n",
       "      <th>19</th>\n",
       "      <td>0</td>\n",
       "      <td>-10038.818549</td>\n",
       "      <td>48</td>\n",
       "      <td>СРЕДНЕЕ</td>\n",
       "      <td>1</td>\n",
       "      <td>в разводе</td>\n",
       "      <td>3</td>\n",
       "      <td>F</td>\n",
       "      <td>сотрудник</td>\n",
       "      <td>0</td>\n",
       "      <td>242831.107982</td>\n",
       "      <td>на покупку своего автомобиля</td>\n",
       "    </tr>\n",
       "  </tbody>\n",
       "</table>\n",
       "</div>"
      ],
      "text/plain": [
       "    children  days_employed  dob_years            education  education_id  \\\n",
       "0          1   -8437.673028         42               высшее             0   \n",
       "1          1   -4024.803754         36              среднее             1   \n",
       "2          0   -5623.422610         33              Среднее             1   \n",
       "3          3   -4124.747207         32              среднее             1   \n",
       "4          0  340266.072047         53              среднее             1   \n",
       "5          0    -926.185831         27               высшее             0   \n",
       "6          0   -2879.202052         43               высшее             0   \n",
       "7          0    -152.779569         50              СРЕДНЕЕ             1   \n",
       "8          2   -6929.865299         35               ВЫСШЕЕ             0   \n",
       "9          0   -2188.756445         41              среднее             1   \n",
       "10         2   -4171.483647         36               высшее             0   \n",
       "11         0    -792.701887         40              среднее             1   \n",
       "12         0            NaN         65              среднее             1   \n",
       "13         0   -1846.641941         54  неоконченное высшее             2   \n",
       "14         0   -1844.956182         56               высшее             0   \n",
       "15         1    -972.364419         26              среднее             1   \n",
       "16         0   -1719.934226         35              среднее             1   \n",
       "17         0   -2369.999720         33               высшее             0   \n",
       "18         0  400281.136913         53              среднее             1   \n",
       "19         0  -10038.818549         48              СРЕДНЕЕ             1   \n",
       "\n",
       "       family_status  family_status_id gender income_type  debt  \\\n",
       "0    женат / замужем                 0      F   сотрудник     0   \n",
       "1    женат / замужем                 0      F   сотрудник     0   \n",
       "2    женат / замужем                 0      M   сотрудник     0   \n",
       "3    женат / замужем                 0      M   сотрудник     0   \n",
       "4   гражданский брак                 1      F   пенсионер     0   \n",
       "5   гражданский брак                 1      M   компаньон     0   \n",
       "6    женат / замужем                 0      F   компаньон     0   \n",
       "7    женат / замужем                 0      M   сотрудник     0   \n",
       "8   гражданский брак                 1      F   сотрудник     0   \n",
       "9    женат / замужем                 0      M   сотрудник     0   \n",
       "10   женат / замужем                 0      M   компаньон     0   \n",
       "11   женат / замужем                 0      F   сотрудник     0   \n",
       "12  гражданский брак                 1      M   пенсионер     0   \n",
       "13   женат / замужем                 0      F   сотрудник     0   \n",
       "14  гражданский брак                 1      F   компаньон     1   \n",
       "15   женат / замужем                 0      F   сотрудник     0   \n",
       "16   женат / замужем                 0      F   сотрудник     0   \n",
       "17  гражданский брак                 1      M   сотрудник     0   \n",
       "18    вдовец / вдова                 2      F   пенсионер     0   \n",
       "19         в разводе                 3      F   сотрудник     0   \n",
       "\n",
       "     total_income                                 purpose  \n",
       "0   253875.639453                           покупка жилья  \n",
       "1   112080.014102                 приобретение автомобиля  \n",
       "2   145885.952297                           покупка жилья  \n",
       "3   267628.550329              дополнительное образование  \n",
       "4   158616.077870                         сыграть свадьбу  \n",
       "5   255763.565419                           покупка жилья  \n",
       "6   240525.971920                       операции с жильем  \n",
       "7   135823.934197                             образование  \n",
       "8    95856.832424                   на проведение свадьбы  \n",
       "9   144425.938277                 покупка жилья для семьи  \n",
       "10  113943.491460                    покупка недвижимости  \n",
       "11   77069.234271       покупка коммерческой недвижимости  \n",
       "12            NaN                         сыграть свадьбу  \n",
       "13  130458.228857                 приобретение автомобиля  \n",
       "14  165127.911772              покупка жилой недвижимости  \n",
       "15  116820.904450  строительство собственной недвижимости  \n",
       "16  289202.704229                            недвижимость  \n",
       "17   90410.586745              строительство недвижимости  \n",
       "18   56823.777243      на покупку подержанного автомобиля  \n",
       "19  242831.107982            на покупку своего автомобиля  "
      ]
     },
     "execution_count": 4,
     "metadata": {},
     "output_type": "execute_result"
    }
   ],
   "source": [
    "data.head(20)"
   ]
  },
  {
   "cell_type": "markdown",
   "id": "aa414e0f",
   "metadata": {
    "deletable": false,
    "editable": false,
    "id": "1c12e233"
   },
   "source": [
    "**Задание 3. Выведите основную информацию о датафрейме с помощью метода `info()`.**"
   ]
  },
  {
   "cell_type": "code",
   "execution_count": 5,
   "id": "8033c1f5",
   "metadata": {
    "deletable": false,
    "id": "2b757bca",
    "outputId": "15376089-8dad-46c9-b520-c05248d43158"
   },
   "outputs": [
    {
     "name": "stdout",
     "output_type": "stream",
     "text": [
      "<class 'pandas.core.frame.DataFrame'>\n",
      "RangeIndex: 21525 entries, 0 to 21524\n",
      "Data columns (total 12 columns):\n",
      " #   Column            Non-Null Count  Dtype  \n",
      "---  ------            --------------  -----  \n",
      " 0   children          21525 non-null  int64  \n",
      " 1   days_employed     19351 non-null  float64\n",
      " 2   dob_years         21525 non-null  int64  \n",
      " 3   education         21525 non-null  object \n",
      " 4   education_id      21525 non-null  int64  \n",
      " 5   family_status     21525 non-null  object \n",
      " 6   family_status_id  21525 non-null  int64  \n",
      " 7   gender            21525 non-null  object \n",
      " 8   income_type       21525 non-null  object \n",
      " 9   debt              21525 non-null  int64  \n",
      " 10  total_income      19351 non-null  float64\n",
      " 11  purpose           21525 non-null  object \n",
      "dtypes: float64(2), int64(5), object(5)\n",
      "memory usage: 2.0+ MB\n"
     ]
    }
   ],
   "source": [
    "data.info()"
   ]
  },
  {
   "cell_type": "markdown",
   "id": "777d5349",
   "metadata": {},
   "source": [
    "Проверим, пропуски в `total_income` и `days_employed` находятся ли на одних строках:"
   ]
  },
  {
   "cell_type": "code",
   "execution_count": 6,
   "id": "15b01bfb",
   "metadata": {},
   "outputs": [
    {
     "data": {
      "text/plain": [
       "2174"
      ]
     },
     "execution_count": 6,
     "metadata": {},
     "output_type": "execute_result"
    }
   ],
   "source": [
    "len(data.loc[(data['days_employed'].isna()) & (data['total_income'].isna())])"
   ]
  },
  {
   "cell_type": "markdown",
   "id": "9033bf7c",
   "metadata": {},
   "source": [
    "Вполне возможно, заемщик не предоставил данные (они были не обязательны у определенного контрагента) и значения указали `NaN`"
   ]
  },
  {
   "cell_type": "markdown",
   "id": "b30b86d7",
   "metadata": {},
   "source": [
    "База данных имеет 21525 запись. Заголовки оформлены однотипно, понятно и придерживаются `snake_case`. Каждый столбец имеет соответствующий, хранящимся там данным, тип. Имеется 2 (два) столбца с отсутствующими данными."
   ]
  },
  {
   "cell_type": "markdown",
   "id": "b087e893",
   "metadata": {
    "deletable": false,
    "editable": false,
    "id": "333ec665"
   },
   "source": [
    "## Предобработка данных"
   ]
  },
  {
   "cell_type": "markdown",
   "id": "2526a26d",
   "metadata": {
    "deletable": false,
    "editable": false,
    "id": "02d92d53"
   },
   "source": [
    "### Удаление пропусков"
   ]
  },
  {
   "cell_type": "markdown",
   "id": "1d1dd37c",
   "metadata": {
    "deletable": false,
    "editable": false,
    "id": "cd84967c"
   },
   "source": [
    "**Задание 4. Выведите количество пропущенных значений для каждого столбца. Используйте комбинацию двух методов.**"
   ]
  },
  {
   "cell_type": "code",
   "execution_count": 7,
   "id": "c64d66d9",
   "metadata": {
    "deletable": false,
    "id": "7f9b2309",
    "outputId": "81f4d817-781c-465c-ed15-91ce4446810d"
   },
   "outputs": [
    {
     "data": {
      "text/plain": [
       "children               0\n",
       "days_employed       2174\n",
       "dob_years              0\n",
       "education              0\n",
       "education_id           0\n",
       "family_status          0\n",
       "family_status_id       0\n",
       "gender                 0\n",
       "income_type            0\n",
       "debt                   0\n",
       "total_income        2174\n",
       "purpose                0\n",
       "dtype: int64"
      ]
     },
     "execution_count": 7,
     "metadata": {},
     "output_type": "execute_result"
    }
   ],
   "source": [
    "data.isna().sum()"
   ]
  },
  {
   "cell_type": "markdown",
   "id": "5de4c37b",
   "metadata": {
    "deletable": false,
    "editable": false,
    "id": "db86e27b"
   },
   "source": [
    "**Задание 5. В двух столбцах есть пропущенные значения. Один из них — `days_employed`. Пропуски в этом столбце вы обработаете на следующем этапе. Другой столбец с пропущенными значениями — `total_income` — хранит данные о доходах. На сумму дохода сильнее всего влияет тип занятости, поэтому заполнить пропуски в этом столбце нужно медианным значением по каждому типу из столбца `income_type`. Например, у человека с типом занятости `сотрудник` пропуск в столбце `total_income` должен быть заполнен медианным доходом среди всех записей с тем же типом.**"
   ]
  },
  {
   "cell_type": "code",
   "execution_count": 8,
   "id": "5d3d43ee",
   "metadata": {
    "deletable": false,
    "id": "42006a93"
   },
   "outputs": [],
   "source": [
    "for t in data['income_type'].unique():\n",
    "    data.loc[(data['income_type'] == t) & (data['total_income'].isna()), 'total_income'] = \\\n",
    "    data.loc[(data['income_type'] == t), 'total_income'].median()"
   ]
  },
  {
   "cell_type": "markdown",
   "id": "d73a9c0b",
   "metadata": {
    "deletable": false,
    "editable": false,
    "id": "89da5ece"
   },
   "source": [
    "### Обработка аномальных значений"
   ]
  },
  {
   "cell_type": "markdown",
   "id": "63d61240",
   "metadata": {
    "deletable": false,
    "editable": false,
    "id": "57964554"
   },
   "source": [
    "**Задание 6. В данных могут встречаться артефакты (аномалии) — значения, которые не отражают действительность и появились по какой-то ошибке. таким артефактом будет отрицательное количество дней трудового стажа в столбце `days_employed`. Для реальных данных это нормально. Обработайте значения в этом столбце: замените все отрицательные значения положительными с помощью метода `abs()`.**"
   ]
  },
  {
   "cell_type": "code",
   "execution_count": 9,
   "id": "def74330",
   "metadata": {
    "deletable": false,
    "id": "f6f055bf"
   },
   "outputs": [],
   "source": [
    "data['days_employed'] = data['days_employed'].abs()"
   ]
  },
  {
   "cell_type": "markdown",
   "id": "a31c3f5f",
   "metadata": {
    "deletable": false,
    "editable": false,
    "id": "6107dd2f"
   },
   "source": [
    "**Задание 7. Для каждого типа занятости выведите медианное значение трудового стажа `days_employed` в днях.**"
   ]
  },
  {
   "cell_type": "code",
   "execution_count": 10,
   "id": "d184ca97",
   "metadata": {
    "deletable": false,
    "id": "85a5faf6",
    "outputId": "801ef80e-522b-4668-f34e-565af7432bcf"
   },
   "outputs": [
    {
     "data": {
      "text/plain": [
       "income_type\n",
       "безработный        366413.652744\n",
       "в декрете            3296.759962\n",
       "госслужащий          2689.368353\n",
       "компаньон            1547.382223\n",
       "пенсионер          365213.306266\n",
       "предприниматель       520.848083\n",
       "сотрудник            1574.202821\n",
       "студент               578.751554\n",
       "Name: days_employed, dtype: float64"
      ]
     },
     "execution_count": 10,
     "metadata": {},
     "output_type": "execute_result"
    }
   ],
   "source": [
    "data.groupby('income_type')['days_employed'].agg('median')"
   ]
  },
  {
   "cell_type": "markdown",
   "id": "bbe2a25b",
   "metadata": {
    "deletable": false,
    "editable": false,
    "id": "38d1a030"
   },
   "source": [
    "У двух типов (безработные и пенсионеры) получатся аномально большие значения. Исправить такие значения сложно, поэтому оставьте их как есть. Тем более этот столбец не понадобится вам для исследования."
   ]
  },
  {
   "cell_type": "markdown",
   "id": "b186969b",
   "metadata": {
    "deletable": false,
    "editable": false,
    "id": "d8a9f147"
   },
   "source": [
    "**Задание 8. Выведите перечень уникальных значений столбца `children`.**"
   ]
  },
  {
   "cell_type": "code",
   "execution_count": 11,
   "id": "e05cb451",
   "metadata": {
    "deletable": false,
    "id": "ef5056eb",
    "outputId": "6975b15c-7f95-4697-d16d-a0c79b657b03"
   },
   "outputs": [
    {
     "data": {
      "text/plain": [
       "array([ 1,  0,  3,  2, -1,  4, 20,  5], dtype=int64)"
      ]
     },
     "execution_count": 11,
     "metadata": {},
     "output_type": "execute_result"
    }
   ],
   "source": [
    "data['children'].unique()"
   ]
  },
  {
   "cell_type": "markdown",
   "id": "f883dfe5",
   "metadata": {
    "deletable": false,
    "editable": false,
    "id": "40b9ebf2"
   },
   "source": [
    "**Задание 9. В столбце `children` есть два аномальных значения. Удалите строки, в которых встречаются такие аномальные значения из датафрейма `data`.**"
   ]
  },
  {
   "cell_type": "code",
   "execution_count": 12,
   "id": "5c190152",
   "metadata": {
    "deletable": false,
    "id": "3ff9801d"
   },
   "outputs": [],
   "source": [
    "data = data[(data['children'] != -1) & (data['children'] != 20)]"
   ]
  },
  {
   "cell_type": "markdown",
   "id": "b0cb332b",
   "metadata": {
    "deletable": false,
    "editable": false,
    "id": "bbc4d0ce"
   },
   "source": [
    "**Задание 10. Ещё раз выведите перечень уникальных значений столбца `children`, чтобы убедиться, что артефакты удалены.**"
   ]
  },
  {
   "cell_type": "code",
   "execution_count": 13,
   "id": "b6829c9c",
   "metadata": {
    "deletable": false,
    "id": "ad4fa8b7",
    "outputId": "b2097101-d49d-44d9-901b-32a65c9463d1"
   },
   "outputs": [
    {
     "data": {
      "text/plain": [
       "array([1, 0, 3, 2, 4, 5], dtype=int64)"
      ]
     },
     "execution_count": 13,
     "metadata": {},
     "output_type": "execute_result"
    }
   ],
   "source": [
    "data['children'].unique()"
   ]
  },
  {
   "cell_type": "markdown",
   "id": "ea04e6eb",
   "metadata": {
    "deletable": false,
    "editable": false,
    "id": "75440b63"
   },
   "source": [
    "### Удаление пропусков (продолжение)"
   ]
  },
  {
   "cell_type": "markdown",
   "id": "bf9619cb",
   "metadata": {
    "deletable": false,
    "editable": false,
    "id": "f4ea573f"
   },
   "source": [
    "**Задание 11. Заполните пропуски в столбце `days_employed` медианными значениями по каждого типа занятости `income_type`.**"
   ]
  },
  {
   "cell_type": "code",
   "execution_count": 14,
   "id": "27046ca0",
   "metadata": {
    "deletable": false,
    "id": "af6b1a7e"
   },
   "outputs": [],
   "source": [
    "for t in data['income_type'].unique():\n",
    "    data.loc[(data['income_type'] == t) & (data['days_employed'].isna()), 'days_employed'] = \\\n",
    "    data.loc[(data['income_type'] == t), 'days_employed'].median()"
   ]
  },
  {
   "cell_type": "markdown",
   "id": "de9d03a2",
   "metadata": {
    "deletable": false,
    "editable": false,
    "id": "2753f40d"
   },
   "source": [
    "**Задание 12. Убедитесь, что все пропуски заполнены. Проверьте себя и ещё раз выведите количество пропущенных значений для каждого столбца с помощью двух методов.**"
   ]
  },
  {
   "cell_type": "code",
   "execution_count": 15,
   "id": "17268514",
   "metadata": {
    "deletable": false,
    "id": "55f78bc2",
    "outputId": "8da1e4e1-358e-4e87-98c9-f261bce0a7b2"
   },
   "outputs": [
    {
     "data": {
      "text/plain": [
       "children            0\n",
       "days_employed       0\n",
       "dob_years           0\n",
       "education           0\n",
       "education_id        0\n",
       "family_status       0\n",
       "family_status_id    0\n",
       "gender              0\n",
       "income_type         0\n",
       "debt                0\n",
       "total_income        0\n",
       "purpose             0\n",
       "dtype: int64"
      ]
     },
     "execution_count": 15,
     "metadata": {},
     "output_type": "execute_result"
    }
   ],
   "source": [
    "data.isna().sum()"
   ]
  },
  {
   "cell_type": "markdown",
   "id": "e1293f83",
   "metadata": {
    "deletable": false,
    "editable": false,
    "id": "ddc81e43"
   },
   "source": [
    "### Изменение типов данных"
   ]
  },
  {
   "cell_type": "markdown",
   "id": "d4399344",
   "metadata": {
    "deletable": false,
    "editable": false,
    "id": "42d19d24"
   },
   "source": [
    "**Задание 13. Замените вещественный тип данных в столбце `total_income` на целочисленный с помощью метода `astype()`.**"
   ]
  },
  {
   "cell_type": "code",
   "execution_count": 16,
   "id": "0180061e",
   "metadata": {
    "deletable": false,
    "id": "920b65ad"
   },
   "outputs": [],
   "source": [
    "data['total_income'] = data['total_income'].astype(int)"
   ]
  },
  {
   "cell_type": "markdown",
   "id": "eb190759",
   "metadata": {
    "deletable": false,
    "editable": false,
    "id": "80c420ba"
   },
   "source": [
    "### Обработка дубликатов"
   ]
  },
  {
   "cell_type": "markdown",
   "id": "251d1349",
   "metadata": {
    "deletable": false,
    "editable": false
   },
   "source": [
    "**Задание 14. Обработайте неявные дубликаты в столбце `education`. В этом столбце есть одни и те же значения, но записанные по-разному: с использованием заглавных и строчных букв. Приведите их к нижнему регистру. Проверьте остальные столбцы.**"
   ]
  },
  {
   "cell_type": "code",
   "execution_count": 17,
   "id": "2ab36f71",
   "metadata": {
    "deletable": false
   },
   "outputs": [],
   "source": [
    "data['education'] = data['education'].str.lower()"
   ]
  },
  {
   "cell_type": "markdown",
   "id": "465749fa",
   "metadata": {
    "deletable": false,
    "editable": false,
    "id": "dc587695"
   },
   "source": [
    "**Задание 15. Выведите на экран количество строк-дубликатов в данных. Если такие строки присутствуют, удалите их.**"
   ]
  },
  {
   "cell_type": "code",
   "execution_count": 18,
   "id": "d01d8c31",
   "metadata": {
    "deletable": false,
    "id": "3ee445e4",
    "outputId": "9684deba-1934-42d1-99e1-cda61740f822"
   },
   "outputs": [
    {
     "data": {
      "text/plain": [
       "71"
      ]
     },
     "execution_count": 18,
     "metadata": {},
     "output_type": "execute_result"
    }
   ],
   "source": [
    "data.duplicated().sum()"
   ]
  },
  {
   "cell_type": "code",
   "execution_count": 19,
   "id": "8ba3a47e",
   "metadata": {
    "deletable": false,
    "id": "8575fe05"
   },
   "outputs": [],
   "source": [
    "data = data.drop_duplicates()"
   ]
  },
  {
   "cell_type": "markdown",
   "id": "c7c1dbb2",
   "metadata": {
    "deletable": false,
    "editable": false,
    "id": "9904cf55"
   },
   "source": [
    "### Категоризация данных"
   ]
  },
  {
   "cell_type": "markdown",
   "id": "3b212872",
   "metadata": {
    "deletable": false,
    "editable": false,
    "id": "72fcc8a2"
   },
   "source": [
    "**Задание 16. На основании диапазонов, указанных ниже, создайте в датафрейме `data` столбец `total_income_category` с категориями:**\n",
    "\n",
    "- 0–30000 — `'E'`;\n",
    "- 30001–50000 — `'D'`;\n",
    "- 50001–200000 — `'C'`;\n",
    "- 200001–1000000 — `'B'`;\n",
    "- 1000001 и выше — `'A'`.\n",
    "\n",
    "\n",
    "**Например, кредитополучателю с доходом 25000 нужно назначить категорию `'E'`, а клиенту, получающему 235000, — `'B'`. Используйте собственную функцию с именем `categorize_income()` и метод `apply()`.**"
   ]
  },
  {
   "cell_type": "code",
   "execution_count": 20,
   "id": "97afe2d8",
   "metadata": {
    "deletable": false,
    "id": "e1771346"
   },
   "outputs": [],
   "source": [
    "def categorize_income(income):\n",
    "    try:\n",
    "        if 0 <= income <= 30000:\n",
    "            return 'E'\n",
    "        elif 30001 <= income <= 50000:\n",
    "            return 'D'\n",
    "        elif 50001 <= income <= 200000:\n",
    "            return 'C'\n",
    "        elif 200001 <= income <= 1000000:\n",
    "            return 'B'\n",
    "        elif income >= 1000001:\n",
    "            return 'A'\n",
    "    except:\n",
    "        pass"
   ]
  },
  {
   "cell_type": "code",
   "execution_count": 21,
   "id": "2f9c5a60",
   "metadata": {
    "deletable": false,
    "id": "d5f3586d"
   },
   "outputs": [],
   "source": [
    "data['total_income_category'] = data['total_income'].apply(categorize_income)"
   ]
  },
  {
   "cell_type": "markdown",
   "id": "e7b2621a",
   "metadata": {
    "deletable": false,
    "editable": false,
    "id": "dde49b5c"
   },
   "source": [
    "**Задание 17. Выведите на экран перечень уникальных целей взятия кредита из столбца `purpose`.**"
   ]
  },
  {
   "cell_type": "code",
   "execution_count": 22,
   "id": "c9bdfa1c",
   "metadata": {
    "deletable": false,
    "id": "f67ce9b3",
    "outputId": "673c12d9-7d7e-4ae0-9812-c622c89dd244"
   },
   "outputs": [
    {
     "data": {
      "text/plain": [
       "array(['покупка жилья', 'приобретение автомобиля',\n",
       "       'дополнительное образование', 'сыграть свадьбу',\n",
       "       'операции с жильем', 'образование', 'на проведение свадьбы',\n",
       "       'покупка жилья для семьи', 'покупка недвижимости',\n",
       "       'покупка коммерческой недвижимости', 'покупка жилой недвижимости',\n",
       "       'строительство собственной недвижимости', 'недвижимость',\n",
       "       'строительство недвижимости', 'на покупку подержанного автомобиля',\n",
       "       'на покупку своего автомобиля',\n",
       "       'операции с коммерческой недвижимостью',\n",
       "       'строительство жилой недвижимости', 'жилье',\n",
       "       'операции со своей недвижимостью', 'автомобили',\n",
       "       'заняться образованием', 'сделка с подержанным автомобилем',\n",
       "       'получение образования', 'автомобиль', 'свадьба',\n",
       "       'получение дополнительного образования', 'покупка своего жилья',\n",
       "       'операции с недвижимостью', 'получение высшего образования',\n",
       "       'свой автомобиль', 'сделка с автомобилем',\n",
       "       'профильное образование', 'высшее образование',\n",
       "       'покупка жилья для сдачи', 'на покупку автомобиля', 'ремонт жилью',\n",
       "       'заняться высшим образованием'], dtype=object)"
      ]
     },
     "execution_count": 22,
     "metadata": {},
     "output_type": "execute_result"
    }
   ],
   "source": [
    "data['purpose'].unique()"
   ]
  },
  {
   "cell_type": "markdown",
   "id": "fb995415",
   "metadata": {
    "deletable": false,
    "editable": false,
    "id": "85d0aef0"
   },
   "source": [
    "**Задание 18. Создайте функцию, которая на основании данных из столбца `purpose` сформирует новый столбец `purpose_category`, в который войдут следующие категории:**\n",
    "\n",
    "- `'операции с автомобилем'`,\n",
    "- `'операции с недвижимостью'`,\n",
    "- `'проведение свадьбы'`,\n",
    "- `'получение образования'`.\n",
    "\n",
    "**Например, если в столбце `purpose` находится подстрока `'на покупку автомобиля'`, то в столбце `purpose_category` должна появиться строка `'операции с автомобилем'`.**\n",
    "\n",
    "**Используйте собственную функцию с именем `categorize_purpose()` и метод `apply()`. Изучите данные в столбце `purpose` и определите, какие подстроки помогут вам правильно определить категорию.**"
   ]
  },
  {
   "cell_type": "code",
   "execution_count": 23,
   "id": "fe6b628d",
   "metadata": {
    "deletable": false,
    "id": "e149fab4"
   },
   "outputs": [],
   "source": [
    "def categorize_purpose(row):\n",
    "    try:\n",
    "        if 'автом' in row:\n",
    "            return 'операции с автомобилем'\n",
    "        elif 'жил' in row or 'недвиж' in row:\n",
    "            return 'операции с недвижимостью'\n",
    "        elif 'свад' in row:\n",
    "            return 'проведение свадьбы'\n",
    "        elif 'образов' in row:\n",
    "            return 'получение образования'\n",
    "    except:\n",
    "        return 'нет категории'"
   ]
  },
  {
   "cell_type": "code",
   "execution_count": 24,
   "id": "f5be92d4",
   "metadata": {
    "deletable": false,
    "id": "bf36e69b"
   },
   "outputs": [],
   "source": [
    "data['purpose_category'] = data['purpose'].apply(categorize_purpose)"
   ]
  },
  {
   "cell_type": "markdown",
   "id": "b11e5b6f",
   "metadata": {
    "deletable": false,
    "editable": false,
    "id": "09b242bf"
   },
   "source": [
    "### Шаг 3. Исследуйте данные и ответьте на вопросы"
   ]
  },
  {
   "cell_type": "markdown",
   "id": "a90cd51e",
   "metadata": {},
   "source": [
    "Для определения дальнейших зависимостей необходимо провести ранжирование клиентов по искомым категориям. Для составления рейтинга, помимо искомой категории из вопроса, нам понадобится также информация о задолженность по возврату кредитов **`debt`**.\n",
    "\n",
    "Рейтинг будет рассчитываться на основании корреляции количества задолженностей и количества кредитов в рамках определенной группы категории.\n",
    "\n",
    "*Например:* Мы имеем 2 (две) просрочки из 10 (десяти) выданных кредитов на группу лиц имеющих 5 (пять) детей. Корреляция данной группы будет составлять 0.2 (две десятых) или же 20 (двадцать) %. В тоже время в группе лиц имеющих 3 (трех) детей, 10 (десять) просрочек на 1000 (тысячу) выданных кредитов, соответственно корреляция составляет 0.01 (одна сотую) или же 1 (один) % . На основании данного примера можно сказать, что группа лиц имеющих 3 (трех) детей является более надежной категорией заемщиков, чем группа лиц имеющих 5 (пять) детей.\n",
    "\n",
    "**На основе примера выше можно сделать несколько выводов:**\n",
    "- Важно анализировать корреляцию просрочек, а не их количество;\n",
    "- Учитывать данные с количеством кредитов менее 3 (трех) % от общего количества является нецелесообразным. Причина заключается в большой статпогрешности.\n",
    "\n",
    "Проверю уникальные значения в столбце **`debt`**:"
   ]
  },
  {
   "cell_type": "code",
   "execution_count": 25,
   "id": "d6c92a2e",
   "metadata": {},
   "outputs": [
    {
     "data": {
      "text/plain": [
       "array([0, 1], dtype=int64)"
      ]
     },
     "execution_count": 25,
     "metadata": {},
     "output_type": "execute_result"
    }
   ],
   "source": [
    "data['debt'].unique()"
   ]
  },
  {
   "cell_type": "markdown",
   "id": "5c302d4f",
   "metadata": {},
   "source": [
    "В столбце **`debt`** используется булевая система для обозначения просрочек. В таком случае можно посчитать:\n",
    "1. количество задолженностей суммировав все 1 (единицы) в рамках определенной группы искомой категории;\n",
    "1. количество записей в рамках искомой категории для определения количества выданных кредитов в рамках определенной группы искомой категории;\n",
    "1. корреляцию между количеством задолженностей и количеством выданных кредитов в рамках определенной группы искомой категории."
   ]
  },
  {
   "cell_type": "markdown",
   "id": "e3464d28",
   "metadata": {},
   "source": [
    "Выясню сколько составляет 3 (три) % от общего количества кредитов:"
   ]
  },
  {
   "cell_type": "code",
   "execution_count": 26,
   "id": "b63e9520",
   "metadata": {},
   "outputs": [
    {
     "data": {
      "text/plain": [
       "640"
      ]
     },
     "execution_count": 26,
     "metadata": {},
     "output_type": "execute_result"
    }
   ],
   "source": [
    "int(round(data['debt'].count() * 3 / 100, 0))"
   ]
  },
  {
   "cell_type": "markdown",
   "id": "13acec7b",
   "metadata": {},
   "source": [
    "Исследовать корреляцию данных в рамках определенной группы категории с количеством кредитов менее 640 (шестьсот сорока) нерентабельно из-за высокой статпогрешности.\n",
    "\n",
    "Для ответа на дальнейшие вопросы нам поможет формула для составления сводной таблицы и визуализации данных в виде графика `barplot`:"
   ]
  },
  {
   "cell_type": "code",
   "execution_count": 27,
   "id": "377c806d",
   "metadata": {},
   "outputs": [],
   "source": [
    "def pivot(data, index):\n",
    "    \n",
    "    pivot = data.pivot_table(index = index, values = 'debt', aggfunc = ['sum', 'count', 'mean']).reset_index()\n",
    "    pivot.columns = [index, 'Кол-во должников', 'Кол-во клиентов', 'Доля невозврата']\n",
    "    index_dict = {'children': 'дети', 'family_status':'семейный статус', 'total_income_category': 'категория доходов', 'purpose_category':'цель кредита'}\n",
    "    display(pivot.sort_values('Доля невозврата'))\n",
    "    \n",
    "    sns.barplot(data=pivot, x = index, y = 'Доля невозврата')\n",
    "    \n",
    "    plt.xlabel(index_dict[index], fontsize=14)\n",
    "    plt.ylabel('Доля невозврата', fontsize=14)\n",
    "    \n",
    "    plt.show()"
   ]
  },
  {
   "cell_type": "markdown",
   "id": "dc5d0afd",
   "metadata": {
    "deletable": false,
    "editable": false,
    "id": "c5d66278"
   },
   "source": [
    "#### 3.1 Есть ли зависимость между количеством детей и возвратом кредита в срок?"
   ]
  },
  {
   "cell_type": "code",
   "execution_count": 28,
   "id": "a75606bc",
   "metadata": {
    "deletable": false,
    "id": "2cacfc4a"
   },
   "outputs": [
    {
     "data": {
      "text/html": [
       "<div>\n",
       "<style scoped>\n",
       "    .dataframe tbody tr th:only-of-type {\n",
       "        vertical-align: middle;\n",
       "    }\n",
       "\n",
       "    .dataframe tbody tr th {\n",
       "        vertical-align: top;\n",
       "    }\n",
       "\n",
       "    .dataframe thead th {\n",
       "        text-align: right;\n",
       "    }\n",
       "</style>\n",
       "<table border=\"1\" class=\"dataframe\">\n",
       "  <thead>\n",
       "    <tr style=\"text-align: right;\">\n",
       "      <th></th>\n",
       "      <th>children</th>\n",
       "      <th>Кол-во должников</th>\n",
       "      <th>Кол-во клиентов</th>\n",
       "      <th>Доля невозврата</th>\n",
       "    </tr>\n",
       "  </thead>\n",
       "  <tbody>\n",
       "    <tr>\n",
       "      <th>5</th>\n",
       "      <td>5</td>\n",
       "      <td>0</td>\n",
       "      <td>9</td>\n",
       "      <td>0.000000</td>\n",
       "    </tr>\n",
       "    <tr>\n",
       "      <th>0</th>\n",
       "      <td>0</td>\n",
       "      <td>1063</td>\n",
       "      <td>14091</td>\n",
       "      <td>0.075438</td>\n",
       "    </tr>\n",
       "    <tr>\n",
       "      <th>3</th>\n",
       "      <td>3</td>\n",
       "      <td>27</td>\n",
       "      <td>330</td>\n",
       "      <td>0.081818</td>\n",
       "    </tr>\n",
       "    <tr>\n",
       "      <th>1</th>\n",
       "      <td>1</td>\n",
       "      <td>444</td>\n",
       "      <td>4808</td>\n",
       "      <td>0.092346</td>\n",
       "    </tr>\n",
       "    <tr>\n",
       "      <th>2</th>\n",
       "      <td>2</td>\n",
       "      <td>194</td>\n",
       "      <td>2052</td>\n",
       "      <td>0.094542</td>\n",
       "    </tr>\n",
       "    <tr>\n",
       "      <th>4</th>\n",
       "      <td>4</td>\n",
       "      <td>4</td>\n",
       "      <td>41</td>\n",
       "      <td>0.097561</td>\n",
       "    </tr>\n",
       "  </tbody>\n",
       "</table>\n",
       "</div>"
      ],
      "text/plain": [
       "   children  Кол-во должников  Кол-во клиентов  Доля невозврата\n",
       "5         5                 0                9         0.000000\n",
       "0         0              1063            14091         0.075438\n",
       "3         3                27              330         0.081818\n",
       "1         1               444             4808         0.092346\n",
       "2         2               194             2052         0.094542\n",
       "4         4                 4               41         0.097561"
      ]
     },
     "metadata": {},
     "output_type": "display_data"
    },
    {
     "data": {
      "image/png": "[encoded data removed]",
      "text/plain": [
       "<Figure size 1500x700 with 1 Axes>"
      ]
     },
     "metadata": {},
     "output_type": "display_data"
    }
   ],
   "source": [
    "pivot(data, 'children')"
   ]
  },
  {
   "cell_type": "markdown",
   "id": "61a1b119",
   "metadata": {
    "deletable": false,
    "id": "3a6b99ec"
   },
   "source": [
    "**Вывод:** Заемщики без детей имеют корреляцию ниже, по сравнению с заемщиками с детьми. Доля невозврата кредита в срок без детей составляет 7,5 (семь целых пять десятых) %, в то время как с 1 (одним) ребенком уже 9,2 (девять целых две десятых) %, а с 2 (двумя) детьми - 9,4 (девять целых четыре десятых) %. Количество детей напрямую влияет на увеличение количества просрочек по кредиту.\n",
    "\n",
    "В выводе не учитывались данные по многодетным семьям (3 (три) и более детей), т.к. количество кредитов лиц с 3 (тремя), 4 (четырьмя) и 5 (пятью) детьми не превышает 3 (трех) % от общего количества заемщиков. Этих данных недостаточно для корректных выводов по ним."
   ]
  },
  {
   "cell_type": "markdown",
   "id": "4722475d",
   "metadata": {
    "deletable": false,
    "editable": false,
    "id": "97be82ca"
   },
   "source": [
    "#### 3.2 Есть ли зависимость между семейным положением и возвратом кредита в срок?"
   ]
  },
  {
   "cell_type": "code",
   "execution_count": 29,
   "id": "40405b30",
   "metadata": {
    "deletable": false,
    "id": "dc3f7ee8"
   },
   "outputs": [
    {
     "data": {
      "text/html": [
       "<div>\n",
       "<style scoped>\n",
       "    .dataframe tbody tr th:only-of-type {\n",
       "        vertical-align: middle;\n",
       "    }\n",
       "\n",
       "    .dataframe tbody tr th {\n",
       "        vertical-align: top;\n",
       "    }\n",
       "\n",
       "    .dataframe thead th {\n",
       "        text-align: right;\n",
       "    }\n",
       "</style>\n",
       "<table border=\"1\" class=\"dataframe\">\n",
       "  <thead>\n",
       "    <tr style=\"text-align: right;\">\n",
       "      <th></th>\n",
       "      <th>family_status</th>\n",
       "      <th>Кол-во должников</th>\n",
       "      <th>Кол-во клиентов</th>\n",
       "      <th>Доля невозврата</th>\n",
       "    </tr>\n",
       "  </thead>\n",
       "  <tbody>\n",
       "    <tr>\n",
       "      <th>2</th>\n",
       "      <td>вдовец / вдова</td>\n",
       "      <td>63</td>\n",
       "      <td>951</td>\n",
       "      <td>0.066246</td>\n",
       "    </tr>\n",
       "    <tr>\n",
       "      <th>1</th>\n",
       "      <td>в разводе</td>\n",
       "      <td>84</td>\n",
       "      <td>1189</td>\n",
       "      <td>0.070648</td>\n",
       "    </tr>\n",
       "    <tr>\n",
       "      <th>4</th>\n",
       "      <td>женат / замужем</td>\n",
       "      <td>927</td>\n",
       "      <td>12261</td>\n",
       "      <td>0.075606</td>\n",
       "    </tr>\n",
       "    <tr>\n",
       "      <th>3</th>\n",
       "      <td>гражданский брак</td>\n",
       "      <td>385</td>\n",
       "      <td>4134</td>\n",
       "      <td>0.093130</td>\n",
       "    </tr>\n",
       "    <tr>\n",
       "      <th>0</th>\n",
       "      <td>Не женат / не замужем</td>\n",
       "      <td>273</td>\n",
       "      <td>2796</td>\n",
       "      <td>0.097639</td>\n",
       "    </tr>\n",
       "  </tbody>\n",
       "</table>\n",
       "</div>"
      ],
      "text/plain": [
       "           family_status  Кол-во должников  Кол-во клиентов  Доля невозврата\n",
       "2         вдовец / вдова                63              951         0.066246\n",
       "1              в разводе                84             1189         0.070648\n",
       "4        женат / замужем               927            12261         0.075606\n",
       "3       гражданский брак               385             4134         0.093130\n",
       "0  Не женат / не замужем               273             2796         0.097639"
      ]
     },
     "metadata": {},
     "output_type": "display_data"
    },
    {
     "data": {
      "image/png": "[encoded data removed]",
      "text/plain": [
       "<Figure size 1500x700 with 1 Axes>"
      ]
     },
     "metadata": {},
     "output_type": "display_data"
    }
   ],
   "source": [
    "pivot(data, 'family_status')"
   ]
  },
  {
   "cell_type": "markdown",
   "id": "8730fd90",
   "metadata": {
    "deletable": false,
    "id": "1cef7837"
   },
   "source": [
    "**Вывод:** Наименьший процент задолженности у группы вдовцов и вдов, при этом группа лиц не имеющих каких-либо официальных отношений задерживает платежи в 1.5 (полтора) раза чаще. \n",
    "\n",
    "Для более детального сравнения необходимо посмотреть на данные категории в разрезе возраста клиентов. Возможно семейное положение не столько влияет скоринг, сколько возраст самих заемщиков."
   ]
  },
  {
   "cell_type": "markdown",
   "id": "7c5d0af0",
   "metadata": {
    "deletable": false,
    "editable": false,
    "id": "1e8b2fca"
   },
   "source": [
    "#### 3.3 Есть ли зависимость между уровнем дохода и возвратом кредита в срок?"
   ]
  },
  {
   "cell_type": "code",
   "execution_count": 30,
   "id": "6e766d58",
   "metadata": {
    "deletable": false,
    "id": "cd7e3720"
   },
   "outputs": [
    {
     "data": {
      "text/html": [
       "<div>\n",
       "<style scoped>\n",
       "    .dataframe tbody tr th:only-of-type {\n",
       "        vertical-align: middle;\n",
       "    }\n",
       "\n",
       "    .dataframe tbody tr th {\n",
       "        vertical-align: top;\n",
       "    }\n",
       "\n",
       "    .dataframe thead th {\n",
       "        text-align: right;\n",
       "    }\n",
       "</style>\n",
       "<table border=\"1\" class=\"dataframe\">\n",
       "  <thead>\n",
       "    <tr style=\"text-align: right;\">\n",
       "      <th></th>\n",
       "      <th>total_income_category</th>\n",
       "      <th>Кол-во должников</th>\n",
       "      <th>Кол-во клиентов</th>\n",
       "      <th>Доля невозврата</th>\n",
       "    </tr>\n",
       "  </thead>\n",
       "  <tbody>\n",
       "    <tr>\n",
       "      <th>3</th>\n",
       "      <td>D</td>\n",
       "      <td>21</td>\n",
       "      <td>349</td>\n",
       "      <td>0.060172</td>\n",
       "    </tr>\n",
       "    <tr>\n",
       "      <th>1</th>\n",
       "      <td>B</td>\n",
       "      <td>354</td>\n",
       "      <td>5014</td>\n",
       "      <td>0.070602</td>\n",
       "    </tr>\n",
       "    <tr>\n",
       "      <th>0</th>\n",
       "      <td>A</td>\n",
       "      <td>2</td>\n",
       "      <td>25</td>\n",
       "      <td>0.080000</td>\n",
       "    </tr>\n",
       "    <tr>\n",
       "      <th>2</th>\n",
       "      <td>C</td>\n",
       "      <td>1353</td>\n",
       "      <td>15921</td>\n",
       "      <td>0.084982</td>\n",
       "    </tr>\n",
       "    <tr>\n",
       "      <th>4</th>\n",
       "      <td>E</td>\n",
       "      <td>2</td>\n",
       "      <td>22</td>\n",
       "      <td>0.090909</td>\n",
       "    </tr>\n",
       "  </tbody>\n",
       "</table>\n",
       "</div>"
      ],
      "text/plain": [
       "  total_income_category  Кол-во должников  Кол-во клиентов  Доля невозврата\n",
       "3                     D                21              349         0.060172\n",
       "1                     B               354             5014         0.070602\n",
       "0                     A                 2               25         0.080000\n",
       "2                     C              1353            15921         0.084982\n",
       "4                     E                 2               22         0.090909"
      ]
     },
     "metadata": {},
     "output_type": "display_data"
    },
    {
     "data": {
      "image/png": "[encoded data removed]",
      "text/plain": [
       "<Figure size 1500x700 with 1 Axes>"
      ]
     },
     "metadata": {},
     "output_type": "display_data"
    }
   ],
   "source": [
    "pivot(data, 'total_income_category')"
   ]
  },
  {
   "cell_type": "markdown",
   "id": "0aa8185b",
   "metadata": {
    "deletable": false,
    "id": "e8593def"
   },
   "source": [
    "**Вывод:** Данные по группам **А**, **D** и **Е** имею слишком малое количество данных (менее 3 (трех) % от общего количество заемщиков). Поэтому данные являются нерелевантные, из-за высокой статпогрешности.\n",
    "\n",
    "Категории **B** и **С** имеют корреляцию 7,0 (семь целых) % и 8,4 (восемь целых четыре десятых) % соответственно. Так же группа клиентов категории доходности **С** является наиболее массовой в выборке (74 (семьдесят четыре) %). Это показывает, что уровень дохода влияет на возврат кредита в срок, т.е. их (группы **В**) доход позволяет вовремя погасить кредит. При этом, заемщиков с высоким уровнем дохода меньше (они наименее заинтересованы в кредитовании (доход позволяет обойтись без кредитов))."
   ]
  },
  {
   "cell_type": "markdown",
   "id": "ecebe0df",
   "metadata": {
    "deletable": false,
    "editable": false,
    "id": "99ecbd1f"
   },
   "source": [
    "#### 3.4 Как разные цели кредита влияют на его возврат в срок?"
   ]
  },
  {
   "cell_type": "code",
   "execution_count": 31,
   "id": "5ddeb1c6",
   "metadata": {
    "deletable": false,
    "id": "2b687290"
   },
   "outputs": [
    {
     "data": {
      "text/html": [
       "<div>\n",
       "<style scoped>\n",
       "    .dataframe tbody tr th:only-of-type {\n",
       "        vertical-align: middle;\n",
       "    }\n",
       "\n",
       "    .dataframe tbody tr th {\n",
       "        vertical-align: top;\n",
       "    }\n",
       "\n",
       "    .dataframe thead th {\n",
       "        text-align: right;\n",
       "    }\n",
       "</style>\n",
       "<table border=\"1\" class=\"dataframe\">\n",
       "  <thead>\n",
       "    <tr style=\"text-align: right;\">\n",
       "      <th></th>\n",
       "      <th>purpose_category</th>\n",
       "      <th>Кол-во должников</th>\n",
       "      <th>Кол-во клиентов</th>\n",
       "      <th>Доля невозврата</th>\n",
       "    </tr>\n",
       "  </thead>\n",
       "  <tbody>\n",
       "    <tr>\n",
       "      <th>1</th>\n",
       "      <td>операции с недвижимостью</td>\n",
       "      <td>780</td>\n",
       "      <td>10751</td>\n",
       "      <td>0.072551</td>\n",
       "    </tr>\n",
       "    <tr>\n",
       "      <th>3</th>\n",
       "      <td>проведение свадьбы</td>\n",
       "      <td>183</td>\n",
       "      <td>2313</td>\n",
       "      <td>0.079118</td>\n",
       "    </tr>\n",
       "    <tr>\n",
       "      <th>2</th>\n",
       "      <td>получение образования</td>\n",
       "      <td>369</td>\n",
       "      <td>3988</td>\n",
       "      <td>0.092528</td>\n",
       "    </tr>\n",
       "    <tr>\n",
       "      <th>0</th>\n",
       "      <td>операции с автомобилем</td>\n",
       "      <td>400</td>\n",
       "      <td>4279</td>\n",
       "      <td>0.093480</td>\n",
       "    </tr>\n",
       "  </tbody>\n",
       "</table>\n",
       "</div>"
      ],
      "text/plain": [
       "           purpose_category  Кол-во должников  Кол-во клиентов  \\\n",
       "1  операции с недвижимостью               780            10751   \n",
       "3        проведение свадьбы               183             2313   \n",
       "2     получение образования               369             3988   \n",
       "0    операции с автомобилем               400             4279   \n",
       "\n",
       "   Доля невозврата  \n",
       "1         0.072551  \n",
       "3         0.079118  \n",
       "2         0.092528  \n",
       "0         0.093480  "
      ]
     },
     "metadata": {},
     "output_type": "display_data"
    },
    {
     "data": {
      "image/png": "[encoded data removed]",
      "text/plain": [
       "<Figure size 1500x700 with 1 Axes>"
      ]
     },
     "metadata": {},
     "output_type": "display_data"
    }
   ],
   "source": [
    "pivot(data, 'purpose_category')"
   ]
  },
  {
   "cell_type": "markdown",
   "id": "b6af4bbe",
   "metadata": {
    "deletable": false,
    "id": "b4bb2ce6"
   },
   "source": [
    "**Вывод:** Займы по операциям с недвижимостью составляют 50 (пятьдесят) % от общего количества и при этом заемщики ответственнее подходят к выплатам. Займы по автокредитам имеют наибольшую долю задолженностей. Предполагаю, что к покупке недвижимости заемщик подходит более осознано, чем к покупке автомобиля (возможна покупка автомобиля превышающего бюджет заемщика, что и приводит к просрочкам по платежам)."
   ]
  },
  {
   "cell_type": "markdown",
   "id": "c322a4a9",
   "metadata": {
    "deletable": false,
    "editable": false,
    "id": "09c3ac4c"
   },
   "source": [
    "#### 3.5 Приведите возможные причины появления пропусков в исходных данных."
   ]
  },
  {
   "cell_type": "markdown",
   "id": "95237fcd",
   "metadata": {
    "deletable": false,
    "id": "9da2ceda"
   },
   "source": [
    "Данные отсутствовали в 2 (двух) столбцах и их количество было одинаковым (ровно по 2174 (две тысячи сто семьдесят четыре) записи). Есть несколько причин подобного:\n",
    "- специалист не внес размер дохода и стаж заемщика (человеческий фактор);\n",
    "- заемщик не предоставил данные (они были не обязательны у определенного контрагента) и значения указали **`NaN`** (человеческий фактор);\n",
    "- сбой работы базы данных при выгрузке или работы приложения при внесении данных в базу (технологический фактор).\n",
    "\n",
    "Стоит отметить, что в первоначальном виде, данные о стаже работы имели отрицательные значения, что больше склоняет меня, что ошибка является технологической."
   ]
  },
  {
   "cell_type": "markdown",
   "id": "e22d580f",
   "metadata": {
    "deletable": false,
    "editable": false,
    "id": "7b0487d6"
   },
   "source": [
    "#### 3.6 Объясните, почему заполнить пропуски медианным значением — лучшее решение для количественных переменных."
   ]
  },
  {
   "cell_type": "markdown",
   "id": "0f1cb9b3",
   "metadata": {
    "deletable": false,
    "id": "7ecf2b8e"
   },
   "source": [
    "В данном случае, при обнаружении отсутствующих значений, было 3 варианта действий:\n",
    "- игнорировать данную проблему;\n",
    "- удалить данные (строки) с пустыми значениями;\n",
    "- заменить определенные значения.\n",
    "\n",
    "Подробнее рассмотрим каждый вариант:\n",
    "*Игнорирование проблемы*: подобные пропуски будут искажать данные и мешать проводить подсчеты. Например, при подсчете среднего ежемесячного дохода.\n",
    "\n",
    "*Удаление данных (строк) с пустыми значениями*: подобный вариант возможен, если данные не будут влиять на подтверждение или опровержение гипотез и составляют менее 10 (десяти) % от всех данных.\n",
    "\n",
    "*Замена данных*: необходимо определить на что меняем пустые значения. В нашем случае лучше использовать медианное значение. Оно менее подвержено влиянию к пиковым значениям в выборке. При этом используется не по всем данным, а с уклоном на тип занятости заемщика.\n",
    "\n",
    "Таким образом, замена пустых ячеек на медианное значение является оптимальным."
   ]
  },
  {
   "cell_type": "markdown",
   "id": "e4d5d984",
   "metadata": {
    "deletable": false,
    "editable": false,
    "id": "6db5255a"
   },
   "source": [
    "### Шаг 4: общий вывод."
   ]
  },
  {
   "cell_type": "markdown",
   "id": "fe0c347d",
   "metadata": {
    "deletable": false,
    "id": "bad65432"
   },
   "source": [
    "Для построения модели кредитного скоринга проанализировали данные кредитного отдела банка. Данные представляли собой выборку текущих клиентов.\n",
    "\n",
    "В рамках анализа проверены следующие гипотезы:\n",
    "\n",
    "***Есть ли зависимость между количеством детей и возвратом кредита в срок?***\n",
    "\n",
    "В рамках данного исследования не удалось оценить многодетные группы клиентов с 3 (тремя) и более детьми - выборка оказалась слишком малой для анализа.\n",
    "Группа клиентов без детей оказалась самой многочисленной (более 60 (шестидесяти) %) и процент задержек по кредиту самый низкий - 7.54 (семь целый пятьдесят четыре сотых) %. Самый высокий процент задержек по оплатам оказался у клиентов с двумя детьми и составляет 9.45 (девять целых сорок пять сотых) %. \n",
    "\n",
    "Гипотеза про зависимость между количеством детей и возвратом кредита в срок подтвердилась частично. Корреляция без детей и с 1 (одним) или 2 (двумя) детьми действительно имеет тенденцию на увеличение, но из-за малой доли многодетных заемщиков (менее 3 (трех) % от общего количества заемщиков) не удалось полностью подтвердить данную гипотезу.\n",
    "\n",
    "***Есть ли зависимость между семейным положением и возвратом кредита в срок?***\n",
    "\n",
    "По результатам проверки данной гипотезы выявлена следующая закономерность: меньше всего просрочек по кредитам у вдов/вдовцов - 6.62 (шесть целых шестьдесят две сотых) %, больше всего у клиентов, не состоящих в официальных отношениях 9.76 (девять целых семьдесят шесть сотых) %. Самой массовой категорией являются клиенты в браке (57 (пятьдесят семь) %), процент просрочек по данной категории составляет 7.56 (семь целых пятьдесят шесть сотых) %.\n",
    "\n",
    "Для более детального сравнения необходимо посмотреть на данные категории в разрезе возраста клиентов. Возможно семейное положение не столько влияет скоринг, сколько возраст самих заемщиков.\n",
    "\n",
    "***Есть ли зависимость между уровнем дохода и возвратом кредита в срок?***\n",
    "\n",
    "В рамках данного исследования не удалось оценить группы клиентов с категориями доходности А, D и Е - выборка оказалась слишком малой для анализа.\n",
    "По результатам проверки данной гипотезы выявлена следующая закономерность: меньше всего просрочек по кредитам у группы клиентов категории доходности В (уровень дохода от 200 000 (двухсот тысяч) до 1 000 000 (одного миллиона) рублей в месяц) - 7.06 (семь целых шесть сотых) %. Больше всего у группы клиентов категории доходности С (уровень дохода от 50 000 (пятидесяти тысяч) до 200 000 (двухсот тысяч) рублей в месяц) - 8.50 (восемь целых пять десятых) %. Так же группа клиентов категории доходности С (уровень дохода от 50 000 (пятидесяти тысяч) до 200 000 (двухсот тысяч) рублей в месяц) является наиболее массовой в выборке (74 (семьдесят четыре) %).\n",
    "\n",
    "Гипотеза о зависимости между уровнем дохода и возвратом кредита в срок подтвердилась. Уровень дохода влияет на возврат кредита в срок, т.е. заемщиков с высоким уровнем дохода меньше (они наименее заинтересованы в кредитовании (доход позволяет обойтись без кредитов)), в тоже время их (группы В) доход позволяет вовремя погасить кредит.\n",
    "\n",
    "***Как разные цели кредита влияют на его возврат в срок?***\n",
    "По результатам проверки данной гипотезы выявлена следующая закономерность - меньше всего просрочек по кредитам на недвижимость (7.26 (семь целых двадцать шесть сотых) %), больше всего по займам на автомобиль (9.35 (девять целых тридцать пять сотых) %). При этом, самой массовой категорией являются займы на недвижимость - 50 (пятьдесят) % всех займов.\n",
    "\n",
    "Гипотеза о том, что разные цели кредита влияют на его возврат в срок, подтвердилась. В зависимости от цели кредита изменяется и процент задержек по нему.\n",
    "\n",
    "---\n",
    "\n",
    "Дополнительно, было бы неплохо создать диаграмму рассеивания на основе проведенных исследований для выявления \"идеального\" заемщика и выявления \"группы риска\". \n",
    "Можно еще провести анализ по количеству дней просрочки и объемам просрочек. Это позволит выявить возможные финансовые риски при задержке кредита. Например, задержка выплат по кредиту в 2 000 000 (два миллиона) рублей является критичнее, чем задержка 10 (десяти) выплат по кредитам в 50 000 (пятьдесят тысяч) рублей. В то же время, задержка 10 (десяти) выплат по кредитам в 50 000 (пятьдесят тысяч) рублей на пол года является критичнее, чем задержка выплаты по кредиту в 2 000 000 (два миллиона) рублей на 1 (один) день.\n",
    "\n",
    "Это позволит определить более точно, какая группа, с точки зрения задолженности порождает наибольшие финансовые проблемы. Результаты можно использовать для скоринга.\n",
    "\n",
    "---\n",
    "\n",
    "База данных имеет 21525 запись. Заголовки оформлены однотипно, понятно и придерживаются `snake_case`. Каждый столбец имеет соответствующий, хранящимся там данным, тип. Имелись 2 (два) столбца с отсутствующими  данными:  `days_employed` и `total_income`. В каждом столбце отсутствовало по *2174* значений. При этом пропуски были одновременно в 2 (двух) столбцах в рамках одной строки. Пропущенные данные заменили медиальным значением в рамках каждого уникального `income_type`. \n",
    "\n",
    "Так же перед исследованием провел следующие изменения в базе данных:\n",
    "- в столбце `days_employed` были отрицательные значения (исправили через **abs()**);\n",
    "- убрал аномальные значения в столбце `children`;\n",
    "- в столбце `income_type` изменил значения с типа *float* на тип *int* для упрощения подсчета;\n",
    "- столбец `education` привел к нижнему регистру и убрали дубликаты;\n",
    "- категоризацию столбцов `total_income` и `purpose."
   ]
  }
 ],
 "metadata": {
  "ExecuteTimeLog": [
   {
    "duration": 1096,
    "start_time": "2023-06-30T13:00:15.850Z"
   },
   {
    "duration": 23,
    "start_time": "2023-06-30T13:00:16.948Z"
   },
   {
    "duration": 21,
    "start_time": "2023-06-30T13:00:16.973Z"
   },
   {
    "duration": 17,
    "start_time": "2023-06-30T13:00:16.996Z"
   },
   {
    "duration": 59,
    "start_time": "2023-06-30T13:00:17.015Z"
   },
   {
    "duration": 3,
    "start_time": "2023-06-30T13:00:17.076Z"
   },
   {
    "duration": 27,
    "start_time": "2023-06-30T13:00:17.080Z"
   },
   {
    "duration": 8,
    "start_time": "2023-06-30T13:00:17.108Z"
   },
   {
    "duration": 11,
    "start_time": "2023-06-30T13:00:17.117Z"
   },
   {
    "duration": 11,
    "start_time": "2023-06-30T13:00:17.129Z"
   },
   {
    "duration": 42,
    "start_time": "2023-06-30T13:00:17.141Z"
   },
   {
    "duration": 11,
    "start_time": "2023-06-30T13:00:17.185Z"
   },
   {
    "duration": 20,
    "start_time": "2023-06-30T13:00:17.197Z"
   },
   {
    "duration": 31,
    "start_time": "2023-06-30T13:00:17.221Z"
   },
   {
    "duration": 30,
    "start_time": "2023-06-30T13:00:17.254Z"
   },
   {
    "duration": 17,
    "start_time": "2023-06-30T13:00:17.286Z"
   },
   {
    "duration": 3,
    "start_time": "2023-06-30T13:00:17.305Z"
   },
   {
    "duration": 13,
    "start_time": "2023-06-30T13:00:17.310Z"
   },
   {
    "duration": 11,
    "start_time": "2023-06-30T13:00:17.325Z"
   },
   {
    "duration": 13,
    "start_time": "2023-06-30T13:00:17.337Z"
   },
   {
    "duration": 34,
    "start_time": "2023-06-30T13:00:17.352Z"
   },
   {
    "duration": 488,
    "start_time": "2023-06-30T14:33:01.158Z"
   },
   {
    "duration": 22,
    "start_time": "2023-06-30T14:33:01.648Z"
   },
   {
    "duration": 62,
    "start_time": "2023-06-30T14:33:01.672Z"
   },
   {
    "duration": 46,
    "start_time": "2023-06-30T14:33:01.737Z"
   },
   {
    "duration": 73,
    "start_time": "2023-06-30T14:33:01.784Z"
   },
   {
    "duration": 51,
    "start_time": "2023-06-30T14:33:01.859Z"
   },
   {
    "duration": 24,
    "start_time": "2023-06-30T14:33:01.912Z"
   },
   {
    "duration": 67,
    "start_time": "2023-06-30T14:33:01.938Z"
   },
   {
    "duration": 49,
    "start_time": "2023-06-30T14:33:02.006Z"
   },
   {
    "duration": 31,
    "start_time": "2023-06-30T14:33:02.057Z"
   },
   {
    "duration": 65,
    "start_time": "2023-06-30T14:33:02.089Z"
   },
   {
    "duration": 26,
    "start_time": "2023-06-30T14:33:02.156Z"
   },
   {
    "duration": 51,
    "start_time": "2023-06-30T14:33:02.184Z"
   },
   {
    "duration": 61,
    "start_time": "2023-06-30T14:33:02.237Z"
   },
   {
    "duration": 61,
    "start_time": "2023-06-30T14:33:02.300Z"
   },
   {
    "duration": 22,
    "start_time": "2023-06-30T14:33:02.364Z"
   },
   {
    "duration": 29,
    "start_time": "2023-06-30T14:33:02.389Z"
   },
   {
    "duration": 40,
    "start_time": "2023-06-30T14:33:02.419Z"
   },
   {
    "duration": 43,
    "start_time": "2023-06-30T14:33:02.460Z"
   },
   {
    "duration": 22,
    "start_time": "2023-06-30T14:33:02.505Z"
   },
   {
    "duration": 26,
    "start_time": "2023-06-30T14:33:02.529Z"
   },
   {
    "duration": 4,
    "start_time": "2023-06-30T14:44:24.163Z"
   },
   {
    "duration": 66,
    "start_time": "2023-06-30T14:45:53.756Z"
   },
   {
    "duration": 4,
    "start_time": "2023-06-30T14:46:21.885Z"
   },
   {
    "duration": 11,
    "start_time": "2023-06-30T14:46:23.956Z"
   },
   {
    "duration": 14,
    "start_time": "2023-06-30T14:52:46.884Z"
   },
   {
    "duration": 4,
    "start_time": "2023-06-30T14:52:49.900Z"
   },
   {
    "duration": 2149,
    "start_time": "2023-06-30T14:52:51.539Z"
   },
   {
    "duration": 3,
    "start_time": "2023-06-30T14:53:02.478Z"
   },
   {
    "duration": 12,
    "start_time": "2023-06-30T14:53:04.265Z"
   },
   {
    "duration": 9,
    "start_time": "2023-06-30T15:00:12.904Z"
   },
   {
    "duration": 13,
    "start_time": "2023-06-30T15:08:49.910Z"
   },
   {
    "duration": 9,
    "start_time": "2023-06-30T15:12:28.300Z"
   },
   {
    "duration": 13,
    "start_time": "2023-06-30T17:56:33.329Z"
   },
   {
    "duration": 9,
    "start_time": "2023-06-30T18:03:11.958Z"
   },
   {
    "duration": 10,
    "start_time": "2023-06-30T18:04:06.823Z"
   },
   {
    "duration": 13,
    "start_time": "2023-06-30T18:04:13.941Z"
   },
   {
    "duration": 7,
    "start_time": "2023-06-30T18:04:54.856Z"
   },
   {
    "duration": 44,
    "start_time": "2023-07-01T13:51:52.443Z"
   },
   {
    "duration": 746,
    "start_time": "2023-07-01T13:52:02.796Z"
   },
   {
    "duration": 19,
    "start_time": "2023-07-01T13:52:03.543Z"
   },
   {
    "duration": 14,
    "start_time": "2023-07-01T13:52:03.564Z"
   },
   {
    "duration": 9,
    "start_time": "2023-07-01T13:52:03.579Z"
   },
   {
    "duration": 43,
    "start_time": "2023-07-01T13:52:03.590Z"
   },
   {
    "duration": 4,
    "start_time": "2023-07-01T13:52:03.634Z"
   },
   {
    "duration": 8,
    "start_time": "2023-07-01T13:52:03.639Z"
   },
   {
    "duration": 5,
    "start_time": "2023-07-01T13:52:03.648Z"
   },
   {
    "duration": 7,
    "start_time": "2023-07-01T13:52:03.654Z"
   },
   {
    "duration": 4,
    "start_time": "2023-07-01T13:52:03.662Z"
   },
   {
    "duration": 69,
    "start_time": "2023-07-01T13:52:03.668Z"
   },
   {
    "duration": 8,
    "start_time": "2023-07-01T13:52:03.738Z"
   },
   {
    "duration": 6,
    "start_time": "2023-07-01T13:52:03.747Z"
   },
   {
    "duration": 11,
    "start_time": "2023-07-01T13:52:03.754Z"
   },
   {
    "duration": 28,
    "start_time": "2023-07-01T13:52:03.766Z"
   },
   {
    "duration": 17,
    "start_time": "2023-07-01T13:52:03.795Z"
   },
   {
    "duration": 4,
    "start_time": "2023-07-01T13:52:03.814Z"
   },
   {
    "duration": 14,
    "start_time": "2023-07-01T13:52:03.819Z"
   },
   {
    "duration": 4,
    "start_time": "2023-07-01T13:52:03.835Z"
   },
   {
    "duration": 2,
    "start_time": "2023-07-01T13:52:03.841Z"
   },
   {
    "duration": 14,
    "start_time": "2023-07-01T13:52:03.844Z"
   },
   {
    "duration": 5,
    "start_time": "2023-07-01T13:52:09.175Z"
   },
   {
    "duration": 3,
    "start_time": "2023-07-01T14:02:30.834Z"
   },
   {
    "duration": 11,
    "start_time": "2023-07-01T14:02:33.247Z"
   },
   {
    "duration": 291,
    "start_time": "2023-07-01T14:03:47.951Z"
   },
   {
    "duration": 178,
    "start_time": "2023-07-01T14:04:02.356Z"
   },
   {
    "duration": 4,
    "start_time": "2023-07-01T14:04:09.477Z"
   },
   {
    "duration": 14,
    "start_time": "2023-07-01T14:04:11.491Z"
   },
   {
    "duration": 6,
    "start_time": "2023-07-01T14:04:51.520Z"
   },
   {
    "duration": 13,
    "start_time": "2023-07-01T14:04:52.904Z"
   },
   {
    "duration": 9,
    "start_time": "2023-07-01T14:05:46.942Z"
   },
   {
    "duration": 23,
    "start_time": "2023-07-01T14:05:50.304Z"
   },
   {
    "duration": 9,
    "start_time": "2023-07-01T14:05:51.695Z"
   },
   {
    "duration": 15,
    "start_time": "2023-07-01T14:05:55.092Z"
   },
   {
    "duration": 8,
    "start_time": "2023-07-01T14:05:56.651Z"
   },
   {
    "duration": 17,
    "start_time": "2023-07-01T14:05:57.985Z"
   },
   {
    "duration": 7,
    "start_time": "2023-07-01T14:05:59.282Z"
   },
   {
    "duration": 424,
    "start_time": "2023-07-01T14:06:21.665Z"
   },
   {
    "duration": 20,
    "start_time": "2023-07-01T14:06:22.091Z"
   },
   {
    "duration": 20,
    "start_time": "2023-07-01T14:06:22.113Z"
   },
   {
    "duration": 8,
    "start_time": "2023-07-01T14:06:22.134Z"
   },
   {
    "duration": 27,
    "start_time": "2023-07-01T14:06:22.143Z"
   },
   {
    "duration": 3,
    "start_time": "2023-07-01T14:06:22.171Z"
   },
   {
    "duration": 32,
    "start_time": "2023-07-01T14:06:22.175Z"
   },
   {
    "duration": 5,
    "start_time": "2023-07-01T14:06:22.209Z"
   },
   {
    "duration": 20,
    "start_time": "2023-07-01T14:06:22.216Z"
   },
   {
    "duration": 7,
    "start_time": "2023-07-01T14:06:22.237Z"
   },
   {
    "duration": 34,
    "start_time": "2023-07-01T14:06:22.246Z"
   },
   {
    "duration": 27,
    "start_time": "2023-07-01T14:06:22.282Z"
   },
   {
    "duration": 4,
    "start_time": "2023-07-01T14:06:22.310Z"
   },
   {
    "duration": 34,
    "start_time": "2023-07-01T14:06:22.317Z"
   },
   {
    "duration": 17,
    "start_time": "2023-07-01T14:06:22.353Z"
   },
   {
    "duration": 22,
    "start_time": "2023-07-01T14:06:22.372Z"
   },
   {
    "duration": 4,
    "start_time": "2023-07-01T14:06:22.395Z"
   },
   {
    "duration": 27,
    "start_time": "2023-07-01T14:06:22.400Z"
   },
   {
    "duration": 9,
    "start_time": "2023-07-01T14:06:22.429Z"
   },
   {
    "duration": 5,
    "start_time": "2023-07-01T14:06:22.439Z"
   },
   {
    "duration": 13,
    "start_time": "2023-07-01T14:06:22.445Z"
   },
   {
    "duration": 5,
    "start_time": "2023-07-01T14:06:22.459Z"
   },
   {
    "duration": 8,
    "start_time": "2023-07-01T14:06:22.465Z"
   },
   {
    "duration": 16,
    "start_time": "2023-07-01T14:06:22.474Z"
   },
   {
    "duration": 9,
    "start_time": "2023-07-01T14:06:22.491Z"
   },
   {
    "duration": 22,
    "start_time": "2023-07-01T14:06:22.502Z"
   },
   {
    "duration": 8,
    "start_time": "2023-07-01T14:06:22.526Z"
   },
   {
    "duration": 14,
    "start_time": "2023-07-01T14:06:22.536Z"
   },
   {
    "duration": 9,
    "start_time": "2023-07-01T14:06:22.551Z"
   },
   {
    "duration": 45,
    "start_time": "2023-07-01T14:06:22.561Z"
   },
   {
    "duration": 9,
    "start_time": "2023-07-01T14:06:22.607Z"
   },
   {
    "duration": 5,
    "start_time": "2023-07-01T14:07:13.503Z"
   },
   {
    "duration": 11,
    "start_time": "2023-07-01T14:07:14.716Z"
   },
   {
    "duration": 9,
    "start_time": "2023-07-01T14:07:17.202Z"
   },
   {
    "duration": 16,
    "start_time": "2023-07-01T14:07:19.836Z"
   },
   {
    "duration": 7,
    "start_time": "2023-07-01T14:07:21.367Z"
   },
   {
    "duration": 12,
    "start_time": "2023-07-01T14:07:22.855Z"
   },
   {
    "duration": 9,
    "start_time": "2023-07-01T14:07:25.124Z"
   },
   {
    "duration": 15,
    "start_time": "2023-07-01T14:07:29.782Z"
   },
   {
    "duration": 8,
    "start_time": "2023-07-01T14:07:33.870Z"
   },
   {
    "duration": 421,
    "start_time": "2023-07-01T15:15:18.970Z"
   },
   {
    "duration": 24,
    "start_time": "2023-07-01T15:15:19.393Z"
   },
   {
    "duration": 15,
    "start_time": "2023-07-01T15:15:19.418Z"
   },
   {
    "duration": 9,
    "start_time": "2023-07-01T15:15:19.434Z"
   },
   {
    "duration": 29,
    "start_time": "2023-07-01T15:15:19.444Z"
   },
   {
    "duration": 3,
    "start_time": "2023-07-01T15:15:19.474Z"
   },
   {
    "duration": 27,
    "start_time": "2023-07-01T15:15:19.478Z"
   },
   {
    "duration": 18,
    "start_time": "2023-07-01T15:15:19.507Z"
   },
   {
    "duration": 18,
    "start_time": "2023-07-01T15:15:19.526Z"
   },
   {
    "duration": 6,
    "start_time": "2023-07-01T15:15:19.545Z"
   },
   {
    "duration": 32,
    "start_time": "2023-07-01T15:15:19.552Z"
   },
   {
    "duration": 8,
    "start_time": "2023-07-01T15:15:19.585Z"
   },
   {
    "duration": 3,
    "start_time": "2023-07-01T15:15:19.594Z"
   },
   {
    "duration": 30,
    "start_time": "2023-07-01T15:15:19.599Z"
   },
   {
    "duration": 23,
    "start_time": "2023-07-01T15:15:19.630Z"
   },
   {
    "duration": 15,
    "start_time": "2023-07-01T15:15:19.654Z"
   },
   {
    "duration": 3,
    "start_time": "2023-07-01T15:15:19.670Z"
   },
   {
    "duration": 14,
    "start_time": "2023-07-01T15:15:19.674Z"
   },
   {
    "duration": 7,
    "start_time": "2023-07-01T15:15:19.689Z"
   },
   {
    "duration": 18,
    "start_time": "2023-07-01T15:15:19.697Z"
   },
   {
    "duration": 14,
    "start_time": "2023-07-01T15:15:19.717Z"
   },
   {
    "duration": 6,
    "start_time": "2023-07-01T15:15:19.733Z"
   },
   {
    "duration": 4,
    "start_time": "2023-07-01T15:15:19.740Z"
   },
   {
    "duration": 17,
    "start_time": "2023-07-01T15:15:19.745Z"
   },
   {
    "duration": 8,
    "start_time": "2023-07-01T15:15:19.763Z"
   },
   {
    "duration": 22,
    "start_time": "2023-07-01T15:15:19.772Z"
   },
   {
    "duration": 8,
    "start_time": "2023-07-01T15:15:19.795Z"
   },
   {
    "duration": 26,
    "start_time": "2023-07-01T15:15:19.804Z"
   },
   {
    "duration": 8,
    "start_time": "2023-07-01T15:15:19.831Z"
   },
   {
    "duration": 14,
    "start_time": "2023-07-01T15:15:19.840Z"
   },
   {
    "duration": 6,
    "start_time": "2023-07-01T15:15:19.856Z"
   },
   {
    "duration": 67,
    "start_time": "2023-07-01T17:15:01.067Z"
   },
   {
    "duration": 7,
    "start_time": "2023-07-01T17:15:26.126Z"
   },
   {
    "duration": 22,
    "start_time": "2023-07-01T17:15:31.407Z"
   },
   {
    "duration": 91,
    "start_time": "2023-07-01T17:16:13.551Z"
   },
   {
    "duration": 34,
    "start_time": "2023-07-01T17:16:19.236Z"
   },
   {
    "duration": 7,
    "start_time": "2023-07-01T17:17:54.690Z"
   },
   {
    "duration": 29,
    "start_time": "2023-07-01T17:17:59.813Z"
   },
   {
    "duration": 14,
    "start_time": "2023-07-01T17:18:27.839Z"
   },
   {
    "duration": 15,
    "start_time": "2023-07-01T17:19:25.571Z"
   },
   {
    "duration": 11,
    "start_time": "2023-07-01T17:20:11.943Z"
   },
   {
    "duration": 7,
    "start_time": "2023-07-01T17:22:08.512Z"
   },
   {
    "duration": 63,
    "start_time": "2023-07-01T17:22:29.130Z"
   },
   {
    "duration": 7,
    "start_time": "2023-07-01T17:22:35.280Z"
   },
   {
    "duration": 19,
    "start_time": "2023-07-01T17:22:39.540Z"
   },
   {
    "duration": 421,
    "start_time": "2023-07-01T17:23:06.044Z"
   },
   {
    "duration": 23,
    "start_time": "2023-07-01T17:23:06.467Z"
   },
   {
    "duration": 17,
    "start_time": "2023-07-01T17:23:06.492Z"
   },
   {
    "duration": 14,
    "start_time": "2023-07-01T17:23:06.511Z"
   },
   {
    "duration": 34,
    "start_time": "2023-07-01T17:23:06.528Z"
   },
   {
    "duration": 4,
    "start_time": "2023-07-01T17:23:06.563Z"
   },
   {
    "duration": 16,
    "start_time": "2023-07-01T17:23:06.568Z"
   },
   {
    "duration": 17,
    "start_time": "2023-07-01T17:23:06.586Z"
   },
   {
    "duration": 8,
    "start_time": "2023-07-01T17:23:06.604Z"
   },
   {
    "duration": 5,
    "start_time": "2023-07-01T17:23:06.614Z"
   },
   {
    "duration": 30,
    "start_time": "2023-07-01T17:23:06.621Z"
   },
   {
    "duration": 8,
    "start_time": "2023-07-01T17:23:06.652Z"
   },
   {
    "duration": 5,
    "start_time": "2023-07-01T17:23:06.661Z"
   },
   {
    "duration": 36,
    "start_time": "2023-07-01T17:23:06.669Z"
   },
   {
    "duration": 17,
    "start_time": "2023-07-01T17:23:06.707Z"
   },
   {
    "duration": 14,
    "start_time": "2023-07-01T17:23:06.725Z"
   },
   {
    "duration": 3,
    "start_time": "2023-07-01T17:23:06.741Z"
   },
   {
    "duration": 13,
    "start_time": "2023-07-01T17:23:06.745Z"
   },
   {
    "duration": 6,
    "start_time": "2023-07-01T17:23:06.759Z"
   },
   {
    "duration": 10,
    "start_time": "2023-07-01T17:23:06.767Z"
   },
   {
    "duration": 24,
    "start_time": "2023-07-01T17:23:06.778Z"
   },
   {
    "duration": 10,
    "start_time": "2023-07-01T17:23:06.804Z"
   },
   {
    "duration": 11,
    "start_time": "2023-07-01T17:23:06.815Z"
   },
   {
    "duration": 30,
    "start_time": "2023-07-01T17:23:06.827Z"
   },
   {
    "duration": 69,
    "start_time": "2023-07-01T17:23:20.004Z"
   },
   {
    "duration": 18,
    "start_time": "2023-07-01T17:23:31.032Z"
   },
   {
    "duration": 12,
    "start_time": "2023-07-01T17:27:53.841Z"
   },
   {
    "duration": 60,
    "start_time": "2023-07-01T17:28:07.298Z"
   },
   {
    "duration": 21,
    "start_time": "2023-07-01T17:30:08.670Z"
   },
   {
    "duration": 24,
    "start_time": "2023-07-01T17:30:54.486Z"
   },
   {
    "duration": 7,
    "start_time": "2023-07-01T17:31:42.964Z"
   },
   {
    "duration": 23,
    "start_time": "2023-07-01T17:31:58.757Z"
   },
   {
    "duration": 23,
    "start_time": "2023-07-01T17:34:31.258Z"
   },
   {
    "duration": 15,
    "start_time": "2023-07-01T17:34:53.371Z"
   },
   {
    "duration": 13,
    "start_time": "2023-07-01T17:39:07.662Z"
   },
   {
    "duration": 9,
    "start_time": "2023-07-01T17:39:23.210Z"
   },
   {
    "duration": 7,
    "start_time": "2023-07-01T17:39:34.457Z"
   },
   {
    "duration": 8,
    "start_time": "2023-07-01T17:45:23.838Z"
   },
   {
    "duration": 7,
    "start_time": "2023-07-01T17:46:51.379Z"
   },
   {
    "duration": 37,
    "start_time": "2023-07-01T17:46:56.180Z"
   },
   {
    "duration": 9,
    "start_time": "2023-07-01T17:49:50.529Z"
   },
   {
    "duration": 9,
    "start_time": "2023-07-01T17:50:07.871Z"
   },
   {
    "duration": 11,
    "start_time": "2023-07-01T17:51:10.095Z"
   },
   {
    "duration": 1089,
    "start_time": "2023-07-01T17:53:14.692Z"
   },
   {
    "duration": 13,
    "start_time": "2023-07-01T17:53:33.099Z"
   },
   {
    "duration": 15,
    "start_time": "2023-07-01T17:56:57.884Z"
   },
   {
    "duration": 40,
    "start_time": "2023-07-01T18:01:37.508Z"
   },
   {
    "duration": 67,
    "start_time": "2023-07-01T18:01:54.203Z"
   },
   {
    "duration": 3,
    "start_time": "2023-07-01T18:02:15.760Z"
   },
   {
    "duration": 97,
    "start_time": "2023-07-01T18:03:01.459Z"
   },
   {
    "duration": 215,
    "start_time": "2023-07-01T18:03:08.238Z"
   },
   {
    "duration": 18,
    "start_time": "2023-07-01T18:03:12.299Z"
   },
   {
    "duration": 18,
    "start_time": "2023-07-01T18:03:59.960Z"
   },
   {
    "duration": 19,
    "start_time": "2023-07-01T18:04:13.423Z"
   },
   {
    "duration": 24,
    "start_time": "2023-07-01T18:06:17.096Z"
   },
   {
    "duration": 29,
    "start_time": "2023-07-01T18:06:34.187Z"
   },
   {
    "duration": 16,
    "start_time": "2023-07-01T18:07:20.246Z"
   },
   {
    "duration": 17,
    "start_time": "2023-07-01T18:07:30.466Z"
   },
   {
    "duration": 30,
    "start_time": "2023-07-01T18:07:32.693Z"
   },
   {
    "duration": 24,
    "start_time": "2023-07-01T18:07:48.100Z"
   },
   {
    "duration": 26,
    "start_time": "2023-07-01T18:09:13.797Z"
   },
   {
    "duration": 29,
    "start_time": "2023-07-01T18:11:57.088Z"
   },
   {
    "duration": 35,
    "start_time": "2023-07-01T18:14:47.914Z"
   },
   {
    "duration": 12,
    "start_time": "2023-07-01T18:53:03.974Z"
   },
   {
    "duration": 8,
    "start_time": "2023-07-01T18:53:06.528Z"
   },
   {
    "duration": 8,
    "start_time": "2023-07-01T18:53:11.241Z"
   },
   {
    "duration": 14,
    "start_time": "2023-07-01T18:53:15.479Z"
   },
   {
    "duration": 23,
    "start_time": "2023-07-01T18:53:51.540Z"
   },
   {
    "duration": 528,
    "start_time": "2023-07-02T08:33:41.789Z"
   },
   {
    "duration": 21,
    "start_time": "2023-07-02T08:33:42.319Z"
   },
   {
    "duration": 15,
    "start_time": "2023-07-02T08:33:42.342Z"
   },
   {
    "duration": 10,
    "start_time": "2023-07-02T08:33:42.359Z"
   },
   {
    "duration": 48,
    "start_time": "2023-07-02T08:33:42.371Z"
   },
   {
    "duration": 4,
    "start_time": "2023-07-02T08:33:42.421Z"
   },
   {
    "duration": 15,
    "start_time": "2023-07-02T08:33:42.426Z"
   },
   {
    "duration": 4,
    "start_time": "2023-07-02T08:33:42.442Z"
   },
   {
    "duration": 7,
    "start_time": "2023-07-02T08:33:42.448Z"
   },
   {
    "duration": 6,
    "start_time": "2023-07-02T08:33:42.467Z"
   },
   {
    "duration": 51,
    "start_time": "2023-07-02T08:33:42.475Z"
   },
   {
    "duration": 10,
    "start_time": "2023-07-02T08:33:42.528Z"
   },
   {
    "duration": 13,
    "start_time": "2023-07-02T08:33:42.540Z"
   },
   {
    "duration": 19,
    "start_time": "2023-07-02T08:33:42.555Z"
   },
   {
    "duration": 31,
    "start_time": "2023-07-02T08:33:42.576Z"
   },
   {
    "duration": 18,
    "start_time": "2023-07-02T08:33:42.608Z"
   },
   {
    "duration": 4,
    "start_time": "2023-07-02T08:33:42.627Z"
   },
   {
    "duration": 12,
    "start_time": "2023-07-02T08:33:42.633Z"
   },
   {
    "duration": 7,
    "start_time": "2023-07-02T08:33:42.646Z"
   },
   {
    "duration": 4,
    "start_time": "2023-07-02T08:33:42.669Z"
   },
   {
    "duration": 12,
    "start_time": "2023-07-02T08:33:42.675Z"
   },
   {
    "duration": 8,
    "start_time": "2023-07-02T08:33:42.689Z"
   },
   {
    "duration": 12,
    "start_time": "2023-07-02T08:33:42.699Z"
   },
   {
    "duration": 32,
    "start_time": "2023-07-02T08:33:45.613Z"
   },
   {
    "duration": 62,
    "start_time": "2023-07-02T08:33:51.527Z"
   },
   {
    "duration": 20,
    "start_time": "2023-07-02T08:34:31.211Z"
   },
   {
    "duration": 16,
    "start_time": "2023-07-02T08:34:58.207Z"
   },
   {
    "duration": 30,
    "start_time": "2023-07-02T08:36:11.088Z"
   },
   {
    "duration": 16,
    "start_time": "2023-07-02T08:37:22.888Z"
   },
   {
    "duration": 14,
    "start_time": "2023-07-02T08:40:10.818Z"
   },
   {
    "duration": 12,
    "start_time": "2023-07-02T08:57:03.721Z"
   },
   {
    "duration": 28,
    "start_time": "2023-07-02T09:00:03.866Z"
   },
   {
    "duration": 11,
    "start_time": "2023-07-02T09:00:08.661Z"
   },
   {
    "duration": 26,
    "start_time": "2023-07-02T09:15:35.449Z"
   },
   {
    "duration": 13,
    "start_time": "2023-07-02T09:15:37.016Z"
   },
   {
    "duration": 8,
    "start_time": "2023-07-02T09:17:46.530Z"
   },
   {
    "duration": 28,
    "start_time": "2023-07-02T09:19:06.400Z"
   },
   {
    "duration": 29,
    "start_time": "2023-07-02T09:27:09.442Z"
   },
   {
    "duration": 408,
    "start_time": "2023-07-02T09:32:35.220Z"
   },
   {
    "duration": 21,
    "start_time": "2023-07-02T09:32:35.630Z"
   },
   {
    "duration": 21,
    "start_time": "2023-07-02T09:32:35.653Z"
   },
   {
    "duration": 9,
    "start_time": "2023-07-02T09:32:35.675Z"
   },
   {
    "duration": 41,
    "start_time": "2023-07-02T09:32:35.685Z"
   },
   {
    "duration": 3,
    "start_time": "2023-07-02T09:32:35.728Z"
   },
   {
    "duration": 18,
    "start_time": "2023-07-02T09:32:35.733Z"
   },
   {
    "duration": 16,
    "start_time": "2023-07-02T09:32:35.753Z"
   },
   {
    "duration": 16,
    "start_time": "2023-07-02T09:32:35.771Z"
   },
   {
    "duration": 7,
    "start_time": "2023-07-02T09:32:35.790Z"
   },
   {
    "duration": 39,
    "start_time": "2023-07-02T09:32:35.799Z"
   },
   {
    "duration": 13,
    "start_time": "2023-07-02T09:32:35.840Z"
   },
   {
    "duration": 20,
    "start_time": "2023-07-02T09:32:35.855Z"
   },
   {
    "duration": 10,
    "start_time": "2023-07-02T09:32:35.877Z"
   },
   {
    "duration": 21,
    "start_time": "2023-07-02T09:32:35.889Z"
   },
   {
    "duration": 17,
    "start_time": "2023-07-02T09:32:35.911Z"
   },
   {
    "duration": 4,
    "start_time": "2023-07-02T09:32:35.929Z"
   },
   {
    "duration": 10,
    "start_time": "2023-07-02T09:32:35.934Z"
   },
   {
    "duration": 24,
    "start_time": "2023-07-02T09:32:35.945Z"
   },
   {
    "duration": 5,
    "start_time": "2023-07-02T09:32:35.970Z"
   },
   {
    "duration": 10,
    "start_time": "2023-07-02T09:32:35.976Z"
   },
   {
    "duration": 4,
    "start_time": "2023-07-02T09:32:35.987Z"
   },
   {
    "duration": 30,
    "start_time": "2023-07-02T09:32:41.064Z"
   },
   {
    "duration": 25,
    "start_time": "2023-07-02T09:33:05.148Z"
   },
   {
    "duration": 58,
    "start_time": "2023-07-02T09:33:35.334Z"
   },
   {
    "duration": 29,
    "start_time": "2023-07-02T09:34:21.439Z"
   },
   {
    "duration": 13,
    "start_time": "2023-07-02T09:34:43.055Z"
   },
   {
    "duration": 27,
    "start_time": "2023-07-02T09:35:29.023Z"
   },
   {
    "duration": 15,
    "start_time": "2023-07-02T09:35:53.760Z"
   },
   {
    "duration": 15,
    "start_time": "2023-07-02T09:36:24.215Z"
   },
   {
    "duration": 31,
    "start_time": "2023-07-02T09:36:56.369Z"
   },
   {
    "duration": 14,
    "start_time": "2023-07-02T09:37:05.342Z"
   },
   {
    "duration": 468,
    "start_time": "2023-07-02T09:38:24.597Z"
   },
   {
    "duration": 29,
    "start_time": "2023-07-02T09:38:25.067Z"
   },
   {
    "duration": 19,
    "start_time": "2023-07-02T09:38:25.099Z"
   },
   {
    "duration": 10,
    "start_time": "2023-07-02T09:38:25.120Z"
   },
   {
    "duration": 53,
    "start_time": "2023-07-02T09:38:25.133Z"
   },
   {
    "duration": 5,
    "start_time": "2023-07-02T09:38:25.187Z"
   },
   {
    "duration": 9,
    "start_time": "2023-07-02T09:38:25.193Z"
   },
   {
    "duration": 4,
    "start_time": "2023-07-02T09:38:25.203Z"
   },
   {
    "duration": 7,
    "start_time": "2023-07-02T09:38:25.208Z"
   },
   {
    "duration": 3,
    "start_time": "2023-07-02T09:38:25.217Z"
   },
   {
    "duration": 65,
    "start_time": "2023-07-02T09:38:25.222Z"
   },
   {
    "duration": 9,
    "start_time": "2023-07-02T09:38:25.288Z"
   },
   {
    "duration": 4,
    "start_time": "2023-07-02T09:38:25.299Z"
   },
   {
    "duration": 12,
    "start_time": "2023-07-02T09:38:25.305Z"
   },
   {
    "duration": 19,
    "start_time": "2023-07-02T09:38:25.318Z"
   },
   {
    "duration": 41,
    "start_time": "2023-07-02T09:38:25.338Z"
   },
   {
    "duration": 4,
    "start_time": "2023-07-02T09:38:25.380Z"
   },
   {
    "duration": 14,
    "start_time": "2023-07-02T09:38:25.385Z"
   },
   {
    "duration": 7,
    "start_time": "2023-07-02T09:38:25.401Z"
   },
   {
    "duration": 3,
    "start_time": "2023-07-02T09:38:25.410Z"
   },
   {
    "duration": 9,
    "start_time": "2023-07-02T09:38:25.415Z"
   },
   {
    "duration": 4,
    "start_time": "2023-07-02T09:38:25.425Z"
   },
   {
    "duration": 61,
    "start_time": "2023-07-02T09:38:25.431Z"
   },
   {
    "duration": 14,
    "start_time": "2023-07-02T09:38:25.493Z"
   },
   {
    "duration": 36,
    "start_time": "2023-07-02T09:38:25.508Z"
   },
   {
    "duration": 32,
    "start_time": "2023-07-02T09:38:25.545Z"
   },
   {
    "duration": 34,
    "start_time": "2023-07-02T09:38:25.579Z"
   },
   {
    "duration": 13,
    "start_time": "2023-07-02T09:38:25.615Z"
   },
   {
    "duration": 50,
    "start_time": "2023-07-02T09:38:25.630Z"
   },
   {
    "duration": 16,
    "start_time": "2023-07-02T09:38:25.682Z"
   },
   {
    "duration": 4,
    "start_time": "2023-07-02T11:15:12.411Z"
   },
   {
    "duration": 17,
    "start_time": "2023-07-02T11:15:13.283Z"
   },
   {
    "duration": 12,
    "start_time": "2023-07-02T11:15:15.246Z"
   },
   {
    "duration": 65,
    "start_time": "2023-07-02T13:43:09.149Z"
   },
   {
    "duration": 609,
    "start_time": "2023-07-02T13:43:22.809Z"
   },
   {
    "duration": 27,
    "start_time": "2023-07-02T13:43:23.420Z"
   },
   {
    "duration": 154,
    "start_time": "2023-07-02T13:43:23.449Z"
   },
   {
    "duration": 17,
    "start_time": "2023-07-02T13:43:23.606Z"
   },
   {
    "duration": 58,
    "start_time": "2023-07-02T13:43:23.625Z"
   },
   {
    "duration": 6,
    "start_time": "2023-07-02T13:43:23.685Z"
   },
   {
    "duration": 17,
    "start_time": "2023-07-02T13:43:23.693Z"
   },
   {
    "duration": 9,
    "start_time": "2023-07-02T13:43:23.712Z"
   },
   {
    "duration": 9,
    "start_time": "2023-07-02T13:43:23.723Z"
   },
   {
    "duration": 41,
    "start_time": "2023-07-02T13:43:23.734Z"
   },
   {
    "duration": 42,
    "start_time": "2023-07-02T13:43:23.786Z"
   },
   {
    "duration": 12,
    "start_time": "2023-07-02T13:43:23.830Z"
   },
   {
    "duration": 26,
    "start_time": "2023-07-02T13:43:23.844Z"
   },
   {
    "duration": 23,
    "start_time": "2023-07-02T13:43:23.872Z"
   },
   {
    "duration": 41,
    "start_time": "2023-07-02T13:43:23.897Z"
   },
   {
    "duration": 36,
    "start_time": "2023-07-02T13:43:23.940Z"
   },
   {
    "duration": 7,
    "start_time": "2023-07-02T13:43:23.979Z"
   },
   {
    "duration": 27,
    "start_time": "2023-07-02T13:43:23.989Z"
   },
   {
    "duration": 16,
    "start_time": "2023-07-02T13:43:24.018Z"
   },
   {
    "duration": 9,
    "start_time": "2023-07-02T13:43:24.036Z"
   },
   {
    "duration": 33,
    "start_time": "2023-07-02T13:43:24.047Z"
   },
   {
    "duration": 11,
    "start_time": "2023-07-02T13:43:24.081Z"
   },
   {
    "duration": 37,
    "start_time": "2023-07-02T13:43:24.094Z"
   },
   {
    "duration": 32,
    "start_time": "2023-07-02T13:43:24.134Z"
   },
   {
    "duration": 21,
    "start_time": "2023-07-02T13:45:25.623Z"
   },
   {
    "duration": 42,
    "start_time": "2023-07-02T13:46:20.943Z"
   },
   {
    "duration": 16,
    "start_time": "2023-07-02T13:46:23.492Z"
   },
   {
    "duration": 24,
    "start_time": "2023-07-02T13:46:32.452Z"
   },
   {
    "duration": 565,
    "start_time": "2023-07-02T15:46:16.236Z"
   },
   {
    "duration": 24,
    "start_time": "2023-07-02T15:46:16.803Z"
   },
   {
    "duration": 39,
    "start_time": "2023-07-02T15:46:16.829Z"
   },
   {
    "duration": 17,
    "start_time": "2023-07-02T15:46:16.878Z"
   },
   {
    "duration": 51,
    "start_time": "2023-07-02T15:46:16.897Z"
   },
   {
    "duration": 9,
    "start_time": "2023-07-02T15:46:16.951Z"
   },
   {
    "duration": 17,
    "start_time": "2023-07-02T15:46:16.970Z"
   },
   {
    "duration": 23,
    "start_time": "2023-07-02T15:46:16.989Z"
   },
   {
    "duration": 10,
    "start_time": "2023-07-02T15:46:17.014Z"
   },
   {
    "duration": 17,
    "start_time": "2023-07-02T15:46:17.029Z"
   },
   {
    "duration": 59,
    "start_time": "2023-07-02T15:46:17.048Z"
   },
   {
    "duration": 13,
    "start_time": "2023-07-02T15:46:17.109Z"
   },
   {
    "duration": 5,
    "start_time": "2023-07-02T15:46:17.123Z"
   },
   {
    "duration": 22,
    "start_time": "2023-07-02T15:46:17.130Z"
   },
   {
    "duration": 49,
    "start_time": "2023-07-02T15:46:17.157Z"
   },
   {
    "duration": 18,
    "start_time": "2023-07-02T15:46:17.207Z"
   },
   {
    "duration": 3,
    "start_time": "2023-07-02T15:46:17.228Z"
   },
   {
    "duration": 51,
    "start_time": "2023-07-02T15:46:17.232Z"
   },
   {
    "duration": 10,
    "start_time": "2023-07-02T15:46:17.285Z"
   },
   {
    "duration": 13,
    "start_time": "2023-07-02T15:46:17.297Z"
   },
   {
    "duration": 30,
    "start_time": "2023-07-02T15:46:17.312Z"
   },
   {
    "duration": 40,
    "start_time": "2023-07-02T15:46:17.344Z"
   },
   {
    "duration": 36,
    "start_time": "2023-07-02T15:46:17.387Z"
   },
   {
    "duration": 19,
    "start_time": "2023-07-02T15:46:17.426Z"
   },
   {
    "duration": 37,
    "start_time": "2023-07-02T15:46:17.447Z"
   },
   {
    "duration": 28,
    "start_time": "2023-07-02T15:46:17.486Z"
   },
   {
    "duration": 17,
    "start_time": "2023-07-02T15:46:17.516Z"
   },
   {
    "duration": 12,
    "start_time": "2023-07-02T15:46:17.536Z"
   },
   {
    "duration": 38,
    "start_time": "2023-07-02T15:46:17.554Z"
   },
   {
    "duration": 17,
    "start_time": "2023-07-02T15:46:17.594Z"
   },
   {
    "duration": 20,
    "start_time": "2023-07-02T15:46:17.613Z"
   },
   {
    "duration": 60,
    "start_time": "2023-07-02T15:46:17.635Z"
   },
   {
    "duration": 25,
    "start_time": "2023-07-02T15:46:17.698Z"
   },
   {
    "duration": 36,
    "start_time": "2023-07-02T15:46:17.725Z"
   },
   {
    "duration": 13,
    "start_time": "2023-07-02T15:46:17.773Z"
   },
   {
    "duration": 41,
    "start_time": "2023-07-02T15:46:17.791Z"
   },
   {
    "duration": 27,
    "start_time": "2023-07-02T15:46:17.834Z"
   },
   {
    "duration": 439,
    "start_time": "2023-07-02T17:31:01.708Z"
   },
   {
    "duration": 26,
    "start_time": "2023-07-02T17:31:02.148Z"
   },
   {
    "duration": 27,
    "start_time": "2023-07-02T17:31:02.176Z"
   },
   {
    "duration": 32,
    "start_time": "2023-07-02T17:31:02.206Z"
   },
   {
    "duration": 54,
    "start_time": "2023-07-02T17:31:02.240Z"
   },
   {
    "duration": 4,
    "start_time": "2023-07-02T17:31:02.296Z"
   },
   {
    "duration": 18,
    "start_time": "2023-07-02T17:31:02.301Z"
   },
   {
    "duration": 4,
    "start_time": "2023-07-02T17:31:02.321Z"
   },
   {
    "duration": 26,
    "start_time": "2023-07-02T17:31:02.326Z"
   },
   {
    "duration": 24,
    "start_time": "2023-07-02T17:31:02.356Z"
   },
   {
    "duration": 58,
    "start_time": "2023-07-02T17:31:02.382Z"
   },
   {
    "duration": 13,
    "start_time": "2023-07-02T17:31:02.442Z"
   },
   {
    "duration": 9,
    "start_time": "2023-07-02T17:31:02.457Z"
   },
   {
    "duration": 20,
    "start_time": "2023-07-02T17:31:02.467Z"
   },
   {
    "duration": 18,
    "start_time": "2023-07-02T17:31:02.489Z"
   },
   {
    "duration": 15,
    "start_time": "2023-07-02T17:31:02.508Z"
   },
   {
    "duration": 3,
    "start_time": "2023-07-02T17:31:02.525Z"
   },
   {
    "duration": 13,
    "start_time": "2023-07-02T17:31:02.529Z"
   },
   {
    "duration": 29,
    "start_time": "2023-07-02T17:31:02.543Z"
   },
   {
    "duration": 8,
    "start_time": "2023-07-02T17:31:02.574Z"
   },
   {
    "duration": 19,
    "start_time": "2023-07-02T17:31:02.584Z"
   },
   {
    "duration": 5,
    "start_time": "2023-07-02T17:31:02.605Z"
   },
   {
    "duration": 35,
    "start_time": "2023-07-02T17:31:02.611Z"
   },
   {
    "duration": 27,
    "start_time": "2023-07-02T17:31:02.648Z"
   },
   {
    "duration": 13,
    "start_time": "2023-07-02T17:31:02.676Z"
   },
   {
    "duration": 28,
    "start_time": "2023-07-02T17:31:02.691Z"
   },
   {
    "duration": 14,
    "start_time": "2023-07-02T17:31:02.720Z"
   },
   {
    "duration": 11,
    "start_time": "2023-07-02T17:31:02.736Z"
   },
   {
    "duration": 32,
    "start_time": "2023-07-02T17:31:02.759Z"
   },
   {
    "duration": 39,
    "start_time": "2023-07-02T17:31:02.793Z"
   },
   {
    "duration": 19,
    "start_time": "2023-07-02T17:31:02.834Z"
   },
   {
    "duration": 38,
    "start_time": "2023-07-02T17:31:02.855Z"
   },
   {
    "duration": 15,
    "start_time": "2023-07-02T17:31:02.894Z"
   },
   {
    "duration": 11,
    "start_time": "2023-07-02T17:31:02.911Z"
   },
   {
    "duration": 3,
    "start_time": "2023-07-02T17:31:02.924Z"
   },
   {
    "duration": 15,
    "start_time": "2023-07-02T17:31:02.928Z"
   },
   {
    "duration": 16,
    "start_time": "2023-07-02T17:31:02.959Z"
   },
   {
    "duration": 516,
    "start_time": "2023-07-02T17:58:47.044Z"
   },
   {
    "duration": 27,
    "start_time": "2023-07-02T17:58:47.568Z"
   },
   {
    "duration": 14,
    "start_time": "2023-07-02T17:58:47.597Z"
   },
   {
    "duration": 10,
    "start_time": "2023-07-02T17:58:47.613Z"
   },
   {
    "duration": 55,
    "start_time": "2023-07-02T17:58:47.625Z"
   },
   {
    "duration": 5,
    "start_time": "2023-07-02T17:58:47.682Z"
   },
   {
    "duration": 16,
    "start_time": "2023-07-02T17:58:47.688Z"
   },
   {
    "duration": 8,
    "start_time": "2023-07-02T17:58:47.706Z"
   },
   {
    "duration": 7,
    "start_time": "2023-07-02T17:58:47.716Z"
   },
   {
    "duration": 4,
    "start_time": "2023-07-02T17:58:47.728Z"
   },
   {
    "duration": 67,
    "start_time": "2023-07-02T17:58:47.734Z"
   },
   {
    "duration": 11,
    "start_time": "2023-07-02T17:58:47.803Z"
   },
   {
    "duration": 7,
    "start_time": "2023-07-02T17:58:47.816Z"
   },
   {
    "duration": 40,
    "start_time": "2023-07-02T17:58:47.825Z"
   },
   {
    "duration": 24,
    "start_time": "2023-07-02T17:58:47.870Z"
   },
   {
    "duration": 19,
    "start_time": "2023-07-02T17:58:47.896Z"
   },
   {
    "duration": 4,
    "start_time": "2023-07-02T17:58:47.917Z"
   },
   {
    "duration": 21,
    "start_time": "2023-07-02T17:58:47.923Z"
   },
   {
    "duration": 10,
    "start_time": "2023-07-02T17:58:47.960Z"
   },
   {
    "duration": 20,
    "start_time": "2023-07-02T17:58:47.972Z"
   },
   {
    "duration": 10,
    "start_time": "2023-07-02T17:58:47.994Z"
   },
   {
    "duration": 11,
    "start_time": "2023-07-02T17:58:48.006Z"
   },
   {
    "duration": 62,
    "start_time": "2023-07-02T17:58:48.018Z"
   },
   {
    "duration": 24,
    "start_time": "2023-07-02T17:58:48.082Z"
   },
   {
    "duration": 28,
    "start_time": "2023-07-02T17:58:48.109Z"
   },
   {
    "duration": 49,
    "start_time": "2023-07-02T17:58:48.139Z"
   },
   {
    "duration": 19,
    "start_time": "2023-07-02T17:58:48.190Z"
   },
   {
    "duration": 12,
    "start_time": "2023-07-02T17:58:48.213Z"
   },
   {
    "duration": 60,
    "start_time": "2023-07-02T17:58:48.227Z"
   },
   {
    "duration": 17,
    "start_time": "2023-07-02T17:58:48.289Z"
   },
   {
    "duration": 15,
    "start_time": "2023-07-02T17:58:48.391Z"
   },
   {
    "duration": 52,
    "start_time": "2023-07-02T17:58:48.409Z"
   },
   {
    "duration": 23,
    "start_time": "2023-07-02T17:58:48.925Z"
   },
   {
    "duration": 21,
    "start_time": "2023-07-02T17:58:48.950Z"
   },
   {
    "duration": 8,
    "start_time": "2023-07-02T17:58:48.973Z"
   },
   {
    "duration": 663,
    "start_time": "2023-07-02T17:58:48.987Z"
   },
   {
    "duration": 25,
    "start_time": "2023-07-02T17:58:49.652Z"
   },
   {
    "duration": 13,
    "start_time": "2023-07-02T17:58:49.681Z"
   },
   {
    "duration": 738,
    "start_time": "2023-07-03T11:39:39.395Z"
   },
   {
    "duration": 20,
    "start_time": "2023-07-03T11:39:40.134Z"
   },
   {
    "duration": 15,
    "start_time": "2023-07-03T11:39:40.155Z"
   },
   {
    "duration": 8,
    "start_time": "2023-07-03T11:39:40.171Z"
   },
   {
    "duration": 53,
    "start_time": "2023-07-03T11:39:40.181Z"
   },
   {
    "duration": 3,
    "start_time": "2023-07-03T11:39:40.236Z"
   },
   {
    "duration": 25,
    "start_time": "2023-07-03T11:39:40.240Z"
   },
   {
    "duration": 4,
    "start_time": "2023-07-03T11:39:40.266Z"
   },
   {
    "duration": 8,
    "start_time": "2023-07-03T11:39:40.271Z"
   },
   {
    "duration": 10,
    "start_time": "2023-07-03T11:39:40.281Z"
   },
   {
    "duration": 44,
    "start_time": "2023-07-03T11:39:40.292Z"
   },
   {
    "duration": 10,
    "start_time": "2023-07-03T11:39:40.338Z"
   },
   {
    "duration": 23,
    "start_time": "2023-07-03T11:39:40.349Z"
   },
   {
    "duration": 10,
    "start_time": "2023-07-03T11:39:40.375Z"
   },
   {
    "duration": 37,
    "start_time": "2023-07-03T11:39:40.386Z"
   },
   {
    "duration": 15,
    "start_time": "2023-07-03T11:39:40.424Z"
   },
   {
    "duration": 3,
    "start_time": "2023-07-03T11:39:40.441Z"
   },
   {
    "duration": 13,
    "start_time": "2023-07-03T11:39:40.445Z"
   },
   {
    "duration": 5,
    "start_time": "2023-07-03T11:39:40.459Z"
   },
   {
    "duration": 8,
    "start_time": "2023-07-03T11:39:40.465Z"
   },
   {
    "duration": 27,
    "start_time": "2023-07-03T11:39:40.474Z"
   },
   {
    "duration": 8,
    "start_time": "2023-07-03T11:39:40.503Z"
   },
   {
    "duration": 24,
    "start_time": "2023-07-03T11:39:40.512Z"
   },
   {
    "duration": 15,
    "start_time": "2023-07-03T11:39:40.538Z"
   },
   {
    "duration": 13,
    "start_time": "2023-07-03T11:39:40.554Z"
   },
   {
    "duration": 22,
    "start_time": "2023-07-03T11:39:40.568Z"
   },
   {
    "duration": 46,
    "start_time": "2023-07-03T11:39:40.591Z"
   },
   {
    "duration": 12,
    "start_time": "2023-07-03T11:39:40.639Z"
   },
   {
    "duration": 30,
    "start_time": "2023-07-03T11:39:40.652Z"
   },
   {
    "duration": 13,
    "start_time": "2023-07-03T11:39:40.684Z"
   },
   {
    "duration": 33,
    "start_time": "2023-07-03T11:39:40.699Z"
   },
   {
    "duration": 24,
    "start_time": "2023-07-03T11:39:40.734Z"
   },
   {
    "duration": 13,
    "start_time": "2023-07-03T11:39:40.760Z"
   },
   {
    "duration": 13,
    "start_time": "2023-07-03T11:39:40.775Z"
   },
   {
    "duration": 8,
    "start_time": "2023-07-03T11:39:40.789Z"
   },
   {
    "duration": 620,
    "start_time": "2023-07-03T11:39:40.798Z"
   },
   {
    "duration": 18,
    "start_time": "2023-07-03T11:39:41.420Z"
   },
   {
    "duration": 13,
    "start_time": "2023-07-03T11:39:41.441Z"
   },
   {
    "duration": 3,
    "start_time": "2023-07-03T11:46:14.914Z"
   },
   {
    "duration": 153,
    "start_time": "2023-07-03T11:46:45.554Z"
   },
   {
    "duration": 4,
    "start_time": "2023-07-03T11:47:20.284Z"
   },
   {
    "duration": 25,
    "start_time": "2023-07-03T11:47:22.749Z"
   },
   {
    "duration": 733,
    "start_time": "2023-07-04T06:28:40.208Z"
   },
   {
    "duration": 28,
    "start_time": "2023-07-04T06:28:40.943Z"
   },
   {
    "duration": 33,
    "start_time": "2023-07-04T06:28:40.972Z"
   },
   {
    "duration": 39,
    "start_time": "2023-07-04T06:28:41.007Z"
   },
   {
    "duration": 56,
    "start_time": "2023-07-04T06:28:41.048Z"
   },
   {
    "duration": 4,
    "start_time": "2023-07-04T06:28:41.105Z"
   },
   {
    "duration": 28,
    "start_time": "2023-07-04T06:28:41.111Z"
   },
   {
    "duration": 13,
    "start_time": "2023-07-04T06:28:41.140Z"
   },
   {
    "duration": 43,
    "start_time": "2023-07-04T06:28:41.155Z"
   },
   {
    "duration": 13,
    "start_time": "2023-07-04T06:28:41.201Z"
   },
   {
    "duration": 73,
    "start_time": "2023-07-04T06:28:41.216Z"
   },
   {
    "duration": 16,
    "start_time": "2023-07-04T06:28:41.292Z"
   },
   {
    "duration": 6,
    "start_time": "2023-07-04T06:28:41.310Z"
   },
   {
    "duration": 25,
    "start_time": "2023-07-04T06:28:41.318Z"
   },
   {
    "duration": 58,
    "start_time": "2023-07-04T06:28:41.344Z"
   },
   {
    "duration": 18,
    "start_time": "2023-07-04T06:28:41.404Z"
   },
   {
    "duration": 4,
    "start_time": "2023-07-04T06:28:41.424Z"
   },
   {
    "duration": 28,
    "start_time": "2023-07-04T06:28:41.429Z"
   },
   {
    "duration": 29,
    "start_time": "2023-07-04T06:28:41.459Z"
   },
   {
    "duration": 7,
    "start_time": "2023-07-04T06:28:41.489Z"
   },
   {
    "duration": 19,
    "start_time": "2023-07-04T06:28:41.498Z"
   },
   {
    "duration": 17,
    "start_time": "2023-07-04T06:28:41.519Z"
   },
   {
    "duration": 92,
    "start_time": "2023-07-04T06:28:45.645Z"
   },
   {
    "duration": 76,
    "start_time": "2023-07-04T06:28:47.213Z"
   },
   {
    "duration": 1047,
    "start_time": "2023-07-04T06:29:14.070Z"
   },
   {
    "duration": 108,
    "start_time": "2023-07-04T06:29:16.904Z"
   },
   {
    "duration": 4,
    "start_time": "2023-07-04T06:29:37.746Z"
   },
   {
    "duration": 177,
    "start_time": "2023-07-04T06:29:39.467Z"
   },
   {
    "duration": 5,
    "start_time": "2023-07-04T06:31:18.297Z"
   },
   {
    "duration": 253,
    "start_time": "2023-07-04T06:31:19.777Z"
   },
   {
    "duration": 10,
    "start_time": "2023-07-04T06:31:58.976Z"
   },
   {
    "duration": 235,
    "start_time": "2023-07-04T06:31:59.905Z"
   },
   {
    "duration": 5,
    "start_time": "2023-07-04T06:40:18.406Z"
   },
   {
    "duration": 204,
    "start_time": "2023-07-04T06:40:20.054Z"
   },
   {
    "duration": 4,
    "start_time": "2023-07-04T06:40:45.409Z"
   },
   {
    "duration": 186,
    "start_time": "2023-07-04T06:40:45.933Z"
   },
   {
    "duration": 5,
    "start_time": "2023-07-04T06:40:51.734Z"
   },
   {
    "duration": 262,
    "start_time": "2023-07-04T06:40:52.260Z"
   },
   {
    "duration": 6,
    "start_time": "2023-07-04T06:40:59.806Z"
   },
   {
    "duration": 197,
    "start_time": "2023-07-04T06:41:00.598Z"
   },
   {
    "duration": 2154,
    "start_time": "2023-07-04T06:42:20.202Z"
   },
   {
    "duration": 38,
    "start_time": "2023-07-04T06:42:22.367Z"
   },
   {
    "duration": 35,
    "start_time": "2023-07-04T06:42:22.407Z"
   },
   {
    "duration": 29,
    "start_time": "2023-07-04T06:42:22.445Z"
   },
   {
    "duration": 83,
    "start_time": "2023-07-04T06:42:22.476Z"
   },
   {
    "duration": 8,
    "start_time": "2023-07-04T06:42:22.568Z"
   },
   {
    "duration": 37,
    "start_time": "2023-07-04T06:42:22.578Z"
   },
   {
    "duration": 27,
    "start_time": "2023-07-04T06:42:22.617Z"
   },
   {
    "duration": 64,
    "start_time": "2023-07-04T06:42:22.646Z"
   },
   {
    "duration": 27,
    "start_time": "2023-07-04T06:42:22.712Z"
   },
   {
    "duration": 97,
    "start_time": "2023-07-04T06:42:22.741Z"
   },
   {
    "duration": 21,
    "start_time": "2023-07-04T06:42:22.843Z"
   },
   {
    "duration": 32,
    "start_time": "2023-07-04T06:42:22.868Z"
   },
   {
    "duration": 35,
    "start_time": "2023-07-04T06:42:22.903Z"
   },
   {
    "duration": 40,
    "start_time": "2023-07-04T06:42:22.940Z"
   },
   {
    "duration": 23,
    "start_time": "2023-07-04T06:42:22.982Z"
   },
   {
    "duration": 29,
    "start_time": "2023-07-04T06:42:23.007Z"
   },
   {
    "duration": 56,
    "start_time": "2023-07-04T06:42:23.037Z"
   },
   {
    "duration": 35,
    "start_time": "2023-07-04T06:42:23.095Z"
   },
   {
    "duration": 45,
    "start_time": "2023-07-04T06:42:23.132Z"
   },
   {
    "duration": 31,
    "start_time": "2023-07-04T06:42:23.178Z"
   },
   {
    "duration": 41,
    "start_time": "2023-07-04T06:42:23.211Z"
   },
   {
    "duration": 1867,
    "start_time": "2023-07-04T06:42:23.254Z"
   },
   {
    "duration": 244,
    "start_time": "2023-07-04T06:42:25.123Z"
   },
   {
    "duration": 25,
    "start_time": "2023-07-04T06:42:25.371Z"
   },
   {
    "duration": 23,
    "start_time": "2023-07-04T06:42:25.399Z"
   },
   {
    "duration": 49,
    "start_time": "2023-07-04T06:42:25.423Z"
   },
   {
    "duration": 53,
    "start_time": "2023-07-04T06:42:25.474Z"
   },
   {
    "duration": 49,
    "start_time": "2023-07-04T06:42:25.530Z"
   },
   {
    "duration": 37,
    "start_time": "2023-07-04T06:42:25.588Z"
   },
   {
    "duration": 51,
    "start_time": "2023-07-04T06:42:25.627Z"
   },
   {
    "duration": 23,
    "start_time": "2023-07-04T06:42:25.680Z"
   },
   {
    "duration": 32,
    "start_time": "2023-07-04T06:42:25.706Z"
   },
   {
    "duration": 45,
    "start_time": "2023-07-04T06:42:25.740Z"
   },
   {
    "duration": 17,
    "start_time": "2023-07-04T06:42:25.786Z"
   },
   {
    "duration": 38,
    "start_time": "2023-07-04T06:42:25.805Z"
   },
   {
    "duration": 29,
    "start_time": "2023-07-04T06:42:25.845Z"
   },
   {
    "duration": 1883,
    "start_time": "2023-07-04T06:42:25.876Z"
   },
   {
    "duration": 24,
    "start_time": "2023-07-04T06:42:27.761Z"
   },
   {
    "duration": 13,
    "start_time": "2023-07-04T06:42:27.790Z"
   },
   {
    "duration": 109,
    "start_time": "2023-07-04T06:44:20.635Z"
   },
   {
    "duration": 8,
    "start_time": "2023-07-04T06:44:35.673Z"
   },
   {
    "duration": 344,
    "start_time": "2023-07-04T06:44:37.482Z"
   },
   {
    "duration": 389,
    "start_time": "2023-07-04T06:44:42.331Z"
   },
   {
    "duration": 12,
    "start_time": "2023-07-04T06:46:09.450Z"
   },
   {
    "duration": 259,
    "start_time": "2023-07-04T06:46:09.464Z"
   },
   {
    "duration": 7,
    "start_time": "2023-07-04T06:49:21.618Z"
   },
   {
    "duration": 5,
    "start_time": "2023-07-04T06:49:41.106Z"
   },
   {
    "duration": 270,
    "start_time": "2023-07-04T06:49:42.279Z"
   },
   {
    "duration": 31,
    "start_time": "2023-07-04T06:49:48.979Z"
   },
   {
    "duration": 22,
    "start_time": "2023-07-04T06:49:49.883Z"
   },
   {
    "duration": 31,
    "start_time": "2023-07-04T06:49:51.033Z"
   },
   {
    "duration": 271,
    "start_time": "2023-07-04T06:49:53.323Z"
   },
   {
    "duration": 6,
    "start_time": "2023-07-04T06:50:48.231Z"
   },
   {
    "duration": 307,
    "start_time": "2023-07-04T06:50:52.067Z"
   },
   {
    "duration": 6,
    "start_time": "2023-07-04T06:50:59.930Z"
   },
   {
    "duration": 256,
    "start_time": "2023-07-04T06:51:00.604Z"
   },
   {
    "duration": 6,
    "start_time": "2023-07-04T06:51:45.371Z"
   },
   {
    "duration": 287,
    "start_time": "2023-07-04T06:51:46.137Z"
   },
   {
    "duration": 19,
    "start_time": "2023-07-04T06:51:57.479Z"
   },
   {
    "duration": 253,
    "start_time": "2023-07-04T06:51:58.083Z"
   },
   {
    "duration": 6,
    "start_time": "2023-07-04T06:56:05.112Z"
   },
   {
    "duration": 299,
    "start_time": "2023-07-04T06:56:06.007Z"
   },
   {
    "duration": 7,
    "start_time": "2023-07-04T06:57:48.733Z"
   },
   {
    "duration": 294,
    "start_time": "2023-07-04T06:57:49.333Z"
   },
   {
    "duration": 323,
    "start_time": "2023-07-04T06:57:56.511Z"
   },
   {
    "duration": 134,
    "start_time": "2023-07-04T06:58:03.659Z"
   },
   {
    "duration": 149,
    "start_time": "2023-07-04T06:58:19.711Z"
   },
   {
    "duration": 110,
    "start_time": "2023-07-04T06:58:29.486Z"
   },
   {
    "duration": 4,
    "start_time": "2023-07-04T07:05:19.412Z"
   },
   {
    "duration": 228,
    "start_time": "2023-07-04T07:05:21.579Z"
   },
   {
    "duration": 6,
    "start_time": "2023-07-04T07:09:11.649Z"
   },
   {
    "duration": 365,
    "start_time": "2023-07-04T07:09:12.402Z"
   },
   {
    "duration": 250,
    "start_time": "2023-07-04T07:09:20.592Z"
   },
   {
    "duration": 416,
    "start_time": "2023-07-04T07:15:22.240Z"
   },
   {
    "duration": 317,
    "start_time": "2023-07-04T07:15:52.928Z"
   },
   {
    "duration": 199,
    "start_time": "2023-07-04T07:19:03.312Z"
   },
   {
    "duration": 281,
    "start_time": "2023-07-04T07:19:56.035Z"
   },
   {
    "duration": 566,
    "start_time": "2023-07-05T12:35:51.630Z"
   },
   {
    "duration": 26,
    "start_time": "2023-07-05T12:35:52.198Z"
   },
   {
    "duration": 23,
    "start_time": "2023-07-05T12:35:52.226Z"
   },
   {
    "duration": 11,
    "start_time": "2023-07-05T12:35:52.251Z"
   },
   {
    "duration": 43,
    "start_time": "2023-07-05T12:35:52.263Z"
   },
   {
    "duration": 4,
    "start_time": "2023-07-05T12:35:52.308Z"
   },
   {
    "duration": 18,
    "start_time": "2023-07-05T12:35:52.314Z"
   },
   {
    "duration": 5,
    "start_time": "2023-07-05T12:35:52.334Z"
   },
   {
    "duration": 22,
    "start_time": "2023-07-05T12:35:52.340Z"
   },
   {
    "duration": 4,
    "start_time": "2023-07-05T12:35:52.371Z"
   },
   {
    "duration": 37,
    "start_time": "2023-07-05T12:35:52.377Z"
   },
   {
    "duration": 13,
    "start_time": "2023-07-05T12:35:52.416Z"
   },
   {
    "duration": 4,
    "start_time": "2023-07-05T12:35:52.431Z"
   },
   {
    "duration": 42,
    "start_time": "2023-07-05T12:35:52.437Z"
   },
   {
    "duration": 23,
    "start_time": "2023-07-05T12:35:52.480Z"
   },
   {
    "duration": 18,
    "start_time": "2023-07-05T12:35:52.505Z"
   },
   {
    "duration": 4,
    "start_time": "2023-07-05T12:35:52.524Z"
   },
   {
    "duration": 11,
    "start_time": "2023-07-05T12:35:52.530Z"
   },
   {
    "duration": 26,
    "start_time": "2023-07-05T12:35:52.543Z"
   },
   {
    "duration": 5,
    "start_time": "2023-07-05T12:35:52.570Z"
   },
   {
    "duration": 19,
    "start_time": "2023-07-05T12:35:52.577Z"
   },
   {
    "duration": 10,
    "start_time": "2023-07-05T12:35:52.598Z"
   },
   {
    "duration": 1012,
    "start_time": "2023-07-05T12:35:52.610Z"
   },
   {
    "duration": 227,
    "start_time": "2023-07-05T12:35:53.624Z"
   },
   {
    "duration": 133,
    "start_time": "2023-07-05T12:35:53.853Z"
   },
   {
    "duration": 0,
    "start_time": "2023-07-05T12:35:53.988Z"
   },
   {
    "duration": 0,
    "start_time": "2023-07-05T12:35:53.990Z"
   },
   {
    "duration": 0,
    "start_time": "2023-07-05T12:35:53.991Z"
   },
   {
    "duration": 0,
    "start_time": "2023-07-05T12:35:53.993Z"
   },
   {
    "duration": 0,
    "start_time": "2023-07-05T12:35:53.994Z"
   },
   {
    "duration": 0,
    "start_time": "2023-07-05T12:35:53.995Z"
   },
   {
    "duration": 0,
    "start_time": "2023-07-05T12:35:53.996Z"
   },
   {
    "duration": 563,
    "start_time": "2023-07-05T12:36:13.629Z"
   },
   {
    "duration": 24,
    "start_time": "2023-07-05T12:36:14.194Z"
   },
   {
    "duration": 15,
    "start_time": "2023-07-05T12:36:14.220Z"
   },
   {
    "duration": 34,
    "start_time": "2023-07-05T12:36:14.237Z"
   },
   {
    "duration": 56,
    "start_time": "2023-07-05T12:36:14.273Z"
   },
   {
    "duration": 4,
    "start_time": "2023-07-05T12:36:14.331Z"
   },
   {
    "duration": 16,
    "start_time": "2023-07-05T12:36:14.336Z"
   },
   {
    "duration": 4,
    "start_time": "2023-07-05T12:36:14.354Z"
   },
   {
    "duration": 16,
    "start_time": "2023-07-05T12:36:14.359Z"
   },
   {
    "duration": 9,
    "start_time": "2023-07-05T12:36:14.378Z"
   },
   {
    "duration": 38,
    "start_time": "2023-07-05T12:36:14.389Z"
   },
   {
    "duration": 10,
    "start_time": "2023-07-05T12:36:14.429Z"
   },
   {
    "duration": 5,
    "start_time": "2023-07-05T12:36:14.441Z"
   },
   {
    "duration": 27,
    "start_time": "2023-07-05T12:36:14.448Z"
   },
   {
    "duration": 22,
    "start_time": "2023-07-05T12:36:14.477Z"
   },
   {
    "duration": 19,
    "start_time": "2023-07-05T12:36:14.501Z"
   },
   {
    "duration": 4,
    "start_time": "2023-07-05T12:36:14.522Z"
   },
   {
    "duration": 13,
    "start_time": "2023-07-05T12:36:14.528Z"
   },
   {
    "duration": 27,
    "start_time": "2023-07-05T12:36:14.543Z"
   },
   {
    "duration": 7,
    "start_time": "2023-07-05T12:36:14.572Z"
   },
   {
    "duration": 26,
    "start_time": "2023-07-05T12:36:14.581Z"
   },
   {
    "duration": 6,
    "start_time": "2023-07-05T12:36:14.609Z"
   },
   {
    "duration": 892,
    "start_time": "2023-07-05T12:36:14.616Z"
   },
   {
    "duration": 227,
    "start_time": "2023-07-05T12:36:15.510Z"
   },
   {
    "duration": 109,
    "start_time": "2023-07-05T12:36:15.739Z"
   },
   {
    "duration": 0,
    "start_time": "2023-07-05T12:36:15.850Z"
   },
   {
    "duration": 0,
    "start_time": "2023-07-05T12:36:15.851Z"
   },
   {
    "duration": 0,
    "start_time": "2023-07-05T12:36:15.853Z"
   },
   {
    "duration": 0,
    "start_time": "2023-07-05T12:36:15.867Z"
   },
   {
    "duration": 0,
    "start_time": "2023-07-05T12:36:15.868Z"
   },
   {
    "duration": 0,
    "start_time": "2023-07-05T12:36:15.870Z"
   },
   {
    "duration": 0,
    "start_time": "2023-07-05T12:36:15.871Z"
   },
   {
    "duration": 2,
    "start_time": "2023-07-05T12:36:44.905Z"
   },
   {
    "duration": 215,
    "start_time": "2023-07-05T12:36:49.798Z"
   },
   {
    "duration": 195,
    "start_time": "2023-07-05T12:36:52.298Z"
   },
   {
    "duration": 213,
    "start_time": "2023-07-05T12:36:53.661Z"
   },
   {
    "duration": 4,
    "start_time": "2023-07-05T12:36:57.426Z"
   },
   {
    "duration": 603,
    "start_time": "2023-07-05T12:36:57.941Z"
   },
   {
    "duration": 18,
    "start_time": "2023-07-05T12:36:59.084Z"
   },
   {
    "duration": 12,
    "start_time": "2023-07-05T12:36:59.305Z"
   },
   {
    "duration": 6,
    "start_time": "2023-07-05T12:42:57.486Z"
   },
   {
    "duration": 6,
    "start_time": "2023-07-05T12:44:04.137Z"
   },
   {
    "duration": 7,
    "start_time": "2023-07-05T12:44:16.763Z"
   },
   {
    "duration": 5,
    "start_time": "2023-07-05T12:44:26.167Z"
   },
   {
    "duration": 7,
    "start_time": "2023-07-05T12:45:51.544Z"
   },
   {
    "duration": 5,
    "start_time": "2023-07-05T12:46:18.141Z"
   },
   {
    "duration": 6,
    "start_time": "2023-07-05T15:15:10.411Z"
   },
   {
    "duration": 477,
    "start_time": "2023-07-05T15:16:02.296Z"
   },
   {
    "duration": 25,
    "start_time": "2023-07-05T15:16:02.775Z"
   },
   {
    "duration": 19,
    "start_time": "2023-07-05T15:16:02.801Z"
   },
   {
    "duration": 39,
    "start_time": "2023-07-05T15:16:02.823Z"
   },
   {
    "duration": 476,
    "start_time": "2023-07-05T16:15:56.734Z"
   },
   {
    "duration": 23,
    "start_time": "2023-07-05T16:15:57.212Z"
   },
   {
    "duration": 14,
    "start_time": "2023-07-05T16:15:57.236Z"
   },
   {
    "duration": 29,
    "start_time": "2023-07-05T16:15:57.252Z"
   },
   {
    "duration": 9,
    "start_time": "2023-07-05T16:15:57.284Z"
   },
   {
    "duration": 45,
    "start_time": "2023-07-05T16:15:57.295Z"
   },
   {
    "duration": 4,
    "start_time": "2023-07-05T16:15:57.342Z"
   },
   {
    "duration": 24,
    "start_time": "2023-07-05T16:15:57.347Z"
   },
   {
    "duration": 8,
    "start_time": "2023-07-05T16:15:57.373Z"
   },
   {
    "duration": 8,
    "start_time": "2023-07-05T16:15:57.383Z"
   },
   {
    "duration": 8,
    "start_time": "2023-07-05T16:15:57.392Z"
   },
   {
    "duration": 35,
    "start_time": "2023-07-05T16:15:57.402Z"
   },
   {
    "duration": 9,
    "start_time": "2023-07-05T16:15:57.438Z"
   },
   {
    "duration": 13,
    "start_time": "2023-07-05T16:15:57.470Z"
   },
   {
    "duration": 13,
    "start_time": "2023-07-05T16:15:57.485Z"
   },
   {
    "duration": 21,
    "start_time": "2023-07-05T16:15:57.500Z"
   },
   {
    "duration": 18,
    "start_time": "2023-07-05T16:15:57.522Z"
   },
   {
    "duration": 4,
    "start_time": "2023-07-05T16:15:57.542Z"
   },
   {
    "duration": 18,
    "start_time": "2023-07-05T16:15:57.568Z"
   },
   {
    "duration": 9,
    "start_time": "2023-07-05T16:15:57.588Z"
   },
   {
    "duration": 8,
    "start_time": "2023-07-05T16:15:57.598Z"
   },
   {
    "duration": 16,
    "start_time": "2023-07-05T16:15:57.608Z"
   },
   {
    "duration": 10,
    "start_time": "2023-07-05T16:15:57.625Z"
   },
   {
    "duration": 5,
    "start_time": "2023-07-05T16:15:57.637Z"
   },
   {
    "duration": 845,
    "start_time": "2023-07-05T16:15:57.644Z"
   },
   {
    "duration": 233,
    "start_time": "2023-07-05T16:15:58.490Z"
   },
   {
    "duration": 223,
    "start_time": "2023-07-05T16:15:58.724Z"
   },
   {
    "duration": 203,
    "start_time": "2023-07-05T16:15:58.949Z"
   },
   {
    "duration": 197,
    "start_time": "2023-07-05T16:15:59.154Z"
   },
   {
    "duration": 4,
    "start_time": "2023-07-05T16:15:59.353Z"
   },
   {
    "duration": 612,
    "start_time": "2023-07-05T16:15:59.368Z"
   },
   {
    "duration": 17,
    "start_time": "2023-07-05T16:15:59.982Z"
   },
   {
    "duration": 11,
    "start_time": "2023-07-05T16:16:00.000Z"
   },
   {
    "duration": 545,
    "start_time": "2023-07-05T17:33:27.833Z"
   },
   {
    "duration": 24,
    "start_time": "2023-07-05T17:33:28.381Z"
   },
   {
    "duration": 16,
    "start_time": "2023-07-05T17:33:28.407Z"
   },
   {
    "duration": 21,
    "start_time": "2023-07-05T17:33:28.425Z"
   },
   {
    "duration": 14,
    "start_time": "2023-07-05T17:33:28.447Z"
   },
   {
    "duration": 48,
    "start_time": "2023-07-05T17:33:28.463Z"
   },
   {
    "duration": 3,
    "start_time": "2023-07-05T17:33:28.513Z"
   },
   {
    "duration": 15,
    "start_time": "2023-07-05T17:33:28.518Z"
   },
   {
    "duration": 8,
    "start_time": "2023-07-05T17:33:28.534Z"
   },
   {
    "duration": 7,
    "start_time": "2023-07-05T17:33:28.546Z"
   },
   {
    "duration": 13,
    "start_time": "2023-07-05T17:33:28.555Z"
   },
   {
    "duration": 39,
    "start_time": "2023-07-05T17:33:28.570Z"
   },
   {
    "duration": 10,
    "start_time": "2023-07-05T17:33:28.611Z"
   },
   {
    "duration": 3,
    "start_time": "2023-07-05T17:33:28.623Z"
   },
   {
    "duration": 15,
    "start_time": "2023-07-05T17:33:28.628Z"
   },
   {
    "duration": 45,
    "start_time": "2023-07-05T17:33:28.645Z"
   },
   {
    "duration": 19,
    "start_time": "2023-07-05T17:33:28.692Z"
   },
   {
    "duration": 4,
    "start_time": "2023-07-05T17:33:28.713Z"
   },
   {
    "duration": 11,
    "start_time": "2023-07-05T17:33:28.720Z"
   },
   {
    "duration": 39,
    "start_time": "2023-07-05T17:33:28.733Z"
   },
   {
    "duration": 4,
    "start_time": "2023-07-05T17:33:28.779Z"
   },
   {
    "duration": 10,
    "start_time": "2023-07-05T17:33:28.785Z"
   },
   {
    "duration": 22,
    "start_time": "2023-07-05T17:33:28.796Z"
   },
   {
    "duration": 12,
    "start_time": "2023-07-05T17:33:28.820Z"
   },
   {
    "duration": 815,
    "start_time": "2023-07-05T17:33:28.833Z"
   },
   {
    "duration": 228,
    "start_time": "2023-07-05T17:33:29.650Z"
   },
   {
    "duration": 222,
    "start_time": "2023-07-05T17:33:29.881Z"
   },
   {
    "duration": 207,
    "start_time": "2023-07-05T17:33:30.106Z"
   },
   {
    "duration": 213,
    "start_time": "2023-07-05T17:33:30.315Z"
   },
   {
    "duration": 4,
    "start_time": "2023-07-05T17:33:30.530Z"
   },
   {
    "duration": 796,
    "start_time": "2023-07-05T17:33:30.536Z"
   },
   {
    "duration": 15,
    "start_time": "2023-07-05T17:33:31.334Z"
   },
   {
    "duration": 44,
    "start_time": "2023-07-05T17:33:31.351Z"
   },
   {
    "duration": 473,
    "start_time": "2023-07-05T19:38:18.410Z"
   },
   {
    "duration": 523,
    "start_time": "2023-07-05T19:38:43.241Z"
   },
   {
    "duration": 37,
    "start_time": "2023-07-05T19:38:43.767Z"
   },
   {
    "duration": 17,
    "start_time": "2023-07-05T19:38:43.806Z"
   },
   {
    "duration": 6,
    "start_time": "2023-07-05T19:38:43.825Z"
   },
   {
    "duration": 41,
    "start_time": "2023-07-05T19:38:43.834Z"
   },
   {
    "duration": 59,
    "start_time": "2023-07-05T19:38:43.877Z"
   },
   {
    "duration": 5,
    "start_time": "2023-07-05T19:38:43.939Z"
   },
   {
    "duration": 12,
    "start_time": "2023-07-05T19:38:43.946Z"
   },
   {
    "duration": 6,
    "start_time": "2023-07-05T19:38:43.967Z"
   },
   {
    "duration": 12,
    "start_time": "2023-07-05T19:38:43.975Z"
   },
   {
    "duration": 6,
    "start_time": "2023-07-05T19:38:43.989Z"
   },
   {
    "duration": 48,
    "start_time": "2023-07-05T19:38:43.997Z"
   },
   {
    "duration": 50,
    "start_time": "2023-07-05T19:38:44.047Z"
   },
   {
    "duration": 5,
    "start_time": "2023-07-05T19:38:44.101Z"
   },
   {
    "duration": 17,
    "start_time": "2023-07-05T19:38:44.109Z"
   },
   {
    "duration": 26,
    "start_time": "2023-07-05T19:38:44.129Z"
   },
   {
    "duration": 24,
    "start_time": "2023-07-05T19:38:44.168Z"
   },
   {
    "duration": 4,
    "start_time": "2023-07-05T19:38:44.195Z"
   },
   {
    "duration": 37,
    "start_time": "2023-07-05T19:38:44.202Z"
   },
   {
    "duration": 35,
    "start_time": "2023-07-05T19:38:44.241Z"
   },
   {
    "duration": 7,
    "start_time": "2023-07-05T19:38:44.278Z"
   },
   {
    "duration": 57,
    "start_time": "2023-07-05T19:38:44.286Z"
   },
   {
    "duration": 48,
    "start_time": "2023-07-05T19:38:44.345Z"
   },
   {
    "duration": 7,
    "start_time": "2023-07-05T19:38:44.396Z"
   },
   {
    "duration": 1370,
    "start_time": "2023-07-05T19:38:44.405Z"
   },
   {
    "duration": 6,
    "start_time": "2023-07-05T19:38:45.777Z"
   },
   {
    "duration": 255,
    "start_time": "2023-07-05T19:38:45.785Z"
   },
   {
    "duration": 231,
    "start_time": "2023-07-05T19:38:46.044Z"
   },
   {
    "duration": 229,
    "start_time": "2023-07-05T19:38:46.277Z"
   },
   {
    "duration": 227,
    "start_time": "2023-07-05T19:38:46.508Z"
   },
   {
    "duration": 5,
    "start_time": "2023-07-05T19:38:46.737Z"
   },
   {
    "duration": 966,
    "start_time": "2023-07-05T19:38:46.744Z"
   },
   {
    "duration": 22,
    "start_time": "2023-07-05T19:38:47.712Z"
   },
   {
    "duration": 17,
    "start_time": "2023-07-05T19:38:47.766Z"
   },
   {
    "duration": 519,
    "start_time": "2023-07-05T20:13:06.614Z"
   },
   {
    "duration": 24,
    "start_time": "2023-07-05T20:13:07.135Z"
   },
   {
    "duration": 16,
    "start_time": "2023-07-05T20:13:07.161Z"
   },
   {
    "duration": 7,
    "start_time": "2023-07-05T20:13:07.180Z"
   },
   {
    "duration": 15,
    "start_time": "2023-07-05T20:13:07.189Z"
   },
   {
    "duration": 70,
    "start_time": "2023-07-05T20:13:07.206Z"
   },
   {
    "duration": 5,
    "start_time": "2023-07-05T20:13:07.278Z"
   },
   {
    "duration": 25,
    "start_time": "2023-07-05T20:13:07.286Z"
   },
   {
    "duration": 5,
    "start_time": "2023-07-05T20:13:07.313Z"
   },
   {
    "duration": 9,
    "start_time": "2023-07-05T20:13:07.320Z"
   },
   {
    "duration": 4,
    "start_time": "2023-07-05T20:13:07.332Z"
   },
   {
    "duration": 73,
    "start_time": "2023-07-05T20:13:07.338Z"
   },
   {
    "duration": 10,
    "start_time": "2023-07-05T20:13:07.413Z"
   },
   {
    "duration": 4,
    "start_time": "2023-07-05T20:13:07.424Z"
   },
   {
    "duration": 11,
    "start_time": "2023-07-05T20:13:07.430Z"
   },
   {
    "duration": 43,
    "start_time": "2023-07-05T20:13:07.442Z"
   },
   {
    "duration": 25,
    "start_time": "2023-07-05T20:13:07.487Z"
   },
   {
    "duration": 4,
    "start_time": "2023-07-05T20:13:07.514Z"
   },
   {
    "duration": 31,
    "start_time": "2023-07-05T20:13:07.520Z"
   },
   {
    "duration": 18,
    "start_time": "2023-07-05T20:13:07.553Z"
   },
   {
    "duration": 18,
    "start_time": "2023-07-05T20:13:07.574Z"
   },
   {
    "duration": 17,
    "start_time": "2023-07-05T20:13:07.596Z"
   },
   {
    "duration": 5,
    "start_time": "2023-07-05T20:13:07.615Z"
   },
   {
    "duration": 10,
    "start_time": "2023-07-05T20:13:07.622Z"
   },
   {
    "duration": 1318,
    "start_time": "2023-07-05T20:13:07.634Z"
   },
   {
    "duration": 153,
    "start_time": "2023-07-05T20:13:08.954Z"
   },
   {
    "duration": 0,
    "start_time": "2023-07-05T20:13:09.109Z"
   },
   {
    "duration": 0,
    "start_time": "2023-07-05T20:13:09.110Z"
   },
   {
    "duration": 0,
    "start_time": "2023-07-05T20:13:09.112Z"
   },
   {
    "duration": 0,
    "start_time": "2023-07-05T20:13:09.114Z"
   },
   {
    "duration": 0,
    "start_time": "2023-07-05T20:13:09.115Z"
   },
   {
    "duration": 0,
    "start_time": "2023-07-05T20:13:09.117Z"
   },
   {
    "duration": 0,
    "start_time": "2023-07-05T20:13:09.119Z"
   },
   {
    "duration": 0,
    "start_time": "2023-07-05T20:13:09.121Z"
   },
   {
    "duration": 549,
    "start_time": "2023-07-05T20:13:31.680Z"
   },
   {
    "duration": 30,
    "start_time": "2023-07-05T20:13:32.232Z"
   },
   {
    "duration": 31,
    "start_time": "2023-07-05T20:13:32.268Z"
   },
   {
    "duration": 43,
    "start_time": "2023-07-05T20:13:32.302Z"
   },
   {
    "duration": 51,
    "start_time": "2023-07-05T20:13:32.347Z"
   },
   {
    "duration": 48,
    "start_time": "2023-07-05T20:13:32.402Z"
   },
   {
    "duration": 4,
    "start_time": "2023-07-05T20:13:32.452Z"
   },
   {
    "duration": 30,
    "start_time": "2023-07-05T20:13:32.458Z"
   },
   {
    "duration": 12,
    "start_time": "2023-07-05T20:13:32.490Z"
   },
   {
    "duration": 8,
    "start_time": "2023-07-05T20:13:32.507Z"
   },
   {
    "duration": 12,
    "start_time": "2023-07-05T20:13:32.517Z"
   },
   {
    "duration": 65,
    "start_time": "2023-07-05T20:13:32.531Z"
   },
   {
    "duration": 17,
    "start_time": "2023-07-05T20:13:32.599Z"
   },
   {
    "duration": 6,
    "start_time": "2023-07-05T20:13:32.619Z"
   },
   {
    "duration": 41,
    "start_time": "2023-07-05T20:13:32.627Z"
   },
   {
    "duration": 23,
    "start_time": "2023-07-05T20:13:32.669Z"
   },
   {
    "duration": 23,
    "start_time": "2023-07-05T20:13:32.694Z"
   },
   {
    "duration": 4,
    "start_time": "2023-07-05T20:13:32.719Z"
   },
   {
    "duration": 35,
    "start_time": "2023-07-05T20:13:32.724Z"
   },
   {
    "duration": 63,
    "start_time": "2023-07-05T20:13:32.761Z"
   },
   {
    "duration": 20,
    "start_time": "2023-07-05T20:13:32.826Z"
   },
   {
    "duration": 48,
    "start_time": "2023-07-05T20:13:32.848Z"
   },
   {
    "duration": 19,
    "start_time": "2023-07-05T20:13:32.898Z"
   },
   {
    "duration": 9,
    "start_time": "2023-07-05T20:13:32.919Z"
   },
   {
    "duration": 1297,
    "start_time": "2023-07-05T20:13:32.930Z"
   },
   {
    "duration": 7,
    "start_time": "2023-07-05T20:13:34.229Z"
   },
   {
    "duration": 241,
    "start_time": "2023-07-05T20:13:34.239Z"
   },
   {
    "duration": 229,
    "start_time": "2023-07-05T20:13:34.484Z"
   },
   {
    "duration": 241,
    "start_time": "2023-07-05T20:13:34.715Z"
   },
   {
    "duration": 229,
    "start_time": "2023-07-05T20:13:34.958Z"
   },
   {
    "duration": 5,
    "start_time": "2023-07-05T20:13:35.189Z"
   },
   {
    "duration": 772,
    "start_time": "2023-07-05T20:13:35.196Z"
   },
   {
    "duration": 26,
    "start_time": "2023-07-05T20:13:35.970Z"
   },
   {
    "duration": 11,
    "start_time": "2023-07-05T20:13:35.998Z"
   },
   {
    "duration": 672,
    "start_time": "2023-07-15T13:15:19.967Z"
   },
   {
    "duration": 13,
    "start_time": "2023-07-15T13:15:22.618Z"
   },
   {
    "duration": 72,
    "start_time": "2023-07-15T13:15:54.411Z"
   },
   {
    "duration": 17,
    "start_time": "2023-07-15T13:15:55.551Z"
   },
   {
    "duration": 503,
    "start_time": "2023-07-15T13:32:25.150Z"
   },
   {
    "duration": 24,
    "start_time": "2023-07-15T13:32:25.656Z"
   },
   {
    "duration": 25,
    "start_time": "2023-07-15T13:32:25.681Z"
   },
   {
    "duration": 6,
    "start_time": "2023-07-15T13:32:25.708Z"
   },
   {
    "duration": 32,
    "start_time": "2023-07-15T13:32:25.716Z"
   },
   {
    "duration": 38,
    "start_time": "2023-07-15T13:32:25.750Z"
   },
   {
    "duration": 4,
    "start_time": "2023-07-15T13:32:25.789Z"
   },
   {
    "duration": 15,
    "start_time": "2023-07-15T13:32:25.794Z"
   },
   {
    "duration": 5,
    "start_time": "2023-07-15T13:32:25.811Z"
   },
   {
    "duration": 45,
    "start_time": "2023-07-15T13:32:25.819Z"
   },
   {
    "duration": 20,
    "start_time": "2023-07-15T13:32:25.866Z"
   },
   {
    "duration": 52,
    "start_time": "2023-07-15T13:32:25.887Z"
   },
   {
    "duration": 22,
    "start_time": "2023-07-15T13:32:25.941Z"
   },
   {
    "duration": 13,
    "start_time": "2023-07-15T13:32:25.967Z"
   },
   {
    "duration": 22,
    "start_time": "2023-07-15T13:32:25.982Z"
   },
   {
    "duration": 24,
    "start_time": "2023-07-15T13:32:26.006Z"
   },
   {
    "duration": 31,
    "start_time": "2023-07-15T13:32:26.032Z"
   },
   {
    "duration": 8,
    "start_time": "2023-07-15T13:32:26.065Z"
   },
   {
    "duration": 17,
    "start_time": "2023-07-15T13:32:26.074Z"
   },
   {
    "duration": 9,
    "start_time": "2023-07-15T13:32:26.093Z"
   },
   {
    "duration": 21,
    "start_time": "2023-07-15T13:32:26.103Z"
   },
   {
    "duration": 17,
    "start_time": "2023-07-15T13:32:26.126Z"
   },
   {
    "duration": 39,
    "start_time": "2023-07-15T13:32:26.145Z"
   },
   {
    "duration": 10,
    "start_time": "2023-07-15T13:32:26.185Z"
   },
   {
    "duration": 1163,
    "start_time": "2023-07-15T13:32:26.196Z"
   },
   {
    "duration": 4,
    "start_time": "2023-07-15T13:32:27.361Z"
   },
   {
    "duration": 233,
    "start_time": "2023-07-15T13:32:27.366Z"
   },
   {
    "duration": 223,
    "start_time": "2023-07-15T13:32:27.600Z"
   },
   {
    "duration": 199,
    "start_time": "2023-07-15T13:32:27.824Z"
   },
   {
    "duration": 190,
    "start_time": "2023-07-15T13:32:28.024Z"
   },
   {
    "duration": 4,
    "start_time": "2023-07-15T13:32:28.215Z"
   },
   {
    "duration": 569,
    "start_time": "2023-07-15T13:32:28.220Z"
   },
   {
    "duration": 14,
    "start_time": "2023-07-15T13:32:28.791Z"
   },
   {
    "duration": 25,
    "start_time": "2023-07-15T13:32:28.806Z"
   }
  ],
  "colab": {
   "name": "dpp_template_part2.ipynb",
   "provenance": []
  },
  "kernelspec": {
   "display_name": "Python 3 (ipykernel)",
   "language": "python",
   "name": "python3"
  },
  "language_info": {
   "codemirror_mode": {
    "name": "ipython",
    "version": 3
   },
   "file_extension": ".py",
   "mimetype": "text/x-python",
   "name": "python",
   "nbconvert_exporter": "python",
   "pygments_lexer": "ipython3",
   "version": "3.10.5"
  },
  "toc": {
   "base_numbering": 1,
   "nav_menu": {
    "height": "345px",
    "width": "852px"
   },
   "number_sections": true,
   "sideBar": true,
   "skip_h1_title": true,
   "title_cell": "Table of Contents",
   "title_sidebar": "Contents",
   "toc_cell": false,
   "toc_position": {},
   "toc_section_display": true,
   "toc_window_display": false
  }
 },
 "nbformat": 4,
 "nbformat_minor": 5
}
